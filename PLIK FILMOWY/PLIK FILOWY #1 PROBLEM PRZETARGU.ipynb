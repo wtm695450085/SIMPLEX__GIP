{
 "cells": [
  {
   "cell_type": "markdown",
   "metadata": {},
   "source": [
    "# PLIK FILOWY #1  PROBLEM PRZETARGU"
   ]
  },
  {
   "cell_type": "markdown",
   "metadata": {},
   "source": [
    "# NA PODSTAWIE: Zadanie 92 STR 144"
   ]
  },
  {
   "cell_type": "code",
   "execution_count": 4,
   "metadata": {
    "scrolled": false
   },
   "outputs": [
    {
     "name": "stdout",
     "output_type": "stream",
     "text": [
      "\n",
      "\n",
      "+-----------------------+-------------+-------------+-------------+\n",
      "| oferty supermarketów: | Kontrakt A  | Kontrakt B  | Kontrakt C  |\n",
      "+-----------------------+-------------+-------------+-------------+\n",
      "|         Fenix         | 129 tys. zł | 115 tys. zł | 125 tys. zł |\n",
      "+-----------------------+-------------+-------------+-------------+\n",
      "|      Jaszczurka       | 121 tys. zł | 119 tys. zł | 122 tys. zł |\n",
      "+-----------------------+-------------+-------------+-------------+\n",
      "|          PDT          | 118 tys. zł | 110 tys. zł | 114 tys. zł |\n",
      "+-----------------------+-------------+-------------+-------------+\n",
      "|        REKSIO         | 120 tys. zł | 126 tys. zł | 126 tys. zł |\n",
      "+-----------------------+-------------+-------------+-------------+\n",
      "\n",
      "\n"
     ]
    }
   ],
   "source": [
    "from beautifultable import BeautifulTable\n",
    "print()\n",
    "print()\n",
    "table = BeautifulTable()\n",
    "table.column_headers = [\"oferty supermarketów:\", \"Kontrakt A\",\"Kontrakt B\",\"Kontrakt C\"]\n",
    "table.append_row([\"Fenix\", \"129 tys. zł\",    \"115 tys. zł\", \"125 tys. zł\"])\n",
    "table.append_row([\"Jaszczurka\", \"121 tys. zł\",    \"119 tys. zł\", \"122 tys. zł\"])\n",
    "table.append_row([\"PDT\", \"118 tys. zł\",    \"110 tys. zł\", \"114 tys. zł\"])\n",
    "table.append_row([\"REKSIO\", \"120 tys. zł\",    \"126 tys. zł\", \"126 tys. zł\"])\n",
    "print(table)\n",
    "print()\n",
    "print()"
   ]
  },
  {
   "cell_type": "markdown",
   "metadata": {},
   "source": [
    "\n",
    "$\n",
    "\\left\\{\n",
    "\\begin{align} \n",
    "0 \\leqslant {x_{11}} & \\leqslant 1 \\\\\n",
    "0 \\leqslant {x_{12}} & \\leqslant 1 \\\\\n",
    "0 \\leqslant {x_{13}} & \\leqslant 1 \\\\\n",
    "0 \\leqslant {x_{14}} & \\leqslant 1 \\\\\n",
    "0 \\leqslant {x_{21}} & \\leqslant 1 \\\\\n",
    "0 \\leqslant {x_{22}} & \\leqslant 1 \\\\\n",
    "0 \\leqslant {x_{23}} & \\leqslant 1 \\\\\n",
    "0 \\leqslant {x_{24}} & \\leqslant 1 \\\\\n",
    "0 \\leqslant {x_{31}} & \\leqslant 1 \\\\\n",
    "0 \\leqslant {x_{32}} & \\leqslant 1 \\\\\n",
    "0 \\leqslant {x_{33}} & \\leqslant 1 \\\\\n",
    "0 \\leqslant {x_{34}} & \\leqslant 1 \\\\\n",
    "0 \\leqslant {x_{41}} & \\leqslant 1 \\\\\n",
    "0 \\leqslant {x_{42}} & \\leqslant 1 \\\\\n",
    "0 \\leqslant {x_{43}} & \\leqslant 1 \\\\\n",
    "0 \\leqslant {x_{44}} & \\leqslant 1 \\\\\n",
    "\\end{align}\n",
    "\\right. \n",
    "$\n"
   ]
  },
  {
   "cell_type": "code",
   "execution_count": 2,
   "metadata": {
    "scrolled": true
   },
   "outputs": [
    {
     "name": "stdout",
     "output_type": "stream",
     "text": [
      "\n",
      "\n",
      "+---+-----+-----+-----+\n",
      "|   | K1  | K2  | K3  |\n",
      "+---+-----+-----+-----+\n",
      "| A | 129 | 115 | 125 |\n",
      "+---+-----+-----+-----+\n",
      "| B | 121 | 119 | 122 |\n",
      "+---+-----+-----+-----+\n",
      "| C | 118 | 110 | 114 |\n",
      "+---+-----+-----+-----+\n",
      "| D | 120 | 126 | 126 |\n",
      "+---+-----+-----+-----+\n",
      "\n",
      "\n"
     ]
    }
   ],
   "source": [
    "from beautifultable import BeautifulTable\n",
    "print()\n",
    "print()\n",
    "table = BeautifulTable()\n",
    "table.column_headers = [\"\", \"K1\",\"K2\",\"K3\"]\n",
    "table.append_row([\"A\", \"129\",    \"115\", \"125\"])\n",
    "table.append_row([\"B\", \"121\",    \"119\", \"122\"])\n",
    "table.append_row([\"C\", \"118\",    \"110\", \"114\"])\n",
    "table.append_row([\"D\", \"120\",    \"126\", \"126\"])\n",
    "print(table)\n",
    "print()\n",
    "print()"
   ]
  },
  {
   "cell_type": "code",
   "execution_count": 3,
   "metadata": {},
   "outputs": [
    {
     "name": "stdout",
     "output_type": "stream",
     "text": [
      "\n",
      "\n",
      "+---+-----+-----+-----+\n",
      "|   | K1  | K2  | K3  |\n",
      "+---+-----+-----+-----+\n",
      "| A | x11 | x12 | x13 |\n",
      "+---+-----+-----+-----+\n",
      "| B | x21 | x22 | x23 |\n",
      "+---+-----+-----+-----+\n",
      "| C | x31 | x32 | x33 |\n",
      "+---+-----+-----+-----+\n",
      "| D | x41 | x42 | x43 |\n",
      "+---+-----+-----+-----+\n",
      "\n",
      "\n"
     ]
    }
   ],
   "source": [
    "from beautifultable import BeautifulTable\n",
    "print()\n",
    "print()\n",
    "table = BeautifulTable()\n",
    "table.column_headers = [\"\", \"K1\",\"K2\",\"K3\"]\n",
    "table.append_row([\"A\", \"x11\",    \"x12\", \"x13\"])\n",
    "table.append_row([\"B\", \"x21\",    \"x22\", \"x23\"])\n",
    "table.append_row([\"C\", \"x31\",    \"x32\", \"x33\"])\n",
    "table.append_row([\"D\", \"x41\",    \"x42\", \"x43\"])\n",
    "print(table)\n",
    "print()\n",
    "print()"
   ]
  },
  {
   "cell_type": "code",
   "execution_count": 3,
   "metadata": {},
   "outputs": [
    {
     "name": "stdout",
     "output_type": "stream",
     "text": [
      "\n",
      "\n",
      "+---+-----+-----+-----+----------------+\n",
      "|   | K1  | K2  | K3  | brak kontraktu |\n",
      "+---+-----+-----+-----+----------------+\n",
      "| A | x11 | x12 | x13 |      x14       |\n",
      "+---+-----+-----+-----+----------------+\n",
      "| B | x21 | x22 | x23 |      x24       |\n",
      "+---+-----+-----+-----+----------------+\n",
      "| C | x31 | x32 | x33 |      x34       |\n",
      "+---+-----+-----+-----+----------------+\n",
      "| D | x41 | x42 | x43 |      x44       |\n",
      "+---+-----+-----+-----+----------------+\n",
      "\n"
     ]
    }
   ],
   "source": [
    "from beautifultable import BeautifulTable\n",
    "print()\n",
    "print()\n",
    "table = BeautifulTable()\n",
    "table.column_headers = [\"\", \"K1\",\"K2\",\"K3\", \"brak kontraktu\"]\n",
    "table.append_row([\"A\", \"x11\",    \"x12\", \"x13\", \"x14\"])\n",
    "table.append_row([\"B\", \"x21\",    \"x22\", \"x23\", \"x24\"])\n",
    "table.append_row([\"C\", \"x31\",    \"x32\", \"x33\", \"x34\"])\n",
    "table.append_row([\"D\", \"x41\",    \"x42\", \"x43\", \"x44\"])\n",
    "print(table)\n",
    "print()"
   ]
  },
  {
   "cell_type": "markdown",
   "metadata": {},
   "source": [
    "# <span style=\"font-size: 150%;color:#0000ff\">Krok 1: ZMIENNA DECYZYJNA Czym jest x? </span>\n",
    "\n",
    "zero-jeden   - dlaczego? bo jest to zmienna decyzyjna, to jest przydział. jeden - ktoś kupuje, zero ktoś nie kupuje. Pronlrm jest, że czterech gości chce kupić samochody a samochodów jest 3 więc powinnismy utworzyc jeden samochód fantomowy (sztuczny). Jego wybór bedzie ioznaczał że ktoś nie kupił samochodu.\n",
    "\n",
    "\n",
    "<span style=\"font-size: 150%;color:#0000ff\"> Krok 2: Co jest w tabeli?</span>\n",
    "\n",
    "ceny samochodów\n",
    "\n",
    "<span style=\"font-size: 150%;color:#0000ff\"> Krok 3: ograniczenie zmiennych decyzyjnych</span>\n",
    "\n",
    "\n",
    "zmiennymi decyzyjnymi jest tutaj przydział, liczba 1 lub 0. Każdy pracownik ma kupić maksymalnie 1 samochód!\n",
    "Pracownik nie może kupić ujemną liczbę samochodów.\n",
    "\n",
    "TWORZONY JEST JEDEN WIĘCEJ SAMOCHÓD FANTOMOWY\n",
    "\n",
    "#### $\n",
    "\\left\\{\n",
    "\\begin{align} \n",
    "{x_{11}+x_{12}+x_{13}+x_{14}} & \\leqslant 1 \\\\\n",
    "{x_{21}+x_{22}+x_{23}+x_{24}} & \\leqslant 1 \\\\\n",
    "{x_{31}+x_{32}+x_{33}+x_{34}} & \\leqslant 1 \\\\\n",
    "{x_{41}+x_{42}+x_{43}+x_{44}} & \\leqslant 1 \\\\\n",
    "\\end{align}\n",
    "\\right. \n",
    "$\n",
    "\n",
    "#### $\n",
    "\\left\\{\n",
    "\\begin{align} \n",
    "{x_{11}+x_{12}+x_{13}+x_{14}} & \\geqslant 0 \\\\\n",
    "{x_{21}+x_{22}+x_{23}+x_{24}} & \\geqslant 0 \\\\\n",
    "{x_{31}+x_{32}+x_{33}+x_{34}} & \\geqslant 0 \\\\\n",
    "{x_{41}+x_{42}+x_{43}+x_{44}} & \\geqslant 0 \\\\\n",
    "\\end{align}\n",
    "\\right. \n",
    "$\n",
    "\n",
    "<span style=\"font-size: 150%;color:#0000ff\"> Krok 4: ograniczenie pośrednie - każdy samochód może być sprzedany tylko raz </span>\n",
    "\n",
    "#### $\n",
    "\\left\\{\n",
    "\\begin{align} \n",
    "{x_{11}+x_{21}+x_{31}+x_{41}} & = 1 \\\\\n",
    "{x_{12}+x_{22}+x_{32}+x_{42}} & = 1 \\\\\n",
    "{x_{13}+x_{23}+x_{33}+x_{43}} & = 1 \\\\\n",
    "{x_{14}+x_{24}+x_{34}+x_{44}} & = 1 \\\\\n",
    "\\end{align}\n",
    "\\right. \n",
    "$\n",
    "\n",
    "<span style=\"font-size: 150%;color:#0000ff\"> Krok 5: jaka jest funkcja celu?</span>\n",
    "\n",
    "Zmaksymalizować przychody ze sprtzedaży samochodów.\n",
    "\n",
    "$\n",
    "{\n",
    "\\\\\n",
    "F(x_{i,j})\\\\=129x_{11}+115x_{12}+125x_{13}+0x_{14}\\\\+121x_{21}+119x_{22}+122x_{23}+0x_{24}\\\\+118x_{31}+110x_{32}+114x_{33}+0x_{34}\\\\+120x_{41}+126x_{42}+126x_{43}+0x_{44}  \\to  max\n",
    "\\qquad \n",
    "} $"
   ]
  },
  {
   "cell_type": "code",
   "execution_count": 5,
   "metadata": {},
   "outputs": [
    {
     "name": "stdout",
     "output_type": "stream",
     "text": [
      "\n",
      "\n",
      "+---+-----+-----+-----+\n",
      "|   | K1  | K2  | K3  |\n",
      "+---+-----+-----+-----+\n",
      "| A | 129 | 115 | 125 |\n",
      "+---+-----+-----+-----+\n",
      "| B | 121 | 119 | 122 |\n",
      "+---+-----+-----+-----+\n",
      "| C | 118 | 110 | 114 |\n",
      "+---+-----+-----+-----+\n",
      "| D | 120 | 126 | 126 |\n",
      "+---+-----+-----+-----+\n",
      "\n",
      "\n"
     ]
    }
   ],
   "source": [
    "from beautifultable import BeautifulTable\n",
    "print()\n",
    "print()\n",
    "table = BeautifulTable()\n",
    "table.column_headers = [\"\", \"K1\",\"K2\",\"K3\"]\n",
    "table.append_row([\"A\", \"129\",    \"115\", \"125\"])\n",
    "table.append_row([\"B\", \"121\",    \"119\", \"122\"])\n",
    "table.append_row([\"C\", \"118\",    \"110\", \"114\"])\n",
    "table.append_row([\"D\", \"120\",    \"126\", \"126\"])\n",
    "print(table)\n",
    "print()\n",
    "print()"
   ]
  },
  {
   "cell_type": "code",
   "execution_count": 6,
   "metadata": {},
   "outputs": [],
   "source": [
    "from pulp import *\n",
    "from fractions import Fraction\n",
    "\n",
    "prob = LpProblem(\"Zadanie_przetargowe\",LpMaximize)"
   ]
  },
  {
   "cell_type": "code",
   "execution_count": 7,
   "metadata": {},
   "outputs": [],
   "source": [
    "x11=LpVariable(\"x11\",lowBound=0,upBound=None, cat=\"Integer\")\n",
    "x12=LpVariable(\"x12\",lowBound=0,upBound=None, cat=\"Integer\")\n",
    "x13=LpVariable(\"x13\",lowBound=0,upBound=None, cat=\"Integer\")\n",
    "x14=LpVariable(\"x14\",lowBound=0,upBound=None, cat=\"Integer\")\n",
    "x21=LpVariable(\"x21\",lowBound=0,upBound=None, cat=\"Integer\")\n",
    "x22=LpVariable(\"x22\",lowBound=0,upBound=None, cat=\"Integer\")\n",
    "x23=LpVariable(\"x23\",lowBound=0,upBound=None, cat=\"Integer\")\n",
    "x24=LpVariable(\"x24\",lowBound=0,upBound=None, cat=\"Integer\")\n",
    "x31=LpVariable(\"x31\",lowBound=0,upBound=None, cat=\"Integer\")\n",
    "x32=LpVariable(\"x32\",lowBound=0,upBound=None, cat=\"Integer\")\n",
    "x33=LpVariable(\"x33\",lowBound=0,upBound=None, cat=\"Integer\")\n",
    "x34=LpVariable(\"x34\",lowBound=0,upBound=None, cat=\"Integer\")\n",
    "x41=LpVariable(\"x41\",lowBound=0,upBound=None, cat=\"Integer\")  \n",
    "x42=LpVariable(\"x42\",lowBound=0,upBound=None, cat=\"Integer\")  \n",
    "x43=LpVariable(\"x43\",lowBound=0,upBound=None, cat=\"Integer\")  \n",
    "x44=LpVariable(\"x44\",lowBound=0,upBound=None, cat=\"Integer\")    "
   ]
  },
  {
   "cell_type": "markdown",
   "metadata": {},
   "source": [
    "### Dodajemy do platformy funkcje celu\n",
    "\n",
    "$\n",
    "{\n",
    "\\\\\n",
    "F(x_{i,j})\\\\=129x_{11}+115x_{12}+125x_{13}+0x_{14}\\\\+121x_{21}+119x_{22}+122x_{23}+0x_{24}\\\\+118x_{31}+110x_{32}+114x_{33}+0x_{34}\\\\+120x_{41}+126x_{42}+126x_{43}+0x_{44}  \\to  max\n",
    "\\qquad \n",
    "} $"
   ]
  },
  {
   "cell_type": "code",
   "execution_count": 23,
   "metadata": {},
   "outputs": [
    {
     "ename": "IndentationError",
     "evalue": "unexpected indent (<ipython-input-23-367e4ee3e1b7>, line 3)",
     "output_type": "error",
     "traceback": [
      "\u001b[0;36m  File \u001b[0;32m\"<ipython-input-23-367e4ee3e1b7>\"\u001b[0;36m, line \u001b[0;32m3\u001b[0m\n\u001b[0;31m    +110*x32+114*x33+0*x34+120*x41+126*x42+126*x43+0*x44, \"Maksymalizacja przychodów\"\u001b[0m\n\u001b[0m    ^\u001b[0m\n\u001b[0;31mIndentationError\u001b[0m\u001b[0;31m:\u001b[0m unexpected indent\n"
     ]
    }
   ],
   "source": [
    "# objective function\n",
    "prob += 129*x11+115*x12+125*x13+0*x14+121*x21+119*x22+122*x23+0*x24+118*x31       \n",
    "        +110*x32+114*x33+0*x34+120*x41+126*x42+126*x43+0*x44, \"Maksymalizacja przychodów\""
   ]
  },
  {
   "cell_type": "code",
   "execution_count": 9,
   "metadata": {},
   "outputs": [
    {
     "name": "stdout",
     "output_type": "stream",
     "text": [
      "Zadanie_przetargowe:\n",
      "MAXIMIZE\n",
      "129*x11 + 115*x12 + 125*x13 + 121*x21 + 119*x22 + 122*x23 + 118*x31 + 110*x32 + 114*x33 + 120*x41 + 126*x42 + 126*x43 + 0\n",
      "VARIABLES\n",
      "0 <= x11 Integer\n",
      "0 <= x12 Integer\n",
      "0 <= x13 Integer\n",
      "0 <= x21 Integer\n",
      "0 <= x22 Integer\n",
      "0 <= x23 Integer\n",
      "0 <= x31 Integer\n",
      "0 <= x32 Integer\n",
      "0 <= x33 Integer\n",
      "0 <= x41 Integer\n",
      "0 <= x42 Integer\n",
      "0 <= x43 Integer\n",
      "\n"
     ]
    }
   ],
   "source": [
    "print(prob)"
   ]
  },
  {
   "cell_type": "markdown",
   "metadata": {},
   "source": [
    "\n",
    "zmiennymi decyzyjnymi jest tutaj przydział, liczba 1 lub 0. Każdy pracownik ma kupić maksymalnie 1 samochód!\n",
    "Pracownik nie może kupić ujemną liczbę samochodów.\n",
    "\n",
    "TWORZONY JEST JEDEN WIĘCEJ SAMOCHÓD FANTOMOWY\n",
    "\n",
    "#### $\n",
    "\\left\\{\n",
    "\\begin{align} \n",
    "{x_{11}+x_{12}+x_{13}+x_{14}} & \\leqslant 1 & (1)\\\\\n",
    "{x_{21}+x_{22}+x_{23}+x_{24}} & \\leqslant 1 & (2)\\\\\n",
    "{x_{31}+x_{32}+x_{33}+x_{34}} & \\leqslant 1 & (3)\\\\\n",
    "{x_{41}+x_{42}+x_{43}+x_{44}} & \\leqslant 1 & (4)\\\\\n",
    "\\end{align}\n",
    "\\right. \n",
    "$\n",
    "\n",
    "#### $\n",
    "\\left\\{\n",
    "\\begin{align} \n",
    "{x_{11}+x_{12}+x_{13}+x_{14}} & \\geqslant 0 & (1)\\\\\n",
    "{x_{21}+x_{22}+x_{23}+x_{24}} & \\geqslant 0 & (2)\\\\\n",
    "{x_{31}+x_{32}+x_{33}+x_{34}} & \\geqslant 0 & (3)\\\\\n",
    "{x_{41}+x_{42}+x_{43}+x_{44}} & \\geqslant 0 & (4)\\\\\n",
    "\\end{align}\n",
    "\\right. \n",
    "$\n",
    "\n",
    "<span style=\"font-size: 150%;color:#0000ff\"> Krok 4: ograniczenie pośrednie - każdy samochód może być sprzedany tylko raz </span>\n",
    "\n",
    "#### $\n",
    "\\left\\{\n",
    "\\begin{align} \n",
    "{x_{11}+x_{12}+x_{13}+x_{14}} & = 1 & (6)\\\\\n",
    "{x_{21}+x_{22}+x_{23}+x_{24}} & = 1 & (7)\\\\\n",
    "{x_{31}+x_{32}+x_{33}+x_{34}} & = 1 & (8)\\\\\n",
    "{x_{41}+x_{42}+x_{43}+x_{44}} & = 1 & (9)\\\\\n",
    "\\end{align}\n",
    "\\right. \n",
    "$\n",
    "\n"
   ]
  },
  {
   "cell_type": "code",
   "execution_count": 18,
   "metadata": {},
   "outputs": [],
   "source": [
    "# OGRANICZENIA DLA kontraktów (CZWARTA KOLUMNA TO kontrakt FANTOMOWy)\n",
    "prob += x11 + x21 + x31+ x41  == 1\n",
    "prob += x12 + x22 + x32+ x42  == 1\n",
    "prob += x13 + x23 + x33+ x43  == 1\n",
    "prob += x14 + x24 + x34+ x44  == 1"
   ]
  },
  {
   "cell_type": "code",
   "execution_count": 17,
   "metadata": {},
   "outputs": [],
   "source": [
    "# OGRANICZENIA DLA KUPUJĄCYCH (CZWARTy wiersz TO kontrakt FANTOMOWy)\n",
    "prob += x11 + x12 + x13 + x14 == 1  # Kupujący A\n",
    "prob += x21 + x22 + x23 + x24 == 1  # Kupujący B\n",
    "prob += x31 + x32 + x33 + x34 == 1  # Kupujący C\n",
    "prob += x41 + x42 + x43 + x44 == 1  # Kupujący D"
   ]
  },
  {
   "cell_type": "code",
   "execution_count": 19,
   "metadata": {},
   "outputs": [
    {
     "name": "stdout",
     "output_type": "stream",
     "text": [
      "Zadanie_przetargowe:\n",
      "MAXIMIZE\n",
      "129*x11 + 115*x12 + 125*x13 + 121*x21 + 119*x22 + 122*x23 + 118*x31 + 110*x32 + 114*x33 + 120*x41 + 126*x42 + 126*x43 + 0\n",
      "SUBJECT TO\n",
      "_C1: x11 + x21 + x31 + x41 = 1\n",
      "\n",
      "_C2: x12 + x22 + x32 + x42 = 1\n",
      "\n",
      "_C3: x13 + x23 + x33 + x43 = 1\n",
      "\n",
      "_C4: x14 + x24 + x34 + x44 = 1\n",
      "\n",
      "_C5: x11 + x12 + x13 + x14 = 1\n",
      "\n",
      "_C6: x21 + x22 + x23 + x24 = 1\n",
      "\n",
      "_C7: x31 + x32 + x33 + x34 = 1\n",
      "\n",
      "_C8: x41 + x42 + x43 + x44 = 1\n",
      "\n",
      "_C9: x11 + x12 + x13 + x14 = 1\n",
      "\n",
      "_C10: x21 + x22 + x23 + x24 = 1\n",
      "\n",
      "_C11: x31 + x32 + x33 + x34 = 1\n",
      "\n",
      "_C12: x41 + x42 + x43 + x44 = 1\n",
      "\n",
      "_C13: x11 + x21 + x31 + x41 = 1\n",
      "\n",
      "_C14: x12 + x22 + x32 + x42 = 1\n",
      "\n",
      "_C15: x13 + x23 + x33 + x43 = 1\n",
      "\n",
      "_C16: x14 + x24 + x34 + x44 = 1\n",
      "\n",
      "VARIABLES\n",
      "0 <= x11 Integer\n",
      "0 <= x12 Integer\n",
      "0 <= x13 Integer\n",
      "0 <= x14 Integer\n",
      "0 <= x21 Integer\n",
      "0 <= x22 Integer\n",
      "0 <= x23 Integer\n",
      "0 <= x24 Integer\n",
      "0 <= x31 Integer\n",
      "0 <= x32 Integer\n",
      "0 <= x33 Integer\n",
      "0 <= x34 Integer\n",
      "0 <= x41 Integer\n",
      "0 <= x42 Integer\n",
      "0 <= x43 Integer\n",
      "0 <= x44 Integer\n",
      "\n"
     ]
    }
   ],
   "source": [
    "print(prob)"
   ]
  },
  {
   "cell_type": "code",
   "execution_count": 13,
   "metadata": {},
   "outputs": [
    {
     "name": "stdout",
     "output_type": "stream",
     "text": [
      "Zadanie_przetargowe:\n",
      "MAXIMIZE\n",
      "129*x11 + 115*x12 + 125*x13 + 121*x21 + 119*x22 + 122*x23 + 118*x31 + 110*x32 + 114*x33 + 120*x41 + 126*x42 + 126*x43 + 0\n",
      "SUBJECT TO\n",
      "_C1: x11 + x21 + x31 + x41 = 1\n",
      "\n",
      "_C2: x12 + x22 + x32 + x42 = 1\n",
      "\n",
      "_C3: x13 + x23 + x33 + x43 = 1\n",
      "\n",
      "_C4: x14 + x24 + x34 + x44 = 1\n",
      "\n",
      "_C5: x11 + x12 + x13 + x14 = 1\n",
      "\n",
      "_C6: x21 + x22 + x23 + x24 = 1\n",
      "\n",
      "_C7: x31 + x32 + x33 + x34 = 1\n",
      "\n",
      "_C8: x41 + x42 + x43 + x44 = 1\n",
      "\n",
      "VARIABLES\n",
      "0 <= x11 Integer\n",
      "0 <= x12 Integer\n",
      "0 <= x13 Integer\n",
      "0 <= x14 Integer\n",
      "0 <= x21 Integer\n",
      "0 <= x22 Integer\n",
      "0 <= x23 Integer\n",
      "0 <= x24 Integer\n",
      "0 <= x31 Integer\n",
      "0 <= x32 Integer\n",
      "0 <= x33 Integer\n",
      "0 <= x34 Integer\n",
      "0 <= x41 Integer\n",
      "0 <= x42 Integer\n",
      "0 <= x43 Integer\n",
      "0 <= x44 Integer\n",
      "\n"
     ]
    }
   ],
   "source": [
    "print(prob)"
   ]
  },
  {
   "cell_type": "markdown",
   "metadata": {},
   "source": [
    "### Rozwiązanie problemu"
   ]
  },
  {
   "cell_type": "code",
   "execution_count": 14,
   "metadata": {},
   "outputs": [
    {
     "name": "stdout",
     "output_type": "stream",
     "text": [
      "prob.solve 1\n",
      "Status: Optimal\n"
     ]
    }
   ],
   "source": [
    "print(\"prob.solve\",prob.solve())\n",
    "# status of the solution\n",
    "print(f\"Status: {LpStatus[prob.status]}\")"
   ]
  },
  {
   "cell_type": "code",
   "execution_count": 15,
   "metadata": {},
   "outputs": [
    {
     "name": "stdout",
     "output_type": "stream",
     "text": [
      "x11 = 1\n",
      "x12 = 0\n",
      "x13 = 0\n",
      "x14 = 0\n",
      "x21 = 0\n",
      "x22 = 0\n",
      "x23 = 1\n",
      "x24 = 0\n",
      "x31 = 0\n",
      "x32 = 0\n",
      "x33 = 0\n",
      "x34 = 1\n",
      "x41 = 0\n",
      "x42 = 1\n",
      "x43 = 0\n",
      "x44 = 0\n"
     ]
    }
   ],
   "source": [
    "for v in prob.variables():\n",
    "    print(f\"{v.name} = {str(Fraction(v.varValue).limit_denominator())}\")\n"
   ]
  },
  {
   "cell_type": "code",
   "execution_count": 24,
   "metadata": {},
   "outputs": [
    {
     "name": "stdout",
     "output_type": "stream",
     "text": [
      "max (xij) = 377\n"
     ]
    }
   ],
   "source": [
    "# maximum value of the objective function\n",
    "print(f\"max (xij) = {str(Fraction(value(prob.objective)).limit_denominator())}\")"
   ]
  },
  {
   "cell_type": "code",
   "execution_count": 26,
   "metadata": {},
   "outputs": [
    {
     "data": {
      "text/plain": [
       "374"
      ]
     },
     "execution_count": 26,
     "metadata": {},
     "output_type": "execute_result"
    }
   ],
   "source": [
    "126+119+129"
   ]
  },
  {
   "cell_type": "code",
   "execution_count": 28,
   "metadata": {},
   "outputs": [
    {
     "data": {
      "text/plain": [
       "377"
      ]
     },
     "execution_count": 28,
     "metadata": {},
     "output_type": "execute_result"
    }
   ],
   "source": [
    "129+126+122"
   ]
  },
  {
   "cell_type": "code",
   "execution_count": null,
   "metadata": {},
   "outputs": [],
   "source": []
  },
  {
   "cell_type": "code",
   "execution_count": 25,
   "metadata": {},
   "outputs": [
    {
     "data": {
      "text/plain": [
       "377"
      ]
     },
     "execution_count": 25,
     "metadata": {},
     "output_type": "execute_result"
    }
   ],
   "source": [
    "129+122+126"
   ]
  },
  {
   "cell_type": "code",
   "execution_count": null,
   "metadata": {},
   "outputs": [],
   "source": []
  },
  {
   "cell_type": "code",
   "execution_count": null,
   "metadata": {},
   "outputs": [],
   "source": []
  },
  {
   "cell_type": "code",
   "execution_count": null,
   "metadata": {},
   "outputs": [],
   "source": []
  },
  {
   "cell_type": "code",
   "execution_count": null,
   "metadata": {},
   "outputs": [],
   "source": []
  },
  {
   "cell_type": "code",
   "execution_count": null,
   "metadata": {},
   "outputs": [],
   "source": []
  }
 ],
 "metadata": {
  "kernelspec": {
   "display_name": "Python 3",
   "language": "python",
   "name": "python3"
  },
  "language_info": {
   "codemirror_mode": {
    "name": "ipython",
    "version": 3
   },
   "file_extension": ".py",
   "mimetype": "text/x-python",
   "name": "python",
   "nbconvert_exporter": "python",
   "pygments_lexer": "ipython3",
   "version": "3.7.4"
  }
 },
 "nbformat": 4,
 "nbformat_minor": 2
}
