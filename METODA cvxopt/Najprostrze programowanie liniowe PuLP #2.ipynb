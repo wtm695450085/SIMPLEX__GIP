{
 "cells": [
  {
   "cell_type": "markdown",
   "metadata": {},
   "source": [
    "<span style=\"font-size: 250%;color:#0000ff\"> Najprostrze programowanie liniowe PuLP #2</span>\n",
    "\n",
    "Piekarnia sprzedaje dwa rodzaje chleba: \n",
    "- chleb A\n",
    "- chleb B"
   ]
  },
  {
   "cell_type": "code",
   "execution_count": 1,
   "metadata": {},
   "outputs": [
    {
     "name": "stdout",
     "output_type": "stream",
     "text": [
      "+-----------+----------+----------+\n",
      "| Czynniki: | Chleb A  | Chleb B  |\n",
      "+-----------+----------+----------+\n",
      "|   Piec    | 0.5 dnia | 1 dzień  |\n",
      "+-----------+----------+----------+\n",
      "| Piekarze  | 1 dzień  | 2.5 dnia |\n",
      "+-----------+----------+----------+\n",
      "| Pakowacze | 1 dzień  |  2 dni   |\n",
      "+-----------+----------+----------+\n"
     ]
    }
   ],
   "source": [
    "from beautifultable import BeautifulTable\n",
    "\n",
    "table = BeautifulTable()\n",
    "table.column_headers = [\"Czynniki:\", \"Chleb A\",\"Chleb B\"]\n",
    "table.append_row([\"Piec\",     \"0.5 dnia\",  \"1 dzień\"  ])\n",
    "table.append_row([\"Piekarze\",  \"1 dzień\",  \"2.5 dnia\"  ])\n",
    "table.append_row([\"Pakowacze\", \"1 dzień\",  \"2 dni\"  ])\n",
    "\n",
    "print(table)"
   ]
  },
  {
   "cell_type": "markdown",
   "metadata": {},
   "source": [
    "## Zysk ze sprzedaży chleb A: 20 dolarów\n",
    "## Zysk ze sprzedaży chleb B: 40 dolarów\n"
   ]
  },
  {
   "cell_type": "markdown",
   "metadata": {},
   "source": [
    "<font size=\"6\"> \n",
    "<font color=\"black\"> \n",
    "$\n",
    "{\n",
    " \\displaystyle {x_{(a,b)\\,}}  \\in \\mathbb{Z}^+  {...} \\forall  {a \\in A},{b \\in B} \\\\\n",
    "}\n",
    "$\n",
    "\n",
    "<font size=\"2\"> \n",
    "<font color=\"grey\">   \n",
    "\n",
    "$ {   \n",
    "\\text{m,p - ilości chlebów reprezentowanych jako x należą do zbioru liczb całkowitych dodatnich} \\\\\n",
    "\\text{dla każdego elementu chebów a ze zbioru A i chlebów b ze zbioru B} \\\\\n",
    "}\n",
    "$"
   ]
  },
  {
   "cell_type": "markdown",
   "metadata": {},
   "source": [
    "My wiemy, że nie ma czegoś takiego jak 0.3 chleba, nietety matematyka tego nie wie. Nie ma też czegoś takiego jak ilość -3 chleby. Wartości, które optymalizujemy muszą być większe lub równe zeru."
   ]
  },
  {
   "cell_type": "markdown",
   "metadata": {},
   "source": [
    "<font size=\"6\"> \n",
    "<font color=\"black\"> \n",
    "$\n",
    "{\n",
    " \\displaystyle {x_{(a,b)\\,}}  \\geqslant 0  {...} \\forall  {a \\in A},{b \\in B} \\\\\n",
    "}\n",
    "$\n",
    "\n",
    "<font size=\"2\"> \n",
    "<font color=\"grey\">\n",
    "    \n",
    "${    \n",
    "\\text{a,b - ilości chlebów jako x jest wieksza lub równa zeru} \\\\\n",
    "\\text{dla każdego elementu zbioru chlebów A i B} \\\\\n",
    "}\n",
    "$"
   ]
  },
  {
   "cell_type": "markdown",
   "metadata": {},
   "source": [
    "<span style=\"font-size: 150%;color:#0000ff\"> Funkcja celu</span>\n",
    "\n",
    "<font size=\"6\"> \n",
    "<font color=\"black\">   \n",
    "$\\displaystyle \\sum_{ {a \\in A},{b \\in B}} c_{(a,b)}x_{(a,b)} \\to  max \n",
    "$\n",
    "\n",
    "\n",
    "<font size=\"2\"> \n",
    "<font color=\"grey\">   \n",
    "$\n",
    "\\text{Funkcja celu zmierza do maksymalizacji zysku ze sprzedaży obu chlebów} \\\\\n",
    "\\text{Zysk ze sprzedaży chlebów to suma iloczynów c - jednostkowego zysku (z A i B) i x - ilości sprzedanych chlebów A i B)}\n",
    "$"
   ]
  },
  {
   "cell_type": "code",
   "execution_count": 2,
   "metadata": {},
   "outputs": [
    {
     "name": "stdout",
     "output_type": "stream",
     "text": [
      "+-----------+----------+----------+\n",
      "| Czynniki: | Chleb A  | Chleb B  |\n",
      "+-----------+----------+----------+\n",
      "|   Piec    | 0.5 dnia | 1 dzień  |\n",
      "+-----------+----------+----------+\n",
      "| Piekarze  | 1 dzień  | 2.5 dnia |\n",
      "+-----------+----------+----------+\n",
      "| Pakowacze | 1 dzień  |  2 dni   |\n",
      "+-----------+----------+----------+\n"
     ]
    }
   ],
   "source": [
    "from beautifultable import BeautifulTable\n",
    "\n",
    "table = BeautifulTable()\n",
    "table.column_headers = [\"Czynniki:\", \"Chleb A\",\"Chleb B\"]\n",
    "table.append_row([\"Piec\",     \"0.5 dnia\",  \"1 dzień\"  ])\n",
    "table.append_row([\"Piekarze\",  \"1 dzień\",  \"2.5 dnia\"  ])\n",
    "table.append_row([\"Pakowacze\", \"1 dzień\",  \"2 dni\"  ])\n",
    "\n",
    "print(table)"
   ]
  },
  {
   "cell_type": "markdown",
   "metadata": {},
   "source": [
    "<span style=\"font-size: 150%;color:#0000ff\"> Funkcja celu napisana operacyjne</span>\n",
    "\n",
    "Maksymalizacja miesięcznego zysku ze sprzedaży chlebów.\n",
    "\n",
    "$ \\bbox[5px,border:1px solid red]\n",
    "{\n",
    "F(x_a,x_b) = 20x_{a} + 40x_{b}  \\to  max\n",
    "\\qquad (1)  \n",
    "} $"
   ]
  },
  {
   "cell_type": "markdown",
   "metadata": {},
   "source": [
    "<span style=\"font-size: 150%;color:#0000ff\"> Warunki ograniczające</span>\n",
    "\n",
    "Ograniczeniem jest ilość dni pracy: piec pracuje 30 dni, piekarze 60 dni (dwie zmiany?), ludzie od pakowania 22 dni.\n",
    "\n",
    "$\n",
    "\\left\\{\n",
    "\\begin{align} \n",
    "{0.5x_a+1.0x_b}  & \\leqslant 30 & (3)\\\\\n",
    "{1.0x_a+2.5x_b}  & \\leqslant 60 & (3)\\\\\n",
    "{1.0x_a+2.0x_b}  & \\leqslant 22 & (3)\\\\\n",
    "{x_a} & \\geqslant 0 & (4)\\\\ \n",
    "{x_b} & \\geqslant 0 & (5)\\\\\n",
    "\\end{align}\n",
    "\\right. \n",
    "$"
   ]
  },
  {
   "cell_type": "markdown",
   "metadata": {},
   "source": [
    "<span style=\"font-size: 150%;color:#0000ff\"> Rozwiązanie graficzne</span>"
   ]
  },
  {
   "cell_type": "code",
   "execution_count": 3,
   "metadata": {},
   "outputs": [
    {
     "data": {
      "text/plain": [
       "Text(0, 0.5, 'Ilość pompek')"
      ]
     },
     "execution_count": 3,
     "metadata": {},
     "output_type": "execute_result"
    }
   ],
   "source": [
    "import numpy as np\n",
    "import matplotlib.pyplot as plt\n",
    "\n",
    "# plot the feasible region\n",
    "d = np.linspace(0,25,100)\n",
    "x,y = np.meshgrid(d,d)\n",
    "#plt.imshow(((0.5*x)+y<=30))&(x+(2.5*y)<=60)&(x+(2*y)<=22)&(x>=0)&(y>=0)).astype(int), \n",
    "#        extent=(x.min(),x.max(),y.min(),y.max(),origin=\"lower\", cmap=\"Greys\", alpha = 0.3);\n",
    "\n",
    "plt.imshow( (((0.5*x)+y<=30) & (x+(2.5*y)<=60) &(x+(2*y)<=22)& (x>=0) & (y>=0)).astype(int) , \n",
    "                extent=(x.min(),x.max(),y.min(),y.max()),origin=\"lower\", cmap=\"Greys\", alpha = 0.3);\n",
    "\n",
    "# plot the lines defining the constraints\n",
    "x = np.linspace(0, 160, 10)\n",
    "# ---------------------------------\n",
    "y1 =(30-(0.5*x))\n",
    "# ---------------------------------\n",
    "y2 = (60-x)/2.5\n",
    "# ---------------------------------\n",
    "y3 = (22-x)/2\n",
    "# ---------------------------------\n",
    "y4 =(x*0)       \n",
    "\n",
    "# Make plot\n",
    "plt.plot(x, y1, label=r'$y1 =(30-(0.5*x))$')\n",
    "plt.plot(x, y2, label=r'$y2 = (60-x)/2.5$')\n",
    "plt.plot(x, y3, label=r'$y3 = (22-x)/2$')\n",
    "plt.plot(x, y4, label=r'$y4 = 0$')\n",
    "#plt.plot(x, y5, label=r'$y5 = 0$')\n",
    "#plt.figtext(0.5, 0.8, \"Wartości maksymalizujące zysk między 4000 sztuk dla x i 4000 dla y\", ha=\"center\", fontsize=13, bbox={\"facecolor\":\"white\", \"alpha\":0.5, \"pad\":5})\n",
    "plt.xlim(0,40)\n",
    "plt.ylim(0,46)\n",
    "plt.legend(bbox_to_anchor=(1.05, 1), loc=2, borderaxespad=0.)\n",
    "plt.xlabel(r'Ilość mil')\n",
    "plt.ylabel(r'Ilość pompek')"
   ]
  },
  {
   "cell_type": "markdown",
   "metadata": {},
   "source": [
    "# Rozwiązanie przez CVXOPT"
   ]
  },
  {
   "cell_type": "code",
   "execution_count": 4,
   "metadata": {},
   "outputs": [
    {
     "name": "stdout",
     "output_type": "stream",
     "text": [
      "+-----------+----------+----------+\n",
      "| Czynniki: | Chleb A  | Chleb B  |\n",
      "+-----------+----------+----------+\n",
      "|   Piec    | 0.5 dnia | 1 dzień  |\n",
      "+-----------+----------+----------+\n",
      "| Piekarze  | 1 dzień  | 2.5 dnia |\n",
      "+-----------+----------+----------+\n",
      "| Pakowacze | 1 dzień  |  2 dni   |\n",
      "+-----------+----------+----------+\n"
     ]
    }
   ],
   "source": [
    "from beautifultable import BeautifulTable\n",
    "\n",
    "table = BeautifulTable()\n",
    "table.column_headers = [\"Czynniki:\", \"Chleb A\",\"Chleb B\"]\n",
    "table.append_row([\"Piec\",     \"0.5 dnia\",  \"1 dzień\"  ])\n",
    "table.append_row([\"Piekarze\",  \"1 dzień\",  \"2.5 dnia\"  ])\n",
    "table.append_row([\"Pakowacze\", \"1 dzień\",  \"2 dni\"  ])\n",
    "\n",
    "print(table)"
   ]
  },
  {
   "cell_type": "markdown",
   "metadata": {},
   "source": [
    "$$\n",
    "G = \\begin{bmatrix}\n",
    "0.5 & 1.0 \\\\\n",
    "1.0 & 2.5 \\\\\n",
    "1.0 & 2.0 \\\\\n",
    "-1 & 0  \\\\\n",
    "0 & -1  \\\\\n",
    "\\end{bmatrix}\n",
    "$$\n",
    "\n",
    "$$\n",
    "h = \\begin{bmatrix}\n",
    "30 \\\\\n",
    "60 \\\\\n",
    "22 \\\\\n",
    "0  \\\\\n",
    "0\n",
    "\\end{bmatrix}\n",
    "$$\n",
    "\n",
    "$$\n",
    "c = \\begin{bmatrix}\n",
    "20\\\\\n",
    "40 \\\\\n",
    "\\end{bmatrix}\n",
    "$$"
   ]
  },
  {
   "cell_type": "markdown",
   "metadata": {},
   "source": [
    "# Rozwiązanie przez CVXOPT"
   ]
  },
  {
   "cell_type": "code",
   "execution_count": 5,
   "metadata": {},
   "outputs": [
    {
     "name": "stdout",
     "output_type": "stream",
     "text": [
      "Zysk dla ustawień optymalnych: 440 zł\n",
      "\n",
      "Macierz wielkości optymalnych: x1, x2\n",
      "\n",
      "[[6.9]\n",
      " [7.5]]\n"
     ]
    }
   ],
   "source": [
    "from cvxopt import matrix\n",
    "import numpy as np\n",
    "\n",
    "c = matrix([[-20.0,-40.0]]) ## <== przy Maxymalizacji oba znaki mają być ujemne\n",
    "G = matrix([[0.5,1.0,1.0,-1.0,0.0],[1.0,2.5,2.0,0.0,-1.0]])\n",
    "h = matrix([30.0,60.0,22.0,0.0,0.0])\n",
    "\n",
    "\n",
    "from cvxopt import solvers\n",
    "\n",
    "solvers.options['show_progress'] = False  ## nie chce oglądać wydruku z obliczeń\n",
    "sol = solvers.lp(c, G, h)\n",
    "zysk = sol['primal objective']\n",
    "\n",
    "\n",
    "print('Zysk dla ustawień optymalnych: %.0f zł' %-zysk)\n",
    "x =np.array(sol['x']).round(1)\n",
    "print()\n",
    "print('Macierz wielkości optymalnych: x1, x2')\n",
    "print()\n",
    "print(x)"
   ]
  },
  {
   "cell_type": "markdown",
   "metadata": {},
   "source": [
    "# Rozwiązanie przez PuLP"
   ]
  },
  {
   "cell_type": "code",
   "execution_count": 6,
   "metadata": {},
   "outputs": [],
   "source": [
    "from pulp import *\n",
    "# Initialize Class\n",
    "model = LpProblem(\"Maksymalizacja_zysku_piekarni\", LpMaximize)"
   ]
  },
  {
   "cell_type": "markdown",
   "metadata": {},
   "source": [
    "<span style=\"font-size: 180%;color:#0000ff\">Sposób uzycia: LpVariable.dicts</span>\n",
    "\n",
    "### LpVariable(name, indexs, lowBound=None, upBound=None, cat='Continuous')\n",
    "\n",
    "- name = Prex do nazwy każdej utworzonej zmiennej LP\n",
    "- indexs = Lista ciągów kluczy do słownika zmiennych LP\n",
    "- lowBound = dolna granica\n",
    "- upBound = górna granica\n",
    "- cat = typ zmiennych : Integer, Binary, Continuous (default)"
   ]
  },
  {
   "cell_type": "code",
   "execution_count": 7,
   "metadata": {},
   "outputs": [
    {
     "data": {
      "text/plain": [
       "wybór"
      ]
     },
     "execution_count": 7,
     "metadata": {},
     "output_type": "execute_result"
    }
   ],
   "source": [
    "LpVariable(name=\"wybór\", lowBound=0, upBound=None, cat='Internal', e=None)"
   ]
  },
  {
   "cell_type": "code",
   "execution_count": 8,
   "metadata": {},
   "outputs": [
    {
     "name": "stdout",
     "output_type": "stream",
     "text": [
      "Maksymalizacja_zysku_piekarni:\n",
      "MAXIMIZE\n",
      "None\n",
      "VARIABLES\n",
      "\n"
     ]
    }
   ],
   "source": [
    "print(model)"
   ]
  },
  {
   "cell_type": "markdown",
   "metadata": {},
   "source": [
    "### Definiowanie zmiennych decyzyjnych"
   ]
  },
  {
   "cell_type": "code",
   "execution_count": 9,
   "metadata": {},
   "outputs": [],
   "source": [
    "# Define Decision Variables\n",
    "A = LpVariable('A', lowBound=0, cat='Integer')\n",
    "B = LpVariable('B', lowBound=0, cat='Integer')"
   ]
  },
  {
   "cell_type": "code",
   "execution_count": 10,
   "metadata": {},
   "outputs": [
    {
     "name": "stdout",
     "output_type": "stream",
     "text": [
      "Maksymalizacja_zysku_piekarni:\n",
      "MAXIMIZE\n",
      "None\n",
      "VARIABLES\n",
      "\n"
     ]
    }
   ],
   "source": [
    "print(model)"
   ]
  },
  {
   "cell_type": "markdown",
   "metadata": {},
   "source": [
    "<span style=\"font-size: 150%;color:#0000ff\"> Funkcja celu napisana operacyjne</span>\n",
    "\n",
    "Maksymalizacja miesięcznego zysku ze sprzedaży chlebów.\n",
    "\n",
    "$ \\bbox[5px,border:1px solid red]\n",
    "{\n",
    "F(x_a,x_b) = 20x_{a} + 40x_{b}  \\to  max\n",
    "\\qquad (1)  \n",
    "} $\n",
    "\n",
    "\n",
    "\n",
    "<span style=\"font-size: 150%;color:#0000ff\"> Warunki ograniczające</span>\n",
    "\n",
    "Ograniczeniem jest ilość dni pracy: piec pracuje 30 dni, piekarze 60 dni (dwie zmiany?), ludzie od pakowania 22 dni.\n",
    "\n",
    "$\n",
    "\\left\\{\n",
    "\\begin{align} \n",
    "{0.5x_a+1.0x_b}  & \\leqslant 30 & (1)\\\\\n",
    "{1.0x_a+2.5x_b}  & \\leqslant 60 & (2)\\\\\n",
    "{1.0x_a+2.0x_b}  & \\leqslant 22 & (3)\\\\\n",
    "{x_a} & \\geqslant 0 & (4)\\\\ \n",
    "{x_b} & \\geqslant 0 & (5)\\\\\n",
    "\\end{align}\n",
    "\\right. \n",
    "$"
   ]
  },
  {
   "cell_type": "markdown",
   "metadata": {},
   "source": [
    "### Definiowanie funkcji celu"
   ]
  },
  {
   "cell_type": "code",
   "execution_count": 11,
   "metadata": {},
   "outputs": [],
   "source": [
    "model += 20 * A + 40 * B"
   ]
  },
  {
   "cell_type": "code",
   "execution_count": 12,
   "metadata": {},
   "outputs": [
    {
     "name": "stdout",
     "output_type": "stream",
     "text": [
      "Maksymalizacja_zysku_piekarni:\n",
      "MAXIMIZE\n",
      "20*A + 40*B + 0\n",
      "VARIABLES\n",
      "0 <= A Integer\n",
      "0 <= B Integer\n",
      "\n"
     ]
    }
   ],
   "source": [
    "print(model)"
   ]
  },
  {
   "cell_type": "markdown",
   "metadata": {},
   "source": [
    "### Definiowanie ograniczeń"
   ]
  },
  {
   "cell_type": "code",
   "execution_count": 13,
   "metadata": {},
   "outputs": [],
   "source": [
    "model += 0.5 * A + 1 * B <= 30\n",
    "model += 1 * A + 2.5 * B <= 60\n",
    "model += 1 * A + 2 * B <= 22"
   ]
  },
  {
   "cell_type": "code",
   "execution_count": 14,
   "metadata": {},
   "outputs": [
    {
     "name": "stdout",
     "output_type": "stream",
     "text": [
      "Maksymalizacja_zysku_piekarni:\n",
      "MAXIMIZE\n",
      "20*A + 40*B + 0\n",
      "SUBJECT TO\n",
      "_C1: 0.5 A + B <= 30\n",
      "\n",
      "_C2: A + 2.5 B <= 60\n",
      "\n",
      "_C3: A + 2 B <= 22\n",
      "\n",
      "VARIABLES\n",
      "0 <= A Integer\n",
      "0 <= B Integer\n",
      "\n"
     ]
    }
   ],
   "source": [
    "print(model)"
   ]
  },
  {
   "cell_type": "code",
   "execution_count": 15,
   "metadata": {},
   "outputs": [
    {
     "name": "stdout",
     "output_type": "stream",
     "text": [
      "Produce 0.0 Cake A\n",
      "Produce 11.0 Cake B\n"
     ]
    }
   ],
   "source": [
    "# Solve Model\n",
    "model.solve()\n",
    "print(\"Produce {} Cake A\".format(A.varValue))\n",
    "print(\"Produce {} Cake B\".format(B.varValue))"
   ]
  }
 ],
 "metadata": {
  "kernelspec": {
   "display_name": "Python 3",
   "language": "python",
   "name": "python3"
  },
  "language_info": {
   "codemirror_mode": {
    "name": "ipython",
    "version": 3
   },
   "file_extension": ".py",
   "mimetype": "text/x-python",
   "name": "python",
   "nbconvert_exporter": "python",
   "pygments_lexer": "ipython3",
   "version": "3.7.4"
  }
 },
 "nbformat": 4,
 "nbformat_minor": 2
}
