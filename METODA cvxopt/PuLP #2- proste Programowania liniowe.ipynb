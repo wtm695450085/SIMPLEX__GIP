{
 "cells": [
  {
   "cell_type": "markdown",
   "metadata": {},
   "source": [
    "# Ilu potrzeba zatrudnić kierowców?"
   ]
  },
  {
   "cell_type": "code",
   "execution_count": 1,
   "metadata": {},
   "outputs": [
    {
     "name": "stdout",
     "output_type": "stream",
     "text": [
      "+----------------+------------------------------------------+\n",
      "| Dzień tygodnia | Tylu potrzeba minimum kierowców na dzień |\n",
      "+----------------+------------------------------------------+\n",
      "|   0 = Monday   |                    11                    |\n",
      "+----------------+------------------------------------------+\n",
      "|  1 = Tuesday   |                    14                    |\n",
      "+----------------+------------------------------------------+\n",
      "| 2 = Wednesday  |                    23                    |\n",
      "+----------------+------------------------------------------+\n",
      "|  3 = Thursday  |                    21                    |\n",
      "+----------------+------------------------------------------+\n",
      "|   4 = Friday   |                    20                    |\n",
      "+----------------+------------------------------------------+\n",
      "|  5 = Saturday  |                    15                    |\n",
      "+----------------+------------------------------------------+\n",
      "|   6 = Sunday   |                    8                     |\n",
      "+----------------+------------------------------------------+\n"
     ]
    }
   ],
   "source": [
    "from beautifultable import BeautifulTable\n",
    "\n",
    "table = BeautifulTable()\n",
    "table.column_headers = [\"Dzień tygodnia\", \"Tylu potrzeba minimum kierowców na dzień\"]\n",
    "table.append_row([\"0 = Monday\", 11])\n",
    "table.append_row([\"1 = Tuesday\", 14])\n",
    "table.append_row([\"2 = Wednesday\", 23])\n",
    "table.append_row([\"3 = Thursday\", 21])\n",
    "table.append_row([\"4 = Friday\", 20])\n",
    "table.append_row([\"5 = Saturday\", 15])\n",
    "table.append_row([\"6 = Sunday\", 8])\n",
    "print(table)"
   ]
  },
  {
   "cell_type": "markdown",
   "metadata": {},
   "source": [
    "Każdy kierowca pracuje 5 kolejnych dni po których ma wolne 3 dni. To powtarza się co tydzień. Traktujemy dni tygodnia jak x. X oznacza ilość kierowców."
   ]
  },
  {
   "cell_type": "markdown",
   "metadata": {},
   "source": [
    "Xi = the number of drivers working on day i"
   ]
  },
  {
   "cell_type": "markdown",
   "metadata": {},
   "source": [
    "$ \\bbox[5px,border:1px solid red]\n",
    "{\n",
    "F(x_1,x_2,x_3,x_4,x_5,x_6) = x_{1} + x_{2}+x_{3}+x_{4}+x_{5}+x_{6}  \\to  min\n",
    "\\qquad (1)  \n",
    "} $\n",
    "\n",
    "$\n",
    "\\left\\{\n",
    "\\begin{align} \n",
    "{x_0} & \\geqslant 11 \\\\ \n",
    "{x_1} & \\geqslant 14 \\\\\n",
    "{x_2} & \\geqslant 23 \\\\ \n",
    "{x_3} & \\geqslant 21 \\\\\n",
    "{x_4} & \\geqslant 20 \\\\ \n",
    "{x_5} & \\geqslant 15 \\\\\n",
    "{x_6} & \\geqslant 8 \\\\\n",
    "\\end{align}\n",
    "\\right. \n",
    "$"
   ]
  },
  {
   "cell_type": "code",
   "execution_count": 2,
   "metadata": {},
   "outputs": [
    {
     "name": "stderr",
     "output_type": "stream",
     "text": [
      "/home/wojciech/anaconda3/lib/python3.7/site-packages/pulp/pulp.py:1114: UserWarning: Spaces are not permitted in the name. Converted to '_'\n",
      "  warnings.warn(\"Spaces are not permitted in the name. Converted to '_'\")\n"
     ]
    },
    {
     "data": {
      "text/plain": [
       "1"
      ]
     },
     "execution_count": 2,
     "metadata": {},
     "output_type": "execute_result"
    }
   ],
   "source": [
    "import pandas as pd\n",
    "from pulp import *\n",
    "\n",
    "\n",
    "# Initialize Class \n",
    "model = LpProblem(\"Minimize Staffing\", LpMinimize)\n",
    "days = list(range(7))\n",
    "\n",
    "\n",
    "\n",
    "\n",
    "# Define Decision Variables \n",
    "x = LpVariable.dicts('staff_', days, lowBound=0, cat='Integer')\n",
    "\n",
    "\n",
    "# Define Objective \n",
    "model += lpSum([x[i] for i in days])\n",
    "\n",
    "# Define Constraints\n",
    "model += x[0] + x[3] + x[4] + x[5] + x[6] >= 11\n",
    "model += x[0] + x[1] + x[4] + x[5] + x[6] >= 14\n",
    "model += x[0] + x[1] + x[2] + x[5] + x[6] >= 23\n",
    "model += x[0] + x[1] + x[2] + x[3] + x[6] >= 21\n",
    "model += x[0] + x[1] + x[2] + x[3] + x[4] >= 20\n",
    "model += x[1] + x[2] + x[3] + x[4] + x[5] >= 15\n",
    "model += x[2] + x[3] + x[4] + x[5] + x[6] >= 8\n",
    "\n",
    "# Solve Model\n",
    "model.solve()\n"
   ]
  },
  {
   "cell_type": "code",
   "execution_count": 3,
   "metadata": {},
   "outputs": [
    {
     "name": "stdout",
     "output_type": "stream",
     "text": [
      "Status: Optimal\n"
     ]
    }
   ],
   "source": [
    "print(\"Status:\", LpStatus[model.status])"
   ]
  },
  {
   "cell_type": "code",
   "execution_count": 4,
   "metadata": {},
   "outputs": [
    {
     "name": "stdout",
     "output_type": "stream",
     "text": [
      "Należy produkować {0: staff__0, 1: staff__1, 2: staff__2, 3: staff__3, 4: staff__4, 5: staff__5, 6: staff__6} nawozu x\n"
     ]
    }
   ],
   "source": [
    "model.solve()\n",
    "print(\"Należy produkować {} nawozu x\".format(x))"
   ]
  },
  {
   "cell_type": "code",
   "execution_count": null,
   "metadata": {},
   "outputs": [],
   "source": []
  },
  {
   "cell_type": "code",
   "execution_count": null,
   "metadata": {},
   "outputs": [],
   "source": []
  },
  {
   "cell_type": "code",
   "execution_count": null,
   "metadata": {},
   "outputs": [],
   "source": []
  },
  {
   "cell_type": "code",
   "execution_count": null,
   "metadata": {},
   "outputs": [],
   "source": []
  },
  {
   "cell_type": "code",
   "execution_count": 5,
   "metadata": {},
   "outputs": [
    {
     "name": "stdout",
     "output_type": "stream",
     "text": [
      "(64, 14)\n"
     ]
    },
    {
     "data": {
      "text/html": [
       "<div>\n",
       "<style scoped>\n",
       "    .dataframe tbody tr th:only-of-type {\n",
       "        vertical-align: middle;\n",
       "    }\n",
       "\n",
       "    .dataframe tbody tr th {\n",
       "        vertical-align: top;\n",
       "    }\n",
       "\n",
       "    .dataframe thead th {\n",
       "        text-align: right;\n",
       "    }\n",
       "</style>\n",
       "<table border=\"1\" class=\"dataframe\">\n",
       "  <thead>\n",
       "    <tr style=\"text-align: right;\">\n",
       "      <th></th>\n",
       "      <th>Foods</th>\n",
       "      <th>Price/ Serving</th>\n",
       "      <th>Serving Size</th>\n",
       "      <th>Calories</th>\n",
       "      <th>Cholesterol mg</th>\n",
       "      <th>Total_Fat g</th>\n",
       "      <th>Sodium mg</th>\n",
       "      <th>Carbohydrates g</th>\n",
       "      <th>Dietary_Fiber g</th>\n",
       "      <th>Protein g</th>\n",
       "      <th>Vit_A IU</th>\n",
       "      <th>Vit_C IU</th>\n",
       "      <th>Calcium mg</th>\n",
       "      <th>Iron mg</th>\n",
       "    </tr>\n",
       "  </thead>\n",
       "  <tbody>\n",
       "    <tr>\n",
       "      <td>0</td>\n",
       "      <td>Frozen Broccoli</td>\n",
       "      <td>0.16</td>\n",
       "      <td>10 Oz Pkg</td>\n",
       "      <td>73.8</td>\n",
       "      <td>0.0</td>\n",
       "      <td>0.8</td>\n",
       "      <td>68.2</td>\n",
       "      <td>13.6</td>\n",
       "      <td>8.5</td>\n",
       "      <td>8.0</td>\n",
       "      <td>5867.4</td>\n",
       "      <td>160.2</td>\n",
       "      <td>159.0</td>\n",
       "      <td>2.3</td>\n",
       "    </tr>\n",
       "    <tr>\n",
       "      <td>1</td>\n",
       "      <td>Carrots,Raw</td>\n",
       "      <td>0.07</td>\n",
       "      <td>1/2 Cup Shredded</td>\n",
       "      <td>23.7</td>\n",
       "      <td>0.0</td>\n",
       "      <td>0.1</td>\n",
       "      <td>19.2</td>\n",
       "      <td>5.6</td>\n",
       "      <td>1.6</td>\n",
       "      <td>0.6</td>\n",
       "      <td>15471.0</td>\n",
       "      <td>5.1</td>\n",
       "      <td>14.9</td>\n",
       "      <td>0.3</td>\n",
       "    </tr>\n",
       "    <tr>\n",
       "      <td>2</td>\n",
       "      <td>Celery, Raw</td>\n",
       "      <td>0.04</td>\n",
       "      <td>1 Stalk</td>\n",
       "      <td>6.4</td>\n",
       "      <td>0.0</td>\n",
       "      <td>0.1</td>\n",
       "      <td>34.8</td>\n",
       "      <td>1.5</td>\n",
       "      <td>0.7</td>\n",
       "      <td>0.3</td>\n",
       "      <td>53.6</td>\n",
       "      <td>2.8</td>\n",
       "      <td>16.0</td>\n",
       "      <td>0.2</td>\n",
       "    </tr>\n",
       "    <tr>\n",
       "      <td>3</td>\n",
       "      <td>Frozen Corn</td>\n",
       "      <td>0.18</td>\n",
       "      <td>1/2 Cup</td>\n",
       "      <td>72.2</td>\n",
       "      <td>0.0</td>\n",
       "      <td>0.6</td>\n",
       "      <td>2.5</td>\n",
       "      <td>17.1</td>\n",
       "      <td>2.0</td>\n",
       "      <td>2.5</td>\n",
       "      <td>106.6</td>\n",
       "      <td>5.2</td>\n",
       "      <td>3.3</td>\n",
       "      <td>0.3</td>\n",
       "    </tr>\n",
       "    <tr>\n",
       "      <td>4</td>\n",
       "      <td>Lettuce,Iceberg,Raw</td>\n",
       "      <td>0.02</td>\n",
       "      <td>1 Leaf</td>\n",
       "      <td>2.6</td>\n",
       "      <td>0.0</td>\n",
       "      <td>0.0</td>\n",
       "      <td>1.8</td>\n",
       "      <td>0.4</td>\n",
       "      <td>0.3</td>\n",
       "      <td>0.2</td>\n",
       "      <td>66.0</td>\n",
       "      <td>0.8</td>\n",
       "      <td>3.8</td>\n",
       "      <td>0.1</td>\n",
       "    </tr>\n",
       "  </tbody>\n",
       "</table>\n",
       "</div>"
      ],
      "text/plain": [
       "                 Foods  Price/ Serving      Serving Size  Calories  \\\n",
       "0      Frozen Broccoli            0.16         10 Oz Pkg      73.8   \n",
       "1          Carrots,Raw            0.07  1/2 Cup Shredded      23.7   \n",
       "2          Celery, Raw            0.04           1 Stalk       6.4   \n",
       "3          Frozen Corn            0.18           1/2 Cup      72.2   \n",
       "4  Lettuce,Iceberg,Raw            0.02            1 Leaf       2.6   \n",
       "\n",
       "   Cholesterol mg  Total_Fat g  Sodium mg  Carbohydrates g  Dietary_Fiber g  \\\n",
       "0             0.0          0.8       68.2             13.6              8.5   \n",
       "1             0.0          0.1       19.2              5.6              1.6   \n",
       "2             0.0          0.1       34.8              1.5              0.7   \n",
       "3             0.0          0.6        2.5             17.1              2.0   \n",
       "4             0.0          0.0        1.8              0.4              0.3   \n",
       "\n",
       "   Protein g  Vit_A IU  Vit_C IU  Calcium mg  Iron mg  \n",
       "0        8.0    5867.4     160.2       159.0      2.3  \n",
       "1        0.6   15471.0       5.1        14.9      0.3  \n",
       "2        0.3      53.6       2.8        16.0      0.2  \n",
       "3        2.5     106.6       5.2         3.3      0.3  \n",
       "4        0.2      66.0       0.8         3.8      0.1  "
      ]
     },
     "execution_count": 5,
     "metadata": {},
     "output_type": "execute_result"
    }
   ],
   "source": [
    "import pandas as pd\n",
    "from pulp import *\n",
    "\n",
    "df = pd.read_excel(\"/home/wojciech/Pulpit/2/diet.xls\",nrows=64)\n",
    "\n",
    "print(df.shape)\n",
    "df.head()"
   ]
  },
  {
   "cell_type": "markdown",
   "metadata": {},
   "source": [
    "# Proste programowanie liniowe\n",
    "\n",
    "Create the PuLP problem variable. Since it is a cost minimization problem, we need to use LpMinimize"
   ]
  },
  {
   "cell_type": "code",
   "execution_count": 6,
   "metadata": {},
   "outputs": [],
   "source": [
    "prob = LpProblem(\"Simple_Diet_Problem\",LpMinimize)"
   ]
  },
  {
   "cell_type": "markdown",
   "metadata": {},
   "source": [
    "## Tworzę listę składników odżywczych"
   ]
  },
  {
   "cell_type": "code",
   "execution_count": 7,
   "metadata": {},
   "outputs": [],
   "source": [
    "food_items = list(df['Foods'])"
   ]
  },
  {
   "cell_type": "markdown",
   "metadata": {},
   "source": [
    "Fajny sposób drukowania długiej listy:"
   ]
  },
  {
   "cell_type": "code",
   "execution_count": 8,
   "metadata": {},
   "outputs": [
    {
     "name": "stdout",
     "output_type": "stream",
     "text": [
      "So, the food items to consdier, are\n",
      "----------------------------------------------------------------------------------------------------\n",
      "Frozen Broccoli, Carrots,Raw, Celery, Raw, Frozen Corn, Lettuce,Iceberg,Raw, Peppers, Sweet, Raw, Potatoes, Baked, Tofu, Roasted Chicken, Spaghetti W/ Sauce, Tomato,Red,Ripe,Raw, Apple,Raw,W/Skin, Banana, Grapes, Kiwifruit,Raw,Fresh, Oranges, Bagels, Wheat Bread, White Bread, Oatmeal Cookies, Apple Pie, Chocolate Chip Cookies, Butter,Regular, Cheddar Cheese, 3.3% Fat,Whole Milk, 2% Lowfat Milk, Skim Milk, Poached Eggs, Scrambled Eggs, Bologna,Turkey, Frankfurter, Beef, Ham,Sliced,Extralean, Kielbasa,Prk, Cap'N Crunch, Cheerios, Corn Flks, Kellogg'S, Raisin Brn, Kellg'S, Rice Krispies, Special K, Oatmeal, Malt-O-Meal,Choc, Pizza W/Pepperoni, Taco, Hamburger W/Toppings, Hotdog, Plain, Couscous, White Rice, Macaroni,Ckd, Peanut Butter, Pork, Sardines in Oil, White Tuna in Water, Popcorn,Air-Popped, Potato Chips,Bbqflvr, Pretzels, Tortilla Chip, Chicknoodl Soup, Splt Pea&Hamsoup, Vegetbeef Soup, Neweng Clamchwd, Tomato Soup, New E Clamchwd,W/Mlk, Crm Mshrm Soup,W/Mlk, Beanbacn Soup,W/Watr, "
     ]
    }
   ],
   "source": [
    "print(\"So, the food items to consdier, are\\n\"+\"-\"*100)\n",
    "for f in food_items:\n",
    "    print(f,end=', ')"
   ]
  },
  {
   "cell_type": "markdown",
   "metadata": {},
   "source": [
    "## Podpinam pod tą listę składników cennik - tworzę słownik: składnik-cena\n",
    "używam procedury zip, "
   ]
  },
  {
   "cell_type": "code",
   "execution_count": 9,
   "metadata": {},
   "outputs": [
    {
     "data": {
      "text/plain": [
       "{'Frozen Broccoli': 0.16,\n",
       " 'Carrots,Raw': 0.07,\n",
       " 'Celery, Raw': 0.04,\n",
       " 'Frozen Corn': 0.18,\n",
       " 'Lettuce,Iceberg,Raw': 0.02,\n",
       " 'Peppers, Sweet, Raw': 0.53,\n",
       " 'Potatoes, Baked': 0.06,\n",
       " 'Tofu': 0.31,\n",
       " 'Roasted Chicken': 0.84,\n",
       " 'Spaghetti W/ Sauce': 0.78,\n",
       " 'Tomato,Red,Ripe,Raw': 0.27,\n",
       " 'Apple,Raw,W/Skin': 0.24,\n",
       " 'Banana': 0.15,\n",
       " 'Grapes': 0.32,\n",
       " 'Kiwifruit,Raw,Fresh': 0.49,\n",
       " 'Oranges': 0.15,\n",
       " 'Bagels': 0.16,\n",
       " 'Wheat Bread': 0.05,\n",
       " 'White Bread': 0.06,\n",
       " 'Oatmeal Cookies': 0.09,\n",
       " 'Apple Pie': 0.16,\n",
       " 'Chocolate Chip Cookies': 0.03,\n",
       " 'Butter,Regular': 0.05,\n",
       " 'Cheddar Cheese': 0.25,\n",
       " '3.3% Fat,Whole Milk': 0.16,\n",
       " '2% Lowfat Milk': 0.23,\n",
       " 'Skim Milk': 0.13,\n",
       " 'Poached Eggs': 0.08,\n",
       " 'Scrambled Eggs': 0.11,\n",
       " 'Bologna,Turkey': 0.15,\n",
       " 'Frankfurter, Beef': 0.27,\n",
       " 'Ham,Sliced,Extralean': 0.33,\n",
       " 'Kielbasa,Prk': 0.15,\n",
       " \"Cap'N Crunch\": 0.31,\n",
       " 'Cheerios': 0.28,\n",
       " \"Corn Flks, Kellogg'S\": 0.28,\n",
       " \"Raisin Brn, Kellg'S\": 0.34,\n",
       " 'Rice Krispies': 0.32,\n",
       " 'Special K': 0.38,\n",
       " 'Oatmeal': 0.82,\n",
       " 'Malt-O-Meal,Choc': 0.52,\n",
       " 'Pizza W/Pepperoni': 0.44,\n",
       " 'Taco': 0.59,\n",
       " 'Hamburger W/Toppings': 0.83,\n",
       " 'Hotdog, Plain': 0.31,\n",
       " 'Couscous': 0.39,\n",
       " 'White Rice': 0.08,\n",
       " 'Macaroni,Ckd': 0.17,\n",
       " 'Peanut Butter': 0.07,\n",
       " 'Pork': 0.81,\n",
       " 'Sardines in Oil': 0.45,\n",
       " 'White Tuna in Water': 0.69,\n",
       " 'Popcorn,Air-Popped': 0.04,\n",
       " 'Potato Chips,Bbqflvr': 0.22,\n",
       " 'Pretzels': 0.12,\n",
       " 'Tortilla Chip': 0.19,\n",
       " 'Chicknoodl Soup': 0.39,\n",
       " 'Splt Pea&Hamsoup': 0.67,\n",
       " 'Vegetbeef Soup': 0.71,\n",
       " 'Neweng Clamchwd': 0.75,\n",
       " 'Tomato Soup': 0.39,\n",
       " 'New E Clamchwd,W/Mlk': 0.99,\n",
       " 'Crm Mshrm Soup,W/Mlk': 0.65,\n",
       " 'Beanbacn Soup,W/Watr': 0.67}"
      ]
     },
     "execution_count": 9,
     "metadata": {},
     "output_type": "execute_result"
    }
   ],
   "source": [
    "costs = dict(zip(food_items,df['Price/ Serving']))\n",
    "costs"
   ]
  },
  {
   "cell_type": "markdown",
   "metadata": {},
   "source": [
    "## Tworzę słownik produktów\n",
    "pierwszy tworzę słownik kaloryczności produktów"
   ]
  },
  {
   "cell_type": "code",
   "execution_count": 10,
   "metadata": {},
   "outputs": [],
   "source": [
    "calories = dict(zip(food_items,df['Calories']))\n",
    "cholesterol = dict(zip(food_items,df['Cholesterol mg']))\n",
    "fat = dict(zip(food_items,df['Total_Fat g']))\n",
    "sodium = dict(zip(food_items,df['Sodium mg']))\n",
    "carbs = dict(zip(food_items,df['Carbohydrates g']))\n",
    "fiber = dict(zip(food_items,df['Dietary_Fiber g']))\n",
    "protein = dict(zip(food_items,df['Protein g']))\n",
    "vit_A = dict(zip(food_items,df['Vit_A IU']))\n",
    "vit_C = dict(zip(food_items,df['Vit_C IU']))\n",
    "calcium = dict(zip(food_items,df['Calcium mg']))\n",
    "iron = dict(zip(food_items,df['Iron mg']))"
   ]
  },
  {
   "cell_type": "markdown",
   "metadata": {},
   "source": [
    "# Określenie dolnej granicy\n",
    "### Utwórz słownik porcji żywności z dolną granicą 0 - to są główne zmienne optymalizacji\n",
    "Tworzymy słownik zmiennych artykułów żywnościowych z dolną granicą = 0 i kategorią ciągłą, tj. Rozwiązanie optymalizacyjne może przyjąć dowolną wartość liczbową większą od zera.  Ilość jedzenia dla osób nie może mieć wartości ujemnych.\n",
    "\n",
    "Słownik o nazwie „food_vars” jest tworzony, aby zawierał zmienne, do których istnieją odwołania"
   ]
  },
  {
   "cell_type": "markdown",
   "metadata": {},
   "source": [
    "<span style=\"font-size: 100%;color:#0000ff\">Sposób uzycia: LpVariable.dicts</span>\n",
    "\n",
    "LpVariable(name, indexs, lowBound=None, upBound=None, cat='Continuous')\n",
    "\n",
    "- name = Prex do nazwy każdej utworzonej zmiennej LP\n",
    "- indexs = Lista ciągów kluczy do słownika zmiennych LP\n",
    "- lowBound = dolna granica\n",
    "- upBound = górna granica\n",
    "- cat = typ zmiennych : Integer, Binary, Continuous (default)"
   ]
  },
  {
   "cell_type": "code",
   "execution_count": 11,
   "metadata": {},
   "outputs": [],
   "source": [
    "food_vars = LpVariable.dicts(name =\"Portion\",indexs=food_items,lowBound =0,cat='Continuous')"
   ]
  },
  {
   "cell_type": "markdown",
   "metadata": {},
   "source": [
    "### Utwórz inny zestaw zmiennych dla każdej żywności, z liczbą całkowitą 0 lub 1. Są to zmienne wskaźnikowe"
   ]
  },
  {
   "cell_type": "code",
   "execution_count": 12,
   "metadata": {},
   "outputs": [],
   "source": [
    "food_chosen = LpVariable.dicts(name =\"Chosen\",indexs=food_items,lowBound=0,upBound=1,cat='Integer')"
   ]
  },
  {
   "cell_type": "markdown",
   "metadata": {},
   "source": [
    "## Funkcja celu - \"Total Cost of the balanced diet\"\n",
    "Zminimalizuj koszt obiadu, biorąc pod uwagę te ograniczenia (pod względem całkowitej liczby kalorii, ale także każdego składnika odżywczego, np. Cholesterolu, witaminy A, wapnia itp.\n",
    "\n",
    "Funkcja celu jest najpierw dodawana do „prob”\n",
    "\n",
    "- costs     - to słownik kosztu każdego produktu\n",
    "- food_vars - \n",
    "- food_items - to lista nazw potraw"
   ]
  },
  {
   "cell_type": "code",
   "execution_count": 13,
   "metadata": {},
   "outputs": [],
   "source": [
    "prob += lpSum([costs[i]*food_vars[i] for i in food_items]), \"Total Cost of the balanced diet\""
   ]
  },
  {
   "cell_type": "markdown",
   "metadata": {},
   "source": [
    "słownik kosztów jednostkowych produktów: 'costs' jest monżony przez warunek, że ilość musi być większa od zera."
   ]
  },
  {
   "cell_type": "markdown",
   "metadata": {},
   "source": [
    "## Warunki ograniczające: minimalna i maksymalna ilość kalorii"
   ]
  },
  {
   "cell_type": "code",
   "execution_count": 14,
   "metadata": {},
   "outputs": [],
   "source": [
    "prob += lpSum([calories[f] * food_vars[f] for f in food_items]) >= 1500.0, \"CalorieMinimum\"\n",
    "prob += lpSum([calories[f] * food_vars[f] for f in food_items]) <= 2500.0, \"CalorieMaximum\""
   ]
  },
  {
   "cell_type": "markdown",
   "metadata": {},
   "source": [
    "## Pozostałe warunki ograniczające:"
   ]
  },
  {
   "cell_type": "code",
   "execution_count": 15,
   "metadata": {},
   "outputs": [],
   "source": [
    "# Cholesterol\n",
    "prob += lpSum([cholesterol[f] * food_vars[f] for f in food_items]) >= 30.0, \"CholesterolMinimum\"\n",
    "prob += lpSum([cholesterol[f] * food_vars[f] for f in food_items]) <= 240.0, \"CholesterolMaximum\"\n",
    "\n",
    "# Fat\n",
    "prob += lpSum([fat[f] * food_vars[f] for f in food_items]) >= 20.0, \"FatMinimum\"\n",
    "prob += lpSum([fat[f] * food_vars[f] for f in food_items]) <= 70.0, \"FatMaximum\"\n",
    "\n",
    "# Sodium\n",
    "prob += lpSum([sodium[f] * food_vars[f] for f in food_items]) >= 800.0, \"SodiumMinimum\"\n",
    "prob += lpSum([sodium[f] * food_vars[f] for f in food_items]) <= 2000.0, \"SodiumMaximum\"\n",
    "\n",
    "# Carbs\n",
    "prob += lpSum([carbs[f] * food_vars[f] for f in food_items]) >= 130.0, \"CarbsMinimum\"\n",
    "prob += lpSum([carbs[f] * food_vars[f] for f in food_items]) <= 450.0, \"CarbsMaximum\"\n",
    "\n",
    "# Fiber\n",
    "prob += lpSum([fiber[f] * food_vars[f] for f in food_items]) >= 125.0, \"FiberMinimum\"\n",
    "prob += lpSum([fiber[f] * food_vars[f] for f in food_items]) <= 250.0, \"FiberMaximum\"\n",
    "\n",
    "# Protein\n",
    "prob += lpSum([protein[f] * food_vars[f] for f in food_items]) >= 60.0, \"ProteinMinimum\"\n",
    "prob += lpSum([protein[f] * food_vars[f] for f in food_items]) <= 100.0, \"ProteinMaximum\"\n",
    "\n",
    "# Vitamin A\n",
    "prob += lpSum([vit_A[f] * food_vars[f] for f in food_items]) >= 1000.0, \"VitaminAMinimum\"\n",
    "prob += lpSum([vit_A[f] * food_vars[f] for f in food_items]) <= 10000.0, \"VitaminAMaximum\"\n",
    "\n",
    "# Vitamin C\n",
    "prob += lpSum([vit_C[f] * food_vars[f] for f in food_items]) >= 400.0, \"VitaminCMinimum\"\n",
    "prob += lpSum([vit_C[f] * food_vars[f] for f in food_items]) <= 5000.0, \"VitaminCMaximum\"\n",
    "\n",
    "# Calcium\n",
    "prob += lpSum([calcium[f] * food_vars[f] for f in food_items]) >= 700.0, \"CalciumMinimum\"\n",
    "prob += lpSum([calcium[f] * food_vars[f] for f in food_items]) <= 1500.0, \"CalciumMaximum\"\n",
    "\n",
    "# Iron\n",
    "prob += lpSum([iron[f] * food_vars[f] for f in food_items]) >= 10.0, \"IronMinimum\"\n",
    "prob += lpSum([iron[f] * food_vars[f] for f in food_items]) <= 40.0, \"IronMaximum\""
   ]
  },
  {
   "cell_type": "markdown",
   "metadata": {},
   "source": [
    "## Dodanie ograniczenia łączącego parametry food_vars i food_chosen\n",
    "warunek mówi że ilość posiłków jest większe od 0.1 oraz mniejsze od 100000"
   ]
  },
  {
   "cell_type": "code",
   "execution_count": 16,
   "metadata": {},
   "outputs": [],
   "source": [
    "for f in food_items:\n",
    "    prob += food_vars[f]>= food_chosen[f]*0.1\n",
    "    prob += food_vars[f]<= food_chosen[f]*1e5"
   ]
  },
  {
   "cell_type": "markdown",
   "metadata": {},
   "source": [
    "### Dodanie ograniczenia z selera i mrożonych brokułów, że ma nie być więcej niż 1"
   ]
  },
  {
   "cell_type": "code",
   "execution_count": 17,
   "metadata": {},
   "outputs": [],
   "source": [
    "prob += food_chosen['Frozen Broccoli']+food_chosen['Celery, Raw']<=1"
   ]
  },
  {
   "cell_type": "markdown",
   "metadata": {},
   "source": [
    "### Dodanie ograniczenia co najmniej 3 rodzajów mięsa / drobiu / ryb / jaj w każdej diecie\n",
    "Co najmniej 3 rodzaje źródeł białka zwierzęcego\n",
    "\n",
    "to są potrawy jako całość np:'Frankfurter, Beef'. Są tu wypisane ponieważ są ważne."
   ]
  },
  {
   "cell_type": "code",
   "execution_count": 18,
   "metadata": {},
   "outputs": [],
   "source": [
    "protein_choices = ['Beanbacn Soup,W/Watr','Bologna,Turkey','Frankfurter, Beef','Ham,Sliced,Extralean',\n",
    "                  'Hamburger W/Toppings','Hotdog, Plain','Kielbasa,Prk','Neweng Clamchwd','Pizza W/Pepperoni',\n",
    "                  'Poached Eggs','Pork','Roasted Chicken','Sardines in Oil','Scrambled Eggs','Vegetbeef Soup',\n",
    "                   'White Tuna in Water']"
   ]
  },
  {
   "cell_type": "markdown",
   "metadata": {},
   "source": [
    "nie można tych potraw więcej zjeść niż 3"
   ]
  },
  {
   "cell_type": "code",
   "execution_count": 19,
   "metadata": {},
   "outputs": [],
   "source": [
    "prob += lpSum([food_chosen[p] for p in protein_choices]) >= 3.0"
   ]
  },
  {
   "cell_type": "markdown",
   "metadata": {},
   "source": [
    "## Zapisywanie danych problemu do pliku .lp"
   ]
  },
  {
   "cell_type": "code",
   "execution_count": 20,
   "metadata": {},
   "outputs": [
    {
     "data": {
      "text/plain": [
       "[Chosen_2%_Lowfat_Milk,\n",
       " Chosen_3.3%_Fat,Whole_Milk,\n",
       " Chosen_Apple,Raw,W_Skin,\n",
       " Chosen_Apple_Pie,\n",
       " Chosen_Bagels,\n",
       " Chosen_Banana,\n",
       " Chosen_Beanbacn_Soup,W_Watr,\n",
       " Chosen_Bologna,Turkey,\n",
       " Chosen_Butter,Regular,\n",
       " Chosen_Cap'N_Crunch,\n",
       " Chosen_Carrots,Raw,\n",
       " Chosen_Celery,_Raw,\n",
       " Chosen_Cheddar_Cheese,\n",
       " Chosen_Cheerios,\n",
       " Chosen_Chicknoodl_Soup,\n",
       " Chosen_Chocolate_Chip_Cookies,\n",
       " Chosen_Corn_Flks,_Kellogg'S,\n",
       " Chosen_Couscous,\n",
       " Chosen_Crm_Mshrm_Soup,W_Mlk,\n",
       " Chosen_Frankfurter,_Beef,\n",
       " Chosen_Frozen_Broccoli,\n",
       " Chosen_Frozen_Corn,\n",
       " Chosen_Grapes,\n",
       " Chosen_Ham,Sliced,Extralean,\n",
       " Chosen_Hamburger_W_Toppings,\n",
       " Chosen_Hotdog,_Plain,\n",
       " Chosen_Kielbasa,Prk,\n",
       " Chosen_Kiwifruit,Raw,Fresh,\n",
       " Chosen_Lettuce,Iceberg,Raw,\n",
       " Chosen_Macaroni,Ckd,\n",
       " Chosen_Malt_O_Meal,Choc,\n",
       " Chosen_New_E_Clamchwd,W_Mlk,\n",
       " Chosen_Neweng_Clamchwd,\n",
       " Chosen_Oatmeal,\n",
       " Chosen_Oatmeal_Cookies,\n",
       " Chosen_Oranges,\n",
       " Chosen_Peanut_Butter,\n",
       " Chosen_Peppers,_Sweet,_Raw,\n",
       " Chosen_Pizza_W_Pepperoni,\n",
       " Chosen_Poached_Eggs,\n",
       " Chosen_Popcorn,Air_Popped,\n",
       " Chosen_Pork,\n",
       " Chosen_Potato_Chips,Bbqflvr,\n",
       " Chosen_Potatoes,_Baked,\n",
       " Chosen_Pretzels,\n",
       " Chosen_Raisin_Brn,_Kellg'S,\n",
       " Chosen_Rice_Krispies,\n",
       " Chosen_Roasted_Chicken,\n",
       " Chosen_Sardines_in_Oil,\n",
       " Chosen_Scrambled_Eggs,\n",
       " Chosen_Skim_Milk,\n",
       " Chosen_Spaghetti_W__Sauce,\n",
       " Chosen_Special_K,\n",
       " Chosen_Splt_Pea&Hamsoup,\n",
       " Chosen_Taco,\n",
       " Chosen_Tofu,\n",
       " Chosen_Tomato,Red,Ripe,Raw,\n",
       " Chosen_Tomato_Soup,\n",
       " Chosen_Tortilla_Chip,\n",
       " Chosen_Vegetbeef_Soup,\n",
       " Chosen_Wheat_Bread,\n",
       " Chosen_White_Bread,\n",
       " Chosen_White_Rice,\n",
       " Chosen_White_Tuna_in_Water,\n",
       " Portion_2%_Lowfat_Milk,\n",
       " Portion_3.3%_Fat,Whole_Milk,\n",
       " Portion_Apple,Raw,W_Skin,\n",
       " Portion_Apple_Pie,\n",
       " Portion_Bagels,\n",
       " Portion_Banana,\n",
       " Portion_Beanbacn_Soup,W_Watr,\n",
       " Portion_Bologna,Turkey,\n",
       " Portion_Butter,Regular,\n",
       " Portion_Cap'N_Crunch,\n",
       " Portion_Carrots,Raw,\n",
       " Portion_Celery,_Raw,\n",
       " Portion_Cheddar_Cheese,\n",
       " Portion_Cheerios,\n",
       " Portion_Chicknoodl_Soup,\n",
       " Portion_Chocolate_Chip_Cookies,\n",
       " Portion_Corn_Flks,_Kellogg'S,\n",
       " Portion_Couscous,\n",
       " Portion_Crm_Mshrm_Soup,W_Mlk,\n",
       " Portion_Frankfurter,_Beef,\n",
       " Portion_Frozen_Broccoli,\n",
       " Portion_Frozen_Corn,\n",
       " Portion_Grapes,\n",
       " Portion_Ham,Sliced,Extralean,\n",
       " Portion_Hamburger_W_Toppings,\n",
       " Portion_Hotdog,_Plain,\n",
       " Portion_Kielbasa,Prk,\n",
       " Portion_Kiwifruit,Raw,Fresh,\n",
       " Portion_Lettuce,Iceberg,Raw,\n",
       " Portion_Macaroni,Ckd,\n",
       " Portion_Malt_O_Meal,Choc,\n",
       " Portion_New_E_Clamchwd,W_Mlk,\n",
       " Portion_Neweng_Clamchwd,\n",
       " Portion_Oatmeal,\n",
       " Portion_Oatmeal_Cookies,\n",
       " Portion_Oranges,\n",
       " Portion_Peanut_Butter,\n",
       " Portion_Peppers,_Sweet,_Raw,\n",
       " Portion_Pizza_W_Pepperoni,\n",
       " Portion_Poached_Eggs,\n",
       " Portion_Popcorn,Air_Popped,\n",
       " Portion_Pork,\n",
       " Portion_Potato_Chips,Bbqflvr,\n",
       " Portion_Potatoes,_Baked,\n",
       " Portion_Pretzels,\n",
       " Portion_Raisin_Brn,_Kellg'S,\n",
       " Portion_Rice_Krispies,\n",
       " Portion_Roasted_Chicken,\n",
       " Portion_Sardines_in_Oil,\n",
       " Portion_Scrambled_Eggs,\n",
       " Portion_Skim_Milk,\n",
       " Portion_Spaghetti_W__Sauce,\n",
       " Portion_Special_K,\n",
       " Portion_Splt_Pea&Hamsoup,\n",
       " Portion_Taco,\n",
       " Portion_Tofu,\n",
       " Portion_Tomato,Red,Ripe,Raw,\n",
       " Portion_Tomato_Soup,\n",
       " Portion_Tortilla_Chip,\n",
       " Portion_Vegetbeef_Soup,\n",
       " Portion_Wheat_Bread,\n",
       " Portion_White_Bread,\n",
       " Portion_White_Rice,\n",
       " Portion_White_Tuna_in_Water]"
      ]
     },
     "execution_count": 20,
     "metadata": {},
     "output_type": "execute_result"
    }
   ],
   "source": [
    "prob.writeLP(\"SimpleDietProblem.lp\")"
   ]
  },
  {
   "cell_type": "markdown",
   "metadata": {},
   "source": [
    "### Uruchamiamy solver\n",
    "\n",
    "W przypadku tego problemu nie określamy żadnego wyboru i pozwalamy programowi domyślnie wybrać własny wybór w zależności od struktury problemu."
   ]
  },
  {
   "cell_type": "code",
   "execution_count": 21,
   "metadata": {},
   "outputs": [
    {
     "data": {
      "text/plain": [
       "1"
      ]
     },
     "execution_count": 21,
     "metadata": {},
     "output_type": "execute_result"
    }
   ],
   "source": [
    "prob.solve()"
   ]
  },
  {
   "cell_type": "markdown",
   "metadata": {},
   "source": [
    "Możemy wydrukować stan rozwiązania. Uwaga, chociaż stan jest optymalny w tym przypadku, nie musi tak być. W przypadku, gdy problem jest źle sformułowany lub nie ma wystarczających informacji, rozwiązanie może być niewykonalne lub nieograniczone ."
   ]
  },
  {
   "cell_type": "code",
   "execution_count": 22,
   "metadata": {},
   "outputs": [
    {
     "name": "stdout",
     "output_type": "stream",
     "text": [
      "Status: Optimal\n"
     ]
    }
   ],
   "source": [
    "print(\"Status:\", LpStatus[prob.status])"
   ]
  },
  {
   "cell_type": "markdown",
   "metadata": {},
   "source": [
    "Pełne rozwiązanie zawiera wszystkie zmienne, w tym zmienne o zerowej wadze. Ale dla nas interesujące są tylko te zmienne, które mają niezerowe współczynniki, czyli takie, które powinny być uwzględnione w optymalnym planie diety. Tak więc możemy przejrzeć zmienne powodujące problemy i wydrukować tylko wtedy, gdy zmienna ilość jest dodatnia."
   ]
  },
  {
   "cell_type": "code",
   "execution_count": 23,
   "metadata": {},
   "outputs": [
    {
     "name": "stdout",
     "output_type": "stream",
     "text": [
      "Składa się z optymalnej (najtańszej) zbilansowanej diety z dodatkowymi ograniczeniami (np. Co najmniej 3 rodzaje źródeł białka zwierzęcego)\n",
      "--------------------------------------------------------------------------------------------------------------\n",
      "Portion_Celery,_Raw = 42.399358\n",
      "Portion_Kielbasa,Prk = 0.1\n",
      "Portion_Lettuce,Iceberg,Raw = 82.802586\n",
      "Portion_Oranges = 3.0771841\n",
      "Portion_Peanut_Butter = 1.9429716\n",
      "Portion_Poached_Eggs = 0.1\n",
      "Portion_Popcorn,Air_Popped = 13.223294\n",
      "Portion_Scrambled_Eggs = 0.1\n"
     ]
    }
   ],
   "source": [
    "print(\"Składa się z optymalnej (najtańszej) zbilansowanej diety z dodatkowymi ograniczeniami \\\n",
    "(np. Co najmniej 3 rodzaje źródeł białka zwierzęcego)\\n\"+\"-\"*110)\n",
    "for v in prob.variables():\n",
    "    if v.varValue>0 and v.name[0]=='P':\n",
    "        print(v.name, \"=\", v.varValue)"
   ]
  },
  {
   "cell_type": "markdown",
   "metadata": {},
   "source": [
    "Tak więc optymalnym pod względem kosztów dieta to 42,399 porcji selera, 0,1 porcji kiełbasy i 82,8 porcji sałaty lodowej oraz 3 porcje pomarańczy itd.! Bardzo mądre!"
   ]
  },
  {
   "cell_type": "code",
   "execution_count": 24,
   "metadata": {},
   "outputs": [
    {
     "name": "stdout",
     "output_type": "stream",
     "text": [
      "The total cost of this balanced diet is: $4.51\n"
     ]
    }
   ],
   "source": [
    "print(\"The total cost of this balanced diet is: ${}\".format(round(value(prob.objective),2)))"
   ]
  },
  {
   "cell_type": "markdown",
   "metadata": {},
   "source": [
    "Program wybrał najtańsze potrawy (Celery: 0.04, Lettuce: 0.02). Ten algorytm optymalizacji to proste programowanie liniowe, w którym zmienne mogły przyjmować dowolną wartość liczb rzeczywistych."
   ]
  }
 ],
 "metadata": {
  "kernelspec": {
   "display_name": "Python 3",
   "language": "python",
   "name": "python3"
  },
  "language_info": {
   "codemirror_mode": {
    "name": "ipython",
    "version": 3
   },
   "file_extension": ".py",
   "mimetype": "text/x-python",
   "name": "python",
   "nbconvert_exporter": "python",
   "pygments_lexer": "ipython3",
   "version": "3.7.4"
  }
 },
 "nbformat": 4,
 "nbformat_minor": 2
}
