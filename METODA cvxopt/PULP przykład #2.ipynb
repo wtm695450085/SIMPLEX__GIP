{
 "cells": [
  {
   "cell_type": "markdown",
   "metadata": {},
   "source": [
    "# PULP przykład #2\n",
    "\n",
    "https://hackernoon.com/linear-programming-in-python-a-straight-forward-tutorial-a0d152618121"
   ]
  },
  {
   "cell_type": "markdown",
   "metadata": {},
   "source": [
    "Żeby mieć pomysł, rozwiążemy prosty problem dotyczący harmonogramowania produkcji. Wyobraź sobie, że pracujesz dla firmy, która buduje komputery. Komputer jest dość złożonym produktem i jest kilka fabryk, które je montują, a firma płaci określoną kwotę za sztukę. Koszt tego modelu komputera na rynku jest ustalony na 500 $, różne fabryki montują komputery z różnymi prędkościami i kosztami. Fabryka: \n",
    "\n",
    "-  f0 produkuje 2000 dziennie po 450 $ za sztukę \n",
    "\n",
    "-  f1 1500 dziennie po 420 $ za sztukę\n",
    "\n",
    "-  f2 1000 dziennie po 400 $ za sztukę \n",
    "\n",
    "Mamy 1 miesiąc na zmontowanie 80 000 jednostek pod warunkiem, że żadna fabryka nie będzie produkować więcej niż dwa razy więcej jednostek niż jakakolwiek inna fabryka. \n",
    "\n",
    "Pytanie brzmi,jaka jest optymalna alokacja produkcji między fabrykami, tak aby zmaksymalizować zysk uzyskany ze sprzedaży komputerów przy tych ograniczeniach?"
   ]
  },
  {
   "cell_type": "markdown",
   "metadata": {},
   "source": [
    " aby rozwiązać problem produkcji komputerowej za pomocą programowania liniowego, potrzebujemy następujących rzeczy:\n",
    "\n",
    "- Zbiór zmiennych decyzyjnych\n",
    "- Zestaw więzów liniowych dotyczących tych zmiennych\n",
    "- Liniowa funkcja celu maksymalizująca lub minimalizująca\n"
   ]
  },
  {
   "cell_type": "code",
   "execution_count": 1,
   "metadata": {},
   "outputs": [],
   "source": [
    "from pulp import *\n",
    "# cel maksymalizacja zysku ze sprzedaży określonej liczby komputerów\n",
    "\n",
    "problem = LpProblem(\"problemName\", LpMaximize)"
   ]
  },
  {
   "cell_type": "markdown",
   "metadata": {},
   "source": [
    "Definiujemy również stałe, które otrzymaliśmy z opisu problemu:"
   ]
  },
  {
   "cell_type": "code",
   "execution_count": 2,
   "metadata": {},
   "outputs": [],
   "source": [
    "# factory cost per day\n",
    "cf0 = 450\n",
    "cf1 = 420\n",
    "cf2 = 400"
   ]
  },
  {
   "cell_type": "code",
   "execution_count": 3,
   "metadata": {},
   "outputs": [],
   "source": [
    "# przepustowość fabryki na dzień \n",
    "f0 = 2000 \n",
    "f1 = 1500 \n",
    "f2 = 1000"
   ]
  },
  {
   "cell_type": "code",
   "execution_count": 4,
   "metadata": {},
   "outputs": [],
   "source": [
    "# cel produkcji\n",
    "goal = 80000"
   ]
  },
  {
   "cell_type": "code",
   "execution_count": 5,
   "metadata": {},
   "outputs": [],
   "source": [
    "# time limit\n",
    "max_num_days = 30"
   ]
  },
  {
   "cell_type": "code",
   "execution_count": 6,
   "metadata": {},
   "outputs": [],
   "source": [
    "num_factories = 3"
   ]
  },
  {
   "cell_type": "markdown",
   "metadata": {},
   "source": [
    "## Definiuje zmienne decyzje\n",
    "robi się to tak:\n",
    "### - variable = LpVariable(\"variableName\")\n",
    "\n",
    "Jeszcze innym użytecznym sposobem definiowania zmiennych w PuLP jest użycie funkcji dicts. Może to być bardzo przydatne w przypadkach, gdy musimy zdefiniować dużą liczbę zmiennych tego samego typu i granic, zmiennaNames byłaby listą kluczy do słownika:\n",
    "\n",
    "### - varDict = LpVariable.dicts (\"varDict\", variableNames, lowBound, upBound)"
   ]
  },
  {
   "cell_type": "markdown",
   "metadata": {},
   "source": [
    " ##  <span style=\"color:blue\"> Definiujemy zmienną decyzyjną\n",
    "    \n",
    "   Celem jest pokazanie ile dni ma produkować każda fabryka\n",
    "\n",
    "    x0  - ilość dni pracy fabryki 0\n",
    "    x1  - ilość dni pracy fabryki 1\n",
    "    x2  - ilość dni pracy fabryki 2\n",
    "    \n",
    " mamy przekazać zarządowi firmy, ile dni każda z 3 fabryk ma produkować\n",
    " \n",
    " Zmiennymi decyzyjnymi dla problemu produkcji komputerów są dni, które spędzamy na produkcji dla każdej fabryki:"
   ]
  },
  {
   "cell_type": "code",
   "execution_count": 20,
   "metadata": {},
   "outputs": [
    {
     "data": {
      "text/plain": [
       "{0: factoryDays_0, 1: factoryDays_1, 2: factoryDays_2}"
      ]
     },
     "execution_count": 20,
     "metadata": {},
     "output_type": "execute_result"
    }
   ],
   "source": [
    "# factories\n",
    "num_factories = 3\n",
    "factory_days = LpVariable.dicts(\"factoryDays\", list(range(num_factories)), lowBound=0, upBound=30, cat=\"Continuous\")\n",
    "factory_days"
   ]
  },
  {
   "cell_type": "code",
   "execution_count": 37,
   "metadata": {},
   "outputs": [
    {
     "name": "stdout",
     "output_type": "stream",
     "text": [
      "+------------+-----------------+---------------------------------------+\n",
      "|  Maszyna   | koszt produkcji | Maksymalna ilość produkcji w miesiącu |\n",
      "+------------+-----------------+---------------------------------------+\n",
      "| Fabryka f0 |       450       |                 2000                  |\n",
      "+------------+-----------------+---------------------------------------+\n",
      "| Fabryka f1 |       420       |                 1500                  |\n",
      "+------------+-----------------+---------------------------------------+\n",
      "| Fabryka f2 |       400       |                 1000                  |\n",
      "+------------+-----------------+---------------------------------------+\n"
     ]
    }
   ],
   "source": [
    "## Tabela ograniczeń\n",
    "\n",
    "from beautifultable import BeautifulTable\n",
    "\n",
    "table = BeautifulTable()\n",
    "table.column_headers = [\"Maszyna\", \"koszt produkcji\",\"Maksymalna ilość produkcji w miesiącu\"]\n",
    "table.append_row([\"Fabryka f0\", 450, 2000])\n",
    "table.append_row([\"Fabryka f1\", 420, 1500])\n",
    "table.append_row([\"Fabryka f2\", 400, 1000])\n",
    "print(table)"
   ]
  },
  {
   "cell_type": "markdown",
   "metadata": {},
   "source": [
    "##  <span style=\"color:blue\">  ograniczenie celu\n",
    "    że łaczna produkcja we wszystkich fabrykach nie może być wieksza niż 80000 komputerów\n",
    "    \n",
    "#### przepustowość fabryki na dzień \n",
    "- f0 = 2000 \n",
    "- f1 = 1500 \n",
    "- f2 = 1000\n",
    "\n",
    "- goal = 80000"
   ]
  },
  {
   "cell_type": "markdown",
   "metadata": {},
   "source": [
    "\\begin{align} \n",
    "{2000x_0+1500x_1+1000x_2}  & \\leqslant 80000 \\\\ \n",
    "\\end{align} "
   ]
  },
  {
   "cell_type": "code",
   "execution_count": 22,
   "metadata": {},
   "outputs": [],
   "source": [
    "c1 = factory_days[0]*f0 + factory_days[1]*f1 + factory_days[2] * f2 >= goal"
   ]
  },
  {
   "cell_type": "markdown",
   "metadata": {},
   "source": [
    "##  <span style=\"color:blue\"> Ograniczenia produkcyjne\n",
    "\n",
    "Należy zwrócić uwagę, że przy programowaniu liniowym ograniczenia muszą być liniowe. Ograniczenia, na których nam zależy, polegają na tym, aby liczba montowanych jednostek była większa lub równa docelowej ilości oraz ograniczenie produkcyjne, że żadna fabryka nie powinna produkować więcej niż dwa razy więcej niż inna fabryka:\n",
    "\n",
    "factory_days to liczba dni pracy fabryki, zdefiniowane jako liczba całkowita z zakresu od 1 do 30 \n"
   ]
  },
  {
   "cell_type": "code",
   "execution_count": 23,
   "metadata": {},
   "outputs": [],
   "source": [
    "# production constraints\n",
    "c2 = factory_days[0]*f0 <= 2*factory_days[1]*f1   # liczba produkcji fabryki 0 <= produkcja fabryki 1\n",
    "c3 = factory_days[0]*f0 <= 2*factory_days[2]*f2   # liczba produkcji fabryki 0 <= produkcja fabryki 2\n",
    "c4 = factory_days[1]*f1 <= 2*factory_days[2]*f2   # liczba produkcji fabryki 1 <= produkcja fabryki 0\n",
    "c5 = factory_days[1]*f1 <= 2*factory_days[0]*f0   # liczba produkcji fabryki 1 <= produkcja fabryki 2\n",
    "c6 = factory_days[2]*f2 <= 2*factory_days[1]*f1\n",
    "c7 = factory_days[2]*f2 <= 2*factory_days[0]*f0"
   ]
  },
  {
   "cell_type": "markdown",
   "metadata": {},
   "source": [
    "##  <span style=\"color:blue\">Zebraliśmy 7 ograniczeń, teraz dodajemy je do problemu\n",
    "    \n",
    "    to jest nasz zdefiniowany wcześiej problem\n",
    "###    problem = LpProblem(\"problemName\", LpMaximize)"
   ]
  },
  {
   "cell_type": "code",
   "execution_count": 24,
   "metadata": {},
   "outputs": [],
   "source": [
    "# adding the constraints to the problem\n",
    "problem += c1\n",
    "problem += c2\n",
    "problem += c3\n",
    "problem += c4\n",
    "problem += c5\n",
    "problem += c6\n",
    "problem += c7"
   ]
  },
  {
   "cell_type": "markdown",
   "metadata": {},
   "source": [
    "##  <span style=\"color:blue\"> Funkcja celu\n",
    "\n",
    "Celem problemu montażu komputerów jest zasadniczo minimalizacja kosztów montażu wszystkich tych komputerów. Można to po prostu zapisać jako maksymalizację kosztu ujemnego:\n",
    "\n",
    "### <span style=\"color:green\">       ilość dni pracy * wydajność fabryki * koszty dzienne produkcji\n",
    "\n",
    "dodaje do problemu funkcję celu"
   ]
  },
  {
   "cell_type": "code",
   "execution_count": 26,
   "metadata": {},
   "outputs": [],
   "source": [
    "# objective function\n",
    "problem += -factory_days[0]*cf0*f0 - factory_days[1]*cf1*f1 - factory_days[2]*cf2*f2"
   ]
  },
  {
   "cell_type": "markdown",
   "metadata": {},
   "source": [
    "Zebaliśmy do modelu dużo warunków ograniczających i funkcje celu. teraz można to wydrukować."
   ]
  },
  {
   "cell_type": "code",
   "execution_count": 27,
   "metadata": {},
   "outputs": [
    {
     "name": "stdout",
     "output_type": "stream",
     "text": [
      "problemName:\n",
      "MAXIMIZE\n",
      "-900000*factoryDays_0 + -630000*factoryDays_1 + -400000*factoryDays_2 + 0\n",
      "SUBJECT TO\n",
      "_C1: 2000 factoryDays_0 + 1500 factoryDays_1 + 1000 factoryDays_2 >= 80000\n",
      "\n",
      "_C2: 2000 factoryDays_0 - 3000 factoryDays_1 <= 0\n",
      "\n",
      "_C3: 2000 factoryDays_0 - 2000 factoryDays_2 <= 0\n",
      "\n",
      "_C4: 1500 factoryDays_1 - 2000 factoryDays_2 <= 0\n",
      "\n",
      "_C5: - 4000 factoryDays_0 + 1500 factoryDays_1 <= 0\n",
      "\n",
      "_C6: - 3000 factoryDays_1 + 1000 factoryDays_2 <= 0\n",
      "\n",
      "_C7: - 4000 factoryDays_0 + 1000 factoryDays_2 <= 0\n",
      "\n",
      "VARIABLES\n",
      "factoryDays_0 <= 30 Continuous\n",
      "factoryDays_1 <= 30 Continuous\n",
      "factoryDays_2 <= 30 Continuous\n",
      "\n"
     ]
    }
   ],
   "source": [
    "print(problem)"
   ]
  },
  {
   "cell_type": "markdown",
   "metadata": {},
   "source": [
    "## Rozwiązywanie\n",
    "Po zdefiniowaniu wszystkiego, co niezbędne w naszym zadaniu programowania liniowego, możemy wywołać metodę rozwiązywania, która daje:\n",
    "   -  1, jeśli problem został rozwiązany, \n",
    "   - -1, jeśli było niewykonalne"
   ]
  },
  {
   "cell_type": "code",
   "execution_count": 29,
   "metadata": {},
   "outputs": [
    {
     "data": {
      "text/plain": [
       "1"
      ]
     },
     "execution_count": 29,
     "metadata": {},
     "output_type": "execute_result"
    }
   ],
   "source": [
    "problem.solve()"
   ]
  },
  {
   "cell_type": "code",
   "execution_count": 31,
   "metadata": {},
   "outputs": [
    {
     "name": "stdout",
     "output_type": "stream",
     "text": [
      "Factory 0: 8.3333333\n",
      "Factory 1: 22.222222\n",
      "Factory 2: 30.0\n"
     ]
    }
   ],
   "source": [
    "for i in range(3):\n",
    "    print(f\"Factory {i}: {factory_days[i].varValue}\")"
   ]
  },
  {
   "cell_type": "markdown",
   "metadata": {},
   "source": [
    "W programowaniu liniowym zakładamy, że relacje między zmiennymi są liniowe, a same zmienne są ciągłe. W ramach kontynuacji tego samouczka omówię programowanie liczb całkowitych mieszanych, w którym zmienne mogą być liczbami całkowitymi, co okaże się bardzo użyteczną rzeczą, ponieważ można je wykorzystać do symulacji logiki boolowskiej."
   ]
  },
  {
   "cell_type": "code",
   "execution_count": null,
   "metadata": {},
   "outputs": [],
   "source": []
  },
  {
   "cell_type": "code",
   "execution_count": null,
   "metadata": {},
   "outputs": [],
   "source": []
  },
  {
   "cell_type": "code",
   "execution_count": null,
   "metadata": {},
   "outputs": [],
   "source": []
  },
  {
   "cell_type": "code",
   "execution_count": null,
   "metadata": {},
   "outputs": [],
   "source": []
  },
  {
   "cell_type": "code",
   "execution_count": null,
   "metadata": {},
   "outputs": [],
   "source": []
  },
  {
   "cell_type": "code",
   "execution_count": null,
   "metadata": {},
   "outputs": [],
   "source": []
  },
  {
   "cell_type": "code",
   "execution_count": null,
   "metadata": {},
   "outputs": [],
   "source": []
  },
  {
   "cell_type": "code",
   "execution_count": null,
   "metadata": {},
   "outputs": [],
   "source": []
  },
  {
   "cell_type": "code",
   "execution_count": null,
   "metadata": {},
   "outputs": [],
   "source": []
  }
 ],
 "metadata": {
  "kernelspec": {
   "display_name": "Python 3",
   "language": "python",
   "name": "python3"
  },
  "language_info": {
   "codemirror_mode": {
    "name": "ipython",
    "version": 3
   },
   "file_extension": ".py",
   "mimetype": "text/x-python",
   "name": "python",
   "nbconvert_exporter": "python",
   "pygments_lexer": "ipython3",
   "version": "3.7.4"
  }
 },
 "nbformat": 4,
 "nbformat_minor": 2
}
