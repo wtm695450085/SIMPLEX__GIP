{
 "cells": [
  {
   "cell_type": "markdown",
   "metadata": {},
   "source": [
    "### PULP przykład 20 str.130"
   ]
  },
  {
   "cell_type": "code",
   "execution_count": 1,
   "metadata": {},
   "outputs": [],
   "source": [
    "from pulp import *\n",
    "from fractions import Fraction\n",
    "\n",
    "# zdefiniowanie problemu- to jest taka platforma do wrzucania na nia wszystkiego\n",
    "\n",
    "prob = LpProblem(\"Example_of_maximum\",LpMinimize)"
   ]
  },
  {
   "cell_type": "markdown",
   "metadata": {},
   "source": [
    "Wstawianie pierwszych warunków ograniczających: ograniczeniami nieujemności\n",
    "\n",
    "#### $\n",
    "\\left\\{\n",
    "\\begin{align} \n",
    "{x_{11}} & \\geqslant 0 & (4)\\\\\n",
    "{x_{12}} & \\geqslant 0 & (5)\\\\\n",
    "{x_{13}} & \\geqslant 0 & (5)\\\\\n",
    "{x_{14}} & \\geqslant 0 & (5)\\\\\n",
    "{x_{15}} & \\geqslant 0 & (5)\\\\\n",
    "{x_{21}} & \\geqslant 0 & (5)\\\\\n",
    "{x_{22}} & \\geqslant 0 & (5)\\\\\n",
    "{x_{23}} & \\geqslant 0 & (5)\\\\\n",
    "{x_{24}} & \\geqslant 0 & (5)\\\\\n",
    "{x_{25}} & \\geqslant 0 & (5)\\\\\n",
    "{x_{31}} & \\geqslant 0 & (5)\\\\\n",
    "{x_{32}} & \\geqslant 0 & (5)\\\\\n",
    "{x_{33}} & \\geqslant 0 & (5)\\\\\n",
    "{x_{34}} & \\geqslant 0 & (5)\\\\\n",
    "{x_{35}} & \\geqslant 0 & (5)\\\\\n",
    "\\end{align}\n",
    "\\right. \n",
    "$"
   ]
  },
  {
   "cell_type": "code",
   "execution_count": 2,
   "metadata": {},
   "outputs": [],
   "source": [
    "x11=LpVariable(\"x11\",0)\n",
    "x12=LpVariable(\"x12\",0)\n",
    "x13=LpVariable(\"x13\",0)\n",
    "x14=LpVariable(\"x14\",0)\n",
    "x15=LpVariable(\"x15\",0)\n",
    "x21=LpVariable(\"x21\",0)\n",
    "x22=LpVariable(\"x22\",0)\n",
    "x23=LpVariable(\"x23\",0)\n",
    "x24=LpVariable(\"x24\",0)\n",
    "x25=LpVariable(\"x25\",0)\n",
    "x31=LpVariable(\"x31\",0)\n",
    "x32=LpVariable(\"x32\",0)\n",
    "x33=LpVariable(\"x33\",0)\n",
    "x34=LpVariable(\"x34\",0)\n",
    "x35=LpVariable(\"x35\",0)        "
   ]
  },
  {
   "cell_type": "markdown",
   "metadata": {},
   "source": [
    "### Dodajemy do platformy funkcje celu"
   ]
  },
  {
   "cell_type": "code",
   "execution_count": 3,
   "metadata": {},
   "outputs": [],
   "source": [
    "# objective function\n",
    "prob += 30*(x11+x12+x13+x14+x15)+42*(x21+x22+x23+x24+x25)+36*(x31+x32+x33+x34+x35), \"Maximum value of x1 + x2\""
   ]
  },
  {
   "cell_type": "code",
   "execution_count": 4,
   "metadata": {},
   "outputs": [
    {
     "name": "stdout",
     "output_type": "stream",
     "text": [
      "Example_of_maximum:\n",
      "MINIMIZE\n",
      "30*x11 + 30*x12 + 30*x13 + 30*x14 + 30*x15 + 42*x21 + 42*x22 + 42*x23 + 42*x24 + 42*x25 + 36*x31 + 36*x32 + 36*x33 + 36*x34 + 36*x35 + 0\n",
      "VARIABLES\n",
      "x11 Continuous\n",
      "x12 Continuous\n",
      "x13 Continuous\n",
      "x14 Continuous\n",
      "x15 Continuous\n",
      "x21 Continuous\n",
      "x22 Continuous\n",
      "x23 Continuous\n",
      "x24 Continuous\n",
      "x25 Continuous\n",
      "x31 Continuous\n",
      "x32 Continuous\n",
      "x33 Continuous\n",
      "x34 Continuous\n",
      "x35 Continuous\n",
      "\n"
     ]
    }
   ],
   "source": [
    "print(prob)"
   ]
  },
  {
   "cell_type": "markdown",
   "metadata": {},
   "source": [
    "### Dodajemy do platformy główne warunki brzegowe"
   ]
  },
  {
   "cell_type": "code",
   "execution_count": 5,
   "metadata": {},
   "outputs": [],
   "source": [
    "# main constraints\n",
    "prob += x11 + x12 + x13 + x14 + x15 <= 180\n",
    "prob += x21 + x22 + x23 + x24 + x25 <= 180\n",
    "prob += x31 + x32 + x33 + x34 + x35 <= 180"
   ]
  },
  {
   "cell_type": "code",
   "execution_count": 6,
   "metadata": {},
   "outputs": [
    {
     "name": "stdout",
     "output_type": "stream",
     "text": [
      "Example_of_maximum:\n",
      "MINIMIZE\n",
      "30*x11 + 30*x12 + 30*x13 + 30*x14 + 30*x15 + 42*x21 + 42*x22 + 42*x23 + 42*x24 + 42*x25 + 36*x31 + 36*x32 + 36*x33 + 36*x34 + 36*x35 + 0\n",
      "SUBJECT TO\n",
      "_C1: x11 + x12 + x13 + x14 + x15 <= 180\n",
      "\n",
      "_C2: x21 + x22 + x23 + x24 + x25 <= 180\n",
      "\n",
      "_C3: x31 + x32 + x33 + x34 + x35 <= 180\n",
      "\n",
      "VARIABLES\n",
      "x11 Continuous\n",
      "x12 Continuous\n",
      "x13 Continuous\n",
      "x14 Continuous\n",
      "x15 Continuous\n",
      "x21 Continuous\n",
      "x22 Continuous\n",
      "x23 Continuous\n",
      "x24 Continuous\n",
      "x25 Continuous\n",
      "x31 Continuous\n",
      "x32 Continuous\n",
      "x33 Continuous\n",
      "x34 Continuous\n",
      "x35 Continuous\n",
      "\n"
     ]
    }
   ],
   "source": [
    "print(prob)"
   ]
  },
  {
   "cell_type": "code",
   "execution_count": 7,
   "metadata": {},
   "outputs": [],
   "source": [
    "# main constraints\n",
    "prob += 0.80*x11 + 0.75*x21 + 1.25*x31  >= 90\n",
    "prob += 1.00*x12 + 0.60*x22 + 1.20*x32  >= 90\n",
    "prob += 0.40*x13 + 0.50*x23 + 0.375*x33 >= 90\n",
    "prob += 2.00*x14 + 1.875*x24 + 1.5*x34  >= 75\n",
    "prob += 0.625*x15 +0.6*x25 + 0.5*x35  >= 75"
   ]
  },
  {
   "cell_type": "code",
   "execution_count": 8,
   "metadata": {},
   "outputs": [
    {
     "name": "stdout",
     "output_type": "stream",
     "text": [
      "Example_of_maximum:\n",
      "MINIMIZE\n",
      "30*x11 + 30*x12 + 30*x13 + 30*x14 + 30*x15 + 42*x21 + 42*x22 + 42*x23 + 42*x24 + 42*x25 + 36*x31 + 36*x32 + 36*x33 + 36*x34 + 36*x35 + 0\n",
      "SUBJECT TO\n",
      "_C1: x11 + x12 + x13 + x14 + x15 <= 180\n",
      "\n",
      "_C2: x21 + x22 + x23 + x24 + x25 <= 180\n",
      "\n",
      "_C3: x31 + x32 + x33 + x34 + x35 <= 180\n",
      "\n",
      "_C4: 0.8 x11 + 0.75 x21 + 1.25 x31 >= 90\n",
      "\n",
      "_C5: x12 + 0.6 x22 + 1.2 x32 >= 90\n",
      "\n",
      "_C6: 0.4 x13 + 0.5 x23 + 0.375 x33 >= 90\n",
      "\n",
      "_C7: 2 x14 + 1.875 x24 + 1.5 x34 >= 75\n",
      "\n",
      "_C8: 0.625 x15 + 0.6 x25 + 0.5 x35 >= 75\n",
      "\n",
      "VARIABLES\n",
      "x11 Continuous\n",
      "x12 Continuous\n",
      "x13 Continuous\n",
      "x14 Continuous\n",
      "x15 Continuous\n",
      "x21 Continuous\n",
      "x22 Continuous\n",
      "x23 Continuous\n",
      "x24 Continuous\n",
      "x25 Continuous\n",
      "x31 Continuous\n",
      "x32 Continuous\n",
      "x33 Continuous\n",
      "x34 Continuous\n",
      "x35 Continuous\n",
      "\n"
     ]
    }
   ],
   "source": [
    "print(prob)"
   ]
  },
  {
   "cell_type": "markdown",
   "metadata": {},
   "source": [
    "### Rozwiązanie problemu"
   ]
  },
  {
   "cell_type": "code",
   "execution_count": 9,
   "metadata": {},
   "outputs": [
    {
     "name": "stdout",
     "output_type": "stream",
     "text": [
      "prob.solve 1\n",
      "Status: Optimal\n"
     ]
    }
   ],
   "source": [
    "print(\"prob.solve\",prob.solve())\n",
    "# status of the solution\n",
    "print(f\"Status: {LpStatus[prob.status]}\")"
   ]
  },
  {
   "cell_type": "code",
   "execution_count": 10,
   "metadata": {},
   "outputs": [
    {
     "name": "stdout",
     "output_type": "stream",
     "text": [
      "x11 = 0\n",
      "x12 = 0\n",
      "x13 = 45/2\n",
      "x14 = 75/2\n",
      "x15 = 120\n",
      "x21 = 0\n",
      "x22 = 0\n",
      "x23 = 162\n",
      "x24 = 0\n",
      "x25 = 0\n",
      "x31 = 72\n",
      "x32 = 75\n",
      "x33 = 0\n",
      "x34 = 0\n",
      "x35 = 0\n"
     ]
    }
   ],
   "source": [
    "for v in prob.variables():\n",
    "    print(f\"{v.name} = {str(Fraction(v.varValue).limit_denominator())}\")\n"
   ]
  },
  {
   "cell_type": "code",
   "execution_count": 11,
   "metadata": {},
   "outputs": [
    {
     "name": "stdout",
     "output_type": "stream",
     "text": [
      "max (x1 + x2) = 17496\n"
     ]
    }
   ],
   "source": [
    "# maximum value of the objective function\n",
    "print(f\"max (x1 + x2) = {str(Fraction(value(prob.objective)).limit_denominator())}\")"
   ]
  },
  {
   "cell_type": "code",
   "execution_count": 12,
   "metadata": {},
   "outputs": [
    {
     "data": {
      "text/plain": [
       "22.5"
      ]
     },
     "execution_count": 12,
     "metadata": {},
     "output_type": "execute_result"
    }
   ],
   "source": [
    "45/2"
   ]
  },
  {
   "cell_type": "code",
   "execution_count": 13,
   "metadata": {},
   "outputs": [
    {
     "data": {
      "text/plain": [
       "37.5"
      ]
     },
     "execution_count": 13,
     "metadata": {},
     "output_type": "execute_result"
    }
   ],
   "source": [
    "75/2"
   ]
  }
 ],
 "metadata": {
  "kernelspec": {
   "display_name": "Python 3",
   "language": "python",
   "name": "python3"
  },
  "language_info": {
   "codemirror_mode": {
    "name": "ipython",
    "version": 3
   },
   "file_extension": ".py",
   "mimetype": "text/x-python",
   "name": "python",
   "nbconvert_exporter": "python",
   "pygments_lexer": "ipython3",
   "version": "3.7.4"
  }
 },
 "nbformat": 4,
 "nbformat_minor": 2
}
