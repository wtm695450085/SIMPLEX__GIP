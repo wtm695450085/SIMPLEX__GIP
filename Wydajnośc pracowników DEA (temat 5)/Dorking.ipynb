{
 "cells": [
  {
   "cell_type": "markdown",
   "metadata": {},
   "source": [
    "# Dorking "
   ]
  },
  {
   "cell_type": "code",
   "execution_count": 1,
   "metadata": {},
   "outputs": [],
   "source": [
    "from pulp import *\n",
    "from fractions import Fraction\n",
    "\n",
    "# zdefiniowanie problemu- to jest taka platforma do wrzucania na nia wszystkiego\n",
    "\n",
    "prob = LpProblem(\"DEA\",LpMaximize)"
   ]
  },
  {
   "cell_type": "code",
   "execution_count": 2,
   "metadata": {},
   "outputs": [],
   "source": [
    "# \"Continuous\"\n",
    "# \"Integer\"\n",
    "\n",
    "x1=LpVariable(\"x1\",lowBound=0,upBound=None, cat=\"Integer\")\n",
    "x2=LpVariable(\"x2\",lowBound=0,upBound=None, cat=\"Integer\")\n",
    "x3=LpVariable(\"x3\",lowBound=0,upBound=None, cat=\"Integer\")"
   ]
  },
  {
   "cell_type": "code",
   "execution_count": null,
   "metadata": {},
   "outputs": [],
   "source": []
  },
  {
   "cell_type": "code",
   "execution_count": 3,
   "metadata": {},
   "outputs": [],
   "source": [
    "# objective function\n",
    "prob += 44*x1 + 20*x2, \"Maksymalizacja zysków\""
   ]
  },
  {
   "cell_type": "code",
   "execution_count": 4,
   "metadata": {},
   "outputs": [
    {
     "name": "stdout",
     "output_type": "stream",
     "text": [
      "DEA:\n",
      "MAXIMIZE\n",
      "44*x1 + 20*x2 + 0\n",
      "VARIABLES\n",
      "0 <= x1 Integer\n",
      "0 <= x2 Integer\n",
      "\n"
     ]
    }
   ],
   "source": [
    "print(prob)"
   ]
  },
  {
   "cell_type": "markdown",
   "metadata": {},
   "source": [
    "maximise (44Wper + 20Wbus)\n",
    "\n",
    "subject to\n",
    "\n",
    "(16Wstaff) = 1\n",
    "\n",
    "(125Wper + 50Wbus) - (18Wstaff) <= 0\n",
    "\n",
    "(44Wper + 20Wbus) - (16Wstaff) <= 0\n",
    "\n",
    "(80Wper + 55Wbus) - (17Wstaff) <= 0\n",
    "\n",
    "(23Wper + 12Wbus) - (11Wstaff) <= 0\n",
    "\n",
    "Wper >= 0\n",
    "\n",
    "Wbus >= 0\n",
    "\n",
    "Wstaff >= 0"
   ]
  },
  {
   "cell_type": "markdown",
   "metadata": {},
   "source": [
    "#### $\n",
    "\\left\\{\n",
    "\\begin{align} \n",
    "({125x_{1}} + 50x_{2})-18x_{3} & \\leqslant 0& (1)\\\\\n",
    "({44x_{1}} + 20x_{2})-16x_{3} & \\leqslant 0& (1)\\\\\n",
    "({80x_{1}} + 55x_{2})-17x_{3} & \\leqslant 0& (1)\\\\\n",
    "({23x_{1}} + 12x_{2})-11x_{3} & \\leqslant 0& (1)\\\\\n",
    "\\end{align}\n",
    "\\right. \n",
    "$\n",
    "\n",
    "#### $\n",
    "\\left\\{\n",
    "\\begin{align} \n",
    "{x_{1}} & \\geqslant 0& (1)\\\\\n",
    "{x_{2}} & \\geqslant 0& (2)\\\\\n",
    "{x_{3}} & \\geqslant 0& (3)\\\\\n",
    "\\end{align}\n",
    "\\right. \n",
    "$\n",
    "\n",
    "$16x_{3}=1$"
   ]
  },
  {
   "cell_type": "code",
   "execution_count": 5,
   "metadata": {},
   "outputs": [],
   "source": [
    "# main constraints\n",
    "prob += (125*x1+50*x2)-18*x3 <= 0\n",
    "prob += (44*x1+20*x2)-16*x3 <= 0\n",
    "prob += (80*x1+55*x2)-17*x3 <= 0\n",
    "prob += (23*x1+12*x2)-11*x3 <= 0\n",
    "prob += 16*x3 == 1"
   ]
  },
  {
   "cell_type": "code",
   "execution_count": 6,
   "metadata": {},
   "outputs": [
    {
     "name": "stdout",
     "output_type": "stream",
     "text": [
      "DEA:\n",
      "MAXIMIZE\n",
      "44*x1 + 20*x2 + 0\n",
      "SUBJECT TO\n",
      "_C1: 125 x1 + 50 x2 - 18 x3 <= 0\n",
      "\n",
      "_C2: 44 x1 + 20 x2 - 16 x3 <= 0\n",
      "\n",
      "_C3: 80 x1 + 55 x2 - 17 x3 <= 0\n",
      "\n",
      "_C4: 23 x1 + 12 x2 - 11 x3 <= 0\n",
      "\n",
      "_C5: 16 x3 = 1\n",
      "\n",
      "VARIABLES\n",
      "0 <= x1 Integer\n",
      "0 <= x2 Integer\n",
      "0 <= x3 Integer\n",
      "\n"
     ]
    }
   ],
   "source": [
    "print(prob)"
   ]
  },
  {
   "cell_type": "markdown",
   "metadata": {},
   "source": [
    "### Rozwiązanie problemu"
   ]
  },
  {
   "cell_type": "code",
   "execution_count": 7,
   "metadata": {},
   "outputs": [
    {
     "name": "stdout",
     "output_type": "stream",
     "text": [
      "prob.solve -1\n",
      "Status: Infeasible\n"
     ]
    }
   ],
   "source": [
    "print(\"prob.solve\",prob.solve())\n",
    "# status of the solution\n",
    "print(f\"Status: {LpStatus[prob.status]}\")"
   ]
  },
  {
   "cell_type": "code",
   "execution_count": 8,
   "metadata": {},
   "outputs": [
    {
     "name": "stdout",
     "output_type": "stream",
     "text": [
      "x1 = 7/2300\n",
      "x2 = 4671/313673\n",
      "x3 = 1/16\n"
     ]
    }
   ],
   "source": [
    "for v in prob.variables():\n",
    "    print(f\"{v.name} = {str(Fraction(v.varValue).limit_denominator())}\")\n"
   ]
  },
  {
   "cell_type": "code",
   "execution_count": 9,
   "metadata": {},
   "outputs": [
    {
     "data": {
      "text/plain": [
       "0.003043478260869565"
      ]
     },
     "execution_count": 9,
     "metadata": {},
     "output_type": "execute_result"
    }
   ],
   "source": [
    "7/2300"
   ]
  },
  {
   "cell_type": "code",
   "execution_count": 10,
   "metadata": {},
   "outputs": [
    {
     "data": {
      "text/plain": [
       "0.014891304001300718"
      ]
     },
     "execution_count": 10,
     "metadata": {},
     "output_type": "execute_result"
    }
   ],
   "source": [
    "4671/313673"
   ]
  },
  {
   "cell_type": "code",
   "execution_count": 11,
   "metadata": {},
   "outputs": [
    {
     "data": {
      "text/plain": [
       "0.0625"
      ]
     },
     "execution_count": 11,
     "metadata": {},
     "output_type": "execute_result"
    }
   ],
   "source": [
    "1/16"
   ]
  },
  {
   "cell_type": "markdown",
   "metadata": {},
   "source": [
    "$({44x_{1}} + 20x_{2})/16x_{3}$"
   ]
  },
  {
   "cell_type": "code",
   "execution_count": 12,
   "metadata": {},
   "outputs": [
    {
     "data": {
      "text/plain": [
       "0.43173912350427524"
      ]
     },
     "execution_count": 12,
     "metadata": {},
     "output_type": "execute_result"
    }
   ],
   "source": [
    "(44*(7/2300)+20*(4671/313673))/(16*(1/16))"
   ]
  },
  {
   "cell_type": "code",
   "execution_count": null,
   "metadata": {},
   "outputs": [],
   "source": []
  }
 ],
 "metadata": {
  "kernelspec": {
   "display_name": "Python 3",
   "language": "python",
   "name": "python3"
  },
  "language_info": {
   "codemirror_mode": {
    "name": "ipython",
    "version": 3
   },
   "file_extension": ".py",
   "mimetype": "text/x-python",
   "name": "python",
   "nbconvert_exporter": "python",
   "pygments_lexer": "ipython3",
   "version": "3.7.4"
  }
 },
 "nbformat": 4,
 "nbformat_minor": 2
}
