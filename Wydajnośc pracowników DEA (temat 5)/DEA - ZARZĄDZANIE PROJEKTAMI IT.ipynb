{
 "cells": [
  {
   "cell_type": "markdown",
   "metadata": {},
   "source": [
    "  \n",
    "<span style=\"font-size: 250%;color:white;background:red\"> ZARZĄDZANIE ZASOBAMI LUDZKIMI\n",
    "\n",
    "<span style=\"font-size: 160%;color:#0000ff\"> OCENA WYDAJNOŚCI PRACY PRACOWNIKÓW ZA POMOCĄ METODY DEA"
   ]
  },
  {
   "cell_type": "markdown",
   "metadata": {},
   "source": [
    "<span style=\"font-size: 150%;color:white;background:#1155cc\"> Data envelopment analysis (DEA)\n",
    "    \n",
    "Envelopment analiza danych (DEA), czasami nazywany analiza granica została po raz pierwszy przedstawiona przez Charnes, Cooper i Rodos w roku 1978. Jest to technika pomiaru wydajności, które, jak się przekonamy, może być stosowany do oceny względnej skuteczności w procesie decyzyjnym jednostek ( DMU ) w organizacjach. W tym przypadku DMU jest odrębną jednostką w organizacji, która ma elastyczność w odniesieniu do niektórych decyzji, które podejmuje, ale niekoniecznie pełną swobodę w odniesieniu do tych decyzji.\n",
    "\n",
    "Przykładami takich jednostek, do których zastosowano DEA, są: banki, posterunki policji, szpitale, urzędy skarbowe, więzienia, bazy obronne (wojsko, marynarka wojenna, siły powietrzne), szkoły i wydziały uniwersyteckie. Należy zauważyć, że jedną z zalet DEA jest to, że można go zastosować do organizacji non-profit.\n",
    "\n",
    "Od czasu pierwszego zaproponowania tej techniki wykonano wiele prac teoretycznych i empirycznych. Opublikowano wiele badań dotyczących stosowania DEA w rzeczywistych sytuacjach. Oczywiście niepublikowanych opracowań jest znacznie więcej, np. Wykonanych wewnętrznie przez firmy lub konsultantów zewnętrznych.\n",
    "\n",
    "Na początku zilustrujemy DEA na małym przykładzie. Więcej o DEA można znaleźć tutaj . Zwróć uwagę, że wiele z tego, co zobaczysz poniżej, to graficzne (obrazowe) podejście do DEA. Jest to bardzo przydatne, jeśli próbujesz wyjaśnić DEA osobom mniej wykwalifikowanym technicznie (takim jak wielu, których możesz spotkać w świecie zarządzania). Istnieje jednak matematyczne podejście do DEA, które można jednak przyjąć - zostanie to zilustrowane poniżej."
   ]
  },
  {
   "cell_type": "markdown",
   "metadata": {},
   "source": [
    "http://people.brunel.ac.uk/~mastjjb/jeb/or/dea.html\n",
    "\n",
    "Zadanie polega na tym, że analizuje się wydajność personelu pracującego w banku, wymyślono różne wskaźniki m.in. wskażnik ilości operacji bankowych na pracownika itp. \n",
    "\n",
    "<span style=\"font-size: 130%;color:#0000ff\"> Jednym z problemów związanych z porównaniem za pomocą współczynników jest to, że różne współczynniki mogą dać inny obraz i trudno jest połączyć cały zestaw współczynników w jedną ocenę liczbową.\n",
    "    \n",
    "Na przykład rozważmy Dorking i Reigate - Dorking jest (2,75 / 2,09) = 1,32 razy skuteczniejszy niż Reigate w transakcjach osobistych, ale tylko (1,25 / 1,09) = 1,15 razy skuteczniejszy w transakcjach biznesowych. Jak połączyć te liczby w jedą ocenę?\n",
    "Problem zacznie się gdy takich wskaźników dodamy jeszcze 5 czy 8. Jak wtedy ocenić? Przez średnią? \n",
    "\n",
    "<span style=\"font-size: 130%;color:#0000ff\"> Graficznie w artykule mu wyszedł taki ranking:\n",
    "\n",
    " 1. Croydon 100%\n",
    " 2. Dorking 43%\n",
    " 3. Redhill 100%\n",
    " 4. Reigate 36%"
   ]
  },
  {
   "cell_type": "code",
   "execution_count": 1,
   "metadata": {},
   "outputs": [
    {
     "name": "stdout",
     "output_type": "stream",
     "text": [
      "+-----------+-------+--------+----------+--------+---------+-------------------+\n",
      "| Projekty  | Vigot | BioBat | Synergia | Kurpas | Felicja | Liczba serwisantó |\n",
      "|    IT     |       |        |          |        |         |         w         |\n",
      "+-----------+-------+--------+----------+--------+---------+-------------------+\n",
      "| HelpDesk  | 1285  |  1053  |   1380   |  1560  |   219   |        12         |\n",
      "|     A     |       |        |          |        |         |                   |\n",
      "+-----------+-------+--------+----------+--------+---------+-------------------+\n",
      "| HelpDesk  |  985  |  681   |   1028   |  796   |   320   |         8         |\n",
      "|     B     |       |        |          |        |         |                   |\n",
      "+-----------+-------+--------+----------+--------+---------+-------------------+\n",
      "| HelpDesk  |  838  |  755   |   1100   |  125   |   261   |        10         |\n",
      "|     C     |       |        |          |        |         |                   |\n",
      "+-----------+-------+--------+----------+--------+---------+-------------------+\n"
     ]
    }
   ],
   "source": [
    "from beautifultable import BeautifulTable\n",
    "\n",
    "table = BeautifulTable() \n",
    "table.column_headers = [\"Projekty IT\",\"Vigot\" ,\"BioBat\",\"Synergia\",\"Kurpas\",\"Felicja\", \"Liczba serwisantów\" ]\n",
    "table.append_row([\"HelpDesk A\",    1285, 1053, 1380, 1560, 219,12 ])\n",
    "table.append_row([\"HelpDesk B\",    985,   681, 1028, 796, 320,8 ])\n",
    "table.append_row([\"HelpDesk C\",    838,   755, 1100, 125, 261,10 ])\n",
    "print(table)"
   ]
  },
  {
   "cell_type": "markdown",
   "metadata": {},
   "source": [
    "\n",
    "Zarząd uznał że:\n",
    "\n",
    "obszar Wrocławia (x4) jest cztery razy lepiej punktowany niż obaszar Łodzi (x1)\n"
   ]
  },
  {
   "cell_type": "markdown",
   "metadata": {},
   "source": [
    "<span style=\"font-size: 100%;color:green\">\n",
    "Obsługa Synergia(x3) trwa dwa razy dłużej niż Vigot(x1): \n",
    "<span style=\"font-size: 100%;color:blue\">\n",
    "$ {x_{3}}-2{x_{1}} >= 0$     \n",
    "</span> <br />\n",
    "\n",
    "\n",
    "\n",
    "\n",
    "\n",
    "\n",
    "\n",
    "<span style=\"font-size: 100%;color:green\">\n",
    "Obsługa Synergia(x3) trwa dwa razy dłużej niż BioBat(x2):     \n",
    "<span style=\"font-size: 100%;color:blue\">    \n",
    "$ {x_{3}}-2{x_{2}} >= 0$ <br />\n",
    "\n",
    "<span style=\"font-size: 100%;color:green\">\n",
    "Obsługa Synergia(x3) trwa cztery razy dłużej niż Kurpas(x4):    \n",
    "<span style=\"font-size: 100%;color:blue\"> \n",
    "$ {x_{3}}-4{x_{4}} >= 0$ <br />\n",
    "\n",
    "<span style=\"font-size: 100%;color:green\">\n",
    "Obsługa Synergia(x3) trwa osiem razy dłużej niż Felicja(x5):  \n",
    "<span style=\"font-size: 100%;color:blue\"> \n",
    "$ {x_{3}}-8{x_{5}} >= 0$ <br />"
   ]
  },
  {
   "cell_type": "code",
   "execution_count": null,
   "metadata": {},
   "outputs": [],
   "source": [
    "prob += x3-F*x1 >= 0\n",
    "prob += x3-F*x2 >= 0\n",
    "prob += x3-N*x4 >= 0\n",
    "prob += x3-G*x5 >= 0"
   ]
  },
  {
   "cell_type": "code",
   "execution_count": 2,
   "metadata": {},
   "outputs": [],
   "source": [
    "F = 2\n",
    "G = 8\n",
    "N = 4"
   ]
  },
  {
   "cell_type": "markdown",
   "metadata": {},
   "source": [
    "Obliczam dla każdego oddziału banku oddzielnie programowanie liniowe\n",
    "\n",
    "<span style=\"font-size: 230%;color:#0000ff\"> HelpDesk A"
   ]
  },
  {
   "cell_type": "code",
   "execution_count": 3,
   "metadata": {},
   "outputs": [],
   "source": [
    "from pulp import *\n",
    "from fractions import Fraction\n",
    "\n",
    "# zdefiniowanie problemu- to jest taka platforma do wrzucania na nia wszystkiego\n",
    "\n",
    "prob = LpProblem(\"DEA_HelpDesk_A\",LpMaximize)"
   ]
  },
  {
   "cell_type": "code",
   "execution_count": 4,
   "metadata": {},
   "outputs": [],
   "source": [
    "# \"Continuous\"\n",
    "# \"Integer\"\n",
    "\n",
    "x1=LpVariable(\"x1\",lowBound=0,upBound=None, cat=\"Continuous\")\n",
    "x2=LpVariable(\"x2\",lowBound=0,upBound=None, cat=\"Continuous\")\n",
    "x3=LpVariable(\"x3\",lowBound=0,upBound=None, cat=\"Continuous\")\n",
    "x4=LpVariable(\"x4\",lowBound=0,upBound=None, cat=\"Continuous\")\n",
    "x5=LpVariable(\"x5\",lowBound=0,upBound=None, cat=\"Continuous\")\n",
    "x6=LpVariable(\"x6\",lowBound=0,upBound=None, cat=\"Continuous\")"
   ]
  },
  {
   "cell_type": "code",
   "execution_count": 5,
   "metadata": {},
   "outputs": [
    {
     "name": "stdout",
     "output_type": "stream",
     "text": [
      "+------------+------+--------+----------+---------+--------+-------------------+\n",
      "| Projekty I | Łódź | Poznań | Warszawa | Wrocław | Kraków | Liczba serwisantó |\n",
      "|     T      |      |        |          |         |        |         w         |\n",
      "+------------+------+--------+----------+---------+--------+-------------------+\n",
      "| HelpDesk A | 1285 |  1053  |   1380   |  1560   |  219   |        12         |\n",
      "+------------+------+--------+----------+---------+--------+-------------------+\n",
      "| HelpDesk B | 985  |  681   |   1028   |   796   |  320   |         8         |\n",
      "+------------+------+--------+----------+---------+--------+-------------------+\n",
      "| HelpDesk C | 838  |  755   |   1100   |   125   |  261   |        10         |\n",
      "+------------+------+--------+----------+---------+--------+-------------------+\n"
     ]
    }
   ],
   "source": [
    "from beautifultable import BeautifulTable\n",
    "\n",
    "table = BeautifulTable() \n",
    "table.column_headers = [\"Projekty IT\",\"Łódź\" ,\"Poznań\",\"Warszawa\",\"Wrocław\",\"Kraków\", \"Liczba serwisantów\" ]\n",
    "table.append_row([\"HelpDesk A\",    1285, 1053, 1380, 1560, 219,12 ])\n",
    "table.append_row([\"HelpDesk B\",    985,   681, 1028, 796, 320,8 ])\n",
    "table.append_row([\"HelpDesk C\",    838,   755, 1100, 125, 261,10 ])\n",
    "print(table)"
   ]
  },
  {
   "cell_type": "markdown",
   "metadata": {},
   "source": [
    "<span style=\"font-size: 130%;color:black\"> FUNKCJA CELU\n",
    "\n",
    "<span style=\"font-size: 130%;color:black\">$ {1285x_{1}} + 1053x_{2}+ 1380x_{3}+ 1560x_{4}+ 219x_{5} \\to max$\n",
    "\n",
    "przy warunku, że dla HelpDesk_A:\n",
    "\n",
    "<span style=\"font-size: 130%;color:black\">$12x_{6}=1$"
   ]
  },
  {
   "cell_type": "code",
   "execution_count": 6,
   "metadata": {},
   "outputs": [],
   "source": [
    "# objective function\n",
    "prob += 185*x1 + 153*x2+118*x3+56*x4, \"Maksymalizacja\""
   ]
  },
  {
   "cell_type": "code",
   "execution_count": 7,
   "metadata": {},
   "outputs": [
    {
     "name": "stdout",
     "output_type": "stream",
     "text": [
      "DEA_HelpDesk_A:\n",
      "MAXIMIZE\n",
      "185*x1 + 153*x2 + 118*x3 + 56*x4 + 0\n",
      "VARIABLES\n",
      "x1 Continuous\n",
      "x2 Continuous\n",
      "x3 Continuous\n",
      "x4 Continuous\n",
      "\n"
     ]
    }
   ],
   "source": [
    "print(prob)"
   ]
  },
  {
   "cell_type": "code",
   "execution_count": 8,
   "metadata": {},
   "outputs": [
    {
     "name": "stdout",
     "output_type": "stream",
     "text": [
      "+------------+------+--------+----------+---------+--------+-------------------+\n",
      "| Projekty I | Łódź | Poznań | Warszawa | Wrocław | Kraków | Liczba serwisantó |\n",
      "|     T      |      |        |          |         |        |         w         |\n",
      "+------------+------+--------+----------+---------+--------+-------------------+\n",
      "| HelpDesk A | 1285 |  1053  |   1380   |  1560   |  219   |        12         |\n",
      "+------------+------+--------+----------+---------+--------+-------------------+\n",
      "| HelpDesk B | 985  |  681   |   1028   |   796   |  320   |         8         |\n",
      "+------------+------+--------+----------+---------+--------+-------------------+\n",
      "| HelpDesk C | 838  |  755   |   1100   |   125   |  261   |        10         |\n",
      "+------------+------+--------+----------+---------+--------+-------------------+\n"
     ]
    }
   ],
   "source": [
    "from beautifultable import BeautifulTable\n",
    "\n",
    "from beautifultable import BeautifulTable\n",
    "\n",
    "table = BeautifulTable() \n",
    "table.column_headers = [\"Projekty IT\",\"Łódź\" ,\"Poznań\",\"Warszawa\",\"Wrocław\",\"Kraków\", \"Liczba serwisantów\" ]\n",
    "table.append_row([\"HelpDesk A\",    1285, 1053, 1380, 1560, 219,12 ])\n",
    "table.append_row([\"HelpDesk B\",    985,   681, 1028, 796, 320,8 ])\n",
    "table.append_row([\"HelpDesk C\",    838,   755, 1100, 125, 261,10 ])\n",
    "print(table)"
   ]
  },
  {
   "cell_type": "markdown",
   "metadata": {},
   "source": [
    "##### $\n",
    "\\left\\{\n",
    "\\begin{align} \n",
    "y_{A} = \\frac{{1285x_{1}} + 1053x_{2}+ 1380x_{3}+1560x_{4}+219x_{5}}{12x_{6}}&&(1)\\\\\n",
    "y_{B} = \\frac{{985x_{1}} + 681x_{2}+1028x_{3}+796x_{4}+320x_{5}}{8x_{5}} & & (2)\\\\\n",
    "y_{C} = \\frac{{838x_{1}} + 755x_{2}+1100x_{3}+125x_{4}+261x_{5}}{10x_{6}} & & (3)\\\\\n",
    "\\end{align}\n",
    "\\right. \n",
    "$"
   ]
  },
  {
   "cell_type": "markdown",
   "metadata": {},
   "source": [
    "##### $\n",
    "\\left\\{\n",
    "\\begin{align} \n",
    "({1285x_{1}} + 1053x_{2}+ 1380x_{3}+1560x_{4}+219x_{5})-12x_{6} & \\leqslant 0& (6)\\\\\n",
    "({985x_{1}} + 681x_{2}+1028x_{3}+796x_{4}+320x_{5})-8x_{5} & \\leqslant 0& (7)\\\\\n",
    "({838x_{1}} + 755x_{2}+1100x_{3}+125x_{4}+261x_{5})-10x_{5} & \\leqslant 0& (8)\\\\\n",
    "\\end{align}\n",
    "\\right. \n",
    "$\n",
    "\n",
    "Warunki dodatkowe: \n",
    "##### $\n",
    "\\left\\{\n",
    "\\begin{align} \n",
    "{x_{4}}-4{x_{1}} >= 0 & \\geqslant 0& (17)\\\\\n",
    "\\end{align}\n",
    "\\right. \n",
    "$\n",
    "\n",
    "\n",
    "Warunki znakowe:\n",
    "#### $\n",
    "\\left\\{\n",
    "\\begin{align} \n",
    "{x_{1}} & \\geqslant 0& (11)\\\\\n",
    "{x_{2}} & \\geqslant 0& (12)\\\\\n",
    "{x_{3}} & \\geqslant 0& (13)\\\\\n",
    "{x_{4}} & \\geqslant 0& (14)\\\\\n",
    "{x_{5}} & \\geqslant 0& (15)\\\\\n",
    "{x_{6}} & \\geqslant 0& (15)\\\\\n",
    "\\end{align}\n",
    "\\right. \n",
    "$\n",
    "\n",
    "#### $\n",
    "\\left\\{\n",
    "\\begin{align} \n",
    "{12x_{6}} & = 1& (12)\\\\\n",
    "\\end{align}\n",
    "\\right. \n",
    "$"
   ]
  },
  {
   "attachments": {
    "obraz.png": {
     "image/png": "[encoded data removed]"
    }
   },
   "cell_type": "markdown",
   "metadata": {},
   "source": [
    "![obraz.png](attachment:obraz.png)"
   ]
  },
  {
   "cell_type": "code",
   "execution_count": 9,
   "metadata": {},
   "outputs": [],
   "source": [
    "# main constraints\n",
    "prob += (1285*x1+1052*x2+1380*x3+1560*x4+219*x5)-12*x6 <= 0\n",
    "prob += (985*x1+681*x2+1028*x3+796*x4+320*x5)-8*x6 <= 0\n",
    "prob += (838*x1+755*x2+1100*x3+125*x4+261*x5)-10*x6 <= 0\n",
    "\n",
    "prob += x3-F*x1 >= 0\n",
    "prob += x3-F*x2 >= 0\n",
    "prob += x3-N*x4 >= 0\n",
    "prob += x3-G*x5 >= 0\n",
    "\n",
    "\n",
    "prob += 12*x6 == 1"
   ]
  },
  {
   "cell_type": "code",
   "execution_count": 10,
   "metadata": {},
   "outputs": [
    {
     "name": "stdout",
     "output_type": "stream",
     "text": [
      "DEA_HelpDesk_A:\n",
      "MAXIMIZE\n",
      "185*x1 + 153*x2 + 118*x3 + 56*x4 + 0\n",
      "SUBJECT TO\n",
      "_C1: 1285 x1 + 1052 x2 + 1380 x3 + 1560 x4 + 219 x5 - 12 x6 <= 0\n",
      "\n",
      "_C2: 985 x1 + 681 x2 + 1028 x3 + 796 x4 + 320 x5 - 8 x6 <= 0\n",
      "\n",
      "_C3: 838 x1 + 755 x2 + 1100 x3 + 125 x4 + 261 x5 - 10 x6 <= 0\n",
      "\n",
      "_C4: - 2 x1 + x3 >= 0\n",
      "\n",
      "_C5: - 2 x2 + x3 >= 0\n",
      "\n",
      "_C6: x3 - 4 x4 >= 0\n",
      "\n",
      "_C7: x3 - 8 x5 >= 0\n",
      "\n",
      "_C8: 12 x6 = 1\n",
      "\n",
      "VARIABLES\n",
      "x1 Continuous\n",
      "x2 Continuous\n",
      "x3 Continuous\n",
      "x4 Continuous\n",
      "x5 Continuous\n",
      "x6 Continuous\n",
      "\n"
     ]
    }
   ],
   "source": [
    "print(prob)"
   ]
  },
  {
   "cell_type": "markdown",
   "metadata": {},
   "source": [
    "### Rozwiązanie problemu"
   ]
  },
  {
   "cell_type": "code",
   "execution_count": 11,
   "metadata": {},
   "outputs": [
    {
     "name": "stdout",
     "output_type": "stream",
     "text": [
      "prob.solve 1\n",
      "Status: Optimal\n"
     ]
    }
   ],
   "source": [
    "print(\"prob.solve\",prob.solve())\n",
    "# status of the solution\n",
    "print(f\"Status: {LpStatus[prob.status]}\")"
   ]
  },
  {
   "cell_type": "code",
   "execution_count": 12,
   "metadata": {},
   "outputs": [
    {
     "name": "stdout",
     "output_type": "stream",
     "text": [
      "x1 = 1/5583\n",
      "x2 = 1/5583\n",
      "x3 = 2/5583\n",
      "x4 = 0\n",
      "x5 = 0\n",
      "x6 = 1/12\n"
     ]
    }
   ],
   "source": [
    "for v in prob.variables():\n",
    "    print(f\"{v.name} = {str(Fraction(v.varValue).limit_denominator())}\")\n"
   ]
  },
  {
   "cell_type": "code",
   "execution_count": 13,
   "metadata": {},
   "outputs": [],
   "source": [
    "x1 = 1/5583\n",
    "x2 = 1/5583\n",
    "x3 = 2/5583\n",
    "x4 = 0\n",
    "x5 = 0\n",
    "x6 = 1/12\n",
    "\n",
    "\n"
   ]
  },
  {
   "cell_type": "markdown",
   "metadata": {},
   "source": [
    "FUNKCJA CELU HELPDESK_A\n",
    "\n",
    "##### $\n",
    "\\left\\{\n",
    "\\begin{align} \n",
    "{1285x_{1}} + 1053x_{2}+ 1380x_{3}+1560x_{4}+219x_{5} &\\to max &(18)\\\\\n",
    "{12x_{6}}=1&& (19)\n",
    "\\end{align}\n",
    "\\right. \n",
    "$"
   ]
  },
  {
   "cell_type": "code",
   "execution_count": 14,
   "metadata": {},
   "outputs": [
    {
     "data": {
      "text/plain": [
       "0.9131291420383306"
      ]
     },
     "execution_count": 14,
     "metadata": {},
     "output_type": "execute_result"
    }
   ],
   "source": [
    "A = (1285*x1+1053*x2+1380*x3+1560*x4+219*x5)/(12*x6)\n",
    "A"
   ]
  },
  {
   "cell_type": "markdown",
   "metadata": {},
   "source": [
    "Obliczam dla każdego oddziału banku oddzielnie programowanie liniowe\n",
    "\n",
    "<span style=\"font-size: 230%;color:#0000ff\"> HelpDesk B"
   ]
  },
  {
   "cell_type": "code",
   "execution_count": 15,
   "metadata": {},
   "outputs": [],
   "source": [
    "from pulp import *\n",
    "from fractions import Fraction\n",
    "\n",
    "# zdefiniowanie problemu- to jest taka platforma do wrzucania na nia wszystkiego\n",
    "\n",
    "prob = LpProblem(\"DEA_HelpDesk_B\",LpMaximize)"
   ]
  },
  {
   "cell_type": "code",
   "execution_count": 16,
   "metadata": {},
   "outputs": [],
   "source": [
    "# \"Continuous\"\n",
    "# \"Integer\"\n",
    "\n",
    "x1=LpVariable(\"x1\",lowBound=0,upBound=None, cat=\"Continuous\")\n",
    "x2=LpVariable(\"x2\",lowBound=0,upBound=None, cat=\"Continuous\")\n",
    "x3=LpVariable(\"x3\",lowBound=0,upBound=None, cat=\"Continuous\")\n",
    "x4=LpVariable(\"x4\",lowBound=0,upBound=None, cat=\"Continuous\")\n",
    "x5=LpVariable(\"x5\",lowBound=0,upBound=None, cat=\"Continuous\")\n",
    "x6=LpVariable(\"x6\",lowBound=0,upBound=None, cat=\"Continuous\")"
   ]
  },
  {
   "cell_type": "code",
   "execution_count": 17,
   "metadata": {},
   "outputs": [
    {
     "name": "stdout",
     "output_type": "stream",
     "text": [
      "+------------+------+--------+----------+---------+--------+-------------------+\n",
      "| Projekty I | Łódź | Poznań | Warszawa | Wrocław | Kraków | Liczba serwisantó |\n",
      "|     T      |      |        |          |         |        |         w         |\n",
      "+------------+------+--------+----------+---------+--------+-------------------+\n",
      "| HelpDesk A | 1285 |  1053  |   1380   |  1560   |  219   |        12         |\n",
      "+------------+------+--------+----------+---------+--------+-------------------+\n",
      "| HelpDesk B | 985  |  681   |   1028   |   796   |  320   |         8         |\n",
      "+------------+------+--------+----------+---------+--------+-------------------+\n",
      "| HelpDesk C | 838  |  755   |   1100   |   125   |  261   |        10         |\n",
      "+------------+------+--------+----------+---------+--------+-------------------+\n"
     ]
    }
   ],
   "source": [
    "from beautifultable import BeautifulTable\n",
    "\n",
    "table = BeautifulTable() \n",
    "table.column_headers = [\"Projekty IT\",\"Łódź\" ,\"Poznań\",\"Warszawa\",\"Wrocław\",\"Kraków\", \"Liczba serwisantów\" ]\n",
    "table.append_row([\"HelpDesk A\",    1285, 1053, 1380, 1560, 219,12 ])\n",
    "table.append_row([\"HelpDesk B\",    985,   681, 1028, 796, 320,8 ])\n",
    "table.append_row([\"HelpDesk C\",    838,   755, 1100, 125, 261,10 ])\n",
    "print(table)"
   ]
  },
  {
   "cell_type": "markdown",
   "metadata": {},
   "source": [
    "<span style=\"font-size: 130%;color:black\"> FUNKCJA CELU\n",
    "\n",
    "<span style=\"font-size: 130%;color:black\">$ 985x_{1} + 681x_{2}+ 1028x_{3}+ 796x_{4}+ 320x_{5} \\to max$\n",
    "\n",
    "przy warunku, że dla HelpDesk_A:\n",
    "\n",
    "<span style=\"font-size: 130%;color:black\">$8x_{6}=1$"
   ]
  },
  {
   "cell_type": "code",
   "execution_count": 18,
   "metadata": {},
   "outputs": [],
   "source": [
    "# objective function\n",
    "prob += 985*x1 + 681*x2+1028*x3+796*x4+320*x5, \"Maksymalizacja\""
   ]
  },
  {
   "cell_type": "code",
   "execution_count": 19,
   "metadata": {},
   "outputs": [
    {
     "name": "stdout",
     "output_type": "stream",
     "text": [
      "DEA_HelpDesk_B:\n",
      "MAXIMIZE\n",
      "985*x1 + 681*x2 + 1028*x3 + 796*x4 + 320*x5 + 0\n",
      "VARIABLES\n",
      "x1 Continuous\n",
      "x2 Continuous\n",
      "x3 Continuous\n",
      "x4 Continuous\n",
      "x5 Continuous\n",
      "\n"
     ]
    }
   ],
   "source": [
    "print(prob)"
   ]
  },
  {
   "cell_type": "code",
   "execution_count": 20,
   "metadata": {},
   "outputs": [
    {
     "name": "stdout",
     "output_type": "stream",
     "text": [
      "+------------+------+--------+----------+---------+--------+-------------------+\n",
      "| Projekty I | Łódź | Poznań | Warszawa | Wrocław | Kraków | Liczba serwisantó |\n",
      "|     T      |      |        |          |         |        |         w         |\n",
      "+------------+------+--------+----------+---------+--------+-------------------+\n",
      "| HelpDesk A | 1285 |  1053  |   1380   |  1560   |  219   |        12         |\n",
      "+------------+------+--------+----------+---------+--------+-------------------+\n",
      "| HelpDesk B | 985  |  681   |   1028   |   796   |  320   |         8         |\n",
      "+------------+------+--------+----------+---------+--------+-------------------+\n",
      "| HelpDesk C | 838  |  755   |   1100   |   125   |  261   |        10         |\n",
      "+------------+------+--------+----------+---------+--------+-------------------+\n"
     ]
    }
   ],
   "source": [
    "from beautifultable import BeautifulTable\n",
    "\n",
    "table = BeautifulTable() \n",
    "table.column_headers = [\"Projekty IT\",\"Łódź\" ,\"Poznań\",\"Warszawa\",\"Wrocław\",\"Kraków\", \"Liczba serwisantów\" ]\n",
    "table.append_row([\"HelpDesk A\",    1285, 1053, 1380, 1560, 219,12 ])\n",
    "table.append_row([\"HelpDesk B\",    985,   681, 1028, 796, 320,8 ])\n",
    "table.append_row([\"HelpDesk C\",    838,   755, 1100, 125, 261,10 ])\n",
    "print(table)"
   ]
  },
  {
   "cell_type": "markdown",
   "metadata": {},
   "source": [
    "##### $\n",
    "\\left\\{\n",
    "\\begin{align} \n",
    "y_{A} = \\frac{{1285x_{1}} + 1053x_{2}+ 1380x_{3}+1560x_{4}+219x_{5}}{12x_{6}}&&(1)\\\\\n",
    "y_{B} = \\frac{{985x_{1}} + 681x_{2}+1028x_{3}+796x_{4}+320x_{5}}{8x_{6}} & & (2)\\\\\n",
    "y_{C} = \\frac{{838x_{1}} + 755x_{2}+1100x_{3}+125x_{4}+261x_{5}}{10x_{6}} & & (3)\\\\\n",
    "\\end{align}\n",
    "\\right. \n",
    "$"
   ]
  },
  {
   "cell_type": "markdown",
   "metadata": {},
   "source": [
    "##### $\n",
    "\\left\\{\n",
    "\\begin{align} \n",
    "({1285x_{1}} + 1053x_{2}+ 1380x_{3}+1560x_{4}+219x_{5})-12x_{6} & \\leqslant 0& (6)\\\\\n",
    "({985x_{1}} + 681x_{2}+1028x_{3}+796x_{4}+320x_{5})-8x_{6} & \\leqslant 0& (7)\\\\\n",
    "({838x_{1}} + 755x_{2}+1100x_{3}+125x_{4}+261x_{5})-10x_{6} & \\leqslant 0& (8)\\\\\n",
    "\\end{align}\n",
    "\\right. \n",
    "$\n",
    "\n",
    "Warunki dodatkowe: \n",
    "##### $\n",
    "\\left\\{\n",
    "\\begin{align} \n",
    "{x_{4}}-4{x_{1}} >= 0 & \\geqslant 0& (17)\\\\\n",
    "\\end{align}\n",
    "\\right. \n",
    "$\n",
    "\n",
    "\n",
    "Warunki znakowe:\n",
    "#### $\n",
    "\\left\\{\n",
    "\\begin{align} \n",
    "{x_{1}} & \\geqslant 0& (11)\\\\\n",
    "{x_{2}} & \\geqslant 0& (12)\\\\\n",
    "{x_{3}} & \\geqslant 0& (13)\\\\\n",
    "{x_{4}} & \\geqslant 0& (14)\\\\\n",
    "{x_{5}} & \\geqslant 0& (15)\\\\\n",
    "{x_{6}} & \\geqslant 0& (15)\\\\\n",
    "\\end{align}\n",
    "\\right. \n",
    "$\n",
    "\n",
    "#### $\n",
    "\\left\\{\n",
    "\\begin{align} \n",
    "{8x_{6}} & = 1& (12)\\\\\n",
    "\\end{align}\n",
    "\\right. \n",
    "$"
   ]
  },
  {
   "cell_type": "code",
   "execution_count": 21,
   "metadata": {},
   "outputs": [],
   "source": [
    "# main constraints\n",
    "prob += (1285*x1+1052*x2+1380*x3+1560*x4+219*x5)-12*x6 <= 0\n",
    "prob += (985*x1+681*x2+1028*x3+796*x4+320*x5)-8*x6 <= 0\n",
    "prob += (838*x1+755*x2+1100*x3+125*x4+261*x5)-10*x6 <= 0\n",
    "\n",
    "prob += x3-F*x1 >= 0\n",
    "prob += x3-F*x2 >= 0\n",
    "prob += x3-N*x4 >= 0\n",
    "prob += x3-G*x5 >= 0\n",
    "\n",
    "prob += 8*x6 == 1"
   ]
  },
  {
   "cell_type": "code",
   "execution_count": 22,
   "metadata": {},
   "outputs": [
    {
     "name": "stdout",
     "output_type": "stream",
     "text": [
      "DEA_HelpDesk_B:\n",
      "MAXIMIZE\n",
      "985*x1 + 681*x2 + 1028*x3 + 796*x4 + 320*x5 + 0\n",
      "SUBJECT TO\n",
      "_C1: 1285 x1 + 1052 x2 + 1380 x3 + 1560 x4 + 219 x5 - 12 x6 <= 0\n",
      "\n",
      "_C2: 985 x1 + 681 x2 + 1028 x3 + 796 x4 + 320 x5 - 8 x6 <= 0\n",
      "\n",
      "_C3: 838 x1 + 755 x2 + 1100 x3 + 125 x4 + 261 x5 - 10 x6 <= 0\n",
      "\n",
      "_C4: - 2 x1 + x3 >= 0\n",
      "\n",
      "_C5: - 2 x2 + x3 >= 0\n",
      "\n",
      "_C6: x3 - 4 x4 >= 0\n",
      "\n",
      "_C7: x3 - 8 x5 >= 0\n",
      "\n",
      "_C8: 8 x6 = 1\n",
      "\n",
      "VARIABLES\n",
      "x1 Continuous\n",
      "x2 Continuous\n",
      "x3 Continuous\n",
      "x4 Continuous\n",
      "x5 Continuous\n",
      "x6 Continuous\n",
      "\n"
     ]
    }
   ],
   "source": [
    "print(prob)"
   ]
  },
  {
   "cell_type": "markdown",
   "metadata": {},
   "source": [
    "### Rozwiązanie problemu"
   ]
  },
  {
   "cell_type": "code",
   "execution_count": 23,
   "metadata": {},
   "outputs": [
    {
     "name": "stdout",
     "output_type": "stream",
     "text": [
      "prob.solve 1\n",
      "Status: Optimal\n"
     ]
    }
   ],
   "source": [
    "print(\"prob.solve\",prob.solve())\n",
    "# status of the solution\n",
    "print(f\"Status: {LpStatus[prob.status]}\")"
   ]
  },
  {
   "cell_type": "code",
   "execution_count": 24,
   "metadata": {},
   "outputs": [
    {
     "name": "stdout",
     "output_type": "stream",
     "text": [
      "x1 = 1/4200\n",
      "x2 = 1/4200\n",
      "x3 = 1/2100\n",
      "x4 = 1/8400\n",
      "x5 = 1/16800\n",
      "x6 = 1/8\n"
     ]
    }
   ],
   "source": [
    "for v in prob.variables():\n",
    "    print(f\"{v.name} = {str(Fraction(v.varValue).limit_denominator())}\")\n"
   ]
  },
  {
   "cell_type": "code",
   "execution_count": 25,
   "metadata": {},
   "outputs": [],
   "source": [
    "x1 = 1/4200\n",
    "x2 = 1/4200\n",
    "x3 = 1/2100\n",
    "x4 = 1/8400\n",
    "x5 = 1/16800\n",
    "x6 = 1/8\n",
    "\n"
   ]
  },
  {
   "cell_type": "markdown",
   "metadata": {},
   "source": [
    "<span style=\"font-size: 130%;color:black\"> FUNKCJA CELU\n",
    "\n",
    "<span style=\"font-size: 130%;color:black\">$ {985x_{1}} + 681x_{2}+ 1028x_{3}+ 796x_{4}+ 320x_{5} \\to max$\n",
    "\n",
    "przy warunku, że dla HelpDesk_A:\n",
    "\n",
    "<span style=\"font-size: 130%;color:black\">$8x_{6}=1$"
   ]
  },
  {
   "cell_type": "code",
   "execution_count": 26,
   "metadata": {},
   "outputs": [
    {
     "data": {
      "text/plain": [
       "1.0"
      ]
     },
     "execution_count": 26,
     "metadata": {},
     "output_type": "execute_result"
    }
   ],
   "source": [
    "B = (985*x1+681*x2+1028*x3+796*x4+320*x5)/(8*x6)\n",
    "B"
   ]
  },
  {
   "cell_type": "markdown",
   "metadata": {},
   "source": [
    "Obliczam dla każdego oddziału banku oddzielnie programowanie liniowe\n",
    "\n",
    "<span style=\"font-size: 230%;color:#0000ff\"> HelpDesk C"
   ]
  },
  {
   "cell_type": "code",
   "execution_count": 27,
   "metadata": {},
   "outputs": [],
   "source": [
    "from pulp import *\n",
    "from fractions import Fraction\n",
    "\n",
    "# zdefiniowanie problemu- to jest taka platforma do wrzucania na nia wszystkiego\n",
    "\n",
    "prob = LpProblem(\"DEA_HelpDesk_C\",LpMaximize)"
   ]
  },
  {
   "cell_type": "code",
   "execution_count": 28,
   "metadata": {},
   "outputs": [],
   "source": [
    "# \"Continuous\"\n",
    "# \"Integer\"\n",
    "\n",
    "x1=LpVariable(\"x1\",lowBound=0,upBound=None, cat=\"Continuous\")\n",
    "x2=LpVariable(\"x2\",lowBound=0,upBound=None, cat=\"Continuous\")\n",
    "x3=LpVariable(\"x3\",lowBound=0,upBound=None, cat=\"Continuous\")\n",
    "x4=LpVariable(\"x4\",lowBound=0,upBound=None, cat=\"Continuous\")\n",
    "x5=LpVariable(\"x5\",lowBound=0,upBound=None, cat=\"Continuous\")\n",
    "x6=LpVariable(\"x6\",lowBound=0,upBound=None, cat=\"Continuous\")"
   ]
  },
  {
   "cell_type": "code",
   "execution_count": 29,
   "metadata": {},
   "outputs": [
    {
     "name": "stdout",
     "output_type": "stream",
     "text": [
      "+------------+------+--------+----------+---------+--------+-------------------+\n",
      "| Projekty I | Łódź | Poznań | Warszawa | Wrocław | Kraków | Liczba serwisantó |\n",
      "|     T      |      |        |          |         |        |         w         |\n",
      "+------------+------+--------+----------+---------+--------+-------------------+\n",
      "| HelpDesk A | 1285 |  1053  |   1380   |  1560   |  219   |        12         |\n",
      "+------------+------+--------+----------+---------+--------+-------------------+\n",
      "| HelpDesk B | 985  |  681   |   1028   |   796   |  320   |         8         |\n",
      "+------------+------+--------+----------+---------+--------+-------------------+\n",
      "| HelpDesk C | 838  |  755   |   1100   |   125   |  261   |        10         |\n",
      "+------------+------+--------+----------+---------+--------+-------------------+\n"
     ]
    }
   ],
   "source": [
    "from beautifultable import BeautifulTable\n",
    "\n",
    "table = BeautifulTable() \n",
    "table.column_headers = [\"Projekty IT\",\"Łódź\" ,\"Poznań\",\"Warszawa\",\"Wrocław\",\"Kraków\", \"Liczba serwisantów\" ]\n",
    "table.append_row([\"HelpDesk A\",    1285, 1053, 1380, 1560, 219,12 ])\n",
    "table.append_row([\"HelpDesk B\",    985,   681, 1028, 796, 320,8 ])\n",
    "table.append_row([\"HelpDesk C\",    838,   755, 1100, 125, 261,10 ])\n",
    "print(table)"
   ]
  },
  {
   "cell_type": "markdown",
   "metadata": {},
   "source": [
    "<span style=\"font-size: 130%;color:black\"> FUNKCJA CELU\n",
    "\n",
    "<span style=\"font-size: 130%;color:black\">$ 838x_{1} + 755x_{2}+ 1100x_{3}+ 125x_{4}+ 261x_{5} \\to max$\n",
    "\n",
    "przy warunku, że dla HelpDesk_C:\n",
    "\n",
    "<span style=\"font-size: 130%;color:black\">$10x_{6}=1$"
   ]
  },
  {
   "cell_type": "code",
   "execution_count": 30,
   "metadata": {},
   "outputs": [],
   "source": [
    "# objective function\n",
    "prob += 838*x1 + 755*x2+1100*x3+125*x4+261*x5, \"Maksymalizacja\""
   ]
  },
  {
   "cell_type": "code",
   "execution_count": 31,
   "metadata": {},
   "outputs": [
    {
     "name": "stdout",
     "output_type": "stream",
     "text": [
      "DEA_HelpDesk_C:\n",
      "MAXIMIZE\n",
      "838*x1 + 755*x2 + 1100*x3 + 125*x4 + 261*x5 + 0\n",
      "VARIABLES\n",
      "x1 Continuous\n",
      "x2 Continuous\n",
      "x3 Continuous\n",
      "x4 Continuous\n",
      "x5 Continuous\n",
      "\n"
     ]
    }
   ],
   "source": [
    "print(prob)"
   ]
  },
  {
   "cell_type": "code",
   "execution_count": 32,
   "metadata": {},
   "outputs": [
    {
     "name": "stdout",
     "output_type": "stream",
     "text": [
      "+------------+------+--------+----------+---------+--------+-------------------+\n",
      "| Projekty I | Łódź | Poznań | Warszawa | Wrocław | Kraków | Liczba serwisantó |\n",
      "|     T      |      |        |          |         |        |         w         |\n",
      "+------------+------+--------+----------+---------+--------+-------------------+\n",
      "| HelpDesk A | 1285 |  1053  |   1380   |  1560   |  219   |        12         |\n",
      "+------------+------+--------+----------+---------+--------+-------------------+\n",
      "| HelpDesk B | 985  |  681   |   1028   |   796   |  320   |         8         |\n",
      "+------------+------+--------+----------+---------+--------+-------------------+\n",
      "| HelpDesk C | 838  |  755   |   1100   |   125   |  261   |        10         |\n",
      "+------------+------+--------+----------+---------+--------+-------------------+\n"
     ]
    }
   ],
   "source": [
    "from beautifultable import BeautifulTable\n",
    "\n",
    "table = BeautifulTable() \n",
    "table.column_headers = [\"Projekty IT\",\"Łódź\" ,\"Poznań\",\"Warszawa\",\"Wrocław\",\"Kraków\", \"Liczba serwisantów\" ]\n",
    "table.append_row([\"HelpDesk A\",    1285, 1053, 1380, 1560, 219,12 ])\n",
    "table.append_row([\"HelpDesk B\",    985,   681, 1028, 796, 320,8 ])\n",
    "table.append_row([\"HelpDesk C\",    838,   755, 1100, 125, 261,10 ])\n",
    "print(table)"
   ]
  },
  {
   "cell_type": "markdown",
   "metadata": {},
   "source": [
    "##### $\n",
    "\\left\\{\n",
    "\\begin{align} \n",
    "y_{A} = \\frac{{1285x_{1}} + 1053x_{2}+ 1380x_{3}+1560x_{4}+219x_{5}}{12x_{6}}&&(1)\\\\\n",
    "y_{B} = \\frac{{985x_{1}} + 681x_{2}+1028x_{3}+796x_{4}+320x_{5}}{8x_{5}} & & (2)\\\\\n",
    "y_{C} = \\frac{{838x_{1}} + 755x_{2}+1100x_{3}+125x_{4}+261x_{5}}{10x_{6}} & & (3)\\\\\n",
    "\\end{align}\n",
    "\\right. \n",
    "$"
   ]
  },
  {
   "cell_type": "markdown",
   "metadata": {},
   "source": [
    "##### $\n",
    "\\left\\{\n",
    "\\begin{align} \n",
    "({1285x_{1}} + 1053x_{2}+ 1380x_{3}+1560x_{4}+219x_{5})-12x_{6} & \\leqslant 0& (6)\\\\\n",
    "({985x_{1}} + 681x_{2}+1028x_{3}+796x_{4}+320x_{5})-8x_{5} & \\leqslant 0& (7)\\\\\n",
    "({838x_{1}} + 755x_{2}+1100x_{3}+125x_{4}+261x_{5})-10x_{5} & \\leqslant 0& (8)\\\\\n",
    "\\end{align}\n",
    "\\right. \n",
    "$\n",
    "\n",
    "Warunki dodatkowe: \n",
    "##### $\n",
    "\\left\\{\n",
    "\\begin{align} \n",
    "{x_{4}}-4{x_{1}} >= 0 & \\geqslant 0& (17)\\\\\n",
    "\\end{align}\n",
    "\\right. \n",
    "$\n",
    "\n",
    "\n",
    "Warunki znakowe:\n",
    "#### $\n",
    "\\left\\{\n",
    "\\begin{align} \n",
    "{x_{1}} & \\geqslant 0& (11)\\\\\n",
    "{x_{2}} & \\geqslant 0& (12)\\\\\n",
    "{x_{3}} & \\geqslant 0& (13)\\\\\n",
    "{x_{4}} & \\geqslant 0& (14)\\\\\n",
    "{x_{5}} & \\geqslant 0& (15)\\\\\n",
    "{x_{6}} & \\geqslant 0& (15)\\\\\n",
    "\\end{align}\n",
    "\\right. \n",
    "$\n",
    "\n",
    "#### $\n",
    "\\left\\{\n",
    "\\begin{align} \n",
    "{10x_{6}} & = 1& (12)\\\\\n",
    "\\end{align}\n",
    "\\right. \n",
    "$"
   ]
  },
  {
   "cell_type": "code",
   "execution_count": 33,
   "metadata": {},
   "outputs": [],
   "source": [
    "# main constraints\n",
    "prob += (1285*x1+1052*x2+1380*x3+1560*x4+219*x5)-12*x6 <= 0\n",
    "prob += (985*x1+681*x2+1028*x3+796*x4+320*x5)-8*x6 <= 0\n",
    "prob += (838*x1+755*x2+1100*x3+125*x4+261*x5)-10*x6 <= 0\n",
    "\n",
    "prob += x3-F*x1 >= 0\n",
    "prob += x3-F*x2 >= 0\n",
    "prob += x3-N*x4 >= 0\n",
    "prob += x3-G*x5 >= 0\n",
    "\n",
    "prob += 10*x6 == 1"
   ]
  },
  {
   "cell_type": "code",
   "execution_count": 34,
   "metadata": {},
   "outputs": [
    {
     "name": "stdout",
     "output_type": "stream",
     "text": [
      "DEA_HelpDesk_C:\n",
      "MAXIMIZE\n",
      "838*x1 + 755*x2 + 1100*x3 + 125*x4 + 261*x5 + 0\n",
      "SUBJECT TO\n",
      "_C1: 1285 x1 + 1052 x2 + 1380 x3 + 1560 x4 + 219 x5 - 12 x6 <= 0\n",
      "\n",
      "_C2: 985 x1 + 681 x2 + 1028 x3 + 796 x4 + 320 x5 - 8 x6 <= 0\n",
      "\n",
      "_C3: 838 x1 + 755 x2 + 1100 x3 + 125 x4 + 261 x5 - 10 x6 <= 0\n",
      "\n",
      "_C4: - 2 x1 + x3 >= 0\n",
      "\n",
      "_C5: - 2 x2 + x3 >= 0\n",
      "\n",
      "_C6: x3 - 4 x4 >= 0\n",
      "\n",
      "_C7: x3 - 8 x5 >= 0\n",
      "\n",
      "_C8: 10 x6 = 1\n",
      "\n",
      "VARIABLES\n",
      "x1 Continuous\n",
      "x2 Continuous\n",
      "x3 Continuous\n",
      "x4 Continuous\n",
      "x5 Continuous\n",
      "x6 Continuous\n",
      "\n"
     ]
    }
   ],
   "source": [
    "print(prob)"
   ]
  },
  {
   "cell_type": "markdown",
   "metadata": {},
   "source": [
    "### Rozwiązanie problemu"
   ]
  },
  {
   "cell_type": "code",
   "execution_count": 35,
   "metadata": {},
   "outputs": [
    {
     "name": "stdout",
     "output_type": "stream",
     "text": [
      "prob.solve 1\n",
      "Status: Optimal\n"
     ]
    }
   ],
   "source": [
    "print(\"prob.solve\",prob.solve())\n",
    "# status of the solution\n",
    "print(f\"Status: {LpStatus[prob.status]}\")"
   ]
  },
  {
   "cell_type": "code",
   "execution_count": 36,
   "metadata": {},
   "outputs": [
    {
     "name": "stdout",
     "output_type": "stream",
     "text": [
      "x1 = 0\n",
      "x2 = 4/13685\n",
      "x3 = 8/13685\n",
      "x4 = 0\n",
      "x5 = 0\n",
      "x6 = 1/10\n"
     ]
    }
   ],
   "source": [
    "for v in prob.variables():\n",
    "    print(f\"{v.name} = {str(Fraction(v.varValue).limit_denominator())}\")\n"
   ]
  },
  {
   "cell_type": "code",
   "execution_count": 37,
   "metadata": {},
   "outputs": [],
   "source": [
    "x1 = 0\n",
    "x2 = 4/13685\n",
    "x3 = 8/13685\n",
    "x4 = 0\n",
    "x5 = 0\n",
    "x6 = 1/10\n"
   ]
  },
  {
   "cell_type": "markdown",
   "metadata": {},
   "source": [
    "<span style=\"font-size: 130%;color:black\"> FUNKCJA CELU\n",
    "\n",
    "<span style=\"font-size: 130%;color:black\">$ {838x_{1}} + 755x_{2}+ 1100x_{3}+ 125x_{4}+ 261x_{5} \\to max$\n",
    "\n",
    "przy warunku, że dla HelpDesk_C:\n",
    "\n",
    "<span style=\"font-size: 130%;color:black\">$10x_{6}=1$"
   ]
  },
  {
   "cell_type": "code",
   "execution_count": 38,
   "metadata": {},
   "outputs": [
    {
     "data": {
      "text/plain": [
       "0.8637194008037997"
      ]
     },
     "execution_count": 38,
     "metadata": {},
     "output_type": "execute_result"
    }
   ],
   "source": [
    "C = (838*x1+755*x2+1100*x3+125*x4+261*x5)/(10*x6)\n",
    "C"
   ]
  },
  {
   "cell_type": "markdown",
   "metadata": {},
   "source": [
    "Ocena Łomży jest 0.7189"
   ]
  },
  {
   "cell_type": "code",
   "execution_count": 39,
   "metadata": {},
   "outputs": [
    {
     "name": "stdout",
     "output_type": "stream",
     "text": [
      "HelpDesk A: 0.913\n",
      "HelpDesk B: 1.0\n",
      "HelpDesk C: 0.864\n"
     ]
    }
   ],
   "source": [
    "\n",
    "print(\"HelpDesk A:\", round(A, 3))\n",
    "print(\"HelpDesk B:\", round(B, 3))\n",
    "print(\"HelpDesk C:\", round(C, 3))"
   ]
  },
  {
   "cell_type": "markdown",
   "metadata": {},
   "source": [
    "# Zmniejszenie zatrudnienia w oddziale C"
   ]
  },
  {
   "cell_type": "markdown",
   "metadata": {},
   "source": [
    "Obliczam dla każdego oddziału banku oddzielnie programowanie liniowe\n",
    "\n",
    "<span style=\"font-size: 230%;color:red\"> HelpDesk A"
   ]
  },
  {
   "cell_type": "code",
   "execution_count": 40,
   "metadata": {},
   "outputs": [],
   "source": [
    "from pulp import *\n",
    "from fractions import Fraction\n",
    "\n",
    "# zdefiniowanie problemu- to jest taka platforma do wrzucania na nia wszystkiego\n",
    "\n",
    "prob = LpProblem(\"DEA_HelpDesk_A\",LpMaximize)"
   ]
  },
  {
   "cell_type": "code",
   "execution_count": 41,
   "metadata": {},
   "outputs": [],
   "source": [
    "# \"Continuous\"\n",
    "# \"Integer\"\n",
    "\n",
    "x1=LpVariable(\"x1\",lowBound=0,upBound=None, cat=\"Continuous\")\n",
    "x2=LpVariable(\"x2\",lowBound=0,upBound=None, cat=\"Continuous\")\n",
    "x3=LpVariable(\"x3\",lowBound=0,upBound=None, cat=\"Continuous\")\n",
    "x4=LpVariable(\"x4\",lowBound=0,upBound=None, cat=\"Continuous\")\n",
    "x5=LpVariable(\"x5\",lowBound=0,upBound=None, cat=\"Continuous\")\n",
    "x6=LpVariable(\"x6\",lowBound=0,upBound=None, cat=\"Continuous\")"
   ]
  },
  {
   "cell_type": "code",
   "execution_count": 42,
   "metadata": {},
   "outputs": [
    {
     "name": "stdout",
     "output_type": "stream",
     "text": [
      "+------------+------+--------+----------+---------+--------+-------------------+\n",
      "| Projekty I | Łódź | Poznań | Warszawa | Wrocław | Kraków | Liczba serwisantó |\n",
      "|     T      |      |        |          |         |        |         w         |\n",
      "+------------+------+--------+----------+---------+--------+-------------------+\n",
      "| HelpDesk A | 1285 |  1053  |   1380   |  1560   |  219   |        12         |\n",
      "+------------+------+--------+----------+---------+--------+-------------------+\n",
      "| HelpDesk B | 985  |  681   |   1028   |   796   |  320   |         8         |\n",
      "+------------+------+--------+----------+---------+--------+-------------------+\n",
      "| HelpDesk C | 838  |  755   |   1100   |   125   |  261   |         9         |\n",
      "+------------+------+--------+----------+---------+--------+-------------------+\n"
     ]
    }
   ],
   "source": [
    "from beautifultable import BeautifulTable\n",
    "\n",
    "table = BeautifulTable() \n",
    "table.column_headers = [\"Projekty IT\",\"Łódź\" ,\"Poznań\",\"Warszawa\",\"Wrocław\",\"Kraków\", \"Liczba serwisantów\" ]\n",
    "table.append_row([\"HelpDesk A\",    1285, 1053, 1380, 1560, 219,12 ])\n",
    "table.append_row([\"HelpDesk B\",    985,   681, 1028, 796, 320,8 ])\n",
    "table.append_row([\"HelpDesk C\",    838,   755, 1100, 125, 261,9 ])\n",
    "print(table)"
   ]
  },
  {
   "cell_type": "markdown",
   "metadata": {},
   "source": [
    "<span style=\"font-size: 130%;color:black\"> FUNKCJA CELU\n",
    "\n",
    "<span style=\"font-size: 130%;color:black\">$ {1285x_{1}} + 1053x_{2}+ 1380x_{3}+ 1560x_{4}+ 219x_{5} \\to max$\n",
    "\n",
    "przy warunku, że dla HelpDesk_A:\n",
    "\n",
    "<span style=\"font-size: 130%;color:black\">$12x_{6}=1$"
   ]
  },
  {
   "cell_type": "code",
   "execution_count": 43,
   "metadata": {},
   "outputs": [],
   "source": [
    "# objective function\n",
    "prob += 185*x1 + 153*x2+118*x3+56*x4, \"Maksymalizacja\""
   ]
  },
  {
   "cell_type": "code",
   "execution_count": 44,
   "metadata": {},
   "outputs": [
    {
     "name": "stdout",
     "output_type": "stream",
     "text": [
      "DEA_HelpDesk_A:\n",
      "MAXIMIZE\n",
      "185*x1 + 153*x2 + 118*x3 + 56*x4 + 0\n",
      "VARIABLES\n",
      "x1 Continuous\n",
      "x2 Continuous\n",
      "x3 Continuous\n",
      "x4 Continuous\n",
      "\n"
     ]
    }
   ],
   "source": [
    "print(prob)"
   ]
  },
  {
   "cell_type": "code",
   "execution_count": 45,
   "metadata": {},
   "outputs": [
    {
     "name": "stdout",
     "output_type": "stream",
     "text": [
      "+------------+------+--------+----------+---------+--------+-------------------+\n",
      "| Projekty I | Łódź | Poznań | Warszawa | Wrocław | Kraków | Liczba serwisantó |\n",
      "|     T      |      |        |          |         |        |         w         |\n",
      "+------------+------+--------+----------+---------+--------+-------------------+\n",
      "| HelpDesk A | 1285 |  1053  |   1380   |  1560   |  219   |        12         |\n",
      "+------------+------+--------+----------+---------+--------+-------------------+\n",
      "| HelpDesk B | 985  |  681   |   1028   |   796   |  320   |         8         |\n",
      "+------------+------+--------+----------+---------+--------+-------------------+\n",
      "| HelpDesk C | 838  |  755   |   1100   |   125   |  261   |        10         |\n",
      "+------------+------+--------+----------+---------+--------+-------------------+\n"
     ]
    }
   ],
   "source": [
    "from beautifultable import BeautifulTable\n",
    "\n",
    "from beautifultable import BeautifulTable\n",
    "\n",
    "table = BeautifulTable() \n",
    "table.column_headers = [\"Projekty IT\",\"Łódź\" ,\"Poznań\",\"Warszawa\",\"Wrocław\",\"Kraków\", \"Liczba serwisantów\" ]\n",
    "table.append_row([\"HelpDesk A\",    1285, 1053, 1380, 1560, 219,12 ])\n",
    "table.append_row([\"HelpDesk B\",    985,   681, 1028, 796, 320,8 ])\n",
    "table.append_row([\"HelpDesk C\",    838,   755, 1100, 125, 261,10 ])\n",
    "print(table)"
   ]
  },
  {
   "cell_type": "markdown",
   "metadata": {},
   "source": [
    "##### $\n",
    "\\left\\{\n",
    "\\begin{align} \n",
    "y_{A} = \\frac{{1285x_{1}} + 1053x_{2}+ 1380x_{3}+1560x_{4}+219x_{5}}{12x_{6}}&&(1)\\\\\n",
    "y_{B} = \\frac{{985x_{1}} + 681x_{2}+1028x_{3}+796x_{4}+320x_{5}}{8x_{5}} & & (2)\\\\\n",
    "y_{C} = \\frac{{838x_{1}} + 755x_{2}+1100x_{3}+125x_{4}+261x_{5}}{9x_{6}} & & (3)\\\\\n",
    "\\end{align}\n",
    "\\right. \n",
    "$"
   ]
  },
  {
   "cell_type": "markdown",
   "metadata": {},
   "source": [
    "##### $\n",
    "\\left\\{\n",
    "\\begin{align} \n",
    "({1285x_{1}} + 1053x_{2}+ 1380x_{3}+1560x_{4}+219x_{5})-12x_{6} & \\leqslant 0& (6)\\\\\n",
    "({985x_{1}} + 681x_{2}+1028x_{3}+796x_{4}+320x_{5})-8x_{5} & \\leqslant 0& (7)\\\\\n",
    "({838x_{1}} + 755x_{2}+1100x_{3}+125x_{4}+261x_{5})-9x_{5} & \\leqslant 0& (8)\\\\\n",
    "\\end{align}\n",
    "\\right. \n",
    "$\n",
    "\n",
    "Warunki dodatkowe: \n",
    "##### $\n",
    "\\left\\{\n",
    "\\begin{align} \n",
    "{x_{4}}-4{x_{1}} >= 0 & \\geqslant 0& (17)\\\\\n",
    "\\end{align}\n",
    "\\right. \n",
    "$\n",
    "\n",
    "\n",
    "Warunki znakowe:\n",
    "#### $\n",
    "\\left\\{\n",
    "\\begin{align} \n",
    "{x_{1}} & \\geqslant 0& (11)\\\\\n",
    "{x_{2}} & \\geqslant 0& (12)\\\\\n",
    "{x_{3}} & \\geqslant 0& (13)\\\\\n",
    "{x_{4}} & \\geqslant 0& (14)\\\\\n",
    "{x_{5}} & \\geqslant 0& (15)\\\\\n",
    "{x_{6}} & \\geqslant 0& (15)\\\\\n",
    "\\end{align}\n",
    "\\right. \n",
    "$\n",
    "\n",
    "#### $\n",
    "\\left\\{\n",
    "\\begin{align} \n",
    "{12x_{6}} & = 1& (12)\\\\\n",
    "\\end{align}\n",
    "\\right. \n",
    "$"
   ]
  },
  {
   "attachments": {
    "obraz.png": {
     "image/png": "[encoded data removed]"
    }
   },
   "cell_type": "markdown",
   "metadata": {},
   "source": [
    "![obraz.png](attachment:obraz.png)"
   ]
  },
  {
   "cell_type": "code",
   "execution_count": 46,
   "metadata": {},
   "outputs": [],
   "source": [
    "# main constraints\n",
    "prob += (1285*x1+1052*x2+1380*x3+1560*x4+219*x5)-12*x6 <= 0\n",
    "prob += (985*x1+681*x2+1028*x3+796*x4+320*x5)-8*x6 <= 0\n",
    "prob += (838*x1+755*x2+1100*x3+125*x4+261*x5)-9*x6 <= 0\n",
    "\n",
    "prob += x3-F*x1 >= 0\n",
    "prob += x3-F*x2 >= 0\n",
    "prob += x3-N*x4 >= 0\n",
    "prob += x3-G*x5 >= 0\n",
    "\n",
    "\n",
    "prob += 12*x6 == 1"
   ]
  },
  {
   "cell_type": "code",
   "execution_count": 47,
   "metadata": {},
   "outputs": [
    {
     "name": "stdout",
     "output_type": "stream",
     "text": [
      "DEA_HelpDesk_A:\n",
      "MAXIMIZE\n",
      "185*x1 + 153*x2 + 118*x3 + 56*x4 + 0\n",
      "SUBJECT TO\n",
      "_C1: 1285 x1 + 1052 x2 + 1380 x3 + 1560 x4 + 219 x5 - 12 x6 <= 0\n",
      "\n",
      "_C2: 985 x1 + 681 x2 + 1028 x3 + 796 x4 + 320 x5 - 8 x6 <= 0\n",
      "\n",
      "_C3: 838 x1 + 755 x2 + 1100 x3 + 125 x4 + 261 x5 - 9 x6 <= 0\n",
      "\n",
      "_C4: - 2 x1 + x3 >= 0\n",
      "\n",
      "_C5: - 2 x2 + x3 >= 0\n",
      "\n",
      "_C6: x3 - 4 x4 >= 0\n",
      "\n",
      "_C7: x3 - 8 x5 >= 0\n",
      "\n",
      "_C8: 12 x6 = 1\n",
      "\n",
      "VARIABLES\n",
      "x1 Continuous\n",
      "x2 Continuous\n",
      "x3 Continuous\n",
      "x4 Continuous\n",
      "x5 Continuous\n",
      "x6 Continuous\n",
      "\n"
     ]
    }
   ],
   "source": [
    "print(prob)"
   ]
  },
  {
   "cell_type": "markdown",
   "metadata": {},
   "source": [
    "### Rozwiązanie problemu"
   ]
  },
  {
   "cell_type": "code",
   "execution_count": 48,
   "metadata": {},
   "outputs": [
    {
     "name": "stdout",
     "output_type": "stream",
     "text": [
      "prob.solve 1\n",
      "Status: Optimal\n"
     ]
    }
   ],
   "source": [
    "print(\"prob.solve\",prob.solve())\n",
    "# status of the solution\n",
    "print(f\"Status: {LpStatus[prob.status]}\")"
   ]
  },
  {
   "cell_type": "code",
   "execution_count": 49,
   "metadata": {},
   "outputs": [
    {
     "name": "stdout",
     "output_type": "stream",
     "text": [
      "x1 = 1/5583\n",
      "x2 = 1/5583\n",
      "x3 = 2/5583\n",
      "x4 = 0\n",
      "x5 = 0\n",
      "x6 = 1/12\n"
     ]
    }
   ],
   "source": [
    "for v in prob.variables():\n",
    "    print(f\"{v.name} = {str(Fraction(v.varValue).limit_denominator())}\")\n"
   ]
  },
  {
   "cell_type": "code",
   "execution_count": 50,
   "metadata": {},
   "outputs": [],
   "source": [
    "x1 = 1/5583\n",
    "x2 = 1/5583\n",
    "x3 = 2/5583\n",
    "x4 = 0\n",
    "x5 = 0\n",
    "x6 = 1/12\n",
    "\n",
    "\n"
   ]
  },
  {
   "cell_type": "markdown",
   "metadata": {},
   "source": [
    "FUNKCJA CELU HELPDESK_A\n",
    "\n",
    "##### $\n",
    "\\left\\{\n",
    "\\begin{align} \n",
    "{1285x_{1}} + 1053x_{2}+ 1380x_{3}+1560x_{4}+219x_{5} &\\to max &(18)\\\\\n",
    "{12x_{6}}=1&& (19)\n",
    "\\end{align}\n",
    "\\right. \n",
    "$"
   ]
  },
  {
   "cell_type": "code",
   "execution_count": 51,
   "metadata": {},
   "outputs": [
    {
     "data": {
      "text/plain": [
       "0.9131291420383306"
      ]
     },
     "execution_count": 51,
     "metadata": {},
     "output_type": "execute_result"
    }
   ],
   "source": [
    "A = (1285*x1+1053*x2+1380*x3+1560*x4+219*x5)/(12*x6)\n",
    "A"
   ]
  },
  {
   "cell_type": "markdown",
   "metadata": {},
   "source": [
    "Obliczam dla każdego oddziału banku oddzielnie programowanie liniowe\n",
    "\n",
    "<span style=\"font-size: 230%;color:#0000ff\"> HelpDesk B"
   ]
  },
  {
   "cell_type": "code",
   "execution_count": 52,
   "metadata": {},
   "outputs": [],
   "source": [
    "from pulp import *\n",
    "from fractions import Fraction\n",
    "\n",
    "# zdefiniowanie problemu- to jest taka platforma do wrzucania na nia wszystkiego\n",
    "\n",
    "prob = LpProblem(\"DEA_HelpDesk_B\",LpMaximize)"
   ]
  },
  {
   "cell_type": "code",
   "execution_count": 53,
   "metadata": {},
   "outputs": [],
   "source": [
    "# \"Continuous\"\n",
    "# \"Integer\"\n",
    "\n",
    "x1=LpVariable(\"x1\",lowBound=0,upBound=None, cat=\"Continuous\")\n",
    "x2=LpVariable(\"x2\",lowBound=0,upBound=None, cat=\"Continuous\")\n",
    "x3=LpVariable(\"x3\",lowBound=0,upBound=None, cat=\"Continuous\")\n",
    "x4=LpVariable(\"x4\",lowBound=0,upBound=None, cat=\"Continuous\")\n",
    "x5=LpVariable(\"x5\",lowBound=0,upBound=None, cat=\"Continuous\")\n",
    "x6=LpVariable(\"x6\",lowBound=0,upBound=None, cat=\"Continuous\")"
   ]
  },
  {
   "cell_type": "code",
   "execution_count": 54,
   "metadata": {},
   "outputs": [
    {
     "name": "stdout",
     "output_type": "stream",
     "text": [
      "+------------+------+--------+----------+---------+--------+-------------------+\n",
      "| Projekty I | Łódź | Poznań | Warszawa | Wrocław | Kraków | Liczba serwisantó |\n",
      "|     T      |      |        |          |         |        |         w         |\n",
      "+------------+------+--------+----------+---------+--------+-------------------+\n",
      "| HelpDesk A | 1285 |  1053  |   1380   |  1560   |  219   |        12         |\n",
      "+------------+------+--------+----------+---------+--------+-------------------+\n",
      "| HelpDesk B | 985  |  681   |   1028   |   796   |  320   |         8         |\n",
      "+------------+------+--------+----------+---------+--------+-------------------+\n",
      "| HelpDesk C | 838  |  755   |   1100   |   125   |  261   |        10         |\n",
      "+------------+------+--------+----------+---------+--------+-------------------+\n"
     ]
    }
   ],
   "source": [
    "from beautifultable import BeautifulTable\n",
    "\n",
    "table = BeautifulTable() \n",
    "table.column_headers = [\"Projekty IT\",\"Łódź\" ,\"Poznań\",\"Warszawa\",\"Wrocław\",\"Kraków\", \"Liczba serwisantów\" ]\n",
    "table.append_row([\"HelpDesk A\",    1285, 1053, 1380, 1560, 219,12 ])\n",
    "table.append_row([\"HelpDesk B\",    985,   681, 1028, 796, 320,8 ])\n",
    "table.append_row([\"HelpDesk C\",    838,   755, 1100, 125, 261,10 ])\n",
    "print(table)"
   ]
  },
  {
   "cell_type": "markdown",
   "metadata": {},
   "source": [
    "<span style=\"font-size: 130%;color:black\"> FUNKCJA CELU\n",
    "\n",
    "<span style=\"font-size: 130%;color:black\">$ 985x_{1} + 681x_{2}+ 1028x_{3}+ 796x_{4}+ 320x_{5} \\to max$\n",
    "\n",
    "przy warunku, że dla HelpDesk_A:\n",
    "\n",
    "<span style=\"font-size: 130%;color:black\">$8x_{6}=1$"
   ]
  },
  {
   "cell_type": "code",
   "execution_count": 55,
   "metadata": {},
   "outputs": [],
   "source": [
    "# objective function\n",
    "prob += 985*x1 + 681*x2+1028*x3+796*x4+320*x5, \"Maksymalizacja\""
   ]
  },
  {
   "cell_type": "code",
   "execution_count": 56,
   "metadata": {},
   "outputs": [
    {
     "name": "stdout",
     "output_type": "stream",
     "text": [
      "DEA_HelpDesk_B:\n",
      "MAXIMIZE\n",
      "985*x1 + 681*x2 + 1028*x3 + 796*x4 + 320*x5 + 0\n",
      "VARIABLES\n",
      "x1 Continuous\n",
      "x2 Continuous\n",
      "x3 Continuous\n",
      "x4 Continuous\n",
      "x5 Continuous\n",
      "\n"
     ]
    }
   ],
   "source": [
    "print(prob)"
   ]
  },
  {
   "cell_type": "code",
   "execution_count": 57,
   "metadata": {},
   "outputs": [
    {
     "name": "stdout",
     "output_type": "stream",
     "text": [
      "+------------+------+--------+----------+---------+--------+-------------------+\n",
      "| Projekty I | Łódź | Poznań | Warszawa | Wrocław | Kraków | Liczba serwisantó |\n",
      "|     T      |      |        |          |         |        |         w         |\n",
      "+------------+------+--------+----------+---------+--------+-------------------+\n",
      "| HelpDesk A | 1285 |  1053  |   1380   |  1560   |  219   |        12         |\n",
      "+------------+------+--------+----------+---------+--------+-------------------+\n",
      "| HelpDesk B | 985  |  681   |   1028   |   796   |  320   |         8         |\n",
      "+------------+------+--------+----------+---------+--------+-------------------+\n",
      "| HelpDesk C | 838  |  755   |   1100   |   125   |  261   |        10         |\n",
      "+------------+------+--------+----------+---------+--------+-------------------+\n"
     ]
    }
   ],
   "source": [
    "from beautifultable import BeautifulTable\n",
    "\n",
    "table = BeautifulTable() \n",
    "table.column_headers = [\"Projekty IT\",\"Łódź\" ,\"Poznań\",\"Warszawa\",\"Wrocław\",\"Kraków\", \"Liczba serwisantów\" ]\n",
    "table.append_row([\"HelpDesk A\",    1285, 1053, 1380, 1560, 219,12 ])\n",
    "table.append_row([\"HelpDesk B\",    985,   681, 1028, 796, 320,8 ])\n",
    "table.append_row([\"HelpDesk C\",    838,   755, 1100, 125, 261,10 ])\n",
    "print(table)"
   ]
  },
  {
   "cell_type": "markdown",
   "metadata": {},
   "source": [
    "##### $\n",
    "\\left\\{\n",
    "\\begin{align} \n",
    "y_{A} = \\frac{{1285x_{1}} + 1053x_{2}+ 1380x_{3}+1560x_{4}+219x_{5}}{12x_{6}}&&(1)\\\\\n",
    "y_{B} = \\frac{{985x_{1}} + 681x_{2}+1028x_{3}+796x_{4}+320x_{5}}{8x_{5}} & & (2)\\\\\n",
    "y_{C} = \\frac{{838x_{1}} + 755x_{2}+1100x_{3}+125x_{4}+261x_{5}}{10x_{6}} & & (3)\\\\\n",
    "\\end{align}\n",
    "\\right. \n",
    "$"
   ]
  },
  {
   "cell_type": "markdown",
   "metadata": {},
   "source": [
    "##### $\n",
    "\\left\\{\n",
    "\\begin{align} \n",
    "({1285x_{1}} + 1053x_{2}+ 1380x_{3}+1560x_{4}+219x_{5})-12x_{6} & \\leqslant 0& (6)\\\\\n",
    "({985x_{1}} + 681x_{2}+1028x_{3}+796x_{4}+320x_{5})-8x_{5} & \\leqslant 0& (7)\\\\\n",
    "({838x_{1}} + 755x_{2}+1100x_{3}+125x_{4}+261x_{5})-10x_{5} & \\leqslant 0& (8)\\\\\n",
    "\\end{align}\n",
    "\\right. \n",
    "$\n",
    "\n",
    "Warunki dodatkowe: \n",
    "##### $\n",
    "\\left\\{\n",
    "\\begin{align} \n",
    "{x_{4}}-4{x_{1}} >= 0 & \\geqslant 0& (17)\\\\\n",
    "\\end{align}\n",
    "\\right. \n",
    "$\n",
    "\n",
    "\n",
    "Warunki znakowe:\n",
    "#### $\n",
    "\\left\\{\n",
    "\\begin{align} \n",
    "{x_{1}} & \\geqslant 0& (11)\\\\\n",
    "{x_{2}} & \\geqslant 0& (12)\\\\\n",
    "{x_{3}} & \\geqslant 0& (13)\\\\\n",
    "{x_{4}} & \\geqslant 0& (14)\\\\\n",
    "{x_{5}} & \\geqslant 0& (15)\\\\\n",
    "{x_{6}} & \\geqslant 0& (15)\\\\\n",
    "\\end{align}\n",
    "\\right. \n",
    "$\n",
    "\n",
    "#### $\n",
    "\\left\\{\n",
    "\\begin{align} \n",
    "{8x_{6}} & = 1& (12)\\\\\n",
    "\\end{align}\n",
    "\\right. \n",
    "$"
   ]
  },
  {
   "cell_type": "code",
   "execution_count": 58,
   "metadata": {},
   "outputs": [],
   "source": [
    "# main constraints\n",
    "prob += (1285*x1+1052*x2+1380*x3+1560*x4+219*x5)-12*x6 <= 0\n",
    "prob += (985*x1+681*x2+1028*x3+796*x4+320*x5)-8*x6 <= 0\n",
    "prob += (838*x1+755*x2+1100*x3+125*x4+261*x5)-9*x6 <= 0\n",
    "\n",
    "prob += x3-F*x1 >= 0\n",
    "prob += x3-F*x2 >= 0\n",
    "prob += x3-N*x4 >= 0\n",
    "prob += x3-G*x5 >= 0\n",
    "\n",
    "prob += 8*x6 == 1"
   ]
  },
  {
   "cell_type": "code",
   "execution_count": 59,
   "metadata": {},
   "outputs": [
    {
     "name": "stdout",
     "output_type": "stream",
     "text": [
      "DEA_HelpDesk_B:\n",
      "MAXIMIZE\n",
      "985*x1 + 681*x2 + 1028*x3 + 796*x4 + 320*x5 + 0\n",
      "SUBJECT TO\n",
      "_C1: 1285 x1 + 1052 x2 + 1380 x3 + 1560 x4 + 219 x5 - 12 x6 <= 0\n",
      "\n",
      "_C2: 985 x1 + 681 x2 + 1028 x3 + 796 x4 + 320 x5 - 8 x6 <= 0\n",
      "\n",
      "_C3: 838 x1 + 755 x2 + 1100 x3 + 125 x4 + 261 x5 - 9 x6 <= 0\n",
      "\n",
      "_C4: - 2 x1 + x3 >= 0\n",
      "\n",
      "_C5: - 2 x2 + x3 >= 0\n",
      "\n",
      "_C6: x3 - 4 x4 >= 0\n",
      "\n",
      "_C7: x3 - 8 x5 >= 0\n",
      "\n",
      "_C8: 8 x6 = 1\n",
      "\n",
      "VARIABLES\n",
      "x1 Continuous\n",
      "x2 Continuous\n",
      "x3 Continuous\n",
      "x4 Continuous\n",
      "x5 Continuous\n",
      "x6 Continuous\n",
      "\n"
     ]
    }
   ],
   "source": [
    "print(prob)"
   ]
  },
  {
   "cell_type": "markdown",
   "metadata": {},
   "source": [
    "### Rozwiązanie problemu"
   ]
  },
  {
   "cell_type": "code",
   "execution_count": 60,
   "metadata": {},
   "outputs": [
    {
     "name": "stdout",
     "output_type": "stream",
     "text": [
      "prob.solve 1\n",
      "Status: Optimal\n"
     ]
    }
   ],
   "source": [
    "print(\"prob.solve\",prob.solve())\n",
    "# status of the solution\n",
    "print(f\"Status: {LpStatus[prob.status]}\")"
   ]
  },
  {
   "cell_type": "code",
   "execution_count": 61,
   "metadata": {},
   "outputs": [
    {
     "name": "stdout",
     "output_type": "stream",
     "text": [
      "x1 = 1/4200\n",
      "x2 = 1/4200\n",
      "x3 = 1/2100\n",
      "x4 = 1/8400\n",
      "x5 = 1/16800\n",
      "x6 = 1/8\n"
     ]
    }
   ],
   "source": [
    "for v in prob.variables():\n",
    "    print(f\"{v.name} = {str(Fraction(v.varValue).limit_denominator())}\")\n"
   ]
  },
  {
   "cell_type": "code",
   "execution_count": 62,
   "metadata": {},
   "outputs": [],
   "source": [
    "x1 = 1/4200\n",
    "x2 = 1/4200\n",
    "x3 = 1/2100\n",
    "x4 = 1/8400\n",
    "x5 = 1/16800\n",
    "x6 = 1/8\n",
    "\n",
    "\n"
   ]
  },
  {
   "cell_type": "markdown",
   "metadata": {},
   "source": [
    "<span style=\"font-size: 130%;color:black\"> FUNKCJA CELU\n",
    "\n",
    "<span style=\"font-size: 130%;color:black\">$ {985x_{1}} + 681x_{2}+ 1028x_{3}+ 796x_{4}+ 320x_{5} \\to max$\n",
    "\n",
    "przy warunku, że dla HelpDesk_A:\n",
    "\n",
    "<span style=\"font-size: 130%;color:black\">$8x_{6}=1$"
   ]
  },
  {
   "cell_type": "code",
   "execution_count": 63,
   "metadata": {},
   "outputs": [
    {
     "data": {
      "text/plain": [
       "1.0"
      ]
     },
     "execution_count": 63,
     "metadata": {},
     "output_type": "execute_result"
    }
   ],
   "source": [
    "B = (985*x1+681*x2+1028*x3+796*x4+320*x5)/(8*x6)\n",
    "B"
   ]
  },
  {
   "cell_type": "markdown",
   "metadata": {},
   "source": [
    "Obliczam dla każdego oddziału banku oddzielnie programowanie liniowe\n",
    "\n",
    "<span style=\"font-size: 230%;color:#0000ff\"> HelpDesk C"
   ]
  },
  {
   "cell_type": "code",
   "execution_count": 64,
   "metadata": {},
   "outputs": [],
   "source": [
    "from pulp import *\n",
    "from fractions import Fraction\n",
    "\n",
    "# zdefiniowanie problemu- to jest taka platforma do wrzucania na nia wszystkiego\n",
    "\n",
    "prob = LpProblem(\"DEA_HelpDesk_C\",LpMaximize)"
   ]
  },
  {
   "cell_type": "code",
   "execution_count": 65,
   "metadata": {},
   "outputs": [],
   "source": [
    "# \"Continuous\"\n",
    "# \"Integer\"\n",
    "\n",
    "x1=LpVariable(\"x1\",lowBound=0,upBound=None, cat=\"Continuous\")\n",
    "x2=LpVariable(\"x2\",lowBound=0,upBound=None, cat=\"Continuous\")\n",
    "x3=LpVariable(\"x3\",lowBound=0,upBound=None, cat=\"Continuous\")\n",
    "x4=LpVariable(\"x4\",lowBound=0,upBound=None, cat=\"Continuous\")\n",
    "x5=LpVariable(\"x5\",lowBound=0,upBound=None, cat=\"Continuous\")\n",
    "x6=LpVariable(\"x6\",lowBound=0,upBound=None, cat=\"Continuous\")"
   ]
  },
  {
   "cell_type": "code",
   "execution_count": 66,
   "metadata": {},
   "outputs": [
    {
     "name": "stdout",
     "output_type": "stream",
     "text": [
      "+------------+------+--------+----------+---------+--------+-------------------+\n",
      "| Projekty I | Łódź | Poznań | Warszawa | Wrocław | Kraków | Liczba serwisantó |\n",
      "|     T      |      |        |          |         |        |         w         |\n",
      "+------------+------+--------+----------+---------+--------+-------------------+\n",
      "| HelpDesk A | 1285 |  1053  |   1380   |  1560   |  219   |        12         |\n",
      "+------------+------+--------+----------+---------+--------+-------------------+\n",
      "| HelpDesk B | 985  |  681   |   1028   |   796   |  320   |         8         |\n",
      "+------------+------+--------+----------+---------+--------+-------------------+\n",
      "| HelpDesk C | 838  |  755   |   1100   |   125   |  261   |        10         |\n",
      "+------------+------+--------+----------+---------+--------+-------------------+\n"
     ]
    }
   ],
   "source": [
    "from beautifultable import BeautifulTable\n",
    "\n",
    "table = BeautifulTable() \n",
    "table.column_headers = [\"Projekty IT\",\"Łódź\" ,\"Poznań\",\"Warszawa\",\"Wrocław\",\"Kraków\", \"Liczba serwisantów\" ]\n",
    "table.append_row([\"HelpDesk A\",    1285, 1053, 1380, 1560, 219,12 ])\n",
    "table.append_row([\"HelpDesk B\",    985,   681, 1028, 796, 320,8 ])\n",
    "table.append_row([\"HelpDesk C\",    838,   755, 1100, 125, 261,10 ])\n",
    "print(table)"
   ]
  },
  {
   "cell_type": "markdown",
   "metadata": {},
   "source": [
    "<span style=\"font-size: 130%;color:black\"> FUNKCJA CELU\n",
    "\n",
    "<span style=\"font-size: 130%;color:black\">$ 838x_{1} + 755x_{2}+ 1100x_{3}+ 125x_{4}+ 261x_{5} \\to max$\n",
    "\n",
    "przy warunku, że dla HelpDesk_C:\n",
    "\n",
    "<span style=\"font-size: 130%;color:black\">$10x_{6}=1$"
   ]
  },
  {
   "cell_type": "code",
   "execution_count": 67,
   "metadata": {},
   "outputs": [],
   "source": [
    "# objective function\n",
    "prob += 838*x1 + 755*x2+1100*x3+125*x4+261*x5, \"Maksymalizacja\""
   ]
  },
  {
   "cell_type": "code",
   "execution_count": 68,
   "metadata": {},
   "outputs": [
    {
     "name": "stdout",
     "output_type": "stream",
     "text": [
      "DEA_HelpDesk_C:\n",
      "MAXIMIZE\n",
      "838*x1 + 755*x2 + 1100*x3 + 125*x4 + 261*x5 + 0\n",
      "VARIABLES\n",
      "x1 Continuous\n",
      "x2 Continuous\n",
      "x3 Continuous\n",
      "x4 Continuous\n",
      "x5 Continuous\n",
      "\n"
     ]
    }
   ],
   "source": [
    "print(prob)"
   ]
  },
  {
   "cell_type": "code",
   "execution_count": 69,
   "metadata": {},
   "outputs": [
    {
     "name": "stdout",
     "output_type": "stream",
     "text": [
      "+------------+------+--------+----------+---------+--------+-------------------+\n",
      "| Projekty I | Łódź | Poznań | Warszawa | Wrocław | Kraków | Liczba serwisantó |\n",
      "|     T      |      |        |          |         |        |         w         |\n",
      "+------------+------+--------+----------+---------+--------+-------------------+\n",
      "| HelpDesk A | 1285 |  1053  |   1380   |  1560   |  219   |        12         |\n",
      "+------------+------+--------+----------+---------+--------+-------------------+\n",
      "| HelpDesk B | 985  |  681   |   1028   |   796   |  320   |         8         |\n",
      "+------------+------+--------+----------+---------+--------+-------------------+\n",
      "| HelpDesk C | 838  |  755   |   1100   |   125   |  261   |        10         |\n",
      "+------------+------+--------+----------+---------+--------+-------------------+\n"
     ]
    }
   ],
   "source": [
    "from beautifultable import BeautifulTable\n",
    "\n",
    "table = BeautifulTable() \n",
    "table.column_headers = [\"Projekty IT\",\"Łódź\" ,\"Poznań\",\"Warszawa\",\"Wrocław\",\"Kraków\", \"Liczba serwisantów\" ]\n",
    "table.append_row([\"HelpDesk A\",    1285, 1053, 1380, 1560, 219,12 ])\n",
    "table.append_row([\"HelpDesk B\",    985,   681, 1028, 796, 320,8 ])\n",
    "table.append_row([\"HelpDesk C\",    838,   755, 1100, 125, 261,10 ])\n",
    "print(table)"
   ]
  },
  {
   "cell_type": "markdown",
   "metadata": {},
   "source": [
    "##### $\n",
    "\\left\\{\n",
    "\\begin{align} \n",
    "y_{A} = \\frac{{1285x_{1}} + 1053x_{2}+ 1380x_{3}+1560x_{4}+219x_{5}}{12x_{6}}&&(1)\\\\\n",
    "y_{B} = \\frac{{985x_{1}} + 681x_{2}+1028x_{3}+796x_{4}+320x_{5}}{8x_{5}} & & (2)\\\\\n",
    "y_{C} = \\frac{{838x_{1}} + 755x_{2}+1100x_{3}+125x_{4}+261x_{5}}{10x_{6}} & & (3)\\\\\n",
    "\\end{align}\n",
    "\\right. \n",
    "$"
   ]
  },
  {
   "cell_type": "markdown",
   "metadata": {},
   "source": [
    "##### $\n",
    "\\left\\{\n",
    "\\begin{align} \n",
    "({1285x_{1}} + 1053x_{2}+ 1380x_{3}+1560x_{4}+219x_{5})-12x_{6} & \\leqslant 0& (6)\\\\\n",
    "({985x_{1}} + 681x_{2}+1028x_{3}+796x_{4}+320x_{5})-8x_{5} & \\leqslant 0& (7)\\\\\n",
    "({838x_{1}} + 755x_{2}+1100x_{3}+125x_{4}+261x_{5})-10x_{5} & \\leqslant 0& (8)\\\\\n",
    "\\end{align}\n",
    "\\right. \n",
    "$\n",
    "\n",
    "Warunki dodatkowe: \n",
    "##### $\n",
    "\\left\\{\n",
    "\\begin{align} \n",
    "{x_{4}}-4{x_{1}} >= 0 & \\geqslant 0& (17)\\\\\n",
    "\\end{align}\n",
    "\\right. \n",
    "$\n",
    "\n",
    "\n",
    "Warunki znakowe:\n",
    "#### $\n",
    "\\left\\{\n",
    "\\begin{align} \n",
    "{x_{1}} & \\geqslant 0& (11)\\\\\n",
    "{x_{2}} & \\geqslant 0& (12)\\\\\n",
    "{x_{3}} & \\geqslant 0& (13)\\\\\n",
    "{x_{4}} & \\geqslant 0& (14)\\\\\n",
    "{x_{5}} & \\geqslant 0& (15)\\\\\n",
    "{x_{6}} & \\geqslant 0& (15)\\\\\n",
    "\\end{align}\n",
    "\\right. \n",
    "$\n",
    "\n",
    "#### $\n",
    "\\left\\{\n",
    "\\begin{align} \n",
    "{10x_{6}} & = 1& (12)\\\\\n",
    "\\end{align}\n",
    "\\right. \n",
    "$"
   ]
  },
  {
   "cell_type": "code",
   "execution_count": 70,
   "metadata": {},
   "outputs": [],
   "source": [
    "# main constraints\n",
    "prob += (1285*x1+1052*x2+1380*x3+1560*x4+219*x5)-12*x6 <= 0\n",
    "prob += (985*x1+681*x2+1028*x3+796*x4+320*x5)-8*x6 <= 0\n",
    "prob += (838*x1+755*x2+1100*x3+125*x4+261*x5)-9*x6 <= 0\n",
    "\n",
    "prob += x3-F*x1 >= 0\n",
    "prob += x3-F*x2 >= 0\n",
    "prob += x3-N*x4 >= 0\n",
    "prob += x3-G*x5 >= 0\n",
    "\n",
    "prob += 10*x6 == 1"
   ]
  },
  {
   "cell_type": "code",
   "execution_count": 71,
   "metadata": {},
   "outputs": [
    {
     "name": "stdout",
     "output_type": "stream",
     "text": [
      "DEA_HelpDesk_C:\n",
      "MAXIMIZE\n",
      "838*x1 + 755*x2 + 1100*x3 + 125*x4 + 261*x5 + 0\n",
      "SUBJECT TO\n",
      "_C1: 1285 x1 + 1052 x2 + 1380 x3 + 1560 x4 + 219 x5 - 12 x6 <= 0\n",
      "\n",
      "_C2: 985 x1 + 681 x2 + 1028 x3 + 796 x4 + 320 x5 - 8 x6 <= 0\n",
      "\n",
      "_C3: 838 x1 + 755 x2 + 1100 x3 + 125 x4 + 261 x5 - 9 x6 <= 0\n",
      "\n",
      "_C4: - 2 x1 + x3 >= 0\n",
      "\n",
      "_C5: - 2 x2 + x3 >= 0\n",
      "\n",
      "_C6: x3 - 4 x4 >= 0\n",
      "\n",
      "_C7: x3 - 8 x5 >= 0\n",
      "\n",
      "_C8: 10 x6 = 1\n",
      "\n",
      "VARIABLES\n",
      "x1 Continuous\n",
      "x2 Continuous\n",
      "x3 Continuous\n",
      "x4 Continuous\n",
      "x5 Continuous\n",
      "x6 Continuous\n",
      "\n"
     ]
    }
   ],
   "source": [
    "print(prob)"
   ]
  },
  {
   "cell_type": "markdown",
   "metadata": {},
   "source": [
    "### Rozwiązanie problemu"
   ]
  },
  {
   "cell_type": "code",
   "execution_count": 72,
   "metadata": {},
   "outputs": [
    {
     "name": "stdout",
     "output_type": "stream",
     "text": [
      "prob.solve 1\n",
      "Status: Optimal\n"
     ]
    }
   ],
   "source": [
    "print(\"prob.solve\",prob.solve())\n",
    "# status of the solution\n",
    "print(f\"Status: {LpStatus[prob.status]}\")"
   ]
  },
  {
   "cell_type": "code",
   "execution_count": 73,
   "metadata": {},
   "outputs": [
    {
     "name": "stdout",
     "output_type": "stream",
     "text": [
      "x1 = 0\n",
      "x2 = 4/13685\n",
      "x3 = 8/13685\n",
      "x4 = 0\n",
      "x5 = 0\n",
      "x6 = 1/10\n"
     ]
    }
   ],
   "source": [
    "for v in prob.variables():\n",
    "    print(f\"{v.name} = {str(Fraction(v.varValue).limit_denominator())}\")\n"
   ]
  },
  {
   "cell_type": "code",
   "execution_count": 74,
   "metadata": {},
   "outputs": [],
   "source": [
    "x1 = 0\n",
    "x2 = 4/13685\n",
    "x3 = 8/13685\n",
    "x4 = 0\n",
    "x5 = 0\n",
    "x6 = 1/10"
   ]
  },
  {
   "cell_type": "markdown",
   "metadata": {},
   "source": [
    "<span style=\"font-size: 130%;color:black\"> FUNKCJA CELU\n",
    "\n",
    "<span style=\"font-size: 130%;color:black\">$ {838x_{1}} + 755x_{2}+ 1100x_{3}+ 125x_{4}+ 261x_{5} \\to max$\n",
    "\n",
    "przy warunku, że dla HelpDesk_C:\n",
    "\n",
    "<span style=\"font-size: 130%;color:black\">$10x_{6}=1$"
   ]
  },
  {
   "cell_type": "code",
   "execution_count": 75,
   "metadata": {},
   "outputs": [
    {
     "data": {
      "text/plain": [
       "0.959688223115333"
      ]
     },
     "execution_count": 75,
     "metadata": {},
     "output_type": "execute_result"
    }
   ],
   "source": [
    "C = (838*x1+755*x2+1100*x3+125*x4+261*x5)/(9*x6)\n",
    "C"
   ]
  },
  {
   "cell_type": "markdown",
   "metadata": {},
   "source": [
    "Ocena Łomży jest 0.7189"
   ]
  },
  {
   "cell_type": "code",
   "execution_count": 76,
   "metadata": {},
   "outputs": [
    {
     "name": "stdout",
     "output_type": "stream",
     "text": [
      "HelpDesk A: 0.913\n",
      "HelpDesk B: 1.0\n",
      "HelpDesk C: 0.96\n"
     ]
    }
   ],
   "source": [
    "\n",
    "print(\"HelpDesk A:\", round(A, 3))\n",
    "print(\"HelpDesk B:\", round(B, 3))\n",
    "print(\"HelpDesk C:\", round(C, 3))"
   ]
  },
  {
   "cell_type": "code",
   "execution_count": null,
   "metadata": {},
   "outputs": [],
   "source": []
  }
 ],
 "metadata": {
  "kernelspec": {
   "display_name": "Python 3",
   "language": "python",
   "name": "python3"
  },
  "language_info": {
   "codemirror_mode": {
    "name": "ipython",
    "version": 3
   },
   "file_extension": ".py",
   "mimetype": "text/x-python",
   "name": "python",
   "nbconvert_exporter": "python",
   "pygments_lexer": "ipython3",
   "version": "3.7.4"
  }
 },
 "nbformat": 4,
 "nbformat_minor": 2
}
