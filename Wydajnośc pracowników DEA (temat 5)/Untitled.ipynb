{
 "cells": [
  {
   "cell_type": "markdown",
   "metadata": {},
   "source": [
    "<span style=\"font-size: 230%;color:black\"> Tworzenia rankingu efektywności działów sprzedaży metodą Data Envelopment Analysis (DEA)\n",
    "\n",
    "Data envelopment analysis (DEA) jest metodą nieparametryczną służącą głównie do szacowania granic wydajności procesów. \n",
    "W wielu firmach porównywania efektywności oddziałów sprzedaży jest podstawą naliczania dodatków motywacyjnych. Jakości procesu porównawczego, jego obiektywność i niezawodność ma więc bezpośredni wpływ na przyszłą motywację i efektywność sprzedawców. \n",
    "Wskaźnik wydajności pracowników może przybierać różne formy, najczęściej jednak są to proste wskaźniki w istotnych dla firmy kategoriach w odniesieniu do liczby aktywnych sprzedawców. W ten sposób oblicza się na przykład wielkość przychodu na jednego pracownika może tu wystąpić ilość zawartych kontraktów lub wielkość zysku brutto.\n",
    "Powszechną praktyką jest łączenie wielu wskaźników takich jak zysk czy przychód na pracownika w jeden połączony wskaźnik symbolizujący łączną efektywność działu sprzedaży lub grupy sprzedawców. Do wartości cząstkowych takiego połączonego wskaźnika dodaje się wagi, które podnoszą lub obniżają znaczenie poszczególnych kategorii. \n",
    "Jest to bardzo prosta i czytelna metoda, zrozumiałe zarówno dla kadry kierowniczej jak i dla ocenianych pracowników. Niestety podejście to obarczone jest licznymi wadami, których omówienie zabrało by większość miejsca tej publikacji. Powstało wiele prac teoretycznych krytykujących tego typu metody porównawcze.\n",
    "Z drugiej strony benchmarking nie służy wyłącznie do naliczania dodatków motywacyjnych. Ma on bardzo wiele innych zastosowań, w ten sposób wycenia się efektywność zainwestowanego kapitału a co za tym idzie cenę rynkową akcji, porównuje się modele organizacyjne oraz poziom obciążenia infrastruktury. \n",
    "Problem wadliwości benchmarkingu opartego na średnich ważonych był przeszkodą w rozwóju optymalizacji zarządzania. Brakowało efektywnego narzędzia, które w sposób obiektywny i bezstronny wyznaczałoby maksymalnej granicy wydajności badanych jednostek.\n",
    "Odziały firm są zaliczane do kategorii jednostek określanych skrótem DMU od  słów decision-making units. Do jednostek takich należą złożone jednostki organizacyjne posiadające własną ograniczoną niezależność. Przykładami są szpitale, szkoły, bazy wojskowe, fabryki lub właśnie centra sprzedaży i logistyki. W tym przypadku DMU są odrębnymi jednostkami w organizacji, które mają elastyczność w odniesieniu do niektórych decyzji, które podejmują, ale niekoniecznie pełną swobodę w odniesieniu do tych decyzji.\n",
    "\n",
    "W roku 1978 zostało zaprezentowane nowe podejście do względnej analizy porównawczej jednostek DMU. Data  Envelopment  Analysis  Charnesa, Coopera i Rodosa (DEA - CCR )1 jest metodą, która doskonale sprawdza się w badaniu efektywności obiektów, które mają złożony wielowymiarowy i wielostopniowy obszar oceny. W obiektach takich tradycyjne metody pomiaru zawodzą, zawodzą również modeli machine learning i sieci neuronowych z obszaru deep learning. Wszystko dlatego, że w metodach wskaźnikowych oraz metodach ekonometrycznych zakłada się, że potrafimy ustalić, jak wielki nakład danego rodzaju został bezpośrednio wydatkowany na uzyskanie poszczególnych rezultatów (np. ile jednostek majątku trwałego firmy usługowej było potrzebnych do wytworzenia poszczególnych rodzajów usług).W praktyce, bez bardzo szczegółowej rachunkowości, nie jest to możliwe2.\n",
    "Celem tej publikacji jest przedstawienie praktycznego zastosowania metody DEA – CCR przy ocenie efektywności działów sprzedaży. Dalej zaprezentowany jest bardzo uproszczony przykład jednostek DMU, niemniej zastosowane tu metody mogą być z powodzeniem wykorzystane w praktyce gospodarczej.\n",
    "Zastosowania DEA w sieci sprzedaży jednostek DMU \n",
    "Firma handlowa posiada posiada  pięć oddziałów sprzedaży w dużych miastach w Polsce. Firma zajmuje się sprzedażą w obszarze czterech segmentów rynku. Naszym zadaniem jest ocena porównawcza. Na podstawie ilości podpisanych kontraktów oraz liczby sprzedawców musimy zbudować ranking efektywności oddziałów firmy.  Poniższa tabela zawiera potrzebne do analizy informacje: \n",
    "\n",
    "\n"
   ]
  }
 ],
 "metadata": {
  "kernelspec": {
   "display_name": "Python 3",
   "language": "python",
   "name": "python3"
  },
  "language_info": {
   "codemirror_mode": {
    "name": "ipython",
    "version": 3
   },
   "file_extension": ".py",
   "mimetype": "text/x-python",
   "name": "python",
   "nbconvert_exporter": "python",
   "pygments_lexer": "ipython3",
   "version": "3.7.4"
  }
 },
 "nbformat": 4,
 "nbformat_minor": 2
}
