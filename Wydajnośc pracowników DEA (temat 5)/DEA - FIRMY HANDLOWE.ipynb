{
 "cells": [
  {
   "cell_type": "markdown",
   "metadata": {},
   "source": [
    "<span style=\"font-size: 150%;color:white;background:red\"> MATERIAŁ na artykół do gazety HANDLOWEJ\n",
    "\n",
    "<span style=\"font-size: 160%;color:#0000ff\"> OCENA WYDAJNOŚCI PRACY PRACOWNIKÓW W PROJEKTACH ZA POMOCĄ METODY DEA"
   ]
  },
  {
   "cell_type": "markdown",
   "metadata": {},
   "source": [
    "<span style=\"font-size: 150%;color:white;background:#1155cc\"> Data envelopment analysis (DEA)\n",
    "    \n",
    "Envelopment analiza danych (DEA), czasami nazywany analiza granica została po raz pierwszy przedstawiona przez Charnes, Cooper i Rodos w roku 1978. Jest to technika pomiaru wydajności, które, jak się przekonamy, może być stosowany do oceny względnej skuteczności w procesie decyzyjnym jednostek ( DMU ) w organizacjach. W tym przypadku DMU jest odrębną jednostką w organizacji, która ma elastyczność w odniesieniu do niektórych decyzji, które podejmuje, ale niekoniecznie pełną swobodę w odniesieniu do tych decyzji.\n",
    "\n",
    "Przykładami takich jednostek, do których zastosowano DEA, są: banki, posterunki policji, szpitale, urzędy skarbowe, więzienia, bazy obronne (wojsko, marynarka wojenna, siły powietrzne), szkoły i wydziały uniwersyteckie. Należy zauważyć, że jedną z zalet DEA jest to, że można go zastosować do organizacji non-profit.\n",
    "\n",
    "Od czasu pierwszego zaproponowania tej techniki wykonano wiele prac teoretycznych i empirycznych. Opublikowano wiele badań dotyczących stosowania DEA w rzeczywistych sytuacjach. Oczywiście niepublikowanych opracowań jest znacznie więcej, np. Wykonanych wewnętrznie przez firmy lub konsultantów zewnętrznych.\n",
    "\n",
    "Na początku zilustrujemy DEA na małym przykładzie. Więcej o DEA można znaleźć tutaj . Zwróć uwagę, że wiele z tego, co zobaczysz poniżej, to graficzne (obrazowe) podejście do DEA. Jest to bardzo przydatne, jeśli próbujesz wyjaśnić DEA osobom mniej wykwalifikowanym technicznie (takim jak wielu, których możesz spotkać w świecie zarządzania). Istnieje jednak matematyczne podejście do DEA, które można jednak przyjąć - zostanie to zilustrowane poniżej."
   ]
  },
  {
   "cell_type": "markdown",
   "metadata": {},
   "source": [
    "http://people.brunel.ac.uk/~mastjjb/jeb/or/dea.html\n",
    "\n",
    "Zadanie polega na tym, że analizuje się wydajność personelu pracującego w banku, wymyślono różne wskaźniki m.in. wskażnik ilości operacji bankowych na pracownika itp. \n",
    "\n",
    "<span style=\"font-size: 130%;color:#0000ff\"> Jednym z problemów związanych z porównaniem za pomocą współczynników jest to, że różne współczynniki mogą dać inny obraz i trudno jest połączyć cały zestaw współczynników w jedną ocenę liczbową.\n",
    "    \n",
    "Na przykład rozważmy Dorking i Reigate - Dorking jest (2,75 / 2,09) = 1,32 razy skuteczniejszy niż Reigate w transakcjach osobistych, ale tylko (1,25 / 1,09) = 1,15 razy skuteczniejszy w transakcjach biznesowych. Jak połączyć te liczby w jedą ocenę?\n",
    "Problem zacznie się gdy takich wskaźników dodamy jeszcze 5 czy 8. Jak wtedy ocenić? Przez średnią? \n",
    "\n",
    "<span style=\"font-size: 130%;color:#0000ff\"> Graficznie w artykule mu wyszedł taki ranking:\n",
    "\n",
    " 1. Croydon 100%\n",
    " 2. Dorking 43%\n",
    " 3. Redhill 100%\n",
    " 4. Reigate 36%"
   ]
  },
  {
   "cell_type": "code",
   "execution_count": 1,
   "metadata": {},
   "outputs": [
    {
     "name": "stdout",
     "output_type": "stream",
     "text": [
      "+-----------------+------------+------------+------------+------------+--------+\n",
      "| Filia firmy  sp | Liczba tra | Liczba tra | Liczba tra | Liczba tra | Liczba |\n",
      "| rzedającej prod | nsakcji w  | nsakcji w  | nsakcji w  | nsakcji w  |   hand |\n",
      "| ukty            | obszarze A | obszarze B | obszarze C | obszarze D | lowców |\n",
      "|                 |            |            |            |            |        |\n",
      "+-----------------+------------+------------+------------+------------+--------+\n",
      "|     Lublin      |    185     |    153     |    118     |     56     |   29   |\n",
      "+-----------------+------------+------------+------------+------------+--------+\n",
      "|    Warszawa     |     45     |     21     |    128     |     76     |   30   |\n",
      "+-----------------+------------+------------+------------+------------+--------+\n",
      "|   Częstochowa   |    180     |     55     |    110     |     45     |   21   |\n",
      "+-----------------+------------+------------+------------+------------+--------+\n",
      "|    Białystok    |    134     |    102     |    108     |    156     |   19   |\n",
      "+-----------------+------------+------------+------------+------------+--------+\n",
      "|      Łomża      |    123     |    112     |     91     |     36     |   15   |\n",
      "+-----------------+------------+------------+------------+------------+--------+\n"
     ]
    },
    {
     "name": "stderr",
     "output_type": "stream",
     "text": [
      "/home/wojciech/anaconda3/lib/python3.7/site-packages/beautifultable/utils.py:125: FutureWarning: 'BeautifulTable.column_headers' has been deprecated in 'v1.0.0' and will be removed in 'v1.2.0'. Use 'BTColumnCollection.header' instead.\n",
      "  warnings.warn(message, FutureWarning)\n",
      "/home/wojciech/anaconda3/lib/python3.7/site-packages/beautifultable/utils.py:125: FutureWarning: 'BeautifulTable.append_row' has been deprecated in 'v1.0.0' and will be removed in 'v1.2.0'. Use 'BTRowCollection.append' instead.\n",
      "  warnings.warn(message, FutureWarning)\n"
     ]
    }
   ],
   "source": [
    "from beautifultable import BeautifulTable\n",
    "\n",
    "table = BeautifulTable() \n",
    "table.column_headers = [\"Filia firmy  sprzedającej produkty              \",\"Liczba transakcji w obszarze A    \" ,\"Liczba transakcji w obszarze B    \",\"Liczba transakcji w obszarze C    \",\"Liczba transakcji w obszarze D    \", \"Liczba  handlowców    \" ]\n",
    "table.append_row([\"Lublin\",    185, 153, 118, 56, 29 ])\n",
    "table.append_row([\"Warszawa\",    45,   21, 128, 76, 30 ])\n",
    "table.append_row([\"Częstochowa\",    180,   55, 110, 45, 21 ])\n",
    "table.append_row([\"Białystok\",    134,   102, 108, 156, 19 ])\n",
    "table.append_row([\"Łomża\",    123,   112, 91, 36, 15 ])\n",
    "print(table)"
   ]
  },
  {
   "cell_type": "markdown",
   "metadata": {},
   "source": [
    "\n",
    "Zarząd uznał że:\n",
    "\n",
    "obszar D (x4) jest dwa razy lepiej punktowany niż obaszar A (x1)\n",
    "\n",
    "obszar B (x2) jest punktowany jak 1/2 sprzedaży kontraktu w  obszarze C (x3)"
   ]
  },
  {
   "cell_type": "markdown",
   "metadata": {},
   "source": [
    "<span style=\"font-size: 230%;color:green\">\n",
    "\n",
    "$ {x_{4}}-4{x_{1}} >= 0$\n",
    "\n",
    "$ {x_{2}}-0.5{x_{3}} >= 0$"
   ]
  },
  {
   "cell_type": "code",
   "execution_count": 2,
   "metadata": {},
   "outputs": [],
   "source": [
    "F = 4\n",
    "G = 0.5"
   ]
  },
  {
   "cell_type": "markdown",
   "metadata": {},
   "source": [
    "Obliczam dla każdego oddziału banku oddzielnie programowanie liniowe\n",
    "\n",
    "<span style=\"font-size: 230%;color:#0000ff\"> Lublin"
   ]
  },
  {
   "cell_type": "code",
   "execution_count": 3,
   "metadata": {},
   "outputs": [],
   "source": [
    "from pulp import *\n",
    "from fractions import Fraction\n",
    "\n",
    "# zdefiniowanie problemu- to jest taka platforma do wrzucania na nia wszystkiego\n",
    "\n",
    "prob = LpProblem(\"DEA_Lublin\",LpMaximize)"
   ]
  },
  {
   "cell_type": "code",
   "execution_count": 4,
   "metadata": {},
   "outputs": [],
   "source": [
    "# \"Continuous\"\n",
    "# \"Integer\"\n",
    "\n",
    "x1=LpVariable(\"x1\",lowBound=0,upBound=None, cat=\"Continuous\")\n",
    "x2=LpVariable(\"x2\",lowBound=0,upBound=None, cat=\"Continuous\")\n",
    "x3=LpVariable(\"x3\",lowBound=0,upBound=None, cat=\"Continuous\")\n",
    "x4=LpVariable(\"x4\",lowBound=0,upBound=None, cat=\"Continuous\")\n",
    "x5=LpVariable(\"x5\",lowBound=0,upBound=None, cat=\"Continuous\")"
   ]
  },
  {
   "cell_type": "markdown",
   "metadata": {},
   "source": [
    "<span style=\"font-size: 130%;color:black\"> FUNKCJA CELU\n",
    "\n",
    "<span style=\"font-size: 130%;color:black\">$ {185x_{1}} + 153x_{2}+ 118x_{3}+ 56x_{4} \\to max$\n",
    "\n",
    "przy warunku, że dla Lublina:\n",
    "\n",
    "<span style=\"font-size: 130%;color:black\">$29x_{5}=1$"
   ]
  },
  {
   "cell_type": "code",
   "execution_count": 5,
   "metadata": {},
   "outputs": [],
   "source": [
    "# objective function\n",
    "prob += 185*x1 + 153*x2+118*x3+56*x4, \"Maksymalizacja\""
   ]
  },
  {
   "cell_type": "code",
   "execution_count": 6,
   "metadata": {},
   "outputs": [
    {
     "name": "stdout",
     "output_type": "stream",
     "text": [
      "DEA_Lublin:\n",
      "MAXIMIZE\n",
      "185*x1 + 153*x2 + 118*x3 + 56*x4 + 0\n",
      "VARIABLES\n",
      "x1 Continuous\n",
      "x2 Continuous\n",
      "x3 Continuous\n",
      "x4 Continuous\n",
      "\n"
     ]
    }
   ],
   "source": [
    "print(prob)"
   ]
  },
  {
   "cell_type": "code",
   "execution_count": 7,
   "metadata": {},
   "outputs": [
    {
     "name": "stdout",
     "output_type": "stream",
     "text": [
      "+---------------+-------------+-------------+------------+------------+--------+\n",
      "| Filia firmy s | Liczba tran | Liczba tran | Liczba tra | Liczba tra | Liczba |\n",
      "| przedającej p | sakcji w ob | sakcji w ob | nsakcji w  | nsakcji w  |  handl |\n",
      "|    rodukty    |  szarze A   |  szarze B   | obszarze C | obszarze D | owców  |\n",
      "+---------------+-------------+-------------+------------+------------+--------+\n",
      "|    Lublin     |     185     |     153     |    118     |     56     |   29   |\n",
      "+---------------+-------------+-------------+------------+------------+--------+\n",
      "|   Warszawa    |     45      |     21      |    128     |     76     |   30   |\n",
      "+---------------+-------------+-------------+------------+------------+--------+\n",
      "|  Częstochowa  |     180     |     55      |    110     |     45     |   21   |\n",
      "+---------------+-------------+-------------+------------+------------+--------+\n",
      "|   Białystok   |     134     |     102     |    108     |    156     |   19   |\n",
      "+---------------+-------------+-------------+------------+------------+--------+\n",
      "|     Łomża     |     123     |     112     |     91     |     36     |   15   |\n",
      "+---------------+-------------+-------------+------------+------------+--------+\n"
     ]
    }
   ],
   "source": [
    "### from beautifultable import BeautifulTable\n",
    "\n",
    "table = BeautifulTable()\n",
    "table.column_headers = [\"Filia firmy sprzedającej produkty\",\"Liczba transakcji w obszarze A\" ,\"Liczba transakcji w obszarze B\",\"Liczba transakcji w obszarze C\",\"Liczba transakcji w obszarze D\", \"Liczba handlowców\" ]\n",
    "table.append_row([\"Lublin\",    185, 153, 118, 56, 29 ])\n",
    "table.append_row([\"Warszawa\",    45,   21, 128, 76, 30 ])\n",
    "table.append_row([\"Częstochowa\",    180,   55, 110, 45, 21 ])\n",
    "table.append_row([\"Białystok\",    134,   102, 108, 156, 19 ])\n",
    "table.append_row([\"Łomża\",    123,   112, 91, 36, 15 ])\n",
    "print(table)"
   ]
  },
  {
   "cell_type": "markdown",
   "metadata": {},
   "source": [
    "##### $\n",
    "\\left\\{\n",
    "\\begin{align} \n",
    "y_{Lublin} = \\frac{{185x_{1}} + 153x_{2}+118x_{3}+56x_{4}}{29x_{5}}&&(1)\\\\\n",
    "y_{Warszawa} = \\frac{{45x_{1}} + 21x_{2}+128x_{3}+76x_{4}}{30x_{5}} & & (2)\\\\\n",
    "y_{Częstochowa} = \\frac{{180x_{1}} + 55x_{2}+110x_{3}+45x_{4}}{21x_{5}} & & (3)\\\\\n",
    "y_{Białystok} = \\frac{{134x_{1}} + 102x_{2}+108x_{3}+156x_{4}}{19x_{5}} & & (4)\\\\\n",
    "y_{Łomża} = \\frac{{123x_{1}} + 112x_{2}+91x_{3}+36x_{4}}{15x_{5}} & & (5)\\\\\n",
    "\\end{align}\n",
    "\\right. \n",
    "$"
   ]
  },
  {
   "cell_type": "markdown",
   "metadata": {},
   "source": [
    "##### $\n",
    "\\left\\{\n",
    "\\begin{align} \n",
    "({185x_{1}} + 153x_{2}+118x_{3}+56x_{4})-29x_{5} & \\leqslant 0& (6)\\\\\n",
    "({45x_{1}} + 21x_{2}+128x_{3}+76x_{4})-30x_{5} & \\leqslant 0& (7)\\\\\n",
    "({180x_{1}} + 55x_{2}+110x_{3}+45x_{4})-21x_{5} & \\leqslant 0& (8)\\\\\n",
    "({134x_{1}} + 102x_{2}+108x_{3}+156x_{4})-19x_{5} & \\leqslant 0& (9)\\\\\n",
    "({123x_{1}} + 112x_{2}+91x_{3}+36x_{4})-15x_{5} & \\leqslant 0& (10)\\\\\n",
    "\\end{align}\n",
    "\\right. \n",
    "$\n",
    "\n",
    "Warunki dodatkowe: \n",
    "##### $\n",
    "\\left\\{\n",
    "\\begin{align} \n",
    "{x_{4}}-4{x_{1}} & \\geqslant 0& (16)\\\\\n",
    "{x_{2}}-0.5{x_{3}} & \\geqslant 0& (17)\\\\\n",
    "\\end{align}\n",
    "\\right. \n",
    "$\n",
    "\n",
    "\n",
    "Warunki znakowe:\n",
    "#### $\n",
    "\\left\\{\n",
    "\\begin{align} \n",
    "{x_{1}} & \\geqslant 0& (11)\\\\\n",
    "{x_{2}} & \\geqslant 0& (12)\\\\\n",
    "{x_{3}} & \\geqslant 0& (13)\\\\\n",
    "{x_{4}} & \\geqslant 0& (14)\\\\\n",
    "{x_{5}} & \\geqslant 0& (15)\\\\\n",
    "\\end{align}\n",
    "\\right. \n",
    "$\n",
    "\n",
    "#### $\n",
    "\\left\\{\n",
    "\\begin{align} \n",
    "{29x_{5}} & = 1& (12)\\\\\n",
    "\\end{align}\n",
    "\\right. \n",
    "$"
   ]
  },
  {
   "cell_type": "code",
   "execution_count": 8,
   "metadata": {},
   "outputs": [],
   "source": [
    "# main constraints\n",
    "prob += (185*x1+153*x2+118*x3+56*x4)-29*x5 <= 0\n",
    "prob += (45*x1+21*x2+128*x3+76*x4)-30*x5 <= 0\n",
    "prob += (180*x1+55*x2+110*x3+45*x4)-21*x5 <= 0\n",
    "prob += (134*x1+102*x2+108*x3+156*x4)-19*x5 <= 0\n",
    "prob += (123*x1+112*x2+91*x3+36*x4)-15*x5 <= 0\n",
    "\n",
    "prob += x4-F*x1 >= 0\n",
    "prob += x2-G*x4 >= 0\n",
    "\n",
    "prob += 29*x5 == 1"
   ]
  },
  {
   "cell_type": "code",
   "execution_count": 9,
   "metadata": {},
   "outputs": [
    {
     "name": "stdout",
     "output_type": "stream",
     "text": [
      "DEA_Lublin:\n",
      "MAXIMIZE\n",
      "185*x1 + 153*x2 + 118*x3 + 56*x4 + 0\n",
      "SUBJECT TO\n",
      "_C1: 185 x1 + 153 x2 + 118 x3 + 56 x4 - 29 x5 <= 0\n",
      "\n",
      "_C2: 45 x1 + 21 x2 + 128 x3 + 76 x4 - 30 x5 <= 0\n",
      "\n",
      "_C3: 180 x1 + 55 x2 + 110 x3 + 45 x4 - 21 x5 <= 0\n",
      "\n",
      "_C4: 134 x1 + 102 x2 + 108 x3 + 156 x4 - 19 x5 <= 0\n",
      "\n",
      "_C5: 123 x1 + 112 x2 + 91 x3 + 36 x4 - 15 x5 <= 0\n",
      "\n",
      "_C6: - 4 x1 + x4 >= 0\n",
      "\n",
      "_C7: x2 - 0.5 x4 >= 0\n",
      "\n",
      "_C8: 29 x5 = 1\n",
      "\n",
      "VARIABLES\n",
      "x1 Continuous\n",
      "x2 Continuous\n",
      "x3 Continuous\n",
      "x4 Continuous\n",
      "x5 Continuous\n",
      "\n"
     ]
    }
   ],
   "source": [
    "print(prob)"
   ]
  },
  {
   "cell_type": "markdown",
   "metadata": {},
   "source": [
    "### Rozwiązanie problemu"
   ]
  },
  {
   "cell_type": "code",
   "execution_count": 10,
   "metadata": {},
   "outputs": [
    {
     "name": "stdout",
     "output_type": "stream",
     "text": [
      "prob.solve 1\n",
      "Status: Optimal\n"
     ]
    }
   ],
   "source": [
    "print(\"prob.solve\",prob.solve())\n",
    "# status of the solution\n",
    "print(f\"Status: {LpStatus[prob.status]}\")"
   ]
  },
  {
   "cell_type": "code",
   "execution_count": 11,
   "metadata": {},
   "outputs": [
    {
     "name": "stdout",
     "output_type": "stream",
     "text": [
      "x1 = 107/299206\n",
      "x2 = 393/104363\n",
      "x3 = 0\n",
      "x4 = 214/149603\n",
      "x5 = 1/29\n"
     ]
    }
   ],
   "source": [
    "for v in prob.variables():\n",
    "    print(f\"{v.name} = {str(Fraction(v.varValue).limit_denominator())}\")\n"
   ]
  },
  {
   "cell_type": "code",
   "execution_count": 12,
   "metadata": {},
   "outputs": [],
   "source": [
    "x1 = 107/299206\n",
    "x2 = 393/104363\n",
    "x3 = 0\n",
    "x4 = 214/149603\n",
    "x5 = 1/29"
   ]
  },
  {
   "cell_type": "markdown",
   "metadata": {},
   "source": [
    "##### $\n",
    "\\left\\{\n",
    "\\begin{align} \n",
    "{185x_{1}} + 153x_{2}+ 118x_{3}+ 56x_{4} &\\to max &(18)\\\\\n",
    "{29x_{5}}=1&& (19)\n",
    "\\end{align}\n",
    "\\right. \n",
    "$"
   ]
  },
  {
   "cell_type": "markdown",
   "metadata": {},
   "source": [
    "<span style=\"font-size: 130%;color:#0000ff\"> FUNKCJA CELU\n",
    "\n",
    "<span style=\"font-size: 130%;color:#0000ff\">$ {185x_{1}} + 153x_{2}+ 118x_{3}+ 56x_{4} \\to max$\n",
    "\n",
    "przy warunku, że dla Lublina:\n",
    "\n",
    "<span style=\"font-size: 130%;color:black\">$29x_{5}=1$"
   ]
  },
  {
   "cell_type": "code",
   "execution_count": 13,
   "metadata": {},
   "outputs": [
    {
     "data": {
      "text/plain": [
       "0.7224162459614281"
      ]
     },
     "execution_count": 13,
     "metadata": {},
     "output_type": "execute_result"
    }
   ],
   "source": [
    "Lublin = (185*x1+153*x2+118*x3+56*x4)/(29*x5)\n",
    "Lublin"
   ]
  },
  {
   "cell_type": "markdown",
   "metadata": {},
   "source": [
    "Ocena Lublina jest bardzo zła 0.0009"
   ]
  },
  {
   "cell_type": "markdown",
   "metadata": {},
   "source": [
    "Graficznie w artykule mu wyszedł taki ranking:\n",
    "\n",
    " 1. Croydon 100%\n",
    " 2. Dorking 43%\n",
    " 3. Redhill 100%\n",
    " 4. Reigate 36%"
   ]
  },
  {
   "cell_type": "markdown",
   "metadata": {},
   "source": [
    "Obliczam dla każdego oddziału banku oddzielnie programowanie liniowe\n",
    "\n",
    "<span style=\"font-size: 230%;color:#0000ff\"> Warszawa"
   ]
  },
  {
   "cell_type": "code",
   "execution_count": 14,
   "metadata": {},
   "outputs": [
    {
     "name": "stdout",
     "output_type": "stream",
     "text": [
      "+---------------+-------------+-------------+------------+------------+--------+\n",
      "| Filia firmy s | Liczba tran | Liczba tran | Liczba tra | Liczba tra | Liczba |\n",
      "| przedającej p | sakcji w ob | sakcji w ob | nsakcji w  | nsakcji w  |  handl |\n",
      "|    rodukty    |  szarze A   |  szarze B   | obszarze C | obszarze D | owców  |\n",
      "+---------------+-------------+-------------+------------+------------+--------+\n",
      "|    Lublin     |     185     |     153     |    118     |     56     |   29   |\n",
      "+---------------+-------------+-------------+------------+------------+--------+\n",
      "|   Warszawa    |     45      |     21      |    128     |     76     |   30   |\n",
      "+---------------+-------------+-------------+------------+------------+--------+\n",
      "|  Częstochowa  |     180     |     55      |    110     |     45     |   21   |\n",
      "+---------------+-------------+-------------+------------+------------+--------+\n",
      "|   Białystok   |     134     |     102     |    108     |    156     |   19   |\n",
      "+---------------+-------------+-------------+------------+------------+--------+\n",
      "|     Łomża     |     123     |     112     |     91     |     36     |   15   |\n",
      "+---------------+-------------+-------------+------------+------------+--------+\n"
     ]
    }
   ],
   "source": [
    "from beautifultable import BeautifulTable\n",
    "\n",
    "table = BeautifulTable()\n",
    "table.column_headers = [\"Filia firmy sprzedającej produkty\",\"Liczba transakcji w obszarze A\" ,\"Liczba transakcji w obszarze B\",\"Liczba transakcji w obszarze C\",\"Liczba transakcji w obszarze D\", \"Liczba handlowców\" ]\n",
    "table.append_row([\"Lublin\",    185, 153, 118, 56, 29 ])\n",
    "table.append_row([\"Warszawa\",    45,   21, 128, 76, 30 ])\n",
    "table.append_row([\"Częstochowa\",    180,   55, 110, 45, 21 ])\n",
    "table.append_row([\"Białystok\",    134,   102, 108, 156, 19 ])\n",
    "table.append_row([\"Łomża\",    123,   112, 91, 36, 15 ])\n",
    "print(table)"
   ]
  },
  {
   "cell_type": "code",
   "execution_count": 15,
   "metadata": {},
   "outputs": [],
   "source": [
    "from pulp import *\n",
    "from fractions import Fraction\n",
    "\n",
    "# zdefiniowanie problemu- to jest taka platforma do wrzucania na nia wszystkiego\n",
    "\n",
    "prob = LpProblem(\"DEA_Warszaawa\",LpMaximize)"
   ]
  },
  {
   "cell_type": "code",
   "execution_count": 16,
   "metadata": {},
   "outputs": [],
   "source": [
    "# \"Continuous\"\n",
    "# \"Integer\"\n",
    "\n",
    "x1=LpVariable(\"x1\",lowBound=0,upBound=None, cat=\"Continuous\")\n",
    "x2=LpVariable(\"x2\",lowBound=0,upBound=None, cat=\"Continuous\")\n",
    "x3=LpVariable(\"x3\",lowBound=0,upBound=None, cat=\"Continuous\")\n",
    "x4=LpVariable(\"x4\",lowBound=0,upBound=None, cat=\"Continuous\")\n",
    "x5=LpVariable(\"x5\",lowBound=0,upBound=None, cat=\"Continuous\")"
   ]
  },
  {
   "cell_type": "markdown",
   "metadata": {},
   "source": [
    "##### $\n",
    "\\left\\{\n",
    "\\begin{align} \n",
    "{45x_{1}} + 21x_{2}+ 128x_{3}+ 76x_{4} &\\to max &(20)\\\\\n",
    "{30x_{5}}=1&& (21)\n",
    "\\end{align}\n",
    "\\right. \n",
    "$"
   ]
  },
  {
   "cell_type": "markdown",
   "metadata": {},
   "source": [
    "##### <span style=\"font-size: 130%;color:#0000ff\"> FUNKCJA CELU\n",
    "\n",
    "<span style=\"font-size: 130%;color:#0000ff\">$ {45x_{1}} + 21x_{2}+ 128x_{3}+ 76x_{4} \\to max$\n",
    "\n",
    "przy warunku, że dla Lublina:\n",
    "\n",
    "<span style=\"font-size: 130%;color:black\">$30x_{5}=1$"
   ]
  },
  {
   "cell_type": "code",
   "execution_count": 17,
   "metadata": {},
   "outputs": [],
   "source": [
    "# objective function\n",
    "prob += 45*x1 + 21*x2+128*x3+76*x4, \"Maksymalizacja zysków\""
   ]
  },
  {
   "cell_type": "code",
   "execution_count": 18,
   "metadata": {},
   "outputs": [
    {
     "name": "stdout",
     "output_type": "stream",
     "text": [
      "DEA_Warszaawa:\n",
      "MAXIMIZE\n",
      "45*x1 + 21*x2 + 128*x3 + 76*x4 + 0\n",
      "VARIABLES\n",
      "x1 Continuous\n",
      "x2 Continuous\n",
      "x3 Continuous\n",
      "x4 Continuous\n",
      "\n"
     ]
    }
   ],
   "source": [
    "print(prob)"
   ]
  },
  {
   "cell_type": "code",
   "execution_count": 19,
   "metadata": {},
   "outputs": [
    {
     "name": "stdout",
     "output_type": "stream",
     "text": [
      "+---------------+-------------+-------------+------------+------------+--------+\n",
      "| Filia firmy s | Liczba tran | Liczba tran | Liczba tra | Liczba tra | Liczba |\n",
      "| przedającej p | sakcji w ob | sakcji w ob | nsakcji w  | nsakcji w  |  handl |\n",
      "|    rodukty    |  szarze A   |  szarze B   | obszarze C | obszarze D | owców  |\n",
      "+---------------+-------------+-------------+------------+------------+--------+\n",
      "|    Lublin     |     185     |     153     |    118     |     56     |   29   |\n",
      "+---------------+-------------+-------------+------------+------------+--------+\n",
      "|   Warszawa    |     45      |     21      |    128     |     76     |   30   |\n",
      "+---------------+-------------+-------------+------------+------------+--------+\n",
      "|  Częstochowa  |     180     |     55      |    110     |     45     |   21   |\n",
      "+---------------+-------------+-------------+------------+------------+--------+\n",
      "|   Białystok   |     134     |     102     |    108     |    156     |   19   |\n",
      "+---------------+-------------+-------------+------------+------------+--------+\n",
      "|     Łomża     |     123     |     112     |     91     |     36     |   15   |\n",
      "+---------------+-------------+-------------+------------+------------+--------+\n"
     ]
    }
   ],
   "source": [
    "from beautifultable import BeautifulTable\n",
    "\n",
    "table = BeautifulTable()\n",
    "table.column_headers = [\"Filia firmy sprzedającej produkty\",\"Liczba transakcji w obszarze A\" ,\"Liczba transakcji w obszarze B\",\"Liczba transakcji w obszarze C\",\"Liczba transakcji w obszarze D\", \"Liczba handlowców\" ]\n",
    "table.append_row([\"Lublin\",    185, 153, 118, 56, 29 ])\n",
    "table.append_row([\"Warszawa\",    45,   21, 128, 76, 30 ])\n",
    "table.append_row([\"Częstochowa\",    180,   55, 110, 45, 21 ])\n",
    "table.append_row([\"Białystok\",    134,   102, 108, 156, 19 ])\n",
    "table.append_row([\"Łomża\",    123,   112, 91, 36, 15 ])\n",
    "print(table)"
   ]
  },
  {
   "cell_type": "markdown",
   "metadata": {},
   "source": [
    "##### $\n",
    "\\left\\{\n",
    "\\begin{align} \n",
    "({185x_{1}} + 153x_{2}+118x_{3}+56x_{4})-29x_{5} & \\leqslant 0& (1)\\\\\n",
    "({45x_{1}} + 21x_{2}+128x_{3}+76x_{4})-30x_{5} & \\leqslant 0& (2)\\\\\n",
    "({180x_{1}} + 55x_{2}+110x_{3}+45x_{4})-21x_{5} & \\leqslant 0& (3)\\\\\n",
    "({134x_{1}} + 102x_{2}+108x_{3}+156x_{4})-19x_{5} & \\leqslant 0& (4)\\\\\n",
    "({123x_{1}} + 112x_{2}+91x_{3}+36x_{4})-15x_{5} & \\leqslant 0& (5)\\\\\n",
    "\\end{align}\n",
    "\\right. \n",
    "$\n",
    "\n",
    "Warunki dodatkowe: \n",
    "##### $\n",
    "\\left\\{\n",
    "\\begin{align} \n",
    "{x_{4}}-4{x_{1}} & \\geqslant 0& (6)\\\\\n",
    "{x_{2}}-0.5{x_{3}} & \\geqslant 0& (7)\\\\\n",
    "\\end{align}\n",
    "\\right. \n",
    "$\n",
    "\n",
    "Warunki znakowe:\n",
    "#### $\n",
    "\\left\\{\n",
    "\\begin{align} \n",
    "{x_{1}} & \\geqslant 0& (6)\\\\\n",
    "{x_{2}} & \\geqslant 0& (7)\\\\\n",
    "{x_{3}} & \\geqslant 0& (8)\\\\\n",
    "{x_{4}} & \\geqslant 0& (9)\\\\\n",
    "{30x_{5}} & = 1& (10)\\\\\n",
    "\\end{align}\n",
    "\\right. \n",
    "$"
   ]
  },
  {
   "cell_type": "code",
   "execution_count": 20,
   "metadata": {},
   "outputs": [],
   "source": [
    "# main constraints\n",
    "prob += (185*x1+153*x2+118*x3+56*x4)-29*x5 <= 0\n",
    "prob += (45*x1+21*x2+128*x3+76*x4)-30*x5 <= 0\n",
    "prob += (180*x1+55*x2+110*x3+45*x4)-21*x5 <= 0\n",
    "prob += (134*x1+102*x2+108*x3+156*x4)-19*x5 <= 0\n",
    "prob += (123*x1+112*x2+91*x3+36*x4)-15*x5 <= 0\n",
    "\n",
    "prob += x4-F*x1 >= 0\n",
    "prob += x2-G*x4 >= 0\n",
    "\n",
    "prob += 30*x5 == 1"
   ]
  },
  {
   "cell_type": "code",
   "execution_count": 21,
   "metadata": {},
   "outputs": [
    {
     "name": "stdout",
     "output_type": "stream",
     "text": [
      "DEA_Warszaawa:\n",
      "MAXIMIZE\n",
      "45*x1 + 21*x2 + 128*x3 + 76*x4 + 0\n",
      "SUBJECT TO\n",
      "_C1: 185 x1 + 153 x2 + 118 x3 + 56 x4 - 29 x5 <= 0\n",
      "\n",
      "_C2: 45 x1 + 21 x2 + 128 x3 + 76 x4 - 30 x5 <= 0\n",
      "\n",
      "_C3: 180 x1 + 55 x2 + 110 x3 + 45 x4 - 21 x5 <= 0\n",
      "\n",
      "_C4: 134 x1 + 102 x2 + 108 x3 + 156 x4 - 19 x5 <= 0\n",
      "\n",
      "_C5: 123 x1 + 112 x2 + 91 x3 + 36 x4 - 15 x5 <= 0\n",
      "\n",
      "_C6: - 4 x1 + x4 >= 0\n",
      "\n",
      "_C7: x2 - 0.5 x4 >= 0\n",
      "\n",
      "_C8: 30 x5 = 1\n",
      "\n",
      "VARIABLES\n",
      "x1 Continuous\n",
      "x2 Continuous\n",
      "x3 Continuous\n",
      "x4 Continuous\n",
      "x5 Continuous\n",
      "\n"
     ]
    }
   ],
   "source": [
    "print(prob)"
   ]
  },
  {
   "cell_type": "markdown",
   "metadata": {},
   "source": [
    "### Rozwiązanie problemu"
   ]
  },
  {
   "cell_type": "code",
   "execution_count": 22,
   "metadata": {},
   "outputs": [
    {
     "name": "stdout",
     "output_type": "stream",
     "text": [
      "prob.solve 1\n",
      "Status: Optimal\n"
     ]
    }
   ],
   "source": [
    "print(\"prob.solve\",prob.solve())\n",
    "# status of the solution\n",
    "print(f\"Status: {LpStatus[prob.status]}\")"
   ]
  },
  {
   "cell_type": "code",
   "execution_count": 23,
   "metadata": {},
   "outputs": [
    {
     "name": "stdout",
     "output_type": "stream",
     "text": [
      "x1 = 0\n",
      "x2 = 0\n",
      "x3 = 1/182\n",
      "x4 = 0\n",
      "x5 = 1/30\n"
     ]
    }
   ],
   "source": [
    "for v in prob.variables():\n",
    "    print(f\"{v.name} = {str(Fraction(v.varValue).limit_denominator())}\")\n"
   ]
  },
  {
   "cell_type": "code",
   "execution_count": 24,
   "metadata": {},
   "outputs": [],
   "source": [
    "x1 = 0\n",
    "x2 = 0\n",
    "x3 = 1/182\n",
    "x4 = 0\n",
    "x5 = 1/30"
   ]
  },
  {
   "cell_type": "markdown",
   "metadata": {},
   "source": [
    "##### <span style=\"font-size: 130%;color:#0000ff\"> FUNKCJA CELU\n",
    "\n",
    "<span style=\"font-size: 130%;color:#0000ff\">$ {45x_{1}} + 21x_{2}+ 128x_{3}+ 76x_{4} \\to max$\n",
    "\n",
    "przy warunku, że dla Lublina:\n",
    "\n",
    "<span style=\"font-size: 130%;color:black\">$30x_{5}=1$"
   ]
  },
  {
   "cell_type": "code",
   "execution_count": 25,
   "metadata": {},
   "outputs": [
    {
     "data": {
      "text/plain": [
       "0.7032967032967034"
      ]
     },
     "execution_count": 25,
     "metadata": {},
     "output_type": "execute_result"
    }
   ],
   "source": [
    "Warszawa = (45*x1+21*x2+128*x3+76*x4)/(30*x5)\n",
    "Warszawa"
   ]
  },
  {
   "cell_type": "markdown",
   "metadata": {},
   "source": [
    "Ocena Warszawy jest bardzo zła 0.00079"
   ]
  },
  {
   "cell_type": "markdown",
   "metadata": {},
   "source": [
    "Obliczam dla każdego oddziału banku oddzielnie programowanie liniowe\n",
    "\n",
    "<span style=\"font-size: 230%;color:#0000ff\"> Białystok"
   ]
  },
  {
   "cell_type": "code",
   "execution_count": 26,
   "metadata": {},
   "outputs": [
    {
     "name": "stdout",
     "output_type": "stream",
     "text": [
      "+---------------+-------------+-------------+------------+------------+--------+\n",
      "| Filia firmy s | Liczba tran | Liczba tran | Liczba tra | Liczba tra | Liczba |\n",
      "| przedającej p | sakcji w ob | sakcji w ob | nsakcji w  | nsakcji w  |  handl |\n",
      "|    rodukty    |  szarze A   |  szarze B   | obszarze C | obszarze D | owców  |\n",
      "+---------------+-------------+-------------+------------+------------+--------+\n",
      "|    Lublin     |     185     |     153     |    118     |     56     |   29   |\n",
      "+---------------+-------------+-------------+------------+------------+--------+\n",
      "|   Warszawa    |     45      |     21      |    128     |     76     |   30   |\n",
      "+---------------+-------------+-------------+------------+------------+--------+\n",
      "|  Częstochowa  |     180     |     55      |    110     |     45     |   21   |\n",
      "+---------------+-------------+-------------+------------+------------+--------+\n",
      "|   Białystok   |     134     |     102     |    108     |    156     |   19   |\n",
      "+---------------+-------------+-------------+------------+------------+--------+\n",
      "|     Łomża     |     123     |     112     |     91     |     36     |   15   |\n",
      "+---------------+-------------+-------------+------------+------------+--------+\n"
     ]
    }
   ],
   "source": [
    "from beautifultable import BeautifulTable\n",
    "\n",
    "table = BeautifulTable()\n",
    "table.column_headers = [\"Filia firmy sprzedającej produkty\",\"Liczba transakcji w obszarze A\" ,\"Liczba transakcji w obszarze B\",\"Liczba transakcji w obszarze C\",\"Liczba transakcji w obszarze D\", \"Liczba handlowców\" ]\n",
    "table.append_row([\"Lublin\",    185, 153, 118, 56, 29 ])\n",
    "table.append_row([\"Warszawa\",    45,   21, 128, 76, 30 ])\n",
    "table.append_row([\"Częstochowa\",    180,   55, 110, 45, 21 ])\n",
    "table.append_row([\"Białystok\",    134,   102, 108, 156, 19 ])\n",
    "table.append_row([\"Łomża\",    123,   112, 91, 36, 15 ])\n",
    "print(table)"
   ]
  },
  {
   "cell_type": "code",
   "execution_count": 27,
   "metadata": {},
   "outputs": [],
   "source": [
    "from pulp import *\n",
    "from fractions import Fraction\n",
    "\n",
    "# zdefiniowanie problemu- to jest taka platforma do wrzucania na nia wszystkiego\n",
    "\n",
    "prob = LpProblem(\"DEA_Białystok\",LpMaximize)"
   ]
  },
  {
   "cell_type": "code",
   "execution_count": 28,
   "metadata": {},
   "outputs": [],
   "source": [
    "# \"Continuous\"\n",
    "# \"Integer\"\n",
    "\n",
    "x1=LpVariable(\"x1\",lowBound=0,upBound=None, cat=\"Continuous\")\n",
    "x2=LpVariable(\"x2\",lowBound=0,upBound=None, cat=\"Continuous\")\n",
    "x3=LpVariable(\"x3\",lowBound=0,upBound=None, cat=\"Continuous\")\n",
    "x4=LpVariable(\"x4\",lowBound=0,upBound=None, cat=\"Continuous\")\n",
    "x5=LpVariable(\"x5\",lowBound=0,upBound=None, cat=\"Continuous\")"
   ]
  },
  {
   "cell_type": "markdown",
   "metadata": {},
   "source": [
    "##### $\n",
    "\\left\\{\n",
    "\\begin{align} \n",
    "{134x_{1}} + 102x_{2}+ 108x_{3}+ 156x_{4} &\\to max &(24)\\\\\n",
    "{19x_{5}}=1&& (25)\n",
    "\\end{align}\n",
    "\\right. \n",
    "$"
   ]
  },
  {
   "cell_type": "markdown",
   "metadata": {},
   "source": [
    "##### <span style=\"font-size: 130%;color:#0000ff\"> FUNKCJA CELU\n",
    "\n",
    "<span style=\"font-size: 130%;color:#0000ff\">$ {134x_{1}} + 102x_{2}+ 108x_{3}+ 156x_{4} \\to max$\n",
    "\n",
    "przy warunku, że dla Białegostoku:\n",
    "\n",
    "<span style=\"font-size: 130%;color:black\">$19x_{5}=1$"
   ]
  },
  {
   "cell_type": "code",
   "execution_count": 29,
   "metadata": {},
   "outputs": [],
   "source": [
    "# objective function\n",
    "prob += 134*x1 + 102*x2+108*x3+156*x4, \"Maksymalizacja\""
   ]
  },
  {
   "cell_type": "code",
   "execution_count": 30,
   "metadata": {},
   "outputs": [
    {
     "name": "stdout",
     "output_type": "stream",
     "text": [
      "DEA_Białystok:\n",
      "MAXIMIZE\n",
      "134*x1 + 102*x2 + 108*x3 + 156*x4 + 0\n",
      "VARIABLES\n",
      "x1 Continuous\n",
      "x2 Continuous\n",
      "x3 Continuous\n",
      "x4 Continuous\n",
      "\n"
     ]
    }
   ],
   "source": [
    "print(prob)"
   ]
  },
  {
   "cell_type": "code",
   "execution_count": 31,
   "metadata": {},
   "outputs": [
    {
     "name": "stdout",
     "output_type": "stream",
     "text": [
      "+---------------+-------------+-------------+------------+------------+--------+\n",
      "| Filia firmy s | Liczba tran | Liczba tran | Liczba tra | Liczba tra | Liczba |\n",
      "| przedającej p | sakcji w ob | sakcji w ob | nsakcji w  | nsakcji w  |  handl |\n",
      "|    rodukty    |  szarze A   |  szarze B   | obszarze C | obszarze D | owców  |\n",
      "+---------------+-------------+-------------+------------+------------+--------+\n",
      "|    Lublin     |     185     |     153     |    118     |     56     |   29   |\n",
      "+---------------+-------------+-------------+------------+------------+--------+\n",
      "|   Warszawa    |     45      |     21      |    128     |     76     |   30   |\n",
      "+---------------+-------------+-------------+------------+------------+--------+\n",
      "|  Częstochowa  |     180     |     55      |    110     |     45     |   21   |\n",
      "+---------------+-------------+-------------+------------+------------+--------+\n",
      "|   Białystok   |     134     |     102     |    108     |    156     |   19   |\n",
      "+---------------+-------------+-------------+------------+------------+--------+\n",
      "|     Łomża     |     123     |     112     |     91     |     36     |   15   |\n",
      "+---------------+-------------+-------------+------------+------------+--------+\n"
     ]
    }
   ],
   "source": [
    "from beautifultable import BeautifulTable\n",
    "\n",
    "table = BeautifulTable()\n",
    "table.column_headers = [\"Filia firmy sprzedającej produkty\",\"Liczba transakcji w obszarze A\" ,\"Liczba transakcji w obszarze B\",\"Liczba transakcji w obszarze C\",\"Liczba transakcji w obszarze D\", \"Liczba handlowców\" ]\n",
    "table.append_row([\"Lublin\",    185, 153, 118, 56, 29 ])\n",
    "table.append_row([\"Warszawa\",    45,   21, 128, 76, 30 ])\n",
    "table.append_row([\"Częstochowa\",    180,   55, 110, 45, 21 ])\n",
    "table.append_row([\"Białystok\",    134,   102, 108, 156, 19 ])\n",
    "table.append_row([\"Łomża\",    123,   112, 91, 36, 15 ])\n",
    "print(table)"
   ]
  },
  {
   "cell_type": "markdown",
   "metadata": {},
   "source": [
    "##### $\n",
    "\\left\\{\n",
    "\\begin{align} \n",
    "({185x_{1}} + 153x_{2}+118x_{3}+56x_{4})-29x_{5} & \\leqslant 0& (1)\\\\\n",
    "({45x_{1}} + 21x_{2}+128x_{3}+76x_{4})-30x_{5} & \\leqslant 0& (2)\\\\\n",
    "({180x_{1}} + 55x_{2}+110x_{3}+45x_{4})-21x_{5} & \\leqslant 0& (3)\\\\\n",
    "({134x_{1}} + 102x_{2}+108x_{3}+156x_{4})-19x_{5} & \\leqslant 0& (4)\\\\\n",
    "({123x_{1}} + 112x_{2}+91x_{3}+36x_{4})-15x_{5} & \\leqslant 0& (5)\\\\\n",
    "\\end{align}\n",
    "\\right. \n",
    "$\n",
    "\n",
    "Warunki dodatkowe: \n",
    "##### $\n",
    "\\left\\{\n",
    "\\begin{align} \n",
    "{x_{4}}-4{x_{1}} & \\geqslant 0& (6)\\\\\n",
    "{x_{2}}-0.5{x_{3}} & \\geqslant 0& (7)\\\\\n",
    "\\end{align}\n",
    "\\right. \n",
    "$\n",
    "\n",
    "\n",
    "Warunki znakowe:\n",
    "#### $\n",
    "\\left\\{\n",
    "\\begin{align} \n",
    "{x_{1}} & \\geqslant 0& (6)\\\\\n",
    "{x_{2}} & \\geqslant 0& (7)\\\\\n",
    "{x_{3}} & \\geqslant 0& (8)\\\\\n",
    "{x_{4}} & \\geqslant 0& (9)\\\\\n",
    "{19x_{5}} & = 1& (10)\\\\\n",
    "\\end{align}\n",
    "\\right. \n",
    "$"
   ]
  },
  {
   "cell_type": "code",
   "execution_count": 32,
   "metadata": {},
   "outputs": [],
   "source": [
    "# main constraints\n",
    "prob += (185*x1+153*x2+118*x3+56*x4)-29*x5 <= 0\n",
    "prob += (45*x1+21*x2+128*x3+76*x4)-30*x5 <= 0\n",
    "prob += (180*x1+55*x2+110*x3+45*x4)-21*x5 <= 0\n",
    "prob += (134*x1+102*x2+108*x3+156*x4)-19*x5 <= 0\n",
    "prob += (123*x1+112*x2+91*x3+36*x4)-15*x5 <= 0\n",
    "\n",
    "prob += x4-F*x1 >= 0\n",
    "prob += x2-G*x4 >= 0\n",
    "\n",
    "prob += 19*x5 == 1"
   ]
  },
  {
   "cell_type": "code",
   "execution_count": 33,
   "metadata": {},
   "outputs": [
    {
     "name": "stdout",
     "output_type": "stream",
     "text": [
      "DEA_Białystok:\n",
      "MAXIMIZE\n",
      "134*x1 + 102*x2 + 108*x3 + 156*x4 + 0\n",
      "SUBJECT TO\n",
      "_C1: 185 x1 + 153 x2 + 118 x3 + 56 x4 - 29 x5 <= 0\n",
      "\n",
      "_C2: 45 x1 + 21 x2 + 128 x3 + 76 x4 - 30 x5 <= 0\n",
      "\n",
      "_C3: 180 x1 + 55 x2 + 110 x3 + 45 x4 - 21 x5 <= 0\n",
      "\n",
      "_C4: 134 x1 + 102 x2 + 108 x3 + 156 x4 - 19 x5 <= 0\n",
      "\n",
      "_C5: 123 x1 + 112 x2 + 91 x3 + 36 x4 - 15 x5 <= 0\n",
      "\n",
      "_C6: - 4 x1 + x4 >= 0\n",
      "\n",
      "_C7: x2 - 0.5 x4 >= 0\n",
      "\n",
      "_C8: 19 x5 = 1\n",
      "\n",
      "VARIABLES\n",
      "x1 Continuous\n",
      "x2 Continuous\n",
      "x3 Continuous\n",
      "x4 Continuous\n",
      "x5 Continuous\n",
      "\n"
     ]
    }
   ],
   "source": [
    "print(prob)"
   ]
  },
  {
   "cell_type": "markdown",
   "metadata": {},
   "source": [
    "### Rozwiązanie problemu"
   ]
  },
  {
   "cell_type": "code",
   "execution_count": 34,
   "metadata": {},
   "outputs": [
    {
     "name": "stdout",
     "output_type": "stream",
     "text": [
      "prob.solve 1\n",
      "Status: Optimal\n"
     ]
    }
   ],
   "source": [
    "print(\"prob.solve\",prob.solve())\n",
    "# status of the solution\n",
    "print(f\"Status: {LpStatus[prob.status]}\")"
   ]
  },
  {
   "cell_type": "code",
   "execution_count": 35,
   "metadata": {},
   "outputs": [
    {
     "name": "stdout",
     "output_type": "stream",
     "text": [
      "x1 = 0\n",
      "x2 = 109/338238\n",
      "x3 = 59/7353\n",
      "x4 = 109/169119\n",
      "x5 = 1/19\n"
     ]
    }
   ],
   "source": [
    "for v in prob.variables():\n",
    "    print(f\"{v.name} = {str(Fraction(v.varValue).limit_denominator())}\")\n"
   ]
  },
  {
   "cell_type": "code",
   "execution_count": 36,
   "metadata": {},
   "outputs": [],
   "source": [
    "x1 = 0\n",
    "x2 = 109/338238\n",
    "x3 = 59/7353\n",
    "x4 = 109/169119\n",
    "x5 = 1/19"
   ]
  },
  {
   "cell_type": "markdown",
   "metadata": {},
   "source": [
    "##### <span style=\"font-size: 130%;color:#0000ff\"> FUNKCJA CELU\n",
    "\n",
    "<span style=\"font-size: 130%;color:#0000ff\">$ {134x_{1}} + 102x_{2}+ 108x_{3}+ 156x_{4} \\to max$\n",
    "\n",
    "przy warunku, że dla Białegostoku:\n",
    "\n",
    "<span style=\"font-size: 130%;color:black\">$19x_{5}=1$"
   ]
  },
  {
   "cell_type": "code",
   "execution_count": 37,
   "metadata": {},
   "outputs": [
    {
     "data": {
      "text/plain": [
       "0.9999999999999999"
      ]
     },
     "execution_count": 37,
     "metadata": {},
     "output_type": "execute_result"
    }
   ],
   "source": [
    "Białystok = (134*x1+102*x2+108*x3+156*x4)/(19*x5)\n",
    "Białystok"
   ]
  },
  {
   "cell_type": "markdown",
   "metadata": {},
   "source": [
    "Ocena Warszawy jest bardzo zła 0.00079"
   ]
  },
  {
   "cell_type": "code",
   "execution_count": null,
   "metadata": {},
   "outputs": [],
   "source": []
  },
  {
   "cell_type": "markdown",
   "metadata": {},
   "source": [
    "Obliczam dla każdego oddziału banku oddzielnie programowanie liniowe\n",
    "\n",
    "<span style=\"font-size: 230%;color:#0000ff\"> Częstochowa"
   ]
  },
  {
   "cell_type": "code",
   "execution_count": 38,
   "metadata": {},
   "outputs": [
    {
     "name": "stdout",
     "output_type": "stream",
     "text": [
      "+---------------+-------------+-------------+------------+------------+--------+\n",
      "| Filia firmy s | Liczba tran | Liczba tran | Liczba tra | Liczba tra | Liczba |\n",
      "| przedającej p | sakcji w ob | sakcji w ob | nsakcji w  | nsakcji w  |  handl |\n",
      "|    rodukty    |  szarze A   |  szarze B   | obszarze C | obszarze D | owców  |\n",
      "+---------------+-------------+-------------+------------+------------+--------+\n",
      "|    Lublin     |     185     |     153     |    118     |     56     |   29   |\n",
      "+---------------+-------------+-------------+------------+------------+--------+\n",
      "|   Warszawa    |     45      |     21      |    128     |     76     |   30   |\n",
      "+---------------+-------------+-------------+------------+------------+--------+\n",
      "|  Częstochowa  |     180     |     55      |    110     |     45     |   21   |\n",
      "+---------------+-------------+-------------+------------+------------+--------+\n",
      "|   Białystok   |     134     |     102     |    108     |    156     |   19   |\n",
      "+---------------+-------------+-------------+------------+------------+--------+\n",
      "|     Łomża     |     123     |     112     |     91     |     36     |   15   |\n",
      "+---------------+-------------+-------------+------------+------------+--------+\n"
     ]
    }
   ],
   "source": [
    "from beautifultable import BeautifulTable\n",
    "\n",
    "table = BeautifulTable()\n",
    "table.column_headers = [\"Filia firmy sprzedającej produkty\",\"Liczba transakcji w obszarze A\" ,\"Liczba transakcji w obszarze B\",\"Liczba transakcji w obszarze C\",\"Liczba transakcji w obszarze D\", \"Liczba handlowców\" ]\n",
    "table.append_row([\"Lublin\",    185, 153, 118, 56, 29 ])\n",
    "table.append_row([\"Warszawa\",    45,   21, 128, 76, 30 ])\n",
    "table.append_row([\"Częstochowa\",    180,   55, 110, 45, 21 ])\n",
    "table.append_row([\"Białystok\",    134,   102, 108, 156, 19 ])\n",
    "table.append_row([\"Łomża\",    123,   112, 91, 36, 15 ])\n",
    "print(table)"
   ]
  },
  {
   "cell_type": "code",
   "execution_count": 39,
   "metadata": {},
   "outputs": [],
   "source": [
    "from pulp import *\n",
    "from fractions import Fraction\n",
    "\n",
    "# zdefiniowanie problemu- to jest taka platforma do wrzucania na nia wszystkiego\n",
    "\n",
    "prob = LpProblem(\"DEA_Częstochowa\",LpMaximize)"
   ]
  },
  {
   "cell_type": "code",
   "execution_count": 40,
   "metadata": {},
   "outputs": [],
   "source": [
    "# \"Continuous\"\n",
    "# \"Integer\"\n",
    "\n",
    "x1=LpVariable(\"x1\",lowBound=0,upBound=None, cat=\"Continuous\")\n",
    "x2=LpVariable(\"x2\",lowBound=0,upBound=None, cat=\"Continuous\")\n",
    "x3=LpVariable(\"x3\",lowBound=0,upBound=None, cat=\"Continuous\")\n",
    "x4=LpVariable(\"x4\",lowBound=0,upBound=None, cat=\"Continuous\")\n",
    "x5=LpVariable(\"x5\",lowBound=0,upBound=None, cat=\"Continuous\")"
   ]
  },
  {
   "cell_type": "markdown",
   "metadata": {},
   "source": [
    "##### $\n",
    "\\left\\{\n",
    "\\begin{align} \n",
    "{180x_{1}} + 55x_{2}+ 110x_{3}+ 45x_{4} &\\to max &(22)\\\\\n",
    "{21x_{5}}=1&& (23)\n",
    "\\end{align}\n",
    "\\right. \n",
    "$"
   ]
  },
  {
   "cell_type": "markdown",
   "metadata": {},
   "source": [
    "##### <span style=\"font-size: 130%;color:#0000ff\"> FUNKCJA CELU\n",
    "\n",
    "<span style=\"font-size: 130%;color:#0000ff\">$ {180x_{1}} + 55x_{2}+ 110x_{3}+ 45x_{4} \\to max$\n",
    "\n",
    "przy warunku, że dla Częstochowy:\n",
    "\n",
    "<span style=\"font-size: 130%;color:black\">$21x_{5}=1$"
   ]
  },
  {
   "cell_type": "code",
   "execution_count": 41,
   "metadata": {},
   "outputs": [],
   "source": [
    "# objective function\n",
    "prob += 180*x1 + 55*x2+110*x3+45*x4, \"Maksymalizacja\""
   ]
  },
  {
   "cell_type": "code",
   "execution_count": 42,
   "metadata": {},
   "outputs": [
    {
     "name": "stdout",
     "output_type": "stream",
     "text": [
      "DEA_Częstochowa:\n",
      "MAXIMIZE\n",
      "180*x1 + 55*x2 + 110*x3 + 45*x4 + 0\n",
      "VARIABLES\n",
      "x1 Continuous\n",
      "x2 Continuous\n",
      "x3 Continuous\n",
      "x4 Continuous\n",
      "\n"
     ]
    }
   ],
   "source": [
    "print(prob)"
   ]
  },
  {
   "cell_type": "code",
   "execution_count": 43,
   "metadata": {},
   "outputs": [
    {
     "name": "stdout",
     "output_type": "stream",
     "text": [
      "+---------------+-------------+-------------+------------+------------+--------+\n",
      "| Filia firmy s | Liczba tran | Liczba tran | Liczba tra | Liczba tra | Liczba |\n",
      "| przedającej p | sakcji w ob | sakcji w ob | nsakcji w  | nsakcji w  |  handl |\n",
      "|    rodukty    |  szarze A   |  szarze B   | obszarze C | obszarze D | owców  |\n",
      "+---------------+-------------+-------------+------------+------------+--------+\n",
      "|    Lublin     |     185     |     153     |    118     |     56     |   29   |\n",
      "+---------------+-------------+-------------+------------+------------+--------+\n",
      "|   Warszawa    |     45      |     21      |    128     |     76     |   30   |\n",
      "+---------------+-------------+-------------+------------+------------+--------+\n",
      "|  Częstochowa  |     180     |     55      |    110     |     45     |   21   |\n",
      "+---------------+-------------+-------------+------------+------------+--------+\n",
      "|   Białystok   |     134     |     102     |    108     |    156     |   19   |\n",
      "+---------------+-------------+-------------+------------+------------+--------+\n",
      "|     Łomża     |     123     |     112     |     91     |     36     |   15   |\n",
      "+---------------+-------------+-------------+------------+------------+--------+\n"
     ]
    }
   ],
   "source": [
    "from beautifultable import BeautifulTable\n",
    "\n",
    "table = BeautifulTable()\n",
    "table.column_headers = [\"Filia firmy sprzedającej produkty\",\"Liczba transakcji w obszarze A\" ,\"Liczba transakcji w obszarze B\",\"Liczba transakcji w obszarze C\",\"Liczba transakcji w obszarze D\", \"Liczba handlowców\" ]\n",
    "table.append_row([\"Lublin\",    185, 153, 118, 56, 29 ])\n",
    "table.append_row([\"Warszawa\",    45,   21, 128, 76, 30 ])\n",
    "table.append_row([\"Częstochowa\",    180,   55, 110, 45, 21 ])\n",
    "table.append_row([\"Białystok\",    134,   102, 108, 156, 19 ])\n",
    "table.append_row([\"Łomża\",    123,   112, 91, 36, 15 ])\n",
    "print(table)"
   ]
  },
  {
   "cell_type": "markdown",
   "metadata": {},
   "source": [
    "##### $\n",
    "\\left\\{\n",
    "\\begin{align} \n",
    "({185x_{1}} + 153x_{2}+118x_{3}+56x_{4})-29x_{5} & \\leqslant 0& (1)\\\\\n",
    "({45x_{1}} + 21x_{2}+128x_{3}+76x_{4})-30x_{5} & \\leqslant 0& (2)\\\\\n",
    "({180x_{1}} + 55x_{2}+110x_{3}+45x_{4})-21x_{5} & \\leqslant 0& (3)\\\\\n",
    "({134x_{1}} + 102x_{2}+108x_{3}+156x_{4})-19x_{5} & \\leqslant 0& (4)\\\\\n",
    "({123x_{1}} + 112x_{2}+91x_{3}+36x_{4})-15x_{5} & \\leqslant 0& (5)\\\\\n",
    "\\end{align}\n",
    "\\right. \n",
    "$\n",
    "Warunki dodatkowe: \n",
    "##### $\n",
    "\\left\\{\n",
    "\\begin{align} \n",
    "{x_{4}}-4{x_{1}} & \\geqslant 0& (6)\\\\\n",
    "{x_{2}}-0.5{x_{3}} & \\geqslant 0& (7)\\\\\n",
    "\\end{align}\n",
    "\\right. \n",
    "$\n",
    "\n",
    "\n",
    "Warunki znakowe:\n",
    "#### $\n",
    "\\left\\{\n",
    "\\begin{align} \n",
    "{x_{1}} & \\geqslant 0& (6)\\\\\n",
    "{x_{2}} & \\geqslant 0& (7)\\\\\n",
    "{x_{3}} & \\geqslant 0& (8)\\\\\n",
    "{x_{4}} & \\geqslant 0& (9)\\\\\n",
    "{21x_{5}} & = 1& (10)\\\\\n",
    "\\end{align}\n",
    "\\right. \n",
    "$"
   ]
  },
  {
   "cell_type": "code",
   "execution_count": 44,
   "metadata": {},
   "outputs": [],
   "source": [
    "# main constraints\n",
    "prob += (185*x1+153*x2+118*x3+56*x4)-29*x5 <= 0\n",
    "prob += (45*x1+21*x2+128*x3+76*x4)-30*x5 <= 0\n",
    "prob += (180*x1+55*x2+110*x3+45*x4)-21*x5 <= 0\n",
    "prob += (134*x1+102*x2+108*x3+156*x4)-19*x5 <= 0\n",
    "prob += (123*x1+112*x2+91*x3+36*x4)-15*x5 <= 0\n",
    "\n",
    "prob += x4-F*x1 >= 0\n",
    "prob += x2-G*x4 >= 0\n",
    "\n",
    "prob += 21*x5 == 1"
   ]
  },
  {
   "cell_type": "code",
   "execution_count": 45,
   "metadata": {},
   "outputs": [
    {
     "name": "stdout",
     "output_type": "stream",
     "text": [
      "DEA_Częstochowa:\n",
      "MAXIMIZE\n",
      "180*x1 + 55*x2 + 110*x3 + 45*x4 + 0\n",
      "SUBJECT TO\n",
      "_C1: 185 x1 + 153 x2 + 118 x3 + 56 x4 - 29 x5 <= 0\n",
      "\n",
      "_C2: 45 x1 + 21 x2 + 128 x3 + 76 x4 - 30 x5 <= 0\n",
      "\n",
      "_C3: 180 x1 + 55 x2 + 110 x3 + 45 x4 - 21 x5 <= 0\n",
      "\n",
      "_C4: 134 x1 + 102 x2 + 108 x3 + 156 x4 - 19 x5 <= 0\n",
      "\n",
      "_C5: 123 x1 + 112 x2 + 91 x3 + 36 x4 - 15 x5 <= 0\n",
      "\n",
      "_C6: - 4 x1 + x4 >= 0\n",
      "\n",
      "_C7: x2 - 0.5 x4 >= 0\n",
      "\n",
      "_C8: 21 x5 = 1\n",
      "\n",
      "VARIABLES\n",
      "x1 Continuous\n",
      "x2 Continuous\n",
      "x3 Continuous\n",
      "x4 Continuous\n",
      "x5 Continuous\n",
      "\n"
     ]
    }
   ],
   "source": [
    "print(prob)"
   ]
  },
  {
   "cell_type": "markdown",
   "metadata": {},
   "source": [
    "### Rozwiązanie problemu"
   ]
  },
  {
   "cell_type": "code",
   "execution_count": 46,
   "metadata": {},
   "outputs": [
    {
     "name": "stdout",
     "output_type": "stream",
     "text": [
      "prob.solve 1\n",
      "Status: Optimal\n"
     ]
    }
   ],
   "source": [
    "print(\"prob.solve\",prob.solve())\n",
    "# status of the solution\n",
    "print(f\"Status: {LpStatus[prob.status]}\")"
   ]
  },
  {
   "cell_type": "code",
   "execution_count": 47,
   "metadata": {},
   "outputs": [
    {
     "name": "stdout",
     "output_type": "stream",
     "text": [
      "x1 = 0\n",
      "x2 = 0\n",
      "x3 = 5/637\n",
      "x4 = 0\n",
      "x5 = 1/21\n"
     ]
    }
   ],
   "source": [
    "for v in prob.variables():\n",
    "    print(f\"{v.name} = {str(Fraction(v.varValue).limit_denominator())}\")\n"
   ]
  },
  {
   "cell_type": "code",
   "execution_count": 48,
   "metadata": {},
   "outputs": [],
   "source": [
    "x1 = 0\n",
    "x2 = 0\n",
    "x3 = 5/637\n",
    "x4 = 0\n",
    "x5 = 1/21\n"
   ]
  },
  {
   "cell_type": "markdown",
   "metadata": {},
   "source": [
    "##### <span style=\"font-size: 130%;color:#0000ff\"> FUNKCJA CELU\n",
    "\n",
    "<span style=\"font-size: 130%;color:#0000ff\">$ {180x_{1}} + 55x_{2}+ 110x_{3}+ 45x_{4} \\to max$\n",
    "\n",
    "przy warunku, że dla Częstochowy:\n",
    "\n",
    "<span style=\"font-size: 130%;color:black\">$21x_{5}=1$"
   ]
  },
  {
   "cell_type": "code",
   "execution_count": 49,
   "metadata": {},
   "outputs": [
    {
     "data": {
      "text/plain": [
       "0.8634222919937204"
      ]
     },
     "execution_count": 49,
     "metadata": {},
     "output_type": "execute_result"
    }
   ],
   "source": [
    "Częstochowa = (180*x1+55*x2+110*x3+45*x4)/(21*x5)\n",
    "Częstochowa"
   ]
  },
  {
   "cell_type": "markdown",
   "metadata": {},
   "source": [
    "Ocena Częstochowy jest 0.864"
   ]
  },
  {
   "cell_type": "markdown",
   "metadata": {},
   "source": [
    "Obliczam dla każdego oddziału banku oddzielnie programowanie liniowe\n",
    "\n",
    "<span style=\"font-size: 230%;color:#0000ff\"> Łomża"
   ]
  },
  {
   "cell_type": "code",
   "execution_count": 50,
   "metadata": {},
   "outputs": [
    {
     "name": "stdout",
     "output_type": "stream",
     "text": [
      "+---------------+-------------+-------------+------------+------------+--------+\n",
      "| Filia firmy s | Liczba tran | Liczba tran | Liczba tra | Liczba tra | Liczba |\n",
      "| przedającej p | sakcji w ob | sakcji w ob | nsakcji w  | nsakcji w  |  handl |\n",
      "|    rodukty    |  szarze A   |  szarze B   | obszarze C | obszarze D | owców  |\n",
      "+---------------+-------------+-------------+------------+------------+--------+\n",
      "|    Lublin     |     185     |     153     |    118     |     56     |   29   |\n",
      "+---------------+-------------+-------------+------------+------------+--------+\n",
      "|   Warszawa    |     45      |     21      |    128     |     76     |   30   |\n",
      "+---------------+-------------+-------------+------------+------------+--------+\n",
      "|  Częstochowa  |     180     |     55      |    110     |     45     |   21   |\n",
      "+---------------+-------------+-------------+------------+------------+--------+\n",
      "|   Białystok   |     134     |     102     |    108     |    156     |   19   |\n",
      "+---------------+-------------+-------------+------------+------------+--------+\n",
      "|     Łomża     |     123     |     112     |     91     |     36     |   15   |\n",
      "+---------------+-------------+-------------+------------+------------+--------+\n"
     ]
    }
   ],
   "source": [
    "from beautifultable import BeautifulTable\n",
    "\n",
    "table = BeautifulTable()\n",
    "table.column_headers = [\"Filia firmy sprzedającej produkty\",\"Liczba transakcji w obszarze A\" ,\"Liczba transakcji w obszarze B\",\"Liczba transakcji w obszarze C\",\"Liczba transakcji w obszarze D\", \"Liczba handlowców\" ]\n",
    "table.append_row([\"Lublin\",    185, 153, 118, 56, 29 ])\n",
    "table.append_row([\"Warszawa\",    45,   21, 128, 76, 30 ])\n",
    "table.append_row([\"Częstochowa\",    180,   55, 110, 45, 21 ])\n",
    "table.append_row([\"Białystok\",    134,   102, 108, 156, 19 ])\n",
    "table.append_row([\"Łomża\",    123,   112, 91, 36, 15 ])\n",
    "print(table)"
   ]
  },
  {
   "cell_type": "code",
   "execution_count": 51,
   "metadata": {},
   "outputs": [],
   "source": [
    "from pulp import *\n",
    "from fractions import Fraction\n",
    "\n",
    "# zdefiniowanie problemu- to jest taka platforma do wrzucania na nia wszystkiego\n",
    "\n",
    "prob = LpProblem(\"DEA_Łomża\",LpMaximize)"
   ]
  },
  {
   "cell_type": "code",
   "execution_count": 52,
   "metadata": {},
   "outputs": [],
   "source": [
    "# \"Continuous\"\n",
    "# \"Integer\"\n",
    "\n",
    "x1=LpVariable(\"x1\",lowBound=0,upBound=None, cat=\"Continuous\")\n",
    "x2=LpVariable(\"x2\",lowBound=0,upBound=None, cat=\"Continuous\")\n",
    "x3=LpVariable(\"x3\",lowBound=0,upBound=None, cat=\"Continuous\")\n",
    "x4=LpVariable(\"x4\",lowBound=0,upBound=None, cat=\"Continuous\")\n",
    "x5=LpVariable(\"x5\",lowBound=0,upBound=None, cat=\"Continuous\")"
   ]
  },
  {
   "cell_type": "markdown",
   "metadata": {},
   "source": [
    "###### $\n",
    "\\left\\{\n",
    "\\begin{align} \n",
    "{123x_{1}} + 112x_{2}+ 91x_{3}+ 36x_{4} &\\to max &(26)\\\\\n",
    "{15x_{5}}=1&& (27)\n",
    "\\end{align}\n",
    "\\right. \n",
    "$"
   ]
  },
  {
   "cell_type": "markdown",
   "metadata": {},
   "source": [
    "##### <span style=\"font-size: 130%;color:#0000ff\"> FUNKCJA CELU\n",
    "\n",
    "<span style=\"font-size: 130%;color:#0000ff\">$ {123x_{1}} + 112x_{2}+ 91x_{3}+ 36x_{4} \\to max$\n",
    "\n",
    "przy warunku, że dla Łomży:\n",
    "\n",
    "<span style=\"font-size: 130%;color:black\">$15x_{5}=1$"
   ]
  },
  {
   "cell_type": "code",
   "execution_count": 53,
   "metadata": {},
   "outputs": [],
   "source": [
    "# objective function\n",
    "prob += 123*x1 + 112*x2+91*x3+36*x4, \"Maksymalizacja\""
   ]
  },
  {
   "cell_type": "code",
   "execution_count": 54,
   "metadata": {},
   "outputs": [
    {
     "name": "stdout",
     "output_type": "stream",
     "text": [
      "DEA_Łomża:\n",
      "MAXIMIZE\n",
      "123*x1 + 112*x2 + 91*x3 + 36*x4 + 0\n",
      "VARIABLES\n",
      "x1 Continuous\n",
      "x2 Continuous\n",
      "x3 Continuous\n",
      "x4 Continuous\n",
      "\n"
     ]
    }
   ],
   "source": [
    "print(prob)"
   ]
  },
  {
   "cell_type": "code",
   "execution_count": 55,
   "metadata": {},
   "outputs": [
    {
     "name": "stdout",
     "output_type": "stream",
     "text": [
      "+---------------+-------------+-------------+------------+------------+--------+\n",
      "| Filia firmy s | Liczba tran | Liczba tran | Liczba tra | Liczba tra | Liczba |\n",
      "| przedającej p | sakcji w ob | sakcji w ob | nsakcji w  | nsakcji w  |  handl |\n",
      "|    rodukty    |  szarze A   |  szarze B   | obszarze C | obszarze D | owców  |\n",
      "+---------------+-------------+-------------+------------+------------+--------+\n",
      "|    Lublin     |     185     |     153     |    118     |     56     |   29   |\n",
      "+---------------+-------------+-------------+------------+------------+--------+\n",
      "|   Warszawa    |     45      |     21      |    128     |     76     |   30   |\n",
      "+---------------+-------------+-------------+------------+------------+--------+\n",
      "|  Częstochowa  |     180     |     55      |    110     |     45     |   21   |\n",
      "+---------------+-------------+-------------+------------+------------+--------+\n",
      "|   Białystok   |     134     |     102     |    108     |    156     |   19   |\n",
      "+---------------+-------------+-------------+------------+------------+--------+\n",
      "|     Łomża     |     123     |     112     |     91     |     36     |   15   |\n",
      "+---------------+-------------+-------------+------------+------------+--------+\n"
     ]
    }
   ],
   "source": [
    "from beautifultable import BeautifulTable\n",
    "\n",
    "table = BeautifulTable()\n",
    "table.column_headers = [\"Filia firmy sprzedającej produkty\",\"Liczba transakcji w obszarze A\" ,\"Liczba transakcji w obszarze B\",\"Liczba transakcji w obszarze C\",\"Liczba transakcji w obszarze D\", \"Liczba handlowców\" ]\n",
    "table.append_row([\"Lublin\",    185, 153, 118, 56, 29 ])\n",
    "table.append_row([\"Warszawa\",    45,   21, 128, 76, 30 ])\n",
    "table.append_row([\"Częstochowa\",    180,   55, 110, 45, 21 ])\n",
    "table.append_row([\"Białystok\",    134,   102, 108, 156, 19 ])\n",
    "table.append_row([\"Łomża\",    123,   112, 91, 36, 15 ])\n",
    "print(table)"
   ]
  },
  {
   "cell_type": "markdown",
   "metadata": {},
   "source": [
    "##### $\n",
    "\\left\\{\n",
    "\\begin{align} \n",
    "({185x_{1}} + 153x_{2}+118x_{3}+56x_{4})-29x_{5} & \\leqslant 0& (1)\\\\\n",
    "({45x_{1}} + 21x_{2}+128x_{3}+76x_{4})-30x_{5} & \\leqslant 0& (2)\\\\\n",
    "({180x_{1}} + 55x_{2}+110x_{3}+45x_{4})-21x_{5} & \\leqslant 0& (3)\\\\\n",
    "({134x_{1}} + 102x_{2}+108x_{3}+156x_{4})-19x_{5} & \\leqslant 0& (4)\\\\\n",
    "({123x_{1}} + 112x_{2}+91x_{3}+36x_{4})-15x_{5} & \\leqslant 0& (5)\\\\\n",
    "\\end{align}\n",
    "\\right. \n",
    "$\n",
    "Warunki dodatkowe: \n",
    "##### $\n",
    "\\left\\{\n",
    "\\begin{align} \n",
    "{x_{4}}-4{x_{1}} & \\geqslant 0& (6)\\\\\n",
    "{x_{2}}-0.5{x_{3}} & \\geqslant 0& (7)\\\\\n",
    "\\end{align}\n",
    "\\right. \n",
    "$\n",
    "\n",
    "\n",
    "\n",
    "Warunki znakowe:\n",
    "#### $\n",
    "\\left\\{\n",
    "\\begin{align} \n",
    "{x_{1}} & \\geqslant 0& (6)\\\\\n",
    "{x_{2}} & \\geqslant 0& (7)\\\\\n",
    "{x_{3}} & \\geqslant 0& (8)\\\\\n",
    "{x_{4}} & \\geqslant 0& (9)\\\\\n",
    "{15x_{5}} & = 1& (10)\\\\\n",
    "\\end{align}\n",
    "\\right. \n",
    "$"
   ]
  },
  {
   "cell_type": "code",
   "execution_count": 56,
   "metadata": {},
   "outputs": [],
   "source": [
    "# main constraints\n",
    "prob += (185*x1+153*x2+118*x3+56*x4)-29*x5 <= 0\n",
    "prob += (45*x1+21*x2+128*x3+76*x4)-30*x5 <= 0\n",
    "prob += (180*x1+55*x2+110*x3+45*x4)-21*x5 <= 0\n",
    "prob += (134*x1+102*x2+108*x3+156*x4)-19*x5 <= 0\n",
    "prob += (123*x1+112*x2+91*x3+36*x4)-15*x5 <= 0\n",
    "\n",
    "prob += x4-F*x1 >= 0\n",
    "prob += x2-G*x4 >= 0\n",
    "\n",
    "prob += 19*x5 == 1"
   ]
  },
  {
   "cell_type": "code",
   "execution_count": 57,
   "metadata": {},
   "outputs": [
    {
     "name": "stdout",
     "output_type": "stream",
     "text": [
      "DEA_Łomża:\n",
      "MAXIMIZE\n",
      "123*x1 + 112*x2 + 91*x3 + 36*x4 + 0\n",
      "SUBJECT TO\n",
      "_C1: 185 x1 + 153 x2 + 118 x3 + 56 x4 - 29 x5 <= 0\n",
      "\n",
      "_C2: 45 x1 + 21 x2 + 128 x3 + 76 x4 - 30 x5 <= 0\n",
      "\n",
      "_C3: 180 x1 + 55 x2 + 110 x3 + 45 x4 - 21 x5 <= 0\n",
      "\n",
      "_C4: 134 x1 + 102 x2 + 108 x3 + 156 x4 - 19 x5 <= 0\n",
      "\n",
      "_C5: 123 x1 + 112 x2 + 91 x3 + 36 x4 - 15 x5 <= 0\n",
      "\n",
      "_C6: - 4 x1 + x4 >= 0\n",
      "\n",
      "_C7: x2 - 0.5 x4 >= 0\n",
      "\n",
      "_C8: 19 x5 = 1\n",
      "\n",
      "VARIABLES\n",
      "x1 Continuous\n",
      "x2 Continuous\n",
      "x3 Continuous\n",
      "x4 Continuous\n",
      "x5 Continuous\n",
      "\n"
     ]
    }
   ],
   "source": [
    "print(prob)"
   ]
  },
  {
   "cell_type": "markdown",
   "metadata": {},
   "source": [
    "### Rozwiązanie problemu"
   ]
  },
  {
   "cell_type": "code",
   "execution_count": 58,
   "metadata": {},
   "outputs": [
    {
     "name": "stdout",
     "output_type": "stream",
     "text": [
      "prob.solve 1\n",
      "Status: Optimal\n"
     ]
    }
   ],
   "source": [
    "print(\"prob.solve\",prob.solve())\n",
    "# status of the solution\n",
    "print(f\"Status: {LpStatus[prob.status]}\")"
   ]
  },
  {
   "cell_type": "code",
   "execution_count": 59,
   "metadata": {},
   "outputs": [
    {
     "name": "stdout",
     "output_type": "stream",
     "text": [
      "x1 = 0\n",
      "x2 = 15/2128\n",
      "x3 = 0\n",
      "x4 = 0\n",
      "x5 = 1/19\n"
     ]
    }
   ],
   "source": [
    "for v in prob.variables():\n",
    "    print(f\"{v.name} = {str(Fraction(v.varValue).limit_denominator())}\")\n"
   ]
  },
  {
   "cell_type": "code",
   "execution_count": 60,
   "metadata": {},
   "outputs": [],
   "source": [
    "x1 = 0\n",
    "x2 = 15/2128\n",
    "x3 = 0\n",
    "x4 = 0\n",
    "x5 = 1/19\n"
   ]
  },
  {
   "cell_type": "markdown",
   "metadata": {},
   "source": [
    "##### <span style=\"font-size: 130%;color:#0000ff\"> FUNKCJA CELU\n",
    "\n",
    "<span style=\"font-size: 130%;color:#0000ff\">$ {134x_{1}} + 102x_{2}+ 108x_{3}+ 156x_{4} \\to max$\n",
    "\n",
    "przy warunku, że dla Białegostoku:\n",
    "\n",
    "<span style=\"font-size: 130%;color:black\">$19x_{5}=1$"
   ]
  },
  {
   "cell_type": "code",
   "execution_count": 61,
   "metadata": {},
   "outputs": [
    {
     "data": {
      "text/plain": [
       "0.718984962406015"
      ]
     },
     "execution_count": 61,
     "metadata": {},
     "output_type": "execute_result"
    }
   ],
   "source": [
    "Łomża = (134*x1+102*x2+108*x3+156*x4)/(19*x5)\n",
    "Łomża"
   ]
  },
  {
   "cell_type": "markdown",
   "metadata": {},
   "source": [
    "Ocena Łomży jest 0.7189"
   ]
  },
  {
   "cell_type": "code",
   "execution_count": 62,
   "metadata": {},
   "outputs": [
    {
     "name": "stdout",
     "output_type": "stream",
     "text": [
      "Lublin:      0.722\n",
      "Warszawa:    0.703\n",
      "Częstochowa: 0.863\n",
      "Białystok:   1.0\n",
      "Łomża:       0.719\n"
     ]
    }
   ],
   "source": [
    "\n",
    "print(\"Lublin:     \", round(Lublin, 3))\n",
    "print(\"Warszawa:   \", round(Warszawa, 3))\n",
    "print(\"Częstochowa:\", round(Częstochowa, 3))\n",
    "print(\"Białystok:  \", round(Białystok, 3))\n",
    "print(\"Łomża:      \", round(Łomża, 3))"
   ]
  },
  {
   "cell_type": "markdown",
   "metadata": {},
   "source": []
  }
 ],
 "metadata": {
  "kernelspec": {
   "display_name": "Python 3",
   "language": "python",
   "name": "python3"
  },
  "language_info": {
   "codemirror_mode": {
    "name": "ipython",
    "version": 3
   },
   "file_extension": ".py",
   "mimetype": "text/x-python",
   "name": "python",
   "nbconvert_exporter": "python",
   "pygments_lexer": "ipython3",
   "version": "3.7.4"
  }
 },
 "nbformat": 4,
 "nbformat_minor": 2
}
