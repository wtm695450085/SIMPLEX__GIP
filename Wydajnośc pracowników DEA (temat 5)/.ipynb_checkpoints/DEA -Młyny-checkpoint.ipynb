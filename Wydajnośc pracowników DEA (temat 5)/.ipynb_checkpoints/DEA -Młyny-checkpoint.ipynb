{
 "cells": [
  {
   "cell_type": "code",
   "execution_count": null,
   "metadata": {},
   "outputs": [],
   "source": []
  },
  {
   "cell_type": "markdown",
   "metadata": {},
   "source": [
    "<span style=\"font-size: 150%;color:white;background:black\"> MATERIAŁ na artykół do gazety \n",
    "    \n",
    "<span style=\"font-size: 250%;color:white;background:red\"> Przegląd Zbożowo Młynarski \n",
    "\n",
    "<span style=\"font-size: 160%;color:#0000ff\"> Analiza porównawcza zużycia prądu w młynach ZA POMOCĄ Programowania liniowego DEA-CCR."
   ]
  },
  {
   "cell_type": "markdown",
   "metadata": {},
   "source": [
    "<span style=\"font-size: 150%;color:white;background:#1155cc\"> Data envelopment analysis (DEA)\n",
    "    \n",
    "Envelopment analiza danych (DEA), czasami nazywany analiza granica została po raz pierwszy przedstawiona przez Charnes, Cooper i Rodos w roku 1978. Jest to technika pomiaru wydajności, które, jak się przekonamy, może być stosowany do oceny względnej skuteczności w procesie decyzyjnym jednostek ( DMU ) w organizacjach. W tym przypadku DMU jest odrębną jednostką w organizacji, która ma elastyczność w odniesieniu do niektórych decyzji, które podejmuje, ale niekoniecznie pełną swobodę w odniesieniu do tych decyzji.\n",
    "\n",
    "Przykładami takich jednostek, do których zastosowano DEA, są: banki, posterunki policji, szpitale, urzędy skarbowe, więzienia, bazy obronne (wojsko, marynarka wojenna, siły powietrzne), szkoły i wydziały uniwersyteckie. Należy zauważyć, że jedną z zalet DEA jest to, że można go zastosować do organizacji non-profit.\n",
    "\n",
    "Od czasu pierwszego zaproponowania tej techniki wykonano wiele prac teoretycznych i empirycznych. Opublikowano wiele badań dotyczących stosowania DEA w rzeczywistych sytuacjach. Oczywiście niepublikowanych opracowań jest znacznie więcej, np. Wykonanych wewnętrznie przez firmy lub konsultantów zewnętrznych.\n",
    "\n",
    "Na początku zilustrujemy DEA na małym przykładzie. Więcej o DEA można znaleźć tutaj . Zwróć uwagę, że wiele z tego, co zobaczysz poniżej, to graficzne (obrazowe) podejście do DEA. Jest to bardzo przydatne, jeśli próbujesz wyjaśnić DEA osobom mniej wykwalifikowanym technicznie (takim jak wielu, których możesz spotkać w świecie zarządzania). Istnieje jednak matematyczne podejście do DEA, które można jednak przyjąć - zostanie to zilustrowane poniżej."
   ]
  },
  {
   "cell_type": "markdown",
   "metadata": {},
   "source": [
    "http://people.brunel.ac.uk/~mastjjb/jeb/or/dea.html\n",
    "\n",
    "Zadanie polega na tym, że analizuje się wydajność personelu pracującego w banku, wymyślono różne wskaźniki m.in. wskażnik ilości operacji bankowych na pracownika itp. \n",
    "\n",
    "<span style=\"font-size: 130%;color:#0000ff\"> Jednym z problemów związanych z porównaniem za pomocą współczynników jest to, że różne współczynniki mogą dać inny obraz i trudno jest połączyć cały zestaw współczynników w jedną ocenę liczbową.\n",
    "    \n",
    "Na przykład rozważmy Dorking i Reigate - Dorking jest (2,75 / 2,09) = 1,32 razy skuteczniejszy niż Reigate w transakcjach osobistych, ale tylko (1,25 / 1,09) = 1,15 razy skuteczniejszy w transakcjach biznesowych. Jak połączyć te liczby w jedą ocenę?\n",
    "Problem zacznie się gdy takich wskaźników dodamy jeszcze 5 czy 8. Jak wtedy ocenić? Przez średnią? \n",
    "\n",
    "<span style=\"font-size: 130%;color:#0000ff\"> Graficznie w artykule mu wyszedł taki ranking:\n",
    "\n",
    " 1. Croydon 100%\n",
    " 2. Dorking 43%\n",
    " 3. Redhill 100%\n",
    " 4. Reigate 36%"
   ]
  },
  {
   "cell_type": "code",
   "execution_count": 1,
   "metadata": {},
   "outputs": [
    {
     "name": "stdout",
     "output_type": "stream",
     "text": [
      "+-----------+------------+----------+----------+----------+----------+---------+\n",
      "|   Młyny   | Mąka Rozcz | Mąka 550 | Mąka 120 | Mąka Kru | Mąka 350 | Liczba  |\n",
      "|           |    atka    |          |          |   pska   |          |         |\n",
      "+-----------+------------+----------+----------+----------+----------+---------+\n",
      "| Młyn Wręg |    885     |   953    |   1582   |   1460   |   314    |  1100   |\n",
      "|     a     |            |          |          |          |          |         |\n",
      "+-----------+------------+----------+----------+----------+----------+---------+\n",
      "| Młyn Żele |    1935    |   622    |    x     |    x     |   2347   |   850   |\n",
      "|   chów    |            |          |          |          |          |         |\n",
      "+-----------+------------+----------+----------+----------+----------+---------+\n",
      "| Młyn Pawi |    841     |   715    |   980    |   135    |   291    |  1180   |\n",
      "|     n     |            |          |          |          |          |         |\n",
      "+-----------+------------+----------+----------+----------+----------+---------+\n",
      "| Młyn Kork |     x      |   955    |   2080   |   2126   |    x     |   780   |\n",
      "|     i     |            |          |          |          |          |         |\n",
      "+-----------+------------+----------+----------+----------+----------+---------+\n"
     ]
    }
   ],
   "source": [
    "from beautifultable import BeautifulTable\n",
    "\n",
    "table = BeautifulTable() \n",
    "table.column_headers = [\"Młyny\",\"Mąka Rozczatka\" ,\"Mąka 550\",\"Mąka 120\",\"Mąka Krupska\",\"Mąka 350\", \"Liczba \" ]\n",
    "table.append_row([\"Młyn Wręga\",    885, 953, 1582, 1460, 314,1100])\n",
    "table.append_row([\"Młyn Żelechów\",    1935,   622, \"x\", \"x\", 2347,850])\n",
    "table.append_row([\"Młyn Pawin\",    841,   715, 980, 135, 291,1180])\n",
    "table.append_row([\"Młyn Korki\",    \"x\",   955, 2080, 2126, \"x\",780])\n",
    "print(table)"
   ]
  },
  {
   "cell_type": "markdown",
   "metadata": {},
   "source": [
    "\n",
    "Zarząd uznał że:\n",
    "\n",
    "obszar Wrocławia (x4) jest cztery razy lepiej punktowany niż obaszar Łodzi (x1)\n"
   ]
  },
  {
   "cell_type": "markdown",
   "metadata": {},
   "source": [
    "<span style=\"font-size: 230%;color:green\">\n",
    "\n",
    "$ {x_{4}}-4{x_{1}} >= 0$\n"
   ]
  },
  {
   "cell_type": "code",
   "execution_count": 2,
   "metadata": {},
   "outputs": [],
   "source": [
    "F = 2\n",
    "G = 3\n",
    "N = 4"
   ]
  },
  {
   "cell_type": "markdown",
   "metadata": {},
   "source": [
    "Obliczam dla każdego oddziału banku oddzielnie programowanie liniowe\n",
    "\n",
    "<span style=\"font-size: 230%;color:#0000ff\"> Młyn Wręga"
   ]
  },
  {
   "cell_type": "code",
   "execution_count": 3,
   "metadata": {},
   "outputs": [],
   "source": [
    "from pulp import *\n",
    "from fractions import Fraction\n",
    "\n",
    "# zdefiniowanie problemu- to jest taka platforma do wrzucania na nia wszystkiego\n",
    "\n",
    "prob = LpProblem(\"DEA_Młyn_Wręga\",LpMaximize)"
   ]
  },
  {
   "cell_type": "code",
   "execution_count": 4,
   "metadata": {},
   "outputs": [],
   "source": [
    "# \"Continuous\"\n",
    "# \"Integer\"\n",
    "\n",
    "x1=LpVariable(\"x1\",lowBound=0,upBound=None, cat=\"Continuous\")\n",
    "x2=LpVariable(\"x2\",lowBound=0,upBound=None, cat=\"Continuous\")\n",
    "x3=LpVariable(\"x3\",lowBound=0,upBound=None, cat=\"Continuous\")\n",
    "x4=LpVariable(\"x4\",lowBound=0,upBound=None, cat=\"Continuous\")\n",
    "x5=LpVariable(\"x5\",lowBound=0,upBound=None, cat=\"Continuous\")\n",
    "x6=LpVariable(\"x6\",lowBound=0,upBound=None, cat=\"Continuous\")"
   ]
  },
  {
   "cell_type": "code",
   "execution_count": 5,
   "metadata": {},
   "outputs": [
    {
     "name": "stdout",
     "output_type": "stream",
     "text": [
      "+-----------+------------+----------+----------+----------+----------+---------+\n",
      "|   Młyny   | Mąka Rozcz | Mąka 550 | Mąka 120 | Mąka Kru | Mąka 350 | Liczba  |\n",
      "|           |    atka    |          |          |   pska   |          |         |\n",
      "+-----------+------------+----------+----------+----------+----------+---------+\n",
      "| Młyn Wręg |    885     |   953    |   1582   |   1460   |   314    |  1100   |\n",
      "|     a     |            |          |          |          |          |         |\n",
      "+-----------+------------+----------+----------+----------+----------+---------+\n",
      "| Młyn Żele |    1935    |   622    |    x     |    x     |   2347   |   850   |\n",
      "|   chów    |            |          |          |          |          |         |\n",
      "+-----------+------------+----------+----------+----------+----------+---------+\n",
      "| Młyn Pawi |    841     |   715    |   980    |   135    |   291    |  1180   |\n",
      "|     n     |            |          |          |          |          |         |\n",
      "+-----------+------------+----------+----------+----------+----------+---------+\n",
      "| Młyn Kork |     x      |   955    |   2080   |   2126   |    x     |   780   |\n",
      "|     i     |            |          |          |          |          |         |\n",
      "+-----------+------------+----------+----------+----------+----------+---------+\n"
     ]
    }
   ],
   "source": [
    "from beautifultable import BeautifulTable\n",
    "\n",
    "table = BeautifulTable() \n",
    "table.column_headers = [\"Młyny\",\"Mąka Rozczatka\" ,\"Mąka 550\",\"Mąka 120\",\"Mąka Krupska\",\"Mąka 350\", \"Liczba \" ]\n",
    "table.append_row([\"Młyn Wręga\",    885, 953, 1582, 1460, 314,1100])\n",
    "table.append_row([\"Młyn Żelechów\",    1935,   622, \"x\", \"x\", 2347,850])\n",
    "table.append_row([\"Młyn Pawin\",    841,   715, 980, 135, 291,1180])\n",
    "table.append_row([\"Młyn Korki\",    \"x\",   955, 2080, 2126, \"x\",780])\n",
    "print(table)"
   ]
  },
  {
   "cell_type": "markdown",
   "metadata": {},
   "source": [
    "<span style=\"font-size: 130%;color:black\"> FUNKCJA CELU\n",
    "\n",
    "<span style=\"font-size: 130%;color:black\">$ {885x_{1}} + 953x_{2}+ 1582x_{3}+ 1460x_{4}+ 314x_{5} \\to max$\n",
    "\n",
    "przy warunku, że dla Wręgi:\n",
    "\n",
    "<span style=\"font-size: 130%;color:black\">$1100x_{6}=1$"
   ]
  },
  {
   "cell_type": "code",
   "execution_count": 6,
   "metadata": {},
   "outputs": [],
   "source": [
    "# objective function\n",
    "prob += 885*x1 + 953*x2+1582*x3+1460*x4+314*x5, \"Maksymalizacja\""
   ]
  },
  {
   "cell_type": "code",
   "execution_count": 7,
   "metadata": {},
   "outputs": [
    {
     "name": "stdout",
     "output_type": "stream",
     "text": [
      "DEA_Młyn_Wręga:\n",
      "MAXIMIZE\n",
      "885*x1 + 953*x2 + 1582*x3 + 1460*x4 + 314*x5 + 0\n",
      "VARIABLES\n",
      "x1 Continuous\n",
      "x2 Continuous\n",
      "x3 Continuous\n",
      "x4 Continuous\n",
      "x5 Continuous\n",
      "\n"
     ]
    }
   ],
   "source": [
    "print(prob)"
   ]
  },
  {
   "cell_type": "code",
   "execution_count": 8,
   "metadata": {},
   "outputs": [
    {
     "name": "stdout",
     "output_type": "stream",
     "text": [
      "+-----------+------------+----------+----------+----------+----------+---------+\n",
      "|   Młyny   | Mąka Rozcz | Mąka 550 | Mąka 120 | Mąka Kru | Mąka 350 | Liczba  |\n",
      "|           |    atka    |          |          |   pska   |          |         |\n",
      "+-----------+------------+----------+----------+----------+----------+---------+\n",
      "| Młyn Wręg |    885     |   953    |   1582   |   1460   |   314    |  1100   |\n",
      "|     a     |            |          |          |          |          |         |\n",
      "+-----------+------------+----------+----------+----------+----------+---------+\n",
      "| Młyn Żele |    1935    |   622    |    x     |    x     |   2347   |   850   |\n",
      "|   chów    |            |          |          |          |          |         |\n",
      "+-----------+------------+----------+----------+----------+----------+---------+\n",
      "| Młyn Pawi |    841     |   715    |   980    |   135    |   291    |  1180   |\n",
      "|     n     |            |          |          |          |          |         |\n",
      "+-----------+------------+----------+----------+----------+----------+---------+\n",
      "| Młyn Kork |     x      |   955    |   2080   |   2126   |    x     |   780   |\n",
      "|     i     |            |          |          |          |          |         |\n",
      "+-----------+------------+----------+----------+----------+----------+---------+\n"
     ]
    }
   ],
   "source": [
    "from beautifultable import BeautifulTable\n",
    "\n",
    "table = BeautifulTable() \n",
    "table.column_headers = [\"Młyny\",\"Mąka Rozczatka\" ,\"Mąka 550\",\"Mąka 120\",\"Mąka Krupska\",\"Mąka 350\", \"Liczba \" ]\n",
    "table.append_row([\"Młyn Wręga\",    885, 953, 1582, 1460, 314,1100])\n",
    "table.append_row([\"Młyn Żelechów\",    1935,   622, \"x\", \"x\", 2347,850])\n",
    "table.append_row([\"Młyn Pawin\",    841,   715, 980, 135, 291,1180])\n",
    "table.append_row([\"Młyn Korki\",    \"x\",   955, 2080, 2126, \"x\",780])\n",
    "print(table)"
   ]
  },
  {
   "cell_type": "code",
   "execution_count": 9,
   "metadata": {},
   "outputs": [
    {
     "data": {
      "text/plain": [
       "4.721818181818182"
      ]
     },
     "execution_count": 9,
     "metadata": {},
     "output_type": "execute_result"
    }
   ],
   "source": [
    " (885+953+1582+1460+314)/1100"
   ]
  },
  {
   "cell_type": "code",
   "execution_count": 10,
   "metadata": {},
   "outputs": [
    {
     "data": {
      "text/plain": [
       "5.7694117647058825"
      ]
     },
     "execution_count": 10,
     "metadata": {},
     "output_type": "execute_result"
    }
   ],
   "source": [
    "(1935+622+ 2347)/850"
   ]
  },
  {
   "cell_type": "code",
   "execution_count": 11,
   "metadata": {},
   "outputs": [
    {
     "data": {
      "text/plain": [
       "2.510169491525424"
      ]
     },
     "execution_count": 11,
     "metadata": {},
     "output_type": "execute_result"
    }
   ],
   "source": [
    "(841+715+980+135+291)/1180"
   ]
  },
  {
   "cell_type": "code",
   "execution_count": 12,
   "metadata": {},
   "outputs": [
    {
     "data": {
      "text/plain": [
       "6.616666666666666"
      ]
     },
     "execution_count": 12,
     "metadata": {},
     "output_type": "execute_result"
    }
   ],
   "source": [
    "( 955+2080+2126)/780"
   ]
  },
  {
   "cell_type": "markdown",
   "metadata": {},
   "source": [
    "##### $\n",
    "\\left\\{\n",
    "\\begin{align} \n",
    "y_{A} = \\frac{885x_{1} + 953x_{2}+ 1582x_{3}+1460x_{4}+314x_{5}}{1100x_{6}}&&(1)\\\\\n",
    "y_{B} = \\frac{1935x_{1} + 622x_{2}+2347x_{5}}{850x_{6}} & & (2)\\\\\n",
    "y_{C} = \\frac{841x_{1} + 715x_{2}+980x_{3}+135x_{4}+291x_{5}}{1180x_{6}} & & (3)\\\\\n",
    "y_{D} = \\frac{955x_{2} + 2080x_{3}+2126x_{4}}{780x_{6}} & & (3)\\\\\n",
    "\\end{align}\n",
    "\\right. \n",
    "$\n"
   ]
  },
  {
   "cell_type": "markdown",
   "metadata": {},
   "source": [
    "##### $\n",
    "\\left\\{\n",
    "\\begin{align} \n",
    "(885x_{1}  + 953x_{2}+ 1582x_{3}+1460x_{4}+314x_{5})-1100x_{6} & \\leqslant 0& (6)\\\\\n",
    "(1935x_{1} + 622x_{2}+ 2347x_{5})-850x_{6} & \\leqslant 0& (7)\\\\\n",
    "(841x_{1} + 715x_{2}+980x_{3}+135x_{4}+291x_{5})-1180x_{6} & \\leqslant 0& (8)\\\\\n",
    "(955x_{2}+2080x_{3}+2126x_{4})-780x_{6} & \\leqslant 0& (8)\\\\\n",
    "\\end{align}\n",
    "\\right. \n",
    "$\n",
    "\n",
    "Warunki znakowe:\n",
    "#### $\n",
    "\\left\\{\n",
    "\\begin{align} \n",
    "{x_{1}} & \\geqslant 0& (11)\\\\\n",
    "{x_{2}} & \\geqslant 0& (12)\\\\\n",
    "{x_{3}} & \\geqslant 0& (13)\\\\\n",
    "{x_{4}} & \\geqslant 0& (14)\\\\\n",
    "{x_{5}} & \\geqslant 0& (15)\\\\\n",
    "{x_{6}} & \\geqslant 0& (15)\\\\\n",
    "\\end{align}\n",
    "\\right. \n",
    "$\n",
    "\n",
    "#### $\n",
    "\\left\\{\n",
    "\\begin{align} \n",
    "{1100x_{6}} & = 1& (12)\\\\\n",
    "\\end{align}\n",
    "\\right. \n",
    "$"
   ]
  },
  {
   "attachments": {
    "obraz.png": {
     "image/png": "[encoded data removed]"
    }
   },
   "cell_type": "markdown",
   "metadata": {},
   "source": [
    "![obraz.png](attachment:obraz.png)"
   ]
  },
  {
   "cell_type": "code",
   "execution_count": 13,
   "metadata": {},
   "outputs": [],
   "source": [
    "# main constraints\n",
    "prob += (885*x1+953*x2+1582*x3+1460*x4+314*x5)-1100*x6 <= 0\n",
    "prob += (1935*x1+622*x2+2347*x5)-850*x6 <= 0\n",
    "prob += (841*x1+715*x2+980*x3+135*x4+291*x5)-1180*x6 <= 0\n",
    "prob += (955*x2+2080*x3+2126*x4)-780*x6 <= 0\n",
    "\n",
    "prob += x2-(F*x1) >= 0\n",
    "prob += x2-(F*x4) >= 0\n",
    "prob += x2-(N*x3) >= 0\n",
    "prob += x2-(G*x5) >= 0\n",
    "\n",
    "prob += 1100*x6 == 1"
   ]
  },
  {
   "cell_type": "code",
   "execution_count": 14,
   "metadata": {},
   "outputs": [
    {
     "name": "stdout",
     "output_type": "stream",
     "text": [
      "DEA_Młyn_Wręga:\n",
      "MAXIMIZE\n",
      "885*x1 + 953*x2 + 1582*x3 + 1460*x4 + 314*x5 + 0\n",
      "SUBJECT TO\n",
      "_C1: 885 x1 + 953 x2 + 1582 x3 + 1460 x4 + 314 x5 - 1100 x6 <= 0\n",
      "\n",
      "_C2: 1935 x1 + 622 x2 + 2347 x5 - 850 x6 <= 0\n",
      "\n",
      "_C3: 841 x1 + 715 x2 + 980 x3 + 135 x4 + 291 x5 - 1180 x6 <= 0\n",
      "\n",
      "_C4: 955 x2 + 2080 x3 + 2126 x4 - 780 x6 <= 0\n",
      "\n",
      "_C5: - 2 x1 + x2 >= 0\n",
      "\n",
      "_C6: x2 - 2 x4 >= 0\n",
      "\n",
      "_C7: x2 - 4 x3 >= 0\n",
      "\n",
      "_C8: x2 - 3 x5 >= 0\n",
      "\n",
      "_C9: 1100 x6 = 1\n",
      "\n",
      "VARIABLES\n",
      "x1 Continuous\n",
      "x2 Continuous\n",
      "x3 Continuous\n",
      "x4 Continuous\n",
      "x5 Continuous\n",
      "x6 Continuous\n",
      "\n"
     ]
    }
   ],
   "source": [
    "print(prob)"
   ]
  },
  {
   "cell_type": "markdown",
   "metadata": {},
   "source": [
    "### Rozwiązanie problemu"
   ]
  },
  {
   "cell_type": "code",
   "execution_count": 15,
   "metadata": {},
   "outputs": [
    {
     "name": "stdout",
     "output_type": "stream",
     "text": [
      "prob.solve 1\n",
      "Status: Optimal\n"
     ]
    }
   ],
   "source": [
    "print(\"prob.solve\",prob.solve())\n",
    "# status of the solution\n",
    "print(f\"Status: {LpStatus[prob.status]}\")"
   ]
  },
  {
   "cell_type": "code",
   "execution_count": 16,
   "metadata": {},
   "outputs": [
    {
     "name": "stdout",
     "output_type": "stream",
     "text": [
      "x1 = 1/4114\n",
      "x2 = 1/2057\n",
      "x3 = 79/671180\n",
      "x4 = 0\n",
      "x5 = 0\n",
      "x6 = 1/1100\n"
     ]
    }
   ],
   "source": [
    "for v in prob.variables():\n",
    "    print(f\"{v.name} = {str(Fraction(v.varValue).limit_denominator())}\")\n"
   ]
  },
  {
   "cell_type": "code",
   "execution_count": 17,
   "metadata": {},
   "outputs": [],
   "source": [
    "x1 = 1/4114\n",
    "x2 = 1/2057\n",
    "x3 = 79/671180\n",
    "x4 = 0\n",
    "x5 = 0\n",
    "x6 = 1/1100"
   ]
  },
  {
   "cell_type": "markdown",
   "metadata": {},
   "source": [
    "<span style=\"font-size: 130%;color:black\"> FUNKCJA CELU\n",
    "\n",
    "<span style=\"font-size: 130%;color:black\">$ {885x_{1}} + 953x_{2}+ 1582x_{3}+ 1460x_{4}+ 314x_{5} \\to max$\n",
    "\n",
    "przy warunku, że dla Wręgi:\n",
    "\n",
    "<span style=\"font-size: 130%;color:black\">$1100x_{6}=1$"
   ]
  },
  {
   "cell_type": "code",
   "execution_count": 18,
   "metadata": {
    "scrolled": true
   },
   "outputs": [
    {
     "data": {
      "text/plain": [
       "0.8646215505085022"
      ]
     },
     "execution_count": 18,
     "metadata": {},
     "output_type": "execute_result"
    }
   ],
   "source": [
    "Wręga = (885*x1+953*x2+1582*x3+1460*x4+314*x5)/(1100*x6)\n",
    "Wręga"
   ]
  },
  {
   "cell_type": "markdown",
   "metadata": {},
   "source": [
    "Obliczam dla każdego oddziału banku oddzielnie programowanie liniowe\n",
    "\n",
    "<span style=\"font-size: 230%;color:#0000ff\"> Młyn Żelechów"
   ]
  },
  {
   "cell_type": "code",
   "execution_count": 19,
   "metadata": {},
   "outputs": [],
   "source": [
    "from pulp import *\n",
    "from fractions import Fraction\n",
    "\n",
    "# zdefiniowanie problemu- to jest taka platforma do wrzucania na nia wszystkiego\n",
    "\n",
    "prob = LpProblem(\"DEA_Młyn_Żelechów\",LpMaximize)"
   ]
  },
  {
   "cell_type": "code",
   "execution_count": 20,
   "metadata": {},
   "outputs": [],
   "source": [
    "# \"Continuous\"\n",
    "# \"Integer\"\n",
    "\n",
    "x1=LpVariable(\"x1\",lowBound=0,upBound=None, cat=\"Continuous\")\n",
    "x2=LpVariable(\"x2\",lowBound=0,upBound=None, cat=\"Continuous\")\n",
    "x3=LpVariable(\"x3\",lowBound=0,upBound=None, cat=\"Continuous\")\n",
    "x4=LpVariable(\"x4\",lowBound=0,upBound=None, cat=\"Continuous\")\n",
    "x5=LpVariable(\"x5\",lowBound=0,upBound=None, cat=\"Continuous\")\n",
    "x6=LpVariable(\"x6\",lowBound=0,upBound=None, cat=\"Continuous\")"
   ]
  },
  {
   "cell_type": "code",
   "execution_count": 21,
   "metadata": {},
   "outputs": [
    {
     "name": "stdout",
     "output_type": "stream",
     "text": [
      "+-----------+------------+----------+----------+----------+----------+---------+\n",
      "|   Młyny   | Mąka Rozcz | Mąka 550 | Mąka 120 | Mąka Kru | Mąka 350 | Liczba  |\n",
      "|           |    atka    |          |          |   pska   |          |         |\n",
      "+-----------+------------+----------+----------+----------+----------+---------+\n",
      "| Młyn Wręg |    885     |   953    |   1582   |   1460   |   314    |  1100   |\n",
      "|     a     |            |          |          |          |          |         |\n",
      "+-----------+------------+----------+----------+----------+----------+---------+\n",
      "| Młyn Żele |    1935    |   622    |    x     |    x     |   2347   |   850   |\n",
      "|   chów    |            |          |          |          |          |         |\n",
      "+-----------+------------+----------+----------+----------+----------+---------+\n",
      "| Młyn Pawi |    841     |   715    |   980    |   135    |   291    |  1180   |\n",
      "|     n     |            |          |          |          |          |         |\n",
      "+-----------+------------+----------+----------+----------+----------+---------+\n",
      "| Młyn Kork |     x      |   955    |   2080   |   2126   |    x     |   780   |\n",
      "|     i     |            |          |          |          |          |         |\n",
      "+-----------+------------+----------+----------+----------+----------+---------+\n"
     ]
    }
   ],
   "source": [
    "from beautifultable import BeautifulTable\n",
    "\n",
    "table = BeautifulTable() \n",
    "table.column_headers = [\"Młyny\",\"Mąka Rozczatka\" ,\"Mąka 550\",\"Mąka 120\",\"Mąka Krupska\",\"Mąka 350\", \"Liczba \" ]\n",
    "table.append_row([\"Młyn Wręga\",    885, 953, 1582, 1460, 314,1100])\n",
    "table.append_row([\"Młyn Żelechów\",    1935,   622, \"x\", \"x\", 2347,850])\n",
    "table.append_row([\"Młyn Pawin\",    841,   715, 980, 135, 291,1180])\n",
    "table.append_row([\"Młyn Korki\",    \"x\",   955, 2080, 2126, \"x\",780])\n",
    "print(table)"
   ]
  },
  {
   "cell_type": "markdown",
   "metadata": {},
   "source": [
    "<span style=\"font-size: 130%;color:black\"> FUNKCJA CELU\n",
    "\n",
    "<span style=\"font-size: 130%;color:black\">$ {1935x_{1}} + 622x_{2}+ 2347x_{5} \\to max$ \n",
    "    \n",
    "    przy warunku, że dla Żelechów:\n",
    "\n",
    "<span style=\"font-size: 130%;color:black\">$850x_{6}=1$"
   ]
  },
  {
   "cell_type": "code",
   "execution_count": 22,
   "metadata": {},
   "outputs": [],
   "source": [
    "# objective function\n",
    "prob += 1935*x1 + 622*x2 + 2347*x5, \"Maksymalizacja\""
   ]
  },
  {
   "cell_type": "code",
   "execution_count": 23,
   "metadata": {},
   "outputs": [
    {
     "name": "stdout",
     "output_type": "stream",
     "text": [
      "DEA_Młyn_Żelechów:\n",
      "MAXIMIZE\n",
      "1935*x1 + 622*x2 + 2347*x5 + 0\n",
      "VARIABLES\n",
      "x1 Continuous\n",
      "x2 Continuous\n",
      "x5 Continuous\n",
      "\n"
     ]
    }
   ],
   "source": [
    "print(prob)"
   ]
  },
  {
   "cell_type": "code",
   "execution_count": 24,
   "metadata": {},
   "outputs": [
    {
     "name": "stdout",
     "output_type": "stream",
     "text": [
      "+-----------+------------+----------+----------+----------+----------+---------+\n",
      "|   Młyny   | Mąka Rozcz | Mąka 550 | Mąka 120 | Mąka Kru | Mąka 350 | Liczba  |\n",
      "|           |    atka    |          |          |   pska   |          |         |\n",
      "+-----------+------------+----------+----------+----------+----------+---------+\n",
      "| Młyn Wręg |    885     |   953    |   1582   |   1460   |   314    |  1100   |\n",
      "|     a     |            |          |          |          |          |         |\n",
      "+-----------+------------+----------+----------+----------+----------+---------+\n",
      "| Młyn Żele |    1935    |   622    |    x     |    x     |   2347   |   850   |\n",
      "|   chów    |            |          |          |          |          |         |\n",
      "+-----------+------------+----------+----------+----------+----------+---------+\n",
      "| Młyn Pawi |    841     |   715    |   980    |   135    |   291    |  1180   |\n",
      "|     n     |            |          |          |          |          |         |\n",
      "+-----------+------------+----------+----------+----------+----------+---------+\n",
      "| Młyn Kork |     x      |   955    |   2080   |   2126   |    x     |   780   |\n",
      "|     i     |            |          |          |          |          |         |\n",
      "+-----------+------------+----------+----------+----------+----------+---------+\n"
     ]
    }
   ],
   "source": [
    "from beautifultable import BeautifulTable\n",
    "\n",
    "table = BeautifulTable() \n",
    "table.column_headers = [\"Młyny\",\"Mąka Rozczatka\" ,\"Mąka 550\",\"Mąka 120\",\"Mąka Krupska\",\"Mąka 350\", \"Liczba \" ]\n",
    "table.append_row([\"Młyn Wręga\",    885, 953, 1582, 1460, 314,1100])\n",
    "table.append_row([\"Młyn Żelechów\",    1935,   622, \"x\", \"x\", 2347,850])\n",
    "table.append_row([\"Młyn Pawin\",    841,   715, 980, 135, 291,1180])\n",
    "table.append_row([\"Młyn Korki\",    \"x\",   955, 2080, 2126, \"x\",780])\n",
    "print(table)"
   ]
  },
  {
   "cell_type": "markdown",
   "metadata": {},
   "source": [
    "##### $\n",
    "\\left\\{\n",
    "\\begin{align} \n",
    "y_{A} = \\frac{885x_{1} + 953x_{2}+ 1582x_{3}+1460x_{4}+314x_{5}}{1100x_{6}}&&(1)\\\\\n",
    "y_{B} = \\frac{1935x_{1} + 622x_{2}+2347x_{5}}{850x_{6}} & & (2)\\\\\n",
    "y_{C} = \\frac{841x_{1} + 715x_{2}+980x_{3}+135x_{4}+291x_{5}}{1180x_{6}} & & (3)\\\\\n",
    "y_{D} = \\frac{955x_{2} + 2080x_{3}+2126x_{4}}{780x_{6}} & & (3)\\\\\n",
    "\\end{align}\n",
    "\\right. \n",
    "$\n"
   ]
  },
  {
   "cell_type": "markdown",
   "metadata": {},
   "source": [
    "##### $\n",
    "\\left\\{\n",
    "\\begin{align} \n",
    "(885x_{1}  + 953x_{2}+ 1582x_{3}+1460x_{4}+314x_{5})-1100x_{6} & \\leqslant 0& (6)\\\\\n",
    "(1935x_{1} + 622x_{2}+ 2347x_{5})-850x_{6} & \\leqslant 0& (7)\\\\\n",
    "(841x_{1} + 715x_{2}+980x_{3}+135x_{4}+291x_{5})-1180x_{6} & \\leqslant 0& (8)\\\\\n",
    "(955x_{2}+2080x_{3}+2126x_{4})-780x_{6} & \\leqslant 0& (8)\\\\\n",
    "\\end{align}\n",
    "\\right. \n",
    "$\n",
    "\n",
    "Warunki znakowe:\n",
    "#### $\n",
    "\\left\\{\n",
    "\\begin{align} \n",
    "{x_{1}} & \\geqslant 0& (11)\\\\\n",
    "{x_{2}} & \\geqslant 0& (12)\\\\\n",
    "{x_{3}} & \\geqslant 0& (13)\\\\\n",
    "{x_{4}} & \\geqslant 0& (14)\\\\\n",
    "{x_{5}} & \\geqslant 0& (15)\\\\\n",
    "{x_{6}} & \\geqslant 0& (15)\\\\\n",
    "\\end{align}\n",
    "\\right. \n",
    "$\n",
    "\n",
    "#### $\n",
    "\\left\\{\n",
    "\\begin{align} \n",
    "{850x_{6}} & = 1& (12)\\\\\n",
    "\\end{align}\n",
    "\\right. \n",
    "$"
   ]
  },
  {
   "attachments": {
    "obraz.png": {
     "image/png": "[encoded data removed]"
    }
   },
   "cell_type": "markdown",
   "metadata": {},
   "source": [
    "![obraz.png](attachment:obraz.png)"
   ]
  },
  {
   "cell_type": "code",
   "execution_count": 25,
   "metadata": {},
   "outputs": [],
   "source": [
    "# main constraints\n",
    "prob += (885*x1+953*x2+1582*x3+1460*x4+314*x5)-1100*x6 <= 0\n",
    "prob += (1935*x1+622*x2+2347*x5)-850*x6 <= 0\n",
    "prob += (841*x1+715*x2+980*x3+135*x4+291*x5)-1180*x6 <= 0\n",
    "prob += (955*x2+2080*x3+2126*x4)-780*x6 <= 0\n",
    "\n",
    "prob += x2-(F*x1) >= 0\n",
    "prob += x2-(F*x4) >= 0\n",
    "prob += x2-(N*x3) >= 0\n",
    "prob += x2-(G*x5) >= 0\n",
    "\n",
    "\n",
    "prob += 850*x6 == 1"
   ]
  },
  {
   "cell_type": "code",
   "execution_count": 26,
   "metadata": {},
   "outputs": [
    {
     "name": "stdout",
     "output_type": "stream",
     "text": [
      "DEA_Młyn_Żelechów:\n",
      "MAXIMIZE\n",
      "1935*x1 + 622*x2 + 2347*x5 + 0\n",
      "SUBJECT TO\n",
      "_C1: 885 x1 + 953 x2 + 1582 x3 + 1460 x4 + 314 x5 - 1100 x6 <= 0\n",
      "\n",
      "_C2: 1935 x1 + 622 x2 + 2347 x5 - 850 x6 <= 0\n",
      "\n",
      "_C3: 841 x1 + 715 x2 + 980 x3 + 135 x4 + 291 x5 - 1180 x6 <= 0\n",
      "\n",
      "_C4: 955 x2 + 2080 x3 + 2126 x4 - 780 x6 <= 0\n",
      "\n",
      "_C5: - 2 x1 + x2 >= 0\n",
      "\n",
      "_C6: x2 - 2 x4 >= 0\n",
      "\n",
      "_C7: x2 - 4 x3 >= 0\n",
      "\n",
      "_C8: x2 - 3 x5 >= 0\n",
      "\n",
      "_C9: 850 x6 = 1\n",
      "\n",
      "VARIABLES\n",
      "x1 Continuous\n",
      "x2 Continuous\n",
      "x3 Continuous\n",
      "x4 Continuous\n",
      "x5 Continuous\n",
      "x6 Continuous\n",
      "\n"
     ]
    }
   ],
   "source": [
    "print(prob)"
   ]
  },
  {
   "cell_type": "markdown",
   "metadata": {},
   "source": [
    "### Rozwiązanie problemu"
   ]
  },
  {
   "cell_type": "code",
   "execution_count": 27,
   "metadata": {},
   "outputs": [
    {
     "name": "stdout",
     "output_type": "stream",
     "text": [
      "prob.solve 1\n",
      "Status: Optimal\n"
     ]
    }
   ],
   "source": [
    "print(\"prob.solve\",prob.solve())\n",
    "# status of the solution\n",
    "print(f\"Status: {LpStatus[prob.status]}\")"
   ]
  },
  {
   "cell_type": "code",
   "execution_count": 28,
   "metadata": {},
   "outputs": [
    {
     "name": "stdout",
     "output_type": "stream",
     "text": [
      "x1 = 196/942663\n",
      "x2 = 78/81175\n",
      "x3 = 0\n",
      "x4 = 0\n",
      "x5 = 0\n",
      "x6 = 1/850\n"
     ]
    }
   ],
   "source": [
    "for v in prob.variables():\n",
    "    print(f\"{v.name} = {str(Fraction(v.varValue).limit_denominator())}\")\n"
   ]
  },
  {
   "cell_type": "code",
   "execution_count": 29,
   "metadata": {},
   "outputs": [],
   "source": [
    "x1 = 196/942663\n",
    "x2 = 78/81175\n",
    "x3 = 0\n",
    "x4 = 0\n",
    "x5 = 0\n",
    "x6 = 1/850"
   ]
  },
  {
   "cell_type": "markdown",
   "metadata": {},
   "source": [
    "<span style=\"font-size: 130%;color:black\"> FUNKCJA CELU\n",
    "\n",
    "<span style=\"font-size: 130%;color:black\">$ {1935x_{1}} + 622x_{2}+ 2347x_{5} \\to max$ \n",
    "    \n",
    "    przy warunku, że dla Żelechów:\n",
    "\n",
    "<span style=\"font-size: 130%;color:black\">$850x_{6}=1$"
   ]
  },
  {
   "cell_type": "code",
   "execution_count": 30,
   "metadata": {},
   "outputs": [
    {
     "data": {
      "text/plain": [
       "0.9999999945504922"
      ]
     },
     "execution_count": 30,
     "metadata": {},
     "output_type": "execute_result"
    }
   ],
   "source": [
    "Żelechów = (1935*x1+622*x2+2347*x5)/(850*x6)\n",
    "Żelechów"
   ]
  },
  {
   "cell_type": "markdown",
   "metadata": {},
   "source": [
    "Obliczam dla każdego oddziału banku oddzielnie programowanie liniowe\n",
    "\n",
    "<span style=\"font-size: 230%;color:#0000ff\"> Młyn Pawin"
   ]
  },
  {
   "cell_type": "code",
   "execution_count": 31,
   "metadata": {},
   "outputs": [],
   "source": [
    "from pulp import *\n",
    "from fractions import Fraction\n",
    "\n",
    "# zdefiniowanie problemu- to jest taka platforma do wrzucania na nia wszystkiego\n",
    "\n",
    "prob = LpProblem(\"DEA_Młyn_Pawin\",LpMaximize)"
   ]
  },
  {
   "cell_type": "code",
   "execution_count": 32,
   "metadata": {},
   "outputs": [],
   "source": [
    "# \"Continuous\"\n",
    "# \"Integer\"\n",
    "\n",
    "x1=LpVariable(\"x1\",lowBound=0,upBound=None, cat=\"Continuous\")\n",
    "x2=LpVariable(\"x2\",lowBound=0,upBound=None, cat=\"Continuous\")\n",
    "x3=LpVariable(\"x3\",lowBound=0,upBound=None, cat=\"Continuous\")\n",
    "x4=LpVariable(\"x4\",lowBound=0,upBound=None, cat=\"Continuous\")\n",
    "x5=LpVariable(\"x5\",lowBound=0,upBound=None, cat=\"Continuous\")\n",
    "x6=LpVariable(\"x6\",lowBound=0,upBound=None, cat=\"Continuous\")"
   ]
  },
  {
   "cell_type": "code",
   "execution_count": 33,
   "metadata": {},
   "outputs": [
    {
     "name": "stdout",
     "output_type": "stream",
     "text": [
      "+-----------+------------+----------+----------+----------+----------+---------+\n",
      "|   Młyny   | Mąka Rozcz | Mąka 550 | Mąka 120 | Mąka Kru | Mąka 350 | Liczba  |\n",
      "|           |    atka    |          |          |   pska   |          |         |\n",
      "+-----------+------------+----------+----------+----------+----------+---------+\n",
      "| Młyn Wręg |    885     |   953    |   1582   |   1460   |   314    |  1100   |\n",
      "|     a     |            |          |          |          |          |         |\n",
      "+-----------+------------+----------+----------+----------+----------+---------+\n",
      "| Młyn Żele |    1935    |   622    |    x     |    x     |   2347   |   850   |\n",
      "|   chów    |            |          |          |          |          |         |\n",
      "+-----------+------------+----------+----------+----------+----------+---------+\n",
      "| Młyn Pawi |    841     |   715    |   980    |   135    |   291    |  1180   |\n",
      "|     n     |            |          |          |          |          |         |\n",
      "+-----------+------------+----------+----------+----------+----------+---------+\n",
      "| Młyn Kork |     x      |   955    |   2080   |   2126   |    x     |   780   |\n",
      "|     i     |            |          |          |          |          |         |\n",
      "+-----------+------------+----------+----------+----------+----------+---------+\n"
     ]
    }
   ],
   "source": [
    "from beautifultable import BeautifulTable\n",
    "\n",
    "table = BeautifulTable() \n",
    "table.column_headers = [\"Młyny\",\"Mąka Rozczatka\" ,\"Mąka 550\",\"Mąka 120\",\"Mąka Krupska\",\"Mąka 350\", \"Liczba \" ]\n",
    "table.append_row([\"Młyn Wręga\",    885, 953, 1582, 1460, 314,1100])\n",
    "table.append_row([\"Młyn Żelechów\",    1935,   622, \"x\", \"x\", 2347,850])\n",
    "table.append_row([\"Młyn Pawin\",    841,   715, 980, 135, 291,1180])\n",
    "table.append_row([\"Młyn Korki\",    \"x\",   955, 2080, 2126, \"x\",780])\n",
    "print(table)"
   ]
  },
  {
   "cell_type": "markdown",
   "metadata": {},
   "source": [
    "<span style=\"font-size: 130%;color:black\"> FUNKCJA CELU\n",
    "\n",
    "<span style=\"font-size: 130%;color:black\">$ {841x_{1}} + 715x_{2}+ 980x_{3}+ 135x_{4}+ 291x_{5} \\to max$\n",
    "\n",
    "przy warunku, że dla Pawin:\n",
    "\n",
    "<span style=\"font-size: 130%;color:black\">$1180x_{6}=1$"
   ]
  },
  {
   "cell_type": "code",
   "execution_count": 34,
   "metadata": {},
   "outputs": [],
   "source": [
    "# objective function\n",
    "prob += 841*x1 + 715*x2+980*x3+135*x4+291*x5, \"Maksymalizacja\""
   ]
  },
  {
   "cell_type": "code",
   "execution_count": 35,
   "metadata": {},
   "outputs": [
    {
     "name": "stdout",
     "output_type": "stream",
     "text": [
      "DEA_Młyn_Pawin:\n",
      "MAXIMIZE\n",
      "841*x1 + 715*x2 + 980*x3 + 135*x4 + 291*x5 + 0\n",
      "VARIABLES\n",
      "x1 Continuous\n",
      "x2 Continuous\n",
      "x3 Continuous\n",
      "x4 Continuous\n",
      "x5 Continuous\n",
      "\n"
     ]
    }
   ],
   "source": [
    "print(prob)"
   ]
  },
  {
   "cell_type": "code",
   "execution_count": 36,
   "metadata": {},
   "outputs": [
    {
     "name": "stdout",
     "output_type": "stream",
     "text": [
      "+-----------+------------+----------+----------+----------+----------+---------+\n",
      "|   Młyny   | Mąka Rozcz | Mąka 550 | Mąka 120 | Mąka Kru | Mąka 350 | Liczba  |\n",
      "|           |    atka    |          |          |   pska   |          |         |\n",
      "+-----------+------------+----------+----------+----------+----------+---------+\n",
      "| Młyn Wręg |    885     |   953    |   1582   |   1460   |   314    |  1100   |\n",
      "|     a     |            |          |          |          |          |         |\n",
      "+-----------+------------+----------+----------+----------+----------+---------+\n",
      "| Młyn Żele |    1935    |   622    |    x     |    x     |   2347   |   850   |\n",
      "|   chów    |            |          |          |          |          |         |\n",
      "+-----------+------------+----------+----------+----------+----------+---------+\n",
      "| Młyn Pawi |    841     |   715    |   980    |   135    |   291    |  1180   |\n",
      "|     n     |            |          |          |          |          |         |\n",
      "+-----------+------------+----------+----------+----------+----------+---------+\n",
      "| Młyn Kork |     x      |   955    |   2080   |   2126   |    x     |   780   |\n",
      "|     i     |            |          |          |          |          |         |\n",
      "+-----------+------------+----------+----------+----------+----------+---------+\n"
     ]
    }
   ],
   "source": [
    "from beautifultable import BeautifulTable\n",
    "\n",
    "table = BeautifulTable() \n",
    "table.column_headers = [\"Młyny\",\"Mąka Rozczatka\" ,\"Mąka 550\",\"Mąka 120\",\"Mąka Krupska\",\"Mąka 350\", \"Liczba \" ]\n",
    "table.append_row([\"Młyn Wręga\",    885, 953, 1582, 1460, 314,1100])\n",
    "table.append_row([\"Młyn Żelechów\",    1935,   622, \"x\", \"x\", 2347,850])\n",
    "table.append_row([\"Młyn Pawin\",    841,   715, 980, 135, 291,1180])\n",
    "table.append_row([\"Młyn Korki\",    \"x\",   955, 2080, 2126, \"x\",780])\n",
    "print(table)"
   ]
  },
  {
   "cell_type": "markdown",
   "metadata": {},
   "source": [
    "##### $\n",
    "\\left\\{\n",
    "\\begin{align} \n",
    "y_{A} = \\frac{885x_{1} + 953x_{2}+ 1582x_{3}+1460x_{4}+314x_{5}}{1100x_{6}}&&(1)\\\\\n",
    "y_{B} = \\frac{1935x_{1} + 622x_{2}+2347x_{5}}{850x_{6}} & & (2)\\\\\n",
    "y_{C} = \\frac{841x_{1} + 715x_{2}+980x_{3}+135x_{4}+291x_{5}}{1180x_{6}} & & (3)\\\\\n",
    "y_{D} = \\frac{955x_{2} + 2080x_{3}+2126x_{4}}{780x_{6}} & & (3)\\\\\n",
    "\\end{align}\n",
    "\\right. \n",
    "$\n"
   ]
  },
  {
   "cell_type": "markdown",
   "metadata": {},
   "source": [
    "##### $\n",
    "\\left\\{\n",
    "\\begin{align} \n",
    "(885x_{1}  + 953x_{2}+ 1582x_{3}+1460x_{4}+314x_{5})-1100x_{6} & \\leqslant 0& (6)\\\\\n",
    "(1935x_{1} + 622x_{2}+ 2347x_{5})-850x_{6} & \\leqslant 0& (7)\\\\\n",
    "(841x_{1} + 715x_{2}+980x_{3}+135x_{4}+291x_{5})-1180x_{6} & \\leqslant 0& (8)\\\\\n",
    "(955x_{2}+2080x_{3}+2126x_{4})-780x_{6} & \\leqslant 0& (8)\\\\\n",
    "\\end{align}\n",
    "\\right. \n",
    "$\n",
    "\n",
    "Warunki znakowe:\n",
    "#### $\n",
    "\\left\\{\n",
    "\\begin{align} \n",
    "{x_{1}} & \\geqslant 0& (11)\\\\\n",
    "{x_{2}} & \\geqslant 0& (12)\\\\\n",
    "{x_{3}} & \\geqslant 0& (13)\\\\\n",
    "{x_{4}} & \\geqslant 0& (14)\\\\\n",
    "{x_{5}} & \\geqslant 0& (15)\\\\\n",
    "{x_{6}} & \\geqslant 0& (15)\\\\\n",
    "\\end{align}\n",
    "\\right. \n",
    "$\n",
    "\n",
    "#### $\n",
    "\\left\\{\n",
    "\\begin{align} \n",
    "{1180x_{6}} & = 1& (12)\\\\\n",
    "\\end{align}\n",
    "\\right. \n",
    "$"
   ]
  },
  {
   "attachments": {
    "obraz.png": {
     "image/png": "[encoded data removed]"
    }
   },
   "cell_type": "markdown",
   "metadata": {},
   "source": [
    "![obraz.png](attachment:obraz.png)"
   ]
  },
  {
   "cell_type": "code",
   "execution_count": 37,
   "metadata": {},
   "outputs": [],
   "source": [
    "# main constraints\n",
    "prob += (885*x1+953*x2+1582*x3+1460*x4+314*x5)-1100*x6 <= 0\n",
    "prob += (1935*x1+622*x2+2347*x5)-850*x6 <= 0\n",
    "prob += (841*x1+715*x2+980*x3+135*x4+291*x5)-1180*x6 <= 0\n",
    "prob += (955*x2+2080*x3+2126*x4)-780*x6 <= 0\n",
    "\n",
    "prob += x2-(F*x1) >= 0\n",
    "prob += x2-(F*x4) >= 0\n",
    "prob += x2-(N*x3) >= 0\n",
    "prob += x2-(G*x5) >= 0\n",
    "\n",
    "\n",
    "prob += 1180*x6 == 1"
   ]
  },
  {
   "cell_type": "code",
   "execution_count": 38,
   "metadata": {},
   "outputs": [
    {
     "name": "stdout",
     "output_type": "stream",
     "text": [
      "DEA_Młyn_Pawin:\n",
      "MAXIMIZE\n",
      "841*x1 + 715*x2 + 980*x3 + 135*x4 + 291*x5 + 0\n",
      "SUBJECT TO\n",
      "_C1: 885 x1 + 953 x2 + 1582 x3 + 1460 x4 + 314 x5 - 1100 x6 <= 0\n",
      "\n",
      "_C2: 1935 x1 + 622 x2 + 2347 x5 - 850 x6 <= 0\n",
      "\n",
      "_C3: 841 x1 + 715 x2 + 980 x3 + 135 x4 + 291 x5 - 1180 x6 <= 0\n",
      "\n",
      "_C4: 955 x2 + 2080 x3 + 2126 x4 - 780 x6 <= 0\n",
      "\n",
      "_C5: - 2 x1 + x2 >= 0\n",
      "\n",
      "_C6: x2 - 2 x4 >= 0\n",
      "\n",
      "_C7: x2 - 4 x3 >= 0\n",
      "\n",
      "_C8: x2 - 3 x5 >= 0\n",
      "\n",
      "_C9: 1180 x6 = 1\n",
      "\n",
      "VARIABLES\n",
      "x1 Continuous\n",
      "x2 Continuous\n",
      "x3 Continuous\n",
      "x4 Continuous\n",
      "x5 Continuous\n",
      "x6 Continuous\n",
      "\n"
     ]
    }
   ],
   "source": [
    "print(prob)"
   ]
  },
  {
   "cell_type": "markdown",
   "metadata": {},
   "source": [
    "### Rozwiązanie problemu"
   ]
  },
  {
   "cell_type": "code",
   "execution_count": 39,
   "metadata": {},
   "outputs": [
    {
     "name": "stdout",
     "output_type": "stream",
     "text": [
      "prob.solve 1\n",
      "Status: Optimal\n"
     ]
    }
   ],
   "source": [
    "print(\"prob.solve\",prob.solve())\n",
    "# status of the solution\n",
    "print(f\"Status: {LpStatus[prob.status]}\")"
   ]
  },
  {
   "cell_type": "code",
   "execution_count": 40,
   "metadata": {},
   "outputs": [
    {
     "name": "stdout",
     "output_type": "stream",
     "text": [
      "x1 = 5/22066\n",
      "x2 = 5/11033\n",
      "x3 = 61/555944\n",
      "x4 = 0\n",
      "x5 = 0\n",
      "x6 = 1/1180\n"
     ]
    }
   ],
   "source": [
    "for v in prob.variables():\n",
    "    print(f\"{v.name} = {str(Fraction(v.varValue).limit_denominator())}\")\n"
   ]
  },
  {
   "cell_type": "code",
   "execution_count": 41,
   "metadata": {},
   "outputs": [],
   "source": [
    "x1 = 5/22066\n",
    "x2 = 5/11033\n",
    "x3 = 61/555944\n",
    "x4 = 0\n",
    "x5 = 0\n",
    "x6 = 1/1180"
   ]
  },
  {
   "cell_type": "markdown",
   "metadata": {},
   "source": [
    "<span style=\"font-size: 130%;color:black\"> FUNKCJA CELU\n",
    "\n",
    "<span style=\"font-size: 130%;color:black\">$ {841x_{1}} + 715x_{2}+ 980x_{3}+ 135x_{4}+ 291x_{5} \\to max$\n",
    "\n",
    "przy warunku, że dla Pawin:\n",
    "\n",
    "<span style=\"font-size: 130%;color:black\">$1180x_{6}=1$"
   ]
  },
  {
   "cell_type": "code",
   "execution_count": 42,
   "metadata": {
    "scrolled": true
   },
   "outputs": [
    {
     "data": {
      "text/plain": [
       "0.6221214017306838"
      ]
     },
     "execution_count": 42,
     "metadata": {},
     "output_type": "execute_result"
    }
   ],
   "source": [
    "Pawin = (841*x1+715*x2+980*x3+135*x4+291*x5)/(1180*x6)\n",
    "Pawin"
   ]
  },
  {
   "cell_type": "markdown",
   "metadata": {},
   "source": [
    "Obliczam dla każdego oddziału banku oddzielnie programowanie liniowe\n",
    "\n",
    "<span style=\"font-size: 230%;color:#0000ff\"> Młyn Korki"
   ]
  },
  {
   "cell_type": "code",
   "execution_count": 43,
   "metadata": {},
   "outputs": [],
   "source": [
    "from pulp import *\n",
    "from fractions import Fraction\n",
    "\n",
    "# zdefiniowanie problemu- to jest taka platforma do wrzucania na nia wszystkiego\n",
    "\n",
    "prob = LpProblem(\"DEA_Młyn_Korki\",LpMaximize)"
   ]
  },
  {
   "cell_type": "code",
   "execution_count": 44,
   "metadata": {},
   "outputs": [],
   "source": [
    "# \"Continuous\"\n",
    "# \"Integer\"\n",
    "\n",
    "x1=LpVariable(\"x1\",lowBound=0,upBound=None, cat=\"Continuous\")\n",
    "x2=LpVariable(\"x2\",lowBound=0,upBound=None, cat=\"Continuous\")\n",
    "x3=LpVariable(\"x3\",lowBound=0,upBound=None, cat=\"Continuous\")\n",
    "x4=LpVariable(\"x4\",lowBound=0,upBound=None, cat=\"Continuous\")\n",
    "x5=LpVariable(\"x5\",lowBound=0,upBound=None, cat=\"Continuous\")\n",
    "x6=LpVariable(\"x6\",lowBound=0,upBound=None, cat=\"Continuous\")"
   ]
  },
  {
   "cell_type": "code",
   "execution_count": 45,
   "metadata": {},
   "outputs": [
    {
     "name": "stdout",
     "output_type": "stream",
     "text": [
      "+-----------+------------+----------+----------+----------+----------+---------+\n",
      "|   Młyny   | Mąka Rozcz | Mąka 550 | Mąka 120 | Mąka Kru | Mąka 350 | Liczba  |\n",
      "|           |    atka    |          |          |   pska   |          |         |\n",
      "+-----------+------------+----------+----------+----------+----------+---------+\n",
      "| Młyn Wręg |    885     |   953    |   1582   |   1460   |   314    |  1100   |\n",
      "|     a     |            |          |          |          |          |         |\n",
      "+-----------+------------+----------+----------+----------+----------+---------+\n",
      "| Młyn Żele |    1935    |   622    |    x     |    x     |   2347   |   850   |\n",
      "|   chów    |            |          |          |          |          |         |\n",
      "+-----------+------------+----------+----------+----------+----------+---------+\n",
      "| Młyn Pawi |    841     |   715    |   980    |   135    |   291    |  1180   |\n",
      "|     n     |            |          |          |          |          |         |\n",
      "+-----------+------------+----------+----------+----------+----------+---------+\n",
      "| Młyn Kork |     x      |   955    |   2080   |   2126   |    x     |   780   |\n",
      "|     i     |            |          |          |          |          |         |\n",
      "+-----------+------------+----------+----------+----------+----------+---------+\n"
     ]
    }
   ],
   "source": [
    "from beautifultable import BeautifulTable\n",
    "\n",
    "table = BeautifulTable() \n",
    "table.column_headers = [\"Młyny\",\"Mąka Rozczatka\" ,\"Mąka 550\",\"Mąka 120\",\"Mąka Krupska\",\"Mąka 350\", \"Liczba \" ]\n",
    "table.append_row([\"Młyn Wręga\",    885, 953, 1582, 1460, 314,1100])\n",
    "table.append_row([\"Młyn Żelechów\",    1935,   622, \"x\", \"x\", 2347,850])\n",
    "table.append_row([\"Młyn Pawin\",    841,   715, 980, 135, 291,1180])\n",
    "table.append_row([\"Młyn Korki\",    \"x\",   955, 2080, 2126, \"x\",780])\n",
    "print(table)"
   ]
  },
  {
   "cell_type": "markdown",
   "metadata": {},
   "source": [
    "<span style=\"font-size: 130%;color:black\"> FUNKCJA CELU\n",
    "\n",
    "<span style=\"font-size: 130%;color:black\">$ {955x_{2}} + 2080x_{3}+ 2126x_{4} \\to max$\n",
    "\n",
    "przy warunku, że dla Korki:\n",
    "\n",
    "<span style=\"font-size: 130%;color:black\">$780x_{6}=1$"
   ]
  },
  {
   "cell_type": "code",
   "execution_count": 46,
   "metadata": {},
   "outputs": [],
   "source": [
    "# objective function\n",
    "prob += 955*x2 + 2080*x3+2126*x4, \"Maksymalizacja\""
   ]
  },
  {
   "cell_type": "code",
   "execution_count": 47,
   "metadata": {},
   "outputs": [
    {
     "name": "stdout",
     "output_type": "stream",
     "text": [
      "DEA_Młyn_Korki:\n",
      "MAXIMIZE\n",
      "955*x2 + 2080*x3 + 2126*x4 + 0\n",
      "VARIABLES\n",
      "x2 Continuous\n",
      "x3 Continuous\n",
      "x4 Continuous\n",
      "\n"
     ]
    }
   ],
   "source": [
    "print(prob)"
   ]
  },
  {
   "cell_type": "code",
   "execution_count": 48,
   "metadata": {},
   "outputs": [
    {
     "name": "stdout",
     "output_type": "stream",
     "text": [
      "+-----------+------------+----------+----------+----------+----------+---------+\n",
      "|   Młyny   | Mąka Rozcz | Mąka 550 | Mąka 120 | Mąka Kru | Mąka 350 | Liczba  |\n",
      "|           |    atka    |          |          |   pska   |          |         |\n",
      "+-----------+------------+----------+----------+----------+----------+---------+\n",
      "| Młyn Wręg |    885     |   953    |   1582   |   1460   |   314    |  1100   |\n",
      "|     a     |            |          |          |          |          |         |\n",
      "+-----------+------------+----------+----------+----------+----------+---------+\n",
      "| Młyn Żele |    1935    |   622    |    x     |    x     |   2347   |   850   |\n",
      "|   chów    |            |          |          |          |          |         |\n",
      "+-----------+------------+----------+----------+----------+----------+---------+\n",
      "| Młyn Pawi |    841     |   715    |   980    |   135    |   291    |  1180   |\n",
      "|     n     |            |          |          |          |          |         |\n",
      "+-----------+------------+----------+----------+----------+----------+---------+\n",
      "| Młyn Kork |     x      |   955    |   2080   |   2126   |    x     |   780   |\n",
      "|     i     |            |          |          |          |          |         |\n",
      "+-----------+------------+----------+----------+----------+----------+---------+\n"
     ]
    }
   ],
   "source": [
    "from beautifultable import BeautifulTable\n",
    "\n",
    "table = BeautifulTable() \n",
    "table.column_headers = [\"Młyny\",\"Mąka Rozczatka\" ,\"Mąka 550\",\"Mąka 120\",\"Mąka Krupska\",\"Mąka 350\", \"Liczba \" ]\n",
    "table.append_row([\"Młyn Wręga\",    885, 953, 1582, 1460, 314,1100])\n",
    "table.append_row([\"Młyn Żelechów\",    1935,   622, \"x\", \"x\", 2347,850])\n",
    "table.append_row([\"Młyn Pawin\",    841,   715, 980, 135, 291,1180])\n",
    "table.append_row([\"Młyn Korki\",    \"x\",   955, 2080, 2126, \"x\",780])\n",
    "print(table)"
   ]
  },
  {
   "cell_type": "markdown",
   "metadata": {},
   "source": [
    "##### $\n",
    "\\left\\{\n",
    "\\begin{align} \n",
    "y_{A} = \\frac{885x_{1} + 953x_{2}+ 1582x_{3}+1460x_{4}+314x_{5}}{1100x_{6}}&&(1)\\\\\n",
    "y_{B} = \\frac{1935x_{1} + 622x_{2}+2347x_{5}}{850x_{6}} & & (2)\\\\\n",
    "y_{C} = \\frac{841x_{1} + 715x_{2}+980x_{3}+135x_{4}+291x_{5}}{1180x_{6}} & & (3)\\\\\n",
    "y_{D} = \\frac{955x_{2} + 2080x_{3}+2126x_{4}}{780x_{6}} & & (3)\\\\\n",
    "\\end{align}\n",
    "\\right. \n",
    "$\n"
   ]
  },
  {
   "cell_type": "markdown",
   "metadata": {},
   "source": [
    "##### $\n",
    "\\left\\{\n",
    "\\begin{align} \n",
    "(885x_{1}  + 953x_{2}+ 1582x_{3}+1460x_{4}+314x_{5})-1100x_{6} & \\leqslant 0& (6)\\\\\n",
    "(1935x_{1} + 622x_{2}+ 2347x_{5})-850x_{6} & \\leqslant 0& (7)\\\\\n",
    "(841x_{1} + 715x_{2}+980x_{3}+135x_{4}+291x_{5})-1180x_{6} & \\leqslant 0& (8)\\\\\n",
    "(955x_{2}+2080x_{3}+2126x_{4})-780x_{6} & \\leqslant 0& (8)\\\\\n",
    "\\end{align}\n",
    "\\right. \n",
    "$\n",
    "\n",
    "Warunki znakowe:\n",
    "#### $\n",
    "\\left\\{\n",
    "\\begin{align} \n",
    "{x_{1}} & \\geqslant 0& (11)\\\\\n",
    "{x_{2}} & \\geqslant 0& (12)\\\\\n",
    "{x_{3}} & \\geqslant 0& (13)\\\\\n",
    "{x_{4}} & \\geqslant 0& (14)\\\\\n",
    "{x_{5}} & \\geqslant 0& (15)\\\\\n",
    "{x_{6}} & \\geqslant 0& (15)\\\\\n",
    "\\end{align}\n",
    "\\right. \n",
    "$\n",
    "\n",
    "#### $\n",
    "\\left\\{\n",
    "\\begin{align} \n",
    "{780x_{6}} & = 1& (12)\\\\\n",
    "\\end{align}\n",
    "\\right. \n",
    "$"
   ]
  },
  {
   "attachments": {
    "obraz.png": {
     "image/png": "[encoded data removed]"
    }
   },
   "cell_type": "markdown",
   "metadata": {},
   "source": [
    "![obraz.png](attachment:obraz.png)"
   ]
  },
  {
   "cell_type": "code",
   "execution_count": 49,
   "metadata": {},
   "outputs": [],
   "source": [
    "# main constraints\n",
    "prob += (885*x1+953*x2+1582*x3+1460*x4+314*x5)-1100*x6 <= 0\n",
    "prob += (1935*x1+622*x2+2347*x5)-850*x6 <= 0\n",
    "prob += (841*x1+715*x2+980*x3+135*x4+291*x5)-1180*x6 <= 0\n",
    "prob += (955*x2+2080*x3+2126*x4)-780*x6 <= 0\n",
    "\n",
    "prob += x2-(F*x1) >= 0\n",
    "prob += x2-(F*x4) >= 0\n",
    "prob += x2-(N*x3) >= 0\n",
    "prob += x2-(G*x5) >= 0\n",
    "\n",
    "prob += 780*x6 == 1"
   ]
  },
  {
   "cell_type": "code",
   "execution_count": 50,
   "metadata": {},
   "outputs": [
    {
     "name": "stdout",
     "output_type": "stream",
     "text": [
      "DEA_Młyn_Korki:\n",
      "MAXIMIZE\n",
      "955*x2 + 2080*x3 + 2126*x4 + 0\n",
      "SUBJECT TO\n",
      "_C1: 885 x1 + 953 x2 + 1582 x3 + 1460 x4 + 314 x5 - 1100 x6 <= 0\n",
      "\n",
      "_C2: 1935 x1 + 622 x2 + 2347 x5 - 850 x6 <= 0\n",
      "\n",
      "_C3: 841 x1 + 715 x2 + 980 x3 + 135 x4 + 291 x5 - 1180 x6 <= 0\n",
      "\n",
      "_C4: 955 x2 + 2080 x3 + 2126 x4 - 780 x6 <= 0\n",
      "\n",
      "_C5: - 2 x1 + x2 >= 0\n",
      "\n",
      "_C6: x2 - 2 x4 >= 0\n",
      "\n",
      "_C7: x2 - 4 x3 >= 0\n",
      "\n",
      "_C8: x2 - 3 x5 >= 0\n",
      "\n",
      "_C9: 780 x6 = 1\n",
      "\n",
      "VARIABLES\n",
      "x1 Continuous\n",
      "x2 Continuous\n",
      "x3 Continuous\n",
      "x4 Continuous\n",
      "x5 Continuous\n",
      "x6 Continuous\n",
      "\n"
     ]
    }
   ],
   "source": [
    "print(prob)"
   ]
  },
  {
   "cell_type": "markdown",
   "metadata": {},
   "source": [
    "### Rozwiązanie problemu"
   ]
  },
  {
   "cell_type": "code",
   "execution_count": 51,
   "metadata": {},
   "outputs": [
    {
     "name": "stdout",
     "output_type": "stream",
     "text": [
      "prob.solve 1\n",
      "Status: Optimal\n"
     ]
    }
   ],
   "source": [
    "print(\"prob.solve\",prob.solve())\n",
    "# status of the solution\n",
    "print(f\"Status: {LpStatus[prob.status]}\")"
   ]
  },
  {
   "cell_type": "code",
   "execution_count": 52,
   "metadata": {},
   "outputs": [
    {
     "name": "stdout",
     "output_type": "stream",
     "text": [
      "x1 = 0\n",
      "x2 = 1/955\n",
      "x3 = 0\n",
      "x4 = 0\n",
      "x5 = 0\n",
      "x6 = 1/780\n"
     ]
    }
   ],
   "source": [
    "for v in prob.variables():\n",
    "    print(f\"{v.name} = {str(Fraction(v.varValue).limit_denominator())}\")\n"
   ]
  },
  {
   "cell_type": "code",
   "execution_count": 53,
   "metadata": {},
   "outputs": [],
   "source": [
    "x1 = 0\n",
    "x2 = 1/955\n",
    "x3 = 0\n",
    "x4 = 0\n",
    "x5 = 0\n",
    "x6 = 1/780"
   ]
  },
  {
   "cell_type": "markdown",
   "metadata": {},
   "source": [
    "<span style=\"font-size: 130%;color:black\"> FUNKCJA CELU\n",
    "\n",
    "<span style=\"font-size: 130%;color:black\">$ {955x_{2}} + 2080x_{3}+ 2126x_{4} \\to max$\n",
    "\n",
    "przy warunku, że dla Korki:\n",
    "\n",
    "<span style=\"font-size: 130%;color:black\">$780x_{6}=1$"
   ]
  },
  {
   "cell_type": "code",
   "execution_count": 54,
   "metadata": {
    "scrolled": true
   },
   "outputs": [
    {
     "data": {
      "text/plain": [
       "1.0"
      ]
     },
     "execution_count": 54,
     "metadata": {},
     "output_type": "execute_result"
    }
   ],
   "source": [
    "Korki = (955*x2+2080*x3+2126*x4)/(780*x6)\n",
    "Korki"
   ]
  },
  {
   "cell_type": "code",
   "execution_count": 55,
   "metadata": {},
   "outputs": [
    {
     "name": "stdout",
     "output_type": "stream",
     "text": [
      "Wręga: 0.865\n",
      "Żelechów: 1.0\n",
      "Pawin: 0.622\n",
      "Korki: 1.0\n"
     ]
    }
   ],
   "source": [
    "print(\"Wręga:\", round(Wręga, 3))\n",
    "print(\"Żelechów:\", round(Żelechów, 3))\n",
    "print(\"Pawin:\", round(Pawin, 3))\n",
    "print(\"Korki:\", round(Korki, 3))"
   ]
  }
 ],
 "metadata": {
  "kernelspec": {
   "display_name": "Python 3",
   "language": "python",
   "name": "python3"
  },
  "language_info": {
   "codemirror_mode": {
    "name": "ipython",
    "version": 3
   },
   "file_extension": ".py",
   "mimetype": "text/x-python",
   "name": "python",
   "nbconvert_exporter": "python",
   "pygments_lexer": "ipython3",
   "version": "3.7.4"
  }
 },
 "nbformat": 4,
 "nbformat_minor": 2
}
