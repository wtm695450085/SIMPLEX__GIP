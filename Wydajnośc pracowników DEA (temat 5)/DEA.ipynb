{
 "cells": [
  {
   "cell_type": "markdown",
   "metadata": {},
   "source": [
    "http://people.brunel.ac.uk/~mastjjb/jeb/or/dea.html"
   ]
  },
  {
   "cell_type": "code",
   "execution_count": 1,
   "metadata": {},
   "outputs": [
    {
     "name": "stdout",
     "output_type": "stream",
     "text": [
      "+---------+---------------------+----------------------+----------+\n",
      "|  Bank   | Transakcje osobiste | Transakcje biznesowe | Personel |\n",
      "+---------+---------------------+----------------------+----------+\n",
      "| Croydon |         125         |          50          |    18    |\n",
      "+---------+---------------------+----------------------+----------+\n",
      "| Dorking |         44          |          20          |    16    |\n",
      "+---------+---------------------+----------------------+----------+\n",
      "| Redhill |         80          |          55          |    17    |\n",
      "+---------+---------------------+----------------------+----------+\n",
      "| Reigate |         23          |          12          |    11    |\n",
      "+---------+---------------------+----------------------+----------+\n"
     ]
    }
   ],
   "source": [
    "from beautifultable import BeautifulTable\n",
    "\n",
    "table = BeautifulTable()\n",
    "table.column_headers = [\"Bank\",\"Transakcje osobiste\" ,\"Transakcje biznesowe\"\n",
    ", \"Personel\"]\n",
    "table.append_row([\"Croydon\",    125,   50,     18 ])\n",
    "table.append_row([\"Dorking\",    44,    20,     16 ])\n",
    "table.append_row([\"Redhill\",    80,    55,     17 ])\n",
    "table.append_row([\"Reigate\",    23,    12,     11 ])\n",
    "print(table)"
   ]
  },
  {
   "cell_type": "markdown",
   "metadata": {},
   "source": [
    "# Aby obliczyć wydajność Dorking"
   ]
  },
  {
   "cell_type": "markdown",
   "metadata": {},
   "source": [
    "#### $\n",
    "\\left\\{\n",
    "\\begin{align} \n",
    "{x_{1}} & = \\frac{125w_{1} + 50w_{2}}{18w_{3}} & (1)\\\\\n",
    "{x_{2}} & = \\frac{44w_{1}+20w_{2}}{16w_{3}} & (2)\\\\\n",
    "{x_{3}} & = \\frac{80w_{1}+55w_{2}}{17w_{3}} & (3)\\\\\n",
    "{x_{4}} & = \\frac{23w_{1}+12w_{2}}{11w_{3}} & (4)\\\\\n",
    "\\end{align}\n",
    "\\right. \n",
    "$"
   ]
  },
  {
   "cell_type": "markdown",
   "metadata": {},
   "source": [
    "#### $\n",
    "\\left\\{\n",
    "\\begin{align} \n",
    "0\\leqslant & {x_{1}}\\leqslant 1 & (5)\\\\\n",
    "0\\leqslant & {x_{2}}\\leqslant 1 & (6)\\\\ \n",
    "0\\leqslant & {x_{3}}\\leqslant 1 & (7)\\\\ \n",
    "0\\leqslant & {x_{4}}\\leqslant 1 & (8)\\\\ \n",
    "\\end{align}\n",
    "\\right. \n",
    "$"
   ]
  },
  {
   "cell_type": "markdown",
   "metadata": {},
   "source": [
    "#### $\n",
    "\\left\\{\n",
    "\\begin{align} \n",
    " {w_{1}}\\leqslant 1 & &(9)\\\\\n",
    " {w_{2}}\\leqslant 1 & &(10)\\\\ \n",
    " {w_{3}}\\leqslant 1 & &(11)\\\\ \n",
    "\\end{align}\n",
    "\\right. \n",
    "$"
   ]
  },
  {
   "cell_type": "markdown",
   "metadata": {},
   "source": [
    "$x_{1}$ to wydajność Croydona (wyrażona jako ułamek)\n",
    "\n",
    "$x_{2}$ to wydajność Dorking (wyrażona jako ułamek)\n",
    "\n",
    "$x_{3}$ to wydajność Redhill (wyrażona jako ułamek)\n",
    "\n",
    "$x_{4}$ to wydajność Reigate (wyrażona jako ułamek)"
   ]
  },
  {
   "cell_type": "markdown",
   "metadata": {},
   "source": [
    "Funkcja celu - maksymalizacja Dorking\n",
    "\n",
    "#### $\n",
    "\\left\\{\n",
    "\\begin{align} \n",
    "{x_{1}} & = \\frac{125w_{1} + 50w_{2}}{18w_{3}} & \\to&& max\\\\\n",
    "\\end{align}\n",
    "\\right. \n",
    "$"
   ]
  },
  {
   "cell_type": "markdown",
   "metadata": {},
   "source": [
    "$\n",
    "16w_{3} = 1\n",
    "$"
   ]
  },
  {
   "cell_type": "code",
   "execution_count": 2,
   "metadata": {},
   "outputs": [],
   "source": [
    "from pulp import *\n",
    "from fractions import Fraction\n",
    "\n",
    "# zdefiniowanie problemu- to jest taka platforma do wrzucania na nia wszystkiego\n",
    "\n",
    "prob = LpProblem(\"DEA\",LpMaximize)"
   ]
  },
  {
   "cell_type": "code",
   "execution_count": 3,
   "metadata": {},
   "outputs": [],
   "source": [
    "# \"Continuous\"\n",
    "# \"Integer\"\n",
    "\n",
    "x1=LpVariable(\"x1\",lowBound=0,upBound=None, cat=\"Integer\")\n",
    "x2=LpVariable(\"x2\",lowBound=0,upBound=None, cat=\"Integer\")\n",
    "x3=LpVariable(\"x3\",lowBound=0,upBound=None, cat=\"Integer\")"
   ]
  },
  {
   "cell_type": "markdown",
   "metadata": {},
   "source": [
    "### Dodajemy do platformy funkcje celu\n",
    "\n",
    "Funkcja celu - maksymalizacja Dorking\n",
    "\n",
    "#### $\n",
    "\\left\\{\n",
    "\\begin{align} \n",
    "{x_{1}} & = \\frac{125w_{1} + 50w_{2}}{18w_{3}} & \\to&& max\\\\\n",
    "\\end{align}\n",
    "\\right. \n",
    "$"
   ]
  },
  {
   "cell_type": "code",
   "execution_count": 4,
   "metadata": {},
   "outputs": [
    {
     "data": {
      "text/plain": [
       "0.05555555555555555"
      ]
     },
     "execution_count": 4,
     "metadata": {},
     "output_type": "execute_result"
    }
   ],
   "source": [
    "1/18"
   ]
  },
  {
   "cell_type": "markdown",
   "metadata": {},
   "source": [
    "# Dorking "
   ]
  },
  {
   "cell_type": "code",
   "execution_count": 5,
   "metadata": {},
   "outputs": [],
   "source": [
    "from pulp import *\n",
    "from fractions import Fraction\n",
    "\n",
    "# zdefiniowanie problemu- to jest taka platforma do wrzucania na nia wszystkiego\n",
    "\n",
    "prob = LpProblem(\"DEA\",LpMaximize)"
   ]
  },
  {
   "cell_type": "code",
   "execution_count": 6,
   "metadata": {},
   "outputs": [],
   "source": [
    "# \"Continuous\"\n",
    "# \"Integer\"\n",
    "\n",
    "x1=LpVariable(\"x1\",lowBound=0,upBound=None, cat=\"Integer\")\n",
    "x2=LpVariable(\"x2\",lowBound=0,upBound=None, cat=\"Integer\")\n",
    "x3=LpVariable(\"x3\",lowBound=0,upBound=None, cat=\"Integer\")"
   ]
  },
  {
   "cell_type": "code",
   "execution_count": null,
   "metadata": {},
   "outputs": [],
   "source": []
  },
  {
   "cell_type": "code",
   "execution_count": 7,
   "metadata": {},
   "outputs": [],
   "source": [
    "# objective function\n",
    "prob += 44*x1 + 20*x2, \"Maksymalizacja zysków\""
   ]
  },
  {
   "cell_type": "code",
   "execution_count": 8,
   "metadata": {},
   "outputs": [
    {
     "name": "stdout",
     "output_type": "stream",
     "text": [
      "DEA:\n",
      "MAXIMIZE\n",
      "44*x1 + 20*x2 + 0\n",
      "VARIABLES\n",
      "0 <= x1 Integer\n",
      "0 <= x2 Integer\n",
      "\n"
     ]
    }
   ],
   "source": [
    "print(prob)"
   ]
  },
  {
   "cell_type": "markdown",
   "metadata": {},
   "source": [
    "maximise (44Wper + 20Wbus)\n",
    "\n",
    "subject to\n",
    "\n",
    "(16Wstaff) = 1\n",
    "\n",
    "(125Wper + 50Wbus) - (18Wstaff) <= 0\n",
    "\n",
    "(44Wper + 20Wbus) - (16Wstaff) <= 0\n",
    "\n",
    "(80Wper + 55Wbus) - (17Wstaff) <= 0\n",
    "\n",
    "(23Wper + 12Wbus) - (11Wstaff) <= 0\n",
    "\n",
    "Wper >= 0\n",
    "\n",
    "Wbus >= 0\n",
    "\n",
    "Wstaff >= 0"
   ]
  },
  {
   "cell_type": "markdown",
   "metadata": {},
   "source": [
    "#### $\n",
    "\\left\\{\n",
    "\\begin{align} \n",
    "({125x_{1}} + 50x_{2})-18x_{3} & \\leqslant 0& (1)\\\\\n",
    "({44x_{1}} + 20x_{2})-16x_{3} & \\leqslant 0& (1)\\\\\n",
    "({80x_{1}} + 55x_{2})-17x_{3} & \\leqslant 0& (1)\\\\\n",
    "({23x_{1}} + 12x_{2})-11x_{3} & \\leqslant 0& (1)\\\\\n",
    "\\end{align}\n",
    "\\right. \n",
    "$\n",
    "\n",
    "#### $\n",
    "\\left\\{\n",
    "\\begin{align} \n",
    "{x_{1}} & \\geqslant 0& (1)\\\\\n",
    "{x_{2}} & \\geqslant 0& (2)\\\\\n",
    "{x_{3}} & \\geqslant 0& (3)\\\\\n",
    "\\end{align}\n",
    "\\right. \n",
    "$\n",
    "\n",
    "$16x_{3}=1$"
   ]
  },
  {
   "cell_type": "code",
   "execution_count": 9,
   "metadata": {},
   "outputs": [],
   "source": [
    "# main constraints\n",
    "prob += (125*x1+50*x2)-18*x3 <= 0\n",
    "prob += (44*x1+20*x2)-16*x3 <= 0\n",
    "prob += (80*x1+55*x2)-17*x3 <= 0\n",
    "prob += (23*x1+12*x2)-11*x3 <= 0\n",
    "prob += 16*x3 == 1"
   ]
  },
  {
   "cell_type": "code",
   "execution_count": 10,
   "metadata": {},
   "outputs": [
    {
     "name": "stdout",
     "output_type": "stream",
     "text": [
      "DEA:\n",
      "MAXIMIZE\n",
      "44*x1 + 20*x2 + 0\n",
      "SUBJECT TO\n",
      "_C1: 125 x1 + 50 x2 - 18 x3 <= 0\n",
      "\n",
      "_C2: 44 x1 + 20 x2 - 16 x3 <= 0\n",
      "\n",
      "_C3: 80 x1 + 55 x2 - 17 x3 <= 0\n",
      "\n",
      "_C4: 23 x1 + 12 x2 - 11 x3 <= 0\n",
      "\n",
      "_C5: 16 x3 = 1\n",
      "\n",
      "VARIABLES\n",
      "0 <= x1 Integer\n",
      "0 <= x2 Integer\n",
      "0 <= x3 Integer\n",
      "\n"
     ]
    }
   ],
   "source": [
    "print(prob)"
   ]
  },
  {
   "cell_type": "markdown",
   "metadata": {},
   "source": [
    "### Rozwiązanie problemu"
   ]
  },
  {
   "cell_type": "code",
   "execution_count": 11,
   "metadata": {},
   "outputs": [
    {
     "name": "stdout",
     "output_type": "stream",
     "text": [
      "prob.solve -1\n",
      "Status: Infeasible\n"
     ]
    }
   ],
   "source": [
    "print(\"prob.solve\",prob.solve())\n",
    "# status of the solution\n",
    "print(f\"Status: {LpStatus[prob.status]}\")"
   ]
  },
  {
   "cell_type": "code",
   "execution_count": 12,
   "metadata": {},
   "outputs": [
    {
     "name": "stdout",
     "output_type": "stream",
     "text": [
      "x1 = 7/2300\n",
      "x2 = 4671/313673\n",
      "x3 = 1/16\n"
     ]
    }
   ],
   "source": [
    "for v in prob.variables():\n",
    "    print(f\"{v.name} = {str(Fraction(v.varValue).limit_denominator())}\")\n"
   ]
  },
  {
   "cell_type": "code",
   "execution_count": 13,
   "metadata": {},
   "outputs": [
    {
     "name": "stdout",
     "output_type": "stream",
     "text": [
      "max (x11+x12+x13+x21+x22+x23+x31+x32+x33+x41+x42+x43) = 143479/332328\n"
     ]
    }
   ],
   "source": [
    "# maximum value of the objective function\n",
    "print(f\"max (x11+x12+x13+x21+x22+x23+x31+x32+x33+x41+x42+x43) = {str(Fraction(value(prob.objective)).limit_denominator())}\")"
   ]
  },
  {
   "cell_type": "code",
   "execution_count": 14,
   "metadata": {},
   "outputs": [
    {
     "data": {
      "text/plain": [
       "0.003043478260869565"
      ]
     },
     "execution_count": 14,
     "metadata": {},
     "output_type": "execute_result"
    }
   ],
   "source": [
    "7/2300"
   ]
  },
  {
   "cell_type": "code",
   "execution_count": 15,
   "metadata": {},
   "outputs": [
    {
     "data": {
      "text/plain": [
       "0.014891304001300718"
      ]
     },
     "execution_count": 15,
     "metadata": {},
     "output_type": "execute_result"
    }
   ],
   "source": [
    "4671/313673"
   ]
  },
  {
   "cell_type": "code",
   "execution_count": 16,
   "metadata": {},
   "outputs": [
    {
     "data": {
      "text/plain": [
       "0.0625"
      ]
     },
     "execution_count": 16,
     "metadata": {},
     "output_type": "execute_result"
    }
   ],
   "source": [
    "1/16"
   ]
  },
  {
   "cell_type": "code",
   "execution_count": 17,
   "metadata": {},
   "outputs": [
    {
     "name": "stdout",
     "output_type": "stream",
     "text": [
      "+---------+---------------------+----------------------+----------+\n",
      "|  Bank   | Transakcje osobiste | Transakcje biznesowe | Personel |\n",
      "+---------+---------------------+----------------------+----------+\n",
      "| Croydon |          0          |          0           |    0     |\n",
      "+---------+---------------------+----------------------+----------+\n",
      "| Dorking |        0.003        |        0.015         |  0.062   |\n",
      "+---------+---------------------+----------------------+----------+\n",
      "| Redhill |          0          |          0           |    0     |\n",
      "+---------+---------------------+----------------------+----------+\n",
      "| Reigate |          0          |          0           |    0     |\n",
      "+---------+---------------------+----------------------+----------+\n"
     ]
    }
   ],
   "source": [
    "from beautifultable import BeautifulTable\n",
    "\n",
    "table = BeautifulTable()\n",
    "table.column_headers = [\"Bank\",\"Transakcje osobiste\" ,\"Transakcje biznesowe\"\n",
    ", \"Personel\"]\n",
    "table.append_row([\"Croydon\",    0,   0,     0])\n",
    "table.append_row([\"Dorking\",    7/2300,    4671/313673,    1/16 ])\n",
    "table.append_row([\"Redhill\",    0,    0,     0 ])\n",
    "table.append_row([\"Reigate\",    0,    0,     0 ])\n",
    "print(table)"
   ]
  },
  {
   "cell_type": "markdown",
   "metadata": {},
   "source": [
    "# Croydon"
   ]
  },
  {
   "cell_type": "code",
   "execution_count": 18,
   "metadata": {},
   "outputs": [
    {
     "name": "stdout",
     "output_type": "stream",
     "text": [
      "+---------+---------------------+----------------------+----------+\n",
      "|  Bank   | Transakcje osobiste | Transakcje biznesowe | Personel |\n",
      "+---------+---------------------+----------------------+----------+\n",
      "| Croydon |         125         |          50          |    18    |\n",
      "+---------+---------------------+----------------------+----------+\n",
      "| Dorking |         44          |          20          |    16    |\n",
      "+---------+---------------------+----------------------+----------+\n",
      "| Redhill |         80          |          55          |    17    |\n",
      "+---------+---------------------+----------------------+----------+\n",
      "| Reigate |         23          |          12          |    11    |\n",
      "+---------+---------------------+----------------------+----------+\n"
     ]
    }
   ],
   "source": [
    "from beautifultable import BeautifulTable\n",
    "\n",
    "table = BeautifulTable()\n",
    "table.column_headers = [\"Bank\",\"Transakcje osobiste\" ,\"Transakcje biznesowe\"\n",
    ", \"Personel\"]\n",
    "table.append_row([\"Croydon\",    125,   50,     18 ])\n",
    "table.append_row([\"Dorking\",    44,    20,     16 ])\n",
    "table.append_row([\"Redhill\",    80,    55,     17 ])\n",
    "table.append_row([\"Reigate\",    23,    12,     11 ])\n",
    "print(table)"
   ]
  },
  {
   "cell_type": "code",
   "execution_count": 19,
   "metadata": {},
   "outputs": [],
   "source": [
    "from pulp import *\n",
    "from fractions import Fraction\n",
    "\n",
    "# zdefiniowanie problemu- to jest taka platforma do wrzucania na nia wszystkiego\n",
    "\n",
    "prob = LpProblem(\"DEA_Croydon\",LpMaximize)"
   ]
  },
  {
   "cell_type": "code",
   "execution_count": 20,
   "metadata": {},
   "outputs": [],
   "source": [
    "# \"Continuous\"\n",
    "# \"Integer\"\n",
    "\n",
    "x1=LpVariable(\"x1\",lowBound=0,upBound=None, cat=\"Integer\")\n",
    "x2=LpVariable(\"x2\",lowBound=0,upBound=None, cat=\"Integer\")\n",
    "x3=LpVariable(\"x3\",lowBound=0,upBound=None, cat=\"Integer\")"
   ]
  },
  {
   "cell_type": "code",
   "execution_count": 21,
   "metadata": {},
   "outputs": [],
   "source": [
    "# objective function\n",
    "prob += 125*x1 + 50*x2, \"Maksymalizacja zysków2\""
   ]
  },
  {
   "cell_type": "code",
   "execution_count": 22,
   "metadata": {},
   "outputs": [
    {
     "name": "stdout",
     "output_type": "stream",
     "text": [
      "DEA_Croydon:\n",
      "MAXIMIZE\n",
      "125*x1 + 50*x2 + 0\n",
      "VARIABLES\n",
      "0 <= x1 Integer\n",
      "0 <= x2 Integer\n",
      "\n"
     ]
    }
   ],
   "source": [
    "print(prob)"
   ]
  },
  {
   "cell_type": "markdown",
   "metadata": {},
   "source": [
    "maximise (44Wper + 20Wbus)\n",
    "\n",
    "subject to\n",
    "\n",
    "(16Wstaff) = 1\n",
    "\n",
    "(125Wper + 50Wbus) - (18Wstaff) <= 0\n",
    "\n",
    "(44Wper + 20Wbus) - (16Wstaff) <= 0\n",
    "\n",
    "(80Wper + 55Wbus) - (17Wstaff) <= 0\n",
    "\n",
    "(23Wper + 12Wbus) - (11Wstaff) <= 0\n",
    "\n",
    "Wper >= 0\n",
    "\n",
    "Wbus >= 0\n",
    "\n",
    "Wstaff >= 0"
   ]
  },
  {
   "cell_type": "markdown",
   "metadata": {},
   "source": [
    "#### $\n",
    "\\left\\{\n",
    "\\begin{align} \n",
    "({125x_{1}} + 50x_{2})-18x_{3} & \\leqslant 0& (1)\\\\\n",
    "({44x_{1}} + 20x_{2})-16x_{3} & \\leqslant 0& (1)\\\\\n",
    "({80x_{1}} + 55x_{2})-17x_{3} & \\leqslant 0& (1)\\\\\n",
    "({23x_{1}} + 12x_{2})-11x_{3} & \\leqslant 0& (1)\\\\\n",
    "\\end{align}\n",
    "\\right. \n",
    "$\n",
    "\n",
    "#### $\n",
    "\\left\\{\n",
    "\\begin{align} \n",
    "{x_{1}} & \\geqslant 0& (1)\\\\\n",
    "{x_{2}} & \\geqslant 0& (2)\\\\\n",
    "{x_{3}} & \\geqslant 0& (3)\\\\\n",
    "\\end{align}\n",
    "\\right. \n",
    "$\n",
    "\n",
    "$16x_{3}=1$"
   ]
  },
  {
   "cell_type": "code",
   "execution_count": 23,
   "metadata": {},
   "outputs": [],
   "source": [
    "# main constraints\n",
    "prob += (125*x1+50*x2)-18*x3 <= 0\n",
    "prob += (44*x1+20*x2)-16*x3 <= 0\n",
    "prob += (80*x1+55*x2)-17*x3 <= 0\n",
    "prob += (23*x1+12*x2)-11*x3 <= 0\n",
    "prob += 18*x3 == 1"
   ]
  },
  {
   "cell_type": "code",
   "execution_count": 24,
   "metadata": {},
   "outputs": [
    {
     "name": "stdout",
     "output_type": "stream",
     "text": [
      "DEA_Croydon:\n",
      "MAXIMIZE\n",
      "125*x1 + 50*x2 + 0\n",
      "SUBJECT TO\n",
      "_C1: 125 x1 + 50 x2 - 18 x3 <= 0\n",
      "\n",
      "_C2: 44 x1 + 20 x2 - 16 x3 <= 0\n",
      "\n",
      "_C3: 80 x1 + 55 x2 - 17 x3 <= 0\n",
      "\n",
      "_C4: 23 x1 + 12 x2 - 11 x3 <= 0\n",
      "\n",
      "_C5: 18 x3 = 1\n",
      "\n",
      "VARIABLES\n",
      "0 <= x1 Integer\n",
      "0 <= x2 Integer\n",
      "0 <= x3 Integer\n",
      "\n"
     ]
    }
   ],
   "source": [
    "print(prob)"
   ]
  },
  {
   "cell_type": "markdown",
   "metadata": {},
   "source": [
    "### Rozwiązanie problemu"
   ]
  },
  {
   "cell_type": "code",
   "execution_count": 25,
   "metadata": {},
   "outputs": [
    {
     "name": "stdout",
     "output_type": "stream",
     "text": [
      "prob.solve -1\n",
      "Status: Infeasible\n"
     ]
    }
   ],
   "source": [
    "print(\"prob.solve\",prob.solve())\n",
    "# status of the solution\n",
    "print(f\"Status: {LpStatus[prob.status]}\")"
   ]
  },
  {
   "cell_type": "code",
   "execution_count": 26,
   "metadata": {},
   "outputs": [
    {
     "name": "stdout",
     "output_type": "stream",
     "text": [
      "x1 = 1/125\n",
      "x2 = 0\n",
      "x3 = 1/18\n"
     ]
    }
   ],
   "source": [
    "for v in prob.variables():\n",
    "    print(f\"{v.name} = {str(Fraction(v.varValue).limit_denominator())}\")\n"
   ]
  },
  {
   "cell_type": "code",
   "execution_count": 27,
   "metadata": {},
   "outputs": [
    {
     "name": "stdout",
     "output_type": "stream",
     "text": [
      "max (x11+x12+x13+x21+x22+x23+x31+x32+x33+x41+x42+x43) = 1\n"
     ]
    }
   ],
   "source": [
    "# maximum value of the objective function\n",
    "print(f\"max (x11+x12+x13+x21+x22+x23+x31+x32+x33+x41+x42+x43) = {str(Fraction(value(prob.objective)).limit_denominator())}\")"
   ]
  },
  {
   "cell_type": "code",
   "execution_count": 28,
   "metadata": {},
   "outputs": [
    {
     "data": {
      "text/plain": [
       "0.008"
      ]
     },
     "execution_count": 28,
     "metadata": {},
     "output_type": "execute_result"
    }
   ],
   "source": [
    "1/125"
   ]
  },
  {
   "cell_type": "code",
   "execution_count": null,
   "metadata": {},
   "outputs": [],
   "source": []
  }
 ],
 "metadata": {
  "kernelspec": {
   "display_name": "Python 3",
   "language": "python",
   "name": "python3"
  },
  "language_info": {
   "codemirror_mode": {
    "name": "ipython",
    "version": 3
   },
   "file_extension": ".py",
   "mimetype": "text/x-python",
   "name": "python",
   "nbconvert_exporter": "python",
   "pygments_lexer": "ipython3",
   "version": "3.7.4"
  }
 },
 "nbformat": 4,
 "nbformat_minor": 2
}
