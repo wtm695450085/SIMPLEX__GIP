{
 "cells": [
  {
   "cell_type": "markdown",
   "metadata": {},
   "source": [
    "# Zadanie 72 STR. 122"
   ]
  },
  {
   "cell_type": "code",
   "execution_count": 1,
   "metadata": {},
   "outputs": [
    {
     "name": "stdout",
     "output_type": "stream",
     "text": [
      "/bin/sh: 1: Syntax error: word unexpected (expecting \")\")\n",
      "+-----------+----------+----------+----------+----------+---------+------------+\n",
      "| Dostawa z | odbiór:1 | odbiór:2 | odbiór:3 | odbiór:4 | Magazyn | Wielkość l |\n",
      "| e źródła: |          |          |          |          |  nadwyż | imitów dos |\n",
      "|           |          |          |          |          |  kowy   |    taw     |\n",
      "+-----------+----------+----------+----------+----------+---------+------------+\n",
      "| Dostawca  |    18    |    15    |    25    |    15    |    0    |    500     |\n",
      "|     A     |          |          |          |          |         |            |\n",
      "+-----------+----------+----------+----------+----------+---------+------------+\n",
      "| Dostawca  |    21    |    24    |    10    |    19    |    0    |    400     |\n",
      "|     B     |          |          |          |          |         |            |\n",
      "+-----------+----------+----------+----------+----------+---------+------------+\n",
      "| Dostawca  |    14    |    30    |    19    |    17    |    0    |    300     |\n",
      "|     C     |          |          |          |          |         |            |\n",
      "+-----------+----------+----------+----------+----------+---------+------------+\n",
      "| wielkość  |   300    |   200    |   300    |   200    |   200   |    1200    |\n",
      "| limitu od |          |          |          |          |         |            |\n",
      "|  biorów   |          |          |          |          |         |            |\n",
      "+-----------+----------+----------+----------+----------+---------+------------+\n"
     ]
    }
   ],
   "source": [
    "# <span style=\"color:blue\"> Zadanie 72 STR. 122  \n",
    "\n",
    "![obraz.png](attachment:obraz.png)\n",
    "\n",
    "from beautifultable import BeautifulTable\n",
    "\n",
    "table = BeautifulTable()\n",
    "table.column_headers = [\"Dostawa ze źródła:\", \"odbiór:1\",\"odbiór:2\",\"odbiór:3\",\"odbiór:4\",\"Magazyn nadwyżkowy\",\"Wielkość limitów dostaw\"]\n",
    "table.append_row([\"Dostawca A\",    18,   15,   25, 15,0, 500 ])\n",
    "table.append_row([\"Dostawca B\",    21,   24,   10, 19,0, 400 ])\n",
    "table.append_row([\"Dostawca C\",    14,   30,   19, 17,0, 300 ])\n",
    "table.append_row([\"wielkość limitu odbiorów\",   300, 200,  300,   200,  200,1200])\n",
    "print(table)"
   ]
  },
  {
   "cell_type": "code",
   "execution_count": 2,
   "metadata": {},
   "outputs": [
    {
     "data": {
      "text/plain": [
       "1000"
      ]
     },
     "execution_count": 2,
     "metadata": {},
     "output_type": "execute_result"
    }
   ],
   "source": [
    "300+200+300+200"
   ]
  },
  {
   "cell_type": "markdown",
   "metadata": {},
   "source": [
    "##### "
   ]
  },
  {
   "cell_type": "code",
   "execution_count": 3,
   "metadata": {},
   "outputs": [
    {
     "data": {
      "text/plain": [
       "1200"
      ]
     },
     "execution_count": 3,
     "metadata": {},
     "output_type": "execute_result"
    }
   ],
   "source": [
    "500+400+300\n"
   ]
  },
  {
   "cell_type": "code",
   "execution_count": 4,
   "metadata": {},
   "outputs": [],
   "source": [
    "#### RÓWNOWAŻĘ ZADANIE TRANSPORTOWE MAGAZYNEM NADWYŻKOWYM"
   ]
  },
  {
   "cell_type": "code",
   "execution_count": null,
   "metadata": {},
   "outputs": [],
   "source": []
  },
  {
   "cell_type": "code",
   "execution_count": null,
   "metadata": {},
   "outputs": [],
   "source": []
  },
  {
   "cell_type": "markdown",
   "metadata": {},
   "source": [
    "<span style=\"font-size: 150%;color:#0000ff\">Krok 1: ZMIENNA DECYZYJNA Czym jest x? </span>\n",
    "\n",
    "Ilość ton przewożonych pomiędzyh magazynami a odbiorcami czyli x11,x12,x13, x14, x21,x22,x23,x24,x31,x32,x33,x34, x41,x42,x43,x44 to są niewiadome \n",
    "\n",
    "\n",
    "<span style=\"font-size: 150%;color:#0000ff\"> Krok 2: Co jest w tabeli?</span>\n",
    "\n",
    "KOSZTY transportu\n",
    "\n",
    "<span style=\"font-size: 150%;color:#0000ff\"> Krok 3: ograniczenie zmiennych decyzyjnych</span>\n",
    "\n",
    "zmiennymi decyzyjnymi jest tutaj ilość zmian. mkasymalnie w miesiącu może być 46 zmian\n",
    "\n",
    "#### $\n",
    "\\left\\{\n",
    "\\begin{align} \n",
    "{x_{11}+x_{12}+ x_{13}+ x_{14}+x_{15}}  & \\leqslant 500 & (1)\\\\\n",
    "{x_{21}+x_{22}+ x_{23}+ x_{24}+x_{25}}  & \\leqslant 400 & (2)\\\\\n",
    "{x_{31}+x_{32}+ x_{33}+ x_{34}+x_{35}}  & \\leqslant 300 & (2)\\\\\n",
    "\\end{align}\n",
    "\\right. \n",
    "$\n",
    "\n",
    "#### $\n",
    "\\left\\{\n",
    "\\begin{align} \n",
    "{x_{11}+x_{21}+x_{31}}  & \\geqslant 300 & (1)\\\\\n",
    "{x_{12}+x_{22}+x_{32}}  & \\geqslant 200 & (2)\\\\\n",
    "{x_{13}+x_{23}+x_{33}}  & \\geqslant 300 & (3)\\\\\n",
    "{x_{14}+x_{24}+x_{34}}  & \\geqslant 200 & (4)\\\\\n",
    "{x_{15}+x_{25}+x_{35}}  & \\geqslant 200 & (4)\\\\\n",
    "\\end{align}\n",
    "\\right. \n",
    "$\n",
    "\n",
    "<span style=\"font-size: 150%;color:#0000ff\"> Krok 5: jaka jest funkcja celu?</span>\n",
    "\n",
    "Minimalizacja tras, kosztów transportu\n",
    "\n",
    "$\n",
    "F(x_{i,j})\\\\=18x_{11}+15x_{12}+25x_{13}+15x_{14}+0x_{15}\\\\+21x_{21}+24x_{22}+10x_{23}+19x_{24}+0x_{25}\\\\+14x_{31}+30x_{32}+19_{33}+17x_{34}+0x_{35} \\to  min\n",
    "$"
   ]
  },
  {
   "cell_type": "code",
   "execution_count": 5,
   "metadata": {},
   "outputs": [
    {
     "name": "stdout",
     "output_type": "stream",
     "text": [
      "/bin/sh: 1: Syntax error: word unexpected (expecting \")\")\n",
      "+-----------+----------+----------+----------+----------+---------+------------+\n",
      "| Dostawa z | odbiór:1 | odbiór:2 | odbiór:3 | odbiór:4 | Magazyn | Wielkość l |\n",
      "| e źródła: |          |          |          |          |  nadwyż | imitów dos |\n",
      "|           |          |          |          |          |  kowy   |    taw     |\n",
      "+-----------+----------+----------+----------+----------+---------+------------+\n",
      "| Dostawca  |    18    |    15    |    25    |    15    |    0    |    500     |\n",
      "|     A     |          |          |          |          |         |            |\n",
      "+-----------+----------+----------+----------+----------+---------+------------+\n",
      "| Dostawca  |    21    |    24    |    10    |    19    |    0    |    400     |\n",
      "|     B     |          |          |          |          |         |            |\n",
      "+-----------+----------+----------+----------+----------+---------+------------+\n",
      "| Dostawca  |    14    |    30    |    19    |    17    |    0    |    300     |\n",
      "|     C     |          |          |          |          |         |            |\n",
      "+-----------+----------+----------+----------+----------+---------+------------+\n",
      "| wielkość  |   300    |   200    |   300    |   200    |   200   |    1200    |\n",
      "| limitu od |          |          |          |          |         |            |\n",
      "|  biorów   |          |          |          |          |         |            |\n",
      "+-----------+----------+----------+----------+----------+---------+------------+\n"
     ]
    }
   ],
   "source": [
    "# <span style=\"color:blue\"> Zadanie 72 STR. 122  \n",
    "\n",
    "![obraz.png](attachment:obraz.png)\n",
    "\n",
    "from beautifultable import BeautifulTable\n",
    "\n",
    "table = BeautifulTable()\n",
    "table.column_headers = [\"Dostawa ze źródła:\", \"odbiór:1\",\"odbiór:2\",\"odbiór:3\",\"odbiór:4\",\"Magazyn nadwyżkowy\",\"Wielkość limitów dostaw\"]\n",
    "table.append_row([\"Dostawca A\",    18,   15,   25, 15,0, 500 ])\n",
    "table.append_row([\"Dostawca B\",    21,   24,   10, 19,0, 400 ])\n",
    "table.append_row([\"Dostawca C\",    14,   30,   19, 17,0, 300 ])\n",
    "table.append_row([\"wielkość limitu odbiorów\",   300, 200,  300,   200,  200,1200])\n",
    "print(table)"
   ]
  },
  {
   "cell_type": "code",
   "execution_count": 6,
   "metadata": {},
   "outputs": [
    {
     "name": "stderr",
     "output_type": "stream",
     "text": [
      "/home/wojciech/anaconda3/lib/python3.7/site-packages/pulp/pulp.py:1114: UserWarning: Spaces are not permitted in the name. Converted to '_'\n",
      "  warnings.warn(\"Spaces are not permitted in the name. Converted to '_'\")\n"
     ]
    }
   ],
   "source": [
    "from pulp import *\n",
    "from fractions import Fraction\n",
    "\n",
    "# zdefiniowanie problemu- to jest taka platforma do wrzucania na nia wszystkiego\n",
    "\n",
    "prob = LpProblem(\"Zadanie 72 STR. 122\",LpMinimize)"
   ]
  },
  {
   "cell_type": "markdown",
   "metadata": {},
   "source": [
    "Wstawianie pierwszych warunków ograniczających: ograniczeniami nieujemności\n",
    "\n",
    "#### $\n",
    "\\left\\{\n",
    "\\begin{align} \n",
    "{x_{11}} & \\geqslant 0 & (4)\\\\\n",
    "{x_{12}} & \\geqslant 0 & (5)\\\\\n",
    "{x_{13}} & \\geqslant 0 & (5)\\\\\n",
    "{x_{14}} & \\geqslant 0 & (5)\\\\\n",
    "{x_{15}} & \\geqslant 0 & (5)\\\\\n",
    "{x_{21}} & \\geqslant 0 & (5)\\\\\n",
    "{x_{22}} & \\geqslant 0 & (5)\\\\\n",
    "{x_{23}} & \\geqslant 0 & (5)\\\\\n",
    "{x_{24}} & \\geqslant 0 & (5)\\\\\n",
    "{x_{25}} & \\geqslant 0 & (5)\\\\\n",
    "{x_{31}} & \\geqslant 0 & (5)\\\\\n",
    "{x_{32}} & \\geqslant 0 & (5)\\\\\n",
    "{x_{33}} & \\geqslant 0 & (5)\\\\\n",
    "{x_{34}} & \\geqslant 0 & (5)\\\\\n",
    "{x_{35}} & \\geqslant 0 & (5)\\\\\n",
    "\\end{align}\n",
    "\\right. \n",
    "$"
   ]
  },
  {
   "cell_type": "code",
   "execution_count": 7,
   "metadata": {},
   "outputs": [],
   "source": [
    "x11=LpVariable(\"x11\",lowBound=0,upBound=None)\n",
    "x12=LpVariable(\"x12\",lowBound=0,upBound=None)\n",
    "x13=LpVariable(\"x13\",lowBound=0,upBound=None)\n",
    "x14=LpVariable(\"x14\",lowBound=0,upBound=None)\n",
    "x15=LpVariable(\"x15\",lowBound=0,upBound=None)\n",
    "x21=LpVariable(\"x21\",lowBound=0,upBound=None)\n",
    "x22=LpVariable(\"x22\",lowBound=0,upBound=None)\n",
    "x23=LpVariable(\"x23\",lowBound=0,upBound=None)\n",
    "x24=LpVariable(\"x24\",lowBound=0,upBound=None)\n",
    "x25=LpVariable(\"x25\",lowBound=0,upBound=None)\n",
    "x31=LpVariable(\"x31\",lowBound=0,upBound=None)\n",
    "x32=LpVariable(\"x32\",lowBound=0,upBound=None)\n",
    "x33=LpVariable(\"x33\",lowBound=0,upBound=None)\n",
    "x34=LpVariable(\"x34\",lowBound=0,upBound=None)\n",
    "x35=LpVariable(\"x35\",lowBound=0,upBound=None)        "
   ]
  },
  {
   "cell_type": "markdown",
   "metadata": {},
   "source": [
    "### Dodajemy do platformy funkcje celu\n",
    "\n",
    " Celem jest maksymalizacja łącznego zysku\n",
    "\n",
    "$\n",
    "F(x_{i,j})\\\\=18x_{11}+15x_{12}+25x_{13}+15x_{14}+0x_{15}\\\\+21x_{21}+24x_{22}+10x_{23}+19x_{24}+0x_{25}\\\\+14x_{31}+30x_{32}+19_{33}+17x_{34}+0x_{35} \\to  min\n",
    "$\n"
   ]
  },
  {
   "cell_type": "code",
   "execution_count": 8,
   "metadata": {},
   "outputs": [],
   "source": [
    "# objective function\n",
    "prob += 18*x11+15*x12+25*x13+15*x14+0*x15+21*x21+24*x22+10*x23+19*x24+0*x25+14*x31+30*x32+19*x33+17*x34+0*x35, \"Minimalizacja\""
   ]
  },
  {
   "cell_type": "code",
   "execution_count": 9,
   "metadata": {},
   "outputs": [
    {
     "name": "stdout",
     "output_type": "stream",
     "text": [
      "Zadanie_72_STR._122:\n",
      "MINIMIZE\n",
      "18*x11 + 15*x12 + 25*x13 + 15*x14 + 21*x21 + 24*x22 + 10*x23 + 19*x24 + 14*x31 + 30*x32 + 19*x33 + 17*x34 + 0\n",
      "VARIABLES\n",
      "x11 Continuous\n",
      "x12 Continuous\n",
      "x13 Continuous\n",
      "x14 Continuous\n",
      "x21 Continuous\n",
      "x22 Continuous\n",
      "x23 Continuous\n",
      "x24 Continuous\n",
      "x31 Continuous\n",
      "x32 Continuous\n",
      "x33 Continuous\n",
      "x34 Continuous\n",
      "\n"
     ]
    }
   ],
   "source": [
    "print(prob)"
   ]
  },
  {
   "cell_type": "markdown",
   "metadata": {},
   "source": [
    "### Dodajemy do platformy główne warunki brzegowe\n",
    "\n",
    "#### $\n",
    "\\left\\{\n",
    "\\begin{align} \n",
    "{x_{11}+x_{12}+ x_{13}+ x_{14}+x_{15}}  & \\leqslant 500 & (1)\\\\\n",
    "{x_{21}+x_{22}+ x_{23}+ x_{24}+x_{25}}  & \\leqslant 400 & (2)\\\\\n",
    "{x_{31}+x_{32}+ x_{33}+ x_{34}+x_{35}}  & \\leqslant 300 & (2)\\\\\n",
    "\\end{align}\n",
    "\\right. \n",
    "$"
   ]
  },
  {
   "cell_type": "code",
   "execution_count": 10,
   "metadata": {},
   "outputs": [],
   "source": [
    "# main constraints\n",
    "prob += x11 + x12 + x13 + x14 + x15 <= 500\n",
    "prob += x21 + x22 + x23 + x24 + x25 <= 400\n",
    "prob += x31 + x32 + x33 + x34 + x35 <= 300"
   ]
  },
  {
   "cell_type": "code",
   "execution_count": 11,
   "metadata": {},
   "outputs": [
    {
     "name": "stdout",
     "output_type": "stream",
     "text": [
      "Zadanie_72_STR._122:\n",
      "MINIMIZE\n",
      "18*x11 + 15*x12 + 25*x13 + 15*x14 + 21*x21 + 24*x22 + 10*x23 + 19*x24 + 14*x31 + 30*x32 + 19*x33 + 17*x34 + 0\n",
      "SUBJECT TO\n",
      "_C1: x11 + x12 + x13 + x14 + x15 <= 500\n",
      "\n",
      "_C2: x21 + x22 + x23 + x24 + x25 <= 400\n",
      "\n",
      "_C3: x31 + x32 + x33 + x34 + x35 <= 300\n",
      "\n",
      "VARIABLES\n",
      "x11 Continuous\n",
      "x12 Continuous\n",
      "x13 Continuous\n",
      "x14 Continuous\n",
      "x15 Continuous\n",
      "x21 Continuous\n",
      "x22 Continuous\n",
      "x23 Continuous\n",
      "x24 Continuous\n",
      "x25 Continuous\n",
      "x31 Continuous\n",
      "x32 Continuous\n",
      "x33 Continuous\n",
      "x34 Continuous\n",
      "x35 Continuous\n",
      "\n"
     ]
    }
   ],
   "source": [
    "print(prob)"
   ]
  },
  {
   "cell_type": "markdown",
   "metadata": {},
   "source": [
    "#### $\n",
    "\\left\\{\n",
    "\\begin{align} \n",
    "{x_{11}+x_{21}+x_{31}}  & \\geqslant 300 & (1)\\\\\n",
    "{x_{12}+x_{22}+x_{32}}  & \\geqslant 200 & (2)\\\\\n",
    "{x_{13}+x_{23}+x_{33}}  & \\geqslant 300 & (3)\\\\\n",
    "{x_{14}+x_{24}+x_{34}}  & \\geqslant 200 & (4)\\\\\n",
    "{x_{15}+x_{25}+x_{35}}  & \\geqslant 200 & (4)\\\\\n",
    "\\end{align}\n",
    "\\right. \n",
    "$"
   ]
  },
  {
   "cell_type": "code",
   "execution_count": 12,
   "metadata": {},
   "outputs": [],
   "source": [
    "# main constraints\n",
    "prob += x11 + x21 + x31  >= 300\n",
    "prob += x12 + x22 + x32  >= 200\n",
    "prob += x13 + x23 + x33  >= 300\n",
    "prob +=  x14 + x24 + x34  >= 200\n",
    "prob +=  x15 + x25 + x35  >= 200"
   ]
  },
  {
   "cell_type": "code",
   "execution_count": 13,
   "metadata": {},
   "outputs": [
    {
     "name": "stdout",
     "output_type": "stream",
     "text": [
      "Zadanie_72_STR._122:\n",
      "MINIMIZE\n",
      "18*x11 + 15*x12 + 25*x13 + 15*x14 + 21*x21 + 24*x22 + 10*x23 + 19*x24 + 14*x31 + 30*x32 + 19*x33 + 17*x34 + 0\n",
      "SUBJECT TO\n",
      "_C1: x11 + x12 + x13 + x14 + x15 <= 500\n",
      "\n",
      "_C2: x21 + x22 + x23 + x24 + x25 <= 400\n",
      "\n",
      "_C3: x31 + x32 + x33 + x34 + x35 <= 300\n",
      "\n",
      "_C4: x11 + x21 + x31 >= 300\n",
      "\n",
      "_C5: x12 + x22 + x32 >= 200\n",
      "\n",
      "_C6: x13 + x23 + x33 >= 300\n",
      "\n",
      "_C7: x14 + x24 + x34 >= 200\n",
      "\n",
      "_C8: x15 + x25 + x35 >= 200\n",
      "\n",
      "VARIABLES\n",
      "x11 Continuous\n",
      "x12 Continuous\n",
      "x13 Continuous\n",
      "x14 Continuous\n",
      "x15 Continuous\n",
      "x21 Continuous\n",
      "x22 Continuous\n",
      "x23 Continuous\n",
      "x24 Continuous\n",
      "x25 Continuous\n",
      "x31 Continuous\n",
      "x32 Continuous\n",
      "x33 Continuous\n",
      "x34 Continuous\n",
      "x35 Continuous\n",
      "\n"
     ]
    }
   ],
   "source": [
    "print(prob)"
   ]
  },
  {
   "cell_type": "markdown",
   "metadata": {},
   "source": [
    "### Rozwiązanie problemu"
   ]
  },
  {
   "cell_type": "code",
   "execution_count": 14,
   "metadata": {},
   "outputs": [
    {
     "name": "stdout",
     "output_type": "stream",
     "text": [
      "prob.solve 1\n",
      "Status: Optimal\n"
     ]
    }
   ],
   "source": [
    "print(\"prob.solve\",prob.solve())\n",
    "# status of the solution\n",
    "print(f\"Status: {LpStatus[prob.status]}\")"
   ]
  },
  {
   "cell_type": "code",
   "execution_count": 15,
   "metadata": {},
   "outputs": [
    {
     "name": "stdout",
     "output_type": "stream",
     "text": [
      "x11 = 0\n",
      "x12 = 200\n",
      "x13 = 0\n",
      "x14 = 200\n",
      "x15 = 100\n",
      "x21 = 0\n",
      "x22 = 0\n",
      "x23 = 300\n",
      "x24 = 0\n",
      "x25 = 100\n",
      "x31 = 300\n",
      "x32 = 0\n",
      "x33 = 0\n",
      "x34 = 0\n",
      "x35 = 0\n"
     ]
    }
   ],
   "source": [
    "for v in prob.variables():\n",
    "    print(f\"{v.name} = {str(Fraction(v.varValue).limit_denominator())}\")\n"
   ]
  },
  {
   "cell_type": "code",
   "execution_count": 16,
   "metadata": {},
   "outputs": [
    {
     "name": "stdout",
     "output_type": "stream",
     "text": [
      "max (x1 + x2) = 13200\n"
     ]
    }
   ],
   "source": [
    "# maximum value of the objective function\n",
    "print(f\"max (x1 + x2) = {str(Fraction(value(prob.objective)).limit_denominator())}\")"
   ]
  },
  {
   "cell_type": "code",
   "execution_count": null,
   "metadata": {},
   "outputs": [],
   "source": []
  },
  {
   "cell_type": "code",
   "execution_count": null,
   "metadata": {},
   "outputs": [],
   "source": []
  },
  {
   "cell_type": "code",
   "execution_count": null,
   "metadata": {},
   "outputs": [],
   "source": []
  },
  {
   "cell_type": "code",
   "execution_count": null,
   "metadata": {},
   "outputs": [],
   "source": []
  },
  {
   "cell_type": "code",
   "execution_count": null,
   "metadata": {},
   "outputs": [],
   "source": []
  },
  {
   "cell_type": "code",
   "execution_count": null,
   "metadata": {},
   "outputs": [],
   "source": []
  },
  {
   "cell_type": "code",
   "execution_count": null,
   "metadata": {},
   "outputs": [],
   "source": []
  }
 ],
 "metadata": {
  "kernelspec": {
   "display_name": "Python 3",
   "language": "python",
   "name": "python3"
  },
  "language_info": {
   "codemirror_mode": {
    "name": "ipython",
    "version": 3
   },
   "file_extension": ".py",
   "mimetype": "text/x-python",
   "name": "python",
   "nbconvert_exporter": "python",
   "pygments_lexer": "ipython3",
   "version": "3.7.4"
  }
 },
 "nbformat": 4,
 "nbformat_minor": 2
}
