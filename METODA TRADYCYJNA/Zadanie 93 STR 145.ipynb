{
 "cells": [
  {
   "cell_type": "markdown",
   "metadata": {},
   "source": [
    "# Zadanie 93 STR 145"
   ]
  },
  {
   "cell_type": "code",
   "execution_count": 172,
   "metadata": {},
   "outputs": [
    {
     "name": "stdout",
     "output_type": "stream",
     "text": [
      "+---------------+-----------+-----------+--------+\n",
      "| Maszynistka:  | Angielski | Niemiecki | Włoski |\n",
      "+---------------+-----------+-----------+--------+\n",
      "| Maszynistka A |    80     |    105    |   79   |\n",
      "+---------------+-----------+-----------+--------+\n",
      "| Maszynistka B |    109    |     x     |   90   |\n",
      "+---------------+-----------+-----------+--------+\n",
      "| Maszynistka C |    109    |    97     |   x    |\n",
      "+---------------+-----------+-----------+--------+\n",
      "| Maszynistka D |    95     |    80     |   85   |\n",
      "+---------------+-----------+-----------+--------+\n"
     ]
    }
   ],
   "source": [
    "from beautifultable import BeautifulTable\n",
    "\n",
    "table = BeautifulTable()\n",
    "table.column_headers = [\"Maszynistka:\", \"Angielski\",\"Niemiecki\",\"Włoski\"]\n",
    "table.append_row([\"Maszynistka A\",  80,  105, 79])\n",
    "table.append_row([\"Maszynistka B\", 109,  \"x\", 90])\n",
    "table.append_row([\"Maszynistka C\", 109,   97, \"x\"])\n",
    "table.append_row([\"Maszynistka D\",  95,   80, 85])\n",
    "print(table)"
   ]
  },
  {
   "cell_type": "markdown",
   "metadata": {
    "scrolled": false
   },
   "source": [
    "\n",
    "# <span style=\"font-size: 150%;color:#0000ff\">Krok 1: ZMIENNA DECYZYJNA Czym jest x? </span>\n",
    "\n",
    "zero-jeden   - dlaczego? bo jest to zmienna decyzyjna, to jest przydział. jeden - ktoś dostaje przydział, \n",
    "zero ktoś nie dostaje przydziału do tej konkretnej roboty. \n",
    "Ponadto są czetry maszynistki.Jedna nie dostanie przydziału do pracy - trzeba utworzyć pracę fantomową.\n",
    "\n",
    "\n",
    "<span style=\"font-size: 150%;color:#0000ff\"> Krok 2: Co jest w tabeli?</span>\n",
    "\n",
    "Szybkość pisanych slów na minutę - to kryterium jakości kwalifikacji, czym, więcej tym lepiej.\n",
    "\n",
    "<span style=\"font-size: 150%;color:#0000ff\"> Krok 3: ograniczenie zmiennych decyzyjnych</span>\n",
    "\n",
    "\n",
    "zmiennymi decyzyjnymi jest tutaj przydział, liczba 1 lub 0. Każdy pracownik ma dostać jedną pracę!\n",
    "Pracownik nie może dostać ujemnej liczby prac.\n",
    "\n",
    "TWORZONA JEST JEDNA WIĘCEJ PRACA FANTOMOWA\n",
    "\n",
    "#### $\n",
    "\\left\\{\n",
    "\\begin{align} \n",
    "{x_{11}+x_{12}+x_{13}+x_{14}} & = 1 & (1)\\\\\n",
    "{x_{21}+x_{22}+x_{23}+x_{24}} & = 1 & (2)\\\\\n",
    "{x_{31}+x_{32}+x_{33}+x_{34}} & = 1 & (3)\\\\\n",
    "{x_{41}+x_{42}+x_{43}+x_{44}} & = 1 & (4)\\\\\n",
    "\\end{align}\n",
    "\\right. \n",
    "$\n",
    "\n",
    "<span style=\"font-size: 150%;color:#0000ff\"> Krok 4: ograniczenie pośrednie - każda robota może być przydzielona tylko raz </span>\n",
    "#### $\n",
    "\\left\\{\n",
    "\\begin{align} \n",
    "{x_{11}+x_{21}+x_{31}+x_{41}} & = 1 \\\\\n",
    "{x_{12}+x_{22}+x_{32}+x_{42}} & = 1 \\\\\n",
    "{x_{13}+x_{23}+x_{33}+x_{43}} & = 1 \\\\\n",
    "{x_{14}+x_{24}+x_{34}+x_{44}} & = 1 \\\\\n",
    "\\end{align}\n",
    "\\right. \n",
    "$\n",
    "\n",
    "\n",
    "<span style=\"font-size: 150%;color:#0000ff\"> Krok 5: jaka jest funkcja celu?</span>\n",
    "\n",
    "Zmaksymalizować efektywność pracy.\n",
    "\n",
    "$\\bbox[5px,border:1px solid red]\n",
    "{\n",
    "\\\\\n",
    "F(x_{i,j})\\\\=80x_{11}+105x_{12}+79x_{13}+0x_{14}\\\\+109x_{21}+90x_{23}+0x_{24}\\\\+100x_{31}+97x_{32}+0x_{34}\\\\+95x_{41}+80x_{42}+85x_{43}+0x_{44}  \\to  max\n",
    "\\qquad \n",
    "} $"
   ]
  },
  {
   "cell_type": "code",
   "execution_count": 173,
   "metadata": {},
   "outputs": [],
   "source": [
    "from pulp import *\n",
    "from fractions import Fraction\n",
    "\n",
    "# zdefiniowanie problemu- to jest taka platforma do wrzucania na nia wszystkiego\n",
    "\n",
    "prob = LpProblem(\"Przykład_93_STR_144\",LpMaximize)"
   ]
  },
  {
   "cell_type": "markdown",
   "metadata": {},
   "source": [
    "Wstawianie pierwszych warunków ograniczających: ograniczeniami nieujemności\n",
    "\n",
    "#### $\n",
    "\\left\\{\n",
    "\\begin{align} \n",
    "{x_{11}} & \\geqslant 0 & (4)\\\\\n",
    "{x_{12}} & \\geqslant 0 & (5)\\\\\n",
    "{x_{13}} & \\geqslant 0 & (5)\\\\\n",
    "{x_{14}} & \\geqslant 0 & (5)\\\\\n",
    "{x_{21}} & \\geqslant 0 & (5)\\\\\n",
    "{x_{22}} & \\geqslant 0 & (5)\\\\\n",
    "{x_{23}} & \\geqslant 0 & (5)\\\\\n",
    "{x_{24}} & \\geqslant 0 & (5)\\\\\n",
    "{x_{31}} & \\geqslant 0 & (5)\\\\\n",
    "{x_{32}} & \\geqslant 0 & (5)\\\\\n",
    "{x_{33}} & \\geqslant 0 & (5)\\\\\n",
    "{x_{34}} & \\geqslant 0 & (5)\\\\\n",
    "{x_{41}} & \\geqslant 0 & (5)\\\\\n",
    "{x_{42}} & \\geqslant 0 & (5)\\\\\n",
    "{x_{43}} & \\geqslant 0 & (5)\\\\\n",
    "{x_{44}} & \\geqslant 0 & (5)\\\\\n",
    "\\end{align}\n",
    "\\right. \n",
    "$"
   ]
  },
  {
   "cell_type": "code",
   "execution_count": 174,
   "metadata": {},
   "outputs": [],
   "source": [
    "# \"Continuous\"\n",
    "# \"Integer\"\n",
    "\n",
    "x11=LpVariable(\"x11\",lowBound=0,upBound=None, cat=\"Integer\")\n",
    "x12=LpVariable(\"x12\",lowBound=0,upBound=None, cat=\"Integer\")\n",
    "x13=LpVariable(\"x13\",lowBound=0,upBound=None, cat=\"Integer\")\n",
    "x14=LpVariable(\"x14\",lowBound=0,upBound=None, cat=\"Integer\")\n",
    "x21=LpVariable(\"x21\",lowBound=0,upBound=None, cat=\"Integer\")\n",
    "x22=LpVariable(\"x22\",lowBound=0,upBound=None, cat=\"Integer\")\n",
    "x23=LpVariable(\"x23\",lowBound=0,upBound=None, cat=\"Integer\")\n",
    "x24=LpVariable(\"x24\",lowBound=0,upBound=None, cat=\"Integer\")\n",
    "x31=LpVariable(\"x31\",lowBound=0,upBound=None, cat=\"Integer\")\n",
    "x32=LpVariable(\"x32\",lowBound=0,upBound=None, cat=\"Integer\")\n",
    "x33=LpVariable(\"x33\",lowBound=0,upBound=None, cat=\"Integer\")\n",
    "x34=LpVariable(\"x34\",lowBound=0,upBound=None, cat=\"Integer\") \n",
    "x41=LpVariable(\"x41\",lowBound=0,upBound=None, cat=\"Integer\")  \n",
    "x42=LpVariable(\"x42\",lowBound=0,upBound=None, cat=\"Integer\")  \n",
    "x43=LpVariable(\"x43\",lowBound=0,upBound=None, cat=\"Integer\")  \n",
    "x44=LpVariable(\"x44\",lowBound=0,upBound=None, cat=\"Integer\")  "
   ]
  },
  {
   "cell_type": "markdown",
   "metadata": {},
   "source": [
    "### Dodajemy do platformy funkcje celu\n",
    "\n",
    "$\n",
    "{\n",
    "\\\\\n",
    "F(x_{i,j})\\\\=80x_{11}+105x_{12}+79x_{13}+0x_{14}\\\\+109x_{21}+90x_{23}+0x_{24}\\\\+100x_{31}+97x_{32}+0x_{34}\\\\+95x_{41}+80x_{42}+85x_{43}+0x_{44}  \\to  max\n",
    "\\qquad \n",
    "} $"
   ]
  },
  {
   "cell_type": "code",
   "execution_count": 175,
   "metadata": {},
   "outputs": [],
   "source": [
    "# objective function\n",
    "prob += 80*x11+105*x12+79*x13+0*x14+109*x21+90*x23+0*x24+100*x31+97*x32+0*x34+95*x41+80*x42+85*x43+0*x44, \"Minimalizacja braków \""
   ]
  },
  {
   "cell_type": "code",
   "execution_count": 176,
   "metadata": {},
   "outputs": [
    {
     "name": "stdout",
     "output_type": "stream",
     "text": [
      "Przykład_93_STR_144:\n",
      "MAXIMIZE\n",
      "80*x11 + 105*x12 + 79*x13 + 109*x21 + 90*x23 + 100*x31 + 97*x32 + 95*x41 + 80*x42 + 85*x43 + 0\n",
      "VARIABLES\n",
      "0 <= x11 Integer\n",
      "0 <= x12 Integer\n",
      "0 <= x13 Integer\n",
      "0 <= x21 Integer\n",
      "0 <= x23 Integer\n",
      "0 <= x31 Integer\n",
      "0 <= x32 Integer\n",
      "0 <= x41 Integer\n",
      "0 <= x42 Integer\n",
      "0 <= x43 Integer\n",
      "\n"
     ]
    }
   ],
   "source": [
    "print(prob)"
   ]
  },
  {
   "cell_type": "markdown",
   "metadata": {},
   "source": [
    "\n",
    "zmiennymi decyzyjnymi jest tutaj przydział, liczba 1 lub 0. Każdy pracownik ma kupić maksymalnie 1 samochód!\n",
    "Pracownik nie może kupić ujemną liczbę samochodów.\n",
    "\n",
    "TWORZONY JEST JEDEN WIĘCEJ SAMOCHÓD FANTOMOWY\n",
    "\n",
    "TWORZONA JEST JEDNA WIĘCEJ PRACA FANTOMOWA\n",
    "\n",
    "#### $\n",
    "\\left\\{\n",
    "\\begin{align} \n",
    "{x_{11}+x_{12}+x_{13}+x_{14}} & = 1 & (1)\\\\\n",
    "{x_{21}+x_{22}+x_{23}+x_{24}} & = 1 & (2)\\\\\n",
    "{x_{31}+x_{32}+x_{33}+x_{34}} & = 1 & (3)\\\\\n",
    "{x_{41}+x_{42}+x_{43}+x_{44}} & = 1 & (4)\\\\\n",
    "\\end{align}\n",
    "\\right. \n",
    "$\n",
    "\n",
    "<span style=\"font-size: 150%;color:#0000ff\"> Krok 4: ograniczenie pośrednie - każda robota może być przydzielona tylko raz </span>\n",
    "#### $\n",
    "\\left\\{\n",
    "\\begin{align} \n",
    "{x_{11}+x_{21}+x_{31}+x_{41}} & = 1 \\\\\n",
    "{x_{12}+x_{22}+x_{32}+x_{42}} & = 1 \\\\\n",
    "{x_{13}+x_{23}+x_{33}+x_{43}} & = 1 \\\\\n",
    "{x_{14}+x_{24}+x_{34}+x_{44}} & = 1 \\\\\n",
    "\\end{align}\n",
    "\\right. \n",
    "$\n"
   ]
  },
  {
   "cell_type": "code",
   "execution_count": 177,
   "metadata": {},
   "outputs": [],
   "source": [
    "# OGRANICZENIA DLA SAMOCHODÓW (CZWARTA KOLUMNA TO SAMOCHÓD FANTOMOWY)\n",
    "prob += x11 + x21 + x31+ x41  == 1\n",
    "prob += x12 + x22 + x32+ x42  == 1\n",
    "prob += x13 + x23 + x33+ x43  == 1\n",
    "prob += x14 + x24 + x34+ x44  == 1"
   ]
  },
  {
   "cell_type": "code",
   "execution_count": 178,
   "metadata": {},
   "outputs": [],
   "source": [
    "# OGRANICZENIA DLA PRACOWNIKÓW (CZWARTA KOLUMNA TO SAMOCHÓD FANTOMOWY)\n",
    "prob += x11 + x12 + x13 + x14 == 1  # PRACOWNIK A\n",
    "prob += x21 + x22 + x23 + x24 == 1  # PRACOWNIK B\n",
    "prob += x31 + x32 + x33 + x34 == 1  # PRACOWNIK C\n",
    "prob += x41 + x42 + x43 + x44 == 1  # PRACOWNIK D"
   ]
  },
  {
   "cell_type": "code",
   "execution_count": 179,
   "metadata": {},
   "outputs": [
    {
     "name": "stdout",
     "output_type": "stream",
     "text": [
      "Przykład_93_STR_144:\n",
      "MAXIMIZE\n",
      "80*x11 + 105*x12 + 79*x13 + 109*x21 + 90*x23 + 100*x31 + 97*x32 + 95*x41 + 80*x42 + 85*x43 + 0\n",
      "SUBJECT TO\n",
      "_C1: x11 + x21 + x31 + x41 = 1\n",
      "\n",
      "_C2: x12 + x22 + x32 + x42 = 1\n",
      "\n",
      "_C3: x13 + x23 + x33 + x43 = 1\n",
      "\n",
      "_C4: x14 + x24 + x34 + x44 = 1\n",
      "\n",
      "_C5: x11 + x12 + x13 + x14 = 1\n",
      "\n",
      "_C6: x21 + x22 + x23 + x24 = 1\n",
      "\n",
      "_C7: x31 + x32 + x33 + x34 = 1\n",
      "\n",
      "_C8: x41 + x42 + x43 + x44 = 1\n",
      "\n",
      "VARIABLES\n",
      "0 <= x11 Integer\n",
      "0 <= x12 Integer\n",
      "0 <= x13 Integer\n",
      "0 <= x14 Integer\n",
      "0 <= x21 Integer\n",
      "0 <= x22 Integer\n",
      "0 <= x23 Integer\n",
      "0 <= x24 Integer\n",
      "0 <= x31 Integer\n",
      "0 <= x32 Integer\n",
      "0 <= x33 Integer\n",
      "0 <= x34 Integer\n",
      "0 <= x41 Integer\n",
      "0 <= x42 Integer\n",
      "0 <= x43 Integer\n",
      "0 <= x44 Integer\n",
      "\n"
     ]
    }
   ],
   "source": [
    "print(prob)"
   ]
  },
  {
   "cell_type": "code",
   "execution_count": 180,
   "metadata": {},
   "outputs": [
    {
     "name": "stdout",
     "output_type": "stream",
     "text": [
      "Przykład_93_STR_144:\n",
      "MAXIMIZE\n",
      "80*x11 + 105*x12 + 79*x13 + 109*x21 + 90*x23 + 100*x31 + 97*x32 + 95*x41 + 80*x42 + 85*x43 + 0\n",
      "SUBJECT TO\n",
      "_C1: x11 + x21 + x31 + x41 = 1\n",
      "\n",
      "_C2: x12 + x22 + x32 + x42 = 1\n",
      "\n",
      "_C3: x13 + x23 + x33 + x43 = 1\n",
      "\n",
      "_C4: x14 + x24 + x34 + x44 = 1\n",
      "\n",
      "_C5: x11 + x12 + x13 + x14 = 1\n",
      "\n",
      "_C6: x21 + x22 + x23 + x24 = 1\n",
      "\n",
      "_C7: x31 + x32 + x33 + x34 = 1\n",
      "\n",
      "_C8: x41 + x42 + x43 + x44 = 1\n",
      "\n",
      "VARIABLES\n",
      "0 <= x11 Integer\n",
      "0 <= x12 Integer\n",
      "0 <= x13 Integer\n",
      "0 <= x14 Integer\n",
      "0 <= x21 Integer\n",
      "0 <= x22 Integer\n",
      "0 <= x23 Integer\n",
      "0 <= x24 Integer\n",
      "0 <= x31 Integer\n",
      "0 <= x32 Integer\n",
      "0 <= x33 Integer\n",
      "0 <= x34 Integer\n",
      "0 <= x41 Integer\n",
      "0 <= x42 Integer\n",
      "0 <= x43 Integer\n",
      "0 <= x44 Integer\n",
      "\n"
     ]
    }
   ],
   "source": [
    "print(prob)"
   ]
  },
  {
   "cell_type": "markdown",
   "metadata": {},
   "source": [
    "### Rozwiązanie problemu"
   ]
  },
  {
   "cell_type": "code",
   "execution_count": 181,
   "metadata": {},
   "outputs": [
    {
     "name": "stdout",
     "output_type": "stream",
     "text": [
      "prob.solve 1\n",
      "Status: Optimal\n"
     ]
    }
   ],
   "source": [
    "print(\"prob.solve\",prob.solve())\n",
    "# status of the solution\n",
    "print(f\"Status: {LpStatus[prob.status]}\")"
   ]
  },
  {
   "cell_type": "code",
   "execution_count": 182,
   "metadata": {},
   "outputs": [
    {
     "name": "stdout",
     "output_type": "stream",
     "text": [
      "x11 = 0\n",
      "x12 = 1\n",
      "x13 = 0\n",
      "x14 = 0\n",
      "x21 = 1\n",
      "x22 = 0\n",
      "x23 = 0\n",
      "x24 = 0\n",
      "x31 = 0\n",
      "x32 = 0\n",
      "x33 = 0\n",
      "x34 = 1\n",
      "x41 = 0\n",
      "x42 = 0\n",
      "x43 = 1\n",
      "x44 = 0\n"
     ]
    }
   ],
   "source": [
    "for v in prob.variables():\n",
    "    print(f\"{v.name} = {str(Fraction(v.varValue).limit_denominator())}\")\n"
   ]
  },
  {
   "cell_type": "code",
   "execution_count": 183,
   "metadata": {},
   "outputs": [
    {
     "name": "stdout",
     "output_type": "stream",
     "text": [
      "max (x11+x12+x13+x21+x22+x23+x31+x32+x33+x41+x42+x43) = 299\n"
     ]
    }
   ],
   "source": [
    "# maximum value of the objective function\n",
    "print(f\"max (x11+x12+x13+x21+x22+x23+x31+x32+x33+x41+x42+x43) = {str(Fraction(value(prob.objective)).limit_denominator())}\")"
   ]
  },
  {
   "cell_type": "code",
   "execution_count": null,
   "metadata": {},
   "outputs": [],
   "source": []
  }
 ],
 "metadata": {
  "kernelspec": {
   "display_name": "Python 3",
   "language": "python",
   "name": "python3"
  },
  "language_info": {
   "codemirror_mode": {
    "name": "ipython",
    "version": 3
   },
   "file_extension": ".py",
   "mimetype": "text/x-python",
   "name": "python",
   "nbconvert_exporter": "python",
   "pygments_lexer": "ipython3",
   "version": "3.7.4"
  }
 },
 "nbformat": 4,
 "nbformat_minor": 2
}
