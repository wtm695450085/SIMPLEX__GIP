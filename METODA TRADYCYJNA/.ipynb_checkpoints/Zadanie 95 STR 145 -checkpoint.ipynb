{
 "cells": [
  {
   "cell_type": "markdown",
   "metadata": {},
   "source": [
    "<span style=\"font-size: 150%;color:white;background:#1155cc\"> Zadanie 95 STR 145"
   ]
  },
  {
   "cell_type": "code",
   "execution_count": 31,
   "metadata": {},
   "outputs": [
    {
     "name": "stdout",
     "output_type": "stream",
     "text": [
      "+--------------+-----------+-----------+-----------+-----------+-----------+\n",
      "| Maszynistka: | produkt_1 | produkt_2 | produkt_3 | produkt_4 | produkt_5 |\n",
      "+--------------+-----------+-----------+-----------+-----------+-----------+\n",
      "|   Zakład 1   |     4     |     3     |     7     |    12     |     3     |\n",
      "+--------------+-----------+-----------+-----------+-----------+-----------+\n",
      "|   Zakład 2   |     2     |     5     |     8     |     1     |     9     |\n",
      "+--------------+-----------+-----------+-----------+-----------+-----------+\n",
      "|   Zakład 3   |     6     |     4     |     8     |     8     |     6     |\n",
      "+--------------+-----------+-----------+-----------+-----------+-----------+\n",
      "|   Zakład 4   |     3     |     2     |     4     |     5     |     6     |\n",
      "+--------------+-----------+-----------+-----------+-----------+-----------+\n",
      "|   Zakład 5   |     7     |     9     |     3     |     2     |     5     |\n",
      "+--------------+-----------+-----------+-----------+-----------+-----------+\n"
     ]
    }
   ],
   "source": [
    "from beautifultable import BeautifulTable\n",
    "\n",
    "table = BeautifulTable()\n",
    "table.column_headers = [\"Maszynistka:\", \"produkt_1\",\"produkt_2\",\"produkt_3\",\"produkt_4\",\"produkt_5\"]\n",
    "table.append_row([\"Zakład 1\", 4,  3, 7, 12, 3])\n",
    "table.append_row([\"Zakład 2\", 2,  5, 8,  1, 9])\n",
    "table.append_row([\"Zakład 3\", 6,  4, 8,  8, 6])\n",
    "table.append_row([\"Zakład 4\", 3,  2, 4,  5, 6])\n",
    "table.append_row([\"Zakład 5\", 7,  9, 3,  2, 5])\n",
    "print(table)"
   ]
  },
  {
   "cell_type": "markdown",
   "metadata": {
    "scrolled": false
   },
   "source": [
    "\n",
    "<span style=\"font-size: 150%;color:#0000ff\">Krok 1: ZMIENNA DECYZYJNA Czym jest x? </span>\n",
    "\n",
    "zero-jeden   - dlaczego? bo jest to zmienna decyzyjna, to jest przydział. jeden - ktoś dostaje przydział, \n",
    "zero ktoś nie dostaje przydziału do tej konkretnej roboty. \n",
    "\n",
    "<span style=\"font-size: 130%;color:#0000ff\"> Krok 2: Co jest w tabeli?</span>\n",
    "\n",
    "ilość set sztuk produkcji na minutę - to kryterium wydajności, czym, więcej tym lepiej.\n",
    "\n",
    "<span style=\"font-size: 130%;color:#0000ff\"> Krok 3: ograniczenie zmiennych decyzyjnych</span>\n",
    "\n",
    "\n",
    "zmiennymi decyzyjnymi jest tutaj przydział, liczba 1 lub 0. Każdy zakład ma produkować tylko jeden produkt!\n",
    "Specjalizacja zakładów.\n",
    "jest równa ilość produktów (5) i zakładów (5) więc każdy zakład będzie produkował tylko jeden rodzaj produktu.\n",
    "Nie trzeba robić produktu fantomowego.\n",
    "\n",
    "#### $\n",
    "\\left\\{\n",
    "\\begin{align} \n",
    "{x_{11}+x_{12}+x_{13}+x_{14}+x_{15}} & = 1 & (zakład 1)\\\\\n",
    "{x_{21}+x_{22}+x_{23}+x_{24}+x_{35}} & = 1 & (zakład 2)\\\\\n",
    "{x_{31}+x_{32}+x_{33}+x_{34}+x_{35}} & = 1 & (zakład 3)\\\\\n",
    "{x_{41}+x_{42}+x_{43}+x_{44}+x_{45}} & = 1 & (zakład 4)\\\\\n",
    "{x_{51}+x_{52}+x_{53}+x_{54}+x_{55}} & = 1 & (zakład 5)\\\\\n",
    "\\end{align}\n",
    "\\right. \n",
    "$\n",
    "\n",
    "<span style=\"font-size: 130%;color:#0000ff\"> Krok 4: ograniczenie pośrednie - każda robota może być przydzielona tylko raz </span>\n",
    "#### $\n",
    "\\left\\{\n",
    "\\begin{align} \n",
    "{x_{11}+x_{21}+x_{31}+x_{41}+x_{51}} & = 1 & (produkt 1)\\\\\n",
    "{x_{12}+x_{22}+x_{32}+x_{42}+x_{52}} & = 1 & (produkt 2)\\\\\n",
    "{x_{13}+x_{23}+x_{33}+x_{43}+x_{53}} & = 1 & (produkt 3)\\\\\n",
    "{x_{14}+x_{24}+x_{34}+x_{44}+x_{54}} & = 1 & (produkt 4)\\\\\n",
    "{x_{15}+x_{25}+x_{35}+x_{45}+x_{55}} & = 1 & (produkt 5)\\\\\n",
    "\\end{align}\n",
    "\\right. \n",
    "$\n",
    "\n",
    "\n",
    "<span style=\"font-size: 130%;color:#0000ff\"> Krok 5: jaka jest funkcja celu?</span>\n",
    "\n",
    "Zmaksymalizować efektywność pracy.\n",
    "\n",
    "$\\bbox[5px,border:1px solid red]\n",
    "{\n",
    "\\\\\n",
    "F(x_{i,j})\\\\\n",
    "=4x_{11}+3x_{12}+7x_{13}+12x_{14}+3x_{15}\\\\\n",
    "+2x_{21}+5x_{23}+8x_{24}+ 1x_{24}+9x_{25}\\\\\n",
    "+6x_{31}+4x_{32}+8x_{33}+ 8x_{34}+6x_{35}\\\\\n",
    "+3x_{41}+2x_{42}+4x_{43}+ 5x_{44}+6x_{45}\\\\\n",
    "+7x_{41}+9x_{42}+3x_{43}+ 2x_{44}+5x_{45}\\\\\n",
    "\\to  max\n",
    "\\qquad \n",
    "} $"
   ]
  },
  {
   "cell_type": "markdown",
   "metadata": {},
   "source": [
    "<span style=\"font-size: 150%;color:white;background:#bf9000\">METODA ZWYKŁA rozwiązania tego zadania"
   ]
  },
  {
   "cell_type": "code",
   "execution_count": 33,
   "metadata": {},
   "outputs": [],
   "source": [
    "from pulp import *\n",
    "from fractions import Fraction\n",
    "\n",
    "# zdefiniowanie problemu- to jest taka platforma do wrzucania na nia wszystkiego\n",
    "\n",
    "prob = LpProblem(\"Przykład_95_STR_145\",LpMaximize)"
   ]
  },
  {
   "cell_type": "markdown",
   "metadata": {},
   "source": [
    "Wstawianie pierwszych warunków ograniczających: ograniczeniami nieujemności\n",
    "\n",
    "#### $\n",
    "\\left\\{\n",
    "\\begin{align} \n",
    "{x_{11}} & \\geqslant 0 & (4)\\\\\n",
    "{x_{12}} & \\geqslant 0 & (5)\\\\\n",
    "{x_{13}} & \\geqslant 0 & (5)\\\\\n",
    "{x_{14}} & \\geqslant 0 & (5)\\\\\n",
    "{x_{15}} & \\geqslant 0 & (5)\\\\\n",
    "{x_{16}} & \\geqslant 0 & (5)\\\\\n",
    "{x_{21}} & \\geqslant 0 & (5)\\\\\n",
    "{x_{22}} & \\geqslant 0 & (5)\\\\\n",
    "{x_{23}} & \\geqslant 0 & (5)\\\\\n",
    "{x_{24}} & \\geqslant 0 & (5)\\\\\n",
    "{x_{25}} & \\geqslant 0 & (5)\\\\\n",
    "{x_{26}} & \\geqslant 0 & (5)\\\\\n",
    "{x_{31}} & \\geqslant 0 & (5)\\\\\n",
    "{x_{32}} & \\geqslant 0 & (5)\\\\\n",
    "{x_{33}} & \\geqslant 0 & (5)\\\\\n",
    "{x_{34}} & \\geqslant 0 & (5)\\\\\n",
    "{x_{35}} & \\geqslant 0 & (5)\\\\\n",
    "{x_{36}} & \\geqslant 0 & (5)\\\\\n",
    "{x_{41}} & \\geqslant 0 & (5)\\\\\n",
    "{x_{42}} & \\geqslant 0 & (5)\\\\\n",
    "{x_{43}} & \\geqslant 0 & (5)\\\\\n",
    "{x_{44}} & \\geqslant 0 & (5)\\\\\n",
    "{x_{45}} & \\geqslant 0 & (5)\\\\\n",
    "{x_{46}} & \\geqslant 0 & (5)\\\\\n",
    "{x_{51}} & \\geqslant 0 & (5)\\\\\n",
    "{x_{52}} & \\geqslant 0 & (5)\\\\\n",
    "{x_{53}} & \\geqslant 0 & (5)\\\\\n",
    "{x_{54}} & \\geqslant 0 & (5)\\\\\n",
    "{x_{55}} & \\geqslant 0 & (5)\\\\\n",
    "{x_{56}} & \\geqslant 0 & (5)\\\\\n",
    "{x_{61}} & \\geqslant 0 & (5)\\\\\n",
    "{x_{62}} & \\geqslant 0 & (5)\\\\\n",
    "{x_{63}} & \\geqslant 0 & (5)\\\\\n",
    "{x_{64}} & \\geqslant 0 & (5)\\\\\n",
    "{x_{65}} & \\geqslant 0 & (5)\\\\\n",
    "{x_{66}} & \\geqslant 0 & (5)\\\\\n",
    "\\end{align}\n",
    "\\right. \n",
    "$"
   ]
  },
  {
   "cell_type": "code",
   "execution_count": null,
   "metadata": {},
   "outputs": [],
   "source": [
    "<span style=\"font-size: 150%;color:white;background:#bf9000\">METODA MACIERZOWA rozwiązania tego zadania"
   ]
  },
  {
   "cell_type": "code",
   "execution_count": 34,
   "metadata": {},
   "outputs": [],
   "source": [
    "# \"Continuous\"\n",
    "# \"Integer\"\n",
    "\n",
    "x11=LpVariable(\"x11\",lowBound=0,upBound=None, cat=\"Integer\")\n",
    "x12=LpVariable(\"x12\",lowBound=0,upBound=None, cat=\"Integer\")\n",
    "x13=LpVariable(\"x13\",lowBound=0,upBound=None, cat=\"Integer\")\n",
    "x14=LpVariable(\"x14\",lowBound=0,upBound=None, cat=\"Integer\")\n",
    "x15=LpVariable(\"x15\",lowBound=0,upBound=None, cat=\"Integer\")\n",
    "x16=LpVariable(\"x16\",lowBound=0,upBound=None, cat=\"Integer\")\n",
    "\n",
    "x21=LpVariable(\"x21\",lowBound=0,upBound=None, cat=\"Integer\")\n",
    "x22=LpVariable(\"x22\",lowBound=0,upBound=None, cat=\"Integer\")\n",
    "x23=LpVariable(\"x23\",lowBound=0,upBound=None, cat=\"Integer\")\n",
    "x24=LpVariable(\"x24\",lowBound=0,upBound=None, cat=\"Integer\")\n",
    "x25=LpVariable(\"x25\",lowBound=0,upBound=None, cat=\"Integer\")\n",
    "x26=LpVariable(\"x26\",lowBound=0,upBound=None, cat=\"Integer\")\n",
    "\n",
    "x31=LpVariable(\"x31\",lowBound=0,upBound=None, cat=\"Integer\")\n",
    "x32=LpVariable(\"x32\",lowBound=0,upBound=None, cat=\"Integer\")\n",
    "x33=LpVariable(\"x33\",lowBound=0,upBound=None, cat=\"Integer\")\n",
    "x34=LpVariable(\"x34\",lowBound=0,upBound=None, cat=\"Integer\") \n",
    "x35=LpVariable(\"x35\",lowBound=0,upBound=None, cat=\"Integer\")\n",
    "x36=LpVariable(\"x36\",lowBound=0,upBound=None, cat=\"Integer\") \n",
    "\n",
    "x41=LpVariable(\"x41\",lowBound=0,upBound=None, cat=\"Integer\")  \n",
    "x42=LpVariable(\"x42\",lowBound=0,upBound=None, cat=\"Integer\")  \n",
    "x43=LpVariable(\"x43\",lowBound=0,upBound=None, cat=\"Integer\")  \n",
    "x44=LpVariable(\"x44\",lowBound=0,upBound=None, cat=\"Integer\")  \n",
    "x45=LpVariable(\"x45\",lowBound=0,upBound=None, cat=\"Integer\")  \n",
    "x46=LpVariable(\"x46\",lowBound=0,upBound=None, cat=\"Integer\")  \n",
    "\n",
    "x51=LpVariable(\"x51\",lowBound=0,upBound=None, cat=\"Integer\")  \n",
    "x52=LpVariable(\"x52\",lowBound=0,upBound=None, cat=\"Integer\")  \n",
    "x53=LpVariable(\"x53\",lowBound=0,upBound=None, cat=\"Integer\")  \n",
    "x54=LpVariable(\"x54\",lowBound=0,upBound=None, cat=\"Integer\")  \n",
    "x55=LpVariable(\"x55\",lowBound=0,upBound=None, cat=\"Integer\")  \n",
    "x56=LpVariable(\"x56\",lowBound=0,upBound=None, cat=\"Integer\") \n",
    "\n",
    "x61=LpVariable(\"x61\",lowBound=0,upBound=None, cat=\"Integer\")  \n",
    "x62=LpVariable(\"x62\",lowBound=0,upBound=None, cat=\"Integer\")  \n",
    "x63=LpVariable(\"x63\",lowBound=0,upBound=None, cat=\"Integer\")  \n",
    "x64=LpVariable(\"x64\",lowBound=0,upBound=None, cat=\"Integer\")  \n",
    "x65=LpVariable(\"x65\",lowBound=0,upBound=None, cat=\"Integer\")  \n",
    "x66=LpVariable(\"x66\",lowBound=0,upBound=None, cat=\"Integer\") "
   ]
  },
  {
   "cell_type": "markdown",
   "metadata": {},
   "source": [
    "### Dodajemy do platformy funkcje celu\n",
    "\n",
    "Zmaksymalizować efektywność pracy.\n",
    "\n",
    "$\\bbox[5px,border:1px solid red]\n",
    "{\n",
    "\\\\\n",
    "F(x_{i,j})\\\\\n",
    "=4x_{11}+3x_{12}+7x_{13}+12x_{14}+3x_{15}\\\\\n",
    "+2x_{21}+5x_{22}+8x_{23}+ 1x_{24}+9x_{25}\\\\\n",
    "+6x_{31}+4x_{32}+8x_{33}+ 8x_{34}+6x_{35}\\\\\n",
    "+3x_{41}+2x_{42}+4x_{43}+ 5x_{44}+6x_{45}\\\\\n",
    "+7x_{51}+9x_{52}+3x_{53}+ 2x_{54}+5x_{55}\\\\\n",
    "\\to  max\n",
    "\\qquad \n",
    "} $"
   ]
  },
  {
   "cell_type": "code",
   "execution_count": 35,
   "metadata": {},
   "outputs": [],
   "source": [
    "# objective function\n",
    "prob +=4*x11+3*x12+7*x13+12*x14+3*x15+2*x21+5*x22+8*x23+1*x24+9*x25+6*x31+4*x32+8*x33+8*x34+6*x35+3*x41+2*x42+4*x43+5*x44+6*x45+7*x51+9*x52+3*x53+2*x54+5*x55, \"maksymalizacja wydajności produkcji \""
   ]
  },
  {
   "cell_type": "code",
   "execution_count": 36,
   "metadata": {},
   "outputs": [
    {
     "name": "stdout",
     "output_type": "stream",
     "text": [
      "Przykład_95_STR_145:\n",
      "MAXIMIZE\n",
      "4*x11 + 3*x12 + 7*x13 + 12*x14 + 3*x15 + 2*x21 + 5*x22 + 8*x23 + 1*x24 + 9*x25 + 6*x31 + 4*x32 + 8*x33 + 8*x34 + 6*x35 + 3*x41 + 2*x42 + 4*x43 + 5*x44 + 6*x45 + 7*x51 + 9*x52 + 3*x53 + 2*x54 + 5*x55 + 0\n",
      "VARIABLES\n",
      "0 <= x11 Integer\n",
      "0 <= x12 Integer\n",
      "0 <= x13 Integer\n",
      "0 <= x14 Integer\n",
      "0 <= x15 Integer\n",
      "0 <= x21 Integer\n",
      "0 <= x22 Integer\n",
      "0 <= x23 Integer\n",
      "0 <= x24 Integer\n",
      "0 <= x25 Integer\n",
      "0 <= x31 Integer\n",
      "0 <= x32 Integer\n",
      "0 <= x33 Integer\n",
      "0 <= x34 Integer\n",
      "0 <= x35 Integer\n",
      "0 <= x41 Integer\n",
      "0 <= x42 Integer\n",
      "0 <= x43 Integer\n",
      "0 <= x44 Integer\n",
      "0 <= x45 Integer\n",
      "0 <= x51 Integer\n",
      "0 <= x52 Integer\n",
      "0 <= x53 Integer\n",
      "0 <= x54 Integer\n",
      "0 <= x55 Integer\n",
      "\n"
     ]
    }
   ],
   "source": [
    "print(prob)"
   ]
  },
  {
   "cell_type": "markdown",
   "metadata": {},
   "source": [
    "#### $\n",
    "\\left\\{\n",
    "\\begin{align} \n",
    "{x_{11}+x_{12}+x_{13}+x_{14}+x_{15}} & = 1 & (zakład 1)\\\\\n",
    "{x_{21}+x_{22}+x_{23}+x_{24}+x_{35}} & = 1 & (zakład 2)\\\\\n",
    "{x_{31}+x_{32}+x_{33}+x_{34}+x_{35}} & = 1 & (zakład 3)\\\\\n",
    "{x_{41}+x_{42}+x_{43}+x_{44}+x_{45}} & = 1 & (zakład 4)\\\\\n",
    "{x_{51}+x_{52}+x_{53}+x_{54}+x_{55}} & = 1 & (zakład 5)\\\\\n",
    "\\end{align}\n",
    "\\right. \n",
    "$\n",
    "\n",
    "<span style=\"font-size: 130%;color:#0000ff\"> Krok 4: ograniczenie pośrednie - każda robota może być przydzielona tylko raz </span>\n",
    "#### $\n",
    "\\left\\{\n",
    "\\begin{align} \n",
    "{x_{11}+x_{21}+x_{31}+x_{41}+x_{51}} & = 1 & (produkt 1)\\\\\n",
    "{x_{12}+x_{22}+x_{32}+x_{42}+x_{52}} & = 1 & (produkt 2)\\\\\n",
    "{x_{13}+x_{23}+x_{33}+x_{43}+x_{53}} & = 1 & (produkt 3)\\\\\n",
    "{x_{14}+x_{24}+x_{34}+x_{44}+x_{54}} & = 1 & (produkt 4)\\\\\n",
    "{x_{15}+x_{25}+x_{35}+x_{45}+x_{55}} & = 1 & (produkt 5)\\\\\n",
    "\\end{align}\n",
    "\\right. \n",
    "$\n"
   ]
  },
  {
   "cell_type": "code",
   "execution_count": 37,
   "metadata": {},
   "outputs": [],
   "source": [
    "# OGRANICZENIA DLA ZAKŁADÓW \n",
    "prob += x11 + x21 + x31+ x41+ x51  == 1\n",
    "prob += x12 + x22 + x32+ x42+ x52  == 1\n",
    "prob += x13 + x23 + x33+ x43+ x53  == 1\n",
    "prob += x14 + x24 + x34+ x44+ x54  == 1\n",
    "prob += x15 + x25 + x35+ x45+ x55  == 1"
   ]
  },
  {
   "cell_type": "code",
   "execution_count": 38,
   "metadata": {},
   "outputs": [],
   "source": [
    "# OGRANICZENIA DLA PRODUKTÓW\n",
    "prob += x11 + x12 + x13 + x14+ x15 == 1  # PRODUKT A\n",
    "prob += x21 + x22 + x23 + x24+ x25 == 1  # PRODUKT B\n",
    "prob += x31 + x32 + x33 + x34+ x35 == 1  # PRODUKT C\n",
    "prob += x41 + x42 + x43 + x44+ x45 == 1  # PRODUKT D\n",
    "prob += x51 + x52 + x53 + x54+ x55 == 1  # PRODUKT D"
   ]
  },
  {
   "cell_type": "code",
   "execution_count": 39,
   "metadata": {},
   "outputs": [
    {
     "name": "stdout",
     "output_type": "stream",
     "text": [
      "Przykład_95_STR_145:\n",
      "MAXIMIZE\n",
      "4*x11 + 3*x12 + 7*x13 + 12*x14 + 3*x15 + 2*x21 + 5*x22 + 8*x23 + 1*x24 + 9*x25 + 6*x31 + 4*x32 + 8*x33 + 8*x34 + 6*x35 + 3*x41 + 2*x42 + 4*x43 + 5*x44 + 6*x45 + 7*x51 + 9*x52 + 3*x53 + 2*x54 + 5*x55 + 0\n",
      "SUBJECT TO\n",
      "_C1: x11 + x21 + x31 + x41 + x51 = 1\n",
      "\n",
      "_C2: x12 + x22 + x32 + x42 + x52 = 1\n",
      "\n",
      "_C3: x13 + x23 + x33 + x43 + x53 = 1\n",
      "\n",
      "_C4: x14 + x24 + x34 + x44 + x54 = 1\n",
      "\n",
      "_C5: x15 + x25 + x35 + x45 + x55 = 1\n",
      "\n",
      "_C6: x11 + x12 + x13 + x14 + x15 = 1\n",
      "\n",
      "_C7: x21 + x22 + x23 + x24 + x25 = 1\n",
      "\n",
      "_C8: x31 + x32 + x33 + x34 + x35 = 1\n",
      "\n",
      "_C9: x41 + x42 + x43 + x44 + x45 = 1\n",
      "\n",
      "_C10: x51 + x52 + x53 + x54 + x55 = 1\n",
      "\n",
      "VARIABLES\n",
      "0 <= x11 Integer\n",
      "0 <= x12 Integer\n",
      "0 <= x13 Integer\n",
      "0 <= x14 Integer\n",
      "0 <= x15 Integer\n",
      "0 <= x21 Integer\n",
      "0 <= x22 Integer\n",
      "0 <= x23 Integer\n",
      "0 <= x24 Integer\n",
      "0 <= x25 Integer\n",
      "0 <= x31 Integer\n",
      "0 <= x32 Integer\n",
      "0 <= x33 Integer\n",
      "0 <= x34 Integer\n",
      "0 <= x35 Integer\n",
      "0 <= x41 Integer\n",
      "0 <= x42 Integer\n",
      "0 <= x43 Integer\n",
      "0 <= x44 Integer\n",
      "0 <= x45 Integer\n",
      "0 <= x51 Integer\n",
      "0 <= x52 Integer\n",
      "0 <= x53 Integer\n",
      "0 <= x54 Integer\n",
      "0 <= x55 Integer\n",
      "\n"
     ]
    }
   ],
   "source": [
    "print(prob)"
   ]
  },
  {
   "cell_type": "code",
   "execution_count": 180,
   "metadata": {},
   "outputs": [
    {
     "name": "stdout",
     "output_type": "stream",
     "text": [
      "Przykład_93_STR_144:\n",
      "MAXIMIZE\n",
      "80*x11 + 105*x12 + 79*x13 + 109*x21 + 90*x23 + 100*x31 + 97*x32 + 95*x41 + 80*x42 + 85*x43 + 0\n",
      "SUBJECT TO\n",
      "_C1: x11 + x21 + x31 + x41 = 1\n",
      "\n",
      "_C2: x12 + x22 + x32 + x42 = 1\n",
      "\n",
      "_C3: x13 + x23 + x33 + x43 = 1\n",
      "\n",
      "_C4: x14 + x24 + x34 + x44 = 1\n",
      "\n",
      "_C5: x11 + x12 + x13 + x14 = 1\n",
      "\n",
      "_C6: x21 + x22 + x23 + x24 = 1\n",
      "\n",
      "_C7: x31 + x32 + x33 + x34 = 1\n",
      "\n",
      "_C8: x41 + x42 + x43 + x44 = 1\n",
      "\n",
      "VARIABLES\n",
      "0 <= x11 Integer\n",
      "0 <= x12 Integer\n",
      "0 <= x13 Integer\n",
      "0 <= x14 Integer\n",
      "0 <= x21 Integer\n",
      "0 <= x22 Integer\n",
      "0 <= x23 Integer\n",
      "0 <= x24 Integer\n",
      "0 <= x31 Integer\n",
      "0 <= x32 Integer\n",
      "0 <= x33 Integer\n",
      "0 <= x34 Integer\n",
      "0 <= x41 Integer\n",
      "0 <= x42 Integer\n",
      "0 <= x43 Integer\n",
      "0 <= x44 Integer\n",
      "\n"
     ]
    }
   ],
   "source": [
    "print(prob)"
   ]
  },
  {
   "cell_type": "markdown",
   "metadata": {},
   "source": [
    "### Rozwiązanie problemu"
   ]
  },
  {
   "cell_type": "code",
   "execution_count": 40,
   "metadata": {},
   "outputs": [
    {
     "name": "stdout",
     "output_type": "stream",
     "text": [
      "prob.solve 1\n",
      "Status: Optimal\n"
     ]
    }
   ],
   "source": [
    "print(\"prob.solve\",prob.solve())\n",
    "# status of the solution\n",
    "print(f\"Status: {LpStatus[prob.status]}\")"
   ]
  },
  {
   "cell_type": "code",
   "execution_count": 41,
   "metadata": {},
   "outputs": [
    {
     "name": "stdout",
     "output_type": "stream",
     "text": [
      "x11 = 0\n",
      "x12 = 0\n",
      "x13 = 0\n",
      "x14 = 1\n",
      "x15 = 0\n",
      "x21 = 0\n",
      "x22 = 0\n",
      "x23 = 0\n",
      "x24 = 0\n",
      "x25 = 1\n",
      "x31 = 0\n",
      "x32 = 0\n",
      "x33 = 1\n",
      "x34 = 0\n",
      "x35 = 0\n",
      "x41 = 1\n",
      "x42 = 0\n",
      "x43 = 0\n",
      "x44 = 0\n",
      "x45 = 0\n",
      "x51 = 0\n",
      "x52 = 1\n",
      "x53 = 0\n",
      "x54 = 0\n",
      "x55 = 0\n"
     ]
    }
   ],
   "source": [
    "for v in prob.variables():\n",
    "    print(f\"{v.name} = {str(Fraction(v.varValue).limit_denominator())}\")\n"
   ]
  },
  {
   "cell_type": "code",
   "execution_count": 42,
   "metadata": {},
   "outputs": [
    {
     "name": "stdout",
     "output_type": "stream",
     "text": [
      "max (x11+x12+x13+x21+x22+x23+x31+x32+x33+x41+x42+x43) = 41\n"
     ]
    }
   ],
   "source": [
    "# maximum value of the objective function\n",
    "print(f\"max (x11+x12+x13+x21+x22+x23+x31+x32+x33+x41+x42+x43) = {str(Fraction(value(prob.objective)).limit_denominator())}\")"
   ]
  },
  {
   "cell_type": "markdown",
   "metadata": {},
   "source": [
    "<span style=\"font-size: 130%;color:#0000ff\">MAKSYMAKLIZACJA WYDAJNOŚCI TO 41 TYS. SZTUK WYROBÓW NA MINUTĘ"
   ]
  },
  {
   "cell_type": "markdown",
   "metadata": {},
   "source": [
    "<span style=\"font-size: 150%;color:white;background:#bf9000\">METODA MACIERZOWA rozwiązania tego zadania"
   ]
  },
  {
   "cell_type": "code",
   "execution_count": 43,
   "metadata": {},
   "outputs": [],
   "source": [
    "from pulp import *\n",
    "\n",
    "# Tworze listę zakładów\n",
    "Warehouses = [\"Zakład 1\",\"Zakład 2\",\"Zakład 3\",\"Zakład 4\",\"Zakład 5\"]\n",
    "\n",
    "# Tworze słownik ile każdy zakład może maksymalnie produkować detali\n",
    "supply = {\"Zakład 1\": 1,\n",
    "          \"Zakład 2\": 1,\n",
    "          \"Zakład 3\": 1,\n",
    "          \"Zakład 4\": 1,\n",
    "          \"Zakład 5\": 1\n",
    "         }"
   ]
  },
  {
   "cell_type": "code",
   "execution_count": 44,
   "metadata": {},
   "outputs": [
    {
     "name": "stdout",
     "output_type": "stream",
     "text": [
      "Warehouses: ['Zakład 1', 'Zakład 2', 'Zakład 3', 'Zakład 4', 'Zakład 5']\n",
      "supply: {'Zakład 1': 1, 'Zakład 2': 1, 'Zakład 3': 1, 'Zakład 4': 1, 'Zakład 5': 1}\n",
      "Bars: ['produkt_1', 'produkt_2', 'produkt_3', 'produkt_4', 'produkt_5']\n",
      "Demand: {'produkt_1': 1, 'produkt_2': 1, 'produkt_3': 1, 'produkt_4': 1, 'produkt_5': 1}\n"
     ]
    }
   ],
   "source": [
    "# Tworzę listę produktów\n",
    "Bars = [\"produkt_1\", \"produkt_2\", \"produkt_3\",\"produkt_4\",\"produkt_5\"]\n",
    "\n",
    "# dokładna ilość detali do produkcji\n",
    "demand = {\"produkt_1\": 1,\n",
    "        \"produkt_2\": 1,\n",
    "        \"produkt_3\": 1,\n",
    "        \"produkt_4\": 1,\n",
    "        \"produkt_5\": 1  \n",
    "        }\n",
    "print('Warehouses:',Warehouses)\n",
    "print('supply:',supply)\n",
    "print('Bars:',Bars)\n",
    "print('Demand:',demand)"
   ]
  },
  {
   "cell_type": "markdown",
   "metadata": {},
   "source": [
    "### <span style=\"color:blue\"> Są w różnych kategoriach. maszyny są w minutach, detale są w sztukach"
   ]
  },
  {
   "cell_type": "code",
   "execution_count": 45,
   "metadata": {},
   "outputs": [
    {
     "name": "stdout",
     "output_type": "stream",
     "text": [
      "+--------------+-----------+-----------+-----------+-----------+-----------+\n",
      "| Maszynistka: | produkt_1 | produkt_2 | produkt_3 | produkt_4 | produkt_5 |\n",
      "+--------------+-----------+-----------+-----------+-----------+-----------+\n",
      "|   Zakład 1   |     4     |     3     |     7     |    12     |     3     |\n",
      "+--------------+-----------+-----------+-----------+-----------+-----------+\n",
      "|   Zakład 2   |     2     |     5     |     8     |     1     |     9     |\n",
      "+--------------+-----------+-----------+-----------+-----------+-----------+\n",
      "|   Zakład 3   |     6     |     4     |     8     |     8     |     6     |\n",
      "+--------------+-----------+-----------+-----------+-----------+-----------+\n",
      "|   Zakład 4   |     3     |     2     |     4     |     5     |     6     |\n",
      "+--------------+-----------+-----------+-----------+-----------+-----------+\n",
      "|   Zakład 5   |     7     |     9     |     3     |     2     |     5     |\n",
      "+--------------+-----------+-----------+-----------+-----------+-----------+\n"
     ]
    }
   ],
   "source": [
    "from beautifultable import BeautifulTable\n",
    "\n",
    "table = BeautifulTable()\n",
    "table.column_headers = [\"Maszynistka:\", \"produkt_1\",\"produkt_2\",\"produkt_3\",\"produkt_4\",\"produkt_5\"]\n",
    "table.append_row([\"Zakład 1\", 4,  3, 7, 12, 3])\n",
    "table.append_row([\"Zakład 2\", 2,  5, 8,  1, 9])\n",
    "table.append_row([\"Zakład 3\", 6,  4, 8,  8, 6])\n",
    "table.append_row([\"Zakład 4\", 3,  2, 4,  5, 6])\n",
    "table.append_row([\"Zakład 5\", 7,  9, 3,  2, 5])\n",
    "print(table)"
   ]
  },
  {
   "cell_type": "code",
   "execution_count": 46,
   "metadata": {},
   "outputs": [],
   "source": [
    "\n",
    "        #produkty\n",
    "        #1, 2, 3,  4, 5   \n",
    "\n",
    "costs = [   \n",
    "        [4, 3, 7, 12, 3],  #zakład_1\n",
    "        [2, 5, 8,  1, 9],  #zakład_2\n",
    "        [6, 4, 8,  8, 6],  #zakład_3\n",
    "        [3, 2, 4,  5, 6],  #zakład_4\n",
    "        [7, 9, 3,  2, 5]   #zakład_5\n",
    "         ]"
   ]
  },
  {
   "cell_type": "code",
   "execution_count": 47,
   "metadata": {},
   "outputs": [
    {
     "data": {
      "text/plain": [
       "{'Zakład 1': {'produkt_1': 4,\n",
       "  'produkt_2': 3,\n",
       "  'produkt_3': 7,\n",
       "  'produkt_4': 12,\n",
       "  'produkt_5': 3},\n",
       " 'Zakład 2': {'produkt_1': 2,\n",
       "  'produkt_2': 5,\n",
       "  'produkt_3': 8,\n",
       "  'produkt_4': 1,\n",
       "  'produkt_5': 9},\n",
       " 'Zakład 3': {'produkt_1': 6,\n",
       "  'produkt_2': 4,\n",
       "  'produkt_3': 8,\n",
       "  'produkt_4': 8,\n",
       "  'produkt_5': 6},\n",
       " 'Zakład 4': {'produkt_1': 3,\n",
       "  'produkt_2': 2,\n",
       "  'produkt_3': 4,\n",
       "  'produkt_4': 5,\n",
       "  'produkt_5': 6},\n",
       " 'Zakład 5': {'produkt_1': 7,\n",
       "  'produkt_2': 9,\n",
       "  'produkt_3': 3,\n",
       "  'produkt_4': 2,\n",
       "  'produkt_5': 5}}"
      ]
     },
     "execution_count": 47,
     "metadata": {},
     "output_type": "execute_result"
    }
   ],
   "source": [
    "# The cost data is made into a dictionary\n",
    "costs = makeDict([Warehouses,Bars],costs,0)\n",
    "costs"
   ]
  },
  {
   "cell_type": "code",
   "execution_count": 49,
   "metadata": {},
   "outputs": [
    {
     "name": "stdout",
     "output_type": "stream",
     "text": [
      "Beer_Distribution_Problem:\n",
      "MAXIMIZE\n",
      "None\n",
      "VARIABLES\n",
      "\n"
     ]
    }
   ],
   "source": [
    "# Creates the 'prob' variable to contain the problem data\n",
    "prob = LpProblem(\"Beer Distribution Problem\",LpMaximize)\n",
    "print(prob)"
   ]
  },
  {
   "cell_type": "code",
   "execution_count": 50,
   "metadata": {},
   "outputs": [
    {
     "name": "stdout",
     "output_type": "stream",
     "text": [
      "[('Zakład 1', 'produkt_1'), ('Zakład 1', 'produkt_2'), ('Zakład 1', 'produkt_3'), ('Zakład 1', 'produkt_4'), ('Zakład 1', 'produkt_5'), ('Zakład 2', 'produkt_1'), ('Zakład 2', 'produkt_2'), ('Zakład 2', 'produkt_3'), ('Zakład 2', 'produkt_4'), ('Zakład 2', 'produkt_5'), ('Zakład 3', 'produkt_1'), ('Zakład 3', 'produkt_2'), ('Zakład 3', 'produkt_3'), ('Zakład 3', 'produkt_4'), ('Zakład 3', 'produkt_5'), ('Zakład 4', 'produkt_1'), ('Zakład 4', 'produkt_2'), ('Zakład 4', 'produkt_3'), ('Zakład 4', 'produkt_4'), ('Zakład 4', 'produkt_5'), ('Zakład 5', 'produkt_1'), ('Zakład 5', 'produkt_2'), ('Zakład 5', 'produkt_3'), ('Zakład 5', 'produkt_4'), ('Zakład 5', 'produkt_5')]\n"
     ]
    }
   ],
   "source": [
    "# Creates a list of tuples containing all the possible routes for transport\n",
    "Routes = [(w,b) for w in Warehouses for b in Bars]\n",
    "print(Routes)"
   ]
  },
  {
   "cell_type": "code",
   "execution_count": 51,
   "metadata": {},
   "outputs": [
    {
     "data": {
      "text/plain": [
       "{'Zakład 1': {'produkt_1': Route_Zakład_1_produkt_1,\n",
       "  'produkt_2': Route_Zakład_1_produkt_2,\n",
       "  'produkt_3': Route_Zakład_1_produkt_3,\n",
       "  'produkt_4': Route_Zakład_1_produkt_4,\n",
       "  'produkt_5': Route_Zakład_1_produkt_5},\n",
       " 'Zakład 2': {'produkt_1': Route_Zakład_2_produkt_1,\n",
       "  'produkt_2': Route_Zakład_2_produkt_2,\n",
       "  'produkt_3': Route_Zakład_2_produkt_3,\n",
       "  'produkt_4': Route_Zakład_2_produkt_4,\n",
       "  'produkt_5': Route_Zakład_2_produkt_5},\n",
       " 'Zakład 3': {'produkt_1': Route_Zakład_3_produkt_1,\n",
       "  'produkt_2': Route_Zakład_3_produkt_2,\n",
       "  'produkt_3': Route_Zakład_3_produkt_3,\n",
       "  'produkt_4': Route_Zakład_3_produkt_4,\n",
       "  'produkt_5': Route_Zakład_3_produkt_5},\n",
       " 'Zakład 4': {'produkt_1': Route_Zakład_4_produkt_1,\n",
       "  'produkt_2': Route_Zakład_4_produkt_2,\n",
       "  'produkt_3': Route_Zakład_4_produkt_3,\n",
       "  'produkt_4': Route_Zakład_4_produkt_4,\n",
       "  'produkt_5': Route_Zakład_4_produkt_5},\n",
       " 'Zakład 5': {'produkt_1': Route_Zakład_5_produkt_1,\n",
       "  'produkt_2': Route_Zakład_5_produkt_2,\n",
       "  'produkt_3': Route_Zakład_5_produkt_3,\n",
       "  'produkt_4': Route_Zakład_5_produkt_4,\n",
       "  'produkt_5': Route_Zakład_5_produkt_5}}"
      ]
     },
     "execution_count": 51,
     "metadata": {},
     "output_type": "execute_result"
    }
   ],
   "source": [
    "# A dictionary called 'Vars' is created to contain the referenced variables(the routes)\n",
    "vars = LpVariable.dicts(\"Route\",(Warehouses,Bars),0,None,LpInteger)\n",
    "vars"
   ]
  },
  {
   "cell_type": "code",
   "execution_count": 52,
   "metadata": {},
   "outputs": [],
   "source": [
    "# The objective function is added to 'prob' first\n",
    "prob += lpSum([vars[w][b]*costs[w][b] for (w,b) in Routes]), \"Sum_of_Transporting_Costs\"\n",
    "\n",
    "# The supply maximum constraints are added to prob for each supply node (warehouse)\n",
    "for w in Warehouses:\n",
    "    prob += lpSum([vars[w][b] for b in Bars])<=supply[w], \"Sum_of_Products_out_of_Warehouse_%s\"%w\n",
    "\n",
    "    # The demand minimum constraints are added to prob for each demand node (bar)\n",
    "for b in Bars:\n",
    "    prob += lpSum([vars[w][b] for w in Warehouses])>=demand[b], \"Sum_of_Products_into_Bar%s\"%b"
   ]
  },
  {
   "cell_type": "code",
   "execution_count": 53,
   "metadata": {},
   "outputs": [
    {
     "data": {
      "text/plain": [
       "[Route_Zakład_1_produkt_1,\n",
       " Route_Zakład_1_produkt_2,\n",
       " Route_Zakład_1_produkt_3,\n",
       " Route_Zakład_1_produkt_4,\n",
       " Route_Zakład_1_produkt_5,\n",
       " Route_Zakład_2_produkt_1,\n",
       " Route_Zakład_2_produkt_2,\n",
       " Route_Zakład_2_produkt_3,\n",
       " Route_Zakład_2_produkt_4,\n",
       " Route_Zakład_2_produkt_5,\n",
       " Route_Zakład_3_produkt_1,\n",
       " Route_Zakład_3_produkt_2,\n",
       " Route_Zakład_3_produkt_3,\n",
       " Route_Zakład_3_produkt_4,\n",
       " Route_Zakład_3_produkt_5,\n",
       " Route_Zakład_4_produkt_1,\n",
       " Route_Zakład_4_produkt_2,\n",
       " Route_Zakład_4_produkt_3,\n",
       " Route_Zakład_4_produkt_4,\n",
       " Route_Zakład_4_produkt_5,\n",
       " Route_Zakład_5_produkt_1,\n",
       " Route_Zakład_5_produkt_2,\n",
       " Route_Zakład_5_produkt_3,\n",
       " Route_Zakład_5_produkt_4,\n",
       " Route_Zakład_5_produkt_5]"
      ]
     },
     "execution_count": 53,
     "metadata": {},
     "output_type": "execute_result"
    }
   ],
   "source": [
    "# The problem data is written to an .lp file\n",
    "prob.writeLP(\"BeerDistributionProblem.lp\")"
   ]
  },
  {
   "cell_type": "code",
   "execution_count": 54,
   "metadata": {},
   "outputs": [
    {
     "name": "stdout",
     "output_type": "stream",
     "text": [
      "prob.solve 1\n",
      "Status: Optimal\n"
     ]
    }
   ],
   "source": [
    "# The problem is solved using PuLP's choice of Solver\n",
    "print(\"prob.solve\",prob.solve())\n",
    "\n",
    "# The status of the solution is printed to the screen\n",
    "print(\"Status:\", LpStatus[prob.status])"
   ]
  },
  {
   "cell_type": "code",
   "execution_count": 55,
   "metadata": {},
   "outputs": [
    {
     "name": "stdout",
     "output_type": "stream",
     "text": [
      "Route_Zakład_1_produkt_1 = 0.0\n",
      "Route_Zakład_1_produkt_2 = 0.0\n",
      "Route_Zakład_1_produkt_3 = 0.0\n",
      "Route_Zakład_1_produkt_4 = 1.0\n",
      "Route_Zakład_1_produkt_5 = 0.0\n",
      "Route_Zakład_2_produkt_1 = 0.0\n",
      "Route_Zakład_2_produkt_2 = 0.0\n",
      "Route_Zakład_2_produkt_3 = 1.0\n",
      "Route_Zakład_2_produkt_4 = 0.0\n",
      "Route_Zakład_2_produkt_5 = 0.0\n",
      "Route_Zakład_3_produkt_1 = 1.0\n",
      "Route_Zakład_3_produkt_2 = 0.0\n",
      "Route_Zakład_3_produkt_3 = 0.0\n",
      "Route_Zakład_3_produkt_4 = 0.0\n",
      "Route_Zakład_3_produkt_5 = 0.0\n",
      "Route_Zakład_4_produkt_1 = 0.0\n",
      "Route_Zakład_4_produkt_2 = 0.0\n",
      "Route_Zakład_4_produkt_3 = 0.0\n",
      "Route_Zakład_4_produkt_4 = 0.0\n",
      "Route_Zakład_4_produkt_5 = 1.0\n",
      "Route_Zakład_5_produkt_1 = 0.0\n",
      "Route_Zakład_5_produkt_2 = 1.0\n",
      "Route_Zakład_5_produkt_3 = 0.0\n",
      "Route_Zakład_5_produkt_4 = 0.0\n",
      "Route_Zakład_5_produkt_5 = 0.0\n"
     ]
    }
   ],
   "source": [
    "# Each of the variables is printed with it's resolved optimum value\n",
    "for v in prob.variables():\n",
    "    print(v.name, \"=\", v.varValue)"
   ]
  },
  {
   "cell_type": "code",
   "execution_count": 57,
   "metadata": {},
   "outputs": [
    {
     "name": "stdout",
     "output_type": "stream",
     "text": [
      "wydajność produkcji w tys. min =  41.0\n"
     ]
    }
   ],
   "source": [
    "# The optimised objective function value is printed to the screen    \n",
    "print(\"wydajność produkcji w tys. min = \", value(prob.objective))"
   ]
  },
  {
   "cell_type": "code",
   "execution_count": null,
   "metadata": {},
   "outputs": [],
   "source": []
  }
 ],
 "metadata": {
  "kernelspec": {
   "display_name": "Python 3",
   "language": "python",
   "name": "python3"
  },
  "language_info": {
   "codemirror_mode": {
    "name": "ipython",
    "version": 3
   },
   "file_extension": ".py",
   "mimetype": "text/x-python",
   "name": "python",
   "nbconvert_exporter": "python",
   "pygments_lexer": "ipython3",
   "version": "3.7.4"
  }
 },
 "nbformat": 4,
 "nbformat_minor": 2
}
