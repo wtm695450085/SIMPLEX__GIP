{
 "cells": [
  {
   "cell_type": "markdown",
   "metadata": {},
   "source": [
    "# Zadanie 91 STR 144"
   ]
  },
  {
   "cell_type": "code",
   "execution_count": 1,
   "metadata": {
    "scrolled": true
   },
   "outputs": [
    {
     "name": "stdout",
     "output_type": "stream",
     "text": [
      "+-------------------+--------+--------+--------+--------+--------+-------------+\n",
      "|      wyroby:      | rob. 1 | rob. 2 | rob. 3 | rob. 4 | rob. 5 | Nie może by |\n",
      "|                   |        |        |        |        |        | ć ujemnych  |\n",
      "|                   |        |        |        |        |        |   braków    |\n",
      "+-------------------+--------+--------+--------+--------+--------+-------------+\n",
      "|     wyroby 1      |   30   |   36   |   32   |   26   |   40   |    >= 0     |\n",
      "+-------------------+--------+--------+--------+--------+--------+-------------+\n",
      "|     wyroby 2      |   32   |   22   |   x    |   30   |   35   |    >= 0     |\n",
      "+-------------------+--------+--------+--------+--------+--------+-------------+\n",
      "|     wyroby 3      |   18   |   26   |   24   |   16   |   20   |    >= 0     |\n",
      "+-------------------+--------+--------+--------+--------+--------+-------------+\n",
      "|     wyroby 4      |   37   |   30   |   28   |   16   |   19   |    >= 0     |\n",
      "+-------------------+--------+--------+--------+--------+--------+-------------+\n",
      "| każdy robotnik mu |   =1   |   =1   |   =1   |   =1   |   =1   |             |\n",
      "| si wykonać jedną  |        |        |        |        |        |             |\n",
      "|       pracę       |        |        |        |        |        |             |\n",
      "+-------------------+--------+--------+--------+--------+--------+-------------+\n"
     ]
    }
   ],
   "source": [
    "from beautifultable import BeautifulTable\n",
    "\n",
    "table = BeautifulTable()\n",
    "table.column_headers = [\"wyroby:\", \"rob. 1\",\"rob. 2\",\"rob. 3\", \"rob. 4\",\"rob. 5\",\"Nie może być ujemnych braków\"]\n",
    "table.append_row([\"wyroby 1\", \"30\",    \"36\", \"32\",\"26\",\"40\", \">= 0\"])\n",
    "table.append_row([\"wyroby 2\", \"32\",    \"22\", \"x \",\"30\",\"35\", \">= 0\"])\n",
    "table.append_row([\"wyroby 3\", \"18\",    \"26\", \"24\",\"16\", \"20\",\">= 0\"])\n",
    "table.append_row([\"wyroby 4\", \"37\",    \"30\", \"28\",\"16\",\"19\", \">= 0\"])\n",
    "table.append_row([\"każdy robotnik musi wykonać jedną pracę\", \"=1\",    \"=1\", \"=1\",\"=1\",\"=1\", \"\"])\n",
    "print(table)"
   ]
  },
  {
   "cell_type": "markdown",
   "metadata": {},
   "source": [
    "<span style=\"font-size: 150%;color:#0000ff\">Krok 1: ZMIENNA DECYZYJNA Czym jest x? </span>\n",
    "\n",
    "zero-jeden   - dlaczego? bo jest to zmienna decyzyjna, to jest przydział. jeden - przydzielamy kogoś, zero nie przydzielamy kogoś. \n",
    "\n",
    "\n",
    "<span style=\"font-size: 150%;color:#0000ff\"> Krok 2: Co jest w tabeli?</span>\n",
    "\n",
    "ilość braków na osobę i detal\n",
    "\n",
    "<span style=\"font-size: 150%;color:#0000ff\"> Krok 3: ograniczenie zmiennych decyzyjnych</span>\n",
    "\n",
    "zmiennymi decyzyjnymi jest tutaj przydział, liczba 1 lub 0. Każdy pracownik ma wykonac jedną pracę!\n",
    "\n",
    "#### $\n",
    "\\left\\{\n",
    "\\begin{align} \n",
    "{x_{11}+x_{21}+x_{31}+x_{41}} & = 1 & (1)\\\\\n",
    "{x_{12}+x_{22}+x_{32}+x_{42}} & = 1 & (2)\\\\\n",
    "{x_{13}+x_{23}+x_{33}+x_{43}} & = 1 & (3)\\\\\n",
    "{x_{14}+x_{24}+x_{34}+x_{44}} & = 1 & (4)\\\\\n",
    "{x_{15}+x_{25}+x_{35}+x_{45}} & = 1 & (5)\\\\\n",
    "\\end{align}\n",
    "\\right. \n",
    "$\n",
    "\n",
    "<span style=\"font-size: 150%;color:#0000ff\"> Krok 4: ograniczenie pośrednie - nie związane bezpośrednio ze zmiennymi decyzyjnymi jaką jest przydział, to będzie:przydział razy ilość braków</span>\n",
    "\n",
    "#### $\n",
    "\\left\\{\n",
    "\\begin{align} \n",
    "{30x_{11}+36x_{12}+32x_{13}+26x_{14}+40x_{15}} & \\geqslant 0 & (6)\\\\\n",
    "{32x_{21}+22x_{22}+30x_{24}+35x_{25}} & \\geqslant 0 & (7)\\\\\n",
    "{18x_{31}+26x_{32}+24x_{33}+16x_{34}+20x_{35}} & \\geqslant 0 & (8)\\\\\n",
    "{37x_{41}+30x_{42}+28x_{43}+16x_{44}+19x_{45}} & \\geqslant 0 & (9)\\\\\n",
    "\\end{align}\n",
    "\\right. \n",
    "$\n",
    "\n",
    "\n",
    "<span style=\"font-size: 150%;color:#0000ff\"> Krok 5: jaka jest funkcja celu?</span>\n",
    "\n",
    "Zmaksymalizować ilość braków.\n",
    "\n",
    "$\\bbox[5px,border:1px solid red]\n",
    "{\n",
    "\\\\\n",
    "F(x_{i,j})=30*x_{11}+36*x_{12}+32*x_{13}+26*x_{14}+40*x_{15}+32*x_{21}+22*x_{22}+30*x_{24}+35*x_{25}+18*x_{31}+26*x_{32}+24*x_{33}+16*x_{34}+20*x_{35}+37*x_{41}+30*x_{42}+28*x_{43}+16*x_{44}+19*x_{45}  \\to  min\n",
    "\\qquad \n",
    "} $"
   ]
  },
  {
   "cell_type": "code",
   "execution_count": 2,
   "metadata": {},
   "outputs": [],
   "source": [
    "from pulp import *\n",
    "from fractions import Fraction\n",
    "\n",
    "# zdefiniowanie problemu- to jest taka platforma do wrzucania na nia wszystkiego\n",
    "\n",
    "prob = LpProblem(\"Zadanie_91_STR_144\",LpMinimize)"
   ]
  },
  {
   "cell_type": "markdown",
   "metadata": {},
   "source": [
    "Wstawianie pierwszych warunków ograniczających: ograniczeniami nieujemności\n",
    "\n",
    "#### $\n",
    "\\left\\{\n",
    "\\begin{align} \n",
    "{x_{11}} & \\geqslant 0 & (4)\\\\\n",
    "{x_{12}} & \\geqslant 0 & (5)\\\\\n",
    "{x_{13}} & \\geqslant 0 & (5)\\\\\n",
    "{x_{14}} & \\geqslant 0 & (5)\\\\\n",
    "{x_{15}} & \\geqslant 0 & (5)\\\\\n",
    "{x_{21}} & \\geqslant 0 & (5)\\\\\n",
    "{x_{22}} & \\geqslant 0 & (5)\\\\\n",
    "{x_{23}} & \\geqslant 0 & (5)\\\\\n",
    "{x_{24}} & \\geqslant 0 & (5)\\\\\n",
    "{x_{25}} & \\geqslant 0 & (5)\\\\\n",
    "{x_{31}} & \\geqslant 0 & (5)\\\\\n",
    "{x_{32}} & \\geqslant 0 & (5)\\\\\n",
    "{x_{33}} & \\geqslant 0 & (5)\\\\\n",
    "{x_{34}} & \\geqslant 0 & (5)\\\\\n",
    "{x_{35}} & \\geqslant 0 & (5)\\\\\n",
    "\\end{align}\n",
    "\\right. \n",
    "$"
   ]
  },
  {
   "cell_type": "code",
   "execution_count": 3,
   "metadata": {},
   "outputs": [],
   "source": [
    "# \"Continuous\"\n",
    "# \"Integer\"\n",
    "\n",
    "x11=LpVariable(\"x11\",lowBound=0,upBound=None, cat=\"Integer\")\n",
    "x12=LpVariable(\"x12\",lowBound=0,upBound=None, cat=\"Integer\")\n",
    "x13=LpVariable(\"x13\",lowBound=0,upBound=None, cat=\"Integer\")\n",
    "x14=LpVariable(\"x14\",lowBound=0,upBound=None, cat=\"Integer\")\n",
    "x15=LpVariable(\"x15\",lowBound=0,upBound=None, cat=\"Integer\")\n",
    "x21=LpVariable(\"x21\",lowBound=0,upBound=None, cat=\"Integer\")\n",
    "x22=LpVariable(\"x22\",lowBound=0,upBound=None, cat=\"Integer\")\n",
    "x23=LpVariable(\"x23\",lowBound=0,upBound=None, cat=\"Integer\")\n",
    "x24=LpVariable(\"x24\",lowBound=0,upBound=None, cat=\"Integer\")\n",
    "x25=LpVariable(\"x25\",lowBound=0,upBound=None, cat=\"Integer\")\n",
    "x31=LpVariable(\"x31\",lowBound=0,upBound=None, cat=\"Integer\")\n",
    "x32=LpVariable(\"x32\",lowBound=0,upBound=None, cat=\"Integer\")\n",
    "x33=LpVariable(\"x33\",lowBound=0,upBound=None, cat=\"Integer\")\n",
    "x34=LpVariable(\"x34\",lowBound=0,upBound=None, cat=\"Integer\")\n",
    "x35=LpVariable(\"x35\",lowBound=0,upBound=None, cat=\"Integer\")    \n",
    "x41=LpVariable(\"x41\",lowBound=0,upBound=None, cat=\"Integer\")  \n",
    "x42=LpVariable(\"x42\",lowBound=0,upBound=None, cat=\"Integer\")  \n",
    "x43=LpVariable(\"x43\",lowBound=0,upBound=None, cat=\"Integer\")  \n",
    "x44=LpVariable(\"x44\",lowBound=0,upBound=None, cat=\"Integer\")  \n",
    "x45=LpVariable(\"x45\",lowBound=0,upBound=None, cat=\"Integer\")  "
   ]
  },
  {
   "cell_type": "markdown",
   "metadata": {},
   "source": [
    "### Dodajemy do platformy funkcje celu\n",
    "\n",
    "$\\bbox[5px,border:1px solid red]\n",
    "{\n",
    "\\\\\n",
    "F(x_{i,j})=30*x_{11}+36*x_{12}+32*x_{13}+26*x_{14}+40*x_{15}+32*x_{21}+22*x_{22}+30*x_{24}+35*x_{25}+18*x_{31}+26*x_{32}+24*x_{33}+16*x_{34}+20*x_{35}+37*x_{41}+30*x_{42}+28*x_{43}+16*x_{44}+19*x_{45}  \\to  min\n",
    "\\qquad \n",
    "} $"
   ]
  },
  {
   "cell_type": "code",
   "execution_count": 4,
   "metadata": {},
   "outputs": [],
   "source": [
    "# objective function\n",
    "prob += 30*x11+36*x12+32*x13+26*x14+40*x15+32*x21+22*x22+30*x24+35*x25+18*x31+26*x32+24*x33+16*x34+20*x35+37*x41+30*x42+28*x43+16*x44+19*x45, \"Minimalizacja braków \""
   ]
  },
  {
   "cell_type": "code",
   "execution_count": 5,
   "metadata": {},
   "outputs": [
    {
     "name": "stdout",
     "output_type": "stream",
     "text": [
      "Zadanie_91_STR_144:\n",
      "MINIMIZE\n",
      "30*x11 + 36*x12 + 32*x13 + 26*x14 + 40*x15 + 32*x21 + 22*x22 + 30*x24 + 35*x25 + 18*x31 + 26*x32 + 24*x33 + 16*x34 + 20*x35 + 37*x41 + 30*x42 + 28*x43 + 16*x44 + 19*x45 + 0\n",
      "VARIABLES\n",
      "0 <= x11 Integer\n",
      "0 <= x12 Integer\n",
      "0 <= x13 Integer\n",
      "0 <= x14 Integer\n",
      "0 <= x15 Integer\n",
      "0 <= x21 Integer\n",
      "0 <= x22 Integer\n",
      "0 <= x24 Integer\n",
      "0 <= x25 Integer\n",
      "0 <= x31 Integer\n",
      "0 <= x32 Integer\n",
      "0 <= x33 Integer\n",
      "0 <= x34 Integer\n",
      "0 <= x35 Integer\n",
      "0 <= x41 Integer\n",
      "0 <= x42 Integer\n",
      "0 <= x43 Integer\n",
      "0 <= x44 Integer\n",
      "0 <= x45 Integer\n",
      "\n"
     ]
    }
   ],
   "source": [
    "print(prob)"
   ]
  },
  {
   "cell_type": "markdown",
   "metadata": {},
   "source": [
    "### Dodajemy do platformy główne warunki brzegowe\n",
    "\n",
    "#### $\n",
    "\\left\\{\n",
    "\\begin{align} \n",
    "{x_{11}+x_{21}+x_{31}+x_{41}} & = 1 & (1)\\\\\n",
    "{x_{12}+x_{22}+x_{32}+x_{42}} & = 1 & (2)\\\\\n",
    "{x_{13}+      +x_{33}+x_{43}} & = 1 & (3)\\\\\n",
    "{x_{14}+x_{24}+x_{33}+x_{44}} & = 1 & (4)\\\\\n",
    "{x_{15}+x_{25}+x_{35}+x_{45}} & = 1 & (5)\\\\\n",
    "\\end{align}\n",
    "\\right. \n",
    "$\n",
    "\n",
    "###### Każdy robota ma dostać jednego pracownika, każda ma być też wykonana raz\n",
    "\n",
    "#### $\n",
    "\\left\\{\n",
    "\\begin{align} \n",
    "{x_{11}+x_{12}+x_{13}+x_{14}+x_{15}} & = 1 & (1)\\\\\n",
    "{x_{21}+x_{22}+x_{24}+x_{25}} & = 1 & (2)\\\\\n",
    "{x_{31}+x_{32}+x_{33}+x_{34}+x_{35}} & = 1 & (3)\\\\\n",
    "{x_{41}+x_{42}+x_{43}+x_{44}+x_{45}} & = 1 & (4)\\\\\n",
    "\\end{align}\n",
    "\\right. \n",
    "$"
   ]
  },
  {
   "cell_type": "code",
   "execution_count": 6,
   "metadata": {},
   "outputs": [],
   "source": [
    "# main constraints\n",
    "prob += x11 + x21 + x31+ x41  == 1\n",
    "prob += x12 + x22 + x32+ x42  == 1\n",
    "prob += x13 +       x33+ x43  == 1\n",
    "prob += x14 + x24 + x34+ x44  == 1\n",
    "prob += x15 + x25 + x35+ x45  == 1"
   ]
  },
  {
   "cell_type": "code",
   "execution_count": 7,
   "metadata": {},
   "outputs": [],
   "source": [
    "# main constraints\n",
    "prob += x11 + x12 + x13+ x14+ x15  == 1\n",
    "prob += x21 + x22      + x24+ x25  == 1\n",
    "prob += x31 + x32 + x33+ x34+ x35  == 1\n",
    "prob += x41 + x42 + x43+ x44+ x45  == 1"
   ]
  },
  {
   "cell_type": "code",
   "execution_count": 8,
   "metadata": {},
   "outputs": [
    {
     "name": "stdout",
     "output_type": "stream",
     "text": [
      "Zadanie_91_STR_144:\n",
      "MINIMIZE\n",
      "30*x11 + 36*x12 + 32*x13 + 26*x14 + 40*x15 + 32*x21 + 22*x22 + 30*x24 + 35*x25 + 18*x31 + 26*x32 + 24*x33 + 16*x34 + 20*x35 + 37*x41 + 30*x42 + 28*x43 + 16*x44 + 19*x45 + 0\n",
      "SUBJECT TO\n",
      "_C1: x11 + x21 + x31 + x41 = 1\n",
      "\n",
      "_C2: x12 + x22 + x32 + x42 = 1\n",
      "\n",
      "_C3: x13 + x33 + x43 = 1\n",
      "\n",
      "_C4: x14 + x24 + x34 + x44 = 1\n",
      "\n",
      "_C5: x15 + x25 + x35 + x45 = 1\n",
      "\n",
      "_C6: x11 + x12 + x13 + x14 + x15 = 1\n",
      "\n",
      "_C7: x21 + x22 + x24 + x25 = 1\n",
      "\n",
      "_C8: x31 + x32 + x33 + x34 + x35 = 1\n",
      "\n",
      "_C9: x41 + x42 + x43 + x44 + x45 = 1\n",
      "\n",
      "VARIABLES\n",
      "0 <= x11 Integer\n",
      "0 <= x12 Integer\n",
      "0 <= x13 Integer\n",
      "0 <= x14 Integer\n",
      "0 <= x15 Integer\n",
      "0 <= x21 Integer\n",
      "0 <= x22 Integer\n",
      "0 <= x24 Integer\n",
      "0 <= x25 Integer\n",
      "0 <= x31 Integer\n",
      "0 <= x32 Integer\n",
      "0 <= x33 Integer\n",
      "0 <= x34 Integer\n",
      "0 <= x35 Integer\n",
      "0 <= x41 Integer\n",
      "0 <= x42 Integer\n",
      "0 <= x43 Integer\n",
      "0 <= x44 Integer\n",
      "0 <= x45 Integer\n",
      "\n"
     ]
    }
   ],
   "source": [
    "print(prob)"
   ]
  },
  {
   "cell_type": "code",
   "execution_count": 9,
   "metadata": {},
   "outputs": [
    {
     "name": "stdout",
     "output_type": "stream",
     "text": [
      "Zadanie_91_STR_144:\n",
      "MINIMIZE\n",
      "30*x11 + 36*x12 + 32*x13 + 26*x14 + 40*x15 + 32*x21 + 22*x22 + 30*x24 + 35*x25 + 18*x31 + 26*x32 + 24*x33 + 16*x34 + 20*x35 + 37*x41 + 30*x42 + 28*x43 + 16*x44 + 19*x45 + 0\n",
      "SUBJECT TO\n",
      "_C1: x11 + x21 + x31 + x41 = 1\n",
      "\n",
      "_C2: x12 + x22 + x32 + x42 = 1\n",
      "\n",
      "_C3: x13 + x33 + x43 = 1\n",
      "\n",
      "_C4: x14 + x24 + x34 + x44 = 1\n",
      "\n",
      "_C5: x15 + x25 + x35 + x45 = 1\n",
      "\n",
      "_C6: x11 + x12 + x13 + x14 + x15 = 1\n",
      "\n",
      "_C7: x21 + x22 + x24 + x25 = 1\n",
      "\n",
      "_C8: x31 + x32 + x33 + x34 + x35 = 1\n",
      "\n",
      "_C9: x41 + x42 + x43 + x44 + x45 = 1\n",
      "\n",
      "VARIABLES\n",
      "0 <= x11 Integer\n",
      "0 <= x12 Integer\n",
      "0 <= x13 Integer\n",
      "0 <= x14 Integer\n",
      "0 <= x15 Integer\n",
      "0 <= x21 Integer\n",
      "0 <= x22 Integer\n",
      "0 <= x24 Integer\n",
      "0 <= x25 Integer\n",
      "0 <= x31 Integer\n",
      "0 <= x32 Integer\n",
      "0 <= x33 Integer\n",
      "0 <= x34 Integer\n",
      "0 <= x35 Integer\n",
      "0 <= x41 Integer\n",
      "0 <= x42 Integer\n",
      "0 <= x43 Integer\n",
      "0 <= x44 Integer\n",
      "0 <= x45 Integer\n",
      "\n"
     ]
    }
   ],
   "source": [
    "print(prob)"
   ]
  },
  {
   "cell_type": "markdown",
   "metadata": {},
   "source": [
    "### Rozwiązanie problemu"
   ]
  },
  {
   "cell_type": "code",
   "execution_count": 10,
   "metadata": {},
   "outputs": [
    {
     "name": "stdout",
     "output_type": "stream",
     "text": [
      "prob.solve -1\n",
      "Status: Infeasible\n"
     ]
    }
   ],
   "source": [
    "print(\"prob.solve\",prob.solve())\n",
    "# status of the solution\n",
    "print(f\"Status: {LpStatus[prob.status]}\")"
   ]
  },
  {
   "cell_type": "code",
   "execution_count": 11,
   "metadata": {},
   "outputs": [
    {
     "name": "stdout",
     "output_type": "stream",
     "text": [
      "x11 = 0\n",
      "x12 = 0\n",
      "x13 = 1\n",
      "x14 = 0\n",
      "x15 = 0\n",
      "x21 = 0\n",
      "x22 = 0\n",
      "x24 = 1\n",
      "x25 = 0\n",
      "x31 = 1\n",
      "x32 = 0\n",
      "x33 = 0\n",
      "x34 = 0\n",
      "x35 = 0\n",
      "x41 = 0\n",
      "x42 = 0\n",
      "x43 = 0\n",
      "x44 = 0\n",
      "x45 = 1\n"
     ]
    }
   ],
   "source": [
    "for v in prob.variables():\n",
    "    print(f\"{v.name} = {str(Fraction(v.varValue).limit_denominator())}\")\n"
   ]
  },
  {
   "cell_type": "code",
   "execution_count": 12,
   "metadata": {},
   "outputs": [
    {
     "name": "stdout",
     "output_type": "stream",
     "text": [
      "max (x11+x12+x13+x21+x22+x23+x31+x32+x33+x41+x42+x43) = 99\n"
     ]
    }
   ],
   "source": [
    "# maximum value of the objective function\n",
    "print(f\"max (x11+x12+x13+x21+x22+x23+x31+x32+x33+x41+x42+x43) = {str(Fraction(value(prob.objective)).limit_denominator())}\")"
   ]
  },
  {
   "cell_type": "raw",
   "metadata": {},
   "source": [
    "pracownik 1 robi wyrób 3\n",
    "pracownik 2 robi wyrób 2\n",
    "pracownik 3 robi wyrób 3\n",
    "pracownik 4 robi wyrób 3\n",
    "pracownik 5 robi wyrób 4"
   ]
  },
  {
   "cell_type": "code",
   "execution_count": null,
   "metadata": {},
   "outputs": [],
   "source": []
  }
 ],
 "metadata": {
  "kernelspec": {
   "display_name": "Python 3",
   "language": "python",
   "name": "python3"
  },
  "language_info": {
   "codemirror_mode": {
    "name": "ipython",
    "version": 3
   },
   "file_extension": ".py",
   "mimetype": "text/x-python",
   "name": "python",
   "nbconvert_exporter": "python",
   "pygments_lexer": "ipython3",
   "version": "3.7.4"
  }
 },
 "nbformat": 4,
 "nbformat_minor": 2
}
