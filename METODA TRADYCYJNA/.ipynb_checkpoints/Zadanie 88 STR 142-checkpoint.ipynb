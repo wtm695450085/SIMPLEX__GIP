{
 "cells": [
  {
   "cell_type": "markdown",
   "metadata": {},
   "source": [
    "# Zadanie 88 STR 142"
   ]
  },
  {
   "cell_type": "code",
   "execution_count": 84,
   "metadata": {},
   "outputs": [
    {
     "name": "stdout",
     "output_type": "stream",
     "text": [
      "+---------------+----------+---------+----------+--------+----------+----------+\n",
      "| Koparka typu: | wykop 1  | wykop 2 | wykop  3 | wykop  | ilość ko | koszt ko |\n",
      "|               |          |         |          |   4    |  parek   |  parki   |\n",
      "+---------------+----------+---------+----------+--------+----------+----------+\n",
      "|   Koparka A   | 25 m3/d  | 15 m3/d | 16 m3/d  | 20 m3/ | 10 sztuk |  190 zł  |\n",
      "|               |          |         |          |   d    |          |          |\n",
      "+---------------+----------+---------+----------+--------+----------+----------+\n",
      "|   Koparka B   | 30 m3/d  | 10 m3/d | 24 m3/d  | 25 m3/ | 8 sztuk  |  130 zł  |\n",
      "|               |          |         |          |   d    |          |          |\n",
      "+---------------+----------+---------+----------+--------+----------+----------+\n",
      "|   Koparka C   | 24 m3/d  | 18 m3/d | 25 m3/d  | 27,5 m | 15 sztuk |  280 zł  |\n",
      "|               |          |         |          |  3/d   |          |          |\n",
      "+---------------+----------+---------+----------+--------+----------+----------+\n",
      "| Minimalne zad | >=220 m3 | >=90 m3 | >=146 m3 | >=220  |          |          |\n",
      "|     anie      |          |         |          |   m3   |          |          |\n",
      "+---------------+----------+---------+----------+--------+----------+----------+\n"
     ]
    }
   ],
   "source": [
    "## from beautifultable import BeautifulTable\n",
    "\n",
    "table = BeautifulTable()\n",
    "table.column_headers = [\"Koparka typu:\", \"wykop 1\",\"wykop 2\",\"wykop  3\", \"wykop 4\",\"ilość koparek\", \"koszt koparki\"]\n",
    "table.append_row([\"Koparka A\", \"25 m3/d\",    \"15 m3/d\",   \"16 m3/d\", \"20 m3/d\", \"10 sztuk\",\"190 zł\" ])\n",
    "table.append_row([\"Koparka B\", \"30 m3/d\",    \"10 m3/d\",   \"24 m3/d\", \"25 m3/d\", \"8 sztuk\", \"130 zł\" ])\n",
    "table.append_row([\"Koparka C\", \"24 m3/d\",    \"18 m3/d\",   \"25 m3/d\", \"27,5 m3/d\", \"15 sztuk\", \"280 zł\" ])\n",
    "table.append_row([\"Minimalne zadanie\",\">=220 m3\",\">=90 m3\",\">=146 m3\",\">=220 m3\",\"\",\"\"])\n",
    "print(table)"
   ]
  },
  {
   "cell_type": "markdown",
   "metadata": {},
   "source": [
    "<span style=\"font-size: 150%;color:#0000ff\">Krok 1: ZMIENNA DECYZYJNA Czym jest x? </span>\n",
    "\n",
    "Ilość koparek  - dlaczego? bo jest to zmienna decyzyjna, nie można sterować wydajnością koparek. Ilość koparek jest punktem wyjścia do obliczenia ilości m3 oraz kosztów używania koparek \n",
    "\n",
    "\n",
    "<span style=\"font-size: 150%;color:#0000ff\"> Krok 2: Co jest w tabeli?</span>\n",
    "\n",
    "wydajność koparek na poszczególnych wykopach\n",
    "\n",
    "<span style=\"font-size: 150%;color:#0000ff\"> Krok 3: ograniczenie zmiennych decyzyjnych</span>\n",
    "\n",
    "zmiennymi decyzyjnymi jest tutaj ilość koparek na różnych wykopach. Powiedzmy że chodzi o jeden dzień pracy wszystkich koparek.\n",
    "\n",
    "#### $\n",
    "\\left\\{\n",
    "\\begin{align} \n",
    "{x_{11}+x_{12}+x_{13}+x_{14}} & = 10 & (1)\\\\\n",
    "{x_{21}+x_{22}+x_{23}+x_{24}} & = 8 & (2)\\\\\n",
    "{x_{31}+x_{32}+x_{33}+x_{34}} & = 15 & (3)\\\\\n",
    "\\end{align}\n",
    "\\right. \n",
    "$\n",
    "\n",
    "<span style=\"font-size: 150%;color:#0000ff\"> Krok 4: ograniczenie pośrednie - nie związane bezpośrednio ze zmiennymi decyzyjnymi jaką jest tutaj ilość koparek, to będzie: ilość metrów wykopanych na poszczególnych wykopach</span>\n",
    "\n",
    "#### $\n",
    "\\left\\{\n",
    "\\begin{align} \n",
    "{25x_{11}+30x_{21}+24x_{31}} & \\geqslant 220 & (1)\\\\\n",
    "{15x_{12}+10x_{22}+18x_{32}} & \\geqslant 90 & (2)\\\\\n",
    "{16x_{13}+24x_{23}+25x_{33}} & \\geqslant 146 & (3)\\\\\n",
    "{20x_{14}+25x_{24}+27.5x_{34}} & \\geqslant 220 & (3)\\\\\n",
    "\\end{align}\n",
    "\\right. \n",
    "$\n",
    "\n",
    "\n",
    "<span style=\"font-size: 150%;color:#0000ff\"> Krok 5: jaka jest funkcja celu?</span>\n",
    "\n",
    "Zminimalizować koszty zakupu surowca. Jest jedna zmienna decyzyjna x a ilość zużycia surowca jest jej pochodną.\n",
    "\n",
    "$\\bbox[5px,border:1px solid red]\n",
    "{\n",
    "\\\\\n",
    "F(x_{i,j})=190*({x_{11}+x_{12}+x_{13}+x_{14}})+130*({x_{21}+x_{22}+x_{23}+x_{24}})+280*({x_{31}+x_{32}+x_{33}+x_{34}})  \\to  min \n",
    "\\qquad \n",
    "} $"
   ]
  },
  {
   "cell_type": "code",
   "execution_count": 85,
   "metadata": {},
   "outputs": [],
   "source": [
    "from pulp import *\n",
    "from fractions import Fraction\n",
    "\n",
    "# zdefiniowanie problemu- to jest taka platforma do wrzucania na nia wszystkiego\n",
    "\n",
    "prob = LpProblem(\"Zadanie_88_STR_142\",LpMinimize)"
   ]
  },
  {
   "cell_type": "markdown",
   "metadata": {},
   "source": [
    "Wstawianie pierwszych warunków ograniczających: ograniczeniami nieujemności\n",
    "\n",
    "#### $\n",
    "\\left\\{\n",
    "\\begin{align} \n",
    "{x_{11}} & \\geqslant 0 & (4)\\\\\n",
    "{x_{12}} & \\geqslant 0 & (5)\\\\\n",
    "{x_{13}} & \\geqslant 0 & (5)\\\\\n",
    "{x_{14}} & \\geqslant 0 & (5)\\\\\n",
    "{x_{15}} & \\geqslant 0 & (5)\\\\\n",
    "{x_{21}} & \\geqslant 0 & (5)\\\\\n",
    "{x_{22}} & \\geqslant 0 & (5)\\\\\n",
    "{x_{23}} & \\geqslant 0 & (5)\\\\\n",
    "{x_{24}} & \\geqslant 0 & (5)\\\\\n",
    "{x_{25}} & \\geqslant 0 & (5)\\\\\n",
    "{x_{31}} & \\geqslant 0 & (5)\\\\\n",
    "{x_{32}} & \\geqslant 0 & (5)\\\\\n",
    "{x_{33}} & \\geqslant 0 & (5)\\\\\n",
    "{x_{34}} & \\geqslant 0 & (5)\\\\\n",
    "{x_{35}} & \\geqslant 0 & (5)\\\\\n",
    "\\end{align}\n",
    "\\right. \n",
    "$"
   ]
  },
  {
   "cell_type": "code",
   "execution_count": 86,
   "metadata": {},
   "outputs": [],
   "source": [
    "# \"Continuous\"\n",
    "# \"Integer\"\n",
    "\n",
    "x11=LpVariable(\"x11\",lowBound=0,upBound=None, cat=\"Integer\")\n",
    "x12=LpVariable(\"x12\",lowBound=0,upBound=None, cat=\"Integer\")\n",
    "x13=LpVariable(\"x13\",lowBound=0,upBound=None, cat=\"Integer\")\n",
    "x14=LpVariable(\"x14\",lowBound=0,upBound=None, cat=\"Integer\")\n",
    "x15=LpVariable(\"x15\",lowBound=0,upBound=None, cat=\"Integer\")\n",
    "x21=LpVariable(\"x21\",lowBound=0,upBound=None, cat=\"Integer\")\n",
    "x22=LpVariable(\"x22\",lowBound=0,upBound=None, cat=\"Integer\")\n",
    "x23=LpVariable(\"x23\",lowBound=0,upBound=None, cat=\"Integer\")\n",
    "x24=LpVariable(\"x24\",lowBound=0,upBound=None, cat=\"Integer\")\n",
    "x25=LpVariable(\"x25\",lowBound=0,upBound=None, cat=\"Integer\")\n",
    "x31=LpVariable(\"x31\",lowBound=0,upBound=None, cat=\"Integer\")\n",
    "x32=LpVariable(\"x32\",lowBound=0,upBound=None, cat=\"Integer\")\n",
    "x33=LpVariable(\"x33\",lowBound=0,upBound=None, cat=\"Integer\")\n",
    "x34=LpVariable(\"x34\",lowBound=0,upBound=None, cat=\"Integer\")\n",
    "x35=LpVariable(\"x35\",lowBound=0,upBound=None, cat=\"Integer\")        "
   ]
  },
  {
   "cell_type": "markdown",
   "metadata": {},
   "source": [
    "### Dodajemy do platformy funkcje celu\n",
    "\n",
    "\n",
    "$\\bbox[5px,border:1px solid red]\n",
    "{\n",
    "\\\\\n",
    "F(x_{i,j})=190*({x_{11}+x_{12}+x_{13}+x_{14}})+130*({x_{21}+x_{22}+x_{23}+x_{24}})+280*({x_{31}+x_{32}+x_{33}+x_{34}})  \\to  min \n",
    "\\qquad \n",
    "} $\n",
    "\n",
    "\n",
    "\n",
    "\n"
   ]
  },
  {
   "cell_type": "code",
   "execution_count": 87,
   "metadata": {},
   "outputs": [],
   "source": [
    "# objective function\n",
    "prob += 190*(x11+x12+x13+x14)+130*(x21+x22+x23+x24)+280*(x31+x32+x33+x34), \"Maximum value of x1 + x2\""
   ]
  },
  {
   "cell_type": "code",
   "execution_count": 88,
   "metadata": {},
   "outputs": [
    {
     "name": "stdout",
     "output_type": "stream",
     "text": [
      "Zadanie_88_STR_142:\n",
      "MINIMIZE\n",
      "190*x11 + 190*x12 + 190*x13 + 190*x14 + 130*x21 + 130*x22 + 130*x23 + 130*x24 + 280*x31 + 280*x32 + 280*x33 + 280*x34 + 0\n",
      "VARIABLES\n",
      "0 <= x11 Integer\n",
      "0 <= x12 Integer\n",
      "0 <= x13 Integer\n",
      "0 <= x14 Integer\n",
      "0 <= x21 Integer\n",
      "0 <= x22 Integer\n",
      "0 <= x23 Integer\n",
      "0 <= x24 Integer\n",
      "0 <= x31 Integer\n",
      "0 <= x32 Integer\n",
      "0 <= x33 Integer\n",
      "0 <= x34 Integer\n",
      "\n"
     ]
    }
   ],
   "source": [
    "print(prob)"
   ]
  },
  {
   "cell_type": "markdown",
   "metadata": {},
   "source": [
    "### Dodajemy do platformy główne warunki brzegowe\n",
    "\n",
    "#### $\n",
    "\\left\\{\n",
    "\\begin{align} \n",
    "{x_{11}+x_{12}+x_{13}+x_{14}} & = 10 & (1)\\\\\n",
    "{x_{21}+x_{22}+x_{23}+x_{24}} & = 8 & (2)\\\\\n",
    "{x_{31}+x_{32}+x_{33}+x_{34}} & = 15 & (3)\\\\\n",
    "\\end{align}\n",
    "\\right. \n",
    "$"
   ]
  },
  {
   "cell_type": "code",
   "execution_count": 89,
   "metadata": {},
   "outputs": [],
   "source": [
    "# main constraints\n",
    "prob += x11 + x12 + x13 + x14  <= 10\n",
    "prob += x21 + x22 + x23 + x24  <= 8\n",
    "prob += x31 + x32 + x33 + x34  <= 15"
   ]
  },
  {
   "cell_type": "code",
   "execution_count": 90,
   "metadata": {},
   "outputs": [
    {
     "name": "stdout",
     "output_type": "stream",
     "text": [
      "Zadanie_88_STR_142:\n",
      "MINIMIZE\n",
      "190*x11 + 190*x12 + 190*x13 + 190*x14 + 130*x21 + 130*x22 + 130*x23 + 130*x24 + 280*x31 + 280*x32 + 280*x33 + 280*x34 + 0\n",
      "SUBJECT TO\n",
      "_C1: x11 + x12 + x13 + x14 <= 10\n",
      "\n",
      "_C2: x21 + x22 + x23 + x24 <= 8\n",
      "\n",
      "_C3: x31 + x32 + x33 + x34 <= 15\n",
      "\n",
      "VARIABLES\n",
      "0 <= x11 Integer\n",
      "0 <= x12 Integer\n",
      "0 <= x13 Integer\n",
      "0 <= x14 Integer\n",
      "0 <= x21 Integer\n",
      "0 <= x22 Integer\n",
      "0 <= x23 Integer\n",
      "0 <= x24 Integer\n",
      "0 <= x31 Integer\n",
      "0 <= x32 Integer\n",
      "0 <= x33 Integer\n",
      "0 <= x34 Integer\n",
      "\n"
     ]
    }
   ],
   "source": [
    "print(prob)"
   ]
  },
  {
   "cell_type": "markdown",
   "metadata": {},
   "source": [
    "#### $\n",
    "\\left\\{\n",
    "\\begin{align} \n",
    "{25x_{11}+30x_{21}+24x_{31}} & \\geqslant 220 & (1)\\\\\n",
    "{15x_{12}+10x_{22}+18x_{32}} & \\geqslant 90 & (2)\\\\\n",
    "{16x_{13}+24x_{23}+25x_{33}} & \\geqslant 146 & (3)\\\\\n",
    "{20x_{14}+25x_{24}+27.5x_{34}} & \\geqslant 220 & (3)\\\\\n",
    "\\end{align}\n",
    "\\right. \n",
    "$"
   ]
  },
  {
   "cell_type": "code",
   "execution_count": 91,
   "metadata": {},
   "outputs": [],
   "source": [
    "# main constraints\n",
    "prob += 25*x11 + 30*x21 + 24*x31  >= 220\n",
    "prob += 15*x12 + 10*x22 + 18*x32  >= 90\n",
    "prob += 16*x13 + 24*x23 + 25*x33  >= 146\n",
    "prob += 20*x14 + 25*x24 + 27.5*x34  >= 220"
   ]
  },
  {
   "cell_type": "code",
   "execution_count": 92,
   "metadata": {},
   "outputs": [
    {
     "name": "stdout",
     "output_type": "stream",
     "text": [
      "Zadanie_88_STR_142:\n",
      "MINIMIZE\n",
      "190*x11 + 190*x12 + 190*x13 + 190*x14 + 130*x21 + 130*x22 + 130*x23 + 130*x24 + 280*x31 + 280*x32 + 280*x33 + 280*x34 + 0\n",
      "SUBJECT TO\n",
      "_C1: x11 + x12 + x13 + x14 <= 10\n",
      "\n",
      "_C2: x21 + x22 + x23 + x24 <= 8\n",
      "\n",
      "_C3: x31 + x32 + x33 + x34 <= 15\n",
      "\n",
      "_C4: 25 x11 + 30 x21 + 24 x31 >= 220\n",
      "\n",
      "_C5: 15 x12 + 10 x22 + 18 x32 >= 90\n",
      "\n",
      "_C6: 16 x13 + 24 x23 + 25 x33 >= 146\n",
      "\n",
      "_C7: 20 x14 + 25 x24 + 27.5 x34 >= 220\n",
      "\n",
      "VARIABLES\n",
      "0 <= x11 Integer\n",
      "0 <= x12 Integer\n",
      "0 <= x13 Integer\n",
      "0 <= x14 Integer\n",
      "0 <= x21 Integer\n",
      "0 <= x22 Integer\n",
      "0 <= x23 Integer\n",
      "0 <= x24 Integer\n",
      "0 <= x31 Integer\n",
      "0 <= x32 Integer\n",
      "0 <= x33 Integer\n",
      "0 <= x34 Integer\n",
      "\n"
     ]
    }
   ],
   "source": [
    "print(prob)"
   ]
  },
  {
   "cell_type": "markdown",
   "metadata": {},
   "source": [
    "### Rozwiązanie problemu"
   ]
  },
  {
   "cell_type": "code",
   "execution_count": 93,
   "metadata": {},
   "outputs": [
    {
     "name": "stdout",
     "output_type": "stream",
     "text": [
      "prob.solve 1\n",
      "Status: Optimal\n"
     ]
    }
   ],
   "source": [
    "print(\"prob.solve\",prob.solve())\n",
    "# status of the solution\n",
    "print(f\"Status: {LpStatus[prob.status]}\")"
   ]
  },
  {
   "cell_type": "code",
   "execution_count": 94,
   "metadata": {},
   "outputs": [
    {
     "name": "stdout",
     "output_type": "stream",
     "text": [
      "x11 = 4\n",
      "x12 = 6\n",
      "x13 = 0\n",
      "x14 = 0\n",
      "x21 = 4\n",
      "x22 = 0\n",
      "x23 = 4\n",
      "x24 = 0\n",
      "x31 = 0\n",
      "x32 = 0\n",
      "x33 = 2\n",
      "x34 = 8\n"
     ]
    }
   ],
   "source": [
    "for v in prob.variables():\n",
    "    print(f\"{v.name} = {str(Fraction(v.varValue).limit_denominator())}\")\n"
   ]
  },
  {
   "cell_type": "code",
   "execution_count": 95,
   "metadata": {},
   "outputs": [
    {
     "name": "stdout",
     "output_type": "stream",
     "text": [
      "max (x1 + x2) = 5740\n"
     ]
    }
   ],
   "source": [
    "# maximum value of the objective function\n",
    "print(f\"max (x1 + x2) = {str(Fraction(value(prob.objective)).limit_denominator())}\")"
   ]
  },
  {
   "cell_type": "code",
   "execution_count": 96,
   "metadata": {},
   "outputs": [
    {
     "data": {
      "text/plain": [
       "8.432727299998687"
      ]
     },
     "execution_count": 96,
     "metadata": {},
     "output_type": "execute_result"
    }
   ],
   "source": [
    "4497671/533359"
   ]
  },
  {
   "cell_type": "code",
   "execution_count": null,
   "metadata": {},
   "outputs": [],
   "source": []
  }
 ],
 "metadata": {
  "kernelspec": {
   "display_name": "Python 3",
   "language": "python",
   "name": "python3"
  },
  "language_info": {
   "codemirror_mode": {
    "name": "ipython",
    "version": 3
   },
   "file_extension": ".py",
   "mimetype": "text/x-python",
   "name": "python",
   "nbconvert_exporter": "python",
   "pygments_lexer": "ipython3",
   "version": "3.7.4"
  }
 },
 "nbformat": 4,
 "nbformat_minor": 2
}
