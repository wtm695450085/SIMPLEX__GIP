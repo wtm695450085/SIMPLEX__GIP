{
 "cells": [
  {
   "cell_type": "markdown",
   "metadata": {},
   "source": [
    "<span style=\"font-size: 150%;color:white;background:#1155cc\"> Zadanie 96 STR 146"
   ]
  },
  {
   "cell_type": "code",
   "execution_count": 114,
   "metadata": {},
   "outputs": [
    {
     "name": "stdout",
     "output_type": "stream",
     "text": [
      "+--------------+-----------+-----------+-----------+-----------+\n",
      "|   emisja:    | program_1 | program_2 | program_3 | program_4 |\n",
      "+--------------+-----------+-----------+-----------+-----------+\n",
      "| 7:00 - 8:00  |    20     |    20     |    14     |    28     |\n",
      "+--------------+-----------+-----------+-----------+-----------+\n",
      "| 8:00 - 9:00  |    16     |    26     |    17     |    34     |\n",
      "+--------------+-----------+-----------+-----------+-----------+\n",
      "| 9:00 - 10:00 |    14     |    20     |    25     |    40     |\n",
      "+--------------+-----------+-----------+-----------+-----------+\n",
      "| 10:00 -11:00 |    12     |    14     |    15     |    30     |\n",
      "+--------------+-----------+-----------+-----------+-----------+\n"
     ]
    }
   ],
   "source": [
    "from beautifultable import BeautifulTable\n",
    "\n",
    "table = BeautifulTable()\n",
    "table.column_headers = [\"emisja:\", \"program_1\",\"program_2\",\"program_3\",\"program_4\"]\n",
    "table.append_row([\"7:00 - 8:00\", 20,  20, 14, 28])\n",
    "table.append_row([\"8:00 - 9:00\", 16,  26, 17, 34])\n",
    "table.append_row([\"9:00 - 10:00\",14,  20, 25, 40])\n",
    "table.append_row([\"10:00 -11:00\",12,  14, 15, 30])\n",
    "print(table)"
   ]
  },
  {
   "cell_type": "markdown",
   "metadata": {
    "scrolled": false
   },
   "source": [
    "\n",
    "<span style=\"font-size: 150%;color:#0000ff\">Krok 1: ZMIENNA DECYZYJNA Czym jest x? </span>\n",
    "\n",
    "zero-jeden   - dlaczego? bo jest to zmienna decyzyjna, to jest przydział. jeden - program jest emitowany, \n",
    "zero program nie jest emitowany. \n",
    "\n",
    "<span style=\"font-size: 130%;color:#0000ff\"> Krok 2: Co jest w tabeli?</span>\n",
    "\n",
    "oglądalność - im więcej tym lepiej => trzeba zmaksymalizowac oglądalność.\n",
    "\n",
    "<span style=\"font-size: 130%;color:#0000ff\"> Krok 3: ograniczenie zmiennych decyzyjnych</span>\n",
    "\n",
    "\n",
    "zmiennymi decyzyjnymi jest tutaj przydział, liczba 1 lub 0. Każdy program może być emitowany tylko raz\n",
    "w każdej godzinie można wyemitować tylko jeden program,\n",
    "\n",
    "#### $\n",
    "\\left\\{\n",
    "\\begin{align} \n",
    "{x_{11}+x_{12}+x_{13}+x_{14}} & = 1 & (godziny-1)\\\\\n",
    "{x_{21}+x_{22}+x_{23}+x_{24}} & = 1 & (godziny-2)\\\\\n",
    "{x_{31}+x_{32}+x_{33}+x_{34}} & = 1 & (godziny-3)\\\\\n",
    "{x_{41}+x_{42}+x_{43}+x_{44}} & = 1 & (godziny-4)\\\\\n",
    "\\end{align}\n",
    "\\right. \n",
    "$\n",
    "\n",
    "<span style=\"font-size: 130%;color:#0000ff\"> Krok 4: ograniczenie pośrednie - każda robota może być przydzielona tylko raz </span>\n",
    "#### $\n",
    "\\left\\{\n",
    "\\begin{align} \n",
    "{x_{11}+x_{21}+x_{31}+x_{41}} & = 1 & (program-1)\\\\\n",
    "{x_{12}+x_{22}+x_{32}+x_{42}} & = 1 & (program-2)\\\\\n",
    "{x_{13}+x_{23}+x_{33}+x_{43}} & = 1 & (program-3)\\\\\n",
    "{x_{14}+x_{24}+x_{34}+x_{44}} & = 1 & (program-4)\\\\\n",
    "\\end{align}\n",
    "\\right. \n",
    "$\n",
    "\n",
    "\n",
    "<span style=\"font-size: 130%;color:#0000ff\"> Krok 5: jaka jest funkcja celu?</span>\n",
    "\n",
    "Zmaksymalizować efektywność pracy.\n",
    "\n",
    "$\\bbox[5px,border:1px solid red]\n",
    "{\n",
    "\\\\\n",
    "F(x_{i,j})\\\\\n",
    "=20x_{11}+20x_{12}+14x_{13}+28x_{14}\\\\\n",
    "+16x_{21}+26x_{23}+17x_{24}+34x_{24}\\\\\n",
    "+14x_{31}+20x_{32}+25x_{33}+40x_{34}\\\\\n",
    "+12x_{41}+14x_{42}+15x_{43}+30x_{44}\\\\\n",
    "\\to  max\n",
    "\\qquad \n",
    "} $"
   ]
  },
  {
   "cell_type": "markdown",
   "metadata": {},
   "source": [
    "<span style=\"font-size: 150%;color:white;background:#bf9000\">METODA ZWYKŁA rozwiązania tego zadania"
   ]
  },
  {
   "cell_type": "code",
   "execution_count": 116,
   "metadata": {},
   "outputs": [],
   "source": [
    "from pulp import *\n",
    "from fractions import Fraction\n",
    "\n",
    "# zdefiniowanie problemu- to jest taka platforma do wrzucania na nia wszystkiego\n",
    "\n",
    "prob = LpProblem(\"Przykład_96_STR_146\",LpMaximize)"
   ]
  },
  {
   "cell_type": "markdown",
   "metadata": {},
   "source": [
    "Wstawianie pierwszych warunków ograniczających: ograniczeniami nieujemności\n",
    "\n",
    "#### $\n",
    "\\left\\{\n",
    "\\begin{align} \n",
    "{x_{11}} & \\geqslant 0 & (4)\\\\\n",
    "{x_{12}} & \\geqslant 0 & (5)\\\\\n",
    "{x_{13}} & \\geqslant 0 & (5)\\\\\n",
    "{x_{14}} & \\geqslant 0 & (5)\\\\\n",
    "{x_{15}} & \\geqslant 0 & (5)\\\\\n",
    "{x_{16}} & \\geqslant 0 & (5)\\\\\n",
    "{x_{21}} & \\geqslant 0 & (5)\\\\\n",
    "{x_{22}} & \\geqslant 0 & (5)\\\\\n",
    "{x_{23}} & \\geqslant 0 & (5)\\\\\n",
    "{x_{24}} & \\geqslant 0 & (5)\\\\\n",
    "{x_{25}} & \\geqslant 0 & (5)\\\\\n",
    "{x_{26}} & \\geqslant 0 & (5)\\\\\n",
    "{x_{31}} & \\geqslant 0 & (5)\\\\\n",
    "{x_{32}} & \\geqslant 0 & (5)\\\\\n",
    "{x_{33}} & \\geqslant 0 & (5)\\\\\n",
    "{x_{34}} & \\geqslant 0 & (5)\\\\\n",
    "{x_{35}} & \\geqslant 0 & (5)\\\\\n",
    "{x_{36}} & \\geqslant 0 & (5)\\\\\n",
    "{x_{41}} & \\geqslant 0 & (5)\\\\\n",
    "{x_{42}} & \\geqslant 0 & (5)\\\\\n",
    "{x_{43}} & \\geqslant 0 & (5)\\\\\n",
    "{x_{44}} & \\geqslant 0 & (5)\\\\\n",
    "{x_{45}} & \\geqslant 0 & (5)\\\\\n",
    "{x_{46}} & \\geqslant 0 & (5)\\\\\n",
    "{x_{51}} & \\geqslant 0 & (5)\\\\\n",
    "{x_{52}} & \\geqslant 0 & (5)\\\\\n",
    "{x_{53}} & \\geqslant 0 & (5)\\\\\n",
    "{x_{54}} & \\geqslant 0 & (5)\\\\\n",
    "{x_{55}} & \\geqslant 0 & (5)\\\\\n",
    "{x_{56}} & \\geqslant 0 & (5)\\\\\n",
    "{x_{61}} & \\geqslant 0 & (5)\\\\\n",
    "{x_{62}} & \\geqslant 0 & (5)\\\\\n",
    "{x_{63}} & \\geqslant 0 & (5)\\\\\n",
    "{x_{64}} & \\geqslant 0 & (5)\\\\\n",
    "{x_{65}} & \\geqslant 0 & (5)\\\\\n",
    "{x_{66}} & \\geqslant 0 & (5)\\\\\n",
    "\\end{align}\n",
    "\\right. \n",
    "$"
   ]
  },
  {
   "cell_type": "markdown",
   "metadata": {},
   "source": [
    "<span style=\"font-size: 150%;color:white;background:#bf9000\">METODA ZWYKŁA rozwiązania tego zadania"
   ]
  },
  {
   "cell_type": "code",
   "execution_count": 34,
   "metadata": {},
   "outputs": [],
   "source": [
    "# \"Continuous\"\n",
    "# \"Integer\"\n",
    "\n",
    "x11=LpVariable(\"x11\",lowBound=0,upBound=None, cat=\"Integer\")\n",
    "x12=LpVariable(\"x12\",lowBound=0,upBound=None, cat=\"Integer\")\n",
    "x13=LpVariable(\"x13\",lowBound=0,upBound=None, cat=\"Integer\")\n",
    "x14=LpVariable(\"x14\",lowBound=0,upBound=None, cat=\"Integer\")\n",
    "x15=LpVariable(\"x15\",lowBound=0,upBound=None, cat=\"Integer\")\n",
    "x16=LpVariable(\"x16\",lowBound=0,upBound=None, cat=\"Integer\")\n",
    "\n",
    "x21=LpVariable(\"x21\",lowBound=0,upBound=None, cat=\"Integer\")\n",
    "x22=LpVariable(\"x22\",lowBound=0,upBound=None, cat=\"Integer\")\n",
    "x23=LpVariable(\"x23\",lowBound=0,upBound=None, cat=\"Integer\")\n",
    "x24=LpVariable(\"x24\",lowBound=0,upBound=None, cat=\"Integer\")\n",
    "x25=LpVariable(\"x25\",lowBound=0,upBound=None, cat=\"Integer\")\n",
    "x26=LpVariable(\"x26\",lowBound=0,upBound=None, cat=\"Integer\")\n",
    "\n",
    "x31=LpVariable(\"x31\",lowBound=0,upBound=None, cat=\"Integer\")\n",
    "x32=LpVariable(\"x32\",lowBound=0,upBound=None, cat=\"Integer\")\n",
    "x33=LpVariable(\"x33\",lowBound=0,upBound=None, cat=\"Integer\")\n",
    "x34=LpVariable(\"x34\",lowBound=0,upBound=None, cat=\"Integer\") \n",
    "x35=LpVariable(\"x35\",lowBound=0,upBound=None, cat=\"Integer\")\n",
    "x36=LpVariable(\"x36\",lowBound=0,upBound=None, cat=\"Integer\") \n",
    "\n",
    "x41=LpVariable(\"x41\",lowBound=0,upBound=None, cat=\"Integer\")  \n",
    "x42=LpVariable(\"x42\",lowBound=0,upBound=None, cat=\"Integer\")  \n",
    "x43=LpVariable(\"x43\",lowBound=0,upBound=None, cat=\"Integer\")  \n",
    "x44=LpVariable(\"x44\",lowBound=0,upBound=None, cat=\"Integer\")  \n",
    "x45=LpVariable(\"x45\",lowBound=0,upBound=None, cat=\"Integer\")  \n",
    "x46=LpVariable(\"x46\",lowBound=0,upBound=None, cat=\"Integer\")  \n",
    "\n",
    "x51=LpVariable(\"x51\",lowBound=0,upBound=None, cat=\"Integer\")  \n",
    "x52=LpVariable(\"x52\",lowBound=0,upBound=None, cat=\"Integer\")  \n",
    "x53=LpVariable(\"x53\",lowBound=0,upBound=None, cat=\"Integer\")  \n",
    "x54=LpVariable(\"x54\",lowBound=0,upBound=None, cat=\"Integer\")  \n",
    "x55=LpVariable(\"x55\",lowBound=0,upBound=None, cat=\"Integer\")  \n",
    "x56=LpVariable(\"x56\",lowBound=0,upBound=None, cat=\"Integer\") \n",
    "\n",
    "x61=LpVariable(\"x61\",lowBound=0,upBound=None, cat=\"Integer\")  \n",
    "x62=LpVariable(\"x62\",lowBound=0,upBound=None, cat=\"Integer\")  \n",
    "x63=LpVariable(\"x63\",lowBound=0,upBound=None, cat=\"Integer\")  \n",
    "x64=LpVariable(\"x64\",lowBound=0,upBound=None, cat=\"Integer\")  \n",
    "x65=LpVariable(\"x65\",lowBound=0,upBound=None, cat=\"Integer\")  \n",
    "x66=LpVariable(\"x66\",lowBound=0,upBound=None, cat=\"Integer\") "
   ]
  },
  {
   "cell_type": "markdown",
   "metadata": {},
   "source": [
    "### Dodajemy do platformy funkcje celu\n",
    "\n",
    "Zmaksymalizować efektywność pracy.\n",
    "\n",
    "$\n",
    "F(x_{i,j})\\\\\n",
    "=20x_{11}+20x_{12}+14x_{13}+28x_{14}\\\\\n",
    "+16x_{21}+26x_{23}+17x_{24}+34x_{24}\\\\\n",
    "+14x_{31}+20x_{32}+25x_{33}+40x_{34}\\\\\n",
    "+12x_{41}+14x_{42}+15x_{43}+30x_{44}\\\\ \n",
    "$"
   ]
  },
  {
   "cell_type": "code",
   "execution_count": 118,
   "metadata": {},
   "outputs": [],
   "source": [
    "# objective function\n",
    "prob +=20*x11+20*x12+14*x13+28*x14+16*x21+26*x22+17*x23+34*x24+14*x31+20*x32+25*x33+40*x34+12*x41+14*x42+15*x43+30*x44, \"maksymalizacja wydajności produkcji \""
   ]
  },
  {
   "cell_type": "code",
   "execution_count": 119,
   "metadata": {},
   "outputs": [
    {
     "name": "stdout",
     "output_type": "stream",
     "text": [
      "Przykład_96_STR_146:\n",
      "MAXIMIZE\n",
      "20*x11 + 20*x12 + 14*x13 + 28*x14 + 16*x21 + 26*x22 + 17*x23 + 34*x24 + 14*x31 + 20*x32 + 25*x33 + 40*x34 + 12*x41 + 14*x42 + 15*x43 + 30*x44 + 0\n",
      "VARIABLES\n",
      "0 <= x11 Integer\n",
      "0 <= x12 Integer\n",
      "0 <= x13 Integer\n",
      "0 <= x14 Integer\n",
      "0 <= x21 Integer\n",
      "0 <= x22 Integer\n",
      "0 <= x23 Integer\n",
      "0 <= x24 Integer\n",
      "0 <= x31 Integer\n",
      "0 <= x32 Integer\n",
      "0 <= x33 Integer\n",
      "0 <= x34 Integer\n",
      "0 <= x41 Integer\n",
      "0 <= x42 Integer\n",
      "0 <= x43 Integer\n",
      "0 <= x44 Integer\n",
      "\n"
     ]
    }
   ],
   "source": [
    "print(prob)"
   ]
  },
  {
   "cell_type": "markdown",
   "metadata": {},
   "source": [
    "#### $\n",
    "\\left\\{\n",
    "\\begin{align} \n",
    "{x_{11}+x_{12}+x_{13}+x_{14}} & = 1 & (godziny-1)\\\\\n",
    "{x_{21}+x_{22}+x_{23}+x_{24}} & = 1 & (godziny-2)\\\\\n",
    "{x_{31}+x_{32}+x_{33}+x_{34}} & = 1 & (godziny-3)\\\\\n",
    "{x_{41}+x_{42}+x_{43}+x_{44}} & = 1 & (godziny-4)\\\\\n",
    "\\end{align}\n",
    "\\right. \n",
    "$\n",
    "\n",
    "<span style=\"font-size: 130%;color:#0000ff\"> Krok 4: ograniczenie pośrednie - każda robota może być przydzielona tylko raz </span>\n",
    "#### $\n",
    "\\left\\{\n",
    "\\begin{align} \n",
    "{x_{11}+x_{21}+x_{31}+x_{41}} & = 1 & (program-1)\\\\\n",
    "{x_{12}+x_{22}+x_{32}+x_{42}} & = 1 & (program-2)\\\\\n",
    "{x_{13}+x_{23}+x_{33}+x_{43}} & = 1 & (program-3)\\\\\n",
    "{x_{14}+x_{24}+x_{34}+x_{44}} & = 1 & (program-4)\\\\\n",
    "\\end{align}\n",
    "\\right. \n",
    "$"
   ]
  },
  {
   "cell_type": "code",
   "execution_count": 120,
   "metadata": {},
   "outputs": [],
   "source": [
    "# OGRANICZENIA GODZIN\n",
    "prob += x11 + x21 + x31+ x41  == 1\n",
    "prob += x12 + x22 + x32+ x42  == 1\n",
    "prob += x13 + x23 + x33+ x43  == 1\n",
    "prob += x14 + x24 + x34+ x44  == 1"
   ]
  },
  {
   "cell_type": "code",
   "execution_count": 121,
   "metadata": {},
   "outputs": [],
   "source": [
    "# OGRANICZENIA DLA PRODUKTÓW\n",
    "prob += x11 + x12 + x13 + x14 == 1  # PRODUKT A\n",
    "prob += x21 + x22 + x23 + x24 == 1  # PRODUKT B\n",
    "prob += x31 + x32 + x33 + x34 == 1  # PRODUKT C\n",
    "prob += x41 + x42 + x43 + x44 == 1  # PRODUKT D"
   ]
  },
  {
   "cell_type": "code",
   "execution_count": 122,
   "metadata": {},
   "outputs": [
    {
     "name": "stdout",
     "output_type": "stream",
     "text": [
      "Przykład_96_STR_146:\n",
      "MAXIMIZE\n",
      "20*x11 + 20*x12 + 14*x13 + 28*x14 + 16*x21 + 26*x22 + 17*x23 + 34*x24 + 14*x31 + 20*x32 + 25*x33 + 40*x34 + 12*x41 + 14*x42 + 15*x43 + 30*x44 + 0\n",
      "SUBJECT TO\n",
      "_C1: x11 + x21 + x31 + x41 = 1\n",
      "\n",
      "_C2: x12 + x22 + x32 + x42 = 1\n",
      "\n",
      "_C3: x13 + x23 + x33 + x43 = 1\n",
      "\n",
      "_C4: x14 + x24 + x34 + x44 = 1\n",
      "\n",
      "_C5: x11 + x12 + x13 + x14 = 1\n",
      "\n",
      "_C6: x21 + x22 + x23 + x24 = 1\n",
      "\n",
      "_C7: x31 + x32 + x33 + x34 = 1\n",
      "\n",
      "_C8: x41 + x42 + x43 + x44 = 1\n",
      "\n",
      "VARIABLES\n",
      "0 <= x11 Integer\n",
      "0 <= x12 Integer\n",
      "0 <= x13 Integer\n",
      "0 <= x14 Integer\n",
      "0 <= x21 Integer\n",
      "0 <= x22 Integer\n",
      "0 <= x23 Integer\n",
      "0 <= x24 Integer\n",
      "0 <= x31 Integer\n",
      "0 <= x32 Integer\n",
      "0 <= x33 Integer\n",
      "0 <= x34 Integer\n",
      "0 <= x41 Integer\n",
      "0 <= x42 Integer\n",
      "0 <= x43 Integer\n",
      "0 <= x44 Integer\n",
      "\n"
     ]
    }
   ],
   "source": [
    "print(prob)"
   ]
  },
  {
   "cell_type": "code",
   "execution_count": 123,
   "metadata": {},
   "outputs": [
    {
     "name": "stdout",
     "output_type": "stream",
     "text": [
      "Przykład_96_STR_146:\n",
      "MAXIMIZE\n",
      "20*x11 + 20*x12 + 14*x13 + 28*x14 + 16*x21 + 26*x22 + 17*x23 + 34*x24 + 14*x31 + 20*x32 + 25*x33 + 40*x34 + 12*x41 + 14*x42 + 15*x43 + 30*x44 + 0\n",
      "SUBJECT TO\n",
      "_C1: x11 + x21 + x31 + x41 = 1\n",
      "\n",
      "_C2: x12 + x22 + x32 + x42 = 1\n",
      "\n",
      "_C3: x13 + x23 + x33 + x43 = 1\n",
      "\n",
      "_C4: x14 + x24 + x34 + x44 = 1\n",
      "\n",
      "_C5: x11 + x12 + x13 + x14 = 1\n",
      "\n",
      "_C6: x21 + x22 + x23 + x24 = 1\n",
      "\n",
      "_C7: x31 + x32 + x33 + x34 = 1\n",
      "\n",
      "_C8: x41 + x42 + x43 + x44 = 1\n",
      "\n",
      "VARIABLES\n",
      "0 <= x11 Integer\n",
      "0 <= x12 Integer\n",
      "0 <= x13 Integer\n",
      "0 <= x14 Integer\n",
      "0 <= x21 Integer\n",
      "0 <= x22 Integer\n",
      "0 <= x23 Integer\n",
      "0 <= x24 Integer\n",
      "0 <= x31 Integer\n",
      "0 <= x32 Integer\n",
      "0 <= x33 Integer\n",
      "0 <= x34 Integer\n",
      "0 <= x41 Integer\n",
      "0 <= x42 Integer\n",
      "0 <= x43 Integer\n",
      "0 <= x44 Integer\n",
      "\n"
     ]
    }
   ],
   "source": [
    "print(prob)"
   ]
  },
  {
   "cell_type": "markdown",
   "metadata": {},
   "source": [
    "### Rozwiązanie problemu"
   ]
  },
  {
   "cell_type": "code",
   "execution_count": 124,
   "metadata": {},
   "outputs": [
    {
     "name": "stdout",
     "output_type": "stream",
     "text": [
      "prob.solve 1\n",
      "Status: Optimal\n"
     ]
    }
   ],
   "source": [
    "print(\"prob.solve\",prob.solve())\n",
    "# status of the solution\n",
    "print(f\"Status: {LpStatus[prob.status]}\")"
   ]
  },
  {
   "cell_type": "code",
   "execution_count": 125,
   "metadata": {},
   "outputs": [
    {
     "name": "stdout",
     "output_type": "stream",
     "text": [
      "x11 = 1\n",
      "x12 = 0\n",
      "x13 = 0\n",
      "x14 = 0\n",
      "x21 = 0\n",
      "x22 = 1\n",
      "x23 = 0\n",
      "x24 = 0\n",
      "x31 = 0\n",
      "x32 = 0\n",
      "x33 = 0\n",
      "x34 = 1\n",
      "x41 = 0\n",
      "x42 = 0\n",
      "x43 = 1\n",
      "x44 = 0\n"
     ]
    }
   ],
   "source": [
    "for v in prob.variables():\n",
    "    print(f\"{v.name} = {str(Fraction(v.varValue).limit_denominator())}\")\n"
   ]
  },
  {
   "cell_type": "code",
   "execution_count": 126,
   "metadata": {},
   "outputs": [
    {
     "name": "stdout",
     "output_type": "stream",
     "text": [
      "max (x11+x12+x13+x21+x22+x23+x31+x32+x33+x41+x42+x43) = 101\n"
     ]
    }
   ],
   "source": [
    "# maximum value of the objective function\n",
    "print(f\"max (x11+x12+x13+x21+x22+x23+x31+x32+x33+x41+x42+x43) = {str(Fraction(value(prob.objective)).limit_denominator())}\")"
   ]
  },
  {
   "cell_type": "markdown",
   "metadata": {},
   "source": [
    "<span style=\"font-size: 130%;color:#0000ff\">MAKSYMAKLIZACJA OGLĄDALNOŚCI TO 101 TYS. WIDZÓW"
   ]
  },
  {
   "cell_type": "markdown",
   "metadata": {},
   "source": [
    "<span style=\"font-size: 150%;color:white;background:#bf9000\">METODA MACIERZOWA rozwiązania tego zadania"
   ]
  },
  {
   "cell_type": "code",
   "execution_count": 157,
   "metadata": {},
   "outputs": [],
   "source": [
    "from pulp import *\n",
    "\n",
    "# Tworze listę zakładów\n",
    "Warehouses = [\"GODZINY 1\",\"GODZINY 2\",\"GODZINY 3\",\"GODZINY 4\"]\n",
    "\n",
    "# Tworze słownik ile każdy PROGRAM może  być maksymalnie emitowany\n",
    "supply = {\"GODZINY 1\": 1,\n",
    "          \"GODZINY 2\": 1,\n",
    "          \"GODZINY 3\": 1,\n",
    "          \"GODZINY 4\": 1}"
   ]
  },
  {
   "cell_type": "code",
   "execution_count": 158,
   "metadata": {},
   "outputs": [
    {
     "name": "stdout",
     "output_type": "stream",
     "text": [
      "Warehouses: ['GODZINY 1', 'GODZINY 2', 'GODZINY 3', 'GODZINY 4']\n",
      "supply: {'GODZINY 1': 1, 'GODZINY 2': 1, 'GODZINY 3': 1, 'GODZINY 4': 1}\n",
      "Bars: ['program_1', 'program_2', 'program_3', 'program_4']\n",
      "Demand: {'program_1': 1, 'program_2': 1, 'program_3': 1, 'program_4': 1}\n"
     ]
    }
   ],
   "source": [
    "# Tworzę listę produktów\n",
    "Bars = [\"program_1\", \"program_2\", \"program_3\",\"program_4\"]\n",
    "\n",
    "# dokładna ilość detali do produkcji\n",
    "demand = {\"program_1\": 1,\n",
    "        \"program_2\": 1,\n",
    "        \"program_3\": 1,\n",
    "        \"program_4\": 1 \n",
    "        }\n",
    "print('Warehouses:',Warehouses)\n",
    "print('supply:',supply)\n",
    "print('Bars:',Bars)\n",
    "print('Demand:',demand)"
   ]
  },
  {
   "cell_type": "markdown",
   "metadata": {},
   "source": [
    "### <span style=\"color:blue\"> Są w różnych kategoriach. maszyny są w minutach, detale są w sztukach"
   ]
  },
  {
   "cell_type": "code",
   "execution_count": 159,
   "metadata": {},
   "outputs": [
    {
     "name": "stdout",
     "output_type": "stream",
     "text": [
      "+--------------+-----------+-----------+-----------+-----------+\n",
      "|   emisja:    | program_1 | program_2 | program_3 | program_4 |\n",
      "+--------------+-----------+-----------+-----------+-----------+\n",
      "| 7:00 - 8:00  |    20     |    20     |    14     |    28     |\n",
      "+--------------+-----------+-----------+-----------+-----------+\n",
      "| 8:00 - 9:00  |    16     |    26     |    17     |    34     |\n",
      "+--------------+-----------+-----------+-----------+-----------+\n",
      "| 9:00 - 10:00 |    14     |    20     |    25     |    40     |\n",
      "+--------------+-----------+-----------+-----------+-----------+\n",
      "| 10:00 -11:00 |    12     |    14     |    15     |    30     |\n",
      "+--------------+-----------+-----------+-----------+-----------+\n"
     ]
    }
   ],
   "source": [
    "from beautifultable import BeautifulTable\n",
    "\n",
    "table = BeautifulTable()\n",
    "table.column_headers = [\"emisja:\", \"program_1\",\"program_2\",\"program_3\",\"program_4\"]\n",
    "table.append_row([\"7:00 - 8:00\", 20,  20, 14, 28])\n",
    "table.append_row([\"8:00 - 9:00\", 16,  26, 17, 34])\n",
    "table.append_row([\"9:00 - 10:00\",14,  20, 25, 40])\n",
    "table.append_row([\"10:00 -11:00\",12,  14, 15, 30])\n",
    "print(table)"
   ]
  },
  {
   "cell_type": "code",
   "execution_count": 160,
   "metadata": {},
   "outputs": [],
   "source": [
    "        #programy\n",
    "        # 1,  2,  3,  4 \n",
    "\n",
    "costs = [   \n",
    "        [20, 20, 14, 28],  #godziny_1\n",
    "        [16, 26, 17, 34],  #godziny_2\n",
    "        [14, 20, 25, 40],  #godziny_3\n",
    "        [12, 14, 15, 30]   #godziny_4\n",
    "         ]"
   ]
  },
  {
   "cell_type": "code",
   "execution_count": 161,
   "metadata": {},
   "outputs": [
    {
     "data": {
      "text/plain": [
       "{'GODZINY 1': {'program_1': 20,\n",
       "  'program_2': 20,\n",
       "  'program_3': 14,\n",
       "  'program_4': 28},\n",
       " 'GODZINY 2': {'program_1': 16,\n",
       "  'program_2': 26,\n",
       "  'program_3': 17,\n",
       "  'program_4': 34},\n",
       " 'GODZINY 3': {'program_1': 14,\n",
       "  'program_2': 20,\n",
       "  'program_3': 25,\n",
       "  'program_4': 40},\n",
       " 'GODZINY 4': {'program_1': 12,\n",
       "  'program_2': 14,\n",
       "  'program_3': 15,\n",
       "  'program_4': 30}}"
      ]
     },
     "execution_count": 161,
     "metadata": {},
     "output_type": "execute_result"
    }
   ],
   "source": [
    "# The cost data is made into a dictionary\n",
    "costs = makeDict([Warehouses,Bars],costs,0)\n",
    "costs"
   ]
  },
  {
   "cell_type": "code",
   "execution_count": 162,
   "metadata": {},
   "outputs": [
    {
     "name": "stdout",
     "output_type": "stream",
     "text": [
      "Beer_Distribution_Problem:\n",
      "MAXIMIZE\n",
      "None\n",
      "VARIABLES\n",
      "\n"
     ]
    }
   ],
   "source": [
    "# Creates the 'prob' variable to contain the problem data\n",
    "prob = LpProblem(\"Beer Distribution Problem\",LpMaximize)\n",
    "print(prob)"
   ]
  },
  {
   "cell_type": "code",
   "execution_count": 163,
   "metadata": {},
   "outputs": [
    {
     "name": "stdout",
     "output_type": "stream",
     "text": [
      "[('GODZINY 1', 'program_1'), ('GODZINY 1', 'program_2'), ('GODZINY 1', 'program_3'), ('GODZINY 1', 'program_4'), ('GODZINY 2', 'program_1'), ('GODZINY 2', 'program_2'), ('GODZINY 2', 'program_3'), ('GODZINY 2', 'program_4'), ('GODZINY 3', 'program_1'), ('GODZINY 3', 'program_2'), ('GODZINY 3', 'program_3'), ('GODZINY 3', 'program_4'), ('GODZINY 4', 'program_1'), ('GODZINY 4', 'program_2'), ('GODZINY 4', 'program_3'), ('GODZINY 4', 'program_4')]\n"
     ]
    }
   ],
   "source": [
    "# Creates a list of tuples containing all the possible routes for transport\n",
    "Routes = [(w,b) for w in Warehouses for b in Bars]\n",
    "print(Routes)"
   ]
  },
  {
   "cell_type": "code",
   "execution_count": 164,
   "metadata": {},
   "outputs": [
    {
     "data": {
      "text/plain": [
       "{'GODZINY 1': {'program_1': Route_GODZINY_1_program_1,\n",
       "  'program_2': Route_GODZINY_1_program_2,\n",
       "  'program_3': Route_GODZINY_1_program_3,\n",
       "  'program_4': Route_GODZINY_1_program_4},\n",
       " 'GODZINY 2': {'program_1': Route_GODZINY_2_program_1,\n",
       "  'program_2': Route_GODZINY_2_program_2,\n",
       "  'program_3': Route_GODZINY_2_program_3,\n",
       "  'program_4': Route_GODZINY_2_program_4},\n",
       " 'GODZINY 3': {'program_1': Route_GODZINY_3_program_1,\n",
       "  'program_2': Route_GODZINY_3_program_2,\n",
       "  'program_3': Route_GODZINY_3_program_3,\n",
       "  'program_4': Route_GODZINY_3_program_4},\n",
       " 'GODZINY 4': {'program_1': Route_GODZINY_4_program_1,\n",
       "  'program_2': Route_GODZINY_4_program_2,\n",
       "  'program_3': Route_GODZINY_4_program_3,\n",
       "  'program_4': Route_GODZINY_4_program_4}}"
      ]
     },
     "execution_count": 164,
     "metadata": {},
     "output_type": "execute_result"
    }
   ],
   "source": [
    "# A dictionary called 'Vars' is created to contain the referenced variables(the routes)\n",
    "vars = LpVariable.dicts(\"Route\",(Warehouses,Bars),0,None,LpInteger)\n",
    "vars"
   ]
  },
  {
   "cell_type": "code",
   "execution_count": 165,
   "metadata": {},
   "outputs": [],
   "source": [
    "# The objective function is added to 'prob' first\n",
    "prob += lpSum([vars[w][b]*costs[w][b] for (w,b) in Routes]), \"Sum_of_Transporting_Costs\"\n",
    "\n",
    "# The supply maximum constraints are added to prob for each supply node (warehouse)\n",
    "for w in Warehouses:\n",
    "    prob += lpSum([vars[w][b] for b in Bars])<=supply[w], \"Sum_of_Products_out_of_Warehouse_%s\"%w\n",
    "\n",
    "    # The demand minimum constraints are added to prob for each demand node (bar)\n",
    "for b in Bars:\n",
    "    prob += lpSum([vars[w][b] for w in Warehouses])>=demand[b], \"Sum_of_Products_into_Bar%s\"%b"
   ]
  },
  {
   "cell_type": "code",
   "execution_count": 166,
   "metadata": {},
   "outputs": [
    {
     "data": {
      "text/plain": [
       "[Route_GODZINY_1_program_1,\n",
       " Route_GODZINY_1_program_2,\n",
       " Route_GODZINY_1_program_3,\n",
       " Route_GODZINY_1_program_4,\n",
       " Route_GODZINY_2_program_1,\n",
       " Route_GODZINY_2_program_2,\n",
       " Route_GODZINY_2_program_3,\n",
       " Route_GODZINY_2_program_4,\n",
       " Route_GODZINY_3_program_1,\n",
       " Route_GODZINY_3_program_2,\n",
       " Route_GODZINY_3_program_3,\n",
       " Route_GODZINY_3_program_4,\n",
       " Route_GODZINY_4_program_1,\n",
       " Route_GODZINY_4_program_2,\n",
       " Route_GODZINY_4_program_3,\n",
       " Route_GODZINY_4_program_4]"
      ]
     },
     "execution_count": 166,
     "metadata": {},
     "output_type": "execute_result"
    }
   ],
   "source": [
    "# The problem data is written to an .lp file\n",
    "prob.writeLP(\"BeerDistributionProblem.lp\")"
   ]
  },
  {
   "cell_type": "code",
   "execution_count": 167,
   "metadata": {},
   "outputs": [
    {
     "name": "stdout",
     "output_type": "stream",
     "text": [
      "prob.solve 1\n",
      "Status: Optimal\n"
     ]
    }
   ],
   "source": [
    "# The problem is solved using PuLP's choice of Solver\n",
    "print(\"prob.solve\",prob.solve())\n",
    "\n",
    "# The status of the solution is printed to the screen\n",
    "print(\"Status:\", LpStatus[prob.status])"
   ]
  },
  {
   "cell_type": "code",
   "execution_count": 168,
   "metadata": {},
   "outputs": [
    {
     "name": "stdout",
     "output_type": "stream",
     "text": [
      "Route_GODZINY_1_program_1 = 1.0\n",
      "Route_GODZINY_1_program_2 = 0.0\n",
      "Route_GODZINY_1_program_3 = 0.0\n",
      "Route_GODZINY_1_program_4 = 0.0\n",
      "Route_GODZINY_2_program_1 = 0.0\n",
      "Route_GODZINY_2_program_2 = 1.0\n",
      "Route_GODZINY_2_program_3 = 0.0\n",
      "Route_GODZINY_2_program_4 = 0.0\n",
      "Route_GODZINY_3_program_1 = 0.0\n",
      "Route_GODZINY_3_program_2 = 0.0\n",
      "Route_GODZINY_3_program_3 = 1.0\n",
      "Route_GODZINY_3_program_4 = 0.0\n",
      "Route_GODZINY_4_program_1 = 0.0\n",
      "Route_GODZINY_4_program_2 = 0.0\n",
      "Route_GODZINY_4_program_3 = 0.0\n",
      "Route_GODZINY_4_program_4 = 1.0\n"
     ]
    }
   ],
   "source": [
    "# Each of the variables is printed with it's resolved optimum value\n",
    "for v in prob.variables():\n",
    "    print(v.name, \"=\", v.varValue)"
   ]
  },
  {
   "cell_type": "code",
   "execution_count": 169,
   "metadata": {},
   "outputs": [
    {
     "name": "stdout",
     "output_type": "stream",
     "text": [
      "wydajność produkcji w tys. min =  101.0\n"
     ]
    }
   ],
   "source": [
    "# The optimised objective function value is printed to the screen    \n",
    "print(\"wydajność produkcji w tys. min = \", value(prob.objective))"
   ]
  },
  {
   "cell_type": "code",
   "execution_count": null,
   "metadata": {},
   "outputs": [],
   "source": []
  }
 ],
 "metadata": {
  "kernelspec": {
   "display_name": "Python 3",
   "language": "python",
   "name": "python3"
  },
  "language_info": {
   "codemirror_mode": {
    "name": "ipython",
    "version": 3
   },
   "file_extension": ".py",
   "mimetype": "text/x-python",
   "name": "python",
   "nbconvert_exporter": "python",
   "pygments_lexer": "ipython3",
   "version": "3.7.4"
  }
 },
 "nbformat": 4,
 "nbformat_minor": 2
}
