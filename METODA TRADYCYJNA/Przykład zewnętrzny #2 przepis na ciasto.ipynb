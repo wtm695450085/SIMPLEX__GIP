{
 "cells": [
  {
   "cell_type": "markdown",
   "metadata": {},
   "source": [
    "# <span style=\"color:blue\"> Przykład zewnętrzny #2 przepis na ciasto\n",
    "\n",
    "https://towardsdatascience.com/solving-your-first-linear-program-in-python-9e3020a9ad32"
   ]
  },
  {
   "cell_type": "markdown",
   "metadata": {},
   "source": [
    "Muszę upiec ciasto z czterech składników: mąki, jajek, masła i cukru. Pamiętam jednak tylko fragmenty i fragmenty przepisu, jak podano poniżej.\n",
    "\n",
    "    x1 - mąka\n",
    "    x2 - jaja\n",
    "    x3 - masło\n",
    "    x4 - cukier\n",
    "\n",
    "- Całkowita waga wszystkich składników wynosiła dokładnie 700 gramów:  \n",
    "$\n",
    "x_{1}+x_{2}+ x_{3} + x_{4}= 700 \n",
    "$\n",
    "\n",
    "- ilość masła była o połowę mniejsza niż cukru:  \n",
    "$ \n",
    "2x_{3}=x_{4}\n",
    "$\n",
    "\n",
    "$\n",
    "x_{3}-0.5x_{4}\n",
    "$\n",
    "- masa mąki i jaj łącznie wynosiła maksymalnie 450 gramów:   \n",
    "$ \n",
    "x_{1} + x_{2} <= 450 \n",
    "$\n",
    "\n",
    "- waga połączonych jaj i masła wynosiła najwyżej 300 gramów:  \n",
    "$\n",
    "x_{2} + x_{3} <= 300 \n",
    "$\n",
    "\n",
    "- masa jajek i masła była najwyżej taka, jak mąki i cukru:  \n",
    "$\n",
    "x_{2} + x_{3} <= x_{1} + x_{4}\n",
    "$\n",
    "\n",
    "$\n",
    "-x_{1}+ x_{2} + x_{3}- x_{4} <= 0 \n",
    "$\n",
    "\n",
    "- masa mąki plus cukier to dokładnie 500 gramów:  \n",
    "$\n",
    "x_{3} + x_{4} = 500\n",
    "$\n",
    "\n",
    "Czy na podstawie powyższych informacji można obliczyć optymalne wartości dla każdego ze składników?\n",
    "Odpowiedź brzmi tak. Do tego właśnie służy program liniowy.\n",
    "\n",
    "\n",
    "Funkcja celu - zminimalizować spożycie masła i jajek:  \n",
    "$\n",
    "x_{2} + x_{3} \\to min\n",
    "$"
   ]
  },
  {
   "cell_type": "raw",
   "metadata": {},
   "source": [
    "from beautifultable import BeautifulTable\n",
    "\n",
    "table = BeautifulTable()\n",
    "table.column_headers = [\"wytwórnie\", \"koszty jed.\",\"przychód jed.\", \"Zysk jed.\", \"zdol prod\", \"max dni prod\", \" max prod m-c\"]\n",
    "table.append_row([\"Fabryka 1\",    450,    500,     500-450 ,2000,30,30*2000])\n",
    "table.append_row([\"Fabryka 2\",    420,    500,     500-420 ,1500,30,1500*30])\n",
    "table.append_row([\"Fabryka 3\",    400,    500,     500-400 ,1000,30,1000*30])\n",
    "print(table)"
   ]
  },
  {
   "cell_type": "raw",
   "metadata": {},
   "source": [
    "<span style=\"font-size: 150%;color:#0000ff\">Krok 1: ZMIENNA DECYZYJNA Czym jest x? </span>\n",
    "\n",
    "ilość dni produkcji w fabryce 0, 1 i 2\n",
    "\n",
    "<span style=\"font-size: 150%;color:#0000ff\"> Krok 2: Co jest w tabeli?</span>\n",
    "\n",
    "nic\n",
    "\n",
    "<span style=\"font-size: 150%;color:#0000ff\"> Krok 3: ograniczenie zmiennych decyzyjnych</span>\n",
    "\n",
    "zmienną decyzyjną jest ilość dni produkcji. Ograniczenie czasu pracy zakładów\n",
    "\n",
    "#### $\n",
    "\\left\\{\n",
    "\\begin{align} \n",
    "{2000x_{1}+1500x_{2}+1000x_{3}} & = 80000 & (2)\\\\\n",
    "\\end{align}\n",
    "\\right. \n",
    "$\n",
    "\n",
    "### żadna fabryka nie będzie produkować więcej niż dwa razy więcej jednostek niż jakakolwiek inna fabryka\n",
    "\n",
    "#### $\n",
    "\\left\\{\n",
    "\\begin{align} \n",
    "{2000x_{1}} & \\leqslant 2\\times1500x_{2} & (1)\\\\\n",
    "{2000x_{1}} & \\leqslant 2\\times1000x_{3} & (2)\\\\\n",
    "{1500x_{2}} & \\leqslant 2\\times2000x_{1} & (3)\\\\\n",
    "{1500x_{2}} & \\leqslant 2\\times1000x_{3} & (4)\\\\\n",
    "{1000x_{3}} & \\leqslant 2\\times2000x_{1} & (5)\\\\\n",
    "{1000x_{3}} & \\leqslant 2\\times1500x_{2} & (6)\\\\\n",
    "\\end{align}\n",
    "\\right. \n",
    "$\n",
    "\n",
    "\n",
    "<span style=\"font-size: 150%;color:#0000ff\"> Krok 5: jaka jest funkcja celu?</span>\n",
    "\n",
    "Zmaksymalizować zyski z produkcji.\n",
    "\n",
    "$\\bbox[5px,border:1px solid red]\n",
    "{\n",
    "\\\\\n",
    "F(x_{i,j})=50x_{1}+80x_{2}+100x_{3}  \\to  max\n",
    "\\qquad \n",
    "} $"
   ]
  },
  {
   "cell_type": "code",
   "execution_count": 1,
   "metadata": {},
   "outputs": [],
   "source": [
    "from pulp import *\n",
    "from fractions import Fraction\n",
    "\n",
    "# zdefiniowanie problemu- to jest taka platforma do wrzucania na nia wszystkiego\n",
    "\n",
    "prob = LpProblem(\"Ciasto\",LpMinimize)"
   ]
  },
  {
   "cell_type": "code",
   "execution_count": 2,
   "metadata": {},
   "outputs": [],
   "source": [
    "# \"Continuous\"\n",
    "# \"Integer\"\n",
    "\n",
    "x1=LpVariable(\"x1\",lowBound=0,upBound=None, cat=\"Continuous\")\n",
    "x2=LpVariable(\"x2\",lowBound=0,upBound=None, cat=\"Continuous\")\n",
    "x3=LpVariable(\"x3\",lowBound=0,upBound=None, cat=\"Continuous\")\n",
    "x4=LpVariable(\"x4\",lowBound=0,upBound=None, cat=\"Continuous\")"
   ]
  },
  {
   "cell_type": "markdown",
   "metadata": {},
   "source": [
    "### Dodajemy do platformy funkcje celu\n",
    "\n",
    "$\n",
    "x_{2} + x_{3} \\to min\n",
    "$"
   ]
  },
  {
   "cell_type": "code",
   "execution_count": 3,
   "metadata": {},
   "outputs": [],
   "source": [
    "# objective function\n",
    "prob += x2+x3, \"Minimalizacja \""
   ]
  },
  {
   "cell_type": "code",
   "execution_count": 4,
   "metadata": {},
   "outputs": [
    {
     "name": "stdout",
     "output_type": "stream",
     "text": [
      "Ciasto:\n",
      "MINIMIZE\n",
      "1*x2 + 1*x3 + 0\n",
      "VARIABLES\n",
      "x2 Continuous\n",
      "x3 Continuous\n",
      "\n"
     ]
    }
   ],
   "source": [
    "print(prob)"
   ]
  },
  {
   "cell_type": "markdown",
   "metadata": {},
   "source": [
    "- Całkowita waga wszystkich składników wynosiła dokładnie 700 gramów:  \n",
    "$\n",
    "x_{1}+x_{2}+ x_{3} + x_{4}= 700 \n",
    "$\n",
    "\n",
    "- ilość masła była o połowę mniejsza niż cukru:  \n",
    "$ \n",
    "2x_{3}=x_{4}\n",
    "$\n",
    "\n",
    "$\n",
    "x_{3}-0.5x_{4}\n",
    "$\n",
    "- masa mąki i jaj łącznie wynosiła maksymalnie 450 gramów:   \n",
    "$ \n",
    "x_{1} + x_{2} <= 450 \n",
    "$\n",
    "\n",
    "- waga połączonych jaj i masła wynosiła najwyżej 300 gramów:  \n",
    "$\n",
    "x_{2} + x_{3} <= 300 \n",
    "$\n",
    "\n",
    "- masa jajek i masła była najwyżej taka, jak mąki i cukru:  \n",
    "$\n",
    "x_{2} + x_{3} <= x_{1} + x_{4}\n",
    "$\n",
    "\n",
    "$\n",
    "-x_{1}+ x_{2} + x_{3}- x_{4} <= 0 \n",
    "$\n"
   ]
  },
  {
   "cell_type": "code",
   "execution_count": 5,
   "metadata": {},
   "outputs": [],
   "source": [
    "# main constraints\n",
    "prob += x1 + x2 + x3+ x4== 700\n",
    "prob += x3 - 0.5*x4== 0\n",
    "prob += x1+x2 <= 450\n",
    "prob += x2+x3 <= 300\n",
    "prob += -x1+x2+x3-x4<=0\n",
    "prob += x3+x4 == 500\n"
   ]
  },
  {
   "cell_type": "code",
   "execution_count": 6,
   "metadata": {},
   "outputs": [
    {
     "name": "stdout",
     "output_type": "stream",
     "text": [
      "Ciasto:\n",
      "MINIMIZE\n",
      "1*x2 + 1*x3 + 0\n",
      "SUBJECT TO\n",
      "_C1: x1 + x2 + x3 + x4 = 700\n",
      "\n",
      "_C2: x3 - 0.5 x4 = 0\n",
      "\n",
      "_C3: x1 + x2 <= 450\n",
      "\n",
      "_C4: x2 + x3 <= 300\n",
      "\n",
      "_C5: - x1 + x2 + x3 - x4 <= 0\n",
      "\n",
      "_C6: x3 + x4 = 500\n",
      "\n",
      "VARIABLES\n",
      "x1 Continuous\n",
      "x2 Continuous\n",
      "x3 Continuous\n",
      "x4 Continuous\n",
      "\n"
     ]
    }
   ],
   "source": [
    "print(prob)"
   ]
  },
  {
   "cell_type": "code",
   "execution_count": 7,
   "metadata": {},
   "outputs": [
    {
     "name": "stdout",
     "output_type": "stream",
     "text": [
      "Ciasto:\n",
      "MINIMIZE\n",
      "1*x2 + 1*x3 + 0\n",
      "SUBJECT TO\n",
      "_C1: x1 + x2 + x3 + x4 = 700\n",
      "\n",
      "_C2: x3 - 0.5 x4 = 0\n",
      "\n",
      "_C3: x1 + x2 <= 450\n",
      "\n",
      "_C4: x2 + x3 <= 300\n",
      "\n",
      "_C5: - x1 + x2 + x3 - x4 <= 0\n",
      "\n",
      "_C6: x3 + x4 = 500\n",
      "\n",
      "VARIABLES\n",
      "x1 Continuous\n",
      "x2 Continuous\n",
      "x3 Continuous\n",
      "x4 Continuous\n",
      "\n"
     ]
    }
   ],
   "source": [
    "print(prob)"
   ]
  },
  {
   "cell_type": "markdown",
   "metadata": {},
   "source": [
    "### Rozwiązanie problemu"
   ]
  },
  {
   "cell_type": "code",
   "execution_count": 8,
   "metadata": {},
   "outputs": [
    {
     "name": "stdout",
     "output_type": "stream",
     "text": [
      "prob.solve 1\n",
      "Status: Optimal\n"
     ]
    }
   ],
   "source": [
    "print(\"prob.solve\",prob.solve())\n",
    "# status of the solution\n",
    "print(f\"Status: {LpStatus[prob.status]}\")"
   ]
  },
  {
   "cell_type": "code",
   "execution_count": 9,
   "metadata": {},
   "outputs": [
    {
     "name": "stdout",
     "output_type": "stream",
     "text": [
      "x1 = 200\n",
      "x2 = 0\n",
      "x3 = 16666667/100000\n",
      "x4 = 33333333/100000\n"
     ]
    }
   ],
   "source": [
    "for v in prob.variables():\n",
    "    print(f\"{v.name} = {str(Fraction(v.varValue).limit_denominator())}\")"
   ]
  },
  {
   "cell_type": "code",
   "execution_count": 10,
   "metadata": {},
   "outputs": [
    {
     "name": "stdout",
     "output_type": "stream",
     "text": [
      "max (x11+x12+x13+x21+x22+x23+x31+x32+x33+x41+x42+x43) = 16666667/100000\n"
     ]
    }
   ],
   "source": [
    "# maximum value of the objective function\n",
    "print(f\"max (x11+x12+x13+x21+x22+x23+x31+x32+x33+x41+x42+x43) = {str(Fraction(value(prob.objective)).limit_denominator())}\")"
   ]
  },
  {
   "cell_type": "markdown",
   "metadata": {},
   "source": [
    " # W artykule maja inne wyniki"
   ]
  }
 ],
 "metadata": {
  "kernelspec": {
   "display_name": "Python 3",
   "language": "python",
   "name": "python3"
  },
  "language_info": {
   "codemirror_mode": {
    "name": "ipython",
    "version": 3
   },
   "file_extension": ".py",
   "mimetype": "text/x-python",
   "name": "python",
   "nbconvert_exporter": "python",
   "pygments_lexer": "ipython3",
   "version": "3.7.4"
  }
 },
 "nbformat": 4,
 "nbformat_minor": 2
}
