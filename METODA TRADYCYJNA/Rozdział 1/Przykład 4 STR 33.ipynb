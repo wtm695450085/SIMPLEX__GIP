{
 "cells": [
  {
   "cell_type": "markdown",
   "metadata": {},
   "source": [
    "<span style=\"font-size: 290%;color:#434343;background:#efefef\"> Przykład 4 STR 33\n",
    "    Celem ćwiczenia jest: \n",
    "    1. zrobienie przykładu prostą wersją PuLP\n",
    "    2. zrobienie przykładu metodą PANDY\n",
    "    3. zrobienie wielkiego pliku df i zrobienie na sporych liczbach\n",
    "    08:05"
   ]
  },
  {
   "cell_type": "markdown",
   "metadata": {},
   "source": [
    "<span style=\"font-size: 150%;color:white;background:#1155cc\"> Przykład 4 STR 33"
   ]
  },
  {
   "cell_type": "code",
   "execution_count": 1,
   "metadata": {},
   "outputs": [],
   "source": [
    "import pandas as pd\n",
    "from pulp import *\n",
    "\n",
    "cc =[\"Składnik_1\", \"Składnik_2\", \"Składnik_3\"]\n",
    "aaa = [3, 8, 12]\n",
    "bbb = [9, 4,  3]\n",
    "df = pd.DataFrame({'Składni:': cc, 'Produkt_1': aaa, 'Produkt_2': bbb  })"
   ]
  },
  {
   "cell_type": "code",
   "execution_count": 2,
   "metadata": {},
   "outputs": [
    {
     "data": {
      "text/html": [
       "<div>\n",
       "<style scoped>\n",
       "    .dataframe tbody tr th:only-of-type {\n",
       "        vertical-align: middle;\n",
       "    }\n",
       "\n",
       "    .dataframe tbody tr th {\n",
       "        vertical-align: top;\n",
       "    }\n",
       "\n",
       "    .dataframe thead th {\n",
       "        text-align: right;\n",
       "    }\n",
       "</style>\n",
       "<table border=\"1\" class=\"dataframe\">\n",
       "  <thead>\n",
       "    <tr style=\"text-align: right;\">\n",
       "      <th></th>\n",
       "      <th>Składni:</th>\n",
       "      <th>Produkt_1</th>\n",
       "      <th>Produkt_2</th>\n",
       "    </tr>\n",
       "  </thead>\n",
       "  <tbody>\n",
       "    <tr>\n",
       "      <td>0</td>\n",
       "      <td>Składnik_1</td>\n",
       "      <td>3</td>\n",
       "      <td>9</td>\n",
       "    </tr>\n",
       "    <tr>\n",
       "      <td>1</td>\n",
       "      <td>Składnik_2</td>\n",
       "      <td>8</td>\n",
       "      <td>4</td>\n",
       "    </tr>\n",
       "    <tr>\n",
       "      <td>2</td>\n",
       "      <td>Składnik_3</td>\n",
       "      <td>12</td>\n",
       "      <td>3</td>\n",
       "    </tr>\n",
       "  </tbody>\n",
       "</table>\n",
       "</div>"
      ],
      "text/plain": [
       "     Składni:  Produkt_1  Produkt_2\n",
       "0  Składnik_1          3          9\n",
       "1  Składnik_2          8          4\n",
       "2  Składnik_3         12          3"
      ]
     },
     "execution_count": 2,
     "metadata": {},
     "output_type": "execute_result"
    }
   ],
   "source": [
    "df"
   ]
  },
  {
   "cell_type": "code",
   "execution_count": 3,
   "metadata": {},
   "outputs": [
    {
     "name": "stdout",
     "output_type": "stream",
     "text": [
      "+------------+------------------+-----------------+----------------------------+\n",
      "| SKładniki: | Zawartość składn | Zawartość skład | Minimalna ilość składników |\n",
      "|            |     ika: P1      |    nika: P2     |         odżywczych         |\n",
      "+------------+------------------+-----------------+----------------------------+\n",
      "|     S1     |        3         |        9        |            >=27            |\n",
      "+------------+------------------+-----------------+----------------------------+\n",
      "|     S2     |        8         |        4        |            >=32            |\n",
      "+------------+------------------+-----------------+----------------------------+\n",
      "|     S3     |        12        |        3        |            >=36            |\n",
      "+------------+------------------+-----------------+----------------------------+\n",
      "|   Cena:    |        6         |        9        |             0              |\n",
      "+------------+------------------+-----------------+----------------------------+\n"
     ]
    }
   ],
   "source": [
    "from beautifultable import BeautifulTable\n",
    "\n",
    "table = BeautifulTable()\n",
    "table.column_headers = [\"SKładniki:\", \"Zawartość składnika: P1\",\"Zawartość składnika: P2\",\"Minimalna ilość składników odżywczych\"]\n",
    "table.append_row([\"S1\", 3, 9,  '>=27' ])\n",
    "table.append_row([\"S2\", 8, 4,  '>=32' ])\n",
    "table.append_row([\"S3\", 12, 3, '>=36' ])\n",
    "table.append_row([\"Cena:\", 6, 9,0])\n",
    "print(table)"
   ]
  },
  {
   "cell_type": "markdown",
   "metadata": {},
   "source": [
    "#### Metoda SIMPLEX"
   ]
  },
  {
   "cell_type": "markdown",
   "metadata": {},
   "source": [
    "Celem jest minimalizacja kosztów przy zachowaniu minimalnej ale koniecznej ilości środków odżywczych\n",
    "\n",
    "\n",
    "$ \\bbox[5px,border:1px solid red]\n",
    "{\n",
    "F(x_1,x_2) = 6x_{1} + 9x_{2} \\to  min \n",
    "\\qquad (funkcja-celu)  \n",
    "} $"
   ]
  },
  {
   "cell_type": "markdown",
   "metadata": {},
   "source": [
    "#### $\n",
    "\\left\\{\n",
    "\\begin{align} \n",
    "{3x_1+9x_2}  & \\geqslant 27 & (1)\\\\ \n",
    "{8x_1+4x_2} & \\geqslant 32 & (2)\\\\\n",
    "{12x_1+3x_2} & \\geqslant 36 & (2)\\\\\n",
    "{x_1} & \\geqslant 0 & (3)\\\\\n",
    "{x_2} & \\geqslant 0 & (4)\\\\\n",
    "\\end{align}\n",
    "\\right. \n",
    "$"
   ]
  },
  {
   "cell_type": "code",
   "execution_count": 4,
   "metadata": {},
   "outputs": [],
   "source": [
    "prob = LpProblem(\"przykład_4_str._33\",LpMinimize)"
   ]
  },
  {
   "cell_type": "markdown",
   "metadata": {},
   "source": [
    "<span style=\"font-size: 150%;color:red;background:#efefef\"> Rozwiązuje metodą tradycyjną"
   ]
  },
  {
   "cell_type": "code",
   "execution_count": 5,
   "metadata": {},
   "outputs": [],
   "source": [
    "# \"Continuous\"\n",
    "# \"Integer\"\n",
    "\n",
    "x1=LpVariable(\"x1\",lowBound=0,upBound=None, cat=\"Integer\")\n",
    "x2=LpVariable(\"x2\",lowBound=0,upBound=None, cat=\"Integer\")"
   ]
  },
  {
   "cell_type": "code",
   "execution_count": 6,
   "metadata": {},
   "outputs": [],
   "source": [
    "# objective function\n",
    "prob +=6*x1+9*x2, \"maksymalizacja produkcji\""
   ]
  },
  {
   "cell_type": "code",
   "execution_count": 7,
   "metadata": {},
   "outputs": [
    {
     "name": "stdout",
     "output_type": "stream",
     "text": [
      "przykład_4_str._33:\n",
      "MINIMIZE\n",
      "6*x1 + 9*x2 + 0\n",
      "VARIABLES\n",
      "0 <= x1 Integer\n",
      "0 <= x2 Integer\n",
      "\n"
     ]
    }
   ],
   "source": [
    "print(prob)"
   ]
  },
  {
   "cell_type": "code",
   "execution_count": 8,
   "metadata": {},
   "outputs": [],
   "source": [
    "# OGRANICZENIA SKŁADNIKÓW\n",
    "prob += 3*x1  + 9*x2   >= 27\n",
    "prob += 8*x1  + 4*x2   >= 32\n",
    "prob += 12*x1 + 3*x2   >= 36"
   ]
  },
  {
   "cell_type": "code",
   "execution_count": 9,
   "metadata": {},
   "outputs": [
    {
     "name": "stdout",
     "output_type": "stream",
     "text": [
      "przykład_4_str._33:\n",
      "MINIMIZE\n",
      "6*x1 + 9*x2 + 0\n",
      "SUBJECT TO\n",
      "_C1: 3 x1 + 9 x2 >= 27\n",
      "\n",
      "_C2: 8 x1 + 4 x2 >= 32\n",
      "\n",
      "_C3: 12 x1 + 3 x2 >= 36\n",
      "\n",
      "VARIABLES\n",
      "0 <= x1 Integer\n",
      "0 <= x2 Integer\n",
      "\n"
     ]
    }
   ],
   "source": [
    "print(prob)"
   ]
  },
  {
   "cell_type": "code",
   "execution_count": 10,
   "metadata": {},
   "outputs": [
    {
     "name": "stdout",
     "output_type": "stream",
     "text": [
      "prob.solve 1\n",
      "Status: Optimal\n"
     ]
    }
   ],
   "source": [
    "print(\"prob.solve\",prob.solve())\n",
    "# status of the solution\n",
    "print(f\"Status: {LpStatus[prob.status]}\")"
   ]
  },
  {
   "cell_type": "code",
   "execution_count": 16,
   "metadata": {},
   "outputs": [
    {
     "name": "stdout",
     "output_type": "stream",
     "text": [
      "Składni x1 = 3.0 w paszy\n",
      "składnikx2 = 2.0 w paszy\n"
     ]
    }
   ],
   "source": [
    "prob.solve()\n",
    "print(\"Składni x1 = {} w paszy\".format(x1.varValue))\n",
    "print(\"składnikx2 = {} w paszy\".format(x2.varValue))"
   ]
  },
  {
   "cell_type": "markdown",
   "metadata": {},
   "source": [
    "<span style=\"font-size: 150%;color:red;background:#efefef\"> Metoda Pandy"
   ]
  },
  {
   "cell_type": "code",
   "execution_count": 22,
   "metadata": {},
   "outputs": [
    {
     "data": {
      "text/html": [
       "<div>\n",
       "<style scoped>\n",
       "    .dataframe tbody tr th:only-of-type {\n",
       "        vertical-align: middle;\n",
       "    }\n",
       "\n",
       "    .dataframe tbody tr th {\n",
       "        vertical-align: top;\n",
       "    }\n",
       "\n",
       "    .dataframe thead th {\n",
       "        text-align: right;\n",
       "    }\n",
       "</style>\n",
       "<table border=\"1\" class=\"dataframe\">\n",
       "  <thead>\n",
       "    <tr style=\"text-align: right;\">\n",
       "      <th></th>\n",
       "      <th>Składni:</th>\n",
       "      <th>Pasza_1</th>\n",
       "      <th>Pasza_2</th>\n",
       "    </tr>\n",
       "  </thead>\n",
       "  <tbody>\n",
       "    <tr>\n",
       "      <td>0</td>\n",
       "      <td>Składnik_1</td>\n",
       "      <td>3</td>\n",
       "      <td>9</td>\n",
       "    </tr>\n",
       "    <tr>\n",
       "      <td>1</td>\n",
       "      <td>Składnik_2</td>\n",
       "      <td>8</td>\n",
       "      <td>4</td>\n",
       "    </tr>\n",
       "    <tr>\n",
       "      <td>2</td>\n",
       "      <td>Składnik_3</td>\n",
       "      <td>12</td>\n",
       "      <td>3</td>\n",
       "    </tr>\n",
       "  </tbody>\n",
       "</table>\n",
       "</div>"
      ],
      "text/plain": [
       "     Składni:  Pasza_1  Pasza_2\n",
       "0  Składnik_1        3        9\n",
       "1  Składnik_2        8        4\n",
       "2  Składnik_3       12        3"
      ]
     },
     "execution_count": 22,
     "metadata": {},
     "output_type": "execute_result"
    }
   ],
   "source": [
    "import pandas as pd\n",
    "from pulp import *\n",
    "\n",
    "cc =[\"Składnik_1\", \"Składnik_2\", \"Składnik_3\"]\n",
    "aaa = [3, 8, 12]\n",
    "bbb = [9, 4,  3]\n",
    "df = pd.DataFrame({'Składni:': cc, 'Pasza_1': aaa, 'Pasza_2': bbb  })\n",
    "df"
   ]
  },
  {
   "cell_type": "code",
   "execution_count": 23,
   "metadata": {},
   "outputs": [],
   "source": [
    "prob = LpProblem(\"przykład_4_str._33__PANDA__\",LpMinimize)"
   ]
  },
  {
   "cell_type": "code",
   "execution_count": 24,
   "metadata": {},
   "outputs": [
    {
     "data": {
      "text/plain": [
       "['Składnik_1', 'Składnik_2', 'Składnik_3']"
      ]
     },
     "execution_count": 24,
     "metadata": {},
     "output_type": "execute_result"
    }
   ],
   "source": [
    "SKŁADNIKI = list(df['Składni:'])\n",
    "SKŁADNIKI"
   ]
  },
  {
   "cell_type": "code",
   "execution_count": 26,
   "metadata": {},
   "outputs": [
    {
     "data": {
      "text/plain": [
       "{'Składnik_1': 3, 'Składnik_2': 8, 'Składnik_3': 12}"
      ]
     },
     "execution_count": 26,
     "metadata": {},
     "output_type": "execute_result"
    }
   ],
   "source": [
    "pasza_1 = dict(zip(SKŁADNIKI,df['Pasza_1']))\n",
    "pasza_2 = dict(zip(SKŁADNIKI,df['Pasza_2']))"
   ]
  },
  {
   "cell_type": "code",
   "execution_count": 28,
   "metadata": {},
   "outputs": [
    {
     "data": {
      "text/plain": [
       "{'Składnik_1': Portion_Składnik_1,\n",
       " 'Składnik_2': Portion_Składnik_2,\n",
       " 'Składnik_3': Portion_Składnik_3}"
      ]
     },
     "execution_count": 28,
     "metadata": {},
     "output_type": "execute_result"
    }
   ],
   "source": [
    "porcja = LpVariable.dicts(name =\"Portion\",indexs=SKŁADNIKI,lowBound =0,cat='Continuous')\n",
    "porcja"
   ]
  },
  {
   "cell_type": "code",
   "execution_count": null,
   "metadata": {},
   "outputs": [],
   "source": []
  },
  {
   "cell_type": "code",
   "execution_count": null,
   "metadata": {},
   "outputs": [],
   "source": []
  },
  {
   "cell_type": "code",
   "execution_count": null,
   "metadata": {},
   "outputs": [],
   "source": []
  },
  {
   "cell_type": "code",
   "execution_count": null,
   "metadata": {},
   "outputs": [],
   "source": []
  },
  {
   "cell_type": "code",
   "execution_count": null,
   "metadata": {},
   "outputs": [],
   "source": []
  },
  {
   "cell_type": "code",
   "execution_count": null,
   "metadata": {},
   "outputs": [],
   "source": []
  },
  {
   "cell_type": "code",
   "execution_count": null,
   "metadata": {},
   "outputs": [],
   "source": []
  },
  {
   "cell_type": "code",
   "execution_count": null,
   "metadata": {},
   "outputs": [],
   "source": []
  }
 ],
 "metadata": {
  "kernelspec": {
   "display_name": "Python 3",
   "language": "python",
   "name": "python3"
  },
  "language_info": {
   "codemirror_mode": {
    "name": "ipython",
    "version": 3
   },
   "file_extension": ".py",
   "mimetype": "text/x-python",
   "name": "python",
   "nbconvert_exporter": "python",
   "pygments_lexer": "ipython3",
   "version": "3.7.4"
  }
 },
 "nbformat": 4,
 "nbformat_minor": 2
}
