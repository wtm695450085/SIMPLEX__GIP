{
 "cells": [
  {
   "cell_type": "markdown",
   "metadata": {},
   "source": [
    "# ZADANIE 8 STR. 29"
   ]
  },
  {
   "cell_type": "markdown",
   "metadata": {},
   "source": [
    "## Tabela ograniczeń"
   ]
  },
  {
   "cell_type": "code",
   "execution_count": 1,
   "metadata": {},
   "outputs": [
    {
     "name": "stdout",
     "output_type": "stream",
     "text": [
      "+---------+------------------------+-------------------------+-------------+\n",
      "| Maszyny | czas pracy na wyrób: I | czas pracy na wyrób: II | Limit czasu |\n",
      "+---------+------------------------+-------------------------+-------------+\n",
      "|   O1    |           3            |            1            |   <=18000   |\n",
      "+---------+------------------------+-------------------------+-------------+\n",
      "|   O2    |           2            |            4            |   <=40000   |\n",
      "+---------+------------------------+-------------------------+-------------+\n",
      "|    F    |           3            |            2            |   <=24000   |\n",
      "+---------+------------------------+-------------------------+-------------+\n"
     ]
    }
   ],
   "source": [
    "from beautifultable import BeautifulTable\n",
    "\n",
    "table = BeautifulTable()\n",
    "table.column_headers = [\"Maszyny\", \"czas pracy na wyrób: I\",\"czas pracy na wyrób: II\",\"Limit czasu\"]\n",
    "table.append_row([\"O1\", 3, 1, '<=18000'])\n",
    "table.append_row([\"O2\", 2, 4, '<=40000'])\n",
    "table.append_row([\"F\", 3, 2, '<=24000'])\n",
    "print(table)"
   ]
  },
  {
   "cell_type": "markdown",
   "metadata": {},
   "source": [
    "$ \\bbox[5px,border:1px solid red]\n",
    "{\n",
    "F(x_1,x_2) = 6x_{1} + 4x_{2}  \\to  max \n",
    "\\qquad (funkcja-celu)  \n",
    "} $"
   ]
  },
  {
   "cell_type": "markdown",
   "metadata": {},
   "source": [
    "$\n",
    "\\left\\{\n",
    "\\begin{align} \n",
    "{3x_1+x_2}  & \\leqslant 18000 & (1)\\\\ \n",
    "{2x_1+4x_2} & \\leqslant 40000 & (2)\\\\\n",
    "{3x_1+2x_2} & \\leqslant 24000 & (3)\\\\ \n",
    "{x_1} & \\geqslant 0 & (4)\\\\ \n",
    "{x_2} & \\geqslant 0 & (5)\\\\\n",
    "\\end{align}\n",
    "\\right. \n",
    "$"
   ]
  },
  {
   "cell_type": "code",
   "execution_count": 2,
   "metadata": {},
   "outputs": [],
   "source": [
    "from pulp import *\n",
    "from fractions import Fraction\n",
    "\n",
    "# zdefiniowanie problemu- to jest taka platforma do wrzucania na nia wszystkiego\n",
    "\n",
    "prob = LpProblem(\"Zadanie_8_STR_29\",LpMaximize)"
   ]
  },
  {
   "cell_type": "code",
   "execution_count": 3,
   "metadata": {},
   "outputs": [],
   "source": [
    "# \"Continuous\"\n",
    "# \"Integer\"\n",
    "\n",
    "x1=LpVariable(\"x1\",lowBound=0,upBound=None, cat=\"Integer\")\n",
    "x2=LpVariable(\"x2\",lowBound=0,upBound=None, cat=\"Integer\")\n",
    "#x3=LpVariable(\"x3\",lowBound=0,upBound=None, cat=\"Integer\")\n",
    "#x4=LpVariable(\"x4\",lowBound=0,upBound=None, cat=\"Integer\")"
   ]
  },
  {
   "cell_type": "markdown",
   "metadata": {},
   "source": [
    "### Dodajemy do platformy funkcje celu\n",
    "\n",
    "$\n",
    "F(x_1,x_2) = 6x_{1} + 4x_{2}  \\to  max\n",
    "$"
   ]
  },
  {
   "cell_type": "code",
   "execution_count": 4,
   "metadata": {},
   "outputs": [],
   "source": [
    "# objective function\n",
    "prob += 6*x1+4*x2, \"Maksymalizacja zysków\""
   ]
  },
  {
   "cell_type": "code",
   "execution_count": 5,
   "metadata": {},
   "outputs": [
    {
     "name": "stdout",
     "output_type": "stream",
     "text": [
      "Zadanie_8_STR_29:\n",
      "MAXIMIZE\n",
      "6*x1 + 4*x2 + 0\n",
      "VARIABLES\n",
      "0 <= x1 Integer\n",
      "0 <= x2 Integer\n",
      "\n"
     ]
    }
   ],
   "source": [
    "print(prob)"
   ]
  },
  {
   "cell_type": "markdown",
   "metadata": {},
   "source": [
    "$\n",
    "\\left\\{\n",
    "\\begin{align} \n",
    "{3x_1+x_2}  & \\leqslant 18000 & (1)\\\\ \n",
    "{2x_1+4x_2} & \\leqslant 40000 & (2)\\\\\n",
    "{3x_1+2x_2} & \\leqslant 24000 & (3)\\\\ \n",
    "{x_1} & \\geqslant 0 & (4)\\\\ \n",
    "{x_2} & \\geqslant 0 & (5)\\\\\n",
    "\\end{align}\n",
    "\\right. \n",
    "$"
   ]
  },
  {
   "cell_type": "code",
   "execution_count": 6,
   "metadata": {},
   "outputs": [],
   "source": [
    "# main constraints\n",
    "prob += 3*x1 +   x2 <= 18000\n",
    "prob += 2*x1 + 4*x2 <= 40000\n",
    "prob += 3*x1 + 2*x2 >= 24000"
   ]
  },
  {
   "cell_type": "code",
   "execution_count": 7,
   "metadata": {},
   "outputs": [
    {
     "name": "stdout",
     "output_type": "stream",
     "text": [
      "Zadanie_8_STR_29:\n",
      "MAXIMIZE\n",
      "6*x1 + 4*x2 + 0\n",
      "SUBJECT TO\n",
      "_C1: 3 x1 + x2 <= 18000\n",
      "\n",
      "_C2: 2 x1 + 4 x2 <= 40000\n",
      "\n",
      "_C3: 3 x1 + 2 x2 >= 24000\n",
      "\n",
      "VARIABLES\n",
      "0 <= x1 Integer\n",
      "0 <= x2 Integer\n",
      "\n"
     ]
    }
   ],
   "source": [
    "print(prob)"
   ]
  },
  {
   "cell_type": "code",
   "execution_count": 8,
   "metadata": {},
   "outputs": [
    {
     "name": "stdout",
     "output_type": "stream",
     "text": [
      "Zadanie_8_STR_29:\n",
      "MAXIMIZE\n",
      "6*x1 + 4*x2 + 0\n",
      "SUBJECT TO\n",
      "_C1: 3 x1 + x2 <= 18000\n",
      "\n",
      "_C2: 2 x1 + 4 x2 <= 40000\n",
      "\n",
      "_C3: 3 x1 + 2 x2 >= 24000\n",
      "\n",
      "VARIABLES\n",
      "0 <= x1 Integer\n",
      "0 <= x2 Integer\n",
      "\n"
     ]
    }
   ],
   "source": [
    "print(prob)"
   ]
  },
  {
   "cell_type": "markdown",
   "metadata": {},
   "source": [
    "### Rozwiązanie problemu"
   ]
  },
  {
   "cell_type": "code",
   "execution_count": 9,
   "metadata": {},
   "outputs": [
    {
     "name": "stdout",
     "output_type": "stream",
     "text": [
      "prob.solve 1\n",
      "Status: Optimal\n"
     ]
    }
   ],
   "source": [
    "print(\"prob.solve\",prob.solve())\n",
    "# status of the solution\n",
    "print(f\"Status: {LpStatus[prob.status]}\")"
   ]
  },
  {
   "cell_type": "code",
   "execution_count": 10,
   "metadata": {},
   "outputs": [
    {
     "name": "stdout",
     "output_type": "stream",
     "text": [
      "x1 = 3200\n",
      "x2 = 8400\n"
     ]
    }
   ],
   "source": [
    "for v in prob.variables():\n",
    "    print(f\"{v.name} = {str(Fraction(v.varValue).limit_denominator())}\")\n"
   ]
  },
  {
   "cell_type": "code",
   "execution_count": 11,
   "metadata": {},
   "outputs": [
    {
     "name": "stdout",
     "output_type": "stream",
     "text": [
      "max (x11+x12+x13+x21+x22+x23+x31+x32+x33+x41+x42+x43) = 52800\n"
     ]
    }
   ],
   "source": [
    "# maximum value of the objective function\n",
    "print(f\"max (x11+x12+x13+x21+x22+x23+x31+x32+x33+x41+x42+x43) = {str(Fraction(value(prob.objective)).limit_denominator())}\")"
   ]
  },
  {
   "cell_type": "markdown",
   "metadata": {},
   "source": [
    "# Punkt b"
   ]
  },
  {
   "cell_type": "markdown",
   "metadata": {},
   "source": [
    "# $\n",
    "x_1+1.5x_2 \\geqslant 0 \n",
    "$"
   ]
  },
  {
   "cell_type": "markdown",
   "metadata": {},
   "source": [
    "$ \\bbox[5px,border:1px solid red]\n",
    "{\n",
    "F(x_1,x_2) = 6x_{1} + 4x_{2}  \\to  max \n",
    "\\qquad (funkcja-celu)  \n",
    "} $"
   ]
  },
  {
   "cell_type": "markdown",
   "metadata": {},
   "source": [
    "$\n",
    "\\left\\{\n",
    "\\begin{align} \n",
    "{3x_1+x_2}  & \\leqslant 18000 & (1)\\\\ \n",
    "{2x_1+4x_2} & \\leqslant 40000 & (2)\\\\\n",
    "{3x_1+2x_2} & \\leqslant 24000 & (3)\\\\\n",
    "{𝑥_1+1.5𝑥_2} & \\geqslant 0 & (3)\\\\\n",
    "{x_1} & \\geqslant 0 & (4)\\\\ \n",
    "{x_2} & \\geqslant 0 & (5)\\\\\n",
    "\\end{align}\n",
    "\\right. \n",
    "$"
   ]
  },
  {
   "cell_type": "code",
   "execution_count": 12,
   "metadata": {},
   "outputs": [],
   "source": [
    "from pulp import *\n",
    "from fractions import Fraction\n",
    "\n",
    "# zdefiniowanie problemu- to jest taka platforma do wrzucania na nia wszystkiego\n",
    "\n",
    "prob = LpProblem(\"Zadanie_8_STR_29B\",LpMaximize)"
   ]
  },
  {
   "cell_type": "code",
   "execution_count": 13,
   "metadata": {},
   "outputs": [],
   "source": [
    "# \"Continuous\"\n",
    "# \"Integer\"\n",
    "\n",
    "x1=LpVariable(\"x1\",lowBound=0,upBound=None, cat=\"Integer\")\n",
    "x2=LpVariable(\"x2\",lowBound=0,upBound=None, cat=\"Integer\")\n",
    "#x3=LpVariable(\"x3\",lowBound=0,upBound=None, cat=\"Integer\")\n",
    "#x4=LpVariable(\"x4\",lowBound=0,upBound=None, cat=\"Integer\")"
   ]
  },
  {
   "cell_type": "markdown",
   "metadata": {},
   "source": [
    "### Dodajemy do platformy funkcje celu\n",
    "\n",
    "$\n",
    "F(x_1,x_2) = 6x_{1} + 4x_{2}  \\to  max\n",
    "$"
   ]
  },
  {
   "cell_type": "code",
   "execution_count": 14,
   "metadata": {},
   "outputs": [],
   "source": [
    "# objective function\n",
    "prob += 6*x1+4*x2, \"Maksymalizacja zysków\""
   ]
  },
  {
   "cell_type": "code",
   "execution_count": 15,
   "metadata": {},
   "outputs": [
    {
     "name": "stdout",
     "output_type": "stream",
     "text": [
      "Zadanie_8_STR_29B:\n",
      "MAXIMIZE\n",
      "6*x1 + 4*x2 + 0\n",
      "VARIABLES\n",
      "0 <= x1 Integer\n",
      "0 <= x2 Integer\n",
      "\n"
     ]
    }
   ],
   "source": [
    "print(prob)"
   ]
  },
  {
   "cell_type": "markdown",
   "metadata": {},
   "source": [
    "$\n",
    "\\left\\{\n",
    "\\begin{align} \n",
    "{3x_1+x_2}  & \\leqslant 18000 & (1)\\\\ \n",
    "{2x_1+4x_2} & \\leqslant 40000 & (2)\\\\\n",
    "{3x_1+2x_2} & \\leqslant 24000 & (3)\\\\\n",
    "{𝑥_1+1.5𝑥_2} & \\geqslant 0 & (3)\\\\\n",
    "{x_1} & \\geqslant 0 & (4)\\\\ \n",
    "{x_2} & \\geqslant 0 & (5)\\\\\n",
    "\\end{align}\n",
    "\\right. \n",
    "$"
   ]
  },
  {
   "cell_type": "code",
   "execution_count": 16,
   "metadata": {},
   "outputs": [],
   "source": [
    "# main constraints\n",
    "prob += 3*x1 +   x2 <= 18000\n",
    "prob += 2*x1 + 4*x2 <= 40000\n",
    "prob += 3*x1 + 2*x2 >= 24000\n",
    "prob +=   x1 + 1.5*x2 >= 0\n"
   ]
  },
  {
   "cell_type": "code",
   "execution_count": 17,
   "metadata": {},
   "outputs": [
    {
     "name": "stdout",
     "output_type": "stream",
     "text": [
      "Zadanie_8_STR_29B:\n",
      "MAXIMIZE\n",
      "6*x1 + 4*x2 + 0\n",
      "SUBJECT TO\n",
      "_C1: 3 x1 + x2 <= 18000\n",
      "\n",
      "_C2: 2 x1 + 4 x2 <= 40000\n",
      "\n",
      "_C3: 3 x1 + 2 x2 >= 24000\n",
      "\n",
      "_C4: x1 + 1.5 x2 >= 0\n",
      "\n",
      "VARIABLES\n",
      "0 <= x1 Integer\n",
      "0 <= x2 Integer\n",
      "\n"
     ]
    }
   ],
   "source": [
    "print(prob)"
   ]
  },
  {
   "cell_type": "code",
   "execution_count": 18,
   "metadata": {},
   "outputs": [
    {
     "name": "stdout",
     "output_type": "stream",
     "text": [
      "Zadanie_8_STR_29B:\n",
      "MAXIMIZE\n",
      "6*x1 + 4*x2 + 0\n",
      "SUBJECT TO\n",
      "_C1: 3 x1 + x2 <= 18000\n",
      "\n",
      "_C2: 2 x1 + 4 x2 <= 40000\n",
      "\n",
      "_C3: 3 x1 + 2 x2 >= 24000\n",
      "\n",
      "_C4: x1 + 1.5 x2 >= 0\n",
      "\n",
      "VARIABLES\n",
      "0 <= x1 Integer\n",
      "0 <= x2 Integer\n",
      "\n"
     ]
    }
   ],
   "source": [
    "print(prob)"
   ]
  },
  {
   "cell_type": "markdown",
   "metadata": {},
   "source": [
    "### Rozwiązanie problemu"
   ]
  },
  {
   "cell_type": "code",
   "execution_count": 19,
   "metadata": {},
   "outputs": [
    {
     "name": "stdout",
     "output_type": "stream",
     "text": [
      "prob.solve 1\n",
      "Status: Optimal\n"
     ]
    }
   ],
   "source": [
    "print(\"prob.solve\",prob.solve())\n",
    "# status of the solution\n",
    "print(f\"Status: {LpStatus[prob.status]}\")"
   ]
  },
  {
   "cell_type": "code",
   "execution_count": 20,
   "metadata": {},
   "outputs": [
    {
     "name": "stdout",
     "output_type": "stream",
     "text": [
      "x1 = 3200\n",
      "x2 = 8400\n"
     ]
    }
   ],
   "source": [
    "for v in prob.variables():\n",
    "    print(f\"{v.name} = {str(Fraction(v.varValue).limit_denominator())}\")\n"
   ]
  },
  {
   "cell_type": "code",
   "execution_count": 21,
   "metadata": {},
   "outputs": [
    {
     "name": "stdout",
     "output_type": "stream",
     "text": [
      "max (x11+x12+x13+x21+x22+x23+x31+x32+x33+x41+x42+x43) = 52800\n"
     ]
    }
   ],
   "source": [
    "# maximum value of the objective function\n",
    "print(f\"max (x11+x12+x13+x21+x22+x23+x31+x32+x33+x41+x42+x43) = {str(Fraction(value(prob.objective)).limit_denominator())}\")"
   ]
  },
  {
   "cell_type": "markdown",
   "metadata": {},
   "source": [
    "# Punkt a"
   ]
  },
  {
   "cell_type": "markdown",
   "metadata": {},
   "source": [
    "$ \\bbox[5px,border:1px solid red]\n",
    "{\n",
    "F(x_1,x_2) = 7x_{1} + 5x_{2}  \\to  max \n",
    "\\qquad (funkcja-celu)  \n",
    "} $"
   ]
  },
  {
   "cell_type": "markdown",
   "metadata": {},
   "source": [
    "$\n",
    "\\left\\{\n",
    "\\begin{align} \n",
    "{3x_1+x_2}  & \\leqslant 18000 & (1)\\\\ \n",
    "{2x_1+4x_2} & \\leqslant 40000 & (2)\\\\\n",
    "{3x_1+2x_2} & \\leqslant 24000 & (3)\\\\ \n",
    "{x_1} & \\geqslant 0 & (4)\\\\ \n",
    "{x_2} & \\geqslant 0 & (5)\\\\\n",
    "\\end{align}\n",
    "\\right. \n",
    "$"
   ]
  },
  {
   "cell_type": "code",
   "execution_count": 22,
   "metadata": {},
   "outputs": [],
   "source": [
    "from pulp import *\n",
    "from fractions import Fraction\n",
    "\n",
    "# zdefiniowanie problemu- to jest taka platforma do wrzucania na nia wszystkiego\n",
    "\n",
    "prob2 = LpProblem(\"Zadanie_8_STR_29B\",LpMaximize)"
   ]
  },
  {
   "cell_type": "code",
   "execution_count": 23,
   "metadata": {},
   "outputs": [],
   "source": [
    "# \"Continuous\"\n",
    "# \"Integer\"\n",
    "\n",
    "x1=LpVariable(\"x1\",lowBound=0,upBound=None, cat=\"Integer\")\n",
    "x2=LpVariable(\"x2\",lowBound=0,upBound=None, cat=\"Integer\")\n",
    "#x3=LpVariable(\"x3\",lowBound=0,upBound=None, cat=\"Integer\")\n",
    "#x4=LpVariable(\"x4\",lowBound=0,upBound=None, cat=\"Integer\")"
   ]
  },
  {
   "cell_type": "markdown",
   "metadata": {},
   "source": [
    "### Dodajemy do platformy funkcje celu\n",
    "\n",
    "$\n",
    "F(x_1,x_2) = 7x_{1} + 5x_{2}  \\to  max\n",
    "$"
   ]
  },
  {
   "cell_type": "code",
   "execution_count": 24,
   "metadata": {},
   "outputs": [],
   "source": [
    "# objective function\n",
    "prob2 += 7*x1+5*x2, \"Maksymalizacja kosztów\""
   ]
  },
  {
   "cell_type": "code",
   "execution_count": 25,
   "metadata": {},
   "outputs": [
    {
     "name": "stdout",
     "output_type": "stream",
     "text": [
      "Zadanie_8_STR_29B:\n",
      "MAXIMIZE\n",
      "7*x1 + 5*x2 + 0\n",
      "VARIABLES\n",
      "0 <= x1 Integer\n",
      "0 <= x2 Integer\n",
      "\n"
     ]
    }
   ],
   "source": [
    "print(prob2)"
   ]
  },
  {
   "cell_type": "markdown",
   "metadata": {},
   "source": [
    "$\n",
    "\\left\\{\n",
    "\\begin{align} \n",
    "{3x_1+x_2}  & \\leqslant 18000 & (1)\\\\ \n",
    "{2x_1+4x_2} & \\leqslant 40000 & (2)\\\\\n",
    "{3x_1+2x_2} & \\leqslant 24000 & (3)\\\\ \n",
    "{x_1} & \\geqslant 0 & (4)\\\\ \n",
    "{x_2} & \\geqslant 0 & (5)\\\\\n",
    "\\end{align}\n",
    "\\right. \n",
    "$"
   ]
  },
  {
   "cell_type": "code",
   "execution_count": 26,
   "metadata": {},
   "outputs": [],
   "source": [
    "# main constraints\n",
    "prob2 += 3*x1 +   x2 <= 18000\n",
    "prob2 += 2*x1 + 4*x2 <= 40000\n",
    "prob2 += 3*x1 + 2*x2 >= 24000"
   ]
  },
  {
   "cell_type": "code",
   "execution_count": 32,
   "metadata": {},
   "outputs": [
    {
     "name": "stdout",
     "output_type": "stream",
     "text": [
      "Zadanie_8_STR_29B:\n",
      "MAXIMIZE\n",
      "7*x1 + 5*x2 + 0\n",
      "SUBJECT TO\n",
      "_C1: 3 x1 + x2 <= 18000\n",
      "\n",
      "_C2: 2 x1 + 4 x2 <= 40000\n",
      "\n",
      "_C3: 3 x1 + 2 x2 >= 24000\n",
      "\n",
      "VARIABLES\n",
      "0 <= x1 Integer\n",
      "0 <= x2 Integer\n",
      "\n"
     ]
    }
   ],
   "source": [
    "print(prob2)"
   ]
  },
  {
   "cell_type": "code",
   "execution_count": 28,
   "metadata": {},
   "outputs": [
    {
     "name": "stdout",
     "output_type": "stream",
     "text": [
      "Zadanie_8_STR_29B:\n",
      "MAXIMIZE\n",
      "7*x1 + 5*x2 + 0\n",
      "SUBJECT TO\n",
      "_C1: 3 x1 + x2 <= 18000\n",
      "\n",
      "_C2: 2 x1 + 4 x2 <= 40000\n",
      "\n",
      "_C3: 3 x1 + 2 x2 >= 24000\n",
      "\n",
      "VARIABLES\n",
      "0 <= x1 Integer\n",
      "0 <= x2 Integer\n",
      "\n"
     ]
    }
   ],
   "source": [
    "print(prob2)"
   ]
  },
  {
   "cell_type": "markdown",
   "metadata": {},
   "source": [
    "### Rozwiązanie problemu"
   ]
  },
  {
   "cell_type": "code",
   "execution_count": 29,
   "metadata": {},
   "outputs": [
    {
     "name": "stdout",
     "output_type": "stream",
     "text": [
      "prob.solve 1\n",
      "Status: Optimal\n"
     ]
    }
   ],
   "source": [
    "print(\"prob.solve\",prob2.solve())\n",
    "# status of the solution\n",
    "print(f\"Status: {LpStatus[prob2.status]}\")"
   ]
  },
  {
   "cell_type": "code",
   "execution_count": 30,
   "metadata": {},
   "outputs": [
    {
     "name": "stdout",
     "output_type": "stream",
     "text": [
      "x1 = 3200\n",
      "x2 = 8400\n"
     ]
    }
   ],
   "source": [
    "for v in prob2.variables():\n",
    "    print(f\"{v.name} = {str(Fraction(v.varValue).limit_denominator())}\")\n"
   ]
  },
  {
   "cell_type": "code",
   "execution_count": 31,
   "metadata": {},
   "outputs": [
    {
     "name": "stdout",
     "output_type": "stream",
     "text": [
      "max (x11+x12+x13+x21+x22+x23+x31+x32+x33+x41+x42+x43) = 64400\n"
     ]
    }
   ],
   "source": [
    "# maximum value of the objective function\n",
    "print(f\"max (x11+x12+x13+x21+x22+x23+x31+x32+x33+x41+x42+x43) = {str(Fraction(value(prob2.objective)).limit_denominator())}\")"
   ]
  },
  {
   "cell_type": "code",
   "execution_count": null,
   "metadata": {},
   "outputs": [],
   "source": []
  },
  {
   "cell_type": "code",
   "execution_count": null,
   "metadata": {},
   "outputs": [],
   "source": []
  },
  {
   "cell_type": "code",
   "execution_count": null,
   "metadata": {},
   "outputs": [],
   "source": []
  },
  {
   "cell_type": "code",
   "execution_count": null,
   "metadata": {},
   "outputs": [],
   "source": []
  },
  {
   "cell_type": "code",
   "execution_count": null,
   "metadata": {},
   "outputs": [],
   "source": []
  },
  {
   "cell_type": "code",
   "execution_count": null,
   "metadata": {},
   "outputs": [],
   "source": []
  },
  {
   "cell_type": "code",
   "execution_count": null,
   "metadata": {},
   "outputs": [],
   "source": []
  }
 ],
 "metadata": {
  "kernelspec": {
   "display_name": "Python 3",
   "language": "python",
   "name": "python3"
  },
  "language_info": {
   "codemirror_mode": {
    "name": "ipython",
    "version": 3
   },
   "file_extension": ".py",
   "mimetype": "text/x-python",
   "name": "python",
   "nbconvert_exporter": "python",
   "pygments_lexer": "ipython3",
   "version": "3.7.4"
  }
 },
 "nbformat": 4,
 "nbformat_minor": 2
}
