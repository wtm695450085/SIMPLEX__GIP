{
 "cells": [
  {
   "cell_type": "markdown",
   "metadata": {},
   "source": [
    "<span style=\"font-size: 150%;color:white;background:#1155cc\"> Zadanie 97 STR 146\n",
    "    \n",
    "<span style=\"font-size: 250%;color:white;background:red\"> PPIC"
   ]
  },
  {
   "cell_type": "code",
   "execution_count": 1,
   "metadata": {},
   "outputs": [
    {
     "name": "stdout",
     "output_type": "stream",
     "text": [
      "+-------------+-----------+-----------+-----------+\n",
      "|             | Ciastka_A | Ciastka_B | Ciastka_C |\n",
      "+-------------+-----------+-----------+-----------+\n",
      "| Pracownia 1 | 214 min.  | 162 min.  | 180 min.  |\n",
      "+-------------+-----------+-----------+-----------+\n",
      "| Pracownia 2 |  90 min.  |  50 min.  |  66 min.  |\n",
      "+-------------+-----------+-----------+-----------+\n",
      "| Pracownia 3 | 105 min.  | 180 min.  | 124 min.  |\n",
      "+-------------+-----------+-----------+-----------+\n",
      "| Pracownia 4 | 146 min.  | 173 min.  | 127 min.  |\n",
      "+-------------+-----------+-----------+-----------+\n",
      "| Pracownia 5 | 116 min.  | 183 min.  | 107 min.  |\n",
      "+-------------+-----------+-----------+-----------+\n"
     ]
    },
    {
     "name": "stderr",
     "output_type": "stream",
     "text": [
      "/home/wojciech/anaconda3/lib/python3.7/site-packages/beautifultable/utils.py:125: FutureWarning: 'BeautifulTable.column_headers' has been deprecated in 'v1.0.0' and will be removed in 'v1.2.0'. Use 'BTColumnCollection.header' instead.\n",
      "  warnings.warn(message, FutureWarning)\n",
      "/home/wojciech/anaconda3/lib/python3.7/site-packages/beautifultable/utils.py:125: FutureWarning: 'BeautifulTable.append_row' has been deprecated in 'v1.0.0' and will be removed in 'v1.2.0'. Use 'BTRowCollection.append' instead.\n",
      "  warnings.warn(message, FutureWarning)\n"
     ]
    }
   ],
   "source": [
    "from beautifultable import BeautifulTable\n",
    "\n",
    "table = BeautifulTable()\n",
    "table.column_headers = [\"\", \"Ciastka_A\",\"Ciastka_B\",\"Ciastka_C\"]\n",
    "table.append_row([\"Pracownia 1\", '214 min.',  '162 min.', '180 min.'])\n",
    "table.append_row([\"Pracownia 2\",  '90 min.',   '50 min.',  '66 min.'])\n",
    "table.append_row([\"Pracownia 3\", '105 min.',  '180 min.', '124 min.'])\n",
    "table.append_row([\"Pracownia 4\", '146 min.',  '173 min.', '127 min.'])\n",
    "table.append_row([\"Pracownia 5\", '116 min.',  '183 min.', '107 min.'])\n",
    "print(table)"
   ]
  },
  {
   "cell_type": "markdown",
   "metadata": {
    "scrolled": false
   },
   "source": [
    "\n",
    "<span style=\"font-size: 150%;color:#0000ff\">Krok 1: ZMIENNA DECYZYJNA Czym jest x? </span>\n",
    "\n",
    "zero-jeden   - dlaczego? bo jest to zmienna decyzyjna, to jest przydział. jeden - maszyna wykonuje detal, \n",
    "zero maszyna nie wykonuje detalu. \n",
    "\n",
    "<span style=\"font-size: 130%;color:#0000ff\"> Krok 2: Co jest w tabeli?</span>\n",
    "\n",
    "ilość godzin niezbędnych do produkcji detalu\n",
    "\n",
    "<span style=\"font-size: 130%;color:#0000ff\"> Krok 3: ograniczenie zmiennych decyzyjnych</span>\n",
    "\n",
    "\n",
    "zmiennymi decyzyjnymi jest tutaj przydział, liczba 1 lub 0. Każda obrabiarka może być produkować tylko jeden detal.\n",
    "\n",
    "#### $\n",
    "\\left\\{\n",
    "\\begin{align} \n",
    "{x_{11}+x_{12}+x_{13}+x_{14}+x_{15}} & = 1 & (Pracownia-1)& \\space & \\space & \\space(1)\\\\\n",
    "{x_{21}+x_{22}+x_{23}+x_{24}+x_{25}} & = 1 & (Pracownia-2)\\\\\n",
    "{x_{31}+x_{32}+x_{33}+x_{34}+x_{35}} & = 1 & (Pracownia-3)\\\\\n",
    "{x_{41}+x_{42}+x_{43}+x_{44}+x_{45}} & = 1 & (Pracownia-4)\\\\\n",
    "{x_{51}+x_{52}+x_{53}+x_{54}+x_{55}} & = 1 & (Pracownia-5)\\\\\n",
    "\\end{align}\n",
    "\\right. \n",
    "$\n",
    "\n",
    "<span style=\"font-size: 130%;color:#0000ff\"> Krok 4: ograniczenie pośrednie - każdy detal może być produkowany  tylko raz </span>\n",
    "#### $\n",
    "\\left\\{\n",
    "\\begin{align} \n",
    "{x_{11}+x_{21}+x_{31}+x_{41}+x_{51}} & = 1 & (Ciastka-A)& \\space & \\space & \\space(2)\\\\\n",
    "{x_{12}+x_{22}+x_{32}+x_{42}+x_{52}} & = 1 & (Ciastka-B)\\\\\n",
    "{x_{13}+x_{23}+x_{33}+x_{43}+x_{53}} & = 1 & (Ciastka-C)\\\\\n",
    "{x_{14}+x_{24}+x_{34}+x_{44}+x_{54}} & = 1 & (BrakPracy1)\\\\\n",
    "{x_{15}+x_{25}+x_{35}+x_{45}+x_{55}} & = 1 & (BrakPracy2)\\\\\n",
    "\\end{align}\n",
    "\\right. \n",
    "$\n",
    "\n",
    "\n",
    "<span style=\"font-size: 130%;color:#0000ff\"> Krok 5: jaka jest funkcja celu?</span>\n",
    "\n",
    "Zmaksymalizować efektywność pracy.\n",
    "\n",
    "$\\bbox[5px,border:1px solid red]\n",
    "{\n",
    "\\\\\n",
    "F(x_{i,j})\\\\\n",
    "=214x_{11}+162x_{12}+180x_{13}+0x_{14}+0x_{15}\\\\\n",
    "+  90x_{21}+ 50x_{23}+ 66x_{24}+0x_{24}+0x_{25}\\\\\n",
    "+105x_{31}+180x_{32}+124x_{33}+0x_{34}+0x_{35}\\\\\n",
    "+146x_{41}+173x_{42}+127x_{43}+0x_{44}+0x_{45}\\\\\n",
    "+116x_{51}+183x_{52}+107x_{53}+0x_{54}+0x_{55}\\\\\n",
    "\\to  min\n",
    "\\qquad \n",
    "} $"
   ]
  },
  {
   "cell_type": "code",
   "execution_count": 2,
   "metadata": {},
   "outputs": [
    {
     "name": "stdout",
     "output_type": "stream",
     "text": [
      "+-------------+-----------+-----------+-----------+\n",
      "|             | Ciastka_A | Ciastka_B | Ciastka_C |\n",
      "+-------------+-----------+-----------+-----------+\n",
      "| Pracownia 1 | 214 min.  | 162 min.  | 180 min.  |\n",
      "+-------------+-----------+-----------+-----------+\n",
      "| Pracownia 2 |  90 min.  |  50 min.  |  66 min.  |\n",
      "+-------------+-----------+-----------+-----------+\n",
      "| Pracownia 3 | 105 min.  | 180 min.  | 124 min.  |\n",
      "+-------------+-----------+-----------+-----------+\n",
      "| Pracownia 4 | 146 min.  | 173 min.  | 127 min.  |\n",
      "+-------------+-----------+-----------+-----------+\n",
      "| Pracownia 5 | 116 min.  | 183 min.  | 107 min.  |\n",
      "+-------------+-----------+-----------+-----------+\n"
     ]
    }
   ],
   "source": [
    "from beautifultable import BeautifulTable\n",
    "\n",
    "table = BeautifulTable()\n",
    "table.column_headers = [\"\", \"Ciastka_A\",\"Ciastka_B\",\"Ciastka_C\"]\n",
    "table.append_row([\"Pracownia 1\", '214 min.',  '162 min.', '180 min.'])\n",
    "table.append_row([\"Pracownia 2\",  '90 min.',   '50 min.',  '66 min.'])\n",
    "table.append_row([\"Pracownia 3\", '105 min.',  '180 min.', '124 min.'])\n",
    "table.append_row([\"Pracownia 4\", '146 min.',  '173 min.', '127 min.'])\n",
    "table.append_row([\"Pracownia 5\", '116 min.',  '183 min.', '107 min.'])\n",
    "print(table)"
   ]
  },
  {
   "cell_type": "code",
   "execution_count": 3,
   "metadata": {},
   "outputs": [
    {
     "name": "stdout",
     "output_type": "stream",
     "text": [
      "+-------------+-----------+-----------+-----------+-------------+-------------+\n",
      "|             | Ciastka_A | Ciastka_B | Ciastka_C | Brak pracy1 | Brak pracy2 |\n",
      "+-------------+-----------+-----------+-----------+-------------+-------------+\n",
      "| Pracownia 1 |    x11    |    x12    |    x13    |     x14     |     x15     |\n",
      "+-------------+-----------+-----------+-----------+-------------+-------------+\n",
      "| Pracownia 2 |    x21    |    x22    |    x23    |     x24     |     x25     |\n",
      "+-------------+-----------+-----------+-----------+-------------+-------------+\n",
      "| Pracownia 3 |    x31    |    x32    |    x33    |     x34     |     x35     |\n",
      "+-------------+-----------+-----------+-----------+-------------+-------------+\n",
      "| Pracownia 4 |    x41    |    x42    |    x43    |     x44     |     x45     |\n",
      "+-------------+-----------+-----------+-----------+-------------+-------------+\n",
      "| Pracownia 5 |    x51    |    x52    |    x53    |     x54     |     x55     |\n",
      "+-------------+-----------+-----------+-----------+-------------+-------------+\n"
     ]
    }
   ],
   "source": [
    "from beautifultable import BeautifulTable\n",
    "\n",
    "table = BeautifulTable()\n",
    "table.column_headers = [\"\", \"Ciastka_A\",\"Ciastka_B\",\"Ciastka_C\", \"Brak pracy1\", \"Brak pracy2\"]\n",
    "table.append_row([\"Pracownia 1\", 'x11',  'x12', 'x13',  'x14', 'x15'])\n",
    "table.append_row([\"Pracownia 2\",  'x21',  'x22', 'x23',  'x24', 'x25'])\n",
    "table.append_row([\"Pracownia 3\", 'x31',  'x32', 'x33',  'x34', 'x35'])\n",
    "table.append_row([\"Pracownia 4\",'x41',  'x42', 'x43',  'x44', 'x45'])\n",
    "table.append_row([\"Pracownia 5\", 'x51',  'x52', 'x53',  'x54', 'x55'])\n",
    "print(table)"
   ]
  },
  {
   "cell_type": "code",
   "execution_count": 4,
   "metadata": {},
   "outputs": [
    {
     "name": "stdout",
     "output_type": "stream",
     "text": [
      "+-------------+-----------+-----------+-----------+-------------+-------------+\n",
      "|             | Ciastka_A | Ciastka_B | Ciastka_C | Brak pracy1 | Brak pracy2 |\n",
      "+-------------+-----------+-----------+-----------+-------------+-------------+\n",
      "| Pracownia 1 |     0     |    x12    |    x13    |     x14     |     x15     |\n",
      "+-------------+-----------+-----------+-----------+-------------+-------------+\n",
      "| Pracownia 2 |     0     |    x22    |    x23    |     x24     |     x25     |\n",
      "+-------------+-----------+-----------+-----------+-------------+-------------+\n",
      "| Pracownia 3 |     0     |    x32    |    x33    |     x34     |     x35     |\n",
      "+-------------+-----------+-----------+-----------+-------------+-------------+\n",
      "| Pracownia 4 |     1     |    x42    |    x43    |     x44     |     x45     |\n",
      "+-------------+-----------+-----------+-----------+-------------+-------------+\n",
      "| Pracownia 5 |     0     |    x52    |    x53    |     x54     |     x55     |\n",
      "+-------------+-----------+-----------+-----------+-------------+-------------+\n"
     ]
    }
   ],
   "source": [
    "from beautifultable import BeautifulTable\n",
    "\n",
    "table = BeautifulTable()\n",
    "table.column_headers = [\"\", \"Ciastka_A\",\"Ciastka_B\",\"Ciastka_C\", \"Brak pracy1\", \"Brak pracy2\"]\n",
    "table.append_row([\"Pracownia 1\", '0',  'x12', 'x13',  'x14', 'x15'])\n",
    "table.append_row([\"Pracownia 2\",  '0',  'x22', 'x23',  'x24', 'x25'])\n",
    "table.append_row([\"Pracownia 3\", '0',  'x32', 'x33',  'x34', 'x35'])\n",
    "table.append_row([\"Pracownia 4\",'1',  'x42', 'x43',  'x44', 'x45'])\n",
    "table.append_row([\"Pracownia 5\", '0',  'x52', 'x53',  'x54', 'x55'])\n",
    "print(table)"
   ]
  },
  {
   "cell_type": "code",
   "execution_count": null,
   "metadata": {},
   "outputs": [],
   "source": []
  },
  {
   "cell_type": "code",
   "execution_count": null,
   "metadata": {},
   "outputs": [],
   "source": []
  },
  {
   "cell_type": "markdown",
   "metadata": {},
   "source": [
    "<span style=\"font-size: 150%;color:white;background:#bf9000\">METODA ZWYKŁA rozwiązania tego zadania"
   ]
  },
  {
   "cell_type": "code",
   "execution_count": 5,
   "metadata": {},
   "outputs": [],
   "source": [
    "from pulp import *\n",
    "from fractions import Fraction\n",
    "\n",
    "# zdefiniowanie problemu- to jest taka platforma do wrzucania na nia wszystkiego\n",
    "\n",
    "prob = LpProblem(\"Przykład_97_STR_146\",LpMinimize)"
   ]
  },
  {
   "cell_type": "markdown",
   "metadata": {},
   "source": [
    "## $\n",
    "\\begin{align} \n",
    "{x_{ij}} & \\geqslant 0 &(3)\n",
    "\\end{align}\n",
    "$"
   ]
  },
  {
   "cell_type": "markdown",
   "metadata": {},
   "source": [
    "Wstawianie pierwszych warunków ograniczających: ograniczeniami nieujemności\n",
    "\n",
    "#### $\n",
    "\\left\\{\n",
    "\\begin{align} \n",
    "{x_{11}} & \\geqslant 0 & {x_{22}} & \\geqslant 0 &{x_{31}} & \\geqslant 0 & \\\\\n",
    "{x_{12}} & \\geqslant 0 & {x_{22}} & \\geqslant 0 &{x_{32}} & \\geqslant 0 &\\\\\n",
    "{x_{13}} & \\geqslant 0 & {x_{23}} & \\geqslant 0 &{x_{33}} & \\geqslant 0 &\\\\\n",
    "{x_{14}} & \\geqslant 0 & {x_{24}} & \\geqslant 0 &{x_{34}} & \\geqslant 0 &\\\\\n",
    "{x_{15}} & \\geqslant 0 & {x_{25}} & \\geqslant 0 &\\\\\n",
    "{x_{31}} & \\geqslant 0 & (5)\\\\\n",
    "{x_{32}} & \\geqslant 0 & (5)\\\\\n",
    "{x_{33}} & \\geqslant 0 & (5)\\\\\n",
    "{x_{34}} & \\geqslant 0 & (5)\\\\\n",
    "{x_{35}} & \\geqslant 0 & (5)\\\\\n",
    "{x_{41}} & \\geqslant 0 & (5)\\\\\n",
    "{x_{42}} & \\geqslant 0 & (5)\\\\\n",
    "{x_{43}} & \\geqslant 0 & (5)\\\\\n",
    "{x_{44}} & \\geqslant 0 & (5)\\\\\n",
    "{x_{45}} & \\geqslant 0 & (5)\\\\\n",
    "{x_{51}} & \\geqslant 0 & (5)\\\\\n",
    "{x_{52}} & \\geqslant 0 & (5)\\\\\n",
    "{x_{53}} & \\geqslant 0 & (5)\\\\\n",
    "{x_{54}} & \\geqslant 0 & (5)\\\\\n",
    "{x_{55}} & \\geqslant 0 & (5)\\\\\n",
    "{x_{61}} & \\geqslant 0 & (5)\\\\\n",
    "{x_{62}} & \\geqslant 0 & (5)\\\\\n",
    "{x_{63}} & \\geqslant 0 & (5)\\\\\n",
    "{x_{64}} & \\geqslant 0 & (5)\\\\\n",
    "{x_{65}} & \\geqslant 0 & (5)\\\\\n",
    "\\end{align}\n",
    "\\right. \n",
    "$"
   ]
  },
  {
   "cell_type": "markdown",
   "metadata": {},
   "source": [
    "<span style=\"font-size: 150%;color:white;background:#bf9000\">METODA ZWYKŁA rozwiązania tego zadania"
   ]
  },
  {
   "cell_type": "code",
   "execution_count": 6,
   "metadata": {},
   "outputs": [],
   "source": [
    "# \"Continuous\"\n",
    "# \"Integer\"\n",
    "\n",
    "x11=LpVariable(\"x11\",lowBound=0,upBound=None, cat=\"Integer\")\n",
    "x12=LpVariable(\"x12\",lowBound=0,upBound=None, cat=\"Integer\")\n",
    "x13=LpVariable(\"x13\",lowBound=0,upBound=None, cat=\"Integer\")\n",
    "x14=LpVariable(\"x14\",lowBound=0,upBound=None, cat=\"Integer\")\n",
    "x15=LpVariable(\"x15\",lowBound=0,upBound=None, cat=\"Integer\")\n",
    "x16=LpVariable(\"x16\",lowBound=0,upBound=None, cat=\"Integer\")\n",
    "\n",
    "x21=LpVariable(\"x21\",lowBound=0,upBound=None, cat=\"Integer\")\n",
    "x22=LpVariable(\"x22\",lowBound=0,upBound=None, cat=\"Integer\")\n",
    "x23=LpVariable(\"x23\",lowBound=0,upBound=None, cat=\"Integer\")\n",
    "x24=LpVariable(\"x24\",lowBound=0,upBound=None, cat=\"Integer\")\n",
    "x25=LpVariable(\"x25\",lowBound=0,upBound=None, cat=\"Integer\")\n",
    "x26=LpVariable(\"x26\",lowBound=0,upBound=None, cat=\"Integer\")\n",
    "\n",
    "x31=LpVariable(\"x31\",lowBound=0,upBound=None, cat=\"Integer\")\n",
    "x32=LpVariable(\"x32\",lowBound=0,upBound=None, cat=\"Integer\")\n",
    "x33=LpVariable(\"x33\",lowBound=0,upBound=None, cat=\"Integer\")\n",
    "x34=LpVariable(\"x34\",lowBound=0,upBound=None, cat=\"Integer\") \n",
    "x35=LpVariable(\"x35\",lowBound=0,upBound=None, cat=\"Integer\")\n",
    "x36=LpVariable(\"x36\",lowBound=0,upBound=None, cat=\"Integer\") \n",
    "\n",
    "x41=LpVariable(\"x41\",lowBound=0,upBound=None, cat=\"Integer\")  \n",
    "x42=LpVariable(\"x42\",lowBound=0,upBound=None, cat=\"Integer\")  \n",
    "x43=LpVariable(\"x43\",lowBound=0,upBound=None, cat=\"Integer\")  \n",
    "x44=LpVariable(\"x44\",lowBound=0,upBound=None, cat=\"Integer\")  \n",
    "x45=LpVariable(\"x45\",lowBound=0,upBound=None, cat=\"Integer\")  \n",
    "x46=LpVariable(\"x46\",lowBound=0,upBound=None, cat=\"Integer\")  \n",
    "\n",
    "x51=LpVariable(\"x51\",lowBound=0,upBound=None, cat=\"Integer\")  \n",
    "x52=LpVariable(\"x52\",lowBound=0,upBound=None, cat=\"Integer\")  \n",
    "x53=LpVariable(\"x53\",lowBound=0,upBound=None, cat=\"Integer\")  \n",
    "x54=LpVariable(\"x54\",lowBound=0,upBound=None, cat=\"Integer\")  \n",
    "x55=LpVariable(\"x55\",lowBound=0,upBound=None, cat=\"Integer\")  \n",
    "x56=LpVariable(\"x56\",lowBound=0,upBound=None, cat=\"Integer\") \n",
    "\n",
    "x61=LpVariable(\"x61\",lowBound=0,upBound=None, cat=\"Integer\")  \n",
    "x62=LpVariable(\"x62\",lowBound=0,upBound=None, cat=\"Integer\")  \n",
    "x63=LpVariable(\"x63\",lowBound=0,upBound=None, cat=\"Integer\")  \n",
    "x64=LpVariable(\"x64\",lowBound=0,upBound=None, cat=\"Integer\")  \n",
    "x65=LpVariable(\"x65\",lowBound=0,upBound=None, cat=\"Integer\")  \n",
    "x66=LpVariable(\"x66\",lowBound=0,upBound=None, cat=\"Integer\") "
   ]
  },
  {
   "cell_type": "markdown",
   "metadata": {},
   "source": [
    "### Dodajemy do platformy funkcje celu\n",
    "\n",
    "Zmaksymalizować efektywność pracy.\n",
    "\n",
    "$$\n",
    "\\left\\{\n",
    "\\begin{align}\n",
    "F(x_{i,j})\\\\\n",
    "=214x_{11}+162x_{12}+180x_{13}+0x_{14}+0x_{15} & \\space & (4)\\\\\n",
    "+  90x_{21}+ 50x_{23}+ 66x_{24}+0x_{24}+0x_{25}\\\\\n",
    "+105x_{31}+180x_{32}+124x_{33}+0x_{34}+0x_{35}\\\\\n",
    "+146x_{41}+173x_{42}+127x_{43}+0x_{44}+0x_{45}\\\\\n",
    "+116x_{51}+183x_{52}+107x_{53}+0x_{54}+0x_{55}\\\\\n",
    "\\to  min\n",
    "\\end{align}\n",
    "\\right. \n",
    "$$"
   ]
  },
  {
   "cell_type": "code",
   "execution_count": 7,
   "metadata": {},
   "outputs": [],
   "source": [
    "# objective function\n",
    "prob +=214*x11+162*x12+180*x13+0*x14+0*x15 + 90*x21+ 50*x22+ 66*x23+0*x24+0*x25 +105*x31+180*x32+124*x33+0*x34+0*x35 +146*x41+173*x42+127*x43+0*x44+0*x45 +116*x51+183*x52+107*x53+0*x54+0*x55, \"maksymalizacja wydajności produkcji \""
   ]
  },
  {
   "cell_type": "code",
   "execution_count": 8,
   "metadata": {},
   "outputs": [
    {
     "name": "stdout",
     "output_type": "stream",
     "text": [
      "Przykład_97_STR_146:\n",
      "MINIMIZE\n",
      "214*x11 + 162*x12 + 180*x13 + 90*x21 + 50*x22 + 66*x23 + 105*x31 + 180*x32 + 124*x33 + 146*x41 + 173*x42 + 127*x43 + 116*x51 + 183*x52 + 107*x53 + 0\n",
      "VARIABLES\n",
      "0 <= x11 Integer\n",
      "0 <= x12 Integer\n",
      "0 <= x13 Integer\n",
      "0 <= x21 Integer\n",
      "0 <= x22 Integer\n",
      "0 <= x23 Integer\n",
      "0 <= x31 Integer\n",
      "0 <= x32 Integer\n",
      "0 <= x33 Integer\n",
      "0 <= x41 Integer\n",
      "0 <= x42 Integer\n",
      "0 <= x43 Integer\n",
      "0 <= x51 Integer\n",
      "0 <= x52 Integer\n",
      "0 <= x53 Integer\n",
      "\n"
     ]
    }
   ],
   "source": [
    "print(prob)"
   ]
  },
  {
   "cell_type": "markdown",
   "metadata": {},
   "source": [
    "zmiennymi decyzyjnymi jest tutaj przydział, liczba 1 lub 0. Każda obrabiarka może być produkować tylko jeden detal.\n",
    "\n",
    "#### $\n",
    "\\left\\{\n",
    "\\begin{align} \n",
    "{x_{11}+x_{12}+x_{13}+x_{14}} & = 1 & (Obrabiarka-1)& \\space & \\space & \\space(1)\\\\\n",
    "{x_{21}+x_{22}+x_{23}+x_{24}} & = 1 & (Obrabiarka-2)\\\\\n",
    "{x_{31}+x_{32}+x_{33}+x_{34}} & = 1 & (Obrabiarka-3)\\\\\n",
    "{x_{41}+x_{42}+x_{43}+x_{44}} & = 1 & (Obrabiarka-4)\\\\\n",
    "\\end{align}\n",
    "\\right. \n",
    "$\n",
    "\n",
    "<span style=\"font-size: 130%;color:#0000ff\"> Krok 4: ograniczenie pośrednie - każdy detal może być produkowany  tylko raz </span>\n",
    "#### $\n",
    "\\left\\{\n",
    "\\begin{align} \n",
    "{x_{11}+x_{21}+x_{31}+x_{41}} & = 1 & (detal-1)& \\space & \\space & \\space(2)\\\\\n",
    "{x_{12}+x_{22}+x_{32}+x_{42}} & = 1 & (detal-2)\\\\\n",
    "{x_{13}+x_{23}+x_{33}+x_{43}} & = 1 & (detal-3)\\\\\n",
    "{x_{14}+x_{24}+x_{34}+x_{44}} & = 1 & (detal-4)\\\\\n",
    "\\end{align}\n",
    "\\right. \n",
    "$"
   ]
  },
  {
   "cell_type": "code",
   "execution_count": 9,
   "metadata": {},
   "outputs": [],
   "source": [
    "# OGRANICZENIA OBRABIAREK\n",
    "prob += x11 + x21 + x31+ x41 + x51 == 1\n",
    "prob += x12 + x22 + x32+ x42 + x52 == 1\n",
    "prob += x13 + x23 + x33+ x43 + x53 == 1\n",
    "prob += x14 + x24 + x34+ x44 + x54 == 1\n",
    "prob += x15 + x25 + x35+ x45 + x55 == 1"
   ]
  },
  {
   "cell_type": "code",
   "execution_count": 10,
   "metadata": {},
   "outputs": [],
   "source": [
    "# OGRANICZENIA DLA DETALI\n",
    "prob += x11 + x12 + x13 + x14 + x15 == 1  # PRODUKT A\n",
    "prob += x21 + x22 + x23 + x24 + x25 == 1  # PRODUKT B\n",
    "prob += x31 + x32 + x33 + x34 + x35 == 1  # PRODUKT C\n",
    "prob += x41 + x42 + x43 + x44 + x45 == 1  # PRODUKT D\n",
    "prob += x51 + x52 + x53 + x54 + x55 == 1  # PRODUKT D"
   ]
  },
  {
   "cell_type": "code",
   "execution_count": 11,
   "metadata": {},
   "outputs": [
    {
     "name": "stdout",
     "output_type": "stream",
     "text": [
      "Przykład_97_STR_146:\n",
      "MINIMIZE\n",
      "214*x11 + 162*x12 + 180*x13 + 90*x21 + 50*x22 + 66*x23 + 105*x31 + 180*x32 + 124*x33 + 146*x41 + 173*x42 + 127*x43 + 116*x51 + 183*x52 + 107*x53 + 0\n",
      "SUBJECT TO\n",
      "_C1: x11 + x21 + x31 + x41 + x51 = 1\n",
      "\n",
      "_C2: x12 + x22 + x32 + x42 + x52 = 1\n",
      "\n",
      "_C3: x13 + x23 + x33 + x43 + x53 = 1\n",
      "\n",
      "_C4: x14 + x24 + x34 + x44 + x54 = 1\n",
      "\n",
      "_C5: x15 + x25 + x35 + x45 + x55 = 1\n",
      "\n",
      "_C6: x11 + x12 + x13 + x14 + x15 = 1\n",
      "\n",
      "_C7: x21 + x22 + x23 + x24 + x25 = 1\n",
      "\n",
      "_C8: x31 + x32 + x33 + x34 + x35 = 1\n",
      "\n",
      "_C9: x41 + x42 + x43 + x44 + x45 = 1\n",
      "\n",
      "_C10: x51 + x52 + x53 + x54 + x55 = 1\n",
      "\n",
      "VARIABLES\n",
      "0 <= x11 Integer\n",
      "0 <= x12 Integer\n",
      "0 <= x13 Integer\n",
      "0 <= x14 Integer\n",
      "0 <= x15 Integer\n",
      "0 <= x21 Integer\n",
      "0 <= x22 Integer\n",
      "0 <= x23 Integer\n",
      "0 <= x24 Integer\n",
      "0 <= x25 Integer\n",
      "0 <= x31 Integer\n",
      "0 <= x32 Integer\n",
      "0 <= x33 Integer\n",
      "0 <= x34 Integer\n",
      "0 <= x35 Integer\n",
      "0 <= x41 Integer\n",
      "0 <= x42 Integer\n",
      "0 <= x43 Integer\n",
      "0 <= x44 Integer\n",
      "0 <= x45 Integer\n",
      "0 <= x51 Integer\n",
      "0 <= x52 Integer\n",
      "0 <= x53 Integer\n",
      "0 <= x54 Integer\n",
      "0 <= x55 Integer\n",
      "\n"
     ]
    }
   ],
   "source": [
    "print(prob)"
   ]
  },
  {
   "cell_type": "code",
   "execution_count": 12,
   "metadata": {},
   "outputs": [
    {
     "name": "stdout",
     "output_type": "stream",
     "text": [
      "Przykład_97_STR_146:\n",
      "MINIMIZE\n",
      "214*x11 + 162*x12 + 180*x13 + 90*x21 + 50*x22 + 66*x23 + 105*x31 + 180*x32 + 124*x33 + 146*x41 + 173*x42 + 127*x43 + 116*x51 + 183*x52 + 107*x53 + 0\n",
      "SUBJECT TO\n",
      "_C1: x11 + x21 + x31 + x41 + x51 = 1\n",
      "\n",
      "_C2: x12 + x22 + x32 + x42 + x52 = 1\n",
      "\n",
      "_C3: x13 + x23 + x33 + x43 + x53 = 1\n",
      "\n",
      "_C4: x14 + x24 + x34 + x44 + x54 = 1\n",
      "\n",
      "_C5: x15 + x25 + x35 + x45 + x55 = 1\n",
      "\n",
      "_C6: x11 + x12 + x13 + x14 + x15 = 1\n",
      "\n",
      "_C7: x21 + x22 + x23 + x24 + x25 = 1\n",
      "\n",
      "_C8: x31 + x32 + x33 + x34 + x35 = 1\n",
      "\n",
      "_C9: x41 + x42 + x43 + x44 + x45 = 1\n",
      "\n",
      "_C10: x51 + x52 + x53 + x54 + x55 = 1\n",
      "\n",
      "VARIABLES\n",
      "0 <= x11 Integer\n",
      "0 <= x12 Integer\n",
      "0 <= x13 Integer\n",
      "0 <= x14 Integer\n",
      "0 <= x15 Integer\n",
      "0 <= x21 Integer\n",
      "0 <= x22 Integer\n",
      "0 <= x23 Integer\n",
      "0 <= x24 Integer\n",
      "0 <= x25 Integer\n",
      "0 <= x31 Integer\n",
      "0 <= x32 Integer\n",
      "0 <= x33 Integer\n",
      "0 <= x34 Integer\n",
      "0 <= x35 Integer\n",
      "0 <= x41 Integer\n",
      "0 <= x42 Integer\n",
      "0 <= x43 Integer\n",
      "0 <= x44 Integer\n",
      "0 <= x45 Integer\n",
      "0 <= x51 Integer\n",
      "0 <= x52 Integer\n",
      "0 <= x53 Integer\n",
      "0 <= x54 Integer\n",
      "0 <= x55 Integer\n",
      "\n"
     ]
    }
   ],
   "source": [
    "print(prob)"
   ]
  },
  {
   "cell_type": "markdown",
   "metadata": {},
   "source": [
    "### Rozwiązanie problemu"
   ]
  },
  {
   "cell_type": "code",
   "execution_count": 13,
   "metadata": {},
   "outputs": [
    {
     "name": "stdout",
     "output_type": "stream",
     "text": [
      "prob.solve 1\n",
      "Status: Optimal\n"
     ]
    }
   ],
   "source": [
    "print(\"prob.solve\",prob.solve())\n",
    "# status of the solution\n",
    "print(f\"Status: {LpStatus[prob.status]}\")"
   ]
  },
  {
   "cell_type": "code",
   "execution_count": 14,
   "metadata": {},
   "outputs": [
    {
     "name": "stdout",
     "output_type": "stream",
     "text": [
      "x11 = 0\n",
      "x12 = 0\n",
      "x13 = 0\n",
      "x14 = 0\n",
      "x15 = 1\n",
      "x21 = 0\n",
      "x22 = 1\n",
      "x23 = 0\n",
      "x24 = 0\n",
      "x25 = 0\n",
      "x31 = 1\n",
      "x32 = 0\n",
      "x33 = 0\n",
      "x34 = 0\n",
      "x35 = 0\n",
      "x41 = 0\n",
      "x42 = 0\n",
      "x43 = 0\n",
      "x44 = 1\n",
      "x45 = 0\n",
      "x51 = 0\n",
      "x52 = 0\n",
      "x53 = 1\n",
      "x54 = 0\n",
      "x55 = 0\n"
     ]
    }
   ],
   "source": [
    "for v in prob.variables():\n",
    "    print(f\"{v.name} = {str(Fraction(v.varValue).limit_denominator())}\")\n"
   ]
  },
  {
   "cell_type": "code",
   "execution_count": 15,
   "metadata": {},
   "outputs": [
    {
     "name": "stdout",
     "output_type": "stream",
     "text": [
      "max (x11+x12+x13+x21+x22+x23+x31+x32+x33+x41+x42+x43) = 262\n"
     ]
    }
   ],
   "source": [
    "# maximum value of the objective function\n",
    "print(f\"max (x11+x12+x13+x21+x22+x23+x31+x32+x33+x41+x42+x43) = {str(Fraction(value(prob.objective)).limit_denominator())}\")"
   ]
  },
  {
   "cell_type": "code",
   "execution_count": 32,
   "metadata": {},
   "outputs": [
    {
     "name": "stdout",
     "output_type": "stream",
     "text": [
      "+-------------+-----------+-----------+-----------+-------------+-------------+\n",
      "|             | Ciastka_A | Ciastka_B | Ciastka_C | Brak pracy1 | Brak pracy2 |\n",
      "+-------------+-----------+-----------+-----------+-------------+-------------+\n",
      "| Pracownia 1 |     0     |     0     |     0     |      0      |      1      |\n",
      "+-------------+-----------+-----------+-----------+-------------+-------------+\n",
      "| Pracownia 2 |     0     |     1     |     0     |      0      |      0      |\n",
      "+-------------+-----------+-----------+-----------+-------------+-------------+\n",
      "| Pracownia 3 |     1     |     0     |     0     |      0      |      0      |\n",
      "+-------------+-----------+-----------+-----------+-------------+-------------+\n",
      "| Pracownia 4 |     0     |     0     |     0     |      1      |      0      |\n",
      "+-------------+-----------+-----------+-----------+-------------+-------------+\n",
      "| Pracownia 5 |     0     |     0     |     1     |      0      |      0      |\n",
      "+-------------+-----------+-----------+-----------+-------------+-------------+\n"
     ]
    }
   ],
   "source": [
    "from beautifultable import BeautifulTable\n",
    "\n",
    "table = BeautifulTable()\n",
    "table.column_headers = [\"\", \"Ciastka_A\",\"Ciastka_B\",\"Ciastka_C\", \"Brak pracy1\", \"Brak pracy2\"]\n",
    "table.append_row([\"Pracownia 1\", 0,  0, 0,  0, 1])\n",
    "table.append_row([\"Pracownia 2\", 0,  1, 0,  0, 0])\n",
    "table.append_row([\"Pracownia 3\", 1,  0, 0,  0, 0])\n",
    "table.append_row([\"Pracownia 4\", 0,  0, 0,  1, 0])\n",
    "table.append_row([\"Pracownia 5\", 0,  0, 1,  0, 0])\n",
    "print(table)"
   ]
  },
  {
   "cell_type": "code",
   "execution_count": null,
   "metadata": {},
   "outputs": [],
   "source": []
  },
  {
   "cell_type": "markdown",
   "metadata": {},
   "source": [
    "<span style=\"font-size: 130%;color:#0000ff\">Minimalny czas wykonania to 28 godzin"
   ]
  },
  {
   "cell_type": "markdown",
   "metadata": {},
   "source": [
    "<span style=\"font-size: 150%;color:white;background:#bf9000\">METODA MACIERZOWA rozwiązania tego zadania"
   ]
  },
  {
   "cell_type": "code",
   "execution_count": 17,
   "metadata": {},
   "outputs": [],
   "source": [
    "from pulp import *\n",
    "\n",
    "# Tworze listę zakładów\n",
    "Warehouses = [\"Obrabiarka 1\",\"Obrabiarka 2\",\"Obrabiarka 3\",\"Obrabiarka 4\"]\n",
    "\n",
    "# Tworze słownik ile każdy PROGRAM może  być maksymalnie emitowany\n",
    "supply = {\"Obrabiarka 1\": 1,\n",
    "          \"Obrabiarka 2\": 1,\n",
    "          \"Obrabiarka 3\": 1,\n",
    "          \"Obrabiarka 4\": 1}"
   ]
  },
  {
   "cell_type": "code",
   "execution_count": 18,
   "metadata": {},
   "outputs": [
    {
     "name": "stdout",
     "output_type": "stream",
     "text": [
      "Warehouses: ['Obrabiarka 1', 'Obrabiarka 2', 'Obrabiarka 3', 'Obrabiarka 4']\n",
      "supply: {'Obrabiarka 1': 1, 'Obrabiarka 2': 1, 'Obrabiarka 3': 1, 'Obrabiarka 4': 1}\n",
      "Bars: ['detal_1', 'detal_2', 'detal_3', 'detal_4']\n",
      "Demand: {'detal_1': 1, 'detal_2': 1, 'detal_3': 1, 'detal_4': 1}\n"
     ]
    }
   ],
   "source": [
    "# Tworzę listę produktów\n",
    "Bars = [\"detal_1\", \"detal_2\", \"detal_3\",\"detal_4\"]\n",
    "\n",
    "# dokładna ilość detali do produkcji\n",
    "demand = {\"detal_1\": 1,\n",
    "        \"detal_2\": 1,\n",
    "        \"detal_3\": 1,\n",
    "        \"detal_4\": 1 \n",
    "        }\n",
    "print('Warehouses:',Warehouses)\n",
    "print('supply:',supply)\n",
    "print('Bars:',Bars)\n",
    "print('Demand:',demand)"
   ]
  },
  {
   "cell_type": "markdown",
   "metadata": {},
   "source": [
    "### <span style=\"color:blue\"> Są w różnych kategoriach. maszyny są w minutach, detale są w sztukach"
   ]
  },
  {
   "cell_type": "code",
   "execution_count": 19,
   "metadata": {},
   "outputs": [
    {
     "name": "stdout",
     "output_type": "stream",
     "text": [
      "+--------------+---------+---------+---------+-------------+\n",
      "|   maszyny:   | detal_1 | detal_2 | detal_3 | brak roboty |\n",
      "+--------------+---------+---------+---------+-------------+\n",
      "| Obrabiarka 1 |   24    |   12    |   18    |      0      |\n",
      "+--------------+---------+---------+---------+-------------+\n",
      "| Obrabiarka 2 |   18    |   20    |   16    |      0      |\n",
      "+--------------+---------+---------+---------+-------------+\n",
      "| Obrabiarka 3 |   10    |    8    |   12    |      0      |\n",
      "+--------------+---------+---------+---------+-------------+\n",
      "| Obrabiarka 4 |   16    |   14    |    6    |      0      |\n",
      "+--------------+---------+---------+---------+-------------+\n"
     ]
    }
   ],
   "source": [
    "from beautifultable import BeautifulTable\n",
    "\n",
    "table = BeautifulTable()\n",
    "table.column_headers = [\"maszyny:\", \"detal_1\",\"detal_2\",\"detal_3\",\"brak roboty\"]\n",
    "table.append_row([\"Obrabiarka 1\", 24,  12, 18, 0])\n",
    "table.append_row([\"Obrabiarka 2\", 18,  20, 16, 0])\n",
    "table.append_row([\"Obrabiarka 3\", 10,   8, 12, 0])\n",
    "table.append_row([\"Obrabiarka 4\", 16,  14,  6, 0])\n",
    "print(table)"
   ]
  },
  {
   "cell_type": "code",
   "execution_count": 20,
   "metadata": {},
   "outputs": [],
   "source": [
    "        #maszyna\n",
    "        # 1,  2,  3,  4 \n",
    "\n",
    "costs = [   \n",
    "        [24, 12, 18, 0],  #detal_1\n",
    "        [18, 20, 16, 0],  #detal_2\n",
    "        [10,  8, 12, 0],  #detal_3\n",
    "        [16, 14,  6, 0]   #detal_4\n",
    "         ]"
   ]
  },
  {
   "cell_type": "code",
   "execution_count": 21,
   "metadata": {},
   "outputs": [
    {
     "data": {
      "text/plain": [
       "{'Obrabiarka 1': {'detal_1': 24, 'detal_2': 12, 'detal_3': 18, 'detal_4': 0},\n",
       " 'Obrabiarka 2': {'detal_1': 18, 'detal_2': 20, 'detal_3': 16, 'detal_4': 0},\n",
       " 'Obrabiarka 3': {'detal_1': 10, 'detal_2': 8, 'detal_3': 12, 'detal_4': 0},\n",
       " 'Obrabiarka 4': {'detal_1': 16, 'detal_2': 14, 'detal_3': 6, 'detal_4': 0}}"
      ]
     },
     "execution_count": 21,
     "metadata": {},
     "output_type": "execute_result"
    }
   ],
   "source": [
    "# The cost data is made into a dictionary\n",
    "costs = makeDict([Warehouses,Bars],costs,0)\n",
    "costs"
   ]
  },
  {
   "cell_type": "code",
   "execution_count": 22,
   "metadata": {},
   "outputs": [
    {
     "name": "stdout",
     "output_type": "stream",
     "text": [
      "Beer_Distribution_Problem:\n",
      "MINIMIZE\n",
      "None\n",
      "VARIABLES\n",
      "\n"
     ]
    },
    {
     "name": "stderr",
     "output_type": "stream",
     "text": [
      "/home/wojciech/anaconda3/lib/python3.7/site-packages/pulp/pulp.py:1114: UserWarning: Spaces are not permitted in the name. Converted to '_'\n",
      "  warnings.warn(\"Spaces are not permitted in the name. Converted to '_'\")\n"
     ]
    }
   ],
   "source": [
    "# Creates the 'prob' variable to contain the problem data\n",
    "prob = LpProblem(\"Beer Distribution Problem\",LpMinimize)\n",
    "print(prob)"
   ]
  },
  {
   "cell_type": "code",
   "execution_count": 23,
   "metadata": {},
   "outputs": [
    {
     "name": "stdout",
     "output_type": "stream",
     "text": [
      "[('Obrabiarka 1', 'detal_1'), ('Obrabiarka 1', 'detal_2'), ('Obrabiarka 1', 'detal_3'), ('Obrabiarka 1', 'detal_4'), ('Obrabiarka 2', 'detal_1'), ('Obrabiarka 2', 'detal_2'), ('Obrabiarka 2', 'detal_3'), ('Obrabiarka 2', 'detal_4'), ('Obrabiarka 3', 'detal_1'), ('Obrabiarka 3', 'detal_2'), ('Obrabiarka 3', 'detal_3'), ('Obrabiarka 3', 'detal_4'), ('Obrabiarka 4', 'detal_1'), ('Obrabiarka 4', 'detal_2'), ('Obrabiarka 4', 'detal_3'), ('Obrabiarka 4', 'detal_4')]\n"
     ]
    }
   ],
   "source": [
    "# Creates a list of tuples containing all the possible routes for transport\n",
    "Routes = [(w,b) for w in Warehouses for b in Bars]\n",
    "print(Routes)"
   ]
  },
  {
   "cell_type": "code",
   "execution_count": 24,
   "metadata": {},
   "outputs": [
    {
     "data": {
      "text/plain": [
       "{'Obrabiarka 1': {'detal_1': Route_Obrabiarka_1_detal_1,\n",
       "  'detal_2': Route_Obrabiarka_1_detal_2,\n",
       "  'detal_3': Route_Obrabiarka_1_detal_3,\n",
       "  'detal_4': Route_Obrabiarka_1_detal_4},\n",
       " 'Obrabiarka 2': {'detal_1': Route_Obrabiarka_2_detal_1,\n",
       "  'detal_2': Route_Obrabiarka_2_detal_2,\n",
       "  'detal_3': Route_Obrabiarka_2_detal_3,\n",
       "  'detal_4': Route_Obrabiarka_2_detal_4},\n",
       " 'Obrabiarka 3': {'detal_1': Route_Obrabiarka_3_detal_1,\n",
       "  'detal_2': Route_Obrabiarka_3_detal_2,\n",
       "  'detal_3': Route_Obrabiarka_3_detal_3,\n",
       "  'detal_4': Route_Obrabiarka_3_detal_4},\n",
       " 'Obrabiarka 4': {'detal_1': Route_Obrabiarka_4_detal_1,\n",
       "  'detal_2': Route_Obrabiarka_4_detal_2,\n",
       "  'detal_3': Route_Obrabiarka_4_detal_3,\n",
       "  'detal_4': Route_Obrabiarka_4_detal_4}}"
      ]
     },
     "execution_count": 24,
     "metadata": {},
     "output_type": "execute_result"
    }
   ],
   "source": [
    "# A dictionary called 'Vars' is created to contain the referenced variables(the routes)\n",
    "vars = LpVariable.dicts(\"Route\",(Warehouses,Bars),0,None,LpInteger)\n",
    "vars"
   ]
  },
  {
   "cell_type": "code",
   "execution_count": 25,
   "metadata": {},
   "outputs": [],
   "source": [
    "# The objective function is added to 'prob' first\n",
    "prob += lpSum([vars[w][b]*costs[w][b] for (w,b) in Routes]), \"Sum_of_Transporting_Costs\"\n",
    "\n",
    "# The supply maximum constraints are added to prob for each supply node (warehouse)\n",
    "for w in Warehouses:\n",
    "    prob += lpSum([vars[w][b] for b in Bars])<=supply[w], \"Sum_of_Products_out_of_Warehouse_%s\"%w\n",
    "\n",
    "    # The demand minimum constraints are added to prob for each demand node (bar)\n",
    "for b in Bars:\n",
    "    prob += lpSum([vars[w][b] for w in Warehouses])>=demand[b], \"Sum_of_Products_into_Bar%s\"%b"
   ]
  },
  {
   "cell_type": "code",
   "execution_count": 26,
   "metadata": {},
   "outputs": [
    {
     "data": {
      "text/plain": [
       "[Route_Obrabiarka_1_detal_1,\n",
       " Route_Obrabiarka_1_detal_2,\n",
       " Route_Obrabiarka_1_detal_3,\n",
       " Route_Obrabiarka_1_detal_4,\n",
       " Route_Obrabiarka_2_detal_1,\n",
       " Route_Obrabiarka_2_detal_2,\n",
       " Route_Obrabiarka_2_detal_3,\n",
       " Route_Obrabiarka_2_detal_4,\n",
       " Route_Obrabiarka_3_detal_1,\n",
       " Route_Obrabiarka_3_detal_2,\n",
       " Route_Obrabiarka_3_detal_3,\n",
       " Route_Obrabiarka_3_detal_4,\n",
       " Route_Obrabiarka_4_detal_1,\n",
       " Route_Obrabiarka_4_detal_2,\n",
       " Route_Obrabiarka_4_detal_3,\n",
       " Route_Obrabiarka_4_detal_4]"
      ]
     },
     "execution_count": 26,
     "metadata": {},
     "output_type": "execute_result"
    }
   ],
   "source": [
    "# The problem data is written to an .lp file\n",
    "prob.writeLP(\"BeerDistributionProblem.lp\")"
   ]
  },
  {
   "cell_type": "code",
   "execution_count": 27,
   "metadata": {},
   "outputs": [
    {
     "name": "stdout",
     "output_type": "stream",
     "text": [
      "prob.solve 1\n",
      "Status: Optimal\n"
     ]
    }
   ],
   "source": [
    "# The problem is solved using PuLP's choice of Solver\n",
    "print(\"prob.solve\",prob.solve())\n",
    "\n",
    "# The status of the solution is printed to the screen\n",
    "print(\"Status:\", LpStatus[prob.status])"
   ]
  },
  {
   "cell_type": "code",
   "execution_count": 28,
   "metadata": {},
   "outputs": [
    {
     "name": "stdout",
     "output_type": "stream",
     "text": [
      "Route_Obrabiarka_1_detal_1 = 0.0\n",
      "Route_Obrabiarka_1_detal_2 = 1.0\n",
      "Route_Obrabiarka_1_detal_3 = 0.0\n",
      "Route_Obrabiarka_1_detal_4 = 0.0\n",
      "Route_Obrabiarka_2_detal_1 = 0.0\n",
      "Route_Obrabiarka_2_detal_2 = 0.0\n",
      "Route_Obrabiarka_2_detal_3 = 0.0\n",
      "Route_Obrabiarka_2_detal_4 = 1.0\n",
      "Route_Obrabiarka_3_detal_1 = 1.0\n",
      "Route_Obrabiarka_3_detal_2 = 0.0\n",
      "Route_Obrabiarka_3_detal_3 = 0.0\n",
      "Route_Obrabiarka_3_detal_4 = 0.0\n",
      "Route_Obrabiarka_4_detal_1 = 0.0\n",
      "Route_Obrabiarka_4_detal_2 = 0.0\n",
      "Route_Obrabiarka_4_detal_3 = 1.0\n",
      "Route_Obrabiarka_4_detal_4 = 0.0\n"
     ]
    }
   ],
   "source": [
    "# Each of the variables is printed with it's resolved optimum value\n",
    "for v in prob.variables():\n",
    "    print(v.name, \"=\", v.varValue)"
   ]
  },
  {
   "cell_type": "code",
   "execution_count": 29,
   "metadata": {},
   "outputs": [
    {
     "name": "stdout",
     "output_type": "stream",
     "text": [
      "wydajność produkcji w tys. min =  28.0\n"
     ]
    }
   ],
   "source": [
    "# The optimised objective function value is printed to the screen    \n",
    "print(\"wydajność produkcji w tys. min = \", value(prob.objective))"
   ]
  },
  {
   "cell_type": "code",
   "execution_count": null,
   "metadata": {},
   "outputs": [],
   "source": []
  }
 ],
 "metadata": {
  "kernelspec": {
   "display_name": "Python 3",
   "language": "python",
   "name": "python3"
  },
  "language_info": {
   "codemirror_mode": {
    "name": "ipython",
    "version": 3
   },
   "file_extension": ".py",
   "mimetype": "text/x-python",
   "name": "python",
   "nbconvert_exporter": "python",
   "pygments_lexer": "ipython3",
   "version": "3.7.4"
  }
 },
 "nbformat": 4,
 "nbformat_minor": 2
}
