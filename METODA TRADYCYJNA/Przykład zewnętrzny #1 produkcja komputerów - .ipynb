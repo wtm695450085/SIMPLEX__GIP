{
 "cells": [
  {
   "cell_type": "markdown",
   "metadata": {},
   "source": [
    "# <span style=\"color:blue\"> Przykład zewnętrzny #1 produkcja komputerów\n",
    "\n",
    "https://hackernoon.com/linear-programming-in-python-a-straight-forward-tutorial-a0d152618121"
   ]
  },
  {
   "cell_type": "markdown",
   "metadata": {},
   "source": [
    "Wyobraź sobie, że pracujesz dla firmy, która buduje komputery. Komputer jest dość złożonym produktem i jest kilka fabryk, które je montują, a firma płaci określoną kwotę za sztukę. Koszt tego modelu komputera na rynku jest ustalony na 500 $, różne fabryki montują komputery z różnymi prędkościami i kosztami. \n",
    "\n",
    "        - Fabryka f0 produkuje 2000 dziennie po 450 $ za sztukę \n",
    "        - fabryka f1 1500 dziennie po 420 $ za sztukę i \n",
    "        - f2 1000 dziennie po 400 $ za sztukę. \n",
    "        \n",
    "Mamy 1 miesiąc na zmontowanie 80 000 jednostek pod warunkiem, że żadna fabryka nie będzie produkować więcej niż dwa razy więcej jednostek niż jakakolwiek inna fabryka. Pytanie brzmi,jaka jest optymalna alokacja produkcji między fabrykami, tak aby zmaksymalizować zysk uzyskany ze sprzedaży komputerów przy tych ograniczeniach?"
   ]
  },
  {
   "cell_type": "code",
   "execution_count": 1,
   "metadata": {},
   "outputs": [
    {
     "name": "stdout",
     "output_type": "stream",
     "text": [
      "+---------+-----------+------------+--------+--------+-----------+-------------+\n",
      "| wytwórn | koszty je | przychód j | Zysk j | zdol p | max dni p |  max prod m |\n",
      "|   ie    |    d.     |    ed.     |  ed.   |  rod   |    rod    |     -c      |\n",
      "+---------+-----------+------------+--------+--------+-----------+-------------+\n",
      "| Fabryka |    450    |    500     |   50   |  2000  |    30     |    60000    |\n",
      "|    1    |           |            |        |        |           |             |\n",
      "+---------+-----------+------------+--------+--------+-----------+-------------+\n",
      "| Fabryka |    420    |    500     |   80   |  1500  |    30     |    45000    |\n",
      "|    2    |           |            |        |        |           |             |\n",
      "+---------+-----------+------------+--------+--------+-----------+-------------+\n",
      "| Fabryka |    400    |    500     |  100   |  1000  |    30     |    30000    |\n",
      "|    3    |           |            |        |        |           |             |\n",
      "+---------+-----------+------------+--------+--------+-----------+-------------+\n"
     ]
    }
   ],
   "source": [
    "from beautifultable import BeautifulTable\n",
    "\n",
    "table = BeautifulTable()\n",
    "table.column_headers = [\"wytwórnie\", \"koszty jed.\",\"przychód jed.\", \"Zysk jed.\", \"zdol prod\", \"max dni prod\", \" max prod m-c\"]\n",
    "table.append_row([\"Fabryka 1\",    450,    500,     500-450 ,2000,30,30*2000])\n",
    "table.append_row([\"Fabryka 2\",    420,    500,     500-420 ,1500,30,1500*30])\n",
    "table.append_row([\"Fabryka 3\",    400,    500,     500-400 ,1000,30,1000*30])\n",
    "print(table)"
   ]
  },
  {
   "cell_type": "markdown",
   "metadata": {},
   "source": [
    "<span style=\"font-size: 150%;color:#0000ff\">Krok 1: ZMIENNA DECYZYJNA Czym jest x? </span>\n",
    "\n",
    "ilość dni produkcji w fabryce 0, 1 i 2\n",
    "\n",
    "<span style=\"font-size: 150%;color:#0000ff\"> Krok 2: Co jest w tabeli?</span>\n",
    "\n",
    "nic\n",
    "\n",
    "<span style=\"font-size: 150%;color:#0000ff\"> Krok 3: ograniczenie zmiennych decyzyjnych</span>\n",
    "\n",
    "zmienną decyzyjną jest ilość dni produkcji. Ograniczenie czasu pracy zakładów\n",
    "\n",
    "#### $\n",
    "\\left\\{\n",
    "\\begin{align} \n",
    "{2000x_{1}+1500x_{2}+1000x_{3}} & = 80000 & (2)\\\\\n",
    "\\end{align}\n",
    "\\right. \n",
    "$\n",
    "\n",
    "### żadna fabryka nie będzie produkować więcej niż dwa razy więcej jednostek niż jakakolwiek inna fabryka\n",
    "\n",
    "#### $\n",
    "\\left\\{\n",
    "\\begin{align} \n",
    "{2000x_{1}} & \\leqslant 2\\times1500x_{2} & (1)\\\\\n",
    "{2000x_{1}} & \\leqslant 2\\times1000x_{3} & (2)\\\\\n",
    "{1500x_{2}} & \\leqslant 2\\times2000x_{1} & (3)\\\\\n",
    "{1500x_{2}} & \\leqslant 2\\times1000x_{3} & (4)\\\\\n",
    "{1000x_{3}} & \\leqslant 2\\times2000x_{1} & (5)\\\\\n",
    "{1000x_{3}} & \\leqslant 2\\times1500x_{2} & (6)\\\\\n",
    "\\end{align}\n",
    "\\right. \n",
    "$\n",
    "\n",
    "\n",
    "<span style=\"font-size: 150%;color:#0000ff\"> Krok 5: jaka jest funkcja celu?</span>\n",
    "\n",
    "Zmaksymalizować zyski z produkcji.\n",
    "\n",
    "$\\bbox[5px,border:1px solid red]\n",
    "{\n",
    "\\\\\n",
    "F(x_{i,j})=50x_{1}+80x_{2}+100x_{3}  \\to  max\n",
    "\\qquad \n",
    "} $"
   ]
  },
  {
   "cell_type": "code",
   "execution_count": 2,
   "metadata": {},
   "outputs": [],
   "source": [
    "from pulp import *\n",
    "from fractions import Fraction\n",
    "\n",
    "# zdefiniowanie problemu- to jest taka platforma do wrzucania na nia wszystkiego\n",
    "\n",
    "prob = LpProblem(\"komputery\",LpMaximize)"
   ]
  },
  {
   "cell_type": "code",
   "execution_count": 3,
   "metadata": {},
   "outputs": [],
   "source": [
    "# \"Continuous\"\n",
    "# \"Integer\"\n",
    "\n",
    "x1=LpVariable(\"x1\",lowBound=0,upBound=30, cat=\"Integer\")\n",
    "x2=LpVariable(\"x2\",lowBound=0,upBound=30, cat=\"Integer\")\n",
    "x3=LpVariable(\"x3\",lowBound=0,upBound=30, cat=\"Integer\")"
   ]
  },
  {
   "cell_type": "markdown",
   "metadata": {},
   "source": [
    "### Dodajemy do platformy funkcje celu\n",
    "\n",
    "$\n",
    "F(x_{i,j})=50x_{1}+80x_{2}+100x_{3}  \\to  max\n",
    "$"
   ]
  },
  {
   "cell_type": "code",
   "execution_count": 4,
   "metadata": {},
   "outputs": [],
   "source": [
    "# objective function\n",
    "prob += 50*x1+80*x2+100*x3, \"Maksymalizacja zysków\""
   ]
  },
  {
   "cell_type": "code",
   "execution_count": 5,
   "metadata": {},
   "outputs": [
    {
     "name": "stdout",
     "output_type": "stream",
     "text": [
      "komputery:\n",
      "MAXIMIZE\n",
      "50*x1 + 80*x2 + 100*x3 + 0\n",
      "VARIABLES\n",
      "0 <= x1 <= 30 Integer\n",
      "0 <= x2 <= 30 Integer\n",
      "0 <= x3 <= 30 Integer\n",
      "\n"
     ]
    }
   ],
   "source": [
    "print(prob)"
   ]
  },
  {
   "cell_type": "markdown",
   "metadata": {},
   "source": [
    "#### $\n",
    "\\left\\{\n",
    "\\begin{align} \n",
    "{2000x_{1}+1500x_{2}+1000x_{3}} & = 80000 & (2)\\\\\n",
    "\\end{align}\n",
    "\\right. \n",
    "$\n"
   ]
  },
  {
   "cell_type": "code",
   "execution_count": 6,
   "metadata": {},
   "outputs": [],
   "source": [
    "# main constraints\n",
    "#prob +=   x1 + x2 + x3 <= 30\n",
    "prob += 2000*x1 + 1500*x2 + 1000*x3  <= 80000"
   ]
  },
  {
   "cell_type": "code",
   "execution_count": 7,
   "metadata": {},
   "outputs": [
    {
     "name": "stdout",
     "output_type": "stream",
     "text": [
      "komputery:\n",
      "MAXIMIZE\n",
      "50*x1 + 80*x2 + 100*x3 + 0\n",
      "SUBJECT TO\n",
      "_C1: 2000 x1 + 1500 x2 + 1000 x3 <= 80000\n",
      "\n",
      "VARIABLES\n",
      "0 <= x1 <= 30 Integer\n",
      "0 <= x2 <= 30 Integer\n",
      "0 <= x3 <= 30 Integer\n",
      "\n"
     ]
    }
   ],
   "source": [
    "print(prob)"
   ]
  },
  {
   "cell_type": "markdown",
   "metadata": {},
   "source": [
    "#### $\n",
    "\\left\\{\n",
    "\\begin{align} \n",
    "{2000x_{1}} & \\leqslant 2\\times1500x_{2} & (1)\\\\\n",
    "{2000x_{1}} & \\leqslant 2\\times1000x_{3} & (2)\\\\\n",
    "{1500x_{2}} & \\leqslant 2\\times2000x_{1} & (3)\\\\\n",
    "{1500x_{2}} & \\leqslant 2\\times1000x_{3} & (4)\\\\\n",
    "{1000x_{3}} & \\leqslant 2\\times2000x_{1} & (5)\\\\\n",
    "{1000x_{3}} & \\leqslant 2\\times1500x_{2} & (6)\\\\\n",
    "\\end{align}\n",
    "\\right. \n",
    "$"
   ]
  },
  {
   "cell_type": "code",
   "execution_count": 8,
   "metadata": {},
   "outputs": [],
   "source": [
    "# main constraints\n",
    "prob += 2000*x1 <= 2*1500*x2\n",
    "prob += 2000*x1 <= 2*1000*x3\n",
    "prob += 1500*x2 <= 2*2000*x1\n",
    "prob += 1500*x2 <= 2*1000*x3\n",
    "prob += 1000*x3 <= 2*2000*x1\n",
    "prob += 1000*x3 <= 2*1500*x2"
   ]
  },
  {
   "cell_type": "code",
   "execution_count": 9,
   "metadata": {},
   "outputs": [
    {
     "name": "stdout",
     "output_type": "stream",
     "text": [
      "komputery:\n",
      "MAXIMIZE\n",
      "50*x1 + 80*x2 + 100*x3 + 0\n",
      "SUBJECT TO\n",
      "_C1: 2000 x1 + 1500 x2 + 1000 x3 <= 80000\n",
      "\n",
      "_C2: 2000 x1 - 3000 x2 <= 0\n",
      "\n",
      "_C3: 2000 x1 - 2000 x3 <= 0\n",
      "\n",
      "_C4: - 4000 x1 + 1500 x2 <= 0\n",
      "\n",
      "_C5: 1500 x2 - 2000 x3 <= 0\n",
      "\n",
      "_C6: - 4000 x1 + 1000 x3 <= 0\n",
      "\n",
      "_C7: - 3000 x2 + 1000 x3 <= 0\n",
      "\n",
      "VARIABLES\n",
      "0 <= x1 <= 30 Integer\n",
      "0 <= x2 <= 30 Integer\n",
      "0 <= x3 <= 30 Integer\n",
      "\n"
     ]
    }
   ],
   "source": [
    "print(prob)"
   ]
  },
  {
   "cell_type": "markdown",
   "metadata": {},
   "source": [
    "### Rozwiązanie problemu"
   ]
  },
  {
   "cell_type": "code",
   "execution_count": 10,
   "metadata": {},
   "outputs": [
    {
     "name": "stdout",
     "output_type": "stream",
     "text": [
      "prob.solve 1\n",
      "Status: Optimal\n"
     ]
    }
   ],
   "source": [
    "print(\"prob.solve\",prob.solve())\n",
    "# status of the solution\n",
    "print(f\"Status: {LpStatus[prob.status]}\")"
   ]
  },
  {
   "cell_type": "code",
   "execution_count": 11,
   "metadata": {},
   "outputs": [
    {
     "name": "stdout",
     "output_type": "stream",
     "text": [
      "x1 = 9\n",
      "x2 = 21\n",
      "x3 = 30\n"
     ]
    }
   ],
   "source": [
    "for v in prob.variables():\n",
    "    print(f\"{v.name} = {str(Fraction(v.varValue).limit_denominator())}\")\n"
   ]
  },
  {
   "cell_type": "code",
   "execution_count": 12,
   "metadata": {},
   "outputs": [
    {
     "name": "stdout",
     "output_type": "stream",
     "text": [
      "max (x11+x12+x13+x21+x22+x23+x31+x32+x33+x41+x42+x43) = 5130\n"
     ]
    }
   ],
   "source": [
    "# maximum value of the objective function\n",
    "print(f\"max (x11+x12+x13+x21+x22+x23+x31+x32+x33+x41+x42+x43) = {str(Fraction(value(prob.objective)).limit_denominator())}\")"
   ]
  },
  {
   "cell_type": "markdown",
   "metadata": {},
   "source": [
    "wyliczamy zysk ręcznie"
   ]
  },
  {
   "cell_type": "markdown",
   "metadata": {},
   "source": [
    "$\n",
    "F(x_{i,j})=50x_{1}+80x_{2}+100x_{3}  \\to  max\n",
    "$"
   ]
  },
  {
   "cell_type": "code",
   "execution_count": 25,
   "metadata": {},
   "outputs": [
    {
     "data": {
      "text/plain": [
       "5130"
      ]
     },
     "execution_count": 25,
     "metadata": {},
     "output_type": "execute_result"
    }
   ],
   "source": [
    "x1=9\n",
    "x2=21\n",
    "x3=30\n",
    "\n",
    "50*x1+80*x2+100*x3"
   ]
  },
  {
   "cell_type": "code",
   "execution_count": 14,
   "metadata": {},
   "outputs": [
    {
     "data": {
      "text/plain": [
       "5350"
      ]
     },
     "execution_count": 14,
     "metadata": {},
     "output_type": "execute_result"
    }
   ],
   "source": [
    "x1=23\n",
    "x2=15\n",
    "x3=30\n",
    "\n",
    "50*x1+80*x2+100*x3"
   ]
  },
  {
   "cell_type": "markdown",
   "metadata": {},
   "source": [
    " # W artykule osągneli lepszy rezultat niż ja"
   ]
  }
 ],
 "metadata": {
  "kernelspec": {
   "display_name": "Python 3",
   "language": "python",
   "name": "python3"
  },
  "language_info": {
   "codemirror_mode": {
    "name": "ipython",
    "version": 3
   },
   "file_extension": ".py",
   "mimetype": "text/x-python",
   "name": "python",
   "nbconvert_exporter": "python",
   "pygments_lexer": "ipython3",
   "version": "3.7.4"
  }
 },
 "nbformat": 4,
 "nbformat_minor": 2
}
