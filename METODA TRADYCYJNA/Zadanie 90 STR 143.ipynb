{
 "cells": [
  {
   "cell_type": "markdown",
   "metadata": {},
   "source": [
    "# Zadanie 90 STR 143"
   ]
  },
  {
   "cell_type": "code",
   "execution_count": 109,
   "metadata": {},
   "outputs": [
    {
     "name": "stdout",
     "output_type": "stream",
     "text": [
      "+----------------+---------+---------+---------+--------------+\n",
      "| koparki grupy: | wykop 1 | wykop 2 | wykop 3 | ograniczenia |\n",
      "+----------------+---------+---------+---------+--------------+\n",
      "|   koparki 1    |  0.2 h  |  0.1 h  |  0.4 h  |   <= 240 h   |\n",
      "+----------------+---------+---------+---------+--------------+\n",
      "|   koparki 2    |  0.5 h  |  0.2 h  |  0.3 h  |   <= 120 h   |\n",
      "+----------------+---------+---------+---------+--------------+\n",
      "|   koparki 3    |  0.3 h  |  0.4 h  |  0.3 h  |   <= 180 h   |\n",
      "+----------------+---------+---------+---------+--------------+\n",
      "|   koparki 4    |  0.4 h  |  0.6 h  |  0.2 h  |   <= 180 h   |\n",
      "+----------------+---------+---------+---------+--------------+\n"
     ]
    }
   ],
   "source": [
    "from beautifultable import BeautifulTable\n",
    "\n",
    "table = BeautifulTable()\n",
    "table.column_headers = [\"koparki grupy:\", \"wykop 1\",\"wykop 2\",\"wykop 3\", \"ograniczenia\"]\n",
    "table.append_row([\"koparki 1\", \"0.2 h\",    \"0.1 h\", \"0.4 h\", \"<= 240 h\"])\n",
    "table.append_row([\"koparki 2\", \"0.5 h\",    \"0.2 h\", \"0.3 h\", \"<= 120 h\"])\n",
    "table.append_row([\"koparki 3\", \"0.3 h\",    \"0.4 h\", \"0.3 h\", \"<= 180 h\"])\n",
    "table.append_row([\"koparki 4\", \"0.4 h\",    \"0.6 h\", \"0.2 h\", \"<= 180 h\"])\n",
    "print(table)"
   ]
  },
  {
   "cell_type": "code",
   "execution_count": null,
   "metadata": {},
   "outputs": [],
   "source": []
  },
  {
   "cell_type": "markdown",
   "metadata": {},
   "source": [
    "<span style=\"font-size: 150%;color:#0000ff\">Krok 1: ZMIENNA DECYZYJNA Czym jest x? </span>\n",
    "\n",
    "Ilość metrów   - dlaczego? bo jest to zmienna decyzyjna, nie wiem dlaczego. Ilość metrów jest punktem wyjścia do obliczenia ilości godzin pracy koparek. \n",
    "\n",
    "\n",
    "<span style=\"font-size: 150%;color:#0000ff\"> Krok 2: Co jest w tabeli?</span>\n",
    "\n",
    "zużycie czasu pracy na jeden metr sześcienny\n",
    "\n",
    "<span style=\"font-size: 150%;color:#0000ff\"> Krok 3: ograniczenie zmiennych decyzyjnych</span>\n",
    "\n",
    "zmiennymi decyzyjnymi jest tutaj ilość metrów. \n",
    "\n",
    "#### $\n",
    "\\left\\{\n",
    "\\begin{align} \n",
    "{x_{11}+x_{21}+x_{31}+x_{41}} & >= 0 & (1)\\\\\n",
    "{x_{12}+x_{22}+x_{32}+x_{42}} & >= 0 & (1)\\\\\n",
    "{x_{13}+x_{23}+x_{33}+x_{43}} & >= 0 & (1)\\\\\n",
    "\\end{align}\n",
    "\\right. \n",
    "$\n",
    "\n",
    "<span style=\"font-size: 150%;color:#0000ff\"> Krok 4: ograniczenie pośrednie - nie związane bezpośrednio ze zmiennymi decyzyjnymi jaką jest tutaj ilość metrów, to będzie: ilość czasu pracy na wykopanie metrów</span>\n",
    "\n",
    "#### $\n",
    "\\left\\{\n",
    "\\begin{align} \n",
    "{0.2x_{11}+0.1x_{12}+0.4x_{13}} & \\geqslant 240 & (3)\\\\\n",
    "{0.5x_{21}+0.2x_{22}+0.3x_{23}} & \\geqslant 120 & (4)\\\\\n",
    "{0.3x_{31}+0.4x_{32}+0.3x_{33}} & \\geqslant 180 & (4)\\\\\n",
    "{0.4x_{41}+0.6x_{42}+0.2x_{43}} & \\geqslant 180 & (4)\\\\\n",
    "\\end{align}\n",
    "\\right. \n",
    "$\n",
    "\n",
    "\n",
    "<span style=\"font-size: 150%;color:#0000ff\"> Krok 5: jaka jest funkcja celu?</span>\n",
    "\n",
    "Zmaksymalizować dobową ilość metrów. Jest jedna zmienna decyzyjna x to ilość godzin.\n",
    "\n",
    "$\\bbox[5px,border:1px solid red]\n",
    "{\n",
    "\\\\\n",
    "F(x_{i,j})=({x_{11}+x_{12}+x_{13}})+({x_{21}+x_{22}+x_{23}})+({x_{31}+x_{32}+x_{33}})+({x_{41}+x_{42}+x_{43}})  \\to  min \n",
    "\\qquad \n",
    "} $"
   ]
  },
  {
   "cell_type": "code",
   "execution_count": 110,
   "metadata": {},
   "outputs": [],
   "source": [
    "from pulp import *\n",
    "from fractions import Fraction\n",
    "\n",
    "# zdefiniowanie problemu- to jest taka platforma do wrzucania na nia wszystkiego\n",
    "\n",
    "prob = LpProblem(\"Zadanie_90_STR_142\",LpMaximize)"
   ]
  },
  {
   "cell_type": "markdown",
   "metadata": {},
   "source": [
    "Wstawianie pierwszych warunków ograniczających: ograniczeniami nieujemności\n",
    "\n",
    "#### $\n",
    "\\left\\{\n",
    "\\begin{align} \n",
    "{x_{11}} & \\geqslant 0 & (4)\\\\\n",
    "{x_{12}} & \\geqslant 0 & (5)\\\\\n",
    "{x_{13}} & \\geqslant 0 & (5)\\\\\n",
    "{x_{14}} & \\geqslant 0 & (5)\\\\\n",
    "{x_{15}} & \\geqslant 0 & (5)\\\\\n",
    "{x_{21}} & \\geqslant 0 & (5)\\\\\n",
    "{x_{22}} & \\geqslant 0 & (5)\\\\\n",
    "{x_{23}} & \\geqslant 0 & (5)\\\\\n",
    "{x_{24}} & \\geqslant 0 & (5)\\\\\n",
    "{x_{25}} & \\geqslant 0 & (5)\\\\\n",
    "{x_{31}} & \\geqslant 0 & (5)\\\\\n",
    "{x_{32}} & \\geqslant 0 & (5)\\\\\n",
    "{x_{33}} & \\geqslant 0 & (5)\\\\\n",
    "{x_{34}} & \\geqslant 0 & (5)\\\\\n",
    "{x_{35}} & \\geqslant 0 & (5)\\\\\n",
    "\\end{align}\n",
    "\\right. \n",
    "$"
   ]
  },
  {
   "cell_type": "code",
   "execution_count": 111,
   "metadata": {},
   "outputs": [],
   "source": [
    "# \"Continuous\"\n",
    "# \"Integer\"\n",
    "\n",
    "x11=LpVariable(\"x11\",lowBound=0,upBound=None, cat=\"Integer\")\n",
    "x12=LpVariable(\"x12\",lowBound=0,upBound=None, cat=\"Integer\")\n",
    "x13=LpVariable(\"x13\",lowBound=0,upBound=None, cat=\"Integer\")\n",
    "x14=LpVariable(\"x14\",lowBound=0,upBound=None, cat=\"Integer\")\n",
    "x15=LpVariable(\"x15\",lowBound=0,upBound=None, cat=\"Integer\")\n",
    "x21=LpVariable(\"x21\",lowBound=0,upBound=None, cat=\"Integer\")\n",
    "x22=LpVariable(\"x22\",lowBound=0,upBound=None, cat=\"Integer\")\n",
    "x23=LpVariable(\"x23\",lowBound=0,upBound=None, cat=\"Integer\")\n",
    "x24=LpVariable(\"x24\",lowBound=0,upBound=None, cat=\"Integer\")\n",
    "x25=LpVariable(\"x25\",lowBound=0,upBound=None, cat=\"Integer\")\n",
    "x31=LpVariable(\"x31\",lowBound=0,upBound=None, cat=\"Integer\")\n",
    "x32=LpVariable(\"x32\",lowBound=0,upBound=None, cat=\"Integer\")\n",
    "x33=LpVariable(\"x33\",lowBound=0,upBound=None, cat=\"Integer\")\n",
    "x34=LpVariable(\"x34\",lowBound=0,upBound=None, cat=\"Integer\")\n",
    "x35=LpVariable(\"x35\",lowBound=0,upBound=None, cat=\"Integer\")    \n",
    "x41=LpVariable(\"x41\",lowBound=0,upBound=None, cat=\"Integer\")  \n",
    "x42=LpVariable(\"x42\",lowBound=0,upBound=None, cat=\"Integer\")  \n",
    "x43=LpVariable(\"x43\",lowBound=0,upBound=None, cat=\"Integer\")  \n",
    "x44=LpVariable(\"x44\",lowBound=0,upBound=None, cat=\"Integer\")  \n",
    "x45=LpVariable(\"x45\",lowBound=0,upBound=None, cat=\"Integer\")  "
   ]
  },
  {
   "cell_type": "markdown",
   "metadata": {},
   "source": [
    "### Dodajemy do platformy funkcje celu\n",
    "\n",
    "$\\bbox[5px,border:1px solid red]\n",
    "{\n",
    "\\\\\n",
    "F(x_{i,j})=({x_{11}+x_{12}+x_{13}})+({x_{21}+x_{22}+x_{23}})+({x_{31}+x_{32}+x_{33}})+({x_{41}+x_{42}+x_{43}})  \\to  max \n",
    "\\qquad \n",
    "} $"
   ]
  },
  {
   "cell_type": "code",
   "execution_count": 112,
   "metadata": {},
   "outputs": [],
   "source": [
    "# objective function\n",
    "prob += x11+x12+x13+x21+x22+x23+x31+x32+x33+x41+x42+x43, \"Maximum value of x1 + x2\""
   ]
  },
  {
   "cell_type": "code",
   "execution_count": 113,
   "metadata": {},
   "outputs": [
    {
     "name": "stdout",
     "output_type": "stream",
     "text": [
      "Zadanie_90_STR_142:\n",
      "MAXIMIZE\n",
      "1*x11 + 1*x12 + 1*x13 + 1*x21 + 1*x22 + 1*x23 + 1*x31 + 1*x32 + 1*x33 + 1*x41 + 1*x42 + 1*x43 + 0\n",
      "VARIABLES\n",
      "0 <= x11 Integer\n",
      "0 <= x12 Integer\n",
      "0 <= x13 Integer\n",
      "0 <= x21 Integer\n",
      "0 <= x22 Integer\n",
      "0 <= x23 Integer\n",
      "0 <= x31 Integer\n",
      "0 <= x32 Integer\n",
      "0 <= x33 Integer\n",
      "0 <= x41 Integer\n",
      "0 <= x42 Integer\n",
      "0 <= x43 Integer\n",
      "\n"
     ]
    }
   ],
   "source": [
    "print(prob)"
   ]
  },
  {
   "cell_type": "markdown",
   "metadata": {},
   "source": [
    "### Dodajemy do platformy główne warunki brzegowe\n",
    "\n",
    "#### $\n",
    "\\left\\{\n",
    "\\begin{align} \n",
    "{x_{11}+x_{21}+x_{31}+x_{41}} & >= 0 & (1)\\\\\n",
    "{x_{12}+x_{22}+x_{32}+x_{42}} & >= 0 & (1)\\\\\n",
    "{x_{13}+x_{23}+x_{33}+x_{43}} & >= 0 & (1)\\\\\n",
    "\\end{align}\n",
    "\\right. \n",
    "$"
   ]
  },
  {
   "cell_type": "code",
   "execution_count": 114,
   "metadata": {},
   "outputs": [],
   "source": [
    "# main constraints\n",
    "prob += x11 + x21 + x31+ x41  >= 0\n",
    "prob += x12 + x22 + x32+ x42  >= 0\n",
    "prob += x13 + x23 + x33+ x43  >= 0\n"
   ]
  },
  {
   "cell_type": "code",
   "execution_count": 115,
   "metadata": {},
   "outputs": [
    {
     "name": "stdout",
     "output_type": "stream",
     "text": [
      "Zadanie_90_STR_142:\n",
      "MAXIMIZE\n",
      "1*x11 + 1*x12 + 1*x13 + 1*x21 + 1*x22 + 1*x23 + 1*x31 + 1*x32 + 1*x33 + 1*x41 + 1*x42 + 1*x43 + 0\n",
      "SUBJECT TO\n",
      "_C1: x11 + x21 + x31 + x41 >= 0\n",
      "\n",
      "_C2: x12 + x22 + x32 + x42 >= 0\n",
      "\n",
      "_C3: x13 + x23 + x33 + x43 >= 0\n",
      "\n",
      "VARIABLES\n",
      "0 <= x11 Integer\n",
      "0 <= x12 Integer\n",
      "0 <= x13 Integer\n",
      "0 <= x21 Integer\n",
      "0 <= x22 Integer\n",
      "0 <= x23 Integer\n",
      "0 <= x31 Integer\n",
      "0 <= x32 Integer\n",
      "0 <= x33 Integer\n",
      "0 <= x41 Integer\n",
      "0 <= x42 Integer\n",
      "0 <= x43 Integer\n",
      "\n"
     ]
    }
   ],
   "source": [
    "print(prob)"
   ]
  },
  {
   "cell_type": "markdown",
   "metadata": {},
   "source": [
    "#### $\n",
    "\\left\\{\n",
    "\\begin{align} \n",
    "{0.2x_{11}+0.1x_{12}+0.4x_{13}} & \\geqslant 240 & (3)\\\\\n",
    "{0.5x_{21}+0.2x_{22}+0.3x_{23}} & \\geqslant 120 & (4)\\\\\n",
    "{0.3x_{31}+0.4x_{32}+0.3x_{33}} & \\geqslant 180 & (4)\\\\\n",
    "{0.4x_{41}+0.6x_{42}+0.2x_{43}} & \\geqslant 180 & (4)\\\\\n",
    "\\end{align}\n",
    "\\right. \n",
    "$"
   ]
  },
  {
   "cell_type": "code",
   "execution_count": 116,
   "metadata": {},
   "outputs": [],
   "source": [
    "# main constraints\n",
    "prob += 0.2*x11 + 0.1*x12 + 0.4*x13 <= 240\n",
    "prob += 0.5*x21 + 0.2*x22 + 0.3*x23 <= 120\n",
    "prob += 0.3*x31 + 0.4*x32 + 0.3*x33 <= 180\n",
    "prob += 0.4*x41 + 0.6*x42 + 0.2*x43 <= 180"
   ]
  },
  {
   "cell_type": "code",
   "execution_count": 117,
   "metadata": {},
   "outputs": [
    {
     "name": "stdout",
     "output_type": "stream",
     "text": [
      "Zadanie_90_STR_142:\n",
      "MAXIMIZE\n",
      "1*x11 + 1*x12 + 1*x13 + 1*x21 + 1*x22 + 1*x23 + 1*x31 + 1*x32 + 1*x33 + 1*x41 + 1*x42 + 1*x43 + 0\n",
      "SUBJECT TO\n",
      "_C1: x11 + x21 + x31 + x41 >= 0\n",
      "\n",
      "_C2: x12 + x22 + x32 + x42 >= 0\n",
      "\n",
      "_C3: x13 + x23 + x33 + x43 >= 0\n",
      "\n",
      "_C4: 0.2 x11 + 0.1 x12 + 0.4 x13 <= 240\n",
      "\n",
      "_C5: 0.5 x21 + 0.2 x22 + 0.3 x23 <= 120\n",
      "\n",
      "_C6: 0.3 x31 + 0.4 x32 + 0.3 x33 <= 180\n",
      "\n",
      "_C7: 0.4 x41 + 0.6 x42 + 0.2 x43 <= 180\n",
      "\n",
      "VARIABLES\n",
      "0 <= x11 Integer\n",
      "0 <= x12 Integer\n",
      "0 <= x13 Integer\n",
      "0 <= x21 Integer\n",
      "0 <= x22 Integer\n",
      "0 <= x23 Integer\n",
      "0 <= x31 Integer\n",
      "0 <= x32 Integer\n",
      "0 <= x33 Integer\n",
      "0 <= x41 Integer\n",
      "0 <= x42 Integer\n",
      "0 <= x43 Integer\n",
      "\n"
     ]
    }
   ],
   "source": [
    "print(prob)"
   ]
  },
  {
   "cell_type": "markdown",
   "metadata": {},
   "source": [
    "### Rozwiązanie problemu"
   ]
  },
  {
   "cell_type": "code",
   "execution_count": 118,
   "metadata": {},
   "outputs": [
    {
     "name": "stdout",
     "output_type": "stream",
     "text": [
      "prob.solve 1\n",
      "Status: Optimal\n"
     ]
    }
   ],
   "source": [
    "print(\"prob.solve\",prob.solve())\n",
    "# status of the solution\n",
    "print(f\"Status: {LpStatus[prob.status]}\")"
   ]
  },
  {
   "cell_type": "code",
   "execution_count": 119,
   "metadata": {},
   "outputs": [
    {
     "name": "stdout",
     "output_type": "stream",
     "text": [
      "x11 = 0\n",
      "x12 = 2400\n",
      "x13 = 0\n",
      "x21 = 0\n",
      "x22 = 600\n",
      "x23 = 0\n",
      "x31 = 600\n",
      "x32 = 0\n",
      "x33 = 0\n",
      "x41 = 0\n",
      "x42 = 0\n",
      "x43 = 900\n"
     ]
    }
   ],
   "source": [
    "for v in prob.variables():\n",
    "    print(f\"{v.name} = {str(Fraction(v.varValue).limit_denominator())}\")\n"
   ]
  },
  {
   "cell_type": "code",
   "execution_count": 120,
   "metadata": {},
   "outputs": [
    {
     "name": "stdout",
     "output_type": "stream",
     "text": [
      "max (x11+x12+x13+x21+x22+x23+x31+x32+x33+x41+x42+x43) = 4500\n"
     ]
    }
   ],
   "source": [
    "# maximum value of the objective function\n",
    "print(f\"max (x11+x12+x13+x21+x22+x23+x31+x32+x33+x41+x42+x43) = {str(Fraction(value(prob.objective)).limit_denominator())}\")"
   ]
  },
  {
   "cell_type": "code",
   "execution_count": null,
   "metadata": {},
   "outputs": [],
   "source": []
  }
 ],
 "metadata": {
  "kernelspec": {
   "display_name": "Python 3",
   "language": "python",
   "name": "python3"
  },
  "language_info": {
   "codemirror_mode": {
    "name": "ipython",
    "version": 3
   },
   "file_extension": ".py",
   "mimetype": "text/x-python",
   "name": "python",
   "nbconvert_exporter": "python",
   "pygments_lexer": "ipython3",
   "version": "3.7.4"
  }
 },
 "nbformat": 4,
 "nbformat_minor": 2
}
