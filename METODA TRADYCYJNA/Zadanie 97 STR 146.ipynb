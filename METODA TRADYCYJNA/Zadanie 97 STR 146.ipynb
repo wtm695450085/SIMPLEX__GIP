{
 "cells": [
  {
   "cell_type": "markdown",
   "metadata": {},
   "source": [
    "<span style=\"font-size: 150%;color:white;background:#1155cc\"> Zadanie 97 STR 146"
   ]
  },
  {
   "cell_type": "code",
   "execution_count": 3,
   "metadata": {},
   "outputs": [
    {
     "name": "stdout",
     "output_type": "stream",
     "text": [
      "+--------------+---------+---------+---------+-------------+\n",
      "|   maszyny:   | detal_1 | detal_2 | detal_3 | brak roboty |\n",
      "+--------------+---------+---------+---------+-------------+\n",
      "| Obrabiarka 1 |   24    |   12    |   18    |      0      |\n",
      "+--------------+---------+---------+---------+-------------+\n",
      "| Obrabiarka 2 |   18    |   20    |   16    |      0      |\n",
      "+--------------+---------+---------+---------+-------------+\n",
      "| Obrabiarka 3 |   10    |    8    |   12    |      0      |\n",
      "+--------------+---------+---------+---------+-------------+\n",
      "| Obrabiarka 4 |   16    |   14    |    6    |      0      |\n",
      "+--------------+---------+---------+---------+-------------+\n"
     ]
    }
   ],
   "source": [
    "from beautifultable import BeautifulTable\n",
    "\n",
    "table = BeautifulTable()\n",
    "table.column_headers = [\"maszyny:\", \"detal_1\",\"detal_2\",\"detal_3\",\"brak roboty\"]\n",
    "table.append_row([\"Obrabiarka 1\", 24,  12, 18, 0])\n",
    "table.append_row([\"Obrabiarka 2\", 18,  20, 16, 0])\n",
    "table.append_row([\"Obrabiarka 3\", 10,   8, 12, 0])\n",
    "table.append_row([\"Obrabiarka 4\", 16,  14,  6, 0])\n",
    "print(table)"
   ]
  },
  {
   "cell_type": "markdown",
   "metadata": {
    "scrolled": false
   },
   "source": [
    "\n",
    "<span style=\"font-size: 150%;color:#0000ff\">Krok 1: ZMIENNA DECYZYJNA Czym jest x? </span>\n",
    "\n",
    "zero-jeden   - dlaczego? bo jest to zmienna decyzyjna, to jest przydział. jeden - maszyna wykonuje detal, \n",
    "zero maszyna nie wykonuje detalu. \n",
    "\n",
    "<span style=\"font-size: 130%;color:#0000ff\"> Krok 2: Co jest w tabeli?</span>\n",
    "\n",
    "ilość godzin niezbędnych do produkcji detalu\n",
    "\n",
    "<span style=\"font-size: 130%;color:#0000ff\"> Krok 3: ograniczenie zmiennych decyzyjnych</span>\n",
    "\n",
    "\n",
    "zmiennymi decyzyjnymi jest tutaj przydział, liczba 1 lub 0. Każda obrabiarka może być produkować tylko jeden detal.\n",
    "\n",
    "#### $\n",
    "\\left\\{\n",
    "\\begin{align} \n",
    "{x_{11}+x_{12}+x_{13}+x_{14}} & = 1 & (Obrabiarka-1)\\\\\n",
    "{x_{21}+x_{22}+x_{23}+x_{24}} & = 1 & (Obrabiarka-2)\\\\\n",
    "{x_{31}+x_{32}+x_{33}+x_{34}} & = 1 & (Obrabiarka-3)\\\\\n",
    "{x_{41}+x_{42}+x_{43}+x_{44}} & = 1 & (Obrabiarka-4)\\\\\n",
    "\\end{align}\n",
    "\\right. \n",
    "$\n",
    "\n",
    "<span style=\"font-size: 130%;color:#0000ff\"> Krok 4: ograniczenie pośrednie - każdy detal może być produkowany  tylko raz </span>\n",
    "#### $\n",
    "\\left\\{\n",
    "\\begin{align} \n",
    "{x_{11}+x_{21}+x_{31}+x_{41}} & = 1 & (detal-1)\\\\\n",
    "{x_{12}+x_{22}+x_{32}+x_{42}} & = 1 & (detal-2)\\\\\n",
    "{x_{13}+x_{23}+x_{33}+x_{43}} & = 1 & (detal-3)\\\\\n",
    "{x_{14}+x_{24}+x_{34}+x_{44}} & = 1 & (detal-4)\\\\\n",
    "\\end{align}\n",
    "\\right. \n",
    "$\n",
    "\n",
    "\n",
    "<span style=\"font-size: 130%;color:#0000ff\"> Krok 5: jaka jest funkcja celu?</span>\n",
    "\n",
    "Zmaksymalizować efektywność pracy.\n",
    "\n",
    "$\\bbox[5px,border:1px solid red]\n",
    "{\n",
    "\\\\\n",
    "F(x_{i,j})\\\\\n",
    "=24x_{11}+12x_{12}+18x_{13}+0x_{14}\\\\\n",
    "+18x_{21}+20x_{23}+16x_{24}+0x_{24}\\\\\n",
    "+10x_{31}+ 8x_{32}+12x_{33}+0x_{34}\\\\\n",
    "+16x_{41}+14x_{42}+ 6x_{43}+0x_{44}\\\\\n",
    "\\to  min\n",
    "\\qquad \n",
    "} $"
   ]
  },
  {
   "cell_type": "markdown",
   "metadata": {},
   "source": [
    "<span style=\"font-size: 150%;color:white;background:#bf9000\">METODA ZWYKŁA rozwiązania tego zadania"
   ]
  },
  {
   "cell_type": "code",
   "execution_count": 4,
   "metadata": {},
   "outputs": [],
   "source": [
    "from pulp import *\n",
    "from fractions import Fraction\n",
    "\n",
    "# zdefiniowanie problemu- to jest taka platforma do wrzucania na nia wszystkiego\n",
    "\n",
    "prob = LpProblem(\"Przykład_97_STR_146\",LpMinimize)"
   ]
  },
  {
   "cell_type": "markdown",
   "metadata": {},
   "source": [
    "Wstawianie pierwszych warunków ograniczających: ograniczeniami nieujemności\n",
    "\n",
    "#### $\n",
    "\\left\\{\n",
    "\\begin{align} \n",
    "{x_{11}} & \\geqslant 0 & (4)\\\\\n",
    "{x_{12}} & \\geqslant 0 & (5)\\\\\n",
    "{x_{13}} & \\geqslant 0 & (5)\\\\\n",
    "{x_{14}} & \\geqslant 0 & (5)\\\\\n",
    "{x_{15}} & \\geqslant 0 & (5)\\\\\n",
    "{x_{16}} & \\geqslant 0 & (5)\\\\\n",
    "{x_{21}} & \\geqslant 0 & (5)\\\\\n",
    "{x_{22}} & \\geqslant 0 & (5)\\\\\n",
    "{x_{23}} & \\geqslant 0 & (5)\\\\\n",
    "{x_{24}} & \\geqslant 0 & (5)\\\\\n",
    "{x_{25}} & \\geqslant 0 & (5)\\\\\n",
    "{x_{26}} & \\geqslant 0 & (5)\\\\\n",
    "{x_{31}} & \\geqslant 0 & (5)\\\\\n",
    "{x_{32}} & \\geqslant 0 & (5)\\\\\n",
    "{x_{33}} & \\geqslant 0 & (5)\\\\\n",
    "{x_{34}} & \\geqslant 0 & (5)\\\\\n",
    "{x_{35}} & \\geqslant 0 & (5)\\\\\n",
    "{x_{36}} & \\geqslant 0 & (5)\\\\\n",
    "{x_{41}} & \\geqslant 0 & (5)\\\\\n",
    "{x_{42}} & \\geqslant 0 & (5)\\\\\n",
    "{x_{43}} & \\geqslant 0 & (5)\\\\\n",
    "{x_{44}} & \\geqslant 0 & (5)\\\\\n",
    "{x_{45}} & \\geqslant 0 & (5)\\\\\n",
    "{x_{46}} & \\geqslant 0 & (5)\\\\\n",
    "{x_{51}} & \\geqslant 0 & (5)\\\\\n",
    "{x_{52}} & \\geqslant 0 & (5)\\\\\n",
    "{x_{53}} & \\geqslant 0 & (5)\\\\\n",
    "{x_{54}} & \\geqslant 0 & (5)\\\\\n",
    "{x_{55}} & \\geqslant 0 & (5)\\\\\n",
    "{x_{56}} & \\geqslant 0 & (5)\\\\\n",
    "{x_{61}} & \\geqslant 0 & (5)\\\\\n",
    "{x_{62}} & \\geqslant 0 & (5)\\\\\n",
    "{x_{63}} & \\geqslant 0 & (5)\\\\\n",
    "{x_{64}} & \\geqslant 0 & (5)\\\\\n",
    "{x_{65}} & \\geqslant 0 & (5)\\\\\n",
    "{x_{66}} & \\geqslant 0 & (5)\\\\\n",
    "\\end{align}\n",
    "\\right. \n",
    "$"
   ]
  },
  {
   "cell_type": "markdown",
   "metadata": {},
   "source": [
    "<span style=\"font-size: 150%;color:white;background:#bf9000\">METODA ZWYKŁA rozwiązania tego zadania"
   ]
  },
  {
   "cell_type": "code",
   "execution_count": 5,
   "metadata": {},
   "outputs": [],
   "source": [
    "# \"Continuous\"\n",
    "# \"Integer\"\n",
    "\n",
    "x11=LpVariable(\"x11\",lowBound=0,upBound=None, cat=\"Integer\")\n",
    "x12=LpVariable(\"x12\",lowBound=0,upBound=None, cat=\"Integer\")\n",
    "x13=LpVariable(\"x13\",lowBound=0,upBound=None, cat=\"Integer\")\n",
    "x14=LpVariable(\"x14\",lowBound=0,upBound=None, cat=\"Integer\")\n",
    "x15=LpVariable(\"x15\",lowBound=0,upBound=None, cat=\"Integer\")\n",
    "x16=LpVariable(\"x16\",lowBound=0,upBound=None, cat=\"Integer\")\n",
    "\n",
    "x21=LpVariable(\"x21\",lowBound=0,upBound=None, cat=\"Integer\")\n",
    "x22=LpVariable(\"x22\",lowBound=0,upBound=None, cat=\"Integer\")\n",
    "x23=LpVariable(\"x23\",lowBound=0,upBound=None, cat=\"Integer\")\n",
    "x24=LpVariable(\"x24\",lowBound=0,upBound=None, cat=\"Integer\")\n",
    "x25=LpVariable(\"x25\",lowBound=0,upBound=None, cat=\"Integer\")\n",
    "x26=LpVariable(\"x26\",lowBound=0,upBound=None, cat=\"Integer\")\n",
    "\n",
    "x31=LpVariable(\"x31\",lowBound=0,upBound=None, cat=\"Integer\")\n",
    "x32=LpVariable(\"x32\",lowBound=0,upBound=None, cat=\"Integer\")\n",
    "x33=LpVariable(\"x33\",lowBound=0,upBound=None, cat=\"Integer\")\n",
    "x34=LpVariable(\"x34\",lowBound=0,upBound=None, cat=\"Integer\") \n",
    "x35=LpVariable(\"x35\",lowBound=0,upBound=None, cat=\"Integer\")\n",
    "x36=LpVariable(\"x36\",lowBound=0,upBound=None, cat=\"Integer\") \n",
    "\n",
    "x41=LpVariable(\"x41\",lowBound=0,upBound=None, cat=\"Integer\")  \n",
    "x42=LpVariable(\"x42\",lowBound=0,upBound=None, cat=\"Integer\")  \n",
    "x43=LpVariable(\"x43\",lowBound=0,upBound=None, cat=\"Integer\")  \n",
    "x44=LpVariable(\"x44\",lowBound=0,upBound=None, cat=\"Integer\")  \n",
    "x45=LpVariable(\"x45\",lowBound=0,upBound=None, cat=\"Integer\")  \n",
    "x46=LpVariable(\"x46\",lowBound=0,upBound=None, cat=\"Integer\")  \n",
    "\n",
    "x51=LpVariable(\"x51\",lowBound=0,upBound=None, cat=\"Integer\")  \n",
    "x52=LpVariable(\"x52\",lowBound=0,upBound=None, cat=\"Integer\")  \n",
    "x53=LpVariable(\"x53\",lowBound=0,upBound=None, cat=\"Integer\")  \n",
    "x54=LpVariable(\"x54\",lowBound=0,upBound=None, cat=\"Integer\")  \n",
    "x55=LpVariable(\"x55\",lowBound=0,upBound=None, cat=\"Integer\")  \n",
    "x56=LpVariable(\"x56\",lowBound=0,upBound=None, cat=\"Integer\") \n",
    "\n",
    "x61=LpVariable(\"x61\",lowBound=0,upBound=None, cat=\"Integer\")  \n",
    "x62=LpVariable(\"x62\",lowBound=0,upBound=None, cat=\"Integer\")  \n",
    "x63=LpVariable(\"x63\",lowBound=0,upBound=None, cat=\"Integer\")  \n",
    "x64=LpVariable(\"x64\",lowBound=0,upBound=None, cat=\"Integer\")  \n",
    "x65=LpVariable(\"x65\",lowBound=0,upBound=None, cat=\"Integer\")  \n",
    "x66=LpVariable(\"x66\",lowBound=0,upBound=None, cat=\"Integer\") "
   ]
  },
  {
   "cell_type": "markdown",
   "metadata": {},
   "source": [
    "### Dodajemy do platformy funkcje celu\n",
    "\n",
    "Zmaksymalizować efektywność pracy.\n",
    "\n",
    "$\n",
    "F(x_{i,j})\\\\\n",
    "=24x_{11}+12x_{12}+18x_{13}+0x_{14}\\\\\n",
    "+18x_{21}+20x_{23}+16x_{24}+0x_{24}\\\\\n",
    "+10x_{31}+ 8x_{32}+12x_{33}+0x_{34}\\\\\n",
    "+16x_{41}+14x_{42}+ 6x_{43}+0x_{44}\\\\\n",
    "\\to  min\n",
    "$"
   ]
  },
  {
   "cell_type": "code",
   "execution_count": 7,
   "metadata": {},
   "outputs": [],
   "source": [
    "# objective function\n",
    "prob +=24*x11+12*x12+18*x13+0*x14+18*x21+20*x22+16*x23+0*x24+10*x31+ 8*x32+12*x33+0*x34+16*x41+14*x42+ 6*x43+0*x44, \"maksymalizacja wydajności produkcji \""
   ]
  },
  {
   "cell_type": "code",
   "execution_count": 8,
   "metadata": {},
   "outputs": [
    {
     "name": "stdout",
     "output_type": "stream",
     "text": [
      "Przykład_97_STR_146:\n",
      "MINIMIZE\n",
      "24*x11 + 12*x12 + 18*x13 + 18*x21 + 20*x22 + 16*x23 + 10*x31 + 8*x32 + 12*x33 + 16*x41 + 14*x42 + 6*x43 + 0\n",
      "VARIABLES\n",
      "0 <= x11 Integer\n",
      "0 <= x12 Integer\n",
      "0 <= x13 Integer\n",
      "0 <= x21 Integer\n",
      "0 <= x22 Integer\n",
      "0 <= x23 Integer\n",
      "0 <= x31 Integer\n",
      "0 <= x32 Integer\n",
      "0 <= x33 Integer\n",
      "0 <= x41 Integer\n",
      "0 <= x42 Integer\n",
      "0 <= x43 Integer\n",
      "\n"
     ]
    }
   ],
   "source": [
    "print(prob)"
   ]
  },
  {
   "cell_type": "markdown",
   "metadata": {},
   "source": [
    "zmiennymi decyzyjnymi jest tutaj przydział, liczba 1 lub 0. Każda obrabiarka może być produkować tylko jeden detal.\n",
    "\n",
    "#### $\n",
    "\\left\\{\n",
    "\\begin{align} \n",
    "{x_{11}+x_{12}+x_{13}+x_{14}} & = 1 & (Obrabiarka-1)\\\\\n",
    "{x_{21}+x_{22}+x_{23}+x_{24}} & = 1 & (Obrabiarka-2)\\\\\n",
    "{x_{31}+x_{32}+x_{33}+x_{34}} & = 1 & (Obrabiarka-3)\\\\\n",
    "{x_{41}+x_{42}+x_{43}+x_{44}} & = 1 & (Obrabiarka-4)\\\\\n",
    "\\end{align}\n",
    "\\right. \n",
    "$\n",
    "\n",
    "<span style=\"font-size: 130%;color:#0000ff\"> Krok 4: ograniczenie pośrednie - każdy detal może być produkowany  tylko raz </span>\n",
    "#### $\n",
    "\\left\\{\n",
    "\\begin{align} \n",
    "{x_{11}+x_{21}+x_{31}+x_{41}} & = 1 & (detal-1)\\\\\n",
    "{x_{12}+x_{22}+x_{32}+x_{42}} & = 1 & (detal-2)\\\\\n",
    "{x_{13}+x_{23}+x_{33}+x_{43}} & = 1 & (detal-3)\\\\\n",
    "{x_{14}+x_{24}+x_{34}+x_{44}} & = 1 & (detal-4)\\\\\n",
    "\\end{align}\n",
    "\\right. \n",
    "$"
   ]
  },
  {
   "cell_type": "code",
   "execution_count": 9,
   "metadata": {},
   "outputs": [],
   "source": [
    "# OGRANICZENIA OBRABIAREK\n",
    "prob += x11 + x21 + x31+ x41  == 1\n",
    "prob += x12 + x22 + x32+ x42  == 1\n",
    "prob += x13 + x23 + x33+ x43  == 1\n",
    "prob += x14 + x24 + x34+ x44  == 1"
   ]
  },
  {
   "cell_type": "code",
   "execution_count": 10,
   "metadata": {},
   "outputs": [],
   "source": [
    "# OGRANICZENIA DLA DETALI\n",
    "prob += x11 + x12 + x13 + x14 == 1  # PRODUKT A\n",
    "prob += x21 + x22 + x23 + x24 == 1  # PRODUKT B\n",
    "prob += x31 + x32 + x33 + x34 == 1  # PRODUKT C\n",
    "prob += x41 + x42 + x43 + x44 == 1  # PRODUKT D"
   ]
  },
  {
   "cell_type": "code",
   "execution_count": 11,
   "metadata": {},
   "outputs": [
    {
     "name": "stdout",
     "output_type": "stream",
     "text": [
      "Przykład_97_STR_146:\n",
      "MINIMIZE\n",
      "24*x11 + 12*x12 + 18*x13 + 18*x21 + 20*x22 + 16*x23 + 10*x31 + 8*x32 + 12*x33 + 16*x41 + 14*x42 + 6*x43 + 0\n",
      "SUBJECT TO\n",
      "_C1: x11 + x21 + x31 + x41 = 1\n",
      "\n",
      "_C2: x12 + x22 + x32 + x42 = 1\n",
      "\n",
      "_C3: x13 + x23 + x33 + x43 = 1\n",
      "\n",
      "_C4: x14 + x24 + x34 + x44 = 1\n",
      "\n",
      "_C5: x11 + x12 + x13 + x14 = 1\n",
      "\n",
      "_C6: x21 + x22 + x23 + x24 = 1\n",
      "\n",
      "_C7: x31 + x32 + x33 + x34 = 1\n",
      "\n",
      "_C8: x41 + x42 + x43 + x44 = 1\n",
      "\n",
      "VARIABLES\n",
      "0 <= x11 Integer\n",
      "0 <= x12 Integer\n",
      "0 <= x13 Integer\n",
      "0 <= x14 Integer\n",
      "0 <= x21 Integer\n",
      "0 <= x22 Integer\n",
      "0 <= x23 Integer\n",
      "0 <= x24 Integer\n",
      "0 <= x31 Integer\n",
      "0 <= x32 Integer\n",
      "0 <= x33 Integer\n",
      "0 <= x34 Integer\n",
      "0 <= x41 Integer\n",
      "0 <= x42 Integer\n",
      "0 <= x43 Integer\n",
      "0 <= x44 Integer\n",
      "\n"
     ]
    }
   ],
   "source": [
    "print(prob)"
   ]
  },
  {
   "cell_type": "code",
   "execution_count": 123,
   "metadata": {},
   "outputs": [
    {
     "name": "stdout",
     "output_type": "stream",
     "text": [
      "Przykład_96_STR_146:\n",
      "MAXIMIZE\n",
      "20*x11 + 20*x12 + 14*x13 + 28*x14 + 16*x21 + 26*x22 + 17*x23 + 34*x24 + 14*x31 + 20*x32 + 25*x33 + 40*x34 + 12*x41 + 14*x42 + 15*x43 + 30*x44 + 0\n",
      "SUBJECT TO\n",
      "_C1: x11 + x21 + x31 + x41 = 1\n",
      "\n",
      "_C2: x12 + x22 + x32 + x42 = 1\n",
      "\n",
      "_C3: x13 + x23 + x33 + x43 = 1\n",
      "\n",
      "_C4: x14 + x24 + x34 + x44 = 1\n",
      "\n",
      "_C5: x11 + x12 + x13 + x14 = 1\n",
      "\n",
      "_C6: x21 + x22 + x23 + x24 = 1\n",
      "\n",
      "_C7: x31 + x32 + x33 + x34 = 1\n",
      "\n",
      "_C8: x41 + x42 + x43 + x44 = 1\n",
      "\n",
      "VARIABLES\n",
      "0 <= x11 Integer\n",
      "0 <= x12 Integer\n",
      "0 <= x13 Integer\n",
      "0 <= x14 Integer\n",
      "0 <= x21 Integer\n",
      "0 <= x22 Integer\n",
      "0 <= x23 Integer\n",
      "0 <= x24 Integer\n",
      "0 <= x31 Integer\n",
      "0 <= x32 Integer\n",
      "0 <= x33 Integer\n",
      "0 <= x34 Integer\n",
      "0 <= x41 Integer\n",
      "0 <= x42 Integer\n",
      "0 <= x43 Integer\n",
      "0 <= x44 Integer\n",
      "\n"
     ]
    }
   ],
   "source": [
    "print(prob)"
   ]
  },
  {
   "cell_type": "markdown",
   "metadata": {},
   "source": [
    "### Rozwiązanie problemu"
   ]
  },
  {
   "cell_type": "code",
   "execution_count": 12,
   "metadata": {},
   "outputs": [
    {
     "name": "stdout",
     "output_type": "stream",
     "text": [
      "prob.solve 1\n",
      "Status: Optimal\n"
     ]
    }
   ],
   "source": [
    "print(\"prob.solve\",prob.solve())\n",
    "# status of the solution\n",
    "print(f\"Status: {LpStatus[prob.status]}\")"
   ]
  },
  {
   "cell_type": "code",
   "execution_count": 13,
   "metadata": {},
   "outputs": [
    {
     "name": "stdout",
     "output_type": "stream",
     "text": [
      "x11 = 0\n",
      "x12 = 1\n",
      "x13 = 0\n",
      "x14 = 0\n",
      "x21 = 0\n",
      "x22 = 0\n",
      "x23 = 0\n",
      "x24 = 1\n",
      "x31 = 1\n",
      "x32 = 0\n",
      "x33 = 0\n",
      "x34 = 0\n",
      "x41 = 0\n",
      "x42 = 0\n",
      "x43 = 1\n",
      "x44 = 0\n"
     ]
    }
   ],
   "source": [
    "for v in prob.variables():\n",
    "    print(f\"{v.name} = {str(Fraction(v.varValue).limit_denominator())}\")\n"
   ]
  },
  {
   "cell_type": "code",
   "execution_count": 14,
   "metadata": {},
   "outputs": [
    {
     "name": "stdout",
     "output_type": "stream",
     "text": [
      "max (x11+x12+x13+x21+x22+x23+x31+x32+x33+x41+x42+x43) = 28\n"
     ]
    }
   ],
   "source": [
    "# maximum value of the objective function\n",
    "print(f\"max (x11+x12+x13+x21+x22+x23+x31+x32+x33+x41+x42+x43) = {str(Fraction(value(prob.objective)).limit_denominator())}\")"
   ]
  },
  {
   "cell_type": "markdown",
   "metadata": {},
   "source": [
    "<span style=\"font-size: 130%;color:#0000ff\">Minimalny czas wykonania to 28 godzin"
   ]
  },
  {
   "cell_type": "markdown",
   "metadata": {},
   "source": [
    "<span style=\"font-size: 150%;color:white;background:#bf9000\">METODA MACIERZOWA rozwiązania tego zadania"
   ]
  },
  {
   "cell_type": "code",
   "execution_count": 15,
   "metadata": {},
   "outputs": [],
   "source": [
    "from pulp import *\n",
    "\n",
    "# Tworze listę zakładów\n",
    "Warehouses = [\"Obrabiarka 1\",\"Obrabiarka 2\",\"Obrabiarka 3\",\"Obrabiarka 4\"]\n",
    "\n",
    "# Tworze słownik ile każdy PROGRAM może  być maksymalnie emitowany\n",
    "supply = {\"Obrabiarka 1\": 1,\n",
    "          \"Obrabiarka 2\": 1,\n",
    "          \"Obrabiarka 3\": 1,\n",
    "          \"Obrabiarka 4\": 1}"
   ]
  },
  {
   "cell_type": "code",
   "execution_count": 16,
   "metadata": {},
   "outputs": [
    {
     "name": "stdout",
     "output_type": "stream",
     "text": [
      "Warehouses: ['Obrabiarka 1', 'Obrabiarka 2', 'Obrabiarka 3', 'Obrabiarka 4']\n",
      "supply: {'Obrabiarka 1': 1, 'Obrabiarka 2': 1, 'Obrabiarka 3': 1, 'Obrabiarka 4': 1}\n",
      "Bars: ['detal_1', 'detal_2', 'detal_3', 'detal_4']\n",
      "Demand: {'detal_1': 1, 'detal_2': 1, 'detal_3': 1, 'detal_4': 1}\n"
     ]
    }
   ],
   "source": [
    "# Tworzę listę produktów\n",
    "Bars = [\"detal_1\", \"detal_2\", \"detal_3\",\"detal_4\"]\n",
    "\n",
    "# dokładna ilość detali do produkcji\n",
    "demand = {\"detal_1\": 1,\n",
    "        \"detal_2\": 1,\n",
    "        \"detal_3\": 1,\n",
    "        \"detal_4\": 1 \n",
    "        }\n",
    "print('Warehouses:',Warehouses)\n",
    "print('supply:',supply)\n",
    "print('Bars:',Bars)\n",
    "print('Demand:',demand)"
   ]
  },
  {
   "cell_type": "markdown",
   "metadata": {},
   "source": [
    "### <span style=\"color:blue\"> Są w różnych kategoriach. maszyny są w minutach, detale są w sztukach"
   ]
  },
  {
   "cell_type": "code",
   "execution_count": 17,
   "metadata": {},
   "outputs": [
    {
     "name": "stdout",
     "output_type": "stream",
     "text": [
      "+--------------+---------+---------+---------+-------------+\n",
      "|   maszyny:   | detal_1 | detal_2 | detal_3 | brak roboty |\n",
      "+--------------+---------+---------+---------+-------------+\n",
      "| Obrabiarka 1 |   24    |   12    |   18    |      0      |\n",
      "+--------------+---------+---------+---------+-------------+\n",
      "| Obrabiarka 2 |   18    |   20    |   16    |      0      |\n",
      "+--------------+---------+---------+---------+-------------+\n",
      "| Obrabiarka 3 |   10    |    8    |   12    |      0      |\n",
      "+--------------+---------+---------+---------+-------------+\n",
      "| Obrabiarka 4 |   16    |   14    |    6    |      0      |\n",
      "+--------------+---------+---------+---------+-------------+\n"
     ]
    }
   ],
   "source": [
    "from beautifultable import BeautifulTable\n",
    "\n",
    "table = BeautifulTable()\n",
    "table.column_headers = [\"maszyny:\", \"detal_1\",\"detal_2\",\"detal_3\",\"brak roboty\"]\n",
    "table.append_row([\"Obrabiarka 1\", 24,  12, 18, 0])\n",
    "table.append_row([\"Obrabiarka 2\", 18,  20, 16, 0])\n",
    "table.append_row([\"Obrabiarka 3\", 10,   8, 12, 0])\n",
    "table.append_row([\"Obrabiarka 4\", 16,  14,  6, 0])\n",
    "print(table)"
   ]
  },
  {
   "cell_type": "code",
   "execution_count": 19,
   "metadata": {},
   "outputs": [],
   "source": [
    "        #maszyna\n",
    "        # 1,  2,  3,  4 \n",
    "\n",
    "costs = [   \n",
    "        [24, 12, 18, 0],  #detal_1\n",
    "        [18, 20, 16, 0],  #detal_2\n",
    "        [10,  8, 12, 0],  #detal_3\n",
    "        [16, 14,  6, 0]   #detal_4\n",
    "         ]"
   ]
  },
  {
   "cell_type": "code",
   "execution_count": 20,
   "metadata": {},
   "outputs": [
    {
     "data": {
      "text/plain": [
       "{'Obrabiarka 1': {'detal_1': 24, 'detal_2': 12, 'detal_3': 18, 'detal_4': 0},\n",
       " 'Obrabiarka 2': {'detal_1': 18, 'detal_2': 20, 'detal_3': 16, 'detal_4': 0},\n",
       " 'Obrabiarka 3': {'detal_1': 10, 'detal_2': 8, 'detal_3': 12, 'detal_4': 0},\n",
       " 'Obrabiarka 4': {'detal_1': 16, 'detal_2': 14, 'detal_3': 6, 'detal_4': 0}}"
      ]
     },
     "execution_count": 20,
     "metadata": {},
     "output_type": "execute_result"
    }
   ],
   "source": [
    "# The cost data is made into a dictionary\n",
    "costs = makeDict([Warehouses,Bars],costs,0)\n",
    "costs"
   ]
  },
  {
   "cell_type": "code",
   "execution_count": 22,
   "metadata": {},
   "outputs": [
    {
     "name": "stdout",
     "output_type": "stream",
     "text": [
      "Beer_Distribution_Problem:\n",
      "MINIMIZE\n",
      "None\n",
      "VARIABLES\n",
      "\n"
     ]
    }
   ],
   "source": [
    "# Creates the 'prob' variable to contain the problem data\n",
    "prob = LpProblem(\"Beer Distribution Problem\",LpMinimize)\n",
    "print(prob)"
   ]
  },
  {
   "cell_type": "code",
   "execution_count": 23,
   "metadata": {},
   "outputs": [
    {
     "name": "stdout",
     "output_type": "stream",
     "text": [
      "[('Obrabiarka 1', 'detal_1'), ('Obrabiarka 1', 'detal_2'), ('Obrabiarka 1', 'detal_3'), ('Obrabiarka 1', 'detal_4'), ('Obrabiarka 2', 'detal_1'), ('Obrabiarka 2', 'detal_2'), ('Obrabiarka 2', 'detal_3'), ('Obrabiarka 2', 'detal_4'), ('Obrabiarka 3', 'detal_1'), ('Obrabiarka 3', 'detal_2'), ('Obrabiarka 3', 'detal_3'), ('Obrabiarka 3', 'detal_4'), ('Obrabiarka 4', 'detal_1'), ('Obrabiarka 4', 'detal_2'), ('Obrabiarka 4', 'detal_3'), ('Obrabiarka 4', 'detal_4')]\n"
     ]
    }
   ],
   "source": [
    "# Creates a list of tuples containing all the possible routes for transport\n",
    "Routes = [(w,b) for w in Warehouses for b in Bars]\n",
    "print(Routes)"
   ]
  },
  {
   "cell_type": "code",
   "execution_count": 24,
   "metadata": {},
   "outputs": [
    {
     "data": {
      "text/plain": [
       "{'Obrabiarka 1': {'detal_1': Route_Obrabiarka_1_detal_1,\n",
       "  'detal_2': Route_Obrabiarka_1_detal_2,\n",
       "  'detal_3': Route_Obrabiarka_1_detal_3,\n",
       "  'detal_4': Route_Obrabiarka_1_detal_4},\n",
       " 'Obrabiarka 2': {'detal_1': Route_Obrabiarka_2_detal_1,\n",
       "  'detal_2': Route_Obrabiarka_2_detal_2,\n",
       "  'detal_3': Route_Obrabiarka_2_detal_3,\n",
       "  'detal_4': Route_Obrabiarka_2_detal_4},\n",
       " 'Obrabiarka 3': {'detal_1': Route_Obrabiarka_3_detal_1,\n",
       "  'detal_2': Route_Obrabiarka_3_detal_2,\n",
       "  'detal_3': Route_Obrabiarka_3_detal_3,\n",
       "  'detal_4': Route_Obrabiarka_3_detal_4},\n",
       " 'Obrabiarka 4': {'detal_1': Route_Obrabiarka_4_detal_1,\n",
       "  'detal_2': Route_Obrabiarka_4_detal_2,\n",
       "  'detal_3': Route_Obrabiarka_4_detal_3,\n",
       "  'detal_4': Route_Obrabiarka_4_detal_4}}"
      ]
     },
     "execution_count": 24,
     "metadata": {},
     "output_type": "execute_result"
    }
   ],
   "source": [
    "# A dictionary called 'Vars' is created to contain the referenced variables(the routes)\n",
    "vars = LpVariable.dicts(\"Route\",(Warehouses,Bars),0,None,LpInteger)\n",
    "vars"
   ]
  },
  {
   "cell_type": "code",
   "execution_count": 25,
   "metadata": {},
   "outputs": [],
   "source": [
    "# The objective function is added to 'prob' first\n",
    "prob += lpSum([vars[w][b]*costs[w][b] for (w,b) in Routes]), \"Sum_of_Transporting_Costs\"\n",
    "\n",
    "# The supply maximum constraints are added to prob for each supply node (warehouse)\n",
    "for w in Warehouses:\n",
    "    prob += lpSum([vars[w][b] for b in Bars])<=supply[w], \"Sum_of_Products_out_of_Warehouse_%s\"%w\n",
    "\n",
    "    # The demand minimum constraints are added to prob for each demand node (bar)\n",
    "for b in Bars:\n",
    "    prob += lpSum([vars[w][b] for w in Warehouses])>=demand[b], \"Sum_of_Products_into_Bar%s\"%b"
   ]
  },
  {
   "cell_type": "code",
   "execution_count": 26,
   "metadata": {},
   "outputs": [
    {
     "data": {
      "text/plain": [
       "[Route_Obrabiarka_1_detal_1,\n",
       " Route_Obrabiarka_1_detal_2,\n",
       " Route_Obrabiarka_1_detal_3,\n",
       " Route_Obrabiarka_1_detal_4,\n",
       " Route_Obrabiarka_2_detal_1,\n",
       " Route_Obrabiarka_2_detal_2,\n",
       " Route_Obrabiarka_2_detal_3,\n",
       " Route_Obrabiarka_2_detal_4,\n",
       " Route_Obrabiarka_3_detal_1,\n",
       " Route_Obrabiarka_3_detal_2,\n",
       " Route_Obrabiarka_3_detal_3,\n",
       " Route_Obrabiarka_3_detal_4,\n",
       " Route_Obrabiarka_4_detal_1,\n",
       " Route_Obrabiarka_4_detal_2,\n",
       " Route_Obrabiarka_4_detal_3,\n",
       " Route_Obrabiarka_4_detal_4]"
      ]
     },
     "execution_count": 26,
     "metadata": {},
     "output_type": "execute_result"
    }
   ],
   "source": [
    "# The problem data is written to an .lp file\n",
    "prob.writeLP(\"BeerDistributionProblem.lp\")"
   ]
  },
  {
   "cell_type": "code",
   "execution_count": 27,
   "metadata": {},
   "outputs": [
    {
     "name": "stdout",
     "output_type": "stream",
     "text": [
      "prob.solve 1\n",
      "Status: Optimal\n"
     ]
    }
   ],
   "source": [
    "# The problem is solved using PuLP's choice of Solver\n",
    "print(\"prob.solve\",prob.solve())\n",
    "\n",
    "# The status of the solution is printed to the screen\n",
    "print(\"Status:\", LpStatus[prob.status])"
   ]
  },
  {
   "cell_type": "code",
   "execution_count": 28,
   "metadata": {},
   "outputs": [
    {
     "name": "stdout",
     "output_type": "stream",
     "text": [
      "Route_Obrabiarka_1_detal_1 = 0.0\n",
      "Route_Obrabiarka_1_detal_2 = 1.0\n",
      "Route_Obrabiarka_1_detal_3 = 0.0\n",
      "Route_Obrabiarka_1_detal_4 = 0.0\n",
      "Route_Obrabiarka_2_detal_1 = 0.0\n",
      "Route_Obrabiarka_2_detal_2 = 0.0\n",
      "Route_Obrabiarka_2_detal_3 = 0.0\n",
      "Route_Obrabiarka_2_detal_4 = 1.0\n",
      "Route_Obrabiarka_3_detal_1 = 1.0\n",
      "Route_Obrabiarka_3_detal_2 = 0.0\n",
      "Route_Obrabiarka_3_detal_3 = 0.0\n",
      "Route_Obrabiarka_3_detal_4 = 0.0\n",
      "Route_Obrabiarka_4_detal_1 = 0.0\n",
      "Route_Obrabiarka_4_detal_2 = 0.0\n",
      "Route_Obrabiarka_4_detal_3 = 1.0\n",
      "Route_Obrabiarka_4_detal_4 = 0.0\n"
     ]
    }
   ],
   "source": [
    "# Each of the variables is printed with it's resolved optimum value\n",
    "for v in prob.variables():\n",
    "    print(v.name, \"=\", v.varValue)"
   ]
  },
  {
   "cell_type": "code",
   "execution_count": 29,
   "metadata": {},
   "outputs": [
    {
     "name": "stdout",
     "output_type": "stream",
     "text": [
      "wydajność produkcji w tys. min =  28.0\n"
     ]
    }
   ],
   "source": [
    "# The optimised objective function value is printed to the screen    \n",
    "print(\"wydajność produkcji w tys. min = \", value(prob.objective))"
   ]
  },
  {
   "cell_type": "code",
   "execution_count": null,
   "metadata": {},
   "outputs": [],
   "source": []
  }
 ],
 "metadata": {
  "kernelspec": {
   "display_name": "Python 3",
   "language": "python",
   "name": "python3"
  },
  "language_info": {
   "codemirror_mode": {
    "name": "ipython",
    "version": 3
   },
   "file_extension": ".py",
   "mimetype": "text/x-python",
   "name": "python",
   "nbconvert_exporter": "python",
   "pygments_lexer": "ipython3",
   "version": "3.7.4"
  }
 },
 "nbformat": 4,
 "nbformat_minor": 2
}
