{
 "cells": [
  {
   "cell_type": "markdown",
   "metadata": {},
   "source": [
    "# Procedura robienia SIMPLEX\n",
    "1. dowiadujemy sie co oznacza x w tabelce\n",
    "2. liczby przy x oznaczają - ile trzeba tego aby osiągnąć limit"
   ]
  },
  {
   "cell_type": "markdown",
   "metadata": {},
   "source": [
    "## Przykład 20 str 130"
   ]
  },
  {
   "cell_type": "code",
   "execution_count": 1,
   "metadata": {},
   "outputs": [
    {
     "name": "stdout",
     "output_type": "stream",
     "text": [
      "Należy rozdzielic miesieczną produkcję tak, aby wyprodukować co najmniej 90 sztuk detali A, B, C oraz 75  detali D i E\n",
      "+-----+---------+---------+---------+---------+---------+--------------+-------+\n",
      "| Mas | wydajno | wydajno | wydajno | wydajno | wydajno | Maksymalny c | koszt |\n",
      "| zyn | ść dla: | ść dla: | ść dla: | ść dla: | ść dla: | zas w miesią |  prac |\n",
      "| y:  |  A x1   |  B x2   |  C x3   |  D x4   |  E x5   |      cu      | y 1h  |\n",
      "+-----+---------+---------+---------+---------+---------+--------------+-------+\n",
      "| S1  | 0.80 sz | 1.00 sz | 0.40 sz | 2.000 s | 0.625 s |   <= 180 h   |  30   |\n",
      "|     |   t/h   |   t/h   |   t/h   |  zt/h   |  zt/h   |              |       |\n",
      "+-----+---------+---------+---------+---------+---------+--------------+-------+\n",
      "| S2  | 0.75 sz | 0.60 sz | 0.50 sz | 1.875 s | 0.600 s |   <= 180 h   |  42   |\n",
      "|     |   t/h   |   t/h   |   t/h   |  zt/h   |  zt/h   |              |       |\n",
      "+-----+---------+---------+---------+---------+---------+--------------+-------+\n",
      "| S3  | 1.25 sz | 1.20 sz | 0.375 s | 1.500 s | 0.500 s |   <= 180 h   |  36   |\n",
      "|     |   t/h   |   t/h   |  zt/h   |  zt/h   |  zt/h   |              |       |\n",
      "+-----+---------+---------+---------+---------+---------+--------------+-------+\n",
      "| ilo |  >= 90  |  >= 90  |  >= 90  |  >= 75  |  >= 75  |              |       |\n",
      "| ść: |         |         |         |         |         |              |       |\n",
      "+-----+---------+---------+---------+---------+---------+--------------+-------+\n"
     ]
    }
   ],
   "source": [
    "from beautifultable import BeautifulTable\n",
    "\n",
    "table = BeautifulTable()\n",
    "table.column_headers = [\"Maszyny:\", \"wydajność dla:A x1\",\"wydajność dla:B x2\",\"wydajność dla:C x3\",\"wydajność dla:D x4\",\"wydajność dla:E x5\", \"Maksymalny czas w miesiącu\", \"koszt pracy 1h\"]\n",
    "table.append_row([\"S1\",  \"0.80 szt/h\",    \"1.00 szt/h\",   \"0.40 szt/h\" ,  \"2.000 szt/h\", \"0.625 szt/h\",\"<= 180 h\",30 ])\n",
    "table.append_row([\"S2\",  \"0.75 szt/h\",    \"0.60 szt/h\",   \"0.50 szt/h\" ,  \"1.875 szt/h\", \"0.600 szt/h\",\"<= 180 h\",42  ])\n",
    "table.append_row([\"S3\",  \"1.25 szt/h\",    \"1.20 szt/h\",   \"0.375 szt/h\",  \"1.500 szt/h\", \"0.500 szt/h\",\"<= 180 h\",36 ])\n",
    "table.append_row([\"ilość:\",  \">= 90\",    \">= 90\",   \">= 90\",  \">= 75\", \">= 75\",\"\",\"\" ])\n",
    "print(\"Należy rozdzielic miesieczną produkcję tak, aby wyprodukować co najmniej 90 sztuk detali A, B, C oraz 75  detali D i E\" )\n",
    "print(table)"
   ]
  },
  {
   "cell_type": "markdown",
   "metadata": {},
   "source": [
    "<span style=\"font-size: 150%;color:#0000ff\">xij - to jest czas tzn. ilość godzin pracy i-tych maszyn robiących j-te detale</span>\n",
    "\n",
    "Przez jedną godzinę maszyna S1 robi 0.80 sztuki\n",
    "Pierwsze ograniczenie to czas który ma nie przekraczać 180 godzin. Jeżeli x to czas to wtedy czasy poszczegónychmaszyn nie mogą przkeroczyć 180 godzin:\n",
    "\n",
    "#### $\n",
    "\\left\\{\n",
    "\\begin{align} \n",
    "{x_{11}+x_{12}+x_{13}+x_{14}+x_{15}} & \\leqslant 180 & (1)\\\\\n",
    "{x_{21}+x_{22}+x_{23}+x_{24}+x_{25}} & \\leqslant 180 & (2)\\\\\n",
    "{x_{31}+x_{32}+x_{33}+x_{34}+x_{35}} & \\leqslant 180 & (3)\\\\\n",
    "\\end{align}\n",
    "\\right. \n",
    "$\n"
   ]
  },
  {
   "cell_type": "markdown",
   "metadata": {},
   "source": [
    "Jest ograniczenie żeby było więcej detali jak 90 i 75 sztuk. Jeżeli xij jest czasem to ile trzeba czasu na każdej maszynie aby zrobić pierwszy detal? \n",
    "\n",
    "$\n",
    "{0.8x_{11}+0.75x_{21}+1.25x_{31}} \\geqslant 90\n",
    "$\n"
   ]
  },
  {
   "cell_type": "markdown",
   "metadata": {},
   "source": [
    "<span style=\"font-size: 150%;color:#0000ff\"> Funkcja celu</span>\n",
    "\n",
    "<span style=\"font-size: 150%;color:#000000\">celem jest rozdzielenie miesięcznej produkcji przy najniższych kosztach dzierżawy </span>\n",
    "Koszty liczone są w godzinach więc trzeba minimalizować godziny, czyli:\n",
    "\n",
    "$\\bbox[5px,border:1px solid red]\n",
    "{\n",
    "\\\\\n",
    "F(x_{i,j}) =30(x_{11}+x_{12}+x_{13}+x_{14}+x_{15})+42({x_{21}+x_{22}+x_{23}+x_{24}+x_{25}})+36({x_{31}+x_{32}+x_{33}+x_{34}+x_{35}})   \\to  min \n",
    "\\qquad \n",
    "} $\n"
   ]
  },
  {
   "cell_type": "markdown",
   "metadata": {},
   "source": [
    "## Przykład 21 str 132"
   ]
  },
  {
   "cell_type": "code",
   "execution_count": 2,
   "metadata": {},
   "outputs": [
    {
     "name": "stdout",
     "output_type": "stream",
     "text": [
      "+----------+---------+---------+---------+---------+---------+-----------------+\n",
      "| Maszyny: | wydajno | wydajno | wydajno | wydajno | wydajno | Maksymalny czas |\n",
      "|          | ść dla: | ść dla: | ść dla: | ść dla: | ść dla: |  pracy maszyn w |\n",
      "|          |    x1   |    x2   |    x3   |    x4   |    x5   |       min.      |\n",
      "+----------+---------+---------+---------+---------+---------+-----------------+\n",
      "|    S1    |   75    |   60    |   150   |   30    |   96    |      10800      |\n",
      "+----------+---------+---------+---------+---------+---------+-----------------+\n",
      "|    S2    |   80    |   100   |   120   |   32    |   100   |      10800      |\n",
      "+----------+---------+---------+---------+---------+---------+-----------------+\n",
      "|    S3    |   48    |   50    |   160   |   40    |   120   |      10800      |\n",
      "+----------+---------+---------+---------+---------+---------+-----------------+\n",
      "| Minimaln |   90    |   90    |   90    |   75    |   75    |        0        |\n",
      "| a ilość  |         |         |         |         |         |                 |\n",
      "|  detali  |         |         |         |         |         |                 |\n",
      "+----------+---------+---------+---------+---------+---------+-----------------+\n"
     ]
    }
   ],
   "source": [
    "from beautifultable import BeautifulTable\n",
    "\n",
    "table = BeautifulTable()\n",
    "table.column_headers = [\"Maszyny:\", \"wydajność dla: x1\",\"wydajność dla: x2\",\"wydajność dla: x3\",\"wydajność dla: x4\",\"wydajność dla: x5\", \"Maksymalny czas pracy maszyn w min.\"]\n",
    "table.append_row([\"S1\", 75,    60,   150 ,  30, 96,10800  ])\n",
    "table.append_row([\"S2\", 80,    100,  120 ,  32, 100,10800  ])\n",
    "table.append_row([\"S3\", 48,    50,   160,   40, 120,10800  ])\n",
    "table.append_row([\"Minimalna ilość detali\", 90,    90,   90,   75, 75,0  ])\n",
    "print(table)"
   ]
  },
  {
   "cell_type": "markdown",
   "metadata": {},
   "source": [
    "Jaka jest funkcja celu (czyli czym jest x)?\n",
    "\n",
    "Rodzielić produkcję detali pomiedzy maszyny - <span style=\"font-size: 150%;color:#0000ff\">czyli xij to znaczy ile i-tych detali będzie wyprodukowanych na j-tych maszynach.</span>\n",
    "\n",
    "W tabelce jest ilość minut potrzebnych na wyprodukowanie jednego detalu. \n",
    "Czyli jak mamy ograniczenie czasu równe: 10800 minut. Ponieważ liczby wewnątrz tabeli pokazują czas produkcji jednego detalu, to iloczyn czasu i ilości detali x daje nam sumę czasu dla każdego detalu. Dlatego:\n",
    "\n",
    "#### $\n",
    "\\left\\{\n",
    "\\begin{align} \n",
    "{75x_{11}+60x_{12}+150x_{13}+30x_{14}+96x_{15}} & \\leqslant 10800 & (1)\\\\\n",
    "{80x_{21}+100x_{22}+120x_{23}+32x_{24}+100x_{25}} & \\leqslant 10800 & (2)\\\\\n",
    "{48x_{31}+50x_{32}+160x_{33}+40x_{34}+120x_{35}} & \\leqslant 10800 & (3)\\\\\n",
    "\\end{align}\n",
    "\\right. \n",
    "$\n",
    "\n",
    "\n",
    "\n",
    "\n",
    "\n"
   ]
  },
  {
   "cell_type": "markdown",
   "metadata": {},
   "source": [
    "### Kolejny warunek:  Ilość detali ma przekraczać 90 i 75 sztuk\n",
    "ponieważ x oznacza ilość i-tych sztuk detali na j-tej maszynie wieć suma ilości sztuk detalu na maszyne wyniesie:\n",
    "\n",
    "$\n",
    "{75x_{11}+80x_{21}+48x_{31}} \\geqslant 90\\\\\n",
    "{60x_{12}+100x_{22}+50x_{32}} \\geqslant 90\n",
    "$\n",
    "\n",
    "\n",
    "\n"
   ]
  },
  {
   "cell_type": "markdown",
   "metadata": {},
   "source": [
    "<span style=\"font-size: 150%;color:#0000ff\"> Funkcja celu</span>\n",
    "\n",
    "<span style=\"font-size: 150%;color:#000000\">Rodzielić produkcję detali pomiedzy maszyny przy najniższych kosztach dzierżawy maszyn </span>\n",
    "Celem ukrytym jest minimalizowanie czasu pracy maszyn więc musiby wziąć ograniczenia czasowe (nie ograniczenia ilości detali) dlatego mnoży się tu przez czasy produkcji detali.\n",
    "\n",
    "$\\bbox[5px,border:1px solid red]\n",
    "{\n",
    "\\\\\n",
    "F(x_{i,j}) =30(75x_{1} + 60x_{2}+ 150x_{3}+ 30x_{4}+ 96x_{5})+42(80x_{1} + 100x_{2}+ 120x_{3}+ 32x_{4}+ 100x_{5})+36(48x_{1} + 50x_{2}+ 160x_{3}+ 40x_{4}+ 120x_{5})   \\to  min \n",
    "\\qquad \n",
    "} $\n"
   ]
  },
  {
   "cell_type": "markdown",
   "metadata": {},
   "source": [
    "# Zadanie 85 STR 141"
   ]
  },
  {
   "cell_type": "code",
   "execution_count": 3,
   "metadata": {},
   "outputs": [
    {
     "name": "stdout",
     "output_type": "stream",
     "text": [
      "+----------+------------+-------------+-----------+-----------+----------------+\n",
      "| Obrabiar | czas produ | czas produk | czas prod | czas prod | max czas pracy |\n",
      "|   ki:    |  kcji: x1  |   cji: x2   | ukcji: x3 | ukcji: x4 |   obrabiarek   |\n",
      "+----------+------------+-------------+-----------+-----------+----------------+\n",
      "| Obrabiar |     5      |      2      |    10     |    12     |      2500      |\n",
      "|   ka A   |            |             |           |           |                |\n",
      "+----------+------------+-------------+-----------+-----------+----------------+\n",
      "| Obrabiar |     10     |      8      |     2     |     5     |     10000      |\n",
      "|   ka B   |            |             |           |           |                |\n",
      "+----------+------------+-------------+-----------+-----------+----------------+\n",
      "| Obrabiar |     15     |      1      |     5     |     5     |      2400      |\n",
      "|   kA C   |            |             |           |           |                |\n",
      "+----------+------------+-------------+-----------+-----------+----------------+\n",
      "| Ilość wy |    200     |     800     |    200    |    600    |       0        |\n",
      "|  robów   |            |             |           |           |                |\n",
      "+----------+------------+-------------+-----------+-----------+----------------+\n"
     ]
    }
   ],
   "source": [
    "from beautifultable import BeautifulTable\n",
    "\n",
    "table = BeautifulTable()\n",
    "table.column_headers = [\"Obrabiarki:\", \"czas produkcji: x1\",\"czas produkcji: x2\",\"czas produkcji: x3\",\"czas produkcji: x4\", \"max czas pracy obrabiarek\"]\n",
    "table.append_row([\"Obrabiarka A\", 5,     2,   10,   12, 2500  ])\n",
    "table.append_row([\"Obrabiarka B\", 10,    8,    2,    5, 10000  ])\n",
    "table.append_row([\"ObrabiarkA C\", 15,    1,    5,    5, 2400  ])\n",
    "table.append_row([\"Ilość wyrobów\",  200,     800,    200,   600, 0  ])\n",
    "print(table)"
   ]
  },
  {
   "cell_type": "markdown",
   "metadata": {},
   "source": [
    "### Krok 1: ZMIENNA DECYZYJNA Czym jest x?\n",
    "Ilością produkcji  - dlaczego? bo jest to zmienna decyzyjna, nie można sterować czasem produkcji, można jedynie sterować ilością produkowanych sztuk \n",
    "\n",
    "\n",
    "### Krok 2: Co jest w tabeli?\n",
    "Czas pracy na jeden detal\n"
   ]
  },
  {
   "cell_type": "markdown",
   "metadata": {},
   "source": [
    "### Krok 3: ograniczenie czasu\n",
    "\n",
    "#### $\n",
    "\\left\\{\n",
    "\\begin{align} \n",
    "{5x_{11}+2x_{12}+10x_{13}+12x_{14}} & \\leqslant 2500 & (1)\\\\\n",
    "{10x_{21}+8x_{22}+2x_{23}+5x_{24}} & \\leqslant 10000 & (2)\\\\\n",
    "{15x_{31}+x_{32}+5x_{33}+5x_{34}} & \\leqslant 2400 & (3)\\\\\n",
    "\\end{align}\n",
    "\\right. \n",
    "$\n",
    "\n",
    "### Krok 4: ograniczenie ilości produkcji\n",
    "\n",
    "$\n",
    "{x_{11}+x_{21}+x_{31}} \\geqslant 200 \\\\\n",
    "{x_{12}+x_{22}+x_{32}} \\geqslant 800 \\\\ \n",
    "{x_{13}+x_{23}+x_{33}} \\geqslant 200 \\\\\n",
    "{x_{14}+x_{24}+x_{34}} \\geqslant 600 \\\\\n",
    "$"
   ]
  },
  {
   "cell_type": "markdown",
   "metadata": {},
   "source": [
    "### Krok 5: jaka jest funkcja celu?\n",
    "Rozdzielić ilość produkowanych detali aby zminimalizować czas pracy maszyn.\n",
    "zmienną decyzyjną jest x czyli ilość detali. Czyli trzeba dodawać czasy detali.\n",
    "\n",
    "$\\bbox[5px,border:1px solid red]\n",
    "{\n",
    "\\\\\n",
    "F(x_{i,j})=({5x_{11}+2x_{12}+10x_{13}+12x_{14}})+({10x_{21}+8x_{22}+2x_{23}+5x_{24}})+({15x_{31}+x_{32}+5x_{33}+5x_{34}})  \\to  min \n",
    "\\qquad \n",
    "} $"
   ]
  },
  {
   "cell_type": "markdown",
   "metadata": {},
   "source": [
    "# Zadanie 84 STR 141"
   ]
  },
  {
   "cell_type": "code",
   "execution_count": 4,
   "metadata": {},
   "outputs": [
    {
     "name": "stdout",
     "output_type": "stream",
     "text": [
      "+-------------+----------+----------+----------+----------+----------+---------+\n",
      "| Warsztaty:  | Detal: A | Detal: B | Detal: C | Detal: D | Detal: E | Max ilo |\n",
      "|             |          |          |          |          |          | ść zmia |\n",
      "|             |          |          |          |          |          |    n    |\n",
      "+-------------+----------+----------+----------+----------+----------+---------+\n",
      "| Warsztat 1  |    20    |    15    |    18    |    5     |    6     |   46    |\n",
      "+-------------+----------+----------+----------+----------+----------+---------+\n",
      "| Warsztat 2  |    22    |    20    |    10    |    5     |    3     |   46    |\n",
      "+-------------+----------+----------+----------+----------+----------+---------+\n",
      "| Warsztat 3  |    19    |    10    |    20    |    10    |    8     |   46    |\n",
      "+-------------+----------+----------+----------+----------+----------+---------+\n",
      "| Minimalna l |   660    |   360    |   360    |   420    |   210    |    0    |\n",
      "| iczba detal |          |          |          |          |          |         |\n",
      "|      i      |          |          |          |          |          |         |\n",
      "+-------------+----------+----------+----------+----------+----------+---------+\n",
      "| Ceny detali |    20    |    15    |    18    |    70    |   110    |    0    |\n",
      "+-------------+----------+----------+----------+----------+----------+---------+\n"
     ]
    }
   ],
   "source": [
    "from beautifultable import BeautifulTable\n",
    "\n",
    "table = BeautifulTable()\n",
    "table.column_headers = [\"Warsztaty:\", \"Detal: A\",\"Detal: B\",\"Detal: C\",\"Detal: D\",\"Detal: E\", \"Max ilość zmian\"]\n",
    "table.append_row([\"Warsztat 1\",  20,    15,   18 ,  5, 6, 46 ])\n",
    "table.append_row([\"Warsztat 2\",  22,    20,   10 ,  5, 3, 46 ])\n",
    "table.append_row([\"Warsztat 3\",  19,    10,   20,  10, 8, 46 ])\n",
    "table.append_row([\"Minimalna liczba detali\",  660,    360,   360,  420, 210, 0 ])\n",
    "table.append_row([\"Ceny detali\",  20,    15,   18,  70, 110, 0 ])\n",
    "print(table)"
   ]
  },
  {
   "cell_type": "markdown",
   "metadata": {},
   "source": [
    "<span style=\"font-size: 150%;color:#0000ff\">Krok 1: ZMIENNA DECYZYJNA Czym jest x? </span>\n",
    "\n",
    "Ilością zmian  - dlaczego? bo jest to zmienna decyzyjna, nie można sterować ilością produkcji na zmianę, ale można  sterować ilością zmian, ponieważ ilość zmian razy ilość detali produkowanych na zmianę daje na ilość produkcji. \n",
    "\n",
    "\n",
    "<span style=\"font-size: 150%;color:#0000ff\"> Krok 2: Co jest w tabeli?</span>\n",
    "\n",
    "ilość detali produkowanych na zmianę \n",
    "\n",
    "<span style=\"font-size: 150%;color:#0000ff\"> Krok 3: ograniczenie zmiennych decyzyjnych</span>\n",
    "\n",
    "zmiennymi decyzyjnymi jest tutaj ilość zmian. mkasymalnie w miesiącu może być 46 zmian\n",
    "\n",
    "#### $\n",
    "\\left\\{\n",
    "\\begin{align} \n",
    "{x_{11}+x_{12}+x_{13}+x_{14}+x_{15}} & \\leqslant 46 & (1)\\\\\n",
    "{x_{21}+x_{22}+x_{23}+x_{24}+x_{25}} & \\leqslant 46 & (2)\\\\\n",
    "{x_{31}+x_{32}+x_{33}+x_{34}+x_{35}} & \\leqslant 46 & (3)\\\\\n",
    "\\end{align}\n",
    "\\right. \n",
    "$\n",
    "\n",
    "<span style=\"font-size: 150%;color:#0000ff\"> Krok 4: ograniczenie pośrednie - nie związane bezpośrednio ze zmiennymi decyzyjnymi tutaj: ilości produkcji</span>\n",
    "\n",
    "$\n",
    "{20x_{11}+22x_{21}+19x_{31}} \\geqslant 660 \\\\\n",
    "{15x_{12}+20x_{22}+10x_{32}} \\geqslant 360 \\\\ \n",
    "{18x_{13}+10x_{23}+20x_{33}} \\geqslant 360 \\\\\n",
    "{5x_{14}+10x_{24}+20x_{34}} \\geqslant 420 \\\\\n",
    "{6x_{15}+3x_{25}+8x_{35}} \\geqslant 210 \\\\\n",
    "$\n",
    "\n",
    "<span style=\"font-size: 150%;color:#0000ff\"> Krok 5: jaka jest funkcja celu?</span>\n",
    "\n",
    "Rozdzielić ilość zmian (bo jest to zmienna decyzyjna) w warsztatach aby zmaksymalizować miesięczną wartość produkcji.\n",
    "zmienną decyzyjną jest x czyli ilość zmian. Ma być maksymalna wartość - wartość zależy od ilości produkcji wiec:\n",
    "\n",
    "$\\bbox[5px,border:1px solid red]\n",
    "{\n",
    "\\\\\n",
    "F(x_1,x_2,x_3) =20({20x_{11}+22x_{21}+19x_{31}})+15({15x_{12}+20x_{22}+10x_{32}})+18({18x_{13}+10x_{23}+20x_{33}} )+70({5x_{14}+10x_{24}+20x_{34}})+110({6x_{15}+3x_{25}+8x_{35}})  \\to  max \n",
    "\\qquad \n",
    "} $"
   ]
  },
  {
   "cell_type": "markdown",
   "metadata": {},
   "source": [
    "# Zadanie 87 STR 142"
   ]
  },
  {
   "cell_type": "code",
   "execution_count": 5,
   "metadata": {},
   "outputs": [
    {
     "name": "stdout",
     "output_type": "stream",
     "text": [
      "+---------------+------------+------------+------------+-----------------------+\n",
      "|    Wyrób:     | Surowiec 1 | Surowiec 2 | Surowiec 3 | Minimalne zadanie pro |\n",
      "|               |            |            |            |       dukcyjne        |\n",
      "+---------------+------------+------------+------------+-----------------------+\n",
      "|    Wyrób A    |   10 kg    |   80 kg    |   20 kg    |     200 000 sztuk     |\n",
      "+---------------+------------+------------+------------+-----------------------+\n",
      "|    Wyrób B    |   20 kg    |   40 kg    |   40 kg    |     160 000 sztuk     |\n",
      "+---------------+------------+------------+------------+-----------------------+\n",
      "|    Wyrób C    |   70 kg    |   30 kg    |   20 kg    |     210 000 sztuk     |\n",
      "+---------------+------------+------------+------------+-----------------------+\n",
      "| Ilość surowca | <=2100 kg  | <=2400 kg  |  No limit  |                       |\n",
      "+---------------+------------+------------+------------+-----------------------+\n",
      "| Cena zakupu s |  6 zł/kg   |  8 zł/kg   |  11 zł/kg  |                       |\n",
      "|    urowca     |            |            |            |                       |\n",
      "+---------------+------------+------------+------------+-----------------------+\n"
     ]
    }
   ],
   "source": [
    "from beautifultable import BeautifulTable\n",
    "\n",
    "table = BeautifulTable()\n",
    "table.column_headers = [\"Wyrób:\", \"Surowiec 1\",\"Surowiec 2\",\"Surowiec 3\", \"Minimalne zadanie produkcyjne\"]\n",
    "table.append_row([\"Wyrób A\", \"10 kg\",    \"80 kg\",   \"20 kg\",  \"200 000 sztuk\"  ])\n",
    "table.append_row([\"Wyrób B\", \"20 kg\",    \"40 kg\",   \"40 kg\",  \"160 000 sztuk\"  ])\n",
    "table.append_row([\"Wyrób C\", \"70 kg\",    \"30 kg\",   \"20 kg\",  \"210 000 sztuk\"  ])\n",
    "table.append_row([\"Ilość surowca\",\"<=2100 kg\",\"<=2400 kg\",\"No limit\",\"\"])\n",
    "table.append_row([\"Cena zakupu surowca\",\"6 zł/kg\",\"8 zł/kg\",\"11 zł/kg\",\"\"])\n",
    "print(table)"
   ]
  },
  {
   "cell_type": "markdown",
   "metadata": {},
   "source": [
    "<span style=\"font-size: 150%;color:#0000ff\">Krok 1: ZMIENNA DECYZYJNA Czym jest x? </span>\n",
    "\n",
    "Ilość produkcji  - dlaczego? bo jest to zmienna decyzyjna, nie można sterować ilością zuzycia surowca, ale można  sterować ilością produkcji, ponieważ ilość prokukcji razy ilość zuzycia daje na ilość całkowitą zuzycia. \n",
    "\n",
    "\n",
    "<span style=\"font-size: 150%;color:#0000ff\"> Krok 2: Co jest w tabeli?</span>\n",
    "\n",
    "ilość zużycia kg surowca na 1000 detali\n",
    "\n",
    "<span style=\"font-size: 150%;color:#0000ff\"> Krok 3: ograniczenie zmiennych decyzyjnych</span>\n",
    "\n",
    "zmiennymi decyzyjnymi jest tutaj ilość produkcji. minimalne ilości produkcji w tys. detali\n",
    "\n",
    "#### $\n",
    "\\left\\{\n",
    "\\begin{align} \n",
    "{x_{11}+x_{12}+x_{13}} & \\leqslant 200 & (1)\\\\\n",
    "{x_{21}+x_{22}+x_{23}} & \\leqslant 160 & (2)\\\\\n",
    "{x_{31}+x_{32}+x_{33}} & \\leqslant 210 & (3)\\\\\n",
    "\\end{align}\n",
    "\\right. \n",
    "$\n",
    "\n",
    "<span style=\"font-size: 150%;color:#0000ff\"> Krok 4: ograniczenie pośrednie - nie związane bezpośrednio ze zmiennymi decyzyjnymi tutaj: zużycie surowca</span>\n",
    "\n",
    "#### $\n",
    "\\left\\{\n",
    "\\begin{align} \n",
    "{10x_{11}+20x_{21}+70x_{31}} & \\leqslant 2100 & (1)\\\\\n",
    "{80x_{12}+40x_{22}+30x_{32}} & \\leqslant 2400 & (2)\\\\\n",
    "{20x_{13}+40x_{23}+20x_{33}} & \\geqslant 0 & (bez-tego)\\\\\n",
    "\\end{align}\n",
    "\\right. \n",
    "$\n",
    "\n",
    "\n",
    "<span style=\"font-size: 150%;color:#0000ff\"> Krok 5: jaka jest funkcja celu?</span>\n",
    "\n",
    "Zminimalizować koszty zakupu surowca. Jest jedna zmienna decyzyjna x a ilość zużycia surowca jest jej pochodną.\n",
    "\n",
    "$\\bbox[5px,border:1px solid red]\n",
    "{\n",
    "\\\\\n",
    "F(x_{i,j})=6*({10x_{11}+20x_{21}+70x_{31}})+8*({80x_{12}+40x_{22}+30x_{32}})+11*({20x_{13}+40x_{23}+20x_{33}})  \\to  min \n",
    "\\qquad \n",
    "} $"
   ]
  },
  {
   "cell_type": "markdown",
   "metadata": {},
   "source": [
    "# Zadanie 88 STR 142"
   ]
  },
  {
   "cell_type": "code",
   "execution_count": 6,
   "metadata": {},
   "outputs": [
    {
     "name": "stdout",
     "output_type": "stream",
     "text": [
      "+---------------+----------+---------+----------+--------+----------+----------+\n",
      "| Koparka typu: | wykop 1  | wykop 2 | wykop  3 | wykop  | ilość ko | koszt ko |\n",
      "|               |          |         |          |   4    |  parek   |  parki   |\n",
      "+---------------+----------+---------+----------+--------+----------+----------+\n",
      "|   Koparka A   | 25 m3/d  | 15 m3/d | 16 m3/d  | 20 m3/ | <=10 szt |  190 zł  |\n",
      "|               |          |         |          |   d    |    .     |          |\n",
      "+---------------+----------+---------+----------+--------+----------+----------+\n",
      "|   Koparka B   | 30 m3/d  | 10 m3/d | 24 m3/d  | 25 m3/ | <=8 szt. |  130 zł  |\n",
      "|               |          |         |          |   d    |          |          |\n",
      "+---------------+----------+---------+----------+--------+----------+----------+\n",
      "|   Koparka C   | 24 m3/d  | 18 m3/d | 25 m3/d  | 27,5 m | <=15 szt |  280 zł  |\n",
      "|               |          |         |          |  3/d   |    .     |          |\n",
      "+---------------+----------+---------+----------+--------+----------+----------+\n",
      "| Minimalne zad | >=220 m3 | >=90 m3 | >=146 m3 | >=220  |          |          |\n",
      "|     anie      |          |         |          |   m3   |          |          |\n",
      "+---------------+----------+---------+----------+--------+----------+----------+\n"
     ]
    }
   ],
   "source": [
    "## from beautifultable import BeautifulTable\n",
    "\n",
    "table = BeautifulTable()\n",
    "table.column_headers = [\"Koparka typu:\", \"wykop 1\",\"wykop 2\",\"wykop  3\", \"wykop 4\",\"ilość koparek\", \"koszt koparki\"]\n",
    "table.append_row([\"Koparka A\", \"25 m3/d\",    \"15 m3/d\",   \"16 m3/d\", \"20 m3/d\", \"<=10 szt.\",\"190 zł\" ])\n",
    "table.append_row([\"Koparka B\", \"30 m3/d\",    \"10 m3/d\",   \"24 m3/d\", \"25 m3/d\", \"<=8 szt.\", \"130 zł\" ])\n",
    "table.append_row([\"Koparka C\", \"24 m3/d\",    \"18 m3/d\",   \"25 m3/d\", \"27,5 m3/d\", \"<=15 szt.\", \"280 zł\" ])\n",
    "table.append_row([\"Minimalne zadanie\",\">=220 m3\",\">=90 m3\",\">=146 m3\",\">=220 m3\",\"\",\"\"])\n",
    "print(table)"
   ]
  },
  {
   "cell_type": "markdown",
   "metadata": {},
   "source": [
    "<span style=\"font-size: 150%;color:#0000ff\">Krok 1: ZMIENNA DECYZYJNA Czym jest x? </span>\n",
    "\n",
    "Ilość koparek  - dlaczego? bo jest to zmienna decyzyjna, nie można sterować wydajnością koparek. Ilość koparek jest punktem wyjścia do obliczenia ilości m3 oraz kosztów używania koparek \n",
    "\n",
    "\n",
    "<span style=\"font-size: 150%;color:#0000ff\"> Krok 2: Co jest w tabeli?</span>\n",
    "\n",
    "wydajność koparek na poszczególnych wykopach\n",
    "\n",
    "<span style=\"font-size: 150%;color:#0000ff\"> Krok 3: ograniczenie zmiennych decyzyjnych</span>\n",
    "\n",
    "zmiennymi decyzyjnymi jest tutaj ilość koparek na różnych wykopach. Powiedzmy że chodzi o jeden dzień pracy wszystkich koparek. Nie można dawać tutaj równości, bo nie musimy wykorzystywać wszystkich koparek!\n",
    "\n",
    "#### $\n",
    "\\left\\{\n",
    "\\begin{align} \n",
    "{x_{11}+x_{12}+x_{13}+x_{14}} & <= 10 & (1)\\\\\n",
    "{x_{21}+x_{22}+x_{23}+x_{24}} & <= 8 & (2)\\\\\n",
    "{x_{31}+x_{32}+x_{33}+x_{34}} & <= 15 & (3)\\\\\n",
    "\\end{align}\n",
    "\\right. \n",
    "$\n",
    "\n",
    "<span style=\"font-size: 150%;color:#0000ff\"> Krok 4: ograniczenie pośrednie - nie związane bezpośrednio ze zmiennymi decyzyjnymi jaką jest tutaj ilość koparek, to będzie: ilość metrów wykopanych na poszczególnych wykopach</span>\n",
    "\n",
    "#### $\n",
    "\\left\\{\n",
    "\\begin{align} \n",
    "{25x_{11}+30x_{21}+24x_{31}} & \\geqslant 220 & (1)\\\\\n",
    "{15x_{12}+10x_{22}+18x_{32}} & \\geqslant 90 & (2)\\\\\n",
    "{16x_{13}+24x_{23}+25x_{33}} & \\geqslant 146 & (3)\\\\\n",
    "{20x_{14}+25x_{24}+27.5x_{34}} & \\geqslant 220 & (3)\\\\\n",
    "\\end{align}\n",
    "\\right. \n",
    "$\n",
    "\n",
    "\n",
    "<span style=\"font-size: 150%;color:#0000ff\"> Krok 5: jaka jest funkcja celu?</span>\n",
    "\n",
    "Zminimalizować koszty zakupu surowca. Jest jedna zmienna decyzyjna x a ilość zużycia surowca jest jej pochodną.\n",
    "\n",
    "$\\bbox[5px,border:1px solid red]\n",
    "{\n",
    "\\\\\n",
    "F(x_{i,j})=190*({x_{11}+x_{12}+x_{13}+x_{14}})+130*({x_{21}+x_{22}+x_{23}+x_{24}})+280*({x_{31}+x_{32}+x_{33}+x_{34}})  \\to  min \n",
    "\\qquad \n",
    "} $"
   ]
  },
  {
   "cell_type": "markdown",
   "metadata": {},
   "source": [
    "# Zadanie 89 STR 142"
   ]
  },
  {
   "cell_type": "code",
   "execution_count": 4,
   "metadata": {},
   "outputs": [
    {
     "name": "stdout",
     "output_type": "stream",
     "text": [
      "+----------------+----------+----------+\n",
      "| Agregaty typu: | paliwo 1 | paliwo 2 |\n",
      "+----------------+----------+----------+\n",
      "|   Agregat A    |  5 gg/t  |  7 gg/t  |\n",
      "+----------------+----------+----------+\n",
      "|   Agregat B    |  6 gg/t  |  4 gg/t  |\n",
      "+----------------+----------+----------+\n",
      "|   Agregat C    |  3 gg/t  |  5 gg/t  |\n",
      "+----------------+----------+----------+\n",
      "| ograniczenie   | <= 330 t | <= 330 t |\n",
      "+----------------+----------+----------+\n",
      "|  cena paliwa   | 440 zł/t | 650 zł/t |\n",
      "+----------------+----------+----------+\n"
     ]
    }
   ],
   "source": [
    "from beautifultable import BeautifulTable\n",
    "\n",
    "table = BeautifulTable()\n",
    "table.column_headers = [\"Agregaty typu:\", \"paliwo 1\",\"paliwo 2\"]\n",
    "table.append_row([\"Agregat A\", \"5 gg/t\",    \"7 gg/t\"])\n",
    "table.append_row([\"Agregat B\", \"6 gg/t\",    \"4 gg/t\" ])\n",
    "table.append_row([\"Agregat C\", \"3 gg/t\",    \"5 gg/t\" ])\n",
    "table.append_row([\"ograniczenie \", \"<= 330 t\",    \"<= 330 t\" ])\n",
    "table.append_row([\"cena paliwa\", \"440 zł/t\",    \"650 zł/t\"])\n",
    "print(table)"
   ]
  },
  {
   "cell_type": "markdown",
   "metadata": {},
   "source": [
    "<span style=\"font-size: 150%;color:#0000ff\">Krok 1: ZMIENNA DECYZYJNA Czym jest x? </span>\n",
    "\n",
    "Ilość paliwa  - dlaczego? bo jest to zmienna decyzyjna, nie można sterować wydajnością paliwa. Ilość paliwa jest punktem wyjścia do obliczenia kosztów zaakupu paliwa oraz sumy wytworzonej energii elektrycznej. \n",
    "\n",
    "\n",
    "<span style=\"font-size: 150%;color:#0000ff\"> Krok 2: Co jest w tabeli?</span>\n",
    "\n",
    "wydajność paliwa w produkcji energii elektrycznej\n",
    "\n",
    "<span style=\"font-size: 150%;color:#0000ff\"> Krok 3: ograniczenie zmiennych decyzyjnych</span>\n",
    "\n",
    "zmiennymi decyzyjnymi jest tutaj ilość zakupionego paliwa przeznaczonego do różnych agregatów. \n",
    "\n",
    "#### $\n",
    "\\left\\{\n",
    "\\begin{align} \n",
    "{x_{11}+x_{21}+x_{31}} & <= 330 & (1)\\\\\n",
    "{x_{12}+x_{22}+x_{32}} & <= 330 & (2)\\\\\n",
    "\\end{align}\n",
    "\\right. \n",
    "$\n",
    "\n",
    "<span style=\"font-size: 150%;color:#0000ff\"> Krok 4: ograniczenie pośrednie - nie związane bezpośrednio ze zmiennymi decyzyjnymi jaką jest tutaj ilość paliwa, to będzie: ilość energii wytworzonej dzieki Paliwom i agregatom</span>\n",
    "\n",
    "#### $\n",
    "\\left\\{\n",
    "\\begin{align} \n",
    "{5x_{11}+7x_{12}} & \\geqslant 2100 & (3)\\\\\n",
    "{6x_{21}+4x_{22}+3x_{31}+5x_{32}} & \\geqslant 2100 & (4)\\\\\n",
    "\\end{align}\n",
    "\\right. \n",
    "$\n",
    "\n",
    "\n",
    "<span style=\"font-size: 150%;color:#0000ff\"> Krok 5: jaka jest funkcja celu?</span>\n",
    "\n",
    "Zminimalizować koszty zakupu surowca. Jest jedna zmienna decyzyjna x a ilość zużycia surowca jest jej pochodną.\n",
    "\n",
    "$\\bbox[5px,border:1px solid red]\n",
    "{\n",
    "\\\\\n",
    "F(x_{i,j})=440*({x_{11}+x_{21}+x_{31}})+650*({x_{12}+x_{22}+x_{32}})  \\to  min \n",
    "\\qquad \n",
    "} $"
   ]
  },
  {
   "cell_type": "markdown",
   "metadata": {},
   "source": [
    "# Zadanie 90 STR 143"
   ]
  },
  {
   "cell_type": "code",
   "execution_count": null,
   "metadata": {},
   "outputs": [],
   "source": []
  },
  {
   "cell_type": "code",
   "execution_count": 11,
   "metadata": {
    "scrolled": true
   },
   "outputs": [
    {
     "name": "stdout",
     "output_type": "stream",
     "text": [
      "+----------------+---------+---------+---------+--------------+\n",
      "| koparki grupy: | wykop 1 | wykop 2 | wykop 3 | ograniczenia |\n",
      "+----------------+---------+---------+---------+--------------+\n",
      "|   koparki 1    |  0.2 h  |  0.1 h  |  0.4 h  |   <= 240 h   |\n",
      "+----------------+---------+---------+---------+--------------+\n",
      "|   koparki 2    |  0.5 h  |  0.2 h  |  0.3 h  |   <= 120 h   |\n",
      "+----------------+---------+---------+---------+--------------+\n",
      "|   koparki 3    |  0.3 h  |  0.4 h  |  0.3 h  |   <= 180 h   |\n",
      "+----------------+---------+---------+---------+--------------+\n",
      "|   koparki 4    |  0.4 h  |  0.6 h  |  0.2 h  |   <= 180 h   |\n",
      "+----------------+---------+---------+---------+--------------+\n"
     ]
    }
   ],
   "source": [
    "from beautifultable import BeautifulTable\n",
    "\n",
    "table = BeautifulTable()\n",
    "table.column_headers = [\"koparki grupy:\", \"wykop 1\",\"wykop 2\",\"wykop 3\", \"ograniczenia\"]\n",
    "table.append_row([\"koparki 1\", \"0.2 h\",    \"0.1 h\", \"0.4 h\", \"<= 240 h\"])\n",
    "table.append_row([\"koparki 2\", \"0.5 h\",    \"0.2 h\", \"0.3 h\", \"<= 120 h\"])\n",
    "table.append_row([\"koparki 3\", \"0.3 h\",    \"0.4 h\", \"0.3 h\", \"<= 180 h\"])\n",
    "table.append_row([\"koparki 4\", \"0.4 h\",    \"0.6 h\", \"0.2 h\", \"<= 180 h\"])\n",
    "print(table)"
   ]
  },
  {
   "cell_type": "code",
   "execution_count": null,
   "metadata": {},
   "outputs": [],
   "source": []
  },
  {
   "cell_type": "markdown",
   "metadata": {},
   "source": [
    "<span style=\"font-size: 150%;color:#0000ff\">Krok 1: ZMIENNA DECYZYJNA Czym jest x? </span>\n",
    "\n",
    "Ilość metrów   - dlaczego? bo jest to zmienna decyzyjna, nie wiem dlaczego. Ilość metrów jest punktem wyjścia do obliczenia ilości godzin pracy koparek. \n",
    "\n",
    "\n",
    "<span style=\"font-size: 150%;color:#0000ff\"> Krok 2: Co jest w tabeli?</span>\n",
    "\n",
    "zużycie czasu pracy na jeden metr sześcienny\n",
    "\n",
    "<span style=\"font-size: 150%;color:#0000ff\"> Krok 3: ograniczenie zmiennych decyzyjnych</span>\n",
    "\n",
    "zmiennymi decyzyjnymi jest tutaj ilość metrów. \n",
    "\n",
    "#### $\n",
    "\\left\\{\n",
    "\\begin{align} \n",
    "{x_{11}+x_{21}+x_{31}+x_{41}} & >= 0 & (1)\\\\\n",
    "{x_{12}+x_{22}+x_{32}+x_{42}} & >= 0 & (1)\\\\\n",
    "{x_{13}+x_{23}+x_{33}+x_{43}} & >= 0 & (1)\\\\\n",
    "\\end{align}\n",
    "\\right. \n",
    "$\n",
    "\n",
    "<span style=\"font-size: 150%;color:#0000ff\"> Krok 4: ograniczenie pośrednie - nie związane bezpośrednio ze zmiennymi decyzyjnymi jaką jest tutaj ilość metrów, to będzie: ilość czasu pracy na wykopanie metrów</span>\n",
    "\n",
    "#### $\n",
    "\\left\\{\n",
    "\\begin{align} \n",
    "{0.2x_{11}+0.1x_{12}+0.4x_{13}} & \\geqslant 240 & (3)\\\\\n",
    "{0.5x_{21}+0.2x_{22}+0.3x_{23}} & \\geqslant 120 & (4)\\\\\n",
    "{0.3x_{31}+0.4x_{32}+0.3x_{33}} & \\geqslant 180 & (4)\\\\\n",
    "{0.4x_{41}+0.6x_{42}+0.2x_{43}} & \\geqslant 180 & (4)\\\\\n",
    "\\end{align}\n",
    "\\right. \n",
    "$\n",
    "\n",
    "\n",
    "<span style=\"font-size: 150%;color:#0000ff\"> Krok 5: jaka jest funkcja celu?</span>\n",
    "\n",
    "Zmaksymalizować dobową ilość metrów. Jest jedna zmienna decyzyjna x to ilość godzin.\n",
    "\n",
    "$\\bbox[5px,border:1px solid red]\n",
    "{\n",
    "\\\\\n",
    "F(x_{i,j})=({x_{11}+x_{12}+x_{13}})+({x_{21}+x_{22}+x_{23}})+({x_{31}+x_{32}+x_{33}})+({x_{41}+x_{42}+x_{43}})  \\to  max \n",
    "\\qquad \n",
    "} $"
   ]
  },
  {
   "cell_type": "markdown",
   "metadata": {},
   "source": [
    "# Zadanie 91 STR 144"
   ]
  },
  {
   "cell_type": "code",
   "execution_count": 25,
   "metadata": {
    "scrolled": true
   },
   "outputs": [
    {
     "name": "stdout",
     "output_type": "stream",
     "text": [
      "+--------------------+------+--------+--------+--------+--------+--------------+\n",
      "|      wyroby:       | rob. | rob. 2 | rob. 3 | rob. 4 | rob. 5 | Nie może być |\n",
      "|                    |   1  |        |        |        |        |  ujemnych br |\n",
      "|                    |      |        |        |        |        |     aków     |\n",
      "+--------------------+------+--------+--------+--------+--------+--------------+\n",
      "|      wyroby 1      |  30  |   36   |   32   |   26   |   40   |     >= 0     |\n",
      "+--------------------+------+--------+--------+--------+--------+--------------+\n",
      "|      wyroby 2      |  32  |   22   |   x    |   30   |   35   |     >= 0     |\n",
      "+--------------------+------+--------+--------+--------+--------+--------------+\n",
      "|      wyroby 3      |  18  |   26   |   24   |   16   |   20   |     >= 0     |\n",
      "+--------------------+------+--------+--------+--------+--------+--------------+\n",
      "|      wyroby 4      |  37  |   30   |   28   |   16   |   19   |     >= 0     |\n",
      "+--------------------+------+--------+--------+--------+--------+--------------+\n",
      "| każdy robotnik mus | 37 b |   =1   |   =1   |   =1   |   =1   |              |\n",
      "| i wykonać jedną pr | rakó |        |        |        |        |              |\n",
      "|        acę         |  w   |        |        |        |        |              |\n",
      "+--------------------+------+--------+--------+--------+--------+--------------+\n"
     ]
    }
   ],
   "source": [
    "from beautifultable import BeautifulTable\n",
    "\n",
    "table = BeautifulTable()\n",
    "table.column_headers = [\"wyroby:\", \"rob. 1\",\"rob. 2\",\"rob. 3\", \"rob. 4\",\"rob. 5\",\"Nie może być ujemnych braków\"]\n",
    "table.append_row([\"wyroby 1\", \"30\",    \"36\", \"32\",\"26\",\"40\", \">= 0\"])\n",
    "table.append_row([\"wyroby 2\", \"32\",    \"22\", \"x \",\"30\",\"35\", \">= 0\"])\n",
    "table.append_row([\"wyroby 3\", \"18\",    \"26\", \"24\",\"16\", \"20\",\">= 0\"])\n",
    "table.append_row([\"wyroby 4\", \"37\",    \"30\", \"28\",\"16\",\"19\", \">= 0\"])\n",
    "table.append_row([\"każdy robotnik musi wykonać jedną pracę\", \"37 braków\",    \"=1\", \"=1\",\"=1\",\"=1\", \"\"])\n",
    "print(table)"
   ]
  },
  {
   "cell_type": "markdown",
   "metadata": {},
   "source": [
    "<span style=\"font-size: 150%;color:#0000ff\">Krok 1: ZMIENNA DECYZYJNA Czym jest x? </span>\n",
    "\n",
    "zero-jeden   - dlaczego? bo jest to zmienna decyzyjna, to jest przydział. jeden - przydzielamy kogoś, zero nie przydzielamy kogoś. \n",
    "\n",
    "\n",
    "<span style=\"font-size: 150%;color:#0000ff\"> Krok 2: Co jest w tabeli?</span>\n",
    "\n",
    "ilość braków na osobę i detal\n",
    "\n",
    "<span style=\"font-size: 150%;color:#0000ff\"> Krok 3: ograniczenie zmiennych decyzyjnych</span>\n",
    "\n",
    "zmiennymi decyzyjnymi jest tutaj przydział, liczba 1 lub 0. Każdy pracownik ma wykonac jedną pracę!\n",
    "\n",
    "### Dodajemy do platformy główne warunki brzegowe\n",
    "\n",
    "###### Każdy pracownik ma dostać tylko jedną robotę\n",
    "\n",
    "#### $\n",
    "\\left\\{\n",
    "\\begin{align} \n",
    "{x_{11}+x_{21}+x_{31}+x_{41}} & = 1 & (1)\\\\\n",
    "{x_{12}+x_{22}+x_{32}+x_{42}} & = 1 & (2)\\\\\n",
    "{x_{13}+      +x_{33}+x_{43}} & = 1 & (3)\\\\\n",
    "{x_{14}+x_{24}+x_{33}+x_{44}} & = 1 & (4)\\\\\n",
    "{x_{15}+x_{25}+x_{35}+x_{45}} & = 1 & (5)\\\\\n",
    "\\end{align}\n",
    "\\right. \n",
    "$\n",
    "\n",
    "###### Każdy robota ma dostać jednego pracownika, każda ma być też wykonana raz\n",
    "\n",
    "#### $\n",
    "\\left\\{\n",
    "\\begin{align} \n",
    "{x_{11}+x_{12}+x_{13}+x_{14}+x_{15}} & = 1 & (1)\\\\\n",
    "{x_{21}+x_{22}+x_{23}+x_{24}+x_{25}} & = 1 & (2)\\\\\n",
    "{x_{31}+x_{32}+x_{33}+x_{34}+x_{35}} & = 1 & (3)\\\\\n",
    "{x_{41}+x_{42}+x_{43}+x_{44}+x_{45}} & = 1 & (4)\\\\\n",
    "\\end{align}\n",
    "\\right. \n",
    "$\n",
    "\n",
    "\n",
    "\n",
    "<span style=\"font-size: 150%;color:#0000ff\"> Krok 4: ograniczenie pośrednie - nie związane bezpośrednio ze zmiennymi decyzyjnymi jaką jest przydział, to będzie:przydział razy ilość braków</span>\n",
    "\n",
    "\n",
    "\n",
    "<span style=\"font-size: 150%;color:#0000ff\"> Krok 5: jaka jest funkcja celu?</span>\n",
    "\n",
    "Zmaksymalizować ilość braków.\n",
    "\n",
    "$\\bbox[5px,border:1px solid red]\n",
    "{\n",
    "\\\\\n",
    "F(x_{i,j})=30*x_{11}+36*x_{12}+32*x_{13}+26*x_{14}+40*x_{15}+32*x_{21}+22*x_{22}+30*x_{24}+35*x_{25}+18*x_{31}+26*x_{32}+24*x_{33}+16*x_{34}+20*x_{35}+37*x_{41}+30*x_{42}+28*x_{43}+16*x_{44}+19*x_{45}  \\to  min\n",
    "\\qquad \n",
    "} $"
   ]
  },
  {
   "cell_type": "markdown",
   "metadata": {},
   "source": [
    "# Zadanie 92 STR 144"
   ]
  },
  {
   "cell_type": "code",
   "execution_count": 28,
   "metadata": {
    "scrolled": false
   },
   "outputs": [
    {
     "name": "stdout",
     "output_type": "stream",
     "text": [
      "+---------------------+------------+------------+------------+\n",
      "| oferty pracowników: |    Ford    |  Mercedes  |  Polonez   |\n",
      "+---------------------+------------+------------+------------+\n",
      "|     Pracownik A     | 19 tys. zł | 35 tys. zł | 15 tys. zł |\n",
      "+---------------------+------------+------------+------------+\n",
      "|     Pracownik B     | 21 tys. zł | 39 tys. zł | 12 tys. zł |\n",
      "+---------------------+------------+------------+------------+\n",
      "|     Pracownik C     | 18 tys. zł | 40 tys. zł | 14 tys. zł |\n",
      "+---------------------+------------+------------+------------+\n",
      "|     Pracownik D     | 20 tys. zł | 26 tys. zł | 16 tys. zł |\n",
      "+---------------------+------------+------------+------------+\n"
     ]
    }
   ],
   "source": [
    "from beautifultable import BeautifulTable\n",
    "\n",
    "table = BeautifulTable()\n",
    "table.column_headers = [\"oferty pracowników:\", \"Ford\",\"Mercedes\",\"Polonez\"]\n",
    "table.append_row([\"Pracownik A\", \"19 tys. zł\",    \"35 tys. zł\", \"15 tys. zł\"])\n",
    "table.append_row([\"Pracownik B\", \"21 tys. zł\",    \"39 tys. zł\", \"12 tys. zł\"])\n",
    "table.append_row([\"Pracownik C\", \"18 tys. zł\",    \"40 tys. zł\", \"14 tys. zł\"])\n",
    "table.append_row([\"Pracownik D\", \"20 tys. zł\",    \"26 tys. zł\", \"16 tys. zł\"])\n",
    "print(table)"
   ]
  },
  {
   "cell_type": "markdown",
   "metadata": {},
   "source": [
    "## <span style=\"font-size: 150%;color:#0000ff\">Krok 1: ZMIENNA DECYZYJNA Czym jest x? </span>\n",
    "\n",
    "zero-jeden   - dlaczego? bo jest to zmienna decyzyjna, to jest przydział. jeden - ktoś kupuje, zero ktoś nie kupuje. Pronlrm jest, że czterech gości chce kupić samochody a samochodów jest 3 więc powinnismy utworzyc jeden samochód fantomowy (sztuczny). Jego wybór bedzie ioznaczał że ktoś nie kupił samochodu.\n",
    "\n",
    "\n",
    "<span style=\"font-size: 150%;color:#0000ff\"> Krok 2: Co jest w tabeli?</span>\n",
    "\n",
    "ceny samochodów\n",
    "\n",
    "<span style=\"font-size: 150%;color:#0000ff\"> Krok 3: ograniczenie zmiennych decyzyjnych</span>\n",
    "\n",
    "\n",
    "zmiennymi decyzyjnymi jest tutaj przydział, liczba 1 lub 0. Każdy pracownik ma kupić maksymalnie 1 samochód!\n",
    "Pracownik nie może kupić ujemną liczbę samochodów.\n",
    "\n",
    "TWORZONY JEST JEDEN WIĘCEJ SAMOCHÓD FANTOMOWY\n",
    "\n",
    "#### $\n",
    "\\left\\{\n",
    "\\begin{align} \n",
    "{x_{11}+x_{12}+x_{13}+x_{14}} & = 1 & (1)\\\\\n",
    "{x_{21}+x_{22}+x_{23}+x_{24}} & = 1 & (2)\\\\\n",
    "{x_{31}+x_{32}+x_{33}+x_{34}} & = 1 & (3)\\\\\n",
    "{x_{41}+x_{42}+x_{43}+x_{44}} & = 1 & (4)\\\\\n",
    "\\end{align}\n",
    "\\right. \n",
    "$\n",
    "\n",
    "<span style=\"font-size: 150%;color:#0000ff\"> Krok 4: ograniczenie pośrednie - każda robota może być przydzielona tylko raz </span>\n",
    "#### $\n",
    "\\left\\{\n",
    "\\begin{align} \n",
    "{x_{11}+x_{21}+x_{31}+x_{41}} & = 1 \\\\\n",
    "{x_{12}+x_{22}+x_{32}+x_{42}} & = 1 \\\\\n",
    "{x_{13}+x_{23}+x_{33}+x_{43}} & = 1 \\\\\n",
    "{x_{14}+x_{24}+x_{34}+x_{44}} & = 1 \\\\\n",
    "\\end{align}\n",
    "\\right. \n",
    "$\n",
    "\n",
    "\n",
    "<span style=\"font-size: 150%;color:#0000ff\"> Krok 5: jaka jest funkcja celu?</span>\n",
    "\n",
    "Zmaksymalizować efektywność pracy.\n",
    "\n",
    "$\\bbox[5px,border:1px solid red]\n",
    "{\n",
    "\\\\\n",
    "F(x_{i,j})\\\\=80x_{11}+105x_{12}+79x_{13}+0x_{14}\\\\+109x_{21}+90x_{23}+0x_{24}\\\\+100x_{31}+97x_{32}+0x_{34}\\\\+95x_{41}+80x_{42}+85x_{43}+0x_{44}  \\to  max\n",
    "\\qquad \n",
    "} $"
   ]
  },
  {
   "cell_type": "markdown",
   "metadata": {},
   "source": [
    "# Zadanie 93 STR 145"
   ]
  },
  {
   "cell_type": "code",
   "execution_count": 3,
   "metadata": {},
   "outputs": [
    {
     "name": "stdout",
     "output_type": "stream",
     "text": [
      "+---------------+-----------+-----------+--------+\n",
      "| Maszynistka:  | Angielski | Niemiecki | Włoski |\n",
      "+---------------+-----------+-----------+--------+\n",
      "| Maszynistka A |    80     |    105    |   79   |\n",
      "+---------------+-----------+-----------+--------+\n",
      "| Maszynistka B |    109    |     x     |   90   |\n",
      "+---------------+-----------+-----------+--------+\n",
      "| Maszynistka C |    109    |    97     |   x    |\n",
      "+---------------+-----------+-----------+--------+\n",
      "| Maszynistka D |    95     |    80     |   85   |\n",
      "+---------------+-----------+-----------+--------+\n"
     ]
    }
   ],
   "source": [
    "from beautifultable import BeautifulTable\n",
    "\n",
    "table = BeautifulTable()\n",
    "table.column_headers = [\"Maszynistka:\", \"Angielski\",\"Niemiecki\",\"Włoski\"]\n",
    "table.append_row([\"Maszynistka A\",  80,  105, 79])\n",
    "table.append_row([\"Maszynistka B\", 109,  \"x\", 90])\n",
    "table.append_row([\"Maszynistka C\", 109,   97, \"x\"])\n",
    "table.append_row([\"Maszynistka D\",  95,   80, 85])\n",
    "print(table)"
   ]
  },
  {
   "cell_type": "markdown",
   "metadata": {
    "scrolled": false
   },
   "source": [
    "\n",
    "# <span style=\"font-size: 150%;color:#0000ff\">Krok 1: ZMIENNA DECYZYJNA Czym jest x? </span>\n",
    "\n",
    "zero-jeden   - dlaczego? bo jest to zmienna decyzyjna, to jest przydział. jeden - ktoś dostaje przydział, \n",
    "zero ktoś nie dostaje przydziału do tej konkretnej roboty. \n",
    "Ponadto są czetry maszynistki.Jedna nie dostanie przydziału do pracy - trzeba utworzyć pracę fantomową.\n",
    "\n",
    "\n",
    "<span style=\"font-size: 150%;color:#0000ff\"> Krok 2: Co jest w tabeli?</span>\n",
    "\n",
    "Szybkość pisanych slów na minutę - to kryterium jakości kwalifikacji, czym, więcej tym lepiej.\n",
    "\n",
    "<span style=\"font-size: 150%;color:#0000ff\"> Krok 3: ograniczenie zmiennych decyzyjnych</span>\n",
    "\n",
    "\n",
    "zmiennymi decyzyjnymi jest tutaj przydział, liczba 1 lub 0. Każdy pracownik ma dostać jedną pracę!\n",
    "Pracownik nie może dostać ujemnej liczby prac.\n",
    "\n",
    "TWORZONA JEST JEDNA WIĘCEJ PRACA FANTOMOWA\n",
    "\n",
    "#### $\n",
    "\\left\\{\n",
    "\\begin{align} \n",
    "{x_{11}+x_{12}+x_{13}+x_{14}} & = 1 & (1)\\\\\n",
    "{x_{21}+x_{22}+x_{23}+x_{24}} & = 1 & (2)\\\\\n",
    "{x_{31}+x_{32}+x_{33}+x_{34}} & = 1 & (3)\\\\\n",
    "{x_{41}+x_{42}+x_{43}+x_{44}} & = 1 & (4)\\\\\n",
    "\\end{align}\n",
    "\\right. \n",
    "$\n",
    "\n",
    "<span style=\"font-size: 150%;color:#0000ff\"> Krok 4: ograniczenie pośrednie - każda robota może być przydzielona tylko raz </span>\n",
    "#### $\n",
    "\\left\\{\n",
    "\\begin{align} \n",
    "{x_{11}+x_{21}+x_{31}+x_{41}} & = 1 \\\\\n",
    "{x_{12}+x_{22}+x_{32}+x_{42}} & = 1 \\\\\n",
    "{x_{13}+x_{23}+x_{33}+x_{43}} & = 1 \\\\\n",
    "{x_{14}+x_{24}+x_{34}+x_{44}} & = 1 \\\\\n",
    "\\end{align}\n",
    "\\right. \n",
    "$\n",
    "\n",
    "\n",
    "<span style=\"font-size: 150%;color:#0000ff\"> Krok 5: jaka jest funkcja celu?</span>\n",
    "\n",
    "Zmaksymalizować efektywność pracy.\n",
    "\n",
    "$\\bbox[5px,border:1px solid red]\n",
    "{\n",
    "\\\\\n",
    "F(x_{i,j})\\\\=80x_{11}+105x_{12}+79x_{13}+0x_{14}\\\\+109x_{21}+90x_{23}+0x_{24}\\\\+100x_{31}+97x_{32}+0x_{34}\\\\+95x_{41}+80x_{42}+85x_{43}+0x_{44}  \\to  max\n",
    "\\qquad \n",
    "} $"
   ]
  },
  {
   "cell_type": "markdown",
   "metadata": {},
   "source": [
    "# Zadanie 94 STR 145"
   ]
  },
  {
   "cell_type": "code",
   "execution_count": 9,
   "metadata": {},
   "outputs": [
    {
     "name": "stdout",
     "output_type": "stream",
     "text": [
      "+----------+------------+---------+---------+---------+---------+--------------+\n",
      "| Technicy | Projekt 1  | Projekt | Projekt | Projekt | Projekt |  Brak projek |\n",
      "|    :     |            |    2    |    3    |    4    |    5    |      tu      |\n",
      "+----------+------------+---------+---------+---------+---------+--------------+\n",
      "| Technik  |    180     |   160   |   240   |   300   |   300   |      0       |\n",
      "|    A     |            |         |         |         |         |              |\n",
      "+----------+------------+---------+---------+---------+---------+--------------+\n",
      "| Technik  |    190     |   150   |   250   |   320   |   170   |      0       |\n",
      "|    B     |            |         |         |         |         |              |\n",
      "+----------+------------+---------+---------+---------+---------+--------------+\n",
      "| Technik  |    150     |   170   |   230   |   340   |   140   |      0       |\n",
      "|    C     |            |         |         |         |         |              |\n",
      "+----------+------------+---------+---------+---------+---------+--------------+\n",
      "| Technik  |    170     |   200   |   210   |   310   |   190   |      0       |\n",
      "|    D     |            |         |         |         |         |              |\n",
      "+----------+------------+---------+---------+---------+---------+--------------+\n",
      "| Technik  |    220     |   190   |   260   |   330   |   160   |      0       |\n",
      "|    E     |            |         |         |         |         |              |\n",
      "+----------+------------+---------+---------+---------+---------+--------------+\n",
      "| Technik  |    190     |   180   |   300   |   310   |   210   |      0       |\n",
      "|    F     |            |         |         |         |         |              |\n",
      "+----------+------------+---------+---------+---------+---------+--------------+\n"
     ]
    }
   ],
   "source": [
    "from beautifultable import BeautifulTable\n",
    "\n",
    "table = BeautifulTable()\n",
    "table.column_headers = [\"Technicy:\", \"Projekt 1\",\"Projekt 2\",\"Projekt 3\", \"Projekt 4\", \"Projekt 5\", \" Brak projektu\"]\n",
    "table.append_row([\"Technik A\", 180,  160, 240, 300, 300, 0])\n",
    "table.append_row([\"Technik B\", 190,  150, 250, 320, 170, 0])\n",
    "table.append_row([\"Technik C\", 150,  170, 230, 340, 140, 0])\n",
    "table.append_row([\"Technik D\", 170,  200, 210, 310, 190, 0])\n",
    "table.append_row([\"Technik E\", 220,  190, 260, 330, 160, 0])\n",
    "table.append_row([\"Technik F\", 190,  180, 300, 310, 210, 0])\n",
    "print(table)"
   ]
  },
  {
   "cell_type": "markdown",
   "metadata": {
    "scrolled": false
   },
   "source": [
    "\n",
    "# <span style=\"font-size: 150%;color:#0000ff\">Krok 1: ZMIENNA DECYZYJNA Czym jest x? </span>\n",
    "\n",
    "zero-jeden   - dlaczego? bo jest to zmienna decyzyjna, to jest przydział. jeden - ktoś dostaje przydział, \n",
    "zero ktoś nie dostaje przydziału do tej konkretnej roboty. \n",
    "Ponadto są czetry maszynistki.Jedna nie dostanie przydziału do pracy - trzeba utworzyć pracę fantomową.\n",
    "\n",
    "\n",
    "<span style=\"font-size: 150%;color:#0000ff\"> Krok 2: Co jest w tabeli?</span>\n",
    "\n",
    "Szybkość pisanych slów na minutę - to kryterium jakości kwalifikacji, czym, więcej tym lepiej.\n",
    "\n",
    "<span style=\"font-size: 150%;color:#0000ff\"> Krok 3: ograniczenie zmiennych decyzyjnych</span>\n",
    "\n",
    "\n",
    "zmiennymi decyzyjnymi jest tutaj przydział, liczba 1 lub 0. Każdy pracownik ma dostać jedną pracę!\n",
    "Pracownik nie może dostać ujemnej liczby prac.\n",
    "\n",
    "TWORZONA JEST JEDNA WIĘCEJ PRACA FANTOMOWA\n",
    "\n",
    "#### $\n",
    "\\left\\{\n",
    "\\begin{align} \n",
    "{x_{11}+x_{12}+x_{13}+x_{14}} & = 1 & (1)\\\\\n",
    "{x_{21}+x_{22}+x_{23}+x_{24}} & = 1 & (2)\\\\\n",
    "{x_{31}+x_{32}+x_{33}+x_{34}} & = 1 & (3)\\\\\n",
    "{x_{41}+x_{42}+x_{43}+x_{44}} & = 1 & (4)\\\\\n",
    "\\end{align}\n",
    "\\right. \n",
    "$\n",
    "\n",
    "<span style=\"font-size: 150%;color:#0000ff\"> Krok 4: ograniczenie pośrednie - każda robota może być przydzielona tylko raz </span>\n",
    "#### $\n",
    "\\left\\{\n",
    "\\begin{align} \n",
    "{x_{11}+x_{21}+x_{31}+x_{41}} & = 1 \\\\\n",
    "{x_{12}+x_{22}+x_{32}+x_{42}} & = 1 \\\\\n",
    "{x_{13}+x_{23}+x_{33}+x_{43}} & = 1 \\\\\n",
    "{x_{14}+x_{24}+x_{34}+x_{44}} & = 1 \\\\\n",
    "\\end{align}\n",
    "\\right. \n",
    "$\n",
    "\n",
    "\n",
    "<span style=\"font-size: 150%;color:#0000ff\"> Krok 5: jaka jest funkcja celu?</span>\n",
    "\n",
    "Zmaksymalizować efektywność pracy.\n",
    "\n",
    "$\\bbox[5px,border:1px solid red]\n",
    "{\n",
    "\\\\\n",
    "F(x_{i,j})\\\\=180x_{11}+105x_{12}+79x_{13}+0x_{14}\\\\+109x_{21}+90x_{23}+0x_{24}\\\\+100x_{31}+97x_{32}+0x_{34}\\\\+95x_{41}+80x_{42}+85x_{43}+0x_{44}  \\to  max\n",
    "\\qquad \n",
    "} $"
   ]
  },
  {
   "cell_type": "markdown",
   "metadata": {},
   "source": [
    "25 minut"
   ]
  },
  {
   "cell_type": "code",
   "execution_count": null,
   "metadata": {},
   "outputs": [],
   "source": []
  },
  {
   "cell_type": "code",
   "execution_count": null,
   "metadata": {},
   "outputs": [],
   "source": []
  }
 ],
 "metadata": {
  "kernelspec": {
   "display_name": "Python 3",
   "language": "python",
   "name": "python3"
  },
  "language_info": {
   "codemirror_mode": {
    "name": "ipython",
    "version": 3
   },
   "file_extension": ".py",
   "mimetype": "text/x-python",
   "name": "python",
   "nbconvert_exporter": "python",
   "pygments_lexer": "ipython3",
   "version": "3.7.4"
  }
 },
 "nbformat": 4,
 "nbformat_minor": 2
}
