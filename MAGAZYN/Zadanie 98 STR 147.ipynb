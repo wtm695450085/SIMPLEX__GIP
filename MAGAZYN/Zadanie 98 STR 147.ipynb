{
 "cells": [
  {
   "cell_type": "markdown",
   "metadata": {},
   "source": [
    "<span style=\"font-size: 290%;color:#434343;background:#efefef\"> Problem przydziału #2"
   ]
  },
  {
   "cell_type": "markdown",
   "metadata": {},
   "source": [
    "<span style=\"font-size: 150%;color:white;background:#1155cc\"> Zadanie 98 STR 147"
   ]
  },
  {
   "cell_type": "code",
   "execution_count": 4,
   "metadata": {},
   "outputs": [
    {
     "name": "stdout",
     "output_type": "stream",
     "text": [
      "Wydajność maszyn szt/h\n",
      "+-----------+---------+---------+---------+-------------+\n",
      "| maszyny:  | detal_1 | detal_2 | detal_3 | brak roboty |\n",
      "+-----------+---------+---------+---------+-------------+\n",
      "| maszyna 1 |   15    |    4    |    5    |      2      |\n",
      "+-----------+---------+---------+---------+-------------+\n",
      "| maszyna 2 |    3    |    6    |    3    |     10      |\n",
      "+-----------+---------+---------+---------+-------------+\n",
      "| maszyna 3 |   12    |    4    |    6    |      3      |\n",
      "+-----------+---------+---------+---------+-------------+\n",
      "| maszyna 4 |    0    |    0    |    0    |      0      |\n",
      "+-----------+---------+---------+---------+-------------+\n",
      "\n",
      "Koszt produkcji 1 szt/zł\n",
      "+-----------+---------+---------+---------+-------------+\n",
      "| maszyny:  | detal_1 | detal_2 | detal_3 | brak roboty |\n",
      "+-----------+---------+---------+---------+-------------+\n",
      "| maszyna 1 |   80    |   60    |   10    |     40      |\n",
      "+-----------+---------+---------+---------+-------------+\n",
      "| maszyna 2 |   20    |   30    |   50    |     40      |\n",
      "+-----------+---------+---------+---------+-------------+\n",
      "| maszyna 3 |   30    |   20    |    6    |     10      |\n",
      "+-----------+---------+---------+---------+-------------+\n",
      "| maszyna 4 |    0    |    0    |    0    |      0      |\n",
      "+-----------+---------+---------+---------+-------------+\n"
     ]
    }
   ],
   "source": [
    "from beautifultable import BeautifulTable\n",
    "print('Wydajność maszyn szt/h')\n",
    "table = BeautifulTable()\n",
    "table.column_headers = [\"maszyny:\", \"detal_1\",\"detal_2\",\"detal_3\",\"brak roboty\"]\n",
    "table.append_row([\"maszyna 1\", 15,   4,  5,  2])\n",
    "table.append_row([\"maszyna 2\",  3,   6,  3, 10])\n",
    "table.append_row([\"maszyna 3\", 12,   4,  6,  3])\n",
    "table.append_row([\"maszyna 4\",  0,   0,  0,  0])\n",
    "print(table)\n",
    "print()\n",
    "print('Koszt produkcji 1 szt/zł')\n",
    "table = BeautifulTable()\n",
    "table.column_headers = [\"maszyny:\", \"detal_1\",\"detal_2\",\"detal_3\",\"brak roboty\"]\n",
    "table.append_row([\"maszyna 1\", 80,   60,  10,  40])\n",
    "table.append_row([\"maszyna 2\", 20,   30,  50,  40])\n",
    "table.append_row([\"maszyna 3\", 30,   20,   6,  10])\n",
    "table.append_row([\"maszyna 4\",  0,    0,   0,   0])\n",
    "print(table)\n",
    "\n"
   ]
  },
  {
   "cell_type": "markdown",
   "metadata": {
    "scrolled": false
   },
   "source": [
    "<span style=\"font-size: 250%;color:white;background:#ff9900\">część 98/A</span>\n",
    "\n",
    "<span style=\"font-size: 150%;color:#0000ff\">Krok 1: ZMIENNA DECYZYJNA Czym jest x? </span>\n",
    "\n",
    "zero-jeden   - dlaczego? bo jest to zmienna decyzyjna, to jest przydział. jeden - maszyna wykonuje detal, \n",
    "zero maszyna nie wykonuje detalu. \n",
    "\n",
    "<span style=\"font-size: 130%;color:#0000ff\"> Krok 2: Co jest w tabeli?</span>\n",
    "\n",
    "Ile sztuk na godzinę wyprodukuje poszczególna maszyna.\n",
    "\n",
    "<span style=\"font-size: 130%;color:#0000ff\"> Krok 3: ograniczenie zmiennych decyzyjnych</span>\n",
    "\n",
    "\n",
    "zmiennymi decyzyjnymi jest tutaj przydział, liczba 1 lub 0. Każda maszyna może produkować tylko jeden detal.\n",
    "\n",
    "#### $\n",
    "\\left\\{\n",
    "\\begin{align} \n",
    "{x_{11}+x_{12}+x_{13}+x_{14}} & = 1 & (maszyna-1)\\\\\n",
    "{x_{21}+x_{22}+x_{23}+x_{24}} & = 1 & (maszyna-2)\\\\\n",
    "{x_{31}+x_{32}+x_{33}+x_{34}} & = 1 & (maszyna-3)\\\\\n",
    "{x_{41}+x_{42}+x_{43}+x_{44}} & = 1 & (maszyna-4)\\\\\n",
    "\\end{align}\n",
    "\\right. \n",
    "$\n",
    "\n",
    "<span style=\"font-size: 130%;color:#0000ff\"> Krok 4: ograniczenie pośrednie - każdy detal może być produkowany  tylko raz </span>\n",
    "#### $\n",
    "\\left\\{\n",
    "\\begin{align} \n",
    "{x_{11}+x_{21}+x_{31}+x_{41}} & = 1 & (detal-1)\\\\\n",
    "{x_{12}+x_{22}+x_{32}+x_{42}} & = 1 & (detal-2)\\\\\n",
    "{x_{13}+x_{23}+x_{33}+x_{43}} & = 1 & (detal-3)\\\\\n",
    "{x_{14}+x_{24}+x_{34}+x_{44}} & = 1 & (detal-4)\\\\\n",
    "\\end{align}\n",
    "\\right. \n",
    "$\n",
    "\n",
    "\n",
    "<span style=\"font-size: 130%;color:#0000ff\"> Krok 5: jaka jest funkcja celu?</span>\n",
    "\n",
    "Zmaksymalizować łaczną wielkość produkcji\n",
    "\n",
    "$\\bbox[5px,border:1px solid red]\n",
    "{\n",
    "\\\\\n",
    "F(x_{i,j})\\\\\n",
    "=15x_{11}+ 4x_{12}+ 5x_{13}+ 2x_{14}\\\\\n",
    "+ 3x_{21}+ 6x_{23}+ 3x_{24}+10x_{24}\\\\\n",
    "+12x_{31}+ 4x_{32}+ 6x_{33}+ 3x_{34}\\\\\n",
    "+ 0x_{41}+ 0x_{42}+ 0x_{43}+ 0x_{44}\\\\\n",
    "\\to  max\n",
    "\\qquad \n",
    "} $"
   ]
  },
  {
   "cell_type": "markdown",
   "metadata": {},
   "source": [
    "<span style=\"font-size: 150%;color:white;background:#bf9000\">METODA ZWYKŁA rozwiązania tego zadania"
   ]
  },
  {
   "cell_type": "code",
   "execution_count": 5,
   "metadata": {},
   "outputs": [],
   "source": [
    "from pulp import *\n",
    "from fractions import Fraction\n",
    "\n",
    "# zdefiniowanie problemu- to jest taka platforma do wrzucania na nia wszystkiego\n",
    "\n",
    "prob = LpProblem(\"Przykład_98_STR_147\",LpMaximize)"
   ]
  },
  {
   "cell_type": "markdown",
   "metadata": {},
   "source": [
    "Wstawianie pierwszych warunków ograniczających: ograniczeniami nieujemności\n",
    "\n",
    "#### $\n",
    "\\left\\{\n",
    "\\begin{align} \n",
    "{x_{11}} & \\geqslant 0 & (4)\\\\\n",
    "{x_{12}} & \\geqslant 0 & (5)\\\\\n",
    "{x_{13}} & \\geqslant 0 & (5)\\\\\n",
    "{x_{14}} & \\geqslant 0 & (5)\\\\\n",
    "{x_{15}} & \\geqslant 0 & (5)\\\\\n",
    "{x_{16}} & \\geqslant 0 & (5)\\\\\n",
    "{x_{21}} & \\geqslant 0 & (5)\\\\\n",
    "{x_{22}} & \\geqslant 0 & (5)\\\\\n",
    "{x_{23}} & \\geqslant 0 & (5)\\\\\n",
    "{x_{24}} & \\geqslant 0 & (5)\\\\\n",
    "{x_{25}} & \\geqslant 0 & (5)\\\\\n",
    "{x_{26}} & \\geqslant 0 & (5)\\\\\n",
    "{x_{31}} & \\geqslant 0 & (5)\\\\\n",
    "{x_{32}} & \\geqslant 0 & (5)\\\\\n",
    "{x_{33}} & \\geqslant 0 & (5)\\\\\n",
    "{x_{34}} & \\geqslant 0 & (5)\\\\\n",
    "{x_{35}} & \\geqslant 0 & (5)\\\\\n",
    "{x_{36}} & \\geqslant 0 & (5)\\\\\n",
    "{x_{41}} & \\geqslant 0 & (5)\\\\\n",
    "{x_{42}} & \\geqslant 0 & (5)\\\\\n",
    "{x_{43}} & \\geqslant 0 & (5)\\\\\n",
    "{x_{44}} & \\geqslant 0 & (5)\\\\\n",
    "{x_{45}} & \\geqslant 0 & (5)\\\\\n",
    "{x_{46}} & \\geqslant 0 & (5)\\\\\n",
    "{x_{51}} & \\geqslant 0 & (5)\\\\\n",
    "{x_{52}} & \\geqslant 0 & (5)\\\\\n",
    "{x_{53}} & \\geqslant 0 & (5)\\\\\n",
    "{x_{54}} & \\geqslant 0 & (5)\\\\\n",
    "{x_{55}} & \\geqslant 0 & (5)\\\\\n",
    "{x_{56}} & \\geqslant 0 & (5)\\\\\n",
    "{x_{61}} & \\geqslant 0 & (5)\\\\\n",
    "{x_{62}} & \\geqslant 0 & (5)\\\\\n",
    "{x_{63}} & \\geqslant 0 & (5)\\\\\n",
    "{x_{64}} & \\geqslant 0 & (5)\\\\\n",
    "{x_{65}} & \\geqslant 0 & (5)\\\\\n",
    "{x_{66}} & \\geqslant 0 & (5)\\\\\n",
    "\\end{align}\n",
    "\\right. \n",
    "$"
   ]
  },
  {
   "cell_type": "markdown",
   "metadata": {},
   "source": [
    "<span style=\"font-size: 150%;color:white;background:#bf9000\">METODA ZWYKŁA rozwiązania tego zadania"
   ]
  },
  {
   "cell_type": "code",
   "execution_count": 6,
   "metadata": {},
   "outputs": [],
   "source": [
    "# \"Continuous\"\n",
    "# \"Integer\"\n",
    "\n",
    "x11=LpVariable(\"x11\",lowBound=0,upBound=None, cat=\"Integer\")\n",
    "x12=LpVariable(\"x12\",lowBound=0,upBound=None, cat=\"Integer\")\n",
    "x13=LpVariable(\"x13\",lowBound=0,upBound=None, cat=\"Integer\")\n",
    "x14=LpVariable(\"x14\",lowBound=0,upBound=None, cat=\"Integer\")\n",
    "x15=LpVariable(\"x15\",lowBound=0,upBound=None, cat=\"Integer\")\n",
    "x16=LpVariable(\"x16\",lowBound=0,upBound=None, cat=\"Integer\")\n",
    "\n",
    "x21=LpVariable(\"x21\",lowBound=0,upBound=None, cat=\"Integer\")\n",
    "x22=LpVariable(\"x22\",lowBound=0,upBound=None, cat=\"Integer\")\n",
    "x23=LpVariable(\"x23\",lowBound=0,upBound=None, cat=\"Integer\")\n",
    "x24=LpVariable(\"x24\",lowBound=0,upBound=None, cat=\"Integer\")\n",
    "x25=LpVariable(\"x25\",lowBound=0,upBound=None, cat=\"Integer\")\n",
    "x26=LpVariable(\"x26\",lowBound=0,upBound=None, cat=\"Integer\")\n",
    "\n",
    "x31=LpVariable(\"x31\",lowBound=0,upBound=None, cat=\"Integer\")\n",
    "x32=LpVariable(\"x32\",lowBound=0,upBound=None, cat=\"Integer\")\n",
    "x33=LpVariable(\"x33\",lowBound=0,upBound=None, cat=\"Integer\")\n",
    "x34=LpVariable(\"x34\",lowBound=0,upBound=None, cat=\"Integer\") \n",
    "x35=LpVariable(\"x35\",lowBound=0,upBound=None, cat=\"Integer\")\n",
    "x36=LpVariable(\"x36\",lowBound=0,upBound=None, cat=\"Integer\") \n",
    "\n",
    "x41=LpVariable(\"x41\",lowBound=0,upBound=None, cat=\"Integer\")  \n",
    "x42=LpVariable(\"x42\",lowBound=0,upBound=None, cat=\"Integer\")  \n",
    "x43=LpVariable(\"x43\",lowBound=0,upBound=None, cat=\"Integer\")  \n",
    "x44=LpVariable(\"x44\",lowBound=0,upBound=None, cat=\"Integer\")  \n",
    "x45=LpVariable(\"x45\",lowBound=0,upBound=None, cat=\"Integer\")  \n",
    "x46=LpVariable(\"x46\",lowBound=0,upBound=None, cat=\"Integer\")  \n",
    "\n",
    "x51=LpVariable(\"x51\",lowBound=0,upBound=None, cat=\"Integer\")  \n",
    "x52=LpVariable(\"x52\",lowBound=0,upBound=None, cat=\"Integer\")  \n",
    "x53=LpVariable(\"x53\",lowBound=0,upBound=None, cat=\"Integer\")  \n",
    "x54=LpVariable(\"x54\",lowBound=0,upBound=None, cat=\"Integer\")  \n",
    "x55=LpVariable(\"x55\",lowBound=0,upBound=None, cat=\"Integer\")  \n",
    "x56=LpVariable(\"x56\",lowBound=0,upBound=None, cat=\"Integer\") \n",
    "\n",
    "x61=LpVariable(\"x61\",lowBound=0,upBound=None, cat=\"Integer\")  \n",
    "x62=LpVariable(\"x62\",lowBound=0,upBound=None, cat=\"Integer\")  \n",
    "x63=LpVariable(\"x63\",lowBound=0,upBound=None, cat=\"Integer\")  \n",
    "x64=LpVariable(\"x64\",lowBound=0,upBound=None, cat=\"Integer\")  \n",
    "x65=LpVariable(\"x65\",lowBound=0,upBound=None, cat=\"Integer\")  \n",
    "x66=LpVariable(\"x66\",lowBound=0,upBound=None, cat=\"Integer\") "
   ]
  },
  {
   "cell_type": "markdown",
   "metadata": {},
   "source": [
    "### Dodajemy do platformy funkcje celu\n",
    "\n",
    "Zmaksymalizować efektywność pracy.\n",
    "\n",
    "$\n",
    "F(x_{i,j})\\\\\n",
    "=15x_{11}+ 4x_{12}+ 5x_{13}+ 2x_{14}\\\\\n",
    "+ 3x_{21}+ 6x_{23}+ 3x_{24}+10x_{24}\\\\\n",
    "+12x_{31}+ 4x_{32}+ 6x_{33}+ 3x_{34}\\\\\n",
    "+ 0x_{41}+ 0x_{42}+ 0x_{43}+ 0x_{44}\\\\\n",
    "\\to  max\n",
    "$"
   ]
  },
  {
   "cell_type": "code",
   "execution_count": 7,
   "metadata": {},
   "outputs": [],
   "source": [
    "# objective function\n",
    "prob +=15*x11+4*x12+5*x13+2*x14+3*x21+6*x22+3*x23+10*x24+12*x31+ 4*x32+ 6*x33+ 3*x34+0*x41+0*x42+ 0*x43+0*x44, \"maksymalizacja produkcji \""
   ]
  },
  {
   "cell_type": "code",
   "execution_count": 8,
   "metadata": {},
   "outputs": [
    {
     "name": "stdout",
     "output_type": "stream",
     "text": [
      "Przykład_98_STR_147:\n",
      "MAXIMIZE\n",
      "15*x11 + 4*x12 + 5*x13 + 2*x14 + 3*x21 + 6*x22 + 3*x23 + 10*x24 + 12*x31 + 4*x32 + 6*x33 + 3*x34 + 0\n",
      "VARIABLES\n",
      "0 <= x11 Integer\n",
      "0 <= x12 Integer\n",
      "0 <= x13 Integer\n",
      "0 <= x14 Integer\n",
      "0 <= x21 Integer\n",
      "0 <= x22 Integer\n",
      "0 <= x23 Integer\n",
      "0 <= x24 Integer\n",
      "0 <= x31 Integer\n",
      "0 <= x32 Integer\n",
      "0 <= x33 Integer\n",
      "0 <= x34 Integer\n",
      "\n"
     ]
    }
   ],
   "source": [
    "print(prob)"
   ]
  },
  {
   "cell_type": "markdown",
   "metadata": {},
   "source": [
    "#### $\n",
    "\\left\\{\n",
    "\\begin{align} \n",
    "{x_{11}+x_{12}+x_{13}+x_{14}} & = 1 & (maszyna-1)\\\\\n",
    "{x_{21}+x_{22}+x_{23}+x_{24}} & = 1 & (maszyna-2)\\\\\n",
    "{x_{31}+x_{32}+x_{33}+x_{34}} & = 1 & (maszyna-3)\\\\\n",
    "{x_{41}+x_{42}+x_{43}+x_{44}} & = 1 & (maszyna-4)\\\\\n",
    "\\end{align}\n",
    "\\right. \n",
    "$\n",
    "\n",
    "<span style=\"font-size: 130%;color:#0000ff\"> Krok 4: ograniczenie pośrednie - każdy detal może być produkowany  tylko raz </span>\n",
    "#### $\n",
    "\\left\\{\n",
    "\\begin{align} \n",
    "{x_{11}+x_{21}+x_{31}+x_{41}} & = 1 & (detal-1)\\\\\n",
    "{x_{12}+x_{22}+x_{32}+x_{42}} & = 1 & (detal-2)\\\\\n",
    "{x_{13}+x_{23}+x_{33}+x_{43}} & = 1 & (detal-3)\\\\\n",
    "{x_{14}+x_{24}+x_{34}+x_{44}} & = 1 & (detal-4)\\\\\n",
    "\\end{align}\n",
    "\\right. \n",
    "$\n"
   ]
  },
  {
   "cell_type": "code",
   "execution_count": 9,
   "metadata": {},
   "outputs": [],
   "source": [
    "# OGRANICZENIA OBRABIAREK\n",
    "prob += x11 + x21 + x31+ x41  == 1\n",
    "prob += x12 + x22 + x32+ x42  == 1\n",
    "prob += x13 + x23 + x33+ x43  == 1\n",
    "prob += x14 + x24 + x34+ x44  == 1"
   ]
  },
  {
   "cell_type": "code",
   "execution_count": 10,
   "metadata": {},
   "outputs": [],
   "source": [
    "# OGRANICZENIA DLA DETALI\n",
    "prob += x11 + x12 + x13 + x14 == 1  # PRODUKT A\n",
    "prob += x21 + x22 + x23 + x24 == 1  # PRODUKT B\n",
    "prob += x31 + x32 + x33 + x34 == 1  # PRODUKT C\n",
    "prob += x41 + x42 + x43 + x44 == 1  # PRODUKT D"
   ]
  },
  {
   "cell_type": "code",
   "execution_count": 11,
   "metadata": {},
   "outputs": [
    {
     "name": "stdout",
     "output_type": "stream",
     "text": [
      "Przykład_98_STR_147:\n",
      "MAXIMIZE\n",
      "15*x11 + 4*x12 + 5*x13 + 2*x14 + 3*x21 + 6*x22 + 3*x23 + 10*x24 + 12*x31 + 4*x32 + 6*x33 + 3*x34 + 0\n",
      "SUBJECT TO\n",
      "_C1: x11 + x21 + x31 + x41 = 1\n",
      "\n",
      "_C2: x12 + x22 + x32 + x42 = 1\n",
      "\n",
      "_C3: x13 + x23 + x33 + x43 = 1\n",
      "\n",
      "_C4: x14 + x24 + x34 + x44 = 1\n",
      "\n",
      "_C5: x11 + x12 + x13 + x14 = 1\n",
      "\n",
      "_C6: x21 + x22 + x23 + x24 = 1\n",
      "\n",
      "_C7: x31 + x32 + x33 + x34 = 1\n",
      "\n",
      "_C8: x41 + x42 + x43 + x44 = 1\n",
      "\n",
      "VARIABLES\n",
      "0 <= x11 Integer\n",
      "0 <= x12 Integer\n",
      "0 <= x13 Integer\n",
      "0 <= x14 Integer\n",
      "0 <= x21 Integer\n",
      "0 <= x22 Integer\n",
      "0 <= x23 Integer\n",
      "0 <= x24 Integer\n",
      "0 <= x31 Integer\n",
      "0 <= x32 Integer\n",
      "0 <= x33 Integer\n",
      "0 <= x34 Integer\n",
      "0 <= x41 Integer\n",
      "0 <= x42 Integer\n",
      "0 <= x43 Integer\n",
      "0 <= x44 Integer\n",
      "\n"
     ]
    }
   ],
   "source": [
    "print(prob)"
   ]
  },
  {
   "cell_type": "code",
   "execution_count": 123,
   "metadata": {},
   "outputs": [
    {
     "name": "stdout",
     "output_type": "stream",
     "text": [
      "Przykład_96_STR_146:\n",
      "MAXIMIZE\n",
      "20*x11 + 20*x12 + 14*x13 + 28*x14 + 16*x21 + 26*x22 + 17*x23 + 34*x24 + 14*x31 + 20*x32 + 25*x33 + 40*x34 + 12*x41 + 14*x42 + 15*x43 + 30*x44 + 0\n",
      "SUBJECT TO\n",
      "_C1: x11 + x21 + x31 + x41 = 1\n",
      "\n",
      "_C2: x12 + x22 + x32 + x42 = 1\n",
      "\n",
      "_C3: x13 + x23 + x33 + x43 = 1\n",
      "\n",
      "_C4: x14 + x24 + x34 + x44 = 1\n",
      "\n",
      "_C5: x11 + x12 + x13 + x14 = 1\n",
      "\n",
      "_C6: x21 + x22 + x23 + x24 = 1\n",
      "\n",
      "_C7: x31 + x32 + x33 + x34 = 1\n",
      "\n",
      "_C8: x41 + x42 + x43 + x44 = 1\n",
      "\n",
      "VARIABLES\n",
      "0 <= x11 Integer\n",
      "0 <= x12 Integer\n",
      "0 <= x13 Integer\n",
      "0 <= x14 Integer\n",
      "0 <= x21 Integer\n",
      "0 <= x22 Integer\n",
      "0 <= x23 Integer\n",
      "0 <= x24 Integer\n",
      "0 <= x31 Integer\n",
      "0 <= x32 Integer\n",
      "0 <= x33 Integer\n",
      "0 <= x34 Integer\n",
      "0 <= x41 Integer\n",
      "0 <= x42 Integer\n",
      "0 <= x43 Integer\n",
      "0 <= x44 Integer\n",
      "\n"
     ]
    }
   ],
   "source": [
    "print(prob)"
   ]
  },
  {
   "cell_type": "markdown",
   "metadata": {},
   "source": [
    "### Rozwiązanie problemu"
   ]
  },
  {
   "cell_type": "code",
   "execution_count": 12,
   "metadata": {},
   "outputs": [
    {
     "name": "stdout",
     "output_type": "stream",
     "text": [
      "prob.solve 1\n",
      "Status: Optimal\n"
     ]
    }
   ],
   "source": [
    "print(\"prob.solve\",prob.solve())\n",
    "# status of the solution\n",
    "print(f\"Status: {LpStatus[prob.status]}\")"
   ]
  },
  {
   "cell_type": "code",
   "execution_count": 13,
   "metadata": {},
   "outputs": [
    {
     "name": "stdout",
     "output_type": "stream",
     "text": [
      "x11 = 1\n",
      "x12 = 0\n",
      "x13 = 0\n",
      "x14 = 0\n",
      "x21 = 0\n",
      "x22 = 0\n",
      "x23 = 0\n",
      "x24 = 1\n",
      "x31 = 0\n",
      "x32 = 0\n",
      "x33 = 1\n",
      "x34 = 0\n",
      "x41 = 0\n",
      "x42 = 1\n",
      "x43 = 0\n",
      "x44 = 0\n"
     ]
    }
   ],
   "source": [
    "for v in prob.variables():\n",
    "    print(f\"{v.name} = {str(Fraction(v.varValue).limit_denominator())}\")\n"
   ]
  },
  {
   "cell_type": "code",
   "execution_count": 14,
   "metadata": {},
   "outputs": [
    {
     "name": "stdout",
     "output_type": "stream",
     "text": [
      "max (x11+x12+x13+x21+x22+x23+x31+x32+x33+x41+x42+x43) = 31\n"
     ]
    }
   ],
   "source": [
    "# maximum value of the objective function\n",
    "print(f\"max (x11+x12+x13+x21+x22+x23+x31+x32+x33+x41+x42+x43) = {str(Fraction(value(prob.objective)).limit_denominator())}\")"
   ]
  },
  {
   "cell_type": "markdown",
   "metadata": {},
   "source": [
    "<span style=\"font-size: 130%;color:#0000ff\">Maksymalna ilość produkcji na godzinę to 31 sztuk/godzine"
   ]
  },
  {
   "cell_type": "markdown",
   "metadata": {},
   "source": [
    "<span style=\"font-size: 150%;color:white;background:#bf9000\">METODA MACIERZOWA rozwiązania tego zadania"
   ]
  },
  {
   "cell_type": "code",
   "execution_count": 15,
   "metadata": {},
   "outputs": [],
   "source": [
    "from pulp import *\n",
    "\n",
    "# Tworze listę zakładów\n",
    "Warehouses = [\"Obrabiarka 1\",\"Obrabiarka 2\",\"Obrabiarka 3\",\"Obrabiarka 4\"]\n",
    "\n",
    "# Tworze słownik ile każdy PROGRAM może  być maksymalnie emitowany\n",
    "supply = {\"Obrabiarka 1\": 1,\n",
    "          \"Obrabiarka 2\": 1,\n",
    "          \"Obrabiarka 3\": 1,\n",
    "          \"Obrabiarka 4\": 1}"
   ]
  },
  {
   "cell_type": "code",
   "execution_count": 16,
   "metadata": {},
   "outputs": [
    {
     "name": "stdout",
     "output_type": "stream",
     "text": [
      "Warehouses: ['Obrabiarka 1', 'Obrabiarka 2', 'Obrabiarka 3', 'Obrabiarka 4']\n",
      "supply: {'Obrabiarka 1': 1, 'Obrabiarka 2': 1, 'Obrabiarka 3': 1, 'Obrabiarka 4': 1}\n",
      "Bars: ['detal_1', 'detal_2', 'detal_3', 'detal_4']\n",
      "Demand: {'detal_1': 1, 'detal_2': 1, 'detal_3': 1, 'detal_4': 1}\n"
     ]
    }
   ],
   "source": [
    "# Tworzę listę produktów\n",
    "Bars = [\"detal_1\", \"detal_2\", \"detal_3\",\"detal_4\"]\n",
    "\n",
    "# dokładna ilość detali do produkcji\n",
    "demand = {\"detal_1\": 1,\n",
    "        \"detal_2\": 1,\n",
    "        \"detal_3\": 1,\n",
    "        \"detal_4\": 1 \n",
    "        }\n",
    "print('Warehouses:',Warehouses)\n",
    "print('supply:',supply)\n",
    "print('Bars:',Bars)\n",
    "print('Demand:',demand)"
   ]
  },
  {
   "cell_type": "code",
   "execution_count": 17,
   "metadata": {},
   "outputs": [
    {
     "name": "stdout",
     "output_type": "stream",
     "text": [
      "Wydajność maszyn szt/h\n",
      "+-----------+---------+---------+---------+-------------+\n",
      "| maszyny:  | detal_1 | detal_2 | detal_3 | brak roboty |\n",
      "+-----------+---------+---------+---------+-------------+\n",
      "| maszyna 1 |   15    |    4    |    5    |      2      |\n",
      "+-----------+---------+---------+---------+-------------+\n",
      "| maszyna 2 |    3    |    6    |    3    |     10      |\n",
      "+-----------+---------+---------+---------+-------------+\n",
      "| maszyna 3 |   12    |    4    |    6    |      3      |\n",
      "+-----------+---------+---------+---------+-------------+\n",
      "| maszyna 4 |    0    |    0    |    0    |      0      |\n",
      "+-----------+---------+---------+---------+-------------+\n"
     ]
    }
   ],
   "source": [
    "from beautifultable import BeautifulTable\n",
    "print('Wydajność maszyn szt/h')\n",
    "table = BeautifulTable()\n",
    "table.column_headers = [\"maszyny:\", \"detal_1\",\"detal_2\",\"detal_3\",\"brak roboty\"]\n",
    "table.append_row([\"maszyna 1\", 15,   4,  5,  2])\n",
    "table.append_row([\"maszyna 2\",  3,   6,  3, 10])\n",
    "table.append_row([\"maszyna 3\", 12,   4,  6,  3])\n",
    "table.append_row([\"maszyna 4\",  0,   0,  0,  0])\n",
    "print(table)"
   ]
  },
  {
   "cell_type": "code",
   "execution_count": 18,
   "metadata": {},
   "outputs": [],
   "source": [
    "        #maszyna\n",
    "        # 1,  2,  3,  4 \n",
    "\n",
    "costs = [   \n",
    "        [15, 4, 5,  2],  #detal_1\n",
    "        [ 3, 6, 3, 10],  #detal_2\n",
    "        [12, 4, 6,  3],  #detal_3\n",
    "        [ 0, 0, 0,  0]   #detal_4\n",
    "         ]"
   ]
  },
  {
   "cell_type": "code",
   "execution_count": 19,
   "metadata": {},
   "outputs": [
    {
     "data": {
      "text/plain": [
       "{'Obrabiarka 1': {'detal_1': 15, 'detal_2': 4, 'detal_3': 5, 'detal_4': 2},\n",
       " 'Obrabiarka 2': {'detal_1': 3, 'detal_2': 6, 'detal_3': 3, 'detal_4': 10},\n",
       " 'Obrabiarka 3': {'detal_1': 12, 'detal_2': 4, 'detal_3': 6, 'detal_4': 3},\n",
       " 'Obrabiarka 4': {'detal_1': 0, 'detal_2': 0, 'detal_3': 0, 'detal_4': 0}}"
      ]
     },
     "execution_count": 19,
     "metadata": {},
     "output_type": "execute_result"
    }
   ],
   "source": [
    "# The cost data is made into a dictionary\n",
    "costs = makeDict([Warehouses,Bars],costs,0)\n",
    "costs"
   ]
  },
  {
   "cell_type": "code",
   "execution_count": 21,
   "metadata": {},
   "outputs": [
    {
     "name": "stdout",
     "output_type": "stream",
     "text": [
      "Beer_Distribution_Problem:\n",
      "MAXIMIZE\n",
      "None\n",
      "VARIABLES\n",
      "\n"
     ]
    }
   ],
   "source": [
    "# Creates the 'prob' variable to contain the problem data\n",
    "prob = LpProblem(\"Beer Distribution Problem\",LpMaximize)\n",
    "print(prob)"
   ]
  },
  {
   "cell_type": "code",
   "execution_count": 22,
   "metadata": {},
   "outputs": [
    {
     "name": "stdout",
     "output_type": "stream",
     "text": [
      "[('Obrabiarka 1', 'detal_1'), ('Obrabiarka 1', 'detal_2'), ('Obrabiarka 1', 'detal_3'), ('Obrabiarka 1', 'detal_4'), ('Obrabiarka 2', 'detal_1'), ('Obrabiarka 2', 'detal_2'), ('Obrabiarka 2', 'detal_3'), ('Obrabiarka 2', 'detal_4'), ('Obrabiarka 3', 'detal_1'), ('Obrabiarka 3', 'detal_2'), ('Obrabiarka 3', 'detal_3'), ('Obrabiarka 3', 'detal_4'), ('Obrabiarka 4', 'detal_1'), ('Obrabiarka 4', 'detal_2'), ('Obrabiarka 4', 'detal_3'), ('Obrabiarka 4', 'detal_4')]\n"
     ]
    }
   ],
   "source": [
    "# Creates a list of tuples containing all the possible routes for transport\n",
    "Routes = [(w,b) for w in Warehouses for b in Bars]\n",
    "print(Routes)"
   ]
  },
  {
   "cell_type": "code",
   "execution_count": 23,
   "metadata": {},
   "outputs": [
    {
     "data": {
      "text/plain": [
       "{'Obrabiarka 1': {'detal_1': Route_Obrabiarka_1_detal_1,\n",
       "  'detal_2': Route_Obrabiarka_1_detal_2,\n",
       "  'detal_3': Route_Obrabiarka_1_detal_3,\n",
       "  'detal_4': Route_Obrabiarka_1_detal_4},\n",
       " 'Obrabiarka 2': {'detal_1': Route_Obrabiarka_2_detal_1,\n",
       "  'detal_2': Route_Obrabiarka_2_detal_2,\n",
       "  'detal_3': Route_Obrabiarka_2_detal_3,\n",
       "  'detal_4': Route_Obrabiarka_2_detal_4},\n",
       " 'Obrabiarka 3': {'detal_1': Route_Obrabiarka_3_detal_1,\n",
       "  'detal_2': Route_Obrabiarka_3_detal_2,\n",
       "  'detal_3': Route_Obrabiarka_3_detal_3,\n",
       "  'detal_4': Route_Obrabiarka_3_detal_4},\n",
       " 'Obrabiarka 4': {'detal_1': Route_Obrabiarka_4_detal_1,\n",
       "  'detal_2': Route_Obrabiarka_4_detal_2,\n",
       "  'detal_3': Route_Obrabiarka_4_detal_3,\n",
       "  'detal_4': Route_Obrabiarka_4_detal_4}}"
      ]
     },
     "execution_count": 23,
     "metadata": {},
     "output_type": "execute_result"
    }
   ],
   "source": [
    "# A dictionary called 'Vars' is created to contain the referenced variables(the routes)\n",
    "vars = LpVariable.dicts(\"Route\",(Warehouses,Bars),0,None,LpInteger)\n",
    "vars"
   ]
  },
  {
   "cell_type": "code",
   "execution_count": 24,
   "metadata": {},
   "outputs": [],
   "source": [
    "# The objective function is added to 'prob' first\n",
    "prob += lpSum([vars[w][b]*costs[w][b] for (w,b) in Routes]), \"Sum_of_Transporting_Costs\"\n",
    "\n",
    "# The supply maximum constraints are added to prob for each supply node (warehouse)\n",
    "for w in Warehouses:\n",
    "    prob += lpSum([vars[w][b] for b in Bars])<=supply[w], \"Sum_of_Products_out_of_Warehouse_%s\"%w\n",
    "\n",
    "    # The demand minimum constraints are added to prob for each demand node (bar)\n",
    "for b in Bars:\n",
    "    prob += lpSum([vars[w][b] for w in Warehouses])>=demand[b], \"Sum_of_Products_into_Bar%s\"%b"
   ]
  },
  {
   "cell_type": "code",
   "execution_count": 26,
   "metadata": {},
   "outputs": [
    {
     "data": {
      "text/plain": [
       "[Route_Obrabiarka_1_detal_1,\n",
       " Route_Obrabiarka_1_detal_2,\n",
       " Route_Obrabiarka_1_detal_3,\n",
       " Route_Obrabiarka_1_detal_4,\n",
       " Route_Obrabiarka_2_detal_1,\n",
       " Route_Obrabiarka_2_detal_2,\n",
       " Route_Obrabiarka_2_detal_3,\n",
       " Route_Obrabiarka_2_detal_4,\n",
       " Route_Obrabiarka_3_detal_1,\n",
       " Route_Obrabiarka_3_detal_2,\n",
       " Route_Obrabiarka_3_detal_3,\n",
       " Route_Obrabiarka_3_detal_4,\n",
       " Route_Obrabiarka_4_detal_1,\n",
       " Route_Obrabiarka_4_detal_2,\n",
       " Route_Obrabiarka_4_detal_3,\n",
       " Route_Obrabiarka_4_detal_4]"
      ]
     },
     "execution_count": 26,
     "metadata": {},
     "output_type": "execute_result"
    }
   ],
   "source": [
    "# The problem data is written to an .lp file\n",
    "prob.writeLP(\"BeerDistributionProblem.lp\")"
   ]
  },
  {
   "cell_type": "code",
   "execution_count": 27,
   "metadata": {},
   "outputs": [
    {
     "name": "stdout",
     "output_type": "stream",
     "text": [
      "prob.solve 1\n",
      "Status: Optimal\n"
     ]
    }
   ],
   "source": [
    "# The problem is solved using PuLP's choice of Solver\n",
    "print(\"prob.solve\",prob.solve())\n",
    "\n",
    "# The status of the solution is printed to the screen\n",
    "print(\"Status:\", LpStatus[prob.status])"
   ]
  },
  {
   "cell_type": "code",
   "execution_count": 28,
   "metadata": {},
   "outputs": [
    {
     "name": "stdout",
     "output_type": "stream",
     "text": [
      "Route_Obrabiarka_1_detal_1 = 1.0\n",
      "Route_Obrabiarka_1_detal_2 = 0.0\n",
      "Route_Obrabiarka_1_detal_3 = 0.0\n",
      "Route_Obrabiarka_1_detal_4 = 0.0\n",
      "Route_Obrabiarka_2_detal_1 = 0.0\n",
      "Route_Obrabiarka_2_detal_2 = 0.0\n",
      "Route_Obrabiarka_2_detal_3 = 0.0\n",
      "Route_Obrabiarka_2_detal_4 = 1.0\n",
      "Route_Obrabiarka_3_detal_1 = 0.0\n",
      "Route_Obrabiarka_3_detal_2 = 0.0\n",
      "Route_Obrabiarka_3_detal_3 = 1.0\n",
      "Route_Obrabiarka_3_detal_4 = 0.0\n",
      "Route_Obrabiarka_4_detal_1 = 0.0\n",
      "Route_Obrabiarka_4_detal_2 = 1.0\n",
      "Route_Obrabiarka_4_detal_3 = 0.0\n",
      "Route_Obrabiarka_4_detal_4 = 0.0\n"
     ]
    }
   ],
   "source": [
    "# Each of the variables is printed with it's resolved optimum value\n",
    "for v in prob.variables():\n",
    "    print(v.name, \"=\", v.varValue)"
   ]
  },
  {
   "cell_type": "code",
   "execution_count": 42,
   "metadata": {},
   "outputs": [
    {
     "name": "stdout",
     "output_type": "stream",
     "text": [
      "wydajność produkcji w szt. na godzinę =  40.0\n"
     ]
    }
   ],
   "source": [
    "# The optimised objective function value is printed to the screen    \n",
    "print(\"wydajność produkcji w szt. na godzinę = \", value(prob.objective))"
   ]
  },
  {
   "cell_type": "code",
   "execution_count": 43,
   "metadata": {},
   "outputs": [
    {
     "name": "stdout",
     "output_type": "stream",
     "text": [
      "wydajność produkcji w szt. na godzinę =  31\n"
     ]
    }
   ],
   "source": [
    "print(\"wydajność produkcji w szt. na godzinę = \", 15+10+6)"
   ]
  },
  {
   "cell_type": "markdown",
   "metadata": {
    "scrolled": false
   },
   "source": [
    "<span style=\"font-size: 250%;color:white;background:#ff9900\">część 98/B</span>\n",
    "\n",
    "<span style=\"font-size: 150%;color:#0000ff\">Krok 1: ZMIENNA DECYZYJNA Czym jest x? </span>\n",
    "\n",
    "zero-jeden   - dlaczego? bo jest to zmienna decyzyjna, to jest przydział. jeden - maszyna wykonuje detal, \n",
    "zero maszyna nie wykonuje detalu. \n",
    "\n",
    "<span style=\"font-size: 130%;color:#0000ff\"> Krok 2: Co jest w tabeli?</span>\n",
    "\n",
    "Koszt produkcji pojedynczego detalu\n",
    "\n",
    "<span style=\"font-size: 130%;color:#0000ff\"> Krok 3: ograniczenie zmiennych decyzyjnych</span>\n",
    "\n",
    "\n",
    "zmiennymi decyzyjnymi jest tutaj przydział, liczba 1 lub 0. Każda maszyna może produkować tylko jeden detal.\n",
    "\n",
    "#### $\n",
    "\\left\\{\n",
    "\\begin{align} \n",
    "{x_{11}+x_{12}+x_{13}+x_{14}} & = 1 & (maszyna-1)\\\\\n",
    "{x_{21}+x_{22}+x_{23}+x_{24}} & = 1 & (maszyna-2)\\\\\n",
    "{x_{31}+x_{32}+x_{33}+x_{34}} & = 1 & (maszyna-3)\\\\\n",
    "{x_{41}+x_{42}+x_{43}+x_{44}} & = 1 & (maszyna-4)\\\\\n",
    "\\end{align}\n",
    "\\right. \n",
    "$\n",
    "\n",
    "<span style=\"font-size: 130%;color:#0000ff\"> Krok 4: ograniczenie pośrednie - każdy detal może być produkowany  tylko raz </span>\n",
    "#### $\n",
    "\\left\\{\n",
    "\\begin{align} \n",
    "{x_{11}+x_{21}+x_{31}+x_{41}} & = 1 & (detal-1)\\\\\n",
    "{x_{12}+x_{22}+x_{32}+x_{42}} & = 1 & (detal-2)\\\\\n",
    "{x_{13}+x_{23}+x_{33}+x_{43}} & = 1 & (detal-3)\\\\\n",
    "{x_{14}+x_{24}+x_{34}+x_{44}} & = 1 & (detal-4)\\\\\n",
    "\\end{align}\n",
    "\\right. \n",
    "$\n",
    "\n",
    "\n",
    "<span style=\"font-size: 130%;color:#0000ff\"> Krok 5: jaka jest funkcja celu?</span>\n",
    "\n",
    "Zmaksymalizować łaczny koszt produkcji\n",
    "\n",
    "$\\bbox[5px,border:1px solid red]\n",
    "{\n",
    "\\\\\n",
    "F(x_{i,j})\\\\\n",
    "=80x_{11}+ 60x_{12}+ 10x_{13}+ 40x_{14}\\\\\n",
    "+20x_{21}+ 30x_{23}+ 50x_{24}+ 40x_{24}\\\\\n",
    "+30x_{31}+ 20x_{32}+  6x_{33}+ 10x_{34}\\\\\n",
    "+ 0x_{41}+  0x_{42}+  0x_{43}+  0x_{44}\\\\\n",
    "\\to  max\n",
    "\\qquad \n",
    "} $"
   ]
  },
  {
   "cell_type": "markdown",
   "metadata": {},
   "source": [
    "<span style=\"font-size: 150%;color:white;background:#bf9000\">METODA ZWYKŁA rozwiązania tego zadania"
   ]
  },
  {
   "cell_type": "code",
   "execution_count": 65,
   "metadata": {},
   "outputs": [],
   "source": [
    "from pulp import *\n",
    "from fractions import Fraction\n",
    "\n",
    "# zdefiniowanie problemu- to jest taka platforma do wrzucania na nia wszystkiego\n",
    "\n",
    "prob = LpProblem(\"Przykład_98_STR_147\",LpMinimize)"
   ]
  },
  {
   "cell_type": "markdown",
   "metadata": {},
   "source": [
    "Wstawianie pierwszych warunków ograniczających: ograniczeniami nieujemności\n",
    "\n",
    "#### $\n",
    "\\left\\{\n",
    "\\begin{align} \n",
    "{x_{11}} & \\geqslant 0 & (4)\\\\\n",
    "{x_{12}} & \\geqslant 0 & (5)\\\\\n",
    "{x_{13}} & \\geqslant 0 & (5)\\\\\n",
    "{x_{14}} & \\geqslant 0 & (5)\\\\\n",
    "{x_{15}} & \\geqslant 0 & (5)\\\\\n",
    "{x_{16}} & \\geqslant 0 & (5)\\\\\n",
    "{x_{21}} & \\geqslant 0 & (5)\\\\\n",
    "{x_{22}} & \\geqslant 0 & (5)\\\\\n",
    "{x_{23}} & \\geqslant 0 & (5)\\\\\n",
    "{x_{24}} & \\geqslant 0 & (5)\\\\\n",
    "{x_{25}} & \\geqslant 0 & (5)\\\\\n",
    "{x_{26}} & \\geqslant 0 & (5)\\\\\n",
    "{x_{31}} & \\geqslant 0 & (5)\\\\\n",
    "{x_{32}} & \\geqslant 0 & (5)\\\\\n",
    "{x_{33}} & \\geqslant 0 & (5)\\\\\n",
    "{x_{34}} & \\geqslant 0 & (5)\\\\\n",
    "{x_{35}} & \\geqslant 0 & (5)\\\\\n",
    "{x_{36}} & \\geqslant 0 & (5)\\\\\n",
    "{x_{41}} & \\geqslant 0 & (5)\\\\\n",
    "{x_{42}} & \\geqslant 0 & (5)\\\\\n",
    "{x_{43}} & \\geqslant 0 & (5)\\\\\n",
    "{x_{44}} & \\geqslant 0 & (5)\\\\\n",
    "{x_{45}} & \\geqslant 0 & (5)\\\\\n",
    "{x_{46}} & \\geqslant 0 & (5)\\\\\n",
    "{x_{51}} & \\geqslant 0 & (5)\\\\\n",
    "{x_{52}} & \\geqslant 0 & (5)\\\\\n",
    "{x_{53}} & \\geqslant 0 & (5)\\\\\n",
    "{x_{54}} & \\geqslant 0 & (5)\\\\\n",
    "{x_{55}} & \\geqslant 0 & (5)\\\\\n",
    "{x_{56}} & \\geqslant 0 & (5)\\\\\n",
    "{x_{61}} & \\geqslant 0 & (5)\\\\\n",
    "{x_{62}} & \\geqslant 0 & (5)\\\\\n",
    "{x_{63}} & \\geqslant 0 & (5)\\\\\n",
    "{x_{64}} & \\geqslant 0 & (5)\\\\\n",
    "{x_{65}} & \\geqslant 0 & (5)\\\\\n",
    "{x_{66}} & \\geqslant 0 & (5)\\\\\n",
    "\\end{align}\n",
    "\\right. \n",
    "$"
   ]
  },
  {
   "cell_type": "markdown",
   "metadata": {},
   "source": [
    "<span style=\"font-size: 150%;color:white;background:#bf9000\">METODA ZWYKŁA rozwiązania tego zadania"
   ]
  },
  {
   "cell_type": "code",
   "execution_count": 66,
   "metadata": {},
   "outputs": [],
   "source": [
    "# \"Continuous\"\n",
    "# \"Integer\"\n",
    "\n",
    "x11=LpVariable(\"x11\",lowBound=0,upBound=None, cat=\"Integer\")\n",
    "x12=LpVariable(\"x12\",lowBound=0,upBound=None, cat=\"Integer\")\n",
    "x13=LpVariable(\"x13\",lowBound=0,upBound=None, cat=\"Integer\")\n",
    "x14=LpVariable(\"x14\",lowBound=0,upBound=None, cat=\"Integer\")\n",
    "x15=LpVariable(\"x15\",lowBound=0,upBound=None, cat=\"Integer\")\n",
    "x16=LpVariable(\"x16\",lowBound=0,upBound=None, cat=\"Integer\")\n",
    "\n",
    "x21=LpVariable(\"x21\",lowBound=0,upBound=None, cat=\"Integer\")\n",
    "x22=LpVariable(\"x22\",lowBound=0,upBound=None, cat=\"Integer\")\n",
    "x23=LpVariable(\"x23\",lowBound=0,upBound=None, cat=\"Integer\")\n",
    "x24=LpVariable(\"x24\",lowBound=0,upBound=None, cat=\"Integer\")\n",
    "x25=LpVariable(\"x25\",lowBound=0,upBound=None, cat=\"Integer\")\n",
    "x26=LpVariable(\"x26\",lowBound=0,upBound=None, cat=\"Integer\")\n",
    "\n",
    "x31=LpVariable(\"x31\",lowBound=0,upBound=None, cat=\"Integer\")\n",
    "x32=LpVariable(\"x32\",lowBound=0,upBound=None, cat=\"Integer\")\n",
    "x33=LpVariable(\"x33\",lowBound=0,upBound=None, cat=\"Integer\")\n",
    "x34=LpVariable(\"x34\",lowBound=0,upBound=None, cat=\"Integer\") \n",
    "x35=LpVariable(\"x35\",lowBound=0,upBound=None, cat=\"Integer\")\n",
    "x36=LpVariable(\"x36\",lowBound=0,upBound=None, cat=\"Integer\") \n",
    "\n",
    "x41=LpVariable(\"x41\",lowBound=0,upBound=None, cat=\"Integer\")  \n",
    "x42=LpVariable(\"x42\",lowBound=0,upBound=None, cat=\"Integer\")  \n",
    "x43=LpVariable(\"x43\",lowBound=0,upBound=None, cat=\"Integer\")  \n",
    "x44=LpVariable(\"x44\",lowBound=0,upBound=None, cat=\"Integer\")  \n",
    "x45=LpVariable(\"x45\",lowBound=0,upBound=None, cat=\"Integer\")  \n",
    "x46=LpVariable(\"x46\",lowBound=0,upBound=None, cat=\"Integer\")  \n",
    "\n",
    "x51=LpVariable(\"x51\",lowBound=0,upBound=None, cat=\"Integer\")  \n",
    "x52=LpVariable(\"x52\",lowBound=0,upBound=None, cat=\"Integer\")  \n",
    "x53=LpVariable(\"x53\",lowBound=0,upBound=None, cat=\"Integer\")  \n",
    "x54=LpVariable(\"x54\",lowBound=0,upBound=None, cat=\"Integer\")  \n",
    "x55=LpVariable(\"x55\",lowBound=0,upBound=None, cat=\"Integer\")  \n",
    "x56=LpVariable(\"x56\",lowBound=0,upBound=None, cat=\"Integer\") \n",
    "\n",
    "x61=LpVariable(\"x61\",lowBound=0,upBound=None, cat=\"Integer\")  \n",
    "x62=LpVariable(\"x62\",lowBound=0,upBound=None, cat=\"Integer\")  \n",
    "x63=LpVariable(\"x63\",lowBound=0,upBound=None, cat=\"Integer\")  \n",
    "x64=LpVariable(\"x64\",lowBound=0,upBound=None, cat=\"Integer\")  \n",
    "x65=LpVariable(\"x65\",lowBound=0,upBound=None, cat=\"Integer\")  \n",
    "x66=LpVariable(\"x66\",lowBound=0,upBound=None, cat=\"Integer\") "
   ]
  },
  {
   "cell_type": "code",
   "execution_count": null,
   "metadata": {
    "collapsed": true
   },
   "outputs": [],
   "source": []
  },
  {
   "cell_type": "markdown",
   "metadata": {},
   "source": [
    "### Dodajemy do platformy funkcje celu\n",
    "\n",
    "Zminimalizować koszt produkcji.\n",
    "\n",
    "$\n",
    "F(x_{i,j})\\\\\n",
    "=80x_{11}+ 60x_{12}+ 10x_{13}+ 40x_{14}\\\\\n",
    "+20x_{21}+ 30x_{23}+ 50x_{24}+ 40x_{24}\\\\\n",
    "+30x_{31}+ 20x_{32}+  6x_{33}+ 10x_{34}\\\\\n",
    "+ 0x_{41}+  0x_{42}+  0x_{43}+  0x_{44}\\\\\n",
    "\\to  min\n",
    "$"
   ]
  },
  {
   "cell_type": "code",
   "execution_count": 67,
   "metadata": {},
   "outputs": [],
   "source": [
    "# objective function\n",
    "prob +=80*x11+60*x12+10*x13+40*x14+20*x21+30*x22+50*x23+40*x24+30*x31+ 20*x32+ 6*x33+ 10*x34+0*x41+0*x42+ 0*x43+0*x44, \"minimalizacja produkcji \""
   ]
  },
  {
   "cell_type": "code",
   "execution_count": 68,
   "metadata": {},
   "outputs": [
    {
     "name": "stdout",
     "output_type": "stream",
     "text": [
      "Przykład_98_STR_147:\n",
      "MINIMIZE\n",
      "80*x11 + 60*x12 + 10*x13 + 40*x14 + 20*x21 + 30*x22 + 50*x23 + 40*x24 + 30*x31 + 20*x32 + 6*x33 + 10*x34 + 0\n",
      "VARIABLES\n",
      "0 <= x11 Integer\n",
      "0 <= x12 Integer\n",
      "0 <= x13 Integer\n",
      "0 <= x14 Integer\n",
      "0 <= x21 Integer\n",
      "0 <= x22 Integer\n",
      "0 <= x23 Integer\n",
      "0 <= x24 Integer\n",
      "0 <= x31 Integer\n",
      "0 <= x32 Integer\n",
      "0 <= x33 Integer\n",
      "0 <= x34 Integer\n",
      "\n"
     ]
    }
   ],
   "source": [
    "print(prob)"
   ]
  },
  {
   "cell_type": "markdown",
   "metadata": {},
   "source": [
    "#### $\n",
    "\\left\\{\n",
    "\\begin{align} \n",
    "{x_{11}+x_{12}+x_{13}+x_{14}} & = 1 & (maszyna-1)\\\\\n",
    "{x_{21}+x_{22}+x_{23}+x_{24}} & = 1 & (maszyna-2)\\\\\n",
    "{x_{31}+x_{32}+x_{33}+x_{34}} & = 1 & (maszyna-3)\\\\\n",
    "{x_{41}+x_{42}+x_{43}+x_{44}} & = 1 & (maszyna-4)\\\\\n",
    "\\end{align}\n",
    "\\right. \n",
    "$\n",
    "\n",
    "<span style=\"font-size: 130%;color:#0000ff\"> Krok 4: ograniczenie pośrednie - każdy detal może być produkowany  tylko raz </span>\n",
    "#### $\n",
    "\\left\\{\n",
    "\\begin{align} \n",
    "{x_{11}+x_{21}+x_{31}+x_{41}} & = 1 & (detal-1)\\\\\n",
    "{x_{12}+x_{22}+x_{32}+x_{42}} & = 1 & (detal-2)\\\\\n",
    "{x_{13}+x_{23}+x_{33}+x_{43}} & = 1 & (detal-3)\\\\\n",
    "{x_{14}+x_{24}+x_{34}+x_{44}} & = 1 & (detal-4)\\\\\n",
    "\\end{align}\n",
    "\\right. \n",
    "$\n"
   ]
  },
  {
   "cell_type": "code",
   "execution_count": 69,
   "metadata": {},
   "outputs": [],
   "source": [
    "# OGRANICZENIA OBRABIAREK\n",
    "prob += x11 + x21 + x31+ x41  == 1\n",
    "prob += x12 + x22 + x32+ x42  == 1\n",
    "prob += x13 + x23 + x33+ x43  == 1\n",
    "prob += x14 + x24 + x34+ x44  == 1"
   ]
  },
  {
   "cell_type": "code",
   "execution_count": 70,
   "metadata": {},
   "outputs": [],
   "source": [
    "# OGRANICZENIA DLA DETALI\n",
    "prob += x11 + x12 + x13 + x14 == 1  # PRODUKT A\n",
    "prob += x21 + x22 + x23 + x24 == 1  # PRODUKT B\n",
    "prob += x31 + x32 + x33 + x34 == 1  # PRODUKT C\n",
    "prob += x41 + x42 + x43 + x44 == 1  # PRODUKT D"
   ]
  },
  {
   "cell_type": "code",
   "execution_count": 71,
   "metadata": {},
   "outputs": [
    {
     "name": "stdout",
     "output_type": "stream",
     "text": [
      "Przykład_98_STR_147:\n",
      "MINIMIZE\n",
      "80*x11 + 60*x12 + 10*x13 + 40*x14 + 20*x21 + 30*x22 + 50*x23 + 40*x24 + 30*x31 + 20*x32 + 6*x33 + 10*x34 + 0\n",
      "SUBJECT TO\n",
      "_C1: x11 + x21 + x31 + x41 = 1\n",
      "\n",
      "_C2: x12 + x22 + x32 + x42 = 1\n",
      "\n",
      "_C3: x13 + x23 + x33 + x43 = 1\n",
      "\n",
      "_C4: x14 + x24 + x34 + x44 = 1\n",
      "\n",
      "_C5: x11 + x12 + x13 + x14 = 1\n",
      "\n",
      "_C6: x21 + x22 + x23 + x24 = 1\n",
      "\n",
      "_C7: x31 + x32 + x33 + x34 = 1\n",
      "\n",
      "_C8: x41 + x42 + x43 + x44 = 1\n",
      "\n",
      "VARIABLES\n",
      "0 <= x11 Integer\n",
      "0 <= x12 Integer\n",
      "0 <= x13 Integer\n",
      "0 <= x14 Integer\n",
      "0 <= x21 Integer\n",
      "0 <= x22 Integer\n",
      "0 <= x23 Integer\n",
      "0 <= x24 Integer\n",
      "0 <= x31 Integer\n",
      "0 <= x32 Integer\n",
      "0 <= x33 Integer\n",
      "0 <= x34 Integer\n",
      "0 <= x41 Integer\n",
      "0 <= x42 Integer\n",
      "0 <= x43 Integer\n",
      "0 <= x44 Integer\n",
      "\n"
     ]
    }
   ],
   "source": [
    "print(prob)"
   ]
  },
  {
   "cell_type": "code",
   "execution_count": 72,
   "metadata": {},
   "outputs": [
    {
     "name": "stdout",
     "output_type": "stream",
     "text": [
      "Przykład_98_STR_147:\n",
      "MINIMIZE\n",
      "80*x11 + 60*x12 + 10*x13 + 40*x14 + 20*x21 + 30*x22 + 50*x23 + 40*x24 + 30*x31 + 20*x32 + 6*x33 + 10*x34 + 0\n",
      "SUBJECT TO\n",
      "_C1: x11 + x21 + x31 + x41 = 1\n",
      "\n",
      "_C2: x12 + x22 + x32 + x42 = 1\n",
      "\n",
      "_C3: x13 + x23 + x33 + x43 = 1\n",
      "\n",
      "_C4: x14 + x24 + x34 + x44 = 1\n",
      "\n",
      "_C5: x11 + x12 + x13 + x14 = 1\n",
      "\n",
      "_C6: x21 + x22 + x23 + x24 = 1\n",
      "\n",
      "_C7: x31 + x32 + x33 + x34 = 1\n",
      "\n",
      "_C8: x41 + x42 + x43 + x44 = 1\n",
      "\n",
      "VARIABLES\n",
      "0 <= x11 Integer\n",
      "0 <= x12 Integer\n",
      "0 <= x13 Integer\n",
      "0 <= x14 Integer\n",
      "0 <= x21 Integer\n",
      "0 <= x22 Integer\n",
      "0 <= x23 Integer\n",
      "0 <= x24 Integer\n",
      "0 <= x31 Integer\n",
      "0 <= x32 Integer\n",
      "0 <= x33 Integer\n",
      "0 <= x34 Integer\n",
      "0 <= x41 Integer\n",
      "0 <= x42 Integer\n",
      "0 <= x43 Integer\n",
      "0 <= x44 Integer\n",
      "\n"
     ]
    }
   ],
   "source": [
    "print(prob)"
   ]
  },
  {
   "cell_type": "markdown",
   "metadata": {},
   "source": [
    "### Rozwiązanie problemu"
   ]
  },
  {
   "cell_type": "code",
   "execution_count": 73,
   "metadata": {},
   "outputs": [
    {
     "name": "stdout",
     "output_type": "stream",
     "text": [
      "prob.solve 1\n",
      "Status: Optimal\n"
     ]
    }
   ],
   "source": [
    "print(\"prob.solve\",prob.solve())\n",
    "# status of the solution\n",
    "print(f\"Status: {LpStatus[prob.status]}\")"
   ]
  },
  {
   "cell_type": "code",
   "execution_count": 74,
   "metadata": {},
   "outputs": [
    {
     "name": "stdout",
     "output_type": "stream",
     "text": [
      "x11 = 0\n",
      "x12 = 0\n",
      "x13 = 1\n",
      "x14 = 0\n",
      "x21 = 1\n",
      "x22 = 0\n",
      "x23 = 0\n",
      "x24 = 0\n",
      "x31 = 0\n",
      "x32 = 0\n",
      "x33 = 0\n",
      "x34 = 1\n",
      "x41 = 0\n",
      "x42 = 1\n",
      "x43 = 0\n",
      "x44 = 0\n"
     ]
    }
   ],
   "source": [
    "for v in prob.variables():\n",
    "    print(f\"{v.name} = {str(Fraction(v.varValue).limit_denominator())}\")\n"
   ]
  },
  {
   "cell_type": "code",
   "execution_count": 75,
   "metadata": {},
   "outputs": [
    {
     "name": "stdout",
     "output_type": "stream",
     "text": [
      "min (x11+x12+x13+x21+x22+x23+x31+x32+x33+x41+x42+x43) = 40\n"
     ]
    }
   ],
   "source": [
    "# maximum value of the objective function\n",
    "print(f\"min (x11+x12+x13+x21+x22+x23+x31+x32+x33+x41+x42+x43) = {str(Fraction(value(prob.objective)).limit_denominator())}\")"
   ]
  },
  {
   "cell_type": "markdown",
   "metadata": {},
   "source": [
    "<span style=\"font-size: 130%;color:#0000ff\">Minimalny łączny koszt produkcji wyrobów wynosi 40 zł"
   ]
  },
  {
   "cell_type": "code",
   "execution_count": 76,
   "metadata": {},
   "outputs": [
    {
     "data": {
      "text/plain": [
       "130"
      ]
     },
     "execution_count": 76,
     "metadata": {},
     "output_type": "execute_result"
    }
   ],
   "source": [
    "(30+60+40)"
   ]
  },
  {
   "cell_type": "markdown",
   "metadata": {},
   "source": [
    "<span style=\"font-size: 110%;color:white;background:red\">NIE ROZUMIEM TEGO ROZWIĄZANIA"
   ]
  },
  {
   "cell_type": "markdown",
   "metadata": {},
   "source": [
    "<span style=\"font-size: 150%;color:white;background:#bf9000\">METODA MACIERZOWA rozwiązania tego zadania"
   ]
  },
  {
   "cell_type": "code",
   "execution_count": 47,
   "metadata": {},
   "outputs": [],
   "source": [
    "from pulp import *\n",
    "\n",
    "# Tworze listę zakładów\n",
    "Warehouses = [\"Obrabiarka 1\",\"Obrabiarka 2\",\"Obrabiarka 3\",\"Obrabiarka 4\"]\n",
    "\n",
    "# Tworze słownik ile każdy PROGRAM może  być maksymalnie emitowany\n",
    "supply = {\"Obrabiarka 1\": 1,\n",
    "          \"Obrabiarka 2\": 1,\n",
    "          \"Obrabiarka 3\": 1,\n",
    "          \"Obrabiarka 4\": 1}"
   ]
  },
  {
   "cell_type": "code",
   "execution_count": 48,
   "metadata": {},
   "outputs": [
    {
     "name": "stdout",
     "output_type": "stream",
     "text": [
      "Warehouses: ['Obrabiarka 1', 'Obrabiarka 2', 'Obrabiarka 3', 'Obrabiarka 4']\n",
      "supply: {'Obrabiarka 1': 1, 'Obrabiarka 2': 1, 'Obrabiarka 3': 1, 'Obrabiarka 4': 1}\n",
      "Bars: ['detal_1', 'detal_2', 'detal_3', 'detal_4']\n",
      "Demand: {'detal_1': 1, 'detal_2': 1, 'detal_3': 1, 'detal_4': 1}\n"
     ]
    }
   ],
   "source": [
    "# Tworzę listę produktów\n",
    "Bars = [\"detal_1\", \"detal_2\", \"detal_3\",\"detal_4\"]\n",
    "\n",
    "# dokładna ilość detali do produkcji\n",
    "demand = {\"detal_1\": 1,\n",
    "        \"detal_2\": 1,\n",
    "        \"detal_3\": 1,\n",
    "        \"detal_4\": 1 \n",
    "        }\n",
    "print('Warehouses:',Warehouses)\n",
    "print('supply:',supply)\n",
    "print('Bars:',Bars)\n",
    "print('Demand:',demand)"
   ]
  },
  {
   "cell_type": "code",
   "execution_count": 63,
   "metadata": {},
   "outputs": [
    {
     "name": "stdout",
     "output_type": "stream",
     "text": [
      "Koszt produkcji 1 szt/zł\n",
      "+-----------+---------+---------+---------+---------+\n",
      "| maszyny:  | detal_1 | detal_2 | detal_3 | detal_4 |\n",
      "+-----------+---------+---------+---------+---------+\n",
      "| maszyna 1 |   80    |   60    |   10    |   40    |\n",
      "+-----------+---------+---------+---------+---------+\n",
      "| maszyna 2 |   20    |   30    |   50    |   40    |\n",
      "+-----------+---------+---------+---------+---------+\n",
      "| maszyna 3 |   30    |   20    |    6    |   10    |\n",
      "+-----------+---------+---------+---------+---------+\n",
      "| maszyna 4 |    0    |    0    |    0    |    0    |\n",
      "+-----------+---------+---------+---------+---------+\n"
     ]
    }
   ],
   "source": [
    "from beautifultable import BeautifulTable\n",
    "print('Koszt produkcji 1 szt/zł')\n",
    "table = BeautifulTable()\n",
    "table.column_headers = [\"maszyny:\", \"detal_1\",\"detal_2\",\"detal_3\",\"detal_4\"]\n",
    "table.append_row([\"maszyna 1\", 80,   60,  10,  40])\n",
    "table.append_row([\"maszyna 2\", 20,   30,  50,  40])\n",
    "table.append_row([\"maszyna 3\", 30,   20,   6,  10])\n",
    "table.append_row([\"maszyna 4\",  0,    0,   0,   0])\n",
    "print(table)"
   ]
  },
  {
   "cell_type": "code",
   "execution_count": null,
   "metadata": {},
   "outputs": [],
   "source": [
    "20+20+6"
   ]
  },
  {
   "cell_type": "code",
   "execution_count": 51,
   "metadata": {},
   "outputs": [],
   "source": [
    "        #maszyna\n",
    "        # 1,  2,  3,  4 \n",
    "\n",
    "costs = [   \n",
    "        [80, 60, 10,  40],  #detal_1\n",
    "        [20, 30, 50,  40],  #detal_2\n",
    "        [30, 20,  6,  10],  #detal_3\n",
    "        [ 0,  0,  0,   0]   #detal_4\n",
    "         ]"
   ]
  },
  {
   "cell_type": "code",
   "execution_count": 52,
   "metadata": {},
   "outputs": [
    {
     "data": {
      "text/plain": [
       "{'Obrabiarka 1': {'detal_1': 80, 'detal_2': 60, 'detal_3': 10, 'detal_4': 40},\n",
       " 'Obrabiarka 2': {'detal_1': 20, 'detal_2': 30, 'detal_3': 50, 'detal_4': 40},\n",
       " 'Obrabiarka 3': {'detal_1': 30, 'detal_2': 20, 'detal_3': 6, 'detal_4': 10},\n",
       " 'Obrabiarka 4': {'detal_1': 0, 'detal_2': 0, 'detal_3': 0, 'detal_4': 0}}"
      ]
     },
     "execution_count": 52,
     "metadata": {},
     "output_type": "execute_result"
    }
   ],
   "source": [
    "# The cost data is made into a dictionary\n",
    "costs = makeDict([Warehouses,Bars],costs,0)\n",
    "costs"
   ]
  },
  {
   "cell_type": "code",
   "execution_count": 53,
   "metadata": {},
   "outputs": [
    {
     "name": "stdout",
     "output_type": "stream",
     "text": [
      "Beer_Distribution_Problem:\n",
      "MINIMIZE\n",
      "None\n",
      "VARIABLES\n",
      "\n"
     ]
    }
   ],
   "source": [
    "# Creates the 'prob' variable to contain the problem data\n",
    "prob = LpProblem(\"Beer Distribution Problem\",LpMinimize)\n",
    "print(prob)"
   ]
  },
  {
   "cell_type": "code",
   "execution_count": 54,
   "metadata": {},
   "outputs": [
    {
     "name": "stdout",
     "output_type": "stream",
     "text": [
      "[('Obrabiarka 1', 'detal_1'), ('Obrabiarka 1', 'detal_2'), ('Obrabiarka 1', 'detal_3'), ('Obrabiarka 1', 'detal_4'), ('Obrabiarka 2', 'detal_1'), ('Obrabiarka 2', 'detal_2'), ('Obrabiarka 2', 'detal_3'), ('Obrabiarka 2', 'detal_4'), ('Obrabiarka 3', 'detal_1'), ('Obrabiarka 3', 'detal_2'), ('Obrabiarka 3', 'detal_3'), ('Obrabiarka 3', 'detal_4'), ('Obrabiarka 4', 'detal_1'), ('Obrabiarka 4', 'detal_2'), ('Obrabiarka 4', 'detal_3'), ('Obrabiarka 4', 'detal_4')]\n"
     ]
    }
   ],
   "source": [
    "# Creates a list of tuples containing all the possible routes for transport\n",
    "Routes = [(w,b) for w in Warehouses for b in Bars]\n",
    "print(Routes)"
   ]
  },
  {
   "cell_type": "code",
   "execution_count": 55,
   "metadata": {},
   "outputs": [
    {
     "data": {
      "text/plain": [
       "{'Obrabiarka 1': {'detal_1': Route_Obrabiarka_1_detal_1,\n",
       "  'detal_2': Route_Obrabiarka_1_detal_2,\n",
       "  'detal_3': Route_Obrabiarka_1_detal_3,\n",
       "  'detal_4': Route_Obrabiarka_1_detal_4},\n",
       " 'Obrabiarka 2': {'detal_1': Route_Obrabiarka_2_detal_1,\n",
       "  'detal_2': Route_Obrabiarka_2_detal_2,\n",
       "  'detal_3': Route_Obrabiarka_2_detal_3,\n",
       "  'detal_4': Route_Obrabiarka_2_detal_4},\n",
       " 'Obrabiarka 3': {'detal_1': Route_Obrabiarka_3_detal_1,\n",
       "  'detal_2': Route_Obrabiarka_3_detal_2,\n",
       "  'detal_3': Route_Obrabiarka_3_detal_3,\n",
       "  'detal_4': Route_Obrabiarka_3_detal_4},\n",
       " 'Obrabiarka 4': {'detal_1': Route_Obrabiarka_4_detal_1,\n",
       "  'detal_2': Route_Obrabiarka_4_detal_2,\n",
       "  'detal_3': Route_Obrabiarka_4_detal_3,\n",
       "  'detal_4': Route_Obrabiarka_4_detal_4}}"
      ]
     },
     "execution_count": 55,
     "metadata": {},
     "output_type": "execute_result"
    }
   ],
   "source": [
    "# A dictionary called 'Vars' is created to contain the referenced variables(the routes)\n",
    "vars = LpVariable.dicts(\"Route\",(Warehouses,Bars),0,None,LpInteger)\n",
    "vars"
   ]
  },
  {
   "cell_type": "code",
   "execution_count": 56,
   "metadata": {},
   "outputs": [],
   "source": [
    "# The objective function is added to 'prob' first\n",
    "prob += lpSum([vars[w][b]*costs[w][b] for (w,b) in Routes]), \"Sum_of_Transporting_Costs\"\n",
    "\n",
    "# The supply maximum constraints are added to prob for each supply node (warehouse)\n",
    "for w in Warehouses:\n",
    "    prob += lpSum([vars[w][b] for b in Bars])<=supply[w], \"Sum_of_Products_out_of_Warehouse_%s\"%w\n",
    "\n",
    "    # The demand minimum constraints are added to prob for each demand node (bar)\n",
    "for b in Bars:\n",
    "    prob += lpSum([vars[w][b] for w in Warehouses])>=demand[b], \"Sum_of_Products_into_Bar%s\"%b"
   ]
  },
  {
   "cell_type": "code",
   "execution_count": 57,
   "metadata": {},
   "outputs": [
    {
     "data": {
      "text/plain": [
       "[Route_Obrabiarka_1_detal_1,\n",
       " Route_Obrabiarka_1_detal_2,\n",
       " Route_Obrabiarka_1_detal_3,\n",
       " Route_Obrabiarka_1_detal_4,\n",
       " Route_Obrabiarka_2_detal_1,\n",
       " Route_Obrabiarka_2_detal_2,\n",
       " Route_Obrabiarka_2_detal_3,\n",
       " Route_Obrabiarka_2_detal_4,\n",
       " Route_Obrabiarka_3_detal_1,\n",
       " Route_Obrabiarka_3_detal_2,\n",
       " Route_Obrabiarka_3_detal_3,\n",
       " Route_Obrabiarka_3_detal_4,\n",
       " Route_Obrabiarka_4_detal_1,\n",
       " Route_Obrabiarka_4_detal_2,\n",
       " Route_Obrabiarka_4_detal_3,\n",
       " Route_Obrabiarka_4_detal_4]"
      ]
     },
     "execution_count": 57,
     "metadata": {},
     "output_type": "execute_result"
    }
   ],
   "source": [
    "# The problem data is written to an .lp file\n",
    "prob.writeLP(\"BeerDistributionProblem.lp\")"
   ]
  },
  {
   "cell_type": "code",
   "execution_count": 58,
   "metadata": {},
   "outputs": [
    {
     "name": "stdout",
     "output_type": "stream",
     "text": [
      "prob.solve 1\n",
      "Status: Optimal\n"
     ]
    }
   ],
   "source": [
    "# The problem is solved using PuLP's choice of Solver\n",
    "print(\"prob.solve\",prob.solve())\n",
    "\n",
    "# The status of the solution is printed to the screen\n",
    "print(\"Status:\", LpStatus[prob.status])"
   ]
  },
  {
   "cell_type": "code",
   "execution_count": 59,
   "metadata": {},
   "outputs": [
    {
     "name": "stdout",
     "output_type": "stream",
     "text": [
      "Route_Obrabiarka_1_detal_1 = 0.0\n",
      "Route_Obrabiarka_1_detal_2 = 0.0\n",
      "Route_Obrabiarka_1_detal_3 = 1.0\n",
      "Route_Obrabiarka_1_detal_4 = 0.0\n",
      "Route_Obrabiarka_2_detal_1 = 1.0\n",
      "Route_Obrabiarka_2_detal_2 = 0.0\n",
      "Route_Obrabiarka_2_detal_3 = 0.0\n",
      "Route_Obrabiarka_2_detal_4 = 0.0\n",
      "Route_Obrabiarka_3_detal_1 = 0.0\n",
      "Route_Obrabiarka_3_detal_2 = 0.0\n",
      "Route_Obrabiarka_3_detal_3 = 0.0\n",
      "Route_Obrabiarka_3_detal_4 = 1.0\n",
      "Route_Obrabiarka_4_detal_1 = 0.0\n",
      "Route_Obrabiarka_4_detal_2 = 1.0\n",
      "Route_Obrabiarka_4_detal_3 = 0.0\n",
      "Route_Obrabiarka_4_detal_4 = 0.0\n"
     ]
    }
   ],
   "source": [
    "# Each of the variables is printed with it's resolved optimum value\n",
    "for v in prob.variables():\n",
    "    print(v.name, \"=\", v.varValue)"
   ]
  },
  {
   "cell_type": "code",
   "execution_count": 77,
   "metadata": {},
   "outputs": [
    {
     "name": "stdout",
     "output_type": "stream",
     "text": [
      "Mini suma kosztów produkcji =  40.0\n"
     ]
    }
   ],
   "source": [
    "# The optimised objective function value is printed to the screen    \n",
    "print(\"Mini suma kosztów produkcji = \", value(prob.objective))"
   ]
  },
  {
   "cell_type": "code",
   "execution_count": 64,
   "metadata": {},
   "outputs": [
    {
     "name": "stdout",
     "output_type": "stream",
     "text": [
      "Koszt produkcji 1 szt/zł\n",
      "+-----------+---------+---------+---------+---------+\n",
      "| maszyny:  | detal_1 | detal_2 | detal_3 | detal_4 |\n",
      "+-----------+---------+---------+---------+---------+\n",
      "| maszyna 1 |   80    |   60    |   10    |   40    |\n",
      "+-----------+---------+---------+---------+---------+\n",
      "| maszyna 2 |   20    |   30    |   50    |   40    |\n",
      "+-----------+---------+---------+---------+---------+\n",
      "| maszyna 3 |   30    |   20    |    6    |   10    |\n",
      "+-----------+---------+---------+---------+---------+\n",
      "| maszyna 4 |    0    |    0    |    0    |    0    |\n",
      "+-----------+---------+---------+---------+---------+\n"
     ]
    }
   ],
   "source": [
    "from beautifultable import BeautifulTable\n",
    "print('Koszt produkcji 1 szt/zł')\n",
    "table = BeautifulTable()\n",
    "table.column_headers = [\"maszyny:\", \"detal_1\",\"detal_2\",\"detal_3\",\"detal_4\"]\n",
    "table.append_row([\"maszyna 1\", 80,   60,  10,  40])\n",
    "table.append_row([\"maszyna 2\", 20,   30,  50,  40])\n",
    "table.append_row([\"maszyna 3\", 30,   20,   6,  10])\n",
    "table.append_row([\"maszyna 4\",  0,    0,   0,   0])\n",
    "print(table)"
   ]
  },
  {
   "cell_type": "code",
   "execution_count": 62,
   "metadata": {},
   "outputs": [
    {
     "data": {
      "text/plain": [
       "130"
      ]
     },
     "execution_count": 62,
     "metadata": {},
     "output_type": "execute_result"
    }
   ],
   "source": [
    "30+60+0+40"
   ]
  },
  {
   "cell_type": "markdown",
   "metadata": {},
   "source": [
    "<span style=\"font-size: 110%;color:white;background:red\">NIE ROZUMIEM TEGO ROZWIĄZANIA"
   ]
  },
  {
   "cell_type": "markdown",
   "metadata": {},
   "source": [
    "<span style=\"font-size: 150%;color:white;background:#1155cc\"> Zadanie 99 STR 147"
   ]
  },
  {
   "cell_type": "code",
   "execution_count": 95,
   "metadata": {},
   "outputs": [
    {
     "name": "stdout",
     "output_type": "stream",
     "text": [
      "Wydajność robotników GODZIN/sztukę\n",
      "+------------+---------+---------+---------+---------+\n",
      "| robotnicy: | detal_1 | detal_2 | detal_3 | detal_4 |\n",
      "+------------+---------+---------+---------+---------+\n",
      "| robotnik 1 |    1    |   0.5   |  0.25   |   2.0   |\n",
      "+------------+---------+---------+---------+---------+\n",
      "| robotnik 2 |    2    |   0.1   |   0.5   |   1.0   |\n",
      "+------------+---------+---------+---------+---------+\n",
      "| robotnik 3 |    2    |   0.2   |   1.0   |   2.0   |\n",
      "+------------+---------+---------+---------+---------+\n",
      "| robotnik 4 |    1    |   0.5   |  0.25   |   0.5   |\n",
      "+------------+---------+---------+---------+---------+\n",
      "\n",
      "Wydajność robotników ile minut na sztukę\n",
      "+------------+---------+---------+---------+---------+\n",
      "| robotnicy: | detal_1 | detal_2 | detal_3 | detal_4 |\n",
      "+------------+---------+---------+---------+---------+\n",
      "| robotnik 1 |   60    |  30.0   |  15.0   |  120.0  |\n",
      "+------------+---------+---------+---------+---------+\n",
      "| robotnik 2 |   120   |   6.0   |  30.0   |  60.0   |\n",
      "+------------+---------+---------+---------+---------+\n",
      "| robotnik 3 |   120   |  12.0   |  60.0   |  120.0  |\n",
      "+------------+---------+---------+---------+---------+\n",
      "| robotnik 4 |   60    |  30.0   |  15.0   |  30.0   |\n",
      "+------------+---------+---------+---------+---------+\n"
     ]
    }
   ],
   "source": [
    "from beautifultable import BeautifulTable\n",
    "print('Wydajność robotników GODZIN/sztukę')\n",
    "table = BeautifulTable()\n",
    "table.column_headers = [\"robotnicy:\", \"detal_1\",\"detal_2\",\"detal_3\",\"detal_4\"]\n",
    "table.append_row([\"robotnik 1\", 1,   0.5,  0.25,  2.0])\n",
    "table.append_row([\"robotnik 2\", 2,   0.1,  0.50,  1.0])\n",
    "table.append_row([\"robotnik 3\", 2,   0.2,  1.00,  2.0])\n",
    "table.append_row([\"robotnik 4\", 1,   0.5,  0.25,  0.5])\n",
    "print(table)\n",
    "print()\n",
    "print('Wydajność robotników ile minut na sztukę')\n",
    "table = BeautifulTable()\n",
    "table.column_headers = [\"robotnicy:\", \"detal_1\",\"detal_2\",\"detal_3\",\"detal_4\"]\n",
    "table.append_row([\"robotnik 1\", 1*60,   0.5*60,  0.25*60,  2.0*60])\n",
    "table.append_row([\"robotnik 2\", 2*60,   0.1*60,  0.50*60,  1.0*60])\n",
    "table.append_row([\"robotnik 3\", 2*60,   0.2*60,  1.00*60,  2.0*60])\n",
    "table.append_row([\"robotnik 4\", 1*60,   0.5*60,  0.25*60,  0.5*60])\n",
    "print(table)"
   ]
  },
  {
   "cell_type": "markdown",
   "metadata": {
    "scrolled": false
   },
   "source": [
    "<span style=\"font-size: 250%;color:white;background:#ff9900\">część 99/A</span>\n",
    "\n",
    "<span style=\"font-size: 150%;color:#0000ff\">Krok 1: ZMIENNA DECYZYJNA Czym jest x? </span>\n",
    "\n",
    "zero-jeden   - dlaczego? bo jest to zmienna decyzyjna, to jest przydział. jeden - maszyna wykonuje detal, \n",
    "zero maszyna nie wykonuje detalu. \n",
    "\n",
    "<span style=\"font-size: 130%;color:#0000ff\"> Krok 2: Co jest w tabeli?</span>\n",
    "\n",
    "Ile godzin na sztukę wyprodukuje poszczególny robotnik.\n",
    "\n",
    "<span style=\"font-size: 130%;color:#0000ff\"> Krok 3: ograniczenie zmiennych decyzyjnych</span>\n",
    "\n",
    "\n",
    "zmiennymi decyzyjnymi jest tutaj przydział, liczba 1 lub 0. Każda robotnik może produkować tylko jeden detal.\n",
    "\n",
    "#### $\n",
    "\\left\\{\n",
    "\\begin{align} \n",
    "{x_{11}+x_{12}+x_{13}+x_{14}} & = 1 & (robotnik-1)\\\\\n",
    "{x_{21}+x_{22}+x_{23}+x_{24}} & = 1 & (robotnik-2)\\\\\n",
    "{x_{31}+x_{32}+x_{33}+x_{34}} & = 1 & (robotnik-3)\\\\\n",
    "{x_{41}+x_{42}+x_{43}+x_{44}} & = 1 & (robotnik-4)\\\\\n",
    "\\end{align}\n",
    "\\right. \n",
    "$\n",
    "\n",
    "<span style=\"font-size: 130%;color:#0000ff\"> Krok 4: ograniczenie pośrednie - każdy detal może być produkowany  tylko raz </span>\n",
    "#### $\n",
    "\\left\\{\n",
    "\\begin{align} \n",
    "{x_{11}+x_{21}+x_{31}+x_{41}} & = 1 & (detal-1)\\\\\n",
    "{x_{12}+x_{22}+x_{32}+x_{42}} & = 1 & (detal-2)\\\\\n",
    "{x_{13}+x_{23}+x_{33}+x_{43}} & = 1 & (detal-3)\\\\\n",
    "{x_{14}+x_{24}+x_{34}+x_{44}} & = 1 & (detal-4)\\\\\n",
    "\\end{align}\n",
    "\\right. \n",
    "$\n",
    "\n",
    "\n",
    "<span style=\"font-size: 130%;color:#0000ff\"> Krok 5: jaka jest funkcja celu?</span>\n",
    "\n",
    "Zminimalizować łączny nakład czasu pracy minutach na sztukę\n",
    "\n",
    "$\\bbox[5px,border:1px solid red]\n",
    "{\n",
    "\\\\\n",
    "F(x_{i,j})\\\\\n",
    "= 60x_{11}+ 30x_{12}+ 15x_{13}  + 120.0x_{14}\\\\\n",
    "+120x_{21}+   6x_{22}+ 30x_{23}+  60.0x_{24}\\\\\n",
    "+120x_{31}+  12x_{32}+ 60x_{33}+ 120.0x_{34}\\\\\n",
    "+ 60x_{41}+  30x_{42}+ 15x_{43}+  30.0x_{44}\\\\\n",
    "\\to  max\n",
    "\\qquad \n",
    "} $"
   ]
  },
  {
   "cell_type": "markdown",
   "metadata": {},
   "source": [
    "<span style=\"font-size: 150%;color:white;background:#bf9000\">METODA ZWYKŁA rozwiązania tego zadania"
   ]
  },
  {
   "cell_type": "code",
   "execution_count": 111,
   "metadata": {},
   "outputs": [],
   "source": [
    "from pulp import *\n",
    "from fractions import Fraction\n",
    "\n",
    "# zdefiniowanie problemu- to jest taka platforma do wrzucania na nia wszystkiego\n",
    "\n",
    "prob = LpProblem(\"Przykład_99_STR_147\",LpMinimize)"
   ]
  },
  {
   "cell_type": "markdown",
   "metadata": {},
   "source": [
    "Wstawianie pierwszych warunków ograniczających: ograniczeniami nieujemności\n",
    "\n",
    "#### $\n",
    "\\left\\{\n",
    "\\begin{align} \n",
    "{x_{11}} & \\geqslant 0 & (4)\\\\\n",
    "{x_{12}} & \\geqslant 0 & (5)\\\\\n",
    "{x_{13}} & \\geqslant 0 & (5)\\\\\n",
    "{x_{14}} & \\geqslant 0 & (5)\\\\\n",
    "{x_{15}} & \\geqslant 0 & (5)\\\\\n",
    "{x_{16}} & \\geqslant 0 & (5)\\\\\n",
    "{x_{21}} & \\geqslant 0 & (5)\\\\\n",
    "{x_{22}} & \\geqslant 0 & (5)\\\\\n",
    "{x_{23}} & \\geqslant 0 & (5)\\\\\n",
    "{x_{24}} & \\geqslant 0 & (5)\\\\\n",
    "{x_{25}} & \\geqslant 0 & (5)\\\\\n",
    "{x_{26}} & \\geqslant 0 & (5)\\\\\n",
    "{x_{31}} & \\geqslant 0 & (5)\\\\\n",
    "{x_{32}} & \\geqslant 0 & (5)\\\\\n",
    "{x_{33}} & \\geqslant 0 & (5)\\\\\n",
    "{x_{34}} & \\geqslant 0 & (5)\\\\\n",
    "{x_{35}} & \\geqslant 0 & (5)\\\\\n",
    "{x_{36}} & \\geqslant 0 & (5)\\\\\n",
    "{x_{41}} & \\geqslant 0 & (5)\\\\\n",
    "{x_{42}} & \\geqslant 0 & (5)\\\\\n",
    "{x_{43}} & \\geqslant 0 & (5)\\\\\n",
    "{x_{44}} & \\geqslant 0 & (5)\\\\\n",
    "{x_{45}} & \\geqslant 0 & (5)\\\\\n",
    "{x_{46}} & \\geqslant 0 & (5)\\\\\n",
    "{x_{51}} & \\geqslant 0 & (5)\\\\\n",
    "{x_{52}} & \\geqslant 0 & (5)\\\\\n",
    "{x_{53}} & \\geqslant 0 & (5)\\\\\n",
    "{x_{54}} & \\geqslant 0 & (5)\\\\\n",
    "{x_{55}} & \\geqslant 0 & (5)\\\\\n",
    "{x_{56}} & \\geqslant 0 & (5)\\\\\n",
    "{x_{61}} & \\geqslant 0 & (5)\\\\\n",
    "{x_{62}} & \\geqslant 0 & (5)\\\\\n",
    "{x_{63}} & \\geqslant 0 & (5)\\\\\n",
    "{x_{64}} & \\geqslant 0 & (5)\\\\\n",
    "{x_{65}} & \\geqslant 0 & (5)\\\\\n",
    "{x_{66}} & \\geqslant 0 & (5)\\\\\n",
    "\\end{align}\n",
    "\\right. \n",
    "$"
   ]
  },
  {
   "cell_type": "markdown",
   "metadata": {},
   "source": [
    "<span style=\"font-size: 150%;color:white;background:#bf9000\">METODA ZWYKŁA rozwiązania tego zadania"
   ]
  },
  {
   "cell_type": "code",
   "execution_count": 99,
   "metadata": {},
   "outputs": [],
   "source": [
    "# \"Continuous\"\n",
    "# \"Integer\"\n",
    "\n",
    "x11=LpVariable(\"x11\",lowBound=0,upBound=None, cat=\"Integer\")\n",
    "x12=LpVariable(\"x12\",lowBound=0,upBound=None, cat=\"Integer\")\n",
    "x13=LpVariable(\"x13\",lowBound=0,upBound=None, cat=\"Integer\")\n",
    "x14=LpVariable(\"x14\",lowBound=0,upBound=None, cat=\"Integer\")\n",
    "x15=LpVariable(\"x15\",lowBound=0,upBound=None, cat=\"Integer\")\n",
    "x16=LpVariable(\"x16\",lowBound=0,upBound=None, cat=\"Integer\")\n",
    "\n",
    "x21=LpVariable(\"x21\",lowBound=0,upBound=None, cat=\"Integer\")\n",
    "x22=LpVariable(\"x22\",lowBound=0,upBound=None, cat=\"Integer\")\n",
    "x23=LpVariable(\"x23\",lowBound=0,upBound=None, cat=\"Integer\")\n",
    "x24=LpVariable(\"x24\",lowBound=0,upBound=None, cat=\"Integer\")\n",
    "x25=LpVariable(\"x25\",lowBound=0,upBound=None, cat=\"Integer\")\n",
    "x26=LpVariable(\"x26\",lowBound=0,upBound=None, cat=\"Integer\")\n",
    "\n",
    "x31=LpVariable(\"x31\",lowBound=0,upBound=None, cat=\"Integer\")\n",
    "x32=LpVariable(\"x32\",lowBound=0,upBound=None, cat=\"Integer\")\n",
    "x33=LpVariable(\"x33\",lowBound=0,upBound=None, cat=\"Integer\")\n",
    "x34=LpVariable(\"x34\",lowBound=0,upBound=None, cat=\"Integer\") \n",
    "x35=LpVariable(\"x35\",lowBound=0,upBound=None, cat=\"Integer\")\n",
    "x36=LpVariable(\"x36\",lowBound=0,upBound=None, cat=\"Integer\") \n",
    "\n",
    "x41=LpVariable(\"x41\",lowBound=0,upBound=None, cat=\"Integer\")  \n",
    "x42=LpVariable(\"x42\",lowBound=0,upBound=None, cat=\"Integer\")  \n",
    "x43=LpVariable(\"x43\",lowBound=0,upBound=None, cat=\"Integer\")  \n",
    "x44=LpVariable(\"x44\",lowBound=0,upBound=None, cat=\"Integer\")  \n",
    "x45=LpVariable(\"x45\",lowBound=0,upBound=None, cat=\"Integer\")  \n",
    "x46=LpVariable(\"x46\",lowBound=0,upBound=None, cat=\"Integer\")  \n",
    "\n",
    "x51=LpVariable(\"x51\",lowBound=0,upBound=None, cat=\"Integer\")  \n",
    "x52=LpVariable(\"x52\",lowBound=0,upBound=None, cat=\"Integer\")  \n",
    "x53=LpVariable(\"x53\",lowBound=0,upBound=None, cat=\"Integer\")  \n",
    "x54=LpVariable(\"x54\",lowBound=0,upBound=None, cat=\"Integer\")  \n",
    "x55=LpVariable(\"x55\",lowBound=0,upBound=None, cat=\"Integer\")  \n",
    "x56=LpVariable(\"x56\",lowBound=0,upBound=None, cat=\"Integer\") \n",
    "\n",
    "x61=LpVariable(\"x61\",lowBound=0,upBound=None, cat=\"Integer\")  \n",
    "x62=LpVariable(\"x62\",lowBound=0,upBound=None, cat=\"Integer\")  \n",
    "x63=LpVariable(\"x63\",lowBound=0,upBound=None, cat=\"Integer\")  \n",
    "x64=LpVariable(\"x64\",lowBound=0,upBound=None, cat=\"Integer\")  \n",
    "x65=LpVariable(\"x65\",lowBound=0,upBound=None, cat=\"Integer\")  \n",
    "x66=LpVariable(\"x66\",lowBound=0,upBound=None, cat=\"Integer\") "
   ]
  },
  {
   "cell_type": "markdown",
   "metadata": {},
   "source": [
    "### Dodajemy do platformy funkcje celu\n",
    "\n",
    "Zmaksymalizować efektywność pracy.\n",
    "\n",
    "$\n",
    "F(x_{i,j})\\\\\n",
    "= 60x_{11}+ 30x_{12}+ 15x_{13}  + 120.0x_{14}\\\\\n",
    "+120x_{21}+   6x_{22}+ 30x_{23}+  60.0x_{24}\\\\\n",
    "+120x_{31}+  12x_{32}+ 60x_{33}+ 120.0x_{34}\\\\\n",
    "+ 60x_{41}+  30x_{42}+ 15x_{43}+  30.0x_{44}\\\\\n",
    "\\to  min\n",
    "$"
   ]
  },
  {
   "cell_type": "code",
   "execution_count": 100,
   "metadata": {},
   "outputs": [],
   "source": [
    "# objective function\n",
    "prob +=60*x11+30*x12+15*x13+120*x14+120*x21+6*x22+30*x23+60*x24+120*x31+ 12*x32+ 60*x33+ 120*x34+60*x41+30*x42+ 15*x43+30*x44, \"minimalizacja łącznych nakładów pracy\""
   ]
  },
  {
   "cell_type": "code",
   "execution_count": 101,
   "metadata": {},
   "outputs": [
    {
     "name": "stdout",
     "output_type": "stream",
     "text": [
      "Przykład_99_STR_147:\n",
      "MINIMIZE\n",
      "60*x11 + 30*x12 + 15*x13 + 120*x14 + 120*x21 + 6*x22 + 30*x23 + 60*x24 + 120*x31 + 12*x32 + 60*x33 + 120*x34 + 60*x41 + 30*x42 + 15*x43 + 30*x44 + 0\n",
      "VARIABLES\n",
      "0 <= x11 Integer\n",
      "0 <= x12 Integer\n",
      "0 <= x13 Integer\n",
      "0 <= x14 Integer\n",
      "0 <= x21 Integer\n",
      "0 <= x22 Integer\n",
      "0 <= x23 Integer\n",
      "0 <= x24 Integer\n",
      "0 <= x31 Integer\n",
      "0 <= x32 Integer\n",
      "0 <= x33 Integer\n",
      "0 <= x34 Integer\n",
      "0 <= x41 Integer\n",
      "0 <= x42 Integer\n",
      "0 <= x43 Integer\n",
      "0 <= x44 Integer\n",
      "\n"
     ]
    }
   ],
   "source": [
    "print(prob)"
   ]
  },
  {
   "cell_type": "markdown",
   "metadata": {},
   "source": [
    "#### $\n",
    "\\left\\{\n",
    "\\begin{align} \n",
    "{x_{11}+x_{12}+x_{13}+x_{14}} & = 1 & (maszyna-1)\\\\\n",
    "{x_{21}+x_{22}+x_{23}+x_{24}} & = 1 & (maszyna-2)\\\\\n",
    "{x_{31}+x_{32}+x_{33}+x_{34}} & = 1 & (maszyna-3)\\\\\n",
    "{x_{41}+x_{42}+x_{43}+x_{44}} & = 1 & (maszyna-4)\\\\\n",
    "\\end{align}\n",
    "\\right. \n",
    "$\n",
    "\n",
    "<span style=\"font-size: 130%;color:#0000ff\"> Krok 4: ograniczenie pośrednie - każdy detal może być produkowany  tylko raz </span>\n",
    "#### $\n",
    "\\left\\{\n",
    "\\begin{align} \n",
    "{x_{11}+x_{21}+x_{31}+x_{41}} & = 1 & (detal-1)\\\\\n",
    "{x_{12}+x_{22}+x_{32}+x_{42}} & = 1 & (detal-2)\\\\\n",
    "{x_{13}+x_{23}+x_{33}+x_{43}} & = 1 & (detal-3)\\\\\n",
    "{x_{14}+x_{24}+x_{34}+x_{44}} & = 1 & (detal-4)\\\\\n",
    "\\end{align}\n",
    "\\right. \n",
    "$\n"
   ]
  },
  {
   "cell_type": "code",
   "execution_count": 102,
   "metadata": {},
   "outputs": [],
   "source": [
    "# OGRANICZENIA ROBOTNIKÓW\n",
    "prob += x11 + x21 + x31+ x41  == 1\n",
    "prob += x12 + x22 + x32+ x42  == 1\n",
    "prob += x13 + x23 + x33+ x43  == 1\n",
    "prob += x14 + x24 + x34+ x44  == 1"
   ]
  },
  {
   "cell_type": "code",
   "execution_count": 103,
   "metadata": {},
   "outputs": [],
   "source": [
    "# OGRANICZENIA DLA DETALI\n",
    "prob += x11 + x12 + x13 + x14 == 1  # PRODUKT A\n",
    "prob += x21 + x22 + x23 + x24 == 1  # PRODUKT B\n",
    "prob += x31 + x32 + x33 + x34 == 1  # PRODUKT C\n",
    "prob += x41 + x42 + x43 + x44 == 1  # PRODUKT D"
   ]
  },
  {
   "cell_type": "code",
   "execution_count": 104,
   "metadata": {},
   "outputs": [
    {
     "name": "stdout",
     "output_type": "stream",
     "text": [
      "Przykład_99_STR_147:\n",
      "MINIMIZE\n",
      "60*x11 + 30*x12 + 15*x13 + 120*x14 + 120*x21 + 6*x22 + 30*x23 + 60*x24 + 120*x31 + 12*x32 + 60*x33 + 120*x34 + 60*x41 + 30*x42 + 15*x43 + 30*x44 + 0\n",
      "SUBJECT TO\n",
      "_C1: x11 + x21 + x31 + x41 = 1\n",
      "\n",
      "_C2: x12 + x22 + x32 + x42 = 1\n",
      "\n",
      "_C3: x13 + x23 + x33 + x43 = 1\n",
      "\n",
      "_C4: x14 + x24 + x34 + x44 = 1\n",
      "\n",
      "_C5: x11 + x12 + x13 + x14 = 1\n",
      "\n",
      "_C6: x21 + x22 + x23 + x24 = 1\n",
      "\n",
      "_C7: x31 + x32 + x33 + x34 = 1\n",
      "\n",
      "_C8: x41 + x42 + x43 + x44 = 1\n",
      "\n",
      "VARIABLES\n",
      "0 <= x11 Integer\n",
      "0 <= x12 Integer\n",
      "0 <= x13 Integer\n",
      "0 <= x14 Integer\n",
      "0 <= x21 Integer\n",
      "0 <= x22 Integer\n",
      "0 <= x23 Integer\n",
      "0 <= x24 Integer\n",
      "0 <= x31 Integer\n",
      "0 <= x32 Integer\n",
      "0 <= x33 Integer\n",
      "0 <= x34 Integer\n",
      "0 <= x41 Integer\n",
      "0 <= x42 Integer\n",
      "0 <= x43 Integer\n",
      "0 <= x44 Integer\n",
      "\n"
     ]
    }
   ],
   "source": [
    "print(prob)"
   ]
  },
  {
   "cell_type": "code",
   "execution_count": 105,
   "metadata": {},
   "outputs": [
    {
     "name": "stdout",
     "output_type": "stream",
     "text": [
      "Przykład_99_STR_147:\n",
      "MINIMIZE\n",
      "60*x11 + 30*x12 + 15*x13 + 120*x14 + 120*x21 + 6*x22 + 30*x23 + 60*x24 + 120*x31 + 12*x32 + 60*x33 + 120*x34 + 60*x41 + 30*x42 + 15*x43 + 30*x44 + 0\n",
      "SUBJECT TO\n",
      "_C1: x11 + x21 + x31 + x41 = 1\n",
      "\n",
      "_C2: x12 + x22 + x32 + x42 = 1\n",
      "\n",
      "_C3: x13 + x23 + x33 + x43 = 1\n",
      "\n",
      "_C4: x14 + x24 + x34 + x44 = 1\n",
      "\n",
      "_C5: x11 + x12 + x13 + x14 = 1\n",
      "\n",
      "_C6: x21 + x22 + x23 + x24 = 1\n",
      "\n",
      "_C7: x31 + x32 + x33 + x34 = 1\n",
      "\n",
      "_C8: x41 + x42 + x43 + x44 = 1\n",
      "\n",
      "VARIABLES\n",
      "0 <= x11 Integer\n",
      "0 <= x12 Integer\n",
      "0 <= x13 Integer\n",
      "0 <= x14 Integer\n",
      "0 <= x21 Integer\n",
      "0 <= x22 Integer\n",
      "0 <= x23 Integer\n",
      "0 <= x24 Integer\n",
      "0 <= x31 Integer\n",
      "0 <= x32 Integer\n",
      "0 <= x33 Integer\n",
      "0 <= x34 Integer\n",
      "0 <= x41 Integer\n",
      "0 <= x42 Integer\n",
      "0 <= x43 Integer\n",
      "0 <= x44 Integer\n",
      "\n"
     ]
    }
   ],
   "source": [
    "print(prob)"
   ]
  },
  {
   "cell_type": "markdown",
   "metadata": {},
   "source": [
    "### Rozwiązanie problemu"
   ]
  },
  {
   "cell_type": "code",
   "execution_count": 106,
   "metadata": {},
   "outputs": [
    {
     "name": "stdout",
     "output_type": "stream",
     "text": [
      "prob.solve 1\n",
      "Status: Optimal\n"
     ]
    }
   ],
   "source": [
    "print(\"prob.solve\",prob.solve())\n",
    "# status of the solution\n",
    "print(f\"Status: {LpStatus[prob.status]}\")"
   ]
  },
  {
   "cell_type": "code",
   "execution_count": 109,
   "metadata": {},
   "outputs": [
    {
     "name": "stdout",
     "output_type": "stream",
     "text": [
      "x11 = 1\n",
      "x12 = 0\n",
      "x13 = 0\n",
      "x14 = 0\n",
      "x21 = 0\n",
      "x22 = 0\n",
      "x23 = 1\n",
      "x24 = 0\n",
      "x31 = 0\n",
      "x32 = 1\n",
      "x33 = 0\n",
      "x34 = 0\n",
      "x41 = 0\n",
      "x42 = 0\n",
      "x43 = 0\n",
      "x44 = 1\n"
     ]
    }
   ],
   "source": [
    "for v in prob.variables():\n",
    "    print(f\"{v.name} = {str(Fraction(v.varValue).limit_denominator())}\")"
   ]
  },
  {
   "cell_type": "code",
   "execution_count": 110,
   "metadata": {},
   "outputs": [
    {
     "name": "stdout",
     "output_type": "stream",
     "text": [
      "max (x11+x12+x13+x21+x22+x23+x31+x32+x33+x41+x42+x43) = 132\n"
     ]
    }
   ],
   "source": [
    "# maximum value of the objective function\n",
    "print(f\"max (x11+x12+x13+x21+x22+x23+x31+x32+x33+x41+x42+x43) = {str(Fraction(value(prob.objective)).limit_denominator())}\")"
   ]
  },
  {
   "cell_type": "markdown",
   "metadata": {},
   "source": [
    "<span style=\"font-size: 130%;color:#0000ff\">Minimalny łaczny nakład pracy to 2 godziny 12 minut."
   ]
  },
  {
   "cell_type": "markdown",
   "metadata": {},
   "source": [
    "<span style=\"font-size: 150%;color:white;background:#bf9000\">METODA MACIERZOWA rozwiązania tego zadania"
   ]
  },
  {
   "cell_type": "code",
   "execution_count": 124,
   "metadata": {},
   "outputs": [],
   "source": [
    "from pulp import *\n",
    "\n",
    "# Tworze listę zakładów\n",
    "Warehouses = [\"robotnik 1\",\"robotnik 2\",\"robotnik 3\",\"robotnik 4\"]\n",
    "\n",
    "# Tworze słownik ile każdy PROGRAM może  być maksymalnie emitowany\n",
    "supply = {\"robotnik 1\": 1,\n",
    "          \"robotnik 2\": 1,\n",
    "          \"robotnik 3\": 1,\n",
    "          \"robotnik 4\": 1}"
   ]
  },
  {
   "cell_type": "code",
   "execution_count": 125,
   "metadata": {},
   "outputs": [
    {
     "name": "stdout",
     "output_type": "stream",
     "text": [
      "Warehouses: ['robotnik 1', 'robotnik 2', 'robotnik 3', 'robotnik 4']\n",
      "supply: {'robotnik 1': 1, 'robotnik 2': 1, 'robotnik 3': 1, 'robotnik 4': 1}\n",
      "Bars: ['detal_1', 'detal_2', 'detal_3', 'detal_4']\n",
      "Demand: {'detal_1': 1, 'detal_2': 1, 'detal_3': 1, 'detal_4': 1}\n"
     ]
    }
   ],
   "source": [
    "# Tworzę listę produktów\n",
    "Bars = [\"detal_1\", \"detal_2\", \"detal_3\",\"detal_4\"]\n",
    "\n",
    "# dokładna ilość detali do produkcji\n",
    "demand = {\"detal_1\": 1,\n",
    "        \"detal_2\": 1,\n",
    "        \"detal_3\": 1,\n",
    "        \"detal_4\": 1 \n",
    "        }\n",
    "print('Warehouses:',Warehouses)\n",
    "print('supply:',supply)\n",
    "print('Bars:',Bars)\n",
    "print('Demand:',demand)"
   ]
  },
  {
   "cell_type": "code",
   "execution_count": 126,
   "metadata": {},
   "outputs": [
    {
     "name": "stdout",
     "output_type": "stream",
     "text": [
      "Wydajność robotników ile minut na sztukę\n",
      "+------------+---------+---------+---------+---------+\n",
      "| robotnicy: | detal_1 | detal_2 | detal_3 | detal_4 |\n",
      "+------------+---------+---------+---------+---------+\n",
      "| robotnik 1 |   60    |  30.0   |  15.0   |  120.0  |\n",
      "+------------+---------+---------+---------+---------+\n",
      "| robotnik 2 |   120   |   6.0   |  30.0   |  60.0   |\n",
      "+------------+---------+---------+---------+---------+\n",
      "| robotnik 3 |   120   |  12.0   |  60.0   |  120.0  |\n",
      "+------------+---------+---------+---------+---------+\n",
      "| robotnik 4 |   60    |  30.0   |  15.0   |  30.0   |\n",
      "+------------+---------+---------+---------+---------+\n"
     ]
    }
   ],
   "source": [
    "print('Wydajność robotników ile minut na sztukę')\n",
    "table = BeautifulTable()\n",
    "table.column_headers = [\"robotnicy:\", \"detal_1\",\"detal_2\",\"detal_3\",\"detal_4\"]\n",
    "table.append_row([\"robotnik 1\", 1*60,   0.5*60,  0.25*60,  2.0*60])\n",
    "table.append_row([\"robotnik 2\", 2*60,   0.1*60,  0.50*60,  1.0*60])\n",
    "table.append_row([\"robotnik 3\", 2*60,   0.2*60,  1.00*60,  2.0*60])\n",
    "table.append_row([\"robotnik 4\", 1*60,   0.5*60,  0.25*60,  0.5*60])\n",
    "print(table)"
   ]
  },
  {
   "cell_type": "code",
   "execution_count": 127,
   "metadata": {},
   "outputs": [],
   "source": [
    "        #maszyna\n",
    "        # 1,  2,  3,  4 \n",
    "\n",
    "costs = [   \n",
    "        [ 60, 30, 15,  120],  #detal_1\n",
    "        [120,  6, 30,   60],  #detal_2\n",
    "        [120, 12, 60,  120],  #detal_3\n",
    "        [ 60, 30, 15,   30]   #detal_4\n",
    "         ]"
   ]
  },
  {
   "cell_type": "code",
   "execution_count": 128,
   "metadata": {},
   "outputs": [
    {
     "data": {
      "text/plain": [
       "{'robotnik 1': {'detal_1': 60, 'detal_2': 30, 'detal_3': 15, 'detal_4': 120},\n",
       " 'robotnik 2': {'detal_1': 120, 'detal_2': 6, 'detal_3': 30, 'detal_4': 60},\n",
       " 'robotnik 3': {'detal_1': 120, 'detal_2': 12, 'detal_3': 60, 'detal_4': 120},\n",
       " 'robotnik 4': {'detal_1': 60, 'detal_2': 30, 'detal_3': 15, 'detal_4': 30}}"
      ]
     },
     "execution_count": 128,
     "metadata": {},
     "output_type": "execute_result"
    }
   ],
   "source": [
    "# The cost data is made into a dictionary\n",
    "costs = makeDict([Warehouses,Bars],costs,0)\n",
    "costs"
   ]
  },
  {
   "cell_type": "code",
   "execution_count": 129,
   "metadata": {},
   "outputs": [
    {
     "name": "stdout",
     "output_type": "stream",
     "text": [
      "Beer_Distribution_Problem:\n",
      "MINIMIZE\n",
      "None\n",
      "VARIABLES\n",
      "\n"
     ]
    }
   ],
   "source": [
    "# Creates the 'prob' variable to contain the problem data\n",
    "prob = LpProblem(\"Beer Distribution Problem\",LpMinimize)\n",
    "print(prob)"
   ]
  },
  {
   "cell_type": "code",
   "execution_count": 130,
   "metadata": {},
   "outputs": [
    {
     "name": "stdout",
     "output_type": "stream",
     "text": [
      "[('robotnik 1', 'detal_1'), ('robotnik 1', 'detal_2'), ('robotnik 1', 'detal_3'), ('robotnik 1', 'detal_4'), ('robotnik 2', 'detal_1'), ('robotnik 2', 'detal_2'), ('robotnik 2', 'detal_3'), ('robotnik 2', 'detal_4'), ('robotnik 3', 'detal_1'), ('robotnik 3', 'detal_2'), ('robotnik 3', 'detal_3'), ('robotnik 3', 'detal_4'), ('robotnik 4', 'detal_1'), ('robotnik 4', 'detal_2'), ('robotnik 4', 'detal_3'), ('robotnik 4', 'detal_4')]\n"
     ]
    }
   ],
   "source": [
    "# Creates a list of tuples containing all the possible routes for transport\n",
    "Routes = [(w,b) for w in Warehouses for b in Bars]\n",
    "print(Routes)"
   ]
  },
  {
   "cell_type": "code",
   "execution_count": 131,
   "metadata": {},
   "outputs": [
    {
     "data": {
      "text/plain": [
       "{'robotnik 1': {'detal_1': Route_robotnik_1_detal_1,\n",
       "  'detal_2': Route_robotnik_1_detal_2,\n",
       "  'detal_3': Route_robotnik_1_detal_3,\n",
       "  'detal_4': Route_robotnik_1_detal_4},\n",
       " 'robotnik 2': {'detal_1': Route_robotnik_2_detal_1,\n",
       "  'detal_2': Route_robotnik_2_detal_2,\n",
       "  'detal_3': Route_robotnik_2_detal_3,\n",
       "  'detal_4': Route_robotnik_2_detal_4},\n",
       " 'robotnik 3': {'detal_1': Route_robotnik_3_detal_1,\n",
       "  'detal_2': Route_robotnik_3_detal_2,\n",
       "  'detal_3': Route_robotnik_3_detal_3,\n",
       "  'detal_4': Route_robotnik_3_detal_4},\n",
       " 'robotnik 4': {'detal_1': Route_robotnik_4_detal_1,\n",
       "  'detal_2': Route_robotnik_4_detal_2,\n",
       "  'detal_3': Route_robotnik_4_detal_3,\n",
       "  'detal_4': Route_robotnik_4_detal_4}}"
      ]
     },
     "execution_count": 131,
     "metadata": {},
     "output_type": "execute_result"
    }
   ],
   "source": [
    "# A dictionary called 'Vars' is created to contain the referenced variables(the routes)\n",
    "vars = LpVariable.dicts(\"Route\",(Warehouses,Bars),0,None,LpInteger)\n",
    "vars"
   ]
  },
  {
   "cell_type": "code",
   "execution_count": 132,
   "metadata": {},
   "outputs": [],
   "source": [
    "# The objective function is added to 'prob' first\n",
    "prob += lpSum([vars[w][b]*costs[w][b] for (w,b) in Routes]), \"Sum_of_Transporting_Costs\"\n",
    "\n",
    "# The supply maximum constraints are added to prob for each supply node (warehouse)\n",
    "for w in Warehouses:\n",
    "    prob += lpSum([vars[w][b] for b in Bars])<=supply[w], \"Sum_of_Products_out_of_Warehouse_%s\"%w\n",
    "\n",
    "    # The demand minimum constraints are added to prob for each demand node (bar)\n",
    "for b in Bars:\n",
    "    prob += lpSum([vars[w][b] for w in Warehouses])>=demand[b], \"Sum_of_Products_into_Bar%s\"%b"
   ]
  },
  {
   "cell_type": "code",
   "execution_count": 133,
   "metadata": {},
   "outputs": [
    {
     "data": {
      "text/plain": [
       "[Route_robotnik_1_detal_1,\n",
       " Route_robotnik_1_detal_2,\n",
       " Route_robotnik_1_detal_3,\n",
       " Route_robotnik_1_detal_4,\n",
       " Route_robotnik_2_detal_1,\n",
       " Route_robotnik_2_detal_2,\n",
       " Route_robotnik_2_detal_3,\n",
       " Route_robotnik_2_detal_4,\n",
       " Route_robotnik_3_detal_1,\n",
       " Route_robotnik_3_detal_2,\n",
       " Route_robotnik_3_detal_3,\n",
       " Route_robotnik_3_detal_4,\n",
       " Route_robotnik_4_detal_1,\n",
       " Route_robotnik_4_detal_2,\n",
       " Route_robotnik_4_detal_3,\n",
       " Route_robotnik_4_detal_4]"
      ]
     },
     "execution_count": 133,
     "metadata": {},
     "output_type": "execute_result"
    }
   ],
   "source": [
    "# The problem data is written to an .lp file\n",
    "prob.writeLP(\"BeerDistributionProblem.lp\")"
   ]
  },
  {
   "cell_type": "code",
   "execution_count": 134,
   "metadata": {},
   "outputs": [
    {
     "name": "stdout",
     "output_type": "stream",
     "text": [
      "prob.solve 1\n",
      "Status: Optimal\n"
     ]
    }
   ],
   "source": [
    "# The problem is solved using PuLP's choice of Solver\n",
    "print(\"prob.solve\",prob.solve())\n",
    "\n",
    "# The status of the solution is printed to the screen\n",
    "print(\"Status:\", LpStatus[prob.status])"
   ]
  },
  {
   "cell_type": "code",
   "execution_count": 135,
   "metadata": {},
   "outputs": [
    {
     "name": "stdout",
     "output_type": "stream",
     "text": [
      "Route_robotnik_1_detal_1 = 1.0\n",
      "Route_robotnik_1_detal_2 = 0.0\n",
      "Route_robotnik_1_detal_3 = 0.0\n",
      "Route_robotnik_1_detal_4 = 0.0\n",
      "Route_robotnik_2_detal_1 = 0.0\n",
      "Route_robotnik_2_detal_2 = 0.0\n",
      "Route_robotnik_2_detal_3 = 1.0\n",
      "Route_robotnik_2_detal_4 = 0.0\n",
      "Route_robotnik_3_detal_1 = 0.0\n",
      "Route_robotnik_3_detal_2 = 1.0\n",
      "Route_robotnik_3_detal_3 = 0.0\n",
      "Route_robotnik_3_detal_4 = 0.0\n",
      "Route_robotnik_4_detal_1 = 0.0\n",
      "Route_robotnik_4_detal_2 = 0.0\n",
      "Route_robotnik_4_detal_3 = 0.0\n",
      "Route_robotnik_4_detal_4 = 1.0\n"
     ]
    }
   ],
   "source": [
    "# Each of the variables is printed with it's resolved optimum value\n",
    "for v in prob.variables():\n",
    "    print(v.name, \"=\", v.varValue)"
   ]
  },
  {
   "cell_type": "code",
   "execution_count": 136,
   "metadata": {},
   "outputs": [
    {
     "name": "stdout",
     "output_type": "stream",
     "text": [
      "wydajność produkcji w szt. na godzinę =  132.0\n"
     ]
    }
   ],
   "source": [
    "# The optimised objective function value is printed to the screen    \n",
    "print(\"wydajność produkcji w szt. na godzinę = \", value(prob.objective))"
   ]
  },
  {
   "cell_type": "code",
   "execution_count": 140,
   "metadata": {},
   "outputs": [
    {
     "name": "stdout",
     "output_type": "stream",
     "text": [
      "wydajność produkcji w szt. na godzinę =  132\n"
     ]
    }
   ],
   "source": [
    "print(\"wydajność produkcji w szt. na godzinę = \", 60+30+12+30)"
   ]
  },
  {
   "cell_type": "code",
   "execution_count": 138,
   "metadata": {},
   "outputs": [
    {
     "name": "stdout",
     "output_type": "stream",
     "text": [
      "Wydajność robotników ile minut na sztukę\n",
      "+------------+---------+---------+---------+---------+\n",
      "| robotnicy: | detal_1 | detal_2 | detal_3 | detal_4 |\n",
      "+------------+---------+---------+---------+---------+\n",
      "| robotnik 1 |   60    |  30.0   |  15.0   |  120.0  |\n",
      "+------------+---------+---------+---------+---------+\n",
      "| robotnik 2 |   120   |   6.0   |  30.0   |  60.0   |\n",
      "+------------+---------+---------+---------+---------+\n",
      "| robotnik 3 |   120   |  12.0   |  60.0   |  120.0  |\n",
      "+------------+---------+---------+---------+---------+\n",
      "| robotnik 4 |   60    |  30.0   |  15.0   |  30.0   |\n",
      "+------------+---------+---------+---------+---------+\n"
     ]
    }
   ],
   "source": [
    "print('Wydajność robotników ile minut na sztukę')\n",
    "table = BeautifulTable()\n",
    "table.column_headers = [\"robotnicy:\", \"detal_1\",\"detal_2\",\"detal_3\",\"detal_4\"]\n",
    "table.append_row([\"robotnik 1\", 1*60,   0.5*60,  0.25*60,  2.0*60])\n",
    "table.append_row([\"robotnik 2\", 2*60,   0.1*60,  0.50*60,  1.0*60])\n",
    "table.append_row([\"robotnik 3\", 2*60,   0.2*60,  1.00*60,  2.0*60])\n",
    "table.append_row([\"robotnik 4\", 1*60,   0.5*60,  0.25*60,  0.5*60])\n",
    "print(table)"
   ]
  },
  {
   "cell_type": "code",
   "execution_count": null,
   "metadata": {},
   "outputs": [],
   "source": []
  },
  {
   "cell_type": "code",
   "execution_count": null,
   "metadata": {},
   "outputs": [],
   "source": []
  },
  {
   "cell_type": "code",
   "execution_count": null,
   "metadata": {},
   "outputs": [],
   "source": []
  },
  {
   "cell_type": "code",
   "execution_count": null,
   "metadata": {},
   "outputs": [],
   "source": []
  },
  {
   "cell_type": "code",
   "execution_count": null,
   "metadata": {},
   "outputs": [],
   "source": []
  },
  {
   "cell_type": "code",
   "execution_count": null,
   "metadata": {},
   "outputs": [],
   "source": []
  },
  {
   "cell_type": "code",
   "execution_count": null,
   "metadata": {},
   "outputs": [],
   "source": []
  },
  {
   "cell_type": "code",
   "execution_count": null,
   "metadata": {},
   "outputs": [],
   "source": []
  },
  {
   "cell_type": "code",
   "execution_count": null,
   "metadata": {},
   "outputs": [],
   "source": []
  },
  {
   "cell_type": "code",
   "execution_count": null,
   "metadata": {},
   "outputs": [],
   "source": []
  },
  {
   "cell_type": "markdown",
   "metadata": {},
   "source": []
  }
 ],
 "metadata": {
  "kernelspec": {
   "display_name": "Python 3",
   "language": "python",
   "name": "python3"
  },
  "language_info": {
   "codemirror_mode": {
    "name": "ipython",
    "version": 3
   },
   "file_extension": ".py",
   "mimetype": "text/x-python",
   "name": "python",
   "nbconvert_exporter": "python",
   "pygments_lexer": "ipython3",
   "version": "3.7.4"
  }
 },
 "nbformat": 4,
 "nbformat_minor": 2
}
