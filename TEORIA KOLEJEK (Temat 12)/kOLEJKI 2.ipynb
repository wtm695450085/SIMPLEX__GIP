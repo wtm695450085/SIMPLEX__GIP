{
 "cells": [
  {
   "cell_type": "markdown",
   "metadata": {},
   "source": [
    "ŚREDNIA CZĘSTOTLIWOŚĆ PRZYJ\n",
    "\n",
    "ilość klientów którzy przychodzą do sklepu w ciągu godziny\n",
    "\n",
    " - W ciągu 2 kluczowych godzin sprzedaży przyszły 254 osoby - to znaczy, że średnia częstotliwość przyjść wynosił 253/2= 127 osób na godzinę.\n",
    "\n",
    "ŚREDNIA CZAS obsłużenia osób\n",
    "  - W ciągu 2 kluczowych godzi, każdy POS obsłużuguje średnio 33 osóby w ciągu godziny - to znaczy, że średni czas rozładunków wynosił 53/11= 4.82 samochodu na godzinę. \n",
    " - Czyli 11/53 = 0.2075 godziny na samochód, (11*60)/53 = 12.4528 minut "
   ]
  },
  {
   "cell_type": "code",
   "execution_count": 1,
   "metadata": {},
   "outputs": [],
   "source": [
    "60/29"
   ]
  },
  {
   "cell_type": "markdown",
   "metadata": {},
   "source": [
    "<span style=\"font-size: 180%;color:black\">\n",
    "$$\\text{Wskaźnik intensywności ruchu:} \\\\   \n",
    " \\bbox[#f3f3f3,16px,border:1px solid black]\n",
    "{\n",
    "{ϱ}=\\frac{λ}{μr} \n",
    "} \\qquad (1)\n",
    "$$"
   ]
  },
  {
   "cell_type": "code",
   "execution_count": 2,
   "metadata": {},
   "outputs": [],
   "source": [
    "def factorial(n): \n",
    "    return 1 if (n==1 or n==0) else n * factorial(n - 1);  "
   ]
  },
  {
   "cell_type": "markdown",
   "metadata": {},
   "source": [
    "# 1. Prawdopodobieństwo, że nie będzie kolejki"
   ]
  },
  {
   "cell_type": "markdown",
   "metadata": {},
   "source": [
    "<span style=\"font-size: 180%;color:black\"> \n",
    "$${\n",
    "{\\displaystyle\\sum_{i=0}^{r-1} \\frac{𝜚^i}{i!}}\n",
    "}\\qquad $$\n"
   ]
  },
  {
   "cell_type": "markdown",
   "metadata": {},
   "source": [
    "<span style=\"font-size: 180%;color:black\"> \n",
    "$${\n",
    "{\\displaystyle\\sum_{i=0}^{r-1} \\frac{𝜚^i}{i!}}= \\frac{0.9^{(1-1)}}{{(1-1)}!}+\\frac{0.9^{(2-1)}}{{(2-1)}!}+\\frac{0.9^{(3-1)}}{{(3-1)}!}=1+0.9+0.405 \\approx 2.305\n",
    "}\\qquad $$"
   ]
  },
  {
   "cell_type": "code",
   "execution_count": 3,
   "metadata": {},
   "outputs": [],
   "source": [
    "def dzings(ϱ,r):\n",
    "    \n",
    "    a1 = (ϱ**0)/factorial(0) # gdy kanałów jest r=1 wtedy NT = 1\n",
    "    a2 = a1+(ϱ**1)/factorial(1) # gdy kanałów jest r=2 wtedy NT = a0\n",
    "    a3 = a2+(ϱ**2)/factorial(2) # gdy kanałów jest r=3 wtedy NT = a0 + a1 \n",
    "    a4 = a3+(ϱ**3)/factorial(3) # gdy kanałów jest r=4 wtedy NT = a0 + a1 + a2 \n",
    "    a5 = a4+(ϱ**4)/factorial(4) # gdy kanałów jest r=5 wtedy NT = a0 + a1 + a2 + a3 \n",
    "    a6 = a5+(ϱ**5)/factorial(5) # gdy kanałów jest r=6 wtedy NT = a0 + a1 + a2 + a3 + a4\n",
    "    a7 = a6+(ϱ**6)/factorial(6) # gdy kanałów jest r=7 wtedy NT = a0 + a1 + a2 + a3 + a4 + a5\n",
    "    a8 = a7+(ϱ**7)/factorial(7) # gdy kanałów jest r=8 wtedy NT = a0 + a1 + a2 + a3 + a4 + a5 + a6\n",
    "    a9 = a8+(ϱ**8)/factorial(8) # gdy kanałów jest r=9 wtedy NT = a0 + a1 + a2 + a3 + a4 + a5 + a6 + a7\n",
    "    a10 = a9+(ϱ**9)/factorial(9) # gdy kanałów jest r=9 wtedy NT = a0+a1+a2+a3+a4+a5+a6+a7+a8\n",
    "\n",
    "\n",
    "    if r == 1:\n",
    "        NT = a1\n",
    "    else:\n",
    "        if r == 2:\n",
    "            NT = a2\n",
    "        else:\n",
    "            if r == 3:\n",
    "                NT = a3\n",
    "            else:   \n",
    "                if r == 4:\n",
    "                    NT = a4\n",
    "                else:   \n",
    "                    if r == 5:\n",
    "                        NT = a5\n",
    "                    else:                       \n",
    "                        if r == 6:\n",
    "                            NT = a6\n",
    "                        else:\n",
    "                            if r == 7:\n",
    "                                NT = a7\n",
    "                            else:\n",
    "                                if r == 8:\n",
    "                                    NT = a8\n",
    "                                else:\n",
    "                                    if r == 9:\n",
    "                                        NT = a9\n",
    "                                    else:\n",
    "                                        if r == 10:\n",
    "                                            NT = a10\n",
    "    return NT\n"
   ]
  },
  {
   "cell_type": "markdown",
   "metadata": {},
   "source": [
    "<span style=\"font-size: 180%;color:black\"> Prawdopodobieństwo, że nie będzie kolejki przed dokami"
   ]
  },
  {
   "cell_type": "markdown",
   "metadata": {},
   "source": [
    "<span style=\"font-size: 180%;color:black\">\n",
    "$${\\bbox[#f3f3f3,16px,border:1px solid black]\n",
    "{p(n=0) =\\frac{1}{\\displaystyle\\sum_{i=0}^{r-1} \\frac{𝜚^i}{i!}+\\frac{𝜚^r}{{\\left(r-{𝜚}\\right)}{\\left(r-1\\right)!}}}}\n",
    "}\\qquad (2)$$"
   ]
  },
  {
   "cell_type": "code",
   "execution_count": 4,
   "metadata": {},
   "outputs": [],
   "source": [
    "def prawd_braku_kolejki(ϱ,r):\n",
    "    \n",
    "    pbk=1/(NT+(((ϱ**r)/((r-ϱ)*factorial(r-1)))))\n",
    "    \n",
    "    return pbk"
   ]
  },
  {
   "cell_type": "markdown",
   "metadata": {},
   "source": [
    "### Prawdopodobieństwo, że będzie kolejka przed dokami \n",
    "\n",
    "        n - ilość samochodów"
   ]
  },
  {
   "cell_type": "markdown",
   "metadata": {},
   "source": [
    "<span style=\"font-size: 180%;color:black\">\n",
    "$$\\\\   \n",
    " \\bbox[#f3f3f3,12px,border:1px solid black]\n",
    "{p(n) =\\begin{cases} \n",
    "\\frac{{ϱ^n}{p(n=0)}}{n!},  & \\text{if $n\\le r$} \\\\[2ex] \n",
    "\\frac{{r^{r-n}}{ϱ^n}{p(n=0)}}{r!},  & \\text{if $n\\gt r$} \\\\[2ex] \n",
    "\\end{cases}\n",
    "} \\qquad (3)\n",
    "$$"
   ]
  },
  {
   "cell_type": "code",
   "execution_count": 5,
   "metadata": {},
   "outputs": [],
   "source": [
    "def prawd_kolejki(ϱ,r,n,PBK):\n",
    "    \n",
    "        if n <= r:\n",
    "            pt=(((ϱ**n)*PBK)/factorial(n))\n",
    "        else: \n",
    "            pt=(((r**(r-n))*(ϱ**(n))*PBK))/(factorial(r))\n",
    "        \n",
    "        return pt      "
   ]
  },
  {
   "cell_type": "code",
   "execution_count": null,
   "metadata": {},
   "outputs": [],
   "source": []
  },
  {
   "cell_type": "code",
   "execution_count": null,
   "metadata": {},
   "outputs": [],
   "source": []
  },
  {
   "cell_type": "markdown",
   "metadata": {},
   "source": [
    "## ŚREDNIA ILIŚĆ CIĘŻARÓWEK czekających na podjeździe"
   ]
  },
  {
   "cell_type": "markdown",
   "metadata": {},
   "source": [
    "<span style=\"font-size: 180%;color:black\">\n",
    "\n",
    "$$\\ \n",
    " \\bbox[#f3f3f3,12px,border:1px solid black]\n",
    "{\n",
    "ψ =\\frac{{𝜚^{r+1}{p(n=0)}}}{{(r-𝜚)}^2{(r-1)!}}\n",
    "} \\qquad (4)\n",
    "$$"
   ]
  },
  {
   "cell_type": "code",
   "execution_count": 6,
   "metadata": {},
   "outputs": [],
   "source": [
    "def ile_sztuk_czeka(ϱ,r,PBK):\n",
    "\n",
    "    ISC = ((𝜚**(r+1))*PBK)/(((r-𝜚)**2)*factorial(r-1))\n",
    "    \n",
    "    return ISC"
   ]
  },
  {
   "cell_type": "markdown",
   "metadata": {},
   "source": [
    "## Prawdopodobieństwo, że spędzimy t czasu w kolejce"
   ]
  },
  {
   "cell_type": "markdown",
   "metadata": {},
   "source": [
    "<span style=\"font-size: 180%;color:black\">\n",
    "$$  \n",
    " \\bbox[#f3f3f3,12px,border:1px solid black]\n",
    "{\n",
    "p(t>t_0) ={{p{(n>r-1)}}{e^{-μt_0(r-𝜚)}}}\n",
    "} \\qquad (5)\n",
    "$$"
   ]
  },
  {
   "cell_type": "code",
   "execution_count": 7,
   "metadata": {},
   "outputs": [],
   "source": [
    "def prawdop_czasu(μ,r,𝜚,PBK, P1, t):\n",
    "      \n",
    "    import numpy as np\n",
    "       \n",
    "    PC = (1-(PBK+P1))*(np.e**(-μ*t*(r-𝜚)))\n",
    "    \n",
    "    return PC"
   ]
  },
  {
   "cell_type": "markdown",
   "metadata": {},
   "source": [
    "# ZADANIE"
   ]
  },
  {
   "cell_type": "markdown",
   "metadata": {},
   "source": [
    "# Pruszków ul. Sienkiewicza"
   ]
  },
  {
   "cell_type": "code",
   "execution_count": 8,
   "metadata": {},
   "outputs": [],
   "source": [
    "λ=91# ile przychodzi klientów na godzinę\n",
    "μ=33   # ile klientów obsługuje każdy POS,każdy POS obsługuje jednego klienta w ciągu 1.89 minuty  \n",
    "r=3   # ile jest POSów\n",
    "t=0.05 # czas 3 minut, czas cierpliwości klienta w kolejce \n",
    "\n",
    "ϱ = λ/(μ*r)\n",
    "\n",
    "NT = dzings(ϱ,r)\n",
    "\n",
    "PBK = prawd_braku_kolejki(ϱ,r)\n",
    "ISC = ile_sztuk_czeka(ϱ,r,PBK)\n",
    "\n",
    "\n",
    "P1 = prawd_kolejki(ϱ,r,1,PBK)\n",
    "P2 = prawd_kolejki(ϱ,r,2,PBK)\n",
    "P3 = prawd_kolejki(ϱ,r,3,PBK)\n",
    "P4 = prawd_kolejki(ϱ,r,4,PBK)\n",
    "P5 = prawd_kolejki(ϱ,r,5,PBK)\n",
    "P6 = prawd_kolejki(ϱ,r,6,PBK)\n",
    "P7 = prawd_kolejki(ϱ,r,7,PBK)\n",
    "P8 = prawd_kolejki(ϱ,r,8,PBK)\n",
    "\n",
    "SP = PBK+P1+P2+P3+P4+P5+P6+P7+P8\n",
    "PC = prawdop_czasu(μ,r,𝜚,PBK, P1, t)\n",
    "\n",
    "ϱ_pruS = ϱ\n",
    "λ_pruS = λ\n",
    "μ_pruS = μ\n",
    "r_pruS = r"
   ]
  },
  {
   "cell_type": "markdown",
   "metadata": {},
   "source": [
    "# SKLEP: Sulejówek ul.Dworcowa"
   ]
  },
  {
   "cell_type": "code",
   "execution_count": 9,
   "metadata": {},
   "outputs": [],
   "source": [
    "λ=65# ile przychodzi klientów na godzinę\n",
    "μ=34   # ile klientów obsługuje każdy POS,każdy POS obsługuje jednego klienta w ciągu 1.89 minuty  \n",
    "r=2    # ile jest POSów\n",
    "t=0.05 # czas 5 minut, czas cierpliwości klienta w kolejce \n",
    "\n",
    "ϱ = λ/(μ*r)\n",
    "ϱ\n",
    "\n",
    "NT = dzings(ϱ,r)\n",
    "\n",
    "PBK_a = prawd_braku_kolejki(ϱ,r)\n",
    "ISC_a = ile_sztuk_czeka(ϱ,r,PBK_a)\n",
    "\n",
    "\n",
    "P1_a = prawd_kolejki(ϱ,r,1,PBK_a)\n",
    "P2_a = prawd_kolejki(ϱ,r,2,PBK_a)\n",
    "P3_a = prawd_kolejki(ϱ,r,3,PBK_a)\n",
    "P4_a = prawd_kolejki(ϱ,r,4,PBK_a)\n",
    "P5_a = prawd_kolejki(ϱ,r,5,PBK_a)\n",
    "P6_a = prawd_kolejki(ϱ,r,6,PBK_a)\n",
    "P7_a = prawd_kolejki(ϱ,r,7,PBK_a)\n",
    "P8_a = prawd_kolejki(ϱ,r,8,PBK_a)\n",
    "\n",
    "SP_a =PBK_a+P1_a+P2_a+P3_a+P4_a+P5_a+P6_a+P7_a+P8_a\n",
    "\n",
    "PC_a = prawdop_czasu(μ,r,𝜚, PBK_a, P1_a, t)\n",
    "\n",
    "ϱ_Sul = ϱ\n",
    "λ_Sul = λ\n",
    "μ_Sul = μ\n",
    "r_Sul = r"
   ]
  },
  {
   "cell_type": "markdown",
   "metadata": {},
   "source": [
    "###  SKLEP: Milanówek Krakowska"
   ]
  },
  {
   "cell_type": "code",
   "execution_count": 10,
   "metadata": {},
   "outputs": [],
   "source": [
    "λ=45# ile przychodzi klientów na godzinę\n",
    "μ=32   # ile klientów obsługuje każdy POS,każdy POS obsługuje jednego klienta w ciągu 1.89 minuty  \n",
    "r=2    # ile jest POSów\n",
    "t=0.05 # czas 5 minut, czas cierpliwości klienta w kolejce \n",
    "\n",
    "ϱ = λ/(μ*r)\n",
    "ϱ\n",
    "\n",
    "NT = dzings(ϱ,r)\n",
    "\n",
    "PBK_b = prawd_braku_kolejki(ϱ,r)\n",
    "ISC_b = ile_sztuk_czeka(ϱ,r,PBK_b)\n",
    "\n",
    "\n",
    "P1_b = prawd_kolejki(ϱ,r,1,PBK_b)\n",
    "P2_b = prawd_kolejki(ϱ,r,2,PBK_b)\n",
    "P3_b = prawd_kolejki(ϱ,r,3,PBK_b)\n",
    "P4_b = prawd_kolejki(ϱ,r,4,PBK_b)\n",
    "P5_b = prawd_kolejki(ϱ,r,5,PBK_b)\n",
    "P6_b = prawd_kolejki(ϱ,r,6,PBK_b)\n",
    "P7_b = prawd_kolejki(ϱ,r,7,PBK_b)\n",
    "P8_b = prawd_kolejki(ϱ,r,8,PBK_b)\n",
    "\n",
    "SP_b =PBK_b+P1_b+P2_b+P3_b+P4_b+P5_b+P6_b+P7_b+P8_b\n",
    "\n",
    "PC_b = prawdop_czasu(μ,r,𝜚, PBK_b, P1_b, t)\n",
    "\n",
    "ϱ_Mil = ϱ\n",
    "λ_Mil = λ\n",
    "μ_Mil = μ\n",
    "r_Mil = r"
   ]
  },
  {
   "cell_type": "markdown",
   "metadata": {},
   "source": [
    "###  SKLEP: Pruszków WKD"
   ]
  },
  {
   "cell_type": "code",
   "execution_count": 11,
   "metadata": {},
   "outputs": [],
   "source": [
    "λ=70# ile przychodzi klientów na godzinę\n",
    "μ=36  # ile klientów obsługuje każdy POS,każdy POS obsługuje jednego klienta w ciągu 1.89 minuty  \n",
    "r=2    # ile jest POSów\n",
    "t=0.05 # czas 5 minut, czas cierpliwości klienta w kolejce \n",
    "\n",
    "ϱ = λ/(μ*r)\n",
    "ϱ\n",
    "\n",
    "NT = dzings(ϱ,r)\n",
    "\n",
    "PBK_c = prawd_braku_kolejki(ϱ,r)\n",
    "ISC_c = ile_sztuk_czeka(ϱ,r,PBK_c)\n",
    "\n",
    "\n",
    "P1_c = prawd_kolejki(ϱ,r,1,PBK_c)\n",
    "P2_c = prawd_kolejki(ϱ,r,2,PBK_c)\n",
    "P3_c = prawd_kolejki(ϱ,r,3,PBK_c)\n",
    "P4_c = prawd_kolejki(ϱ,r,4,PBK_c)\n",
    "P5_c = prawd_kolejki(ϱ,r,5,PBK_c)\n",
    "P6_c = prawd_kolejki(ϱ,r,6,PBK_c)\n",
    "P7_c = prawd_kolejki(ϱ,r,7,PBK_c)\n",
    "P8_c = prawd_kolejki(ϱ,r,8,PBK_c)\n",
    "\n",
    "SP_c =PBK_c+P1_c+P2_c+P3_c+P4_c+P5_c+P6_c+P7_c+P8_c\n",
    "\n",
    "PC_c = prawdop_czasu(μ,r,𝜚, PBK_c, P1_c, t)\n",
    "\n",
    "ϱ_wkd = ϱ\n",
    "λ_wkd = λ\n",
    "μ_wkd = μ\n",
    "r_wkd = r"
   ]
  },
  {
   "cell_type": "code",
   "execution_count": 12,
   "metadata": {},
   "outputs": [
    {
     "name": "stdout",
     "output_type": "stream",
     "text": [
      "+----------------------------------------+---------------+---------------+---------------+--------------+\n",
      "|                                        | Pruszków PKP  | Sulejówek SKM | Milanówek PKP | Pruszków WKD |\n",
      "+----------------------------------------+---------------+---------------+---------------+--------------+\n",
      "|             Liczba kas (r)             |       3       |       2       |       2       |      2       |\n",
      "|    Liczba osób przychodzących (λ)      |       91      |       65      |       45      |      70      |\n",
      "|     Liczba osób obsługiwanych (μ)      |       33      |       34      |       32      |      36      |\n",
      "| Wskaźnik intensywności ruchu ϱ=λ/(μ*r) |      0.92     |      0.96     |      0.7      |     0.97     |\n",
      "+----------------------------------------+---------------+---------------+---------------+--------------+\n"
     ]
    }
   ],
   "source": [
    "from prettytable import PrettyTable\n",
    "t = PrettyTable([\"\", \"Pruszków PKP \",\"Sulejówek SKM\",\"Milanówek PKP\",\"Pruszków WKD\"])\n",
    "\n",
    "t.align[\"Sulejówek PKP\"] = \"i\"\n",
    "t.padding_width = 1\n",
    "t.add_row(['Liczba kas (r)', r_pruS,  r_Sul,  r_Mil,  r_wkd])\n",
    "t.add_row(['Liczba osób przychodzących (λ) ', λ_pruS, λ_Sul,  λ_Mil, λ_wkd])\n",
    "t.add_row(['Liczba osób obsługiwanych (μ)',  μ_pruS, μ_Sul,  μ_Mil, μ_wkd])\n",
    "t.add_row(['Wskaźnik intensywności ruchu ϱ=λ/(μ*r)',  round(ϱ_pruS,2), round(ϱ_Sul,2), round(ϱ_Mil,2), round(ϱ_wkd,2)])\n",
    "print(t)"
   ]
  },
  {
   "cell_type": "code",
   "execution_count": 13,
   "metadata": {},
   "outputs": [
    {
     "name": "stdout",
     "output_type": "stream",
     "text": [
      "+----------------------------------------+---------------+---------------+---------------+--------------+\n",
      "|                                        | Pruszków PKP  | Sulejówek SKM | Milanówek PKP | Pruszków WKD |\n",
      "+----------------------------------------+---------------+---------------+---------------+--------------+\n",
      "|             Liczba kas (r)             |       3       |       2       |       2       |      2       |\n",
      "|    Liczba osób przychodzących (λ)      |       91      |       65      |       45      |      70      |\n",
      "|     Liczba osób obsługiwanych (μ)      |       33      |       34      |       32      |      36      |\n",
      "| Wskaźnik intensywności ruchu ϱ=λ/(μ*r) |      0.92     |      0.96     |      0.7      |     0.97     |\n",
      "|               ----------               |   ----------  |   ----------  |   ----------  |  ----------  |\n",
      "|    Prawdopodobieństwo braku kolejki    |      0.4      |      0.35     |      0.48     |     0.35     |\n",
      "|  Prawdopodobieństwo 1 osoby w kolejce  |      0.36     |      0.34     |      0.34     |     0.34     |\n",
      "|  Prawdopodobieństwo 2 osób w kolejce   |      0.17     |      0.16     |      0.12     |     0.16     |\n",
      "|  Prawdopodobieństwo 3 osób w kolejce   |      0.05     |      0.08     |      0.04     |     0.08     |\n",
      "|  Prawdopodobieństwo 4 osób w kolejce   |      0.02     |      0.04     |      0.01     |     0.04     |\n",
      "|  Prawdopodobieństwo 5 osób w kolejce   |      0.0      |      0.02     |      0.01     |     0.02     |\n",
      "|  Prawdopodobieństwo 6 osób w kolejce   |      0.0      |      0.01     |      0.0      |     0.01     |\n",
      "|  Prawdopodobieństwo 7 osób w kolejce   |      0.0      |      0.0      |      0.0      |     0.0      |\n",
      "|  Prawdopodobieństwo 8 osób w kolejce   |      0.0      |      0.0      |      0.0      |     0.0      |\n",
      "|        Suma prawdopodobieństw:         |      1.0      |      1.0      |      1.0      |     1.0      |\n",
      "|               ----------               |   ----------  |   ----------  |   ----------  |  ----------  |\n",
      "| Prawd. stania w kolejce ponad 3 minuty |      0.01     |      0.05     |      0.02     |     0.05     |\n",
      "|    Przeciętna ilość osób w kolejce     |      0.03     |      0.28     |      0.1      |     0.3      |\n",
      "+----------------------------------------+---------------+---------------+---------------+--------------+\n"
     ]
    }
   ],
   "source": [
    "from prettytable import PrettyTable\n",
    "t = PrettyTable([\"\", \"Pruszków PKP \",\"Sulejówek SKM\",\"Milanówek PKP\",\"Pruszków WKD\"])\n",
    "\n",
    "t.align[\"Sulejówek PKP\"] = \"i\"\n",
    "t.padding_width = 1\n",
    "t.add_row(['Liczba kas (r)', r_pruS,  r_Sul,  r_Mil,  r_wkd])\n",
    "t.add_row(['Liczba osób przychodzących (λ) ', λ_pruS, λ_Sul,  λ_Mil, λ_wkd])\n",
    "t.add_row(['Liczba osób obsługiwanych (μ)',  μ_pruS, μ_Sul,  μ_Mil, μ_wkd])\n",
    "t.add_row(['Wskaźnik intensywności ruchu ϱ=λ/(μ*r)',  round(ϱ_pruS,2), round(ϱ_Sul,2), round(ϱ_Mil,2), round(ϱ_wkd,2)])\n",
    "t.add_row(['----------',  '----------', '----------', '----------', '----------'])\n",
    "t.add_row(['Prawdopodobieństwo braku kolejki',  round(PBK,2), round(PBK_a,2), round(PBK_b,2), round(PBK_c,2)])\n",
    "t.add_row(['Prawdopodobieństwo 1 osoby w kolejce',  round(P1,2), round(P1_a,2), round(P1_b,2), round(P1_c,2)])\n",
    "t.add_row(['Prawdopodobieństwo 2 osób w kolejce',  round(P2,2), round(P2_a,2), round(P2_b,2), round(P2_c,2)])\n",
    "t.add_row(['Prawdopodobieństwo 3 osób w kolejce',  round(P3,2), round(P3_a,2), round(P3_b,2), round(P3_c,2)])\n",
    "t.add_row(['Prawdopodobieństwo 4 osób w kolejce',  round(P4,2), round(P4_a,2), round(P4_b,2), round(P4_c,2)])\n",
    "t.add_row(['Prawdopodobieństwo 5 osób w kolejce',  round(P5,2), round(P5_a,2), round(P5_b,2), round(P5_c,2)])\n",
    "t.add_row(['Prawdopodobieństwo 6 osób w kolejce',  round(P6,2), round(P6_a,2), round(P6_b,2), round(P6_c,2)])\n",
    "t.add_row(['Prawdopodobieństwo 7 osób w kolejce',  round(P7,2), round(P7_a,2), round(P7_b,2), round(P7_c,2)])\n",
    "t.add_row(['Prawdopodobieństwo 8 osób w kolejce',  round(P8,2), round(P8_a,2), round(P8_b,2), round(P8_c,2)])\n",
    "t.add_row(['Suma prawdopodobieństw:',                round(SP,2), round(SP_a,2), round(SP_b,2), round(SP_c,2)])\n",
    "t.add_row(['----------',  '----------', '----------', '----------','----------'])\n",
    "t.add_row(['Prawd. stania w kolejce ponad 3 minuty',  round(PC,2), round(PC_a,2), round(PC_b,2), round(PC_c,2)])\n",
    "t.add_row(['Przeciętna ilość osób w kolejce',  round(ISC,2), round(ISC_a,2), round(ISC_b,2), round(ISC_c,2)])\n",
    "print(t)\n",
    "\n"
   ]
  },
  {
   "cell_type": "code",
   "execution_count": 14,
   "metadata": {},
   "outputs": [
    {
     "data": {
      "text/plain": [
       "3.25"
      ]
     },
     "execution_count": 14,
     "metadata": {},
     "output_type": "execute_result"
    }
   ],
   "source": [
    "0.05*65"
   ]
  },
  {
   "cell_type": "code",
   "execution_count": 15,
   "metadata": {},
   "outputs": [
    {
     "data": {
      "text/plain": [
       "31"
      ]
     },
     "execution_count": 15,
     "metadata": {},
     "output_type": "execute_result"
    }
   ],
   "source": [
    "16+8+4+2+1"
   ]
  }
 ],
 "metadata": {
  "kernelspec": {
   "display_name": "Python 3",
   "language": "python",
   "name": "python3"
  },
  "language_info": {
   "codemirror_mode": {
    "name": "ipython",
    "version": 3
   },
   "file_extension": ".py",
   "mimetype": "text/x-python",
   "name": "python",
   "nbconvert_exporter": "python",
   "pygments_lexer": "ipython3",
   "version": "3.7.4"
  }
 },
 "nbformat": 4,
 "nbformat_minor": 2
}
