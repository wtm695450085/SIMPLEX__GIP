{
 "cells": [
  {
   "cell_type": "markdown",
   "metadata": {},
   "source": [
    "Zad. 117 str. 175\n",
    "\n"
   ]
  },
  {
   "cell_type": "code",
   "execution_count": 1,
   "metadata": {},
   "outputs": [
    {
     "data": {
      "text/plain": [
       "1.8181818181818181"
      ]
     },
     "execution_count": 1,
     "metadata": {},
     "output_type": "execute_result"
    }
   ],
   "source": [
    "60/33"
   ]
  },
  {
   "cell_type": "code",
   "execution_count": null,
   "metadata": {},
   "outputs": [],
   "source": []
  },
  {
   "cell_type": "markdown",
   "metadata": {},
   "source": [
    "ŚREDNIA CZĘSTOTLIWOŚĆ PRZYJ\n",
    "\n",
    "ilość klientów którzy przychodzą do sklepu w ciągu godziny\n",
    "\n",
    " - W ciągu 2 kluczowych godzin sprzedaży przyszły 254 osoby - to znaczy, że średnia częstotliwość przyjść wynosił 253/2= 127 osób na godzinę.\n",
    "\n",
    "ŚREDNIA CZAS obsłużenia osób\n",
    "  - W ciągu 2 kluczowych godzi, każdy POS obsłużuguje średnio 33 osóby w ciągu godziny - to znaczy, że średni czas rozładunków wynosił 53/11= 4.82 samochodu na godzinę. \n",
    " - Czyli 11/53 = 0.2075 godziny na samochód, (11*60)/53 = 12.4528 minut "
   ]
  },
  {
   "cell_type": "code",
   "execution_count": 2,
   "metadata": {},
   "outputs": [
    {
     "data": {
      "text/plain": [
       "2.0689655172413794"
      ]
     },
     "execution_count": 2,
     "metadata": {},
     "output_type": "execute_result"
    }
   ],
   "source": [
    "60/29"
   ]
  },
  {
   "cell_type": "markdown",
   "metadata": {},
   "source": [
    "$$\\text{Traffic intensity equation:} \\\\   \n",
    " \\bbox[#f3f3f3,12px,border:1px solid black]\n",
    "{\n",
    "{ϱ}=\\frac{λ}{μ} \n",
    "} \\qquad (1)\n",
    "$$"
   ]
  },
  {
   "cell_type": "code",
   "execution_count": 3,
   "metadata": {},
   "outputs": [
    {
     "data": {
      "text/plain": [
       "1.8181818181818181"
      ]
     },
     "execution_count": 3,
     "metadata": {},
     "output_type": "execute_result"
    }
   ],
   "source": [
    "60/33"
   ]
  },
  {
   "cell_type": "markdown",
   "metadata": {},
   "source": [
    "### SKLEP: Pruszków ul. Sienkiewicza"
   ]
  },
  {
   "cell_type": "code",
   "execution_count": 4,
   "metadata": {},
   "outputs": [
    {
     "data": {
      "text/plain": [
       "0.7424242424242424"
      ]
     },
     "execution_count": 4,
     "metadata": {},
     "output_type": "execute_result"
    }
   ],
   "source": [
    "λ=98 # ile przychodzi klientów na godzinę\n",
    "μ=33   # ile klientów obsługuje każdy POS,każdy POS obsługuje jednego klienta w ciągu 1.89 minuty  \n",
    "r=4    # ile jest POSów\n",
    "t=(0.25/15) # czas 5 minut, czas cierpliwości klienta w kolejce \n",
    "\n",
    "ϱ = λ/(μ*r)\n",
    "ϱ"
   ]
  },
  {
   "cell_type": "markdown",
   "metadata": {},
   "source": [
    "### SKLEP: Sulejówek ul.Dworcowa"
   ]
  },
  {
   "cell_type": "code",
   "execution_count": 5,
   "metadata": {},
   "outputs": [
    {
     "data": {
      "text/plain": [
       "0.9991052788547569"
      ]
     },
     "execution_count": 5,
     "metadata": {},
     "output_type": "execute_result"
    }
   ],
   "source": [
    "λ=67   # ile przychodzi klientów na godzinę\n",
    "μ=33.53 # ile klientów obsługuje każdy POS,każdy POS obsługuje jednego klienta w ciągu 1.89 minuty \n",
    "r=2    # ile jest POSów\n",
    "t=(0.25/15) # czas 5 minut, czas cierpliwości klienta w kolejce \n",
    "\n",
    "ϱ = λ/(μ*r)\n",
    "ϱ"
   ]
  },
  {
   "cell_type": "markdown",
   "metadata": {},
   "source": [
    "###  SKLEP: Milanówek ul.Krakowska"
   ]
  },
  {
   "cell_type": "code",
   "execution_count": 6,
   "metadata": {},
   "outputs": [
    {
     "data": {
      "text/plain": [
       "0.9857142857142858"
      ]
     },
     "execution_count": 6,
     "metadata": {},
     "output_type": "execute_result"
    }
   ],
   "source": [
    "λ=69 # ile przychodzi klientów na godzinę\n",
    "μ=35  # każdy POS obsługuje jednego klienta w ciągu 1.89 minuty  \n",
    "r=2    # ile jest POSów\n",
    "t=(0.25/15) # czas 5 minut, czas cierpliwości klienta w kolejce \n",
    "\n",
    "ϱ = λ/(μ*r)\n",
    "ϱ"
   ]
  },
  {
   "cell_type": "markdown",
   "metadata": {},
   "source": [
    "###  SKLEP: Pruszków WKD"
   ]
  },
  {
   "cell_type": "code",
   "execution_count": 7,
   "metadata": {},
   "outputs": [
    {
     "data": {
      "text/plain": [
       "0.98989898989899"
      ]
     },
     "execution_count": 7,
     "metadata": {},
     "output_type": "execute_result"
    }
   ],
   "source": [
    "λ=98 # ile przychodzi klientów na godzinę\n",
    "μ=33  # ile klientów obsługuje każdy POS,każdy POS obsługuje jednego klienta w ciągu 1.89 minuty\n",
    "r=3    # ile jest POSów\n",
    "t=(0.25/15) # czas 5 minut, czas cierpliwości klienta w kolejce \n",
    "\n",
    "ϱ = λ/(μ*r)\n",
    "ϱ"
   ]
  },
  {
   "cell_type": "markdown",
   "metadata": {},
   "source": [
    "# JEDEN KANAŁ"
   ]
  },
  {
   "cell_type": "code",
   "execution_count": 8,
   "metadata": {},
   "outputs": [
    {
     "data": {
      "text/plain": [
       "0.8"
      ]
     },
     "execution_count": 8,
     "metadata": {},
     "output_type": "execute_result"
    }
   ],
   "source": [
    "λ=2.5 # ile przychodzi klientów na godzinę\n",
    "μ=3.125  # każdy POS obsługuje jednego klienta w ciągu 1.89 minuty  \n",
    "r=1    # ile jest POSów\n",
    "t=2 # czas 5 minut, czas cierpliwości klienta w kolejce \n",
    "\n",
    "ϱ = λ/(μ*r)\n",
    "ϱ"
   ]
  },
  {
   "cell_type": "code",
   "execution_count": 9,
   "metadata": {},
   "outputs": [
    {
     "data": {
      "text/plain": [
       "3.2000000000000015"
      ]
     },
     "execution_count": 9,
     "metadata": {},
     "output_type": "execute_result"
    }
   ],
   "source": [
    "# przeciętna liczba klientów\n",
    "\n",
    "(ϱ**2)/(1-ϱ)"
   ]
  },
  {
   "cell_type": "code",
   "execution_count": 10,
   "metadata": {},
   "outputs": [
    {
     "data": {
      "text/plain": [
       "0.2621440000000001"
      ]
     },
     "execution_count": 10,
     "metadata": {},
     "output_type": "execute_result"
    }
   ],
   "source": [
    "# prawdopodobieństwo 5 osób w kolejce\n",
    "\n",
    "ϱ**6"
   ]
  },
  {
   "cell_type": "code",
   "execution_count": 11,
   "metadata": {},
   "outputs": [
    {
     "data": {
      "text/plain": [
       "0.42820914281519223"
      ]
     },
     "execution_count": 11,
     "metadata": {},
     "output_type": "execute_result"
    }
   ],
   "source": [
    "# prawdopodobieństwo że klient będzie czekał dłużej niż 1 min\n",
    "\n",
    "import numpy as np\n",
    "ϱ*np.e**(-1*(μ-λ))"
   ]
  },
  {
   "cell_type": "code",
   "execution_count": null,
   "metadata": {},
   "outputs": [],
   "source": []
  },
  {
   "cell_type": "code",
   "execution_count": null,
   "metadata": {},
   "outputs": [],
   "source": []
  },
  {
   "cell_type": "code",
   "execution_count": null,
   "metadata": {},
   "outputs": [],
   "source": []
  },
  {
   "cell_type": "code",
   "execution_count": null,
   "metadata": {},
   "outputs": [],
   "source": []
  },
  {
   "cell_type": "code",
   "execution_count": null,
   "metadata": {},
   "outputs": [],
   "source": []
  },
  {
   "cell_type": "code",
   "execution_count": 12,
   "metadata": {},
   "outputs": [],
   "source": [
    "def factorial(n): \n",
    "    return 1 if (n==1 or n==0) else n * factorial(n - 1);  "
   ]
  },
  {
   "cell_type": "markdown",
   "metadata": {},
   "source": [
    "# 1. Prawdopodobieństwo, że nie będzie kolejki"
   ]
  },
  {
   "cell_type": "markdown",
   "metadata": {},
   "source": [
    "człon pierwszy \n",
    "\n",
    "$${\n",
    "{\\displaystyle\\sum_{i=0}^{r-1} \\frac{𝜚^i}{i!}}\n",
    "}\\qquad (1)$$\n"
   ]
  },
  {
   "cell_type": "code",
   "execution_count": 13,
   "metadata": {},
   "outputs": [],
   "source": [
    "def dzings(ϱ,r):\n",
    "    \n",
    "    a1 = (ϱ**0)/factorial(0) # gdy kanałów jest r=1 wtedy NT = 1\n",
    "    a2 = a1+(ϱ**1)/factorial(1) # gdy kanałów jest r=2 wtedy NT = a0\n",
    "    a3 = a2+(ϱ**2)/factorial(2) # gdy kanałów jest r=3 wtedy NT = a0 + a1 \n",
    "    a4 = a3+(ϱ**3)/factorial(3) # gdy kanałów jest r=4 wtedy NT = a0 + a1 + a2 \n",
    "    a5 = a4+(ϱ**4)/factorial(4) # gdy kanałów jest r=5 wtedy NT = a0 + a1 + a2 + a3 \n",
    "    a6 = a5+(ϱ**5)/factorial(5) # gdy kanałów jest r=6 wtedy NT = a0 + a1 + a2 + a3 + a4\n",
    "    a7 = a6+(ϱ**6)/factorial(6) # gdy kanałów jest r=7 wtedy NT = a0 + a1 + a2 + a3 + a4 + a5\n",
    "    a8 = a7+(ϱ**7)/factorial(7) # gdy kanałów jest r=8 wtedy NT = a0 + a1 + a2 + a3 + a4 + a5 + a6\n",
    "    a9 = a8+(ϱ**8)/factorial(8) # gdy kanałów jest r=9 wtedy NT = a0 + a1 + a2 + a3 + a4 + a5 + a6 + a7\n",
    "    a10 = a9+(ϱ**9)/factorial(9) # gdy kanałów jest r=9 wtedy NT = a0+a1+a2+a3+a4+a5+a6+a7+a8\n",
    "\n",
    "\n",
    "    if r == 1:\n",
    "        NT = a1\n",
    "    else:\n",
    "        if r == 2:\n",
    "            NT = a2\n",
    "        else:\n",
    "            if r == 3:\n",
    "                NT = a3\n",
    "            else:   \n",
    "                if r == 4:\n",
    "                    NT = a4\n",
    "                else:   \n",
    "                    if r == 5:\n",
    "                        NT = a5\n",
    "                    else:                       \n",
    "                        if r == 6:\n",
    "                            NT = a6\n",
    "                        else:\n",
    "                            if r == 7:\n",
    "                                NT = a7\n",
    "                            else:\n",
    "                                if r == 8:\n",
    "                                    NT = a8\n",
    "                                else:\n",
    "                                    if r == 9:\n",
    "                                        NT = a9\n",
    "                                    else:\n",
    "                                        if r == 10:\n",
    "                                            NT = a10\n",
    "    return NT\n"
   ]
  },
  {
   "cell_type": "markdown",
   "metadata": {},
   "source": [
    "### Prawdopodobieństwo, że nie będzie kolejki przed dokami\n",
    "$${\n",
    "p(n=0) =\\frac{1}{\\displaystyle\\sum_{i=0}^{r-1} \\frac{𝜚^i}{i!}+\\frac{𝜚^r}{{\\left(r-{𝜚}\\right)}{\\left(r-1\\right)!}}}\n",
    "}\\qquad (7)$$"
   ]
  },
  {
   "cell_type": "code",
   "execution_count": 14,
   "metadata": {},
   "outputs": [],
   "source": [
    "def prawd_braku_kolejki(ϱ,r):\n",
    "    \n",
    "    pbk=1/(NT+(((ϱ**r)/((r-ϱ)*factorial(r-1)))))\n",
    "    \n",
    "    return pbk"
   ]
  },
  {
   "cell_type": "markdown",
   "metadata": {},
   "source": [
    "### Prawdopodobieństwo, że będzie kolejka przed dokami \n",
    "\n",
    "        n - ilość samochodów"
   ]
  },
  {
   "cell_type": "markdown",
   "metadata": {},
   "source": [
    "$$\\text{The probability that there is no queue n = 0 in the system:} \\\\   \n",
    " \\bbox[#f3f3f3,12px,border:1px solid black]\n",
    "{p(n) =\\begin{cases} \n",
    "\\frac{{ϱ^n}{p(n=0)}}{n!},  & \\text{if $n\\le r$} \\\\[2ex] \n",
    "\\frac{{r^{r-n}}{ϱ^n}{p(n=0)}}{r!},  & \\text{if $n\\gt r$} \\\\[2ex] \n",
    "\\end{cases}\n",
    "} \\qquad (9)\n",
    "$$"
   ]
  },
  {
   "cell_type": "code",
   "execution_count": 15,
   "metadata": {},
   "outputs": [],
   "source": [
    "def prawd_kolejki(ϱ,r,n,PBK):\n",
    "    \n",
    "        if n <= r:\n",
    "            pt=(((ϱ**n)*PBK)/factorial(n))\n",
    "        else: \n",
    "            pt=(((r**(r-n))*(ϱ**(n))*PBK))/(factorial(r))\n",
    "        \n",
    "        return pt      "
   ]
  },
  {
   "cell_type": "code",
   "execution_count": null,
   "metadata": {},
   "outputs": [],
   "source": []
  },
  {
   "cell_type": "code",
   "execution_count": null,
   "metadata": {},
   "outputs": [],
   "source": []
  },
  {
   "cell_type": "markdown",
   "metadata": {},
   "source": [
    "## ŚREDNIA ILIŚĆ CIĘŻARÓWEK czekających na podjeździe"
   ]
  },
  {
   "cell_type": "markdown",
   "metadata": {},
   "source": [
    "$$\\text{Average number of items waiting in queue:} \\\\   \n",
    " \\bbox[#f3f3f3,12px,border:1px solid black]\n",
    "{\n",
    "ψ =\\frac{{𝜚^{r+1}{p(n=0)}}}{{(r-𝜚)}^2{(r-1)!}}\n",
    "} \\qquad (8)\n",
    "$$"
   ]
  },
  {
   "cell_type": "code",
   "execution_count": 16,
   "metadata": {},
   "outputs": [],
   "source": [
    "def ile_sztuk_czeka(ϱ,r,PBK):\n",
    "\n",
    "    ISC = ((𝜚**(r+1))*PBK)/(((r-𝜚)**2)*factorial(r-1))\n",
    "    \n",
    "    return ISC"
   ]
  },
  {
   "cell_type": "markdown",
   "metadata": {},
   "source": [
    "## Prawdopodobieństwo, że spędzimy t czasu w kolejce"
   ]
  },
  {
   "cell_type": "markdown",
   "metadata": {},
   "source": [
    "$$\\text{The probability that the waiting time of an item in the queue is longer n that t.:} \\\\   \n",
    " \\bbox[#f3f3f3,12px,border:1px solid black]\n",
    "{\n",
    "p(t>t_0) ={{p{(n>r-1)}}{e^{μt(r-𝜚)}}}\n",
    "} \\qquad (11)\n",
    "$$"
   ]
  },
  {
   "cell_type": "code",
   "execution_count": 17,
   "metadata": {},
   "outputs": [],
   "source": [
    "def prawdop_czasu(μ,r,𝜚,PBK, P1, t):\n",
    "      \n",
    "    import numpy as np\n",
    "       \n",
    "    PC = (1-(PBK+P1))*(np.e**(-μ*t*(r-𝜚)))\n",
    "    \n",
    "    return PC"
   ]
  },
  {
   "cell_type": "markdown",
   "metadata": {},
   "source": [
    "# ZADANIE"
   ]
  },
  {
   "cell_type": "markdown",
   "metadata": {},
   "source": [
    "# Pruszków ul. Sienkiewicza"
   ]
  },
  {
   "cell_type": "code",
   "execution_count": 18,
   "metadata": {},
   "outputs": [],
   "source": [
    "λ=91# ile przychodzi klientów na godzinę\n",
    "μ=33   # ile klientów obsługuje każdy POS,każdy POS obsługuje jednego klienta w ciągu 1.89 minuty  \n",
    "r=3   # ile jest POSów\n",
    "t=0.05 # czas 3 minut, czas cierpliwości klienta w kolejce \n",
    "\n",
    "ϱ = λ/(μ*r)\n",
    "\n",
    "NT = dzings(ϱ,r)\n",
    "\n",
    "PBK = prawd_braku_kolejki(ϱ,r)\n",
    "ISC = ile_sztuk_czeka(ϱ,r,PBK)\n",
    "\n",
    "\n",
    "P1 = prawd_kolejki(ϱ,r,1,PBK)\n",
    "P2 = prawd_kolejki(ϱ,r,2,PBK)\n",
    "P3 = prawd_kolejki(ϱ,r,3,PBK)\n",
    "P4 = prawd_kolejki(ϱ,r,4,PBK)\n",
    "P5 = prawd_kolejki(ϱ,r,5,PBK)\n",
    "P6 = prawd_kolejki(ϱ,r,6,PBK)\n",
    "P7 = prawd_kolejki(ϱ,r,7,PBK)\n",
    "P8 = prawd_kolejki(ϱ,r,8,PBK)\n",
    "\n",
    "SP = PBK+P1+P2+P3+P4+P5+P6+P7+P8\n",
    "PC = prawdop_czasu(μ,r,𝜚,PBK, P1, t)\n",
    "\n",
    "ϱ_pruS = ϱ\n",
    "λ_pruS = λ\n",
    "μ_pruS = μ\n",
    "r_pruS = r"
   ]
  },
  {
   "cell_type": "markdown",
   "metadata": {},
   "source": [
    "# SKLEP: Sulejówek ul.Dworcowa"
   ]
  },
  {
   "cell_type": "code",
   "execution_count": 19,
   "metadata": {},
   "outputs": [],
   "source": [
    "λ=63# ile przychodzi klientów na godzinę\n",
    "μ=34   # ile klientów obsługuje każdy POS,każdy POS obsługuje jednego klienta w ciągu 1.89 minuty  \n",
    "r=2    # ile jest POSów\n",
    "t=0.05 # czas 5 minut, czas cierpliwości klienta w kolejce \n",
    "\n",
    "ϱ = λ/(μ*r)\n",
    "ϱ\n",
    "\n",
    "NT = dzings(ϱ,r)\n",
    "\n",
    "PBK_a = prawd_braku_kolejki(ϱ,r)\n",
    "ISC_a = ile_sztuk_czeka(ϱ,r,PBK_a)\n",
    "\n",
    "\n",
    "P1_a = prawd_kolejki(ϱ,r,1,PBK_a)\n",
    "P2_a = prawd_kolejki(ϱ,r,2,PBK_a)\n",
    "P3_a = prawd_kolejki(ϱ,r,3,PBK_a)\n",
    "P4_a = prawd_kolejki(ϱ,r,4,PBK_a)\n",
    "P5_a = prawd_kolejki(ϱ,r,5,PBK_a)\n",
    "P6_a = prawd_kolejki(ϱ,r,6,PBK_a)\n",
    "P7_a = prawd_kolejki(ϱ,r,7,PBK_a)\n",
    "P8_a = prawd_kolejki(ϱ,r,8,PBK_a)\n",
    "\n",
    "SP_a =PBK_a+P1_a+P2_a+P3_a+P4_a+P5_a+P6_a+P7_a+P8_a\n",
    "\n",
    "PC_a = prawdop_czasu(μ,r,𝜚, PBK_a, P1_a, t)\n",
    "\n",
    "ϱ_Sul = ϱ\n",
    "λ_Sul = λ\n",
    "μ_Sul = μ\n",
    "r_Sul = r"
   ]
  },
  {
   "cell_type": "markdown",
   "metadata": {},
   "source": [
    "###  SKLEP: Milanówek Krakowska"
   ]
  },
  {
   "cell_type": "code",
   "execution_count": 20,
   "metadata": {},
   "outputs": [],
   "source": [
    "λ=45# ile przychodzi klientów na godzinę\n",
    "μ=32   # ile klientów obsługuje każdy POS,każdy POS obsługuje jednego klienta w ciągu 1.89 minuty  \n",
    "r=2    # ile jest POSów\n",
    "t=0.05 # czas 5 minut, czas cierpliwości klienta w kolejce \n",
    "\n",
    "ϱ = λ/(μ*r)\n",
    "ϱ\n",
    "\n",
    "NT = dzings(ϱ,r)\n",
    "\n",
    "PBK_b = prawd_braku_kolejki(ϱ,r)\n",
    "ISC_b = ile_sztuk_czeka(ϱ,r,PBK_b)\n",
    "\n",
    "\n",
    "P1_b = prawd_kolejki(ϱ,r,1,PBK_b)\n",
    "P2_b = prawd_kolejki(ϱ,r,2,PBK_b)\n",
    "P3_b = prawd_kolejki(ϱ,r,3,PBK_b)\n",
    "P4_b = prawd_kolejki(ϱ,r,4,PBK_b)\n",
    "P5_b = prawd_kolejki(ϱ,r,5,PBK_b)\n",
    "P6_b = prawd_kolejki(ϱ,r,6,PBK_b)\n",
    "P7_b = prawd_kolejki(ϱ,r,7,PBK_b)\n",
    "P8_b = prawd_kolejki(ϱ,r,8,PBK_b)\n",
    "\n",
    "SP_b =PBK_b+P1_b+P2_b+P3_b+P4_b+P5_b+P6_b+P7_b+P8_b\n",
    "\n",
    "PC_b = prawdop_czasu(μ,r,𝜚, PBK_b, P1_b, t)\n",
    "\n",
    "ϱ_Mil = ϱ\n",
    "λ_Mil = λ\n",
    "μ_Mil = μ\n",
    "r_Mil = r"
   ]
  },
  {
   "cell_type": "markdown",
   "metadata": {},
   "source": [
    "###  SKLEP: Pruszków WKD"
   ]
  },
  {
   "cell_type": "code",
   "execution_count": 21,
   "metadata": {},
   "outputs": [],
   "source": [
    "λ=67.9# ile przychodzi klientów na godzinę\n",
    "μ=34  # ile klientów obsługuje każdy POS,każdy POS obsługuje jednego klienta w ciągu 1.89 minuty  \n",
    "r=2    # ile jest POSów\n",
    "t=0.05 # czas 5 minut, czas cierpliwości klienta w kolejce \n",
    "\n",
    "ϱ = λ/(μ*r)\n",
    "ϱ\n",
    "\n",
    "NT = dzings(ϱ,r)\n",
    "\n",
    "PBK_c = prawd_braku_kolejki(ϱ,r)\n",
    "ISC_c = ile_sztuk_czeka(ϱ,r,PBK_c)\n",
    "\n",
    "\n",
    "P1_c = prawd_kolejki(ϱ,r,1,PBK_c)\n",
    "P2_c = prawd_kolejki(ϱ,r,2,PBK_c)\n",
    "P3_c = prawd_kolejki(ϱ,r,3,PBK_c)\n",
    "P4_c = prawd_kolejki(ϱ,r,4,PBK_c)\n",
    "P5_c = prawd_kolejki(ϱ,r,5,PBK_c)\n",
    "P6_c = prawd_kolejki(ϱ,r,6,PBK_c)\n",
    "P7_c = prawd_kolejki(ϱ,r,7,PBK_c)\n",
    "P8_c = prawd_kolejki(ϱ,r,8,PBK_c)\n",
    "\n",
    "SP_c =PBK_c+P1_c+P2_c+P3_c+P4_c+P5_c+P6_c+P7_c+P8_c\n",
    "\n",
    "PC_c = prawdop_czasu(μ,r,𝜚, PBK_c, P1_c, t)\n",
    "\n",
    "ϱ_wkd = ϱ\n",
    "λ_wkd = λ\n",
    "μ_wkd = μ\n",
    "r_wkd = r"
   ]
  },
  {
   "cell_type": "code",
   "execution_count": 29,
   "metadata": {},
   "outputs": [
    {
     "name": "stdout",
     "output_type": "stream",
     "text": [
      "+-------------------+-------------+--------------+--------------+--------------+\n",
      "|                   | Pruszków ul | Sulejówek    | Milanówek    | Pruszków WKD |\n",
      "|                   | .Sienkiewic | ul.Dworcowa  |   ul.Krakows |              |\n",
      "|                   |     za      |              |      ka      |              |\n",
      "+-------------------+-------------+--------------+--------------+--------------+\n",
      "|   Liczba POSów    |      3      |      2       |      2       |      2       |\n",
      "+-------------------+-------------+--------------+--------------+--------------+\n",
      "| Obłożenie obsługi |    0.919    |    0.926     |    0.703     |    0.999     |\n",
      "|         ϱ         |             |              |              |              |\n",
      "+-------------------+-------------+--------------+--------------+--------------+\n",
      "| Prawdopodobieństw |    0.396    |    0.367     |     0.48     |    0.334     |\n",
      "|  o braku kolejki  |             |              |              |              |\n",
      "+-------------------+-------------+--------------+--------------+--------------+\n",
      "| P. 1 sam. w kol.  |    0.364    |     0.34     |    0.337     |    0.333     |\n",
      "+-------------------+-------------+--------------+--------------+--------------+\n",
      "| P. 2 sam. w kol.  |    0.167    |    0.157     |    0.119     |    0.167     |\n",
      "+-------------------+-------------+--------------+--------------+--------------+\n",
      "| P. 3 sam. w kol.  |    0.051    |    0.073     |    0.042     |    0.083     |\n",
      "+-------------------+-------------+--------------+--------------+--------------+\n",
      "| P. 4 sam. w kol.  |    0.016    |    0.034     |    0.015     |    0.042     |\n",
      "+-------------------+-------------+--------------+--------------+--------------+\n",
      "| P. 5 sam. w kol.  |    0.005    |    0.016     |    0.005     |    0.021     |\n",
      "+-------------------+-------------+--------------+--------------+--------------+\n",
      "| P. 6 sam. w kol.  |    0.001    |    0.007     |    0.002     |     0.01     |\n",
      "+-------------------+-------------+--------------+--------------+--------------+\n",
      "| P. 7 sam. w kol.  |     0.0     |    0.003     |    0.001     |    0.005     |\n",
      "+-------------------+-------------+--------------+--------------+--------------+\n",
      "| P. 8 sam. w kol.  |     0.0     |    0.002     |     0.0      |    0.003     |\n",
      "+-------------------+-------------+--------------+--------------+--------------+\n",
      "|   SUMA PRAWDO.    |     1.0     |    0.999     |     1.0      |    0.997     |\n",
      "+-------------------+-------------+--------------+--------------+--------------+\n",
      "| Prawd. 3 minuty w |    0.008    |    0.047     |    0.023     |    0.061     |\n",
      "|      kolejce      |             |              |              |              |\n",
      "+-------------------+-------------+--------------+--------------+--------------+\n",
      "|  Ile poj. czeka   |    0.033    |    0.253     |    0.099     |    0.332     |\n",
      "+-------------------+-------------+--------------+--------------+--------------+\n"
     ]
    }
   ],
   "source": [
    "from beautifultable import BeautifulTable\n",
    "\n",
    "table = BeautifulTable()\n",
    "table.column_headers = [\"\", \"Pruszków ul.Sienkiewicza\",\"Sulejówek   ul.Dworcowa\",\"Milanówek     ul.Krakowska\",\"Pruszków WKD\"]\n",
    "table.append_row(['Liczba POSów',  r_pruS,  r_Sul,  r_Mil,  r_wkd])\n",
    "table.append_row(['Obłożenie obsługi ϱ', ϱ_pruS,  ϱ_Sul,  ϱ_Mil,  ϱ_wkd])\n",
    "table.append_row(['Prawdopodobieństwo braku kolejki',  PBK,  PBK_a,  PBK_b,  PBK_c])\n",
    "table.append_row(['P. 1 sam. w kol.',  P1,  P1_a,  P1_b,  P1_c])\n",
    "table.append_row(['P. 2 sam. w kol.',  P2,  P2_a,  P2_b,  P2_c])\n",
    "table.append_row(['P. 3 sam. w kol.',  P3,  P3_a,  P3_b,  P3_c])\n",
    "table.append_row(['P. 4 sam. w kol.',  P4,  P4_a,  P4_b,  P4_c])\n",
    "table.append_row(['P. 5 sam. w kol.',  P5,  P5_a,  P5_b,  P5_c])\n",
    "table.append_row(['P. 6 sam. w kol.',  P6,  P6_a,  P6_b,  P6_c])\n",
    "table.append_row(['P. 7 sam. w kol.',  P7,  P7_a,  P7_b,  P7_c])\n",
    "table.append_row(['P. 8 sam. w kol.',  P8,  P8_a,  P8_b,  P8_c])\n",
    "table.append_row(['SUMA PRAWDO.'      ,SP  ,SP_a,  SP_b,  SP_c])\n",
    "table.append_row(['Prawd. 3 minuty w kolejce',  PC,  PC_a,  PC_b,  PC_c])\n",
    "table.append_row(['Ile poj. czeka',  ISC,  ISC_a,  ISC_b,  ISC_c])\n",
    "print(table)"
   ]
  },
  {
   "cell_type": "code",
   "execution_count": 23,
   "metadata": {},
   "outputs": [
    {
     "data": {
      "text/plain": [
       "0.95"
      ]
     },
     "execution_count": 23,
     "metadata": {},
     "output_type": "execute_result"
    }
   ],
   "source": [
    "λ=3.8# ile przychodzi klientów na godzinę\n",
    "μ=2   # ile klientów obsługuje każdy POS,każdy POS obsługuje jednego klienta w ciągu 1.89 minuty  \n",
    "r=2    # ile jest POSów\n",
    "t=0.5 # czas 5 minut, czas cierpliwości klienta w kolejce \n",
    "\n",
    "ϱ = λ/(μ*r)\n",
    "ϱ"
   ]
  },
  {
   "cell_type": "code",
   "execution_count": 24,
   "metadata": {},
   "outputs": [
    {
     "data": {
      "text/plain": [
       "1.95"
      ]
     },
     "execution_count": 24,
     "metadata": {},
     "output_type": "execute_result"
    }
   ],
   "source": [
    "NT=dzings(ϱ,r)\n",
    "NT"
   ]
  },
  {
   "cell_type": "code",
   "execution_count": 25,
   "metadata": {},
   "outputs": [
    {
     "data": {
      "text/plain": [
       "0.35593220338983056"
      ]
     },
     "execution_count": 25,
     "metadata": {},
     "output_type": "execute_result"
    }
   ],
   "source": [
    "prawd_braku_kolejki(ϱ,r)"
   ]
  },
  {
   "cell_type": "code",
   "execution_count": 26,
   "metadata": {},
   "outputs": [
    {
     "data": {
      "text/plain": [
       "1.95"
      ]
     },
     "execution_count": 26,
     "metadata": {},
     "output_type": "execute_result"
    }
   ],
   "source": [
    "NT"
   ]
  },
  {
   "cell_type": "code",
   "execution_count": 27,
   "metadata": {},
   "outputs": [
    {
     "data": {
      "text/plain": [
       "0.35593220338983056"
      ]
     },
     "execution_count": 27,
     "metadata": {},
     "output_type": "execute_result"
    }
   ],
   "source": [
    "pbk=1/(NT+((ϱ**r)/((r-ϱ)*factorial(r-1))))\n",
    "pbk"
   ]
  },
  {
   "cell_type": "code",
   "execution_count": 28,
   "metadata": {},
   "outputs": [
    {
     "data": {
      "text/plain": [
       "0.9025"
      ]
     },
     "execution_count": 28,
     "metadata": {},
     "output_type": "execute_result"
    }
   ],
   "source": [
    "ϱ**2"
   ]
  },
  {
   "cell_type": "code",
   "execution_count": null,
   "metadata": {},
   "outputs": [],
   "source": []
  }
 ],
 "metadata": {
  "kernelspec": {
   "display_name": "Python 3",
   "language": "python",
   "name": "python3"
  },
  "language_info": {
   "codemirror_mode": {
    "name": "ipython",
    "version": 3
   },
   "file_extension": ".py",
   "mimetype": "text/x-python",
   "name": "python",
   "nbconvert_exporter": "python",
   "pygments_lexer": "ipython3",
   "version": "3.7.4"
  }
 },
 "nbformat": 4,
 "nbformat_minor": 2
}
