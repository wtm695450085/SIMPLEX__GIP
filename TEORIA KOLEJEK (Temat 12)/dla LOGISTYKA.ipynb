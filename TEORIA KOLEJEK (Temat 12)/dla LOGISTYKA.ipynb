{
 "cells": [
  {
   "cell_type": "markdown",
   "metadata": {},
   "source": [
    "## dla LOGISTYKA\n",
    "\n",
    "ilość klientów którzy przychodzą do sklepu w ciągu godziny\n",
    "\n",
    " - W ciągu 2 kluczowych godzin sprzedaży przyszły 254 osoby - to znaczy, że średnia częstotliwość przyjść wynosił 253/2= 127 osób na godzinę.\n",
    "\n",
    "ŚREDNIA CZAS obsłużenia osób\n",
    "  - W ciągu 2 kluczowych godzi, każdy POS obsłużuguje średnio 33 osóby w ciągu godziny - to znaczy, że średni czas rozładunków wynosił 53/11= 4.82 samochodu na godzinę. \n",
    " - Czyli 11/53 = 0.2075 godziny na samochód, (11*60)/53 = 12.4528 minut "
   ]
  },
  {
   "cell_type": "code",
   "execution_count": 1,
   "metadata": {},
   "outputs": [
    {
     "data": {
      "text/plain": [
       "2.0689655172413794"
      ]
     },
     "execution_count": 1,
     "metadata": {},
     "output_type": "execute_result"
    }
   ],
   "source": [
    "60/29"
   ]
  },
  {
   "cell_type": "markdown",
   "metadata": {},
   "source": [
    "<span style=\"font-size: 180%;color:black\">\n",
    "$$\\text{Wskaźnik intensywności ruchu:} \\\\   \n",
    "{\n",
    "{ϱ}=\\frac{λ}{{μ}\\times{r}} \n",
    "} \\qquad (1)\n",
    "$$"
   ]
  },
  {
   "cell_type": "code",
   "execution_count": 2,
   "metadata": {},
   "outputs": [],
   "source": [
    "def factorial(n): \n",
    "    return 1 if (n==1 or n==0) else n * factorial(n - 1);  "
   ]
  },
  {
   "cell_type": "markdown",
   "metadata": {},
   "source": [
    "# 1. Prawdopodobieństwo, że nie będzie kolejki"
   ]
  },
  {
   "cell_type": "markdown",
   "metadata": {},
   "source": [
    "<span style=\"font-size: 180%;color:black\"> \n",
    "$${\n",
    "{\\displaystyle\\sum_{i=0}^{r-1} \\frac{𝜚^i}{i!}}\n",
    "}\\qquad $$\n"
   ]
  },
  {
   "cell_type": "markdown",
   "metadata": {},
   "source": [
    "<span style=\"font-size: 180%;color:black\"> \n",
    "$${\n",
    "{\\displaystyle\\sum_{i=0}^{r-1} \\frac{𝜚^i}{i!}}= \\frac{0.9^{(1-1)}}{{(1-1)}!}+\\frac{0.9^{(2-1)}}{{(2-1)}!}+\\frac{0.9^{(3-1)}}{{(3-1)}!}=1+0.9+0.405 \\approx 2.305\n",
    "}\\qquad $$"
   ]
  },
  {
   "cell_type": "code",
   "execution_count": 3,
   "metadata": {},
   "outputs": [],
   "source": [
    "def dzings(ϱ,r):\n",
    "    \n",
    "    a1 = (ϱ**0)/factorial(0) # gdy kanałów jest r=1 wtedy NT = 1\n",
    "    a2 = a1+(ϱ**1)/factorial(1) # gdy kanałów jest r=2 wtedy NT = a0\n",
    "    a3 = a2+(ϱ**2)/factorial(2) # gdy kanałów jest r=3 wtedy NT = a0 + a1 \n",
    "    a4 = a3+(ϱ**3)/factorial(3) # gdy kanałów jest r=4 wtedy NT = a0 + a1 + a2 \n",
    "    a5 = a4+(ϱ**4)/factorial(4) # gdy kanałów jest r=5 wtedy NT = a0 + a1 + a2 + a3 \n",
    "    a6 = a5+(ϱ**5)/factorial(5) # gdy kanałów jest r=6 wtedy NT = a0 + a1 + a2 + a3 + a4\n",
    "    a7 = a6+(ϱ**6)/factorial(6) # gdy kanałów jest r=7 wtedy NT = a0 + a1 + a2 + a3 + a4 + a5\n",
    "    a8 = a7+(ϱ**7)/factorial(7) # gdy kanałów jest r=8 wtedy NT = a0 + a1 + a2 + a3 + a4 + a5 + a6\n",
    "    a9 = a8+(ϱ**8)/factorial(8) # gdy kanałów jest r=9 wtedy NT = a0 + a1 + a2 + a3 + a4 + a5 + a6 + a7\n",
    "    a10 = a9+(ϱ**9)/factorial(9) # gdy kanałów jest r=9 wtedy NT = a0+a1+a2+a3+a4+a5+a6+a7+a8\n",
    "\n",
    "\n",
    "    if r == 1:\n",
    "        NT = a1\n",
    "    else:\n",
    "        if r == 2:\n",
    "            NT = a2\n",
    "        else:\n",
    "            if r == 3:\n",
    "                NT = a3\n",
    "            else:   \n",
    "                if r == 4:\n",
    "                    NT = a4\n",
    "                else:   \n",
    "                    if r == 5:\n",
    "                        NT = a5\n",
    "                    else:                       \n",
    "                        if r == 6:\n",
    "                            NT = a6\n",
    "                        else:\n",
    "                            if r == 7:\n",
    "                                NT = a7\n",
    "                            else:\n",
    "                                if r == 8:\n",
    "                                    NT = a8\n",
    "                                else:\n",
    "                                    if r == 9:\n",
    "                                        NT = a9\n",
    "                                    else:\n",
    "                                        if r == 10:\n",
    "                                            NT = a10\n",
    "    return NT\n"
   ]
  },
  {
   "cell_type": "markdown",
   "metadata": {},
   "source": [
    "<span style=\"font-size: 180%;color:black\"> Prawdopodobieństwo, że nie będzie kolejki przed dokami"
   ]
  },
  {
   "cell_type": "markdown",
   "metadata": {},
   "source": [
    "<span style=\"font-size: 180%;color:black\">\n",
    "$$\n",
    "{p(n=0) =\\frac{1}{\\displaystyle\\sum_{i=0}^{r-1} \\frac{𝜚^i}{i!}+\\frac{𝜚^r}{{\\left(r-{𝜚}\\right)}{\\left(r-1\\right)!}}}}\n",
    "\\qquad (2)$$"
   ]
  },
  {
   "cell_type": "code",
   "execution_count": 4,
   "metadata": {},
   "outputs": [],
   "source": [
    "def prawd_braku_kolejki(ϱ,r):\n",
    "    \n",
    "    pbk=1/(NT+(((ϱ**r)/((r-ϱ)*factorial(r-1)))))\n",
    "    \n",
    "    return pbk"
   ]
  },
  {
   "cell_type": "markdown",
   "metadata": {},
   "source": [
    "### Prawdopodobieństwo, że będzie kolejka przed dokami \n",
    "\n",
    "        n - ilość samochodów"
   ]
  },
  {
   "cell_type": "markdown",
   "metadata": {},
   "source": [
    "<span style=\"font-size: 180%;color:black\">\n",
    "$$\\\\   \n",
    " {p(n) =\\begin{cases} \n",
    "\\frac{{ϱ^n}{p(n=0)}}{n!},  & \\text{if $n\\le r$} \\\\[2ex] \n",
    "\\frac{{r^{r-n}}{ϱ^n}{p(n=0)}}{r!},  & \\text{if $n\\gt r$} \\\\[2ex] \n",
    "\\end{cases}\n",
    "} \\qquad (3)\n",
    "$$"
   ]
  },
  {
   "cell_type": "code",
   "execution_count": 5,
   "metadata": {},
   "outputs": [],
   "source": [
    "def prawd_kolejki(ϱ,r,n,PBK):\n",
    "    \n",
    "        if n <= r:\n",
    "            pt=(((ϱ**n)*PBK)/factorial(n))\n",
    "        else: \n",
    "            pt=(((r**(r-n))*(ϱ**(n))*PBK))/(factorial(r))\n",
    "        \n",
    "        return pt      "
   ]
  },
  {
   "cell_type": "code",
   "execution_count": null,
   "metadata": {},
   "outputs": [],
   "source": []
  },
  {
   "cell_type": "code",
   "execution_count": null,
   "metadata": {},
   "outputs": [],
   "source": []
  },
  {
   "cell_type": "markdown",
   "metadata": {},
   "source": [
    "## ŚREDNIA ILIŚĆ CIĘŻARÓWEK czekających na podjeździe"
   ]
  },
  {
   "cell_type": "markdown",
   "metadata": {},
   "source": [
    "<span style=\"font-size: 180%;color:black\">\n",
    "\n",
    "$$\\ \n",
    "{\n",
    "ψ =\\frac{{𝜚^{r+1}{p(n=0)}}}{{(r-𝜚)}^2{(r-1)!}}\n",
    "} \\qquad (4)\n",
    "$$"
   ]
  },
  {
   "cell_type": "code",
   "execution_count": 6,
   "metadata": {},
   "outputs": [],
   "source": [
    "def ile_sztuk_czeka(ϱ,r,PBK):\n",
    "\n",
    "    ISC = ((𝜚**(r+1))*PBK)/(((r-𝜚)**2)*factorial(r-1))\n",
    "    \n",
    "    return ISC"
   ]
  },
  {
   "cell_type": "markdown",
   "metadata": {},
   "source": [
    "## Prawdopodobieństwo, że spędzimy t czasu w kolejce"
   ]
  },
  {
   "cell_type": "markdown",
   "metadata": {},
   "source": [
    "<span style=\"font-size: 180%;color:black\">\n",
    "$$  \n",
    "{\n",
    "p(t>t_0) ={{p{(n>r-1)}}{e^{-μt_0(r-𝜚)}}}\n",
    "} \\qquad (4)\n",
    "$$"
   ]
  },
  {
   "cell_type": "code",
   "execution_count": 7,
   "metadata": {},
   "outputs": [],
   "source": [
    "def prawdop_czasu(μ,r,𝜚,PBK, P1, t):\n",
    "      \n",
    "    import numpy as np\n",
    "       \n",
    "    PC = (1-(PBK+P1))*(np.e**(-μ*t*(r-𝜚)))\n",
    "    \n",
    "    return PC"
   ]
  },
  {
   "cell_type": "code",
   "execution_count": 8,
   "metadata": {},
   "outputs": [
    {
     "data": {
      "text/plain": [
       "15.0"
      ]
     },
     "execution_count": 8,
     "metadata": {},
     "output_type": "execute_result"
    }
   ],
   "source": [
    "60*0.25"
   ]
  },
  {
   "cell_type": "code",
   "execution_count": 9,
   "metadata": {},
   "outputs": [
    {
     "data": {
      "text/plain": [
       "1104"
      ]
     },
     "execution_count": 9,
     "metadata": {},
     "output_type": "execute_result"
    }
   ],
   "source": [
    "552*2"
   ]
  },
  {
   "cell_type": "markdown",
   "metadata": {},
   "source": [
    "# ZADANIE"
   ]
  },
  {
   "cell_type": "markdown",
   "metadata": {},
   "source": [
    "# Konin"
   ]
  },
  {
   "cell_type": "code",
   "execution_count": 10,
   "metadata": {},
   "outputs": [],
   "source": [
    "λ=10.85    # ile jest przyjeżdzających wózków z gorącmymi detalami na godzinę\n",
    "μ=5.7     # ile ile jest obsługiwanych gorących detali na godzinę  \n",
    "r=2      # ile jest maszyn zakładających element na wcisk\n",
    "t=0.25   # czas 9 minut, czas w którym detal schładza sie do temperatury, która obniża jakość łaczenia, awaria łączników\n",
    "\n",
    "ϱ = λ/(μ*r)\n",
    "\n",
    "NT = dzings(ϱ,r)\n",
    "\n",
    "PBK = prawd_braku_kolejki(ϱ,r)\n",
    "ISC = ile_sztuk_czeka(ϱ,r,PBK)\n",
    "\n",
    "\n",
    "P1 = prawd_kolejki(ϱ,r,1,PBK)\n",
    "P2 = prawd_kolejki(ϱ,r,2,PBK)\n",
    "P3 = prawd_kolejki(ϱ,r,3,PBK)\n",
    "P4 = prawd_kolejki(ϱ,r,4,PBK)\n",
    "P5 = prawd_kolejki(ϱ,r,5,PBK)\n",
    "P6 = prawd_kolejki(ϱ,r,6,PBK)\n",
    "P7 = prawd_kolejki(ϱ,r,7,PBK)\n",
    "P8 = prawd_kolejki(ϱ,r,8,PBK)\n",
    "\n",
    "SP = PBK+P1+P2+P3+P4+P5+P6+P7+P8\n",
    "PC = prawdop_czasu(μ,r,𝜚,PBK, P1, t)\n",
    "\n",
    "ϱ_A = ϱ\n",
    "λ_A = λ\n",
    "μ_A = μ\n",
    "r_A = r"
   ]
  },
  {
   "cell_type": "markdown",
   "metadata": {},
   "source": [
    "# Krotoszyn"
   ]
  },
  {
   "cell_type": "code",
   "execution_count": 11,
   "metadata": {},
   "outputs": [],
   "source": [
    "λ=17.80    # ile jest przyjeżdzających wózków z gorącmymi detalami na godzinę\n",
    "μ=4.52     # ile ile jest obsługiwanych gorących detali na godzinę  \n",
    "r=4      # ile jest maszyn zakładających element na wcisk\n",
    "t=0.25   # czas 15 minut, czas w którym detal schładza sie do temperatury, która obniża jakość łaczenia, awaria łączników\n",
    "\n",
    "ϱ = λ/(μ*r)\n",
    "ϱ\n",
    "\n",
    "NT = dzings(ϱ,r)\n",
    "\n",
    "PBK_a = prawd_braku_kolejki(ϱ,r)\n",
    "ISC_a = ile_sztuk_czeka(ϱ,r,PBK_a)\n",
    "\n",
    "\n",
    "P1_a = prawd_kolejki(ϱ,r,1,PBK_a)\n",
    "P2_a = prawd_kolejki(ϱ,r,2,PBK_a)\n",
    "P3_a = prawd_kolejki(ϱ,r,3,PBK_a)\n",
    "P4_a = prawd_kolejki(ϱ,r,4,PBK_a)\n",
    "P5_a = prawd_kolejki(ϱ,r,5,PBK_a)\n",
    "P6_a = prawd_kolejki(ϱ,r,6,PBK_a)\n",
    "P7_a = prawd_kolejki(ϱ,r,7,PBK_a)\n",
    "P8_a = prawd_kolejki(ϱ,r,8,PBK_a)\n",
    "\n",
    "SP_a =PBK_a+P1_a+P2_a+P3_a+P4_a+P5_a+P6_a+P7_a+P8_a\n",
    "\n",
    "PC_a = prawdop_czasu(μ,r,𝜚, PBK_a, P1_a, t)\n",
    "\n",
    "ϱ_B = ϱ\n",
    "λ_B = λ\n",
    "μ_B = μ\n",
    "r_B = r"
   ]
  },
  {
   "cell_type": "markdown",
   "metadata": {},
   "source": [
    "#  Bolesławiec"
   ]
  },
  {
   "cell_type": "code",
   "execution_count": 12,
   "metadata": {},
   "outputs": [],
   "source": [
    "λ=15.21    # ile jest przyjeżdzających wózków z gorącmymi detalami na godzinę\n",
    "μ=5.32     # ile ile jest obsługiwanych gorących detali na godzinę  \n",
    "r=3      # ile jest maszyn zakładających element na wcisk\n",
    "t=0.25   # czas 9 minut, czas w którym detal schładza sie do temperatury, która obniża jakość łaczenia, awaria łączników\n",
    "\n",
    "\n",
    "ϱ = λ/(μ*r)\n",
    "ϱ\n",
    "\n",
    "NT = dzings(ϱ,r)\n",
    "\n",
    "PBK_b = prawd_braku_kolejki(ϱ,r)\n",
    "ISC_b = ile_sztuk_czeka(ϱ,r,PBK_b)\n",
    "\n",
    "\n",
    "P1_b = prawd_kolejki(ϱ,r,1,PBK_b)\n",
    "P2_b = prawd_kolejki(ϱ,r,2,PBK_b)\n",
    "P3_b = prawd_kolejki(ϱ,r,3,PBK_b)\n",
    "P4_b = prawd_kolejki(ϱ,r,4,PBK_b)\n",
    "P5_b = prawd_kolejki(ϱ,r,5,PBK_b)\n",
    "P6_b = prawd_kolejki(ϱ,r,6,PBK_b)\n",
    "P7_b = prawd_kolejki(ϱ,r,7,PBK_b)\n",
    "P8_b = prawd_kolejki(ϱ,r,8,PBK_b)\n",
    "\n",
    "SP_b =PBK_b+P1_b+P2_b+P3_b+P4_b+P5_b+P6_b+P7_b+P8_b\n",
    "\n",
    "PC_b = prawdop_czasu(μ,r,𝜚, PBK_b, P1_b, t)\n",
    "\n",
    "ϱ_C = ϱ\n",
    "λ_C = λ\n",
    "μ_C = μ\n",
    "r_C = r"
   ]
  },
  {
   "cell_type": "code",
   "execution_count": 13,
   "metadata": {},
   "outputs": [
    {
     "name": "stdout",
     "output_type": "stream",
     "text": [
      "+-----------------------------------------------------+-------+-----------+-------------+\n",
      "|                                                     | Konin | Krotoszyn | Bolesławiec |\n",
      "+-----------------------------------------------------+-------+-----------+-------------+\n",
      "| Ilość samochodów przyjeżdżających λ w ciągu godziny | 10.85 |    17.8   |    15.21    |\n",
      "| Ilość samochodów ważonych μ w ciągu godziny         |  5.7  |    4.52   |     5.32    |\n",
      "| Ilość wag wjazdowych r                              |   2   |     4     |      3      |\n",
      "| Wskaźnik intensywności ruchu ϱ=λ/(μ*r)              |  0.95 |    0.98   |     0.95    |\n",
      "+-----------------------------------------------------+-------+-----------+-------------+\n"
     ]
    }
   ],
   "source": [
    "from prettytable import PrettyTable\n",
    "t = PrettyTable([\"\", \"Konin\",\"Krotoszyn\",\"Bolesławiec\"])\n",
    "\n",
    "def green(text):\n",
    "     print('\\033[32m', text, '\\033[0m', sep='') \n",
    "\n",
    "t.align[\"\"] = \"l\"\n",
    "t.padding_width = 1\n",
    "t.add_row(['Ilość samochodów przyjeżdżających λ w ciągu godziny', λ_A, λ_B,  λ_C])\n",
    "t.add_row(['Ilość samochodów ważonych μ w ciągu godziny',  μ_A, μ_B,  μ_C])\n",
    "t.add_row(['Ilość wag wjazdowych r', r_A,  r_B,  r_C,])\n",
    "t.add_row(['Wskaźnik intensywności ruchu ϱ=λ/(μ*r)',  round(ϱ_A,2), round(ϱ_B,2), round(ϱ_C,2)])\n",
    "print(t)"
   ]
  },
  {
   "cell_type": "code",
   "execution_count": 14,
   "metadata": {},
   "outputs": [
    {
     "name": "stdout",
     "output_type": "stream",
     "text": [
      "+-----------------------------------------+-------+-----------+-------------+\n",
      "|                                         | Konin | Krotoszyn | Bolesławiec |\n",
      "+-----------------------------------------+-------+-----------+-------------+\n",
      "| Prawdopodobieństwo braku kolejki        |  0.36 |    0.37   |     0.38    |\n",
      "| Prawdopodobieństwo kolejki 1 ciężarówki |  0.34 |    0.37   |     0.36    |\n",
      "| Prawdopodobieństwo kolejki 2 ciężarówek |  0.16 |    0.18   |     0.17    |\n",
      "| Prawdopodobieństwo kolejki 3 ciężarówek |  0.08 |    0.06   |     0.06    |\n",
      "| Prawdopodobieństwo kolejki 4 ciężarówek |  0.04 |    0.01   |     0.02    |\n",
      "| Suma prawdopodobieństw:                 |  1.0  |    1.0    |     1.0     |\n",
      "+-----------------------------------------+-------+-----------+-------------+\n"
     ]
    }
   ],
   "source": [
    "from prettytable import PrettyTable\n",
    "t = PrettyTable([\"\", \"Konin\",\"Krotoszyn\",\"Bolesławiec\"])\n",
    "\n",
    "def green(text):\n",
    "     print('\\033[32m', text, '\\033[0m', sep='') \n",
    "\n",
    "t.align[\"\"] = \"l\"\n",
    "t.padding_width = 1\n",
    "t.add_row(['Prawdopodobieństwo braku kolejki',  round(PBK,2), round(PBK_a,2), round(PBK_b,2)])\n",
    "t.add_row(['Prawdopodobieństwo kolejki 1 ciężarówki',  round(P1,2), round(P1_a,2), round(P1_b,2)])\n",
    "t.add_row(['Prawdopodobieństwo kolejki 2 ciężarówek',  round(P2,2), round(P2_a,2), round(P2_b,2)])\n",
    "t.add_row(['Prawdopodobieństwo kolejki 3 ciężarówek',  round(P3,2), round(P3_a,2), round(P3_b,2)])\n",
    "t.add_row(['Prawdopodobieństwo kolejki 4 ciężarówek',  round(P4,2), round(P4_a,2), round(P4_b,2)])\n",
    "t.add_row(['Suma prawdopodobieństw:',                round(SP,2), round(SP_a,2), round(SP_b,2)])\n",
    "print(t)\n",
    "\n"
   ]
  },
  {
   "cell_type": "code",
   "execution_count": 15,
   "metadata": {},
   "outputs": [
    {
     "name": "stdout",
     "output_type": "stream",
     "text": [
      "+-------------------------------------+-------+-----------+-------------+\n",
      "|                                     | Konin | Krotoszyn | Bolesławiec |\n",
      "+-------------------------------------+-------+-----------+-------------+\n",
      "| Prawd. oczekiwania powyżej 15 minut | 0.069 |   0.009   |    0.017    |\n",
      "+-------------------------------------+-------+-----------+-------------+\n"
     ]
    }
   ],
   "source": [
    "from prettytable import PrettyTable\n",
    "t = PrettyTable([\"\", \"Konin\",\"Krotoszyn\",\"Bolesławiec\"])\n",
    "\n",
    "def green(text):\n",
    "     print('\\033[32m', text, '\\033[0m', sep='') \n",
    "\n",
    "t.align[\"\"] = \"l\"\n",
    "t.padding_width = 1\n",
    "t.add_row(['Prawd. oczekiwania powyżej 15 minut',  round(PC,3), round(PC_a,3), round(PC_b,3)])\n",
    "print(t)\n"
   ]
  },
  {
   "cell_type": "code",
   "execution_count": 16,
   "metadata": {},
   "outputs": [
    {
     "data": {
      "text/plain": [
       "31"
      ]
     },
     "execution_count": 16,
     "metadata": {},
     "output_type": "execute_result"
    }
   ],
   "source": [
    "16+8+4+2+1"
   ]
  }
 ],
 "metadata": {
  "kernelspec": {
   "display_name": "Python 3",
   "language": "python",
   "name": "python3"
  },
  "language_info": {
   "codemirror_mode": {
    "name": "ipython",
    "version": 3
   },
   "file_extension": ".py",
   "mimetype": "text/x-python",
   "name": "python",
   "nbconvert_exporter": "python",
   "pygments_lexer": "ipython3",
   "version": "3.7.4"
  }
 },
 "nbformat": 4,
 "nbformat_minor": 2
}
