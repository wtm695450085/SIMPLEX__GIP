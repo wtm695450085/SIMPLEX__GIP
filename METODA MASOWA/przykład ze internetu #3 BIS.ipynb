{
 "cells": [
  {
   "cell_type": "markdown",
   "metadata": {},
   "source": [
    "<span style=\"font-size: 250%;color:white;background:green\"> przykład ze internetu #3 BIS\n",
    "\n",
    "\n",
    "https://towardsdatascience.com/linear-programming-using-python-priyansh-22b5ee888fe0\n",
    "\n",
    "<span style=\"font-size: 250%;color:green;background:#d9ead3\">Zagadnienie transportowe"
   ]
  },
  {
   "cell_type": "code",
   "execution_count": 1,
   "metadata": {},
   "outputs": [],
   "source": [
    "import pulp\n",
    "from pulp import *\n",
    "import pandas as pd\n",
    "import numpy as np"
   ]
  },
  {
   "cell_type": "markdown",
   "metadata": {},
   "source": [
    "### Definicja danych\n",
    "\n",
    "Zdefiniujmy dane i przypiszmy je do zmiennych, które można następnie wykorzystać do wprowadzenia do modelu, funkcji celu i ograniczeń."
   ]
  },
  {
   "cell_type": "markdown",
   "metadata": {},
   "source": [
    "<span style=\"font-size: 150%;color:green;background:#d9ead3\">Tworzę macierz"
   ]
  },
  {
   "cell_type": "code",
   "execution_count": 2,
   "metadata": {},
   "outputs": [
    {
     "data": {
      "text/html": [
       "<div>\n",
       "<style scoped>\n",
       "    .dataframe tbody tr th:only-of-type {\n",
       "        vertical-align: middle;\n",
       "    }\n",
       "\n",
       "    .dataframe tbody tr th {\n",
       "        vertical-align: top;\n",
       "    }\n",
       "\n",
       "    .dataframe thead th {\n",
       "        text-align: right;\n",
       "    }\n",
       "</style>\n",
       "<table border=\"1\" class=\"dataframe\">\n",
       "  <thead>\n",
       "    <tr style=\"text-align: right;\">\n",
       "      <th></th>\n",
       "      <th></th>\n",
       "      <th>customer_1</th>\n",
       "      <th>customer_2</th>\n",
       "      <th>customer_3</th>\n",
       "      <th>customer_4</th>\n",
       "      <th>customer_5</th>\n",
       "      <th>customer_6</th>\n",
       "      <th>customer_7</th>\n",
       "      <th>customer_8</th>\n",
       "      <th>customer_9</th>\n",
       "    </tr>\n",
       "  </thead>\n",
       "  <tbody>\n",
       "    <tr>\n",
       "      <td>0</td>\n",
       "      <td>warehouse_1</td>\n",
       "      <td>1</td>\n",
       "      <td>2</td>\n",
       "      <td>1</td>\n",
       "      <td>1</td>\n",
       "      <td>3</td>\n",
       "      <td>1</td>\n",
       "      <td>4</td>\n",
       "      <td>1</td>\n",
       "      <td>2</td>\n",
       "    </tr>\n",
       "    <tr>\n",
       "      <td>1</td>\n",
       "      <td>warehouse_2</td>\n",
       "      <td>3</td>\n",
       "      <td>2</td>\n",
       "      <td>1</td>\n",
       "      <td>2</td>\n",
       "      <td>2</td>\n",
       "      <td>1</td>\n",
       "      <td>2</td>\n",
       "      <td>3</td>\n",
       "      <td>2</td>\n",
       "    </tr>\n",
       "    <tr>\n",
       "      <td>2</td>\n",
       "      <td>warehouse_3</td>\n",
       "      <td>1</td>\n",
       "      <td>2</td>\n",
       "      <td>1</td>\n",
       "      <td>2</td>\n",
       "      <td>2</td>\n",
       "      <td>1</td>\n",
       "      <td>1</td>\n",
       "      <td>3</td>\n",
       "      <td>3</td>\n",
       "    </tr>\n",
       "    <tr>\n",
       "      <td>3</td>\n",
       "      <td>warehouse_4</td>\n",
       "      <td>1</td>\n",
       "      <td>2</td>\n",
       "      <td>3</td>\n",
       "      <td>2</td>\n",
       "      <td>3</td>\n",
       "      <td>1</td>\n",
       "      <td>2</td>\n",
       "      <td>2</td>\n",
       "      <td>2</td>\n",
       "    </tr>\n",
       "    <tr>\n",
       "      <td>4</td>\n",
       "      <td>warehouse_5</td>\n",
       "      <td>3</td>\n",
       "      <td>1</td>\n",
       "      <td>4</td>\n",
       "      <td>1</td>\n",
       "      <td>3</td>\n",
       "      <td>2</td>\n",
       "      <td>1</td>\n",
       "      <td>3</td>\n",
       "      <td>1</td>\n",
       "    </tr>\n",
       "    <tr>\n",
       "      <td>5</td>\n",
       "      <td>warehouse_6</td>\n",
       "      <td>4</td>\n",
       "      <td>1</td>\n",
       "      <td>4</td>\n",
       "      <td>2</td>\n",
       "      <td>4</td>\n",
       "      <td>3</td>\n",
       "      <td>3</td>\n",
       "      <td>4</td>\n",
       "      <td>4</td>\n",
       "    </tr>\n",
       "    <tr>\n",
       "      <td>6</td>\n",
       "      <td>warehouse_7</td>\n",
       "      <td>3</td>\n",
       "      <td>2</td>\n",
       "      <td>3</td>\n",
       "      <td>2</td>\n",
       "      <td>3</td>\n",
       "      <td>2</td>\n",
       "      <td>1</td>\n",
       "      <td>3</td>\n",
       "      <td>1</td>\n",
       "    </tr>\n",
       "    <tr>\n",
       "      <td>7</td>\n",
       "      <td>warehouse_8</td>\n",
       "      <td>1</td>\n",
       "      <td>2</td>\n",
       "      <td>1</td>\n",
       "      <td>1</td>\n",
       "      <td>4</td>\n",
       "      <td>1</td>\n",
       "      <td>2</td>\n",
       "      <td>1</td>\n",
       "      <td>1</td>\n",
       "    </tr>\n",
       "    <tr>\n",
       "      <td>8</td>\n",
       "      <td>warehouse_9</td>\n",
       "      <td>2</td>\n",
       "      <td>1</td>\n",
       "      <td>4</td>\n",
       "      <td>1</td>\n",
       "      <td>1</td>\n",
       "      <td>3</td>\n",
       "      <td>3</td>\n",
       "      <td>2</td>\n",
       "      <td>3</td>\n",
       "    </tr>\n",
       "  </tbody>\n",
       "</table>\n",
       "</div>"
      ],
      "text/plain": [
       "                customer_1  customer_2  customer_3  customer_4  customer_5  \\\n",
       "0  warehouse_1           1           2           1           1           3   \n",
       "1  warehouse_2           3           2           1           2           2   \n",
       "2  warehouse_3           1           2           1           2           2   \n",
       "3  warehouse_4           1           2           3           2           3   \n",
       "4  warehouse_5           3           1           4           1           3   \n",
       "5  warehouse_6           4           1           4           2           4   \n",
       "6  warehouse_7           3           2           3           2           3   \n",
       "7  warehouse_8           1           2           1           1           4   \n",
       "8  warehouse_9           2           1           4           1           1   \n",
       "\n",
       "   customer_6  customer_7  customer_8  customer_9  \n",
       "0           1           4           1           2  \n",
       "1           1           2           3           2  \n",
       "2           1           1           3           3  \n",
       "3           1           2           2           2  \n",
       "4           2           1           3           1  \n",
       "5           3           3           4           4  \n",
       "6           2           1           3           1  \n",
       "7           1           2           1           1  \n",
       "8           3           3           2           3  "
      ]
     },
     "execution_count": 2,
     "metadata": {},
     "output_type": "execute_result"
    }
   ],
   "source": [
    "import pandas as pd\n",
    "\n",
    "cc =[\"warehouse_1\", \"warehouse_2\", \"warehouse_3\",\"warehouse_4\", \"warehouse_5\", \"warehouse_6\",\"warehouse_7\", \"warehouse_8\", \"warehouse_9\"]\n",
    "aaa = [1, 3,1,1,3,4,3,1,2]\n",
    "bbb = [2, 2,2,2,1,1,2,2,1]\n",
    "ccc = [1, 1,1,3,4,4,3,1,4]\n",
    "ddd = [1, 2,2,2,1,2,2,1,1]\n",
    "eee = [3, 2,2,3,3,4,3,4,1]\n",
    "fff = [1, 1,1,1,2,3,2,1,3]\n",
    "ggg = [4, 2,1,2,1,3,1,2,3]\n",
    "hhh = [1, 3,3,2,3,4,3,1,2]\n",
    "kkk = [2, 2,3,2,1,4,1,1,3]\n",
    "df = pd.DataFrame({'': cc, 'customer_1': aaa, 'customer_2': bbb, 'customer_3': ccc,'customer_4': ddd,'customer_5': eee, 'customer_6': fff,'customer_7': ggg, 'customer_8': hhh, 'customer_9': kkk})\n",
    "df"
   ]
  },
  {
   "cell_type": "code",
   "execution_count": 3,
   "metadata": {},
   "outputs": [],
   "source": [
    "n_warehouses, n_customers = df.shape"
   ]
  },
  {
   "cell_type": "code",
   "execution_count": 4,
   "metadata": {},
   "outputs": [
    {
     "name": "stdout",
     "output_type": "stream",
     "text": [
      "n_warehouses: 9\n",
      "n_customers: 9\n"
     ]
    }
   ],
   "source": [
    "print('n_warehouses:',n_warehouses)\n",
    "print('n_customers:',n_customers-1)   # odejmujemy kolumnę z  nazwami 'warehouse'"
   ]
  },
  {
   "cell_type": "markdown",
   "metadata": {},
   "source": [
    "<span style=\"font-size: 150%;color:green;background:#d9ead3\">Tworzę macierz Tworzę macierz kosztów transportu numpy"
   ]
  },
  {
   "cell_type": "code",
   "execution_count": 5,
   "metadata": {},
   "outputs": [
    {
     "data": {
      "text/plain": [
       "Index(['', 'customer_1', 'customer_2', 'customer_3', 'customer_4',\n",
       "       'customer_5', 'customer_6', 'customer_7', 'customer_8', 'customer_9'],\n",
       "      dtype='object')"
      ]
     },
     "execution_count": 5,
     "metadata": {},
     "output_type": "execute_result"
    }
   ],
   "source": [
    "df.columns"
   ]
  },
  {
   "cell_type": "code",
   "execution_count": 6,
   "metadata": {},
   "outputs": [
    {
     "data": {
      "text/plain": [
       "array([[1, 2, 1, 1, 3, 1, 4, 1, 2],\n",
       "       [3, 2, 1, 2, 2, 1, 2, 3, 2],\n",
       "       [1, 2, 1, 2, 2, 1, 1, 3, 3],\n",
       "       [1, 2, 3, 2, 3, 1, 2, 2, 2],\n",
       "       [3, 1, 4, 1, 3, 2, 1, 3, 1],\n",
       "       [4, 1, 4, 2, 4, 3, 3, 4, 4],\n",
       "       [3, 2, 3, 2, 3, 2, 1, 3, 1],\n",
       "       [1, 2, 1, 1, 4, 1, 2, 1, 1],\n",
       "       [2, 1, 4, 1, 1, 3, 3, 2, 3]])"
      ]
     },
     "execution_count": 6,
     "metadata": {},
     "output_type": "execute_result"
    }
   ],
   "source": [
    "cost_matrix = df[['customer_1', 'customer_2', 'customer_3', 'customer_4','customer_5', 'customer_6', 'customer_7', 'customer_8', 'customer_9']]\n",
    "\n",
    "cost_matrix = np.array(cost_matrix)  \n",
    "cost_matrix"
   ]
  },
  {
   "cell_type": "code",
   "execution_count": 7,
   "metadata": {},
   "outputs": [
    {
     "data": {
      "text/plain": [
       "(9, 9)"
      ]
     },
     "execution_count": 7,
     "metadata": {},
     "output_type": "execute_result"
    }
   ],
   "source": [
    "cost_matrix.shape"
   ]
  },
  {
   "cell_type": "markdown",
   "metadata": {},
   "source": [
    "<span style=\"font-size: 150%;color:green;background:#d9ead3\">Określam wektor zdolności dostarczania produktów przez hurtownie i zdolność sprzedaży przez sklepy"
   ]
  },
  {
   "cell_type": "code",
   "execution_count": 8,
   "metadata": {},
   "outputs": [],
   "source": [
    "cust_demands = np.array([35000, 22000, 18000, 30000,32000, 21000, 11000, 31000,13000])"
   ]
  },
  {
   "cell_type": "code",
   "execution_count": 9,
   "metadata": {},
   "outputs": [],
   "source": [
    "warehouse_supply = np.array([60000, 80000,40000, 30000, 62000, 17000,26000, 35000,22000])"
   ]
  },
  {
   "cell_type": "markdown",
   "metadata": {},
   "source": [
    "<span style=\"font-size: 150%;color:black;background:#d9ead3\">Inicjacja modelu\n",
    "    \n",
    "    Tworzę końcówki nazw zmiennych w macierzy zmiennych decyzyjnych"
   ]
  },
  {
   "cell_type": "code",
   "execution_count": 10,
   "metadata": {},
   "outputs": [],
   "source": [
    "bis = LpProblem(\"Supply-Demand-Proble_bis\", LpMinimize)"
   ]
  },
  {
   "cell_type": "markdown",
   "metadata": {},
   "source": [
    "<span style=\"font-size: 150%;color:black;background:#d9ead3\">Definiuje nazwy zmiennych (do macierzy)"
   ]
  },
  {
   "cell_type": "code",
   "execution_count": 11,
   "metadata": {},
   "outputs": [],
   "source": [
    "variable_names = [str(i)+str(j) for j in range(1, n_customers) for i in range(1,n_warehouses+1)]\n",
    "variable_names.sort()\n",
    "#variable_names"
   ]
  },
  {
   "cell_type": "markdown",
   "metadata": {},
   "source": [
    "<span style=\"font-size: 150%;color:black;background:#d9ead3\">Zmienne decyzyjne\n",
    "    \n",
    "    Tworzę zmienne decyzyjne"
   ]
  },
  {
   "cell_type": "code",
   "execution_count": 12,
   "metadata": {},
   "outputs": [],
   "source": [
    "DV_variables = LpVariable.matrix(\"X\", variable_names , cat = \"Integer\" , lowBound= 0 )\n",
    "#DV_variables"
   ]
  },
  {
   "cell_type": "markdown",
   "metadata": {},
   "source": [
    "    Tworzę te zmienne decyzyjne w formacie macierzy"
   ]
  },
  {
   "cell_type": "code",
   "execution_count": 13,
   "metadata": {},
   "outputs": [
    {
     "data": {
      "text/plain": [
       "array([[X_11, X_12, X_13, X_14, X_15, X_16, X_17, X_18, X_19],\n",
       "       [X_21, X_22, X_23, X_24, X_25, X_26, X_27, X_28, X_29],\n",
       "       [X_31, X_32, X_33, X_34, X_35, X_36, X_37, X_38, X_39],\n",
       "       [X_41, X_42, X_43, X_44, X_45, X_46, X_47, X_48, X_49],\n",
       "       [X_51, X_52, X_53, X_54, X_55, X_56, X_57, X_58, X_59],\n",
       "       [X_61, X_62, X_63, X_64, X_65, X_66, X_67, X_68, X_69],\n",
       "       [X_71, X_72, X_73, X_74, X_75, X_76, X_77, X_78, X_79],\n",
       "       [X_81, X_82, X_83, X_84, X_85, X_86, X_87, X_88, X_89],\n",
       "       [X_91, X_92, X_93, X_94, X_95, X_96, X_97, X_98, X_99]],\n",
       "      dtype=object)"
      ]
     },
     "execution_count": 13,
     "metadata": {},
     "output_type": "execute_result"
    }
   ],
   "source": [
    "allocation = np.array(DV_variables).reshape(n_warehouses,n_customers-1)\n",
    "allocation"
   ]
  },
  {
   "cell_type": "code",
   "execution_count": 14,
   "metadata": {},
   "outputs": [
    {
     "data": {
      "text/plain": [
       "(9, 9)"
      ]
     },
     "execution_count": 14,
     "metadata": {},
     "output_type": "execute_result"
    }
   ],
   "source": [
    "allocation.shape"
   ]
  },
  {
   "cell_type": "code",
   "execution_count": 15,
   "metadata": {},
   "outputs": [
    {
     "data": {
      "text/plain": [
       "(9, 9)"
      ]
     },
     "execution_count": 15,
     "metadata": {},
     "output_type": "execute_result"
    }
   ],
   "source": [
    "cost_matrix.shape"
   ]
  },
  {
   "cell_type": "code",
   "execution_count": null,
   "metadata": {},
   "outputs": [],
   "source": []
  },
  {
   "cell_type": "markdown",
   "metadata": {},
   "source": [
    "<span style=\"font-size: 150%;color:black;background:#d9ead3\">Definiuję funkcję celu"
   ]
  },
  {
   "cell_type": "code",
   "execution_count": 16,
   "metadata": {},
   "outputs": [
    {
     "data": {
      "text/plain": [
       "1*X_11 + 2*X_12 + 1*X_13 + 1*X_14 + 3*X_15 + 1*X_16 + 4*X_17 + 1*X_18 + 2*X_19 + 3*X_21 + 2*X_22 + 1*X_23 + 2*X_24 + 2*X_25 + 1*X_26 + 2*X_27 + 3*X_28 + 2*X_29 + 1*X_31 + 2*X_32 + 1*X_33 + 2*X_34 + 2*X_35 + 1*X_36 + 1*X_37 + 3*X_38 + 3*X_39 + 1*X_41 + 2*X_42 + 3*X_43 + 2*X_44 + 3*X_45 + 1*X_46 + 2*X_47 + 2*X_48 + 2*X_49 + 3*X_51 + 1*X_52 + 4*X_53 + 1*X_54 + 3*X_55 + 2*X_56 + 1*X_57 + 3*X_58 + 1*X_59 + 4*X_61 + 1*X_62 + 4*X_63 + 2*X_64 + 4*X_65 + 3*X_66 + 3*X_67 + 4*X_68 + 4*X_69 + 3*X_71 + 2*X_72 + 3*X_73 + 2*X_74 + 3*X_75 + 2*X_76 + 1*X_77 + 3*X_78 + 1*X_79 + 1*X_81 + 2*X_82 + 1*X_83 + 1*X_84 + 4*X_85 + 1*X_86 + 2*X_87 + 1*X_88 + 1*X_89 + 2*X_91 + 1*X_92 + 4*X_93 + 1*X_94 + 1*X_95 + 3*X_96 + 3*X_97 + 2*X_98 + 3*X_99 + 0"
      ]
     },
     "execution_count": 16,
     "metadata": {},
     "output_type": "execute_result"
    }
   ],
   "source": [
    "obj_func = lpSum(allocation*cost_matrix)\n",
    "obj_func"
   ]
  },
  {
   "cell_type": "markdown",
   "metadata": {},
   "source": [
    "Dodaję funkcję celu do zadania"
   ]
  },
  {
   "cell_type": "code",
   "execution_count": 17,
   "metadata": {},
   "outputs": [],
   "source": [
    "bis +=  obj_func"
   ]
  },
  {
   "cell_type": "code",
   "execution_count": 18,
   "metadata": {},
   "outputs": [
    {
     "data": {
      "text/plain": [
       "Supply-Demand-Proble_bis:\n",
       "MINIMIZE\n",
       "1*X_11 + 2*X_12 + 1*X_13 + 1*X_14 + 3*X_15 + 1*X_16 + 4*X_17 + 1*X_18 + 2*X_19 + 3*X_21 + 2*X_22 + 1*X_23 + 2*X_24 + 2*X_25 + 1*X_26 + 2*X_27 + 3*X_28 + 2*X_29 + 1*X_31 + 2*X_32 + 1*X_33 + 2*X_34 + 2*X_35 + 1*X_36 + 1*X_37 + 3*X_38 + 3*X_39 + 1*X_41 + 2*X_42 + 3*X_43 + 2*X_44 + 3*X_45 + 1*X_46 + 2*X_47 + 2*X_48 + 2*X_49 + 3*X_51 + 1*X_52 + 4*X_53 + 1*X_54 + 3*X_55 + 2*X_56 + 1*X_57 + 3*X_58 + 1*X_59 + 4*X_61 + 1*X_62 + 4*X_63 + 2*X_64 + 4*X_65 + 3*X_66 + 3*X_67 + 4*X_68 + 4*X_69 + 3*X_71 + 2*X_72 + 3*X_73 + 2*X_74 + 3*X_75 + 2*X_76 + 1*X_77 + 3*X_78 + 1*X_79 + 1*X_81 + 2*X_82 + 1*X_83 + 1*X_84 + 4*X_85 + 1*X_86 + 2*X_87 + 1*X_88 + 1*X_89 + 2*X_91 + 1*X_92 + 4*X_93 + 1*X_94 + 1*X_95 + 3*X_96 + 3*X_97 + 2*X_98 + 3*X_99 + 0\n",
       "VARIABLES\n",
       "0 <= X_11 Integer\n",
       "0 <= X_12 Integer\n",
       "0 <= X_13 Integer\n",
       "0 <= X_14 Integer\n",
       "0 <= X_15 Integer\n",
       "0 <= X_16 Integer\n",
       "0 <= X_17 Integer\n",
       "0 <= X_18 Integer\n",
       "0 <= X_19 Integer\n",
       "0 <= X_21 Integer\n",
       "0 <= X_22 Integer\n",
       "0 <= X_23 Integer\n",
       "0 <= X_24 Integer\n",
       "0 <= X_25 Integer\n",
       "0 <= X_26 Integer\n",
       "0 <= X_27 Integer\n",
       "0 <= X_28 Integer\n",
       "0 <= X_29 Integer\n",
       "0 <= X_31 Integer\n",
       "0 <= X_32 Integer\n",
       "0 <= X_33 Integer\n",
       "0 <= X_34 Integer\n",
       "0 <= X_35 Integer\n",
       "0 <= X_36 Integer\n",
       "0 <= X_37 Integer\n",
       "0 <= X_38 Integer\n",
       "0 <= X_39 Integer\n",
       "0 <= X_41 Integer\n",
       "0 <= X_42 Integer\n",
       "0 <= X_43 Integer\n",
       "0 <= X_44 Integer\n",
       "0 <= X_45 Integer\n",
       "0 <= X_46 Integer\n",
       "0 <= X_47 Integer\n",
       "0 <= X_48 Integer\n",
       "0 <= X_49 Integer\n",
       "0 <= X_51 Integer\n",
       "0 <= X_52 Integer\n",
       "0 <= X_53 Integer\n",
       "0 <= X_54 Integer\n",
       "0 <= X_55 Integer\n",
       "0 <= X_56 Integer\n",
       "0 <= X_57 Integer\n",
       "0 <= X_58 Integer\n",
       "0 <= X_59 Integer\n",
       "0 <= X_61 Integer\n",
       "0 <= X_62 Integer\n",
       "0 <= X_63 Integer\n",
       "0 <= X_64 Integer\n",
       "0 <= X_65 Integer\n",
       "0 <= X_66 Integer\n",
       "0 <= X_67 Integer\n",
       "0 <= X_68 Integer\n",
       "0 <= X_69 Integer\n",
       "0 <= X_71 Integer\n",
       "0 <= X_72 Integer\n",
       "0 <= X_73 Integer\n",
       "0 <= X_74 Integer\n",
       "0 <= X_75 Integer\n",
       "0 <= X_76 Integer\n",
       "0 <= X_77 Integer\n",
       "0 <= X_78 Integer\n",
       "0 <= X_79 Integer\n",
       "0 <= X_81 Integer\n",
       "0 <= X_82 Integer\n",
       "0 <= X_83 Integer\n",
       "0 <= X_84 Integer\n",
       "0 <= X_85 Integer\n",
       "0 <= X_86 Integer\n",
       "0 <= X_87 Integer\n",
       "0 <= X_88 Integer\n",
       "0 <= X_89 Integer\n",
       "0 <= X_91 Integer\n",
       "0 <= X_92 Integer\n",
       "0 <= X_93 Integer\n",
       "0 <= X_94 Integer\n",
       "0 <= X_95 Integer\n",
       "0 <= X_96 Integer\n",
       "0 <= X_97 Integer\n",
       "0 <= X_98 Integer\n",
       "0 <= X_99 Integer"
      ]
     },
     "execution_count": 18,
     "metadata": {},
     "output_type": "execute_result"
    }
   ],
   "source": [
    "bis"
   ]
  },
  {
   "cell_type": "markdown",
   "metadata": {},
   "source": [
    "<span style=\"font-size: 150%;color:black;background:#d9ead3\">Warunki ograniczające\n",
    "    \n",
    "    Ograniczenia hurtowni"
   ]
  },
  {
   "cell_type": "code",
   "execution_count": 19,
   "metadata": {},
   "outputs": [
    {
     "name": "stdout",
     "output_type": "stream",
     "text": [
      "X_11 + X_12 + X_13 + X_14 + X_15 + X_16 + X_17 + X_18 + X_19 <= 60000\n",
      "X_21 + X_22 + X_23 + X_24 + X_25 + X_26 + X_27 + X_28 + X_29 <= 80000\n",
      "X_31 + X_32 + X_33 + X_34 + X_35 + X_36 + X_37 + X_38 + X_39 <= 40000\n",
      "X_41 + X_42 + X_43 + X_44 + X_45 + X_46 + X_47 + X_48 + X_49 <= 30000\n",
      "X_51 + X_52 + X_53 + X_54 + X_55 + X_56 + X_57 + X_58 + X_59 <= 62000\n",
      "X_61 + X_62 + X_63 + X_64 + X_65 + X_66 + X_67 + X_68 + X_69 <= 17000\n",
      "X_71 + X_72 + X_73 + X_74 + X_75 + X_76 + X_77 + X_78 + X_79 <= 26000\n",
      "X_81 + X_82 + X_83 + X_84 + X_85 + X_86 + X_87 + X_88 + X_89 <= 35000\n",
      "X_91 + X_92 + X_93 + X_94 + X_95 + X_96 + X_97 + X_98 + X_99 <= 22000\n"
     ]
    }
   ],
   "source": [
    "# Dodaję ograniczenia do zadania w pętli\n",
    "# Warehouse Constraints\n",
    "for i in range(n_warehouses):\n",
    "    print(lpSum(allocation[i][j] for j in range(n_customers-1)) <= warehouse_supply[i])\n",
    "    bis += lpSum(allocation[i][j] for j in range(n_customers-1)) <= warehouse_supply[i] , \"Supply Constraints \" + str(i)"
   ]
  },
  {
   "cell_type": "markdown",
   "metadata": {},
   "source": [
    "    Ograniczenia odbiorców"
   ]
  },
  {
   "cell_type": "code",
   "execution_count": 20,
   "metadata": {},
   "outputs": [
    {
     "name": "stdout",
     "output_type": "stream",
     "text": [
      "X_11 + X_21 + X_31 + X_41 + X_51 + X_61 + X_71 + X_81 + X_91 >= 35000\n",
      "X_12 + X_22 + X_32 + X_42 + X_52 + X_62 + X_72 + X_82 + X_92 >= 22000\n",
      "X_13 + X_23 + X_33 + X_43 + X_53 + X_63 + X_73 + X_83 + X_93 >= 18000\n",
      "X_14 + X_24 + X_34 + X_44 + X_54 + X_64 + X_74 + X_84 + X_94 >= 30000\n",
      "X_15 + X_25 + X_35 + X_45 + X_55 + X_65 + X_75 + X_85 + X_95 >= 32000\n",
      "X_16 + X_26 + X_36 + X_46 + X_56 + X_66 + X_76 + X_86 + X_96 >= 21000\n",
      "X_17 + X_27 + X_37 + X_47 + X_57 + X_67 + X_77 + X_87 + X_97 >= 11000\n",
      "X_18 + X_28 + X_38 + X_48 + X_58 + X_68 + X_78 + X_88 + X_98 >= 31000\n",
      "X_19 + X_29 + X_39 + X_49 + X_59 + X_69 + X_79 + X_89 + X_99 >= 13000\n"
     ]
    }
   ],
   "source": [
    "# Dodaję ograniczenia do zadania w pętli\n",
    "\n",
    "for j in range(n_customers-1):\n",
    "    print(lpSum(allocation[i][j] for i in range(n_warehouses)) >= cust_demands[j])\n",
    "    bis += lpSum(allocation[i][j] for i in range(n_warehouses)) >= cust_demands[j] , \"Demand Constraints \" + str(j)"
   ]
  },
  {
   "cell_type": "markdown",
   "metadata": {},
   "source": []
  },
  {
   "cell_type": "code",
   "execution_count": 21,
   "metadata": {},
   "outputs": [
    {
     "data": {
      "text/plain": [
       "Supply-Demand-Proble_bis:\n",
       "MINIMIZE\n",
       "1*X_11 + 2*X_12 + 1*X_13 + 1*X_14 + 3*X_15 + 1*X_16 + 4*X_17 + 1*X_18 + 2*X_19 + 3*X_21 + 2*X_22 + 1*X_23 + 2*X_24 + 2*X_25 + 1*X_26 + 2*X_27 + 3*X_28 + 2*X_29 + 1*X_31 + 2*X_32 + 1*X_33 + 2*X_34 + 2*X_35 + 1*X_36 + 1*X_37 + 3*X_38 + 3*X_39 + 1*X_41 + 2*X_42 + 3*X_43 + 2*X_44 + 3*X_45 + 1*X_46 + 2*X_47 + 2*X_48 + 2*X_49 + 3*X_51 + 1*X_52 + 4*X_53 + 1*X_54 + 3*X_55 + 2*X_56 + 1*X_57 + 3*X_58 + 1*X_59 + 4*X_61 + 1*X_62 + 4*X_63 + 2*X_64 + 4*X_65 + 3*X_66 + 3*X_67 + 4*X_68 + 4*X_69 + 3*X_71 + 2*X_72 + 3*X_73 + 2*X_74 + 3*X_75 + 2*X_76 + 1*X_77 + 3*X_78 + 1*X_79 + 1*X_81 + 2*X_82 + 1*X_83 + 1*X_84 + 4*X_85 + 1*X_86 + 2*X_87 + 1*X_88 + 1*X_89 + 2*X_91 + 1*X_92 + 4*X_93 + 1*X_94 + 1*X_95 + 3*X_96 + 3*X_97 + 2*X_98 + 3*X_99 + 0\n",
       "SUBJECT TO\n",
       "Supply_Constraints_0: X_11 + X_12 + X_13 + X_14 + X_15 + X_16 + X_17 + X_18\n",
       " + X_19 <= 60000\n",
       "\n",
       "Supply_Constraints_1: X_21 + X_22 + X_23 + X_24 + X_25 + X_26 + X_27 + X_28\n",
       " + X_29 <= 80000\n",
       "\n",
       "Supply_Constraints_2: X_31 + X_32 + X_33 + X_34 + X_35 + X_36 + X_37 + X_38\n",
       " + X_39 <= 40000\n",
       "\n",
       "Supply_Constraints_3: X_41 + X_42 + X_43 + X_44 + X_45 + X_46 + X_47 + X_48\n",
       " + X_49 <= 30000\n",
       "\n",
       "Supply_Constraints_4: X_51 + X_52 + X_53 + X_54 + X_55 + X_56 + X_57 + X_58\n",
       " + X_59 <= 62000\n",
       "\n",
       "Supply_Constraints_5: X_61 + X_62 + X_63 + X_64 + X_65 + X_66 + X_67 + X_68\n",
       " + X_69 <= 17000\n",
       "\n",
       "Supply_Constraints_6: X_71 + X_72 + X_73 + X_74 + X_75 + X_76 + X_77 + X_78\n",
       " + X_79 <= 26000\n",
       "\n",
       "Supply_Constraints_7: X_81 + X_82 + X_83 + X_84 + X_85 + X_86 + X_87 + X_88\n",
       " + X_89 <= 35000\n",
       "\n",
       "Supply_Constraints_8: X_91 + X_92 + X_93 + X_94 + X_95 + X_96 + X_97 + X_98\n",
       " + X_99 <= 22000\n",
       "\n",
       "Demand_Constraints_0: X_11 + X_21 + X_31 + X_41 + X_51 + X_61 + X_71 + X_81\n",
       " + X_91 >= 35000\n",
       "\n",
       "Demand_Constraints_1: X_12 + X_22 + X_32 + X_42 + X_52 + X_62 + X_72 + X_82\n",
       " + X_92 >= 22000\n",
       "\n",
       "Demand_Constraints_2: X_13 + X_23 + X_33 + X_43 + X_53 + X_63 + X_73 + X_83\n",
       " + X_93 >= 18000\n",
       "\n",
       "Demand_Constraints_3: X_14 + X_24 + X_34 + X_44 + X_54 + X_64 + X_74 + X_84\n",
       " + X_94 >= 30000\n",
       "\n",
       "Demand_Constraints_4: X_15 + X_25 + X_35 + X_45 + X_55 + X_65 + X_75 + X_85\n",
       " + X_95 >= 32000\n",
       "\n",
       "Demand_Constraints_5: X_16 + X_26 + X_36 + X_46 + X_56 + X_66 + X_76 + X_86\n",
       " + X_96 >= 21000\n",
       "\n",
       "Demand_Constraints_6: X_17 + X_27 + X_37 + X_47 + X_57 + X_67 + X_77 + X_87\n",
       " + X_97 >= 11000\n",
       "\n",
       "Demand_Constraints_7: X_18 + X_28 + X_38 + X_48 + X_58 + X_68 + X_78 + X_88\n",
       " + X_98 >= 31000\n",
       "\n",
       "Demand_Constraints_8: X_19 + X_29 + X_39 + X_49 + X_59 + X_69 + X_79 + X_89\n",
       " + X_99 >= 13000\n",
       "\n",
       "VARIABLES\n",
       "0 <= X_11 Integer\n",
       "0 <= X_12 Integer\n",
       "0 <= X_13 Integer\n",
       "0 <= X_14 Integer\n",
       "0 <= X_15 Integer\n",
       "0 <= X_16 Integer\n",
       "0 <= X_17 Integer\n",
       "0 <= X_18 Integer\n",
       "0 <= X_19 Integer\n",
       "0 <= X_21 Integer\n",
       "0 <= X_22 Integer\n",
       "0 <= X_23 Integer\n",
       "0 <= X_24 Integer\n",
       "0 <= X_25 Integer\n",
       "0 <= X_26 Integer\n",
       "0 <= X_27 Integer\n",
       "0 <= X_28 Integer\n",
       "0 <= X_29 Integer\n",
       "0 <= X_31 Integer\n",
       "0 <= X_32 Integer\n",
       "0 <= X_33 Integer\n",
       "0 <= X_34 Integer\n",
       "0 <= X_35 Integer\n",
       "0 <= X_36 Integer\n",
       "0 <= X_37 Integer\n",
       "0 <= X_38 Integer\n",
       "0 <= X_39 Integer\n",
       "0 <= X_41 Integer\n",
       "0 <= X_42 Integer\n",
       "0 <= X_43 Integer\n",
       "0 <= X_44 Integer\n",
       "0 <= X_45 Integer\n",
       "0 <= X_46 Integer\n",
       "0 <= X_47 Integer\n",
       "0 <= X_48 Integer\n",
       "0 <= X_49 Integer\n",
       "0 <= X_51 Integer\n",
       "0 <= X_52 Integer\n",
       "0 <= X_53 Integer\n",
       "0 <= X_54 Integer\n",
       "0 <= X_55 Integer\n",
       "0 <= X_56 Integer\n",
       "0 <= X_57 Integer\n",
       "0 <= X_58 Integer\n",
       "0 <= X_59 Integer\n",
       "0 <= X_61 Integer\n",
       "0 <= X_62 Integer\n",
       "0 <= X_63 Integer\n",
       "0 <= X_64 Integer\n",
       "0 <= X_65 Integer\n",
       "0 <= X_66 Integer\n",
       "0 <= X_67 Integer\n",
       "0 <= X_68 Integer\n",
       "0 <= X_69 Integer\n",
       "0 <= X_71 Integer\n",
       "0 <= X_72 Integer\n",
       "0 <= X_73 Integer\n",
       "0 <= X_74 Integer\n",
       "0 <= X_75 Integer\n",
       "0 <= X_76 Integer\n",
       "0 <= X_77 Integer\n",
       "0 <= X_78 Integer\n",
       "0 <= X_79 Integer\n",
       "0 <= X_81 Integer\n",
       "0 <= X_82 Integer\n",
       "0 <= X_83 Integer\n",
       "0 <= X_84 Integer\n",
       "0 <= X_85 Integer\n",
       "0 <= X_86 Integer\n",
       "0 <= X_87 Integer\n",
       "0 <= X_88 Integer\n",
       "0 <= X_89 Integer\n",
       "0 <= X_91 Integer\n",
       "0 <= X_92 Integer\n",
       "0 <= X_93 Integer\n",
       "0 <= X_94 Integer\n",
       "0 <= X_95 Integer\n",
       "0 <= X_96 Integer\n",
       "0 <= X_97 Integer\n",
       "0 <= X_98 Integer\n",
       "0 <= X_99 Integer"
      ]
     },
     "execution_count": 21,
     "metadata": {},
     "output_type": "execute_result"
    }
   ],
   "source": [
    "bis"
   ]
  },
  {
   "cell_type": "markdown",
   "metadata": {},
   "source": [
    "<span style=\"font-size: 150%;color:black;background:#d9ead3\">Zapisuje problem"
   ]
  },
  {
   "cell_type": "code",
   "execution_count": 22,
   "metadata": {},
   "outputs": [
    {
     "data": {
      "text/plain": [
       "[X_11,\n",
       " X_12,\n",
       " X_13,\n",
       " X_14,\n",
       " X_15,\n",
       " X_16,\n",
       " X_17,\n",
       " X_18,\n",
       " X_19,\n",
       " X_21,\n",
       " X_22,\n",
       " X_23,\n",
       " X_24,\n",
       " X_25,\n",
       " X_26,\n",
       " X_27,\n",
       " X_28,\n",
       " X_29,\n",
       " X_31,\n",
       " X_32,\n",
       " X_33,\n",
       " X_34,\n",
       " X_35,\n",
       " X_36,\n",
       " X_37,\n",
       " X_38,\n",
       " X_39,\n",
       " X_41,\n",
       " X_42,\n",
       " X_43,\n",
       " X_44,\n",
       " X_45,\n",
       " X_46,\n",
       " X_47,\n",
       " X_48,\n",
       " X_49,\n",
       " X_51,\n",
       " X_52,\n",
       " X_53,\n",
       " X_54,\n",
       " X_55,\n",
       " X_56,\n",
       " X_57,\n",
       " X_58,\n",
       " X_59,\n",
       " X_61,\n",
       " X_62,\n",
       " X_63,\n",
       " X_64,\n",
       " X_65,\n",
       " X_66,\n",
       " X_67,\n",
       " X_68,\n",
       " X_69,\n",
       " X_71,\n",
       " X_72,\n",
       " X_73,\n",
       " X_74,\n",
       " X_75,\n",
       " X_76,\n",
       " X_77,\n",
       " X_78,\n",
       " X_79,\n",
       " X_81,\n",
       " X_82,\n",
       " X_83,\n",
       " X_84,\n",
       " X_85,\n",
       " X_86,\n",
       " X_87,\n",
       " X_88,\n",
       " X_89,\n",
       " X_91,\n",
       " X_92,\n",
       " X_93,\n",
       " X_94,\n",
       " X_95,\n",
       " X_96,\n",
       " X_97,\n",
       " X_98,\n",
       " X_99]"
      ]
     },
     "execution_count": 22,
     "metadata": {},
     "output_type": "execute_result"
    }
   ],
   "source": [
    "bis.writeLP(\"Supply_demand_prob.lp\")"
   ]
  },
  {
   "cell_type": "markdown",
   "metadata": {},
   "source": [
    "<span style=\"font-size: 150%;color:black;background:#d9ead3\">Solve Problem and check Status"
   ]
  },
  {
   "cell_type": "code",
   "execution_count": 23,
   "metadata": {},
   "outputs": [
    {
     "name": "stdout",
     "output_type": "stream",
     "text": [
      "Optimal\n"
     ]
    }
   ],
   "source": [
    "bis.solve()\n",
    "status =  LpStatus[bis.status]\n",
    "print(status)"
   ]
  },
  {
   "cell_type": "markdown",
   "metadata": {},
   "source": [
    "<span style=\"font-size: 150%;color:black;background:#d9ead3\">Obliczenie wartości funkcji celu i zmiennych decyzyjnych"
   ]
  },
  {
   "cell_type": "code",
   "execution_count": 24,
   "metadata": {},
   "outputs": [
    {
     "name": "stdout",
     "output_type": "stream",
     "text": [
      "Total Cost: 223000.0\n",
      "X_11 = 0.0\n",
      "X_12 = 0.0\n",
      "X_13 = 0.0\n",
      "X_14 = 0.0\n",
      "X_15 = 0.0\n",
      "X_16 = 0.0\n",
      "X_17 = 0.0\n",
      "X_18 = 0.0\n",
      "X_19 = 0.0\n",
      "X_21 = 0.0\n",
      "X_22 = 0.0\n",
      "X_23 = 0.0\n",
      "X_24 = 0.0\n",
      "X_25 = 10000.0\n",
      "X_26 = 0.0\n",
      "X_27 = 0.0\n",
      "X_28 = 0.0\n",
      "X_29 = 0.0\n",
      "X_31 = 1000.0\n",
      "X_32 = 0.0\n",
      "X_33 = 18000.0\n",
      "X_34 = 0.0\n",
      "X_35 = 0.0\n",
      "X_36 = 21000.0\n",
      "X_37 = 0.0\n",
      "X_38 = 0.0\n",
      "X_39 = 0.0\n",
      "X_41 = 30000.0\n",
      "X_42 = 0.0\n",
      "X_43 = 0.0\n",
      "X_44 = 0.0\n",
      "X_45 = 0.0\n",
      "X_46 = 0.0\n",
      "X_47 = 0.0\n",
      "X_48 = 0.0\n",
      "X_49 = 0.0\n",
      "X_51 = 0.0\n",
      "X_52 = 5000.0\n",
      "X_53 = 0.0\n",
      "X_54 = 30000.0\n",
      "X_55 = 0.0\n",
      "X_56 = 0.0\n",
      "X_57 = 11000.0\n",
      "X_58 = 0.0\n",
      "X_59 = 13000.0\n",
      "X_61 = 0.0\n",
      "X_62 = 17000.0\n",
      "X_63 = 0.0\n",
      "X_64 = 0.0\n",
      "X_65 = 0.0\n",
      "X_66 = 0.0\n",
      "X_67 = 0.0\n",
      "X_68 = 0.0\n",
      "X_69 = 0.0\n",
      "X_71 = 0.0\n",
      "X_72 = 0.0\n",
      "X_73 = 0.0\n",
      "X_74 = 0.0\n",
      "X_75 = 0.0\n",
      "X_76 = 0.0\n",
      "X_77 = 0.0\n",
      "X_78 = 0.0\n",
      "X_79 = 0.0\n",
      "X_81 = 4000.0\n",
      "X_82 = 0.0\n",
      "X_83 = 0.0\n",
      "X_84 = 0.0\n",
      "X_85 = 0.0\n",
      "X_86 = 0.0\n",
      "X_87 = 0.0\n",
      "X_88 = 31000.0\n",
      "X_89 = 0.0\n",
      "X_91 = 0.0\n",
      "X_92 = 0.0\n",
      "X_93 = 0.0\n",
      "X_94 = 0.0\n",
      "X_95 = 22000.0\n",
      "X_96 = 0.0\n",
      "X_97 = 0.0\n",
      "X_98 = 0.0\n",
      "X_99 = 0.0\n"
     ]
    }
   ],
   "source": [
    "print(\"Total Cost:\", bis.objective.value())\n",
    "# Decision Variables\n",
    "\n",
    "for v in bis.variables():\n",
    "    try:\n",
    "        print(v.name,\"=\", v.value())\n",
    "    except:\n",
    "        print(\"error couldnt find value\")"
   ]
  },
  {
   "cell_type": "code",
   "execution_count": 30,
   "metadata": {},
   "outputs": [
    {
     "data": {
      "text/plain": [
       "<bound method LpProblem.variables of Supply-Demand-Proble_bis:\n",
       "MINIMIZE\n",
       "1*X_11 + 2*X_12 + 1*X_13 + 1*X_14 + 3*X_15 + 1*X_16 + 4*X_17 + 1*X_18 + 2*X_19 + 3*X_21 + 2*X_22 + 1*X_23 + 2*X_24 + 2*X_25 + 1*X_26 + 2*X_27 + 3*X_28 + 2*X_29 + 1*X_31 + 2*X_32 + 1*X_33 + 2*X_34 + 2*X_35 + 1*X_36 + 1*X_37 + 3*X_38 + 3*X_39 + 1*X_41 + 2*X_42 + 3*X_43 + 2*X_44 + 3*X_45 + 1*X_46 + 2*X_47 + 2*X_48 + 2*X_49 + 3*X_51 + 1*X_52 + 4*X_53 + 1*X_54 + 3*X_55 + 2*X_56 + 1*X_57 + 3*X_58 + 1*X_59 + 4*X_61 + 1*X_62 + 4*X_63 + 2*X_64 + 4*X_65 + 3*X_66 + 3*X_67 + 4*X_68 + 4*X_69 + 3*X_71 + 2*X_72 + 3*X_73 + 2*X_74 + 3*X_75 + 2*X_76 + 1*X_77 + 3*X_78 + 1*X_79 + 1*X_81 + 2*X_82 + 1*X_83 + 1*X_84 + 4*X_85 + 1*X_86 + 2*X_87 + 1*X_88 + 1*X_89 + 2*X_91 + 1*X_92 + 4*X_93 + 1*X_94 + 1*X_95 + 3*X_96 + 3*X_97 + 2*X_98 + 3*X_99 + 0\n",
       "SUBJECT TO\n",
       "Supply_Constraints_0: X_11 + X_12 + X_13 + X_14 + X_15 + X_16 + X_17 + X_18\n",
       " + X_19 <= 60000\n",
       "\n",
       "Supply_Constraints_1: X_21 + X_22 + X_23 + X_24 + X_25 + X_26 + X_27 + X_28\n",
       " + X_29 <= 80000\n",
       "\n",
       "Supply_Constraints_2: X_31 + X_32 + X_33 + X_34 + X_35 + X_36 + X_37 + X_38\n",
       " + X_39 <= 40000\n",
       "\n",
       "Supply_Constraints_3: X_41 + X_42 + X_43 + X_44 + X_45 + X_46 + X_47 + X_48\n",
       " + X_49 <= 30000\n",
       "\n",
       "Supply_Constraints_4: X_51 + X_52 + X_53 + X_54 + X_55 + X_56 + X_57 + X_58\n",
       " + X_59 <= 62000\n",
       "\n",
       "Supply_Constraints_5: X_61 + X_62 + X_63 + X_64 + X_65 + X_66 + X_67 + X_68\n",
       " + X_69 <= 17000\n",
       "\n",
       "Supply_Constraints_6: X_71 + X_72 + X_73 + X_74 + X_75 + X_76 + X_77 + X_78\n",
       " + X_79 <= 26000\n",
       "\n",
       "Supply_Constraints_7: X_81 + X_82 + X_83 + X_84 + X_85 + X_86 + X_87 + X_88\n",
       " + X_89 <= 35000\n",
       "\n",
       "Supply_Constraints_8: X_91 + X_92 + X_93 + X_94 + X_95 + X_96 + X_97 + X_98\n",
       " + X_99 <= 22000\n",
       "\n",
       "Demand_Constraints_0: X_11 + X_21 + X_31 + X_41 + X_51 + X_61 + X_71 + X_81\n",
       " + X_91 >= 35000\n",
       "\n",
       "Demand_Constraints_1: X_12 + X_22 + X_32 + X_42 + X_52 + X_62 + X_72 + X_82\n",
       " + X_92 >= 22000\n",
       "\n",
       "Demand_Constraints_2: X_13 + X_23 + X_33 + X_43 + X_53 + X_63 + X_73 + X_83\n",
       " + X_93 >= 18000\n",
       "\n",
       "Demand_Constraints_3: X_14 + X_24 + X_34 + X_44 + X_54 + X_64 + X_74 + X_84\n",
       " + X_94 >= 30000\n",
       "\n",
       "Demand_Constraints_4: X_15 + X_25 + X_35 + X_45 + X_55 + X_65 + X_75 + X_85\n",
       " + X_95 >= 32000\n",
       "\n",
       "Demand_Constraints_5: X_16 + X_26 + X_36 + X_46 + X_56 + X_66 + X_76 + X_86\n",
       " + X_96 >= 21000\n",
       "\n",
       "Demand_Constraints_6: X_17 + X_27 + X_37 + X_47 + X_57 + X_67 + X_77 + X_87\n",
       " + X_97 >= 11000\n",
       "\n",
       "Demand_Constraints_7: X_18 + X_28 + X_38 + X_48 + X_58 + X_68 + X_78 + X_88\n",
       " + X_98 >= 31000\n",
       "\n",
       "Demand_Constraints_8: X_19 + X_29 + X_39 + X_49 + X_59 + X_69 + X_79 + X_89\n",
       " + X_99 >= 13000\n",
       "\n",
       "VARIABLES\n",
       "0 <= X_11 Integer\n",
       "0 <= X_12 Integer\n",
       "0 <= X_13 Integer\n",
       "0 <= X_14 Integer\n",
       "0 <= X_15 Integer\n",
       "0 <= X_16 Integer\n",
       "0 <= X_17 Integer\n",
       "0 <= X_18 Integer\n",
       "0 <= X_19 Integer\n",
       "0 <= X_21 Integer\n",
       "0 <= X_22 Integer\n",
       "0 <= X_23 Integer\n",
       "0 <= X_24 Integer\n",
       "0 <= X_25 Integer\n",
       "0 <= X_26 Integer\n",
       "0 <= X_27 Integer\n",
       "0 <= X_28 Integer\n",
       "0 <= X_29 Integer\n",
       "0 <= X_31 Integer\n",
       "0 <= X_32 Integer\n",
       "0 <= X_33 Integer\n",
       "0 <= X_34 Integer\n",
       "0 <= X_35 Integer\n",
       "0 <= X_36 Integer\n",
       "0 <= X_37 Integer\n",
       "0 <= X_38 Integer\n",
       "0 <= X_39 Integer\n",
       "0 <= X_41 Integer\n",
       "0 <= X_42 Integer\n",
       "0 <= X_43 Integer\n",
       "0 <= X_44 Integer\n",
       "0 <= X_45 Integer\n",
       "0 <= X_46 Integer\n",
       "0 <= X_47 Integer\n",
       "0 <= X_48 Integer\n",
       "0 <= X_49 Integer\n",
       "0 <= X_51 Integer\n",
       "0 <= X_52 Integer\n",
       "0 <= X_53 Integer\n",
       "0 <= X_54 Integer\n",
       "0 <= X_55 Integer\n",
       "0 <= X_56 Integer\n",
       "0 <= X_57 Integer\n",
       "0 <= X_58 Integer\n",
       "0 <= X_59 Integer\n",
       "0 <= X_61 Integer\n",
       "0 <= X_62 Integer\n",
       "0 <= X_63 Integer\n",
       "0 <= X_64 Integer\n",
       "0 <= X_65 Integer\n",
       "0 <= X_66 Integer\n",
       "0 <= X_67 Integer\n",
       "0 <= X_68 Integer\n",
       "0 <= X_69 Integer\n",
       "0 <= X_71 Integer\n",
       "0 <= X_72 Integer\n",
       "0 <= X_73 Integer\n",
       "0 <= X_74 Integer\n",
       "0 <= X_75 Integer\n",
       "0 <= X_76 Integer\n",
       "0 <= X_77 Integer\n",
       "0 <= X_78 Integer\n",
       "0 <= X_79 Integer\n",
       "0 <= X_81 Integer\n",
       "0 <= X_82 Integer\n",
       "0 <= X_83 Integer\n",
       "0 <= X_84 Integer\n",
       "0 <= X_85 Integer\n",
       "0 <= X_86 Integer\n",
       "0 <= X_87 Integer\n",
       "0 <= X_88 Integer\n",
       "0 <= X_89 Integer\n",
       "0 <= X_91 Integer\n",
       "0 <= X_92 Integer\n",
       "0 <= X_93 Integer\n",
       "0 <= X_94 Integer\n",
       "0 <= X_95 Integer\n",
       "0 <= X_96 Integer\n",
       "0 <= X_97 Integer\n",
       "0 <= X_98 Integer\n",
       "0 <= X_99 Integer\n",
       ">"
      ]
     },
     "execution_count": 30,
     "metadata": {},
     "output_type": "execute_result"
    }
   ],
   "source": [
    "bis.variables"
   ]
  },
  {
   "cell_type": "code",
   "execution_count": null,
   "metadata": {},
   "outputs": [],
   "source": [
    "cust_demands = np.array([35000, 22000, 18000, 30000,32000, 21000, 11000, 31000,13000])"
   ]
  },
  {
   "cell_type": "markdown",
   "metadata": {},
   "source": [
    "<span style=\"font-size: 150%;color:black;background:#d9ead3\"> Poziom wyjścia z hurtowni"
   ]
  },
  {
   "cell_type": "code",
   "execution_count": 25,
   "metadata": {},
   "outputs": [
    {
     "name": "stdout",
     "output_type": "stream",
     "text": [
      "Warehouse: 1\n",
      "0.0\n",
      "Warehouse: 2\n",
      "10000.0\n",
      "Warehouse: 3\n",
      "40000.0\n",
      "Warehouse: 4\n",
      "30000.0\n",
      "Warehouse: 5\n",
      "59000.0\n",
      "Warehouse: 6\n",
      "17000.0\n",
      "Warehouse: 7\n",
      "0.0\n",
      "Warehouse: 8\n",
      "35000.0\n",
      "Warehouse: 9\n",
      "22000.0\n"
     ]
    }
   ],
   "source": [
    "for i in range(n_warehouses):\n",
    "    print(\"Warehouse:\", str(i+1))\n",
    "    print(lpSum(allocation[i][j].value() for j in range(n_customers-1)))"
   ]
  },
  {
   "cell_type": "code",
   "execution_count": 26,
   "metadata": {},
   "outputs": [],
   "source": [
    "warehouse_supply = np.array([60000, 80000,40000, 30000, 62000, 17000,26000, 35000,22000])"
   ]
  },
  {
   "cell_type": "code",
   "execution_count": 27,
   "metadata": {},
   "outputs": [
    {
     "name": "stdout",
     "output_type": "stream",
     "text": [
      "Customers: 1\n",
      "0.0\n",
      "Customers: 2\n",
      "10000.0\n",
      "Customers: 3\n",
      "40000.0\n",
      "Customers: 4\n",
      "30000.0\n",
      "Customers: 5\n",
      "59000.0\n",
      "Customers: 6\n",
      "17000.0\n",
      "Customers: 7\n",
      "0.0\n",
      "Customers: 8\n",
      "35000.0\n",
      "Customers: 9\n",
      "22000.0\n"
     ]
    }
   ],
   "source": [
    "for i in range(n_customers-1):\n",
    "    print(\"Customers:\", str(i+1))\n",
    "    print(lpSum(allocation[i][j].value() for j in range(n_warehouses)))"
   ]
  },
  {
   "cell_type": "code",
   "execution_count": 28,
   "metadata": {},
   "outputs": [],
   "source": [
    "cust_demands = np.array([35000, 22000, 18000, 30000,32000, 21000, 11000, 31000,13000])"
   ]
  }
 ],
 "metadata": {
  "kernelspec": {
   "display_name": "Python 3",
   "language": "python",
   "name": "python3"
  },
  "language_info": {
   "codemirror_mode": {
    "name": "ipython",
    "version": 3
   },
   "file_extension": ".py",
   "mimetype": "text/x-python",
   "name": "python",
   "nbconvert_exporter": "python",
   "pygments_lexer": "ipython3",
   "version": "3.7.4"
  }
 },
 "nbformat": 4,
 "nbformat_minor": 2
}
