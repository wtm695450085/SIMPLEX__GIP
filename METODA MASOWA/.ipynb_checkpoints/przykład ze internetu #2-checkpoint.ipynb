{
 "cells": [
  {
   "cell_type": "markdown",
   "metadata": {},
   "source": [
    "<span style=\"font-size: 250%;color:white;background:green\"> przykład ze internetu #1\n",
    "\n",
    "\n",
    "https://benalexkeen.com/linear-programming-with-python-and-pulp-part-4/\n",
    "\n",
    "<span style=\"font-size: 250%;color:green;background:grey\">Blending Problem"
   ]
  },
  {
   "cell_type": "code",
   "execution_count": 4,
   "metadata": {},
   "outputs": [
    {
     "name": "stdout",
     "output_type": "stream",
     "text": [
      "MACIERZ OGRANICZEŃ I KOSZTÓW SUROWCÓW\n",
      "+-------------+----------------+-----------------+\n",
      "|   środki:   | Koszt (€ / kg) | Dostępność (kg) |\n",
      "+-------------+----------------+-----------------+\n",
      "| Wieprzowina |       1        |        2        |\n",
      "+-------------+----------------+-----------------+\n",
      "|  Przenica   |       2        |        2        |\n",
      "+-------------+----------------+-----------------+\n",
      "|   Skrobia   |       4        |        6        |\n",
      "+-------------+----------------+-----------------+\n"
     ]
    }
   ],
   "source": [
    "from beautifultable import BeautifulTable\n",
    "print(\"MACIERZ OGRANICZEŃ I KOSZTÓW SUROWCÓW\")\n",
    "table = BeautifulTable()\n",
    "table.column_headers = [\"środki:\", \"Koszt (€ / kg)\",\"Dostępność (kg)\"]\n",
    "table.append_row([\"Wieprzowina\", 1, 2 ])\n",
    "table.append_row([\"Przenica\", 2, 2 ])\n",
    "table.append_row([\"Skrobia\",4, 6 ])\n",
    "print(table)"
   ]
  },
  {
   "cell_type": "markdown",
   "metadata": {},
   "source": [
    "Zrobimy 2 rodzaje kiełbas:\n",
    "\n",
    "        Economy (> 40% wieprzowiny)\n",
    "        Premium (> 60% wieprzowiny)\n",
    "        \n",
    "<span style=\"font-size: 110%;color:white;background:gray\">Jedna kiełbasa to 50 gramów (0,05 kg)\n",
    "\n",
    "<span style=\"font-size: 110%;color:white;background:gray\">Zgodnie z przepisami rządowymi najwięcej skrobi, jaką możemy użyć w naszych kiełbasach, to 25%\n",
    "\n",
    "<span style=\"font-size: 110%;color:white;background:gray\">Mamy kontrakt z rzeźnikiem, a już zakupiliśmy 23 kg wieprzowiny, która musi trafić do naszych kiełbas.\n",
    "\n",
    "<span style=\"font-size: 110%;color:white;background:gray\">Mamy zapotrzebowanie na 350 kiełbas ekonomicznych i 500 sztuk premium.\n",
    "    \n",
    "    \n",
    "<span style=\"font-size: 140%;color:green;background:white\">CEL: MINIMALIZACJA KOSZTÓW PRODUKCJI "
   ]
  },
  {
   "cell_type": "markdown",
   "metadata": {},
   "source": [
    "    x11= Kiełbasa wieprzowa ekonomiczna (kg)\n",
    "    x21= Pszenica w kiełbasach ekonomicznych (kg)\n",
    "    smi= Skrobia w kiełbasach ekonomicznych (kg)\n",
    "    pp= Wieprzowina w kiełbasach premium (kg)\n",
    "    wp= Pszenica w kiełbasach premium (kg)\n",
    "    sp= Skrobia w kiełbasach premium (kg)"
   ]
  },
  {
   "cell_type": "code",
   "execution_count": null,
   "metadata": {},
   "outputs": [],
   "source": []
  },
  {
   "cell_type": "code",
   "execution_count": null,
   "metadata": {},
   "outputs": [],
   "source": []
  },
  {
   "cell_type": "code",
   "execution_count": null,
   "metadata": {},
   "outputs": [],
   "source": []
  },
  {
   "cell_type": "code",
   "execution_count": null,
   "metadata": {},
   "outputs": [],
   "source": []
  },
  {
   "cell_type": "code",
   "execution_count": null,
   "metadata": {},
   "outputs": [],
   "source": []
  },
  {
   "cell_type": "code",
   "execution_count": null,
   "metadata": {},
   "outputs": [],
   "source": []
  }
 ],
 "metadata": {
  "kernelspec": {
   "display_name": "Python 3",
   "language": "python",
   "name": "python3"
  },
  "language_info": {
   "codemirror_mode": {
    "name": "ipython",
    "version": 3
   },
   "file_extension": ".py",
   "mimetype": "text/x-python",
   "name": "python",
   "nbconvert_exporter": "python",
   "pygments_lexer": "ipython3",
   "version": "3.7.4"
  }
 },
 "nbformat": 4,
 "nbformat_minor": 2
}
