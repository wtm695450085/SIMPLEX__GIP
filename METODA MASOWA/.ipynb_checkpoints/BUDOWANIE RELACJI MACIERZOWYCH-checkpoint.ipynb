{
 "cells": [
  {
   "cell_type": "markdown",
   "metadata": {},
   "source": [
    "<span style=\"font-size: 350%;color:#073763;background:#cfe2f3\">BUDOWANIE RELACJI MACIERZOWYCH\n",
    "    \n",
    "Tworzenie algorytmów SIMPEX jest super. Nie ma sensu wychodzić na rynek jeżeli nie jest się w stanie rozwiązywać zadań z np. 70 cusomers i 50 warehause. \n",
    "Możena to zrobić w sposób tradycyjny lecz napisanie takich warunków do PuLP zajmie resztę mojego życia.\n",
    "Żeby to robić trzeba nauczyć się pisać warunki przez równania macierzowe. \n",
    "Ten arkusz jest po to aby wypisać wszystkie możliwe równania i nierówności w formie dziełań na macierzach.\n",
    "Jak wyjdę na rynek będę miał gotową kolekcję ściąg. Jak się realnie pracuje nie ma czasu na badania naukowe \n"
   ]
  },
  {
   "cell_type": "code",
   "execution_count": 1,
   "metadata": {},
   "outputs": [],
   "source": [
    "import pulp\n",
    "from pulp import *\n",
    "import pandas as pd\n",
    "import numpy as np"
   ]
  },
  {
   "cell_type": "markdown",
   "metadata": {},
   "source": [
    "### Definicja danych\n",
    "\n",
    "Zdefiniujmy dane i przypiszmy je do zmiennych, które można następnie wykorzystać do wprowadzenia do modelu, funkcji celu i ograniczeń."
   ]
  },
  {
   "cell_type": "code",
   "execution_count": 2,
   "metadata": {},
   "outputs": [
    {
     "data": {
      "text/plain": [
       "array([[25. , 15. , 16. , 20. ],\n",
       "       [30. , 10. , 24. , 25. ],\n",
       "       [24. , 18. , 25. , 27.5]])"
      ]
     },
     "execution_count": 2,
     "metadata": {},
     "output_type": "execute_result"
    }
   ],
   "source": [
    "n_warehouses = 3\n",
    "n_customers = 4\n",
    "cost_efect = np.array([[25,15,16,20],[30,10,24,25],[24,18,25,27.5]])\n",
    "\n",
    "cost_efect"
   ]
  },
  {
   "cell_type": "code",
   "execution_count": 4,
   "metadata": {},
   "outputs": [],
   "source": [
    "cust_demands = np.array([220, 90, 146, 220])"
   ]
  },
  {
   "cell_type": "code",
   "execution_count": 5,
   "metadata": {},
   "outputs": [
    {
     "data": {
      "text/plain": [
       "array([[190],\n",
       "       [130],\n",
       "       [280]])"
      ]
     },
     "execution_count": 5,
     "metadata": {},
     "output_type": "execute_result"
    }
   ],
   "source": [
    "cost_array = np.array([190, 130, 280]).reshape((3, 1)) # zmiana krztałtu wektora pod funkcję celu\n",
    "cost_array"
   ]
  },
  {
   "cell_type": "code",
   "execution_count": 6,
   "metadata": {},
   "outputs": [],
   "source": [
    "warehouse_supply = np.array([10, 8, 15])"
   ]
  },
  {
   "cell_type": "markdown",
   "metadata": {},
   "source": [
    "<span style=\"font-size: 150%;color:black;background:#d9ead3\">Inicjacja modelu\n",
    "    \n",
    "    Tworzę końcówki nazw zmiennych w macierzy zmiennych decyzyjnych"
   ]
  },
  {
   "cell_type": "code",
   "execution_count": 7,
   "metadata": {},
   "outputs": [],
   "source": [
    "model = LpProblem(\"Zadanie_88_STR_142\", LpMinimize)"
   ]
  },
  {
   "cell_type": "markdown",
   "metadata": {},
   "source": [
    "<span style=\"font-size: 150%;color:black;background:#d9ead3\">Definiuje nazwy zmiennych (do macierzy)"
   ]
  },
  {
   "cell_type": "code",
   "execution_count": 20,
   "metadata": {},
   "outputs": [
    {
     "data": {
      "text/plain": [
       "['11', '12', '13', '14', '21', '22', '23', '24', '31', '32', '33', '34']"
      ]
     },
     "execution_count": 20,
     "metadata": {},
     "output_type": "execute_result"
    }
   ],
   "source": [
    "variable_names = [str(i)+str(j) for j in range(1, n_customers+1) for i in range(1,n_warehouses+1)]\n",
    "variable_names.sort()\n",
    "variable_names"
   ]
  },
  {
   "cell_type": "markdown",
   "metadata": {},
   "source": [
    "<span style=\"font-size: 150%;color:black;background:#d9ead3\">Zmienne decyzyjne\n",
    "    \n",
    "    Tworzę zmienne decyzyjne"
   ]
  },
  {
   "cell_type": "code",
   "execution_count": 21,
   "metadata": {},
   "outputs": [
    {
     "data": {
      "text/plain": [
       "[X_11, X_12, X_13, X_14, X_21, X_22, X_23, X_24, X_31, X_32, X_33, X_34]"
      ]
     },
     "execution_count": 21,
     "metadata": {},
     "output_type": "execute_result"
    }
   ],
   "source": [
    "DV_variables = LpVariable.matrix(\"X\", variable_names , cat = \"Integer\" , lowBound= 0 )\n",
    "DV_variables"
   ]
  },
  {
   "cell_type": "markdown",
   "metadata": {},
   "source": [
    "    Tworzę te zmienne decyzyjne w formacie macierzy"
   ]
  },
  {
   "cell_type": "markdown",
   "metadata": {},
   "source": [
    "<span style=\"font-size: 150%;color:black;background:#ffd966\">MACIERZE DO MODELU"
   ]
  },
  {
   "cell_type": "code",
   "execution_count": 2,
   "metadata": {},
   "outputs": [
    {
     "data": {
      "text/plain": [
       "array([[25. , 15. , 16. , 20. ],\n",
       "       [30. , 10. , 24. , 25. ],\n",
       "       [24. , 18. , 25. , 27.5]])"
      ]
     },
     "execution_count": 2,
     "metadata": {},
     "output_type": "execute_result"
    }
   ],
   "source": [
    "n_warehouses = 3\n",
    "n_customers = 4\n",
    "cost_efect = np.array([[25,15,16,20],[30,10,24,25],[24,18,25,27.5]])\n",
    "\n",
    "cost_efect"
   ]
  },
  {
   "cell_type": "code",
   "execution_count": 26,
   "metadata": {},
   "outputs": [],
   "source": [
    "cust_demands = np.array([220, 90, 146, 220])"
   ]
  },
  {
   "cell_type": "code",
   "execution_count": 41,
   "metadata": {},
   "outputs": [],
   "source": [
    "cost_array = np.array([190, 130, 280]) # zmiana krztałtu wektora pod funkcję celu\n",
    "cost_arrayT = cost_array.reshape(3, 1)"
   ]
  },
  {
   "cell_type": "code",
   "execution_count": 28,
   "metadata": {},
   "outputs": [],
   "source": [
    "warehouse_supply = np.array([10, 8, 15])"
   ]
  },
  {
   "cell_type": "code",
   "execution_count": 29,
   "metadata": {
    "scrolled": true
   },
   "outputs": [
    {
     "data": {
      "text/plain": [
       "array([[X_11, X_12, X_13, X_14],\n",
       "       [X_21, X_22, X_23, X_24],\n",
       "       [X_31, X_32, X_33, X_34]], dtype=object)"
      ]
     },
     "execution_count": 29,
     "metadata": {},
     "output_type": "execute_result"
    }
   ],
   "source": [
    "allocation = np.array(DV_variables).reshape(n_warehouses,n_customers)\n",
    "allocation"
   ]
  },
  {
   "cell_type": "markdown",
   "metadata": {},
   "source": [
    "<span style=\"font-size: 150%;color:black;background:#ffd966\">FUNKCJA CELU 1\n",
    "    \n",
    "        \n",
    "    Mnożenie przez wiersze\n",
    "$\n",
    "F(x_{i,j})=190*({x_{11}+x_{12}+x_{13}+x_{14}})+130*({x_{21}+x_{22}+x_{23}+x_{24}})+280*({x_{31}+x_{32}+x_{33}+x_{34}})  \\to  min \n",
    "$    "
   ]
  },
  {
   "cell_type": "code",
   "execution_count": 85,
   "metadata": {},
   "outputs": [
    {
     "data": {
      "text/plain": [
       "190*X_11 + 190*X_12 + 190*X_13 + 190*X_14 + 130*X_21 + 130*X_22 + 130*X_23 + 130*X_24 + 280*X_31 + 280*X_32 + 280*X_33 + 280*X_34 + 0"
      ]
     },
     "execution_count": 85,
     "metadata": {},
     "output_type": "execute_result"
    }
   ],
   "source": [
    "obj_func = lpSum(allocationT*cost_array)\n",
    "obj_func"
   ]
  },
  {
   "cell_type": "markdown",
   "metadata": {},
   "source": [
    "<span style=\"font-size: 110%;color:black;background:#fff2cc\"> ZASADA: ilość wierszy = ilość wierszy"
   ]
  },
  {
   "cell_type": "code",
   "execution_count": 99,
   "metadata": {},
   "outputs": [
    {
     "name": "stdout",
     "output_type": "stream",
     "text": [
      "allocationT: (4, 3)\n",
      "cost_array: (3,)\n"
     ]
    }
   ],
   "source": [
    "print(\"allocationT:\",allocationT.shape)\n",
    "print(\"cost_array:\",cost_array.shape)"
   ]
  },
  {
   "cell_type": "markdown",
   "metadata": {},
   "source": [
    "<span style=\"font-size: 150%;color:black;background:#ffd966\">FUNKCJA CELU 2\n",
    "    \n",
    "    Mnożenie przez kolumny\n",
    "    \n",
    "$\n",
    "F(i,j) ={220(x_{11}+x_{21}+x_{31}})+90({x_{12}+x_{22}+x_{32}})+146({x_{13}+x_{23}+x_{33}})+220({x_{13}+x_{23}+x_{33}})  \\to  max \n",
    "$"
   ]
  },
  {
   "cell_type": "code",
   "execution_count": 94,
   "metadata": {},
   "outputs": [
    {
     "name": "stdout",
     "output_type": "stream",
     "text": [
      "(4, 1)\n"
     ]
    },
    {
     "data": {
      "text/plain": [
       "array([[220],\n",
       "       [ 90],\n",
       "       [146],\n",
       "       [220]])"
      ]
     },
     "execution_count": 94,
     "metadata": {},
     "output_type": "execute_result"
    }
   ],
   "source": [
    "print(cust_demands.reshape(4,1).shape)\n",
    "cust_demands.reshape(4,1)"
   ]
  },
  {
   "cell_type": "code",
   "execution_count": 92,
   "metadata": {},
   "outputs": [
    {
     "name": "stdout",
     "output_type": "stream",
     "text": [
      "allocationT: (4, 3)\n"
     ]
    },
    {
     "data": {
      "text/plain": [
       "array([[X_11, X_21, X_31],\n",
       "       [X_12, X_22, X_32],\n",
       "       [X_13, X_23, X_33],\n",
       "       [X_14, X_24, X_34]], dtype=object)"
      ]
     },
     "execution_count": 92,
     "metadata": {},
     "output_type": "execute_result"
    }
   ],
   "source": [
    "allocationT =allocation.transpose() \n",
    "print(\"allocationT:\",allocationT.shape)\n",
    "allocationT"
   ]
  },
  {
   "cell_type": "markdown",
   "metadata": {},
   "source": [
    "<span style=\"font-size: 110%;color:black;background:#fff2cc\"> ZASADA: jaka zasada?"
   ]
  },
  {
   "cell_type": "code",
   "execution_count": 101,
   "metadata": {},
   "outputs": [
    {
     "name": "stdout",
     "output_type": "stream",
     "text": [
      "allocationT: (4, 3)\n",
      "cust_demands.reshape(4,1): (4, 1)\n"
     ]
    }
   ],
   "source": [
    "print(\"allocationT:\",allocationT.shape)\n",
    "print(\"cust_demands.reshape(4,1):\",cust_demands.reshape(4,1).shape)"
   ]
  },
  {
   "cell_type": "code",
   "execution_count": 102,
   "metadata": {},
   "outputs": [
    {
     "data": {
      "text/plain": [
       "array([[220*X_11 + 0, 220*X_21 + 0, 220*X_31 + 0],\n",
       "       [90*X_12 + 0, 90*X_22 + 0, 90*X_32 + 0],\n",
       "       [146*X_13 + 0, 146*X_23 + 0, 146*X_33 + 0],\n",
       "       [220*X_14 + 0, 220*X_24 + 0, 220*X_34 + 0]], dtype=object)"
      ]
     },
     "execution_count": 102,
     "metadata": {},
     "output_type": "execute_result"
    }
   ],
   "source": [
    "allocationT*cust_demands.reshape(4,1)"
   ]
  },
  {
   "cell_type": "code",
   "execution_count": 90,
   "metadata": {},
   "outputs": [
    {
     "data": {
      "text/plain": [
       "220*X_11 + 90*X_12 + 146*X_13 + 220*X_14 + 220*X_21 + 90*X_22 + 146*X_23 + 220*X_24 + 220*X_31 + 90*X_32 + 146*X_33 + 220*X_34 + 0"
      ]
     },
     "execution_count": 90,
     "metadata": {},
     "output_type": "execute_result"
    }
   ],
   "source": [
    "obj_func = lpSum(allocationT*cust_demands.reshape(4,1))\n",
    "obj_func"
   ]
  },
  {
   "cell_type": "markdown",
   "metadata": {},
   "source": [
    "<span style=\"font-size: 150%;color:black;background:#ffd966\">FUNKCJA CELU 3\n",
    "    \n",
    "    Mnożenie przez kolumny\n",
    "    \n",
    "$\n",
    "F(i,j) ={220(25x_{11}+30x_{21}+24x_{31}})+90(15{x_{12}+10x_{22}+18x_{32}})+146(16{x_{13}+24x_{23}+25x_{33}})+220({20x_{13}+25x_{23}+27.5x_{33}})  \\to  max \n",
    "$"
   ]
  },
  {
   "cell_type": "code",
   "execution_count": 103,
   "metadata": {},
   "outputs": [
    {
     "data": {
      "text/plain": [
       "array([[25. , 15. , 16. , 20. ],\n",
       "       [30. , 10. , 24. , 25. ],\n",
       "       [24. , 18. , 25. , 27.5]])"
      ]
     },
     "execution_count": 103,
     "metadata": {},
     "output_type": "execute_result"
    }
   ],
   "source": [
    "cost_efect"
   ]
  },
  {
   "cell_type": "code",
   "execution_count": 104,
   "metadata": {},
   "outputs": [
    {
     "data": {
      "text/plain": [
       "array([220,  90, 146, 220])"
      ]
     },
     "execution_count": 104,
     "metadata": {},
     "output_type": "execute_result"
    }
   ],
   "source": [
    "cust_demands"
   ]
  },
  {
   "cell_type": "code",
   "execution_count": 108,
   "metadata": {},
   "outputs": [
    {
     "data": {
      "text/plain": [
       "array([[X_11, X_21, X_31],\n",
       "       [X_12, X_22, X_32],\n",
       "       [X_13, X_23, X_33],\n",
       "       [X_14, X_24, X_34]], dtype=object)"
      ]
     },
     "execution_count": 108,
     "metadata": {},
     "output_type": "execute_result"
    }
   ],
   "source": [
    "allocationT"
   ]
  },
  {
   "cell_type": "code",
   "execution_count": 109,
   "metadata": {},
   "outputs": [
    {
     "data": {
      "text/plain": [
       "array([[25. , 15. , 16. , 20. ],\n",
       "       [30. , 10. , 24. , 25. ],\n",
       "       [24. , 18. , 25. , 27.5]])"
      ]
     },
     "execution_count": 109,
     "metadata": {},
     "output_type": "execute_result"
    }
   ],
   "source": [
    "cost_efect"
   ]
  },
  {
   "cell_type": "code",
   "execution_count": 110,
   "metadata": {},
   "outputs": [],
   "source": [
    "cost_efectT = cost_efect.transpose()"
   ]
  },
  {
   "cell_type": "code",
   "execution_count": 111,
   "metadata": {},
   "outputs": [
    {
     "data": {
      "text/plain": [
       "array([[25. , 30. , 24. ],\n",
       "       [15. , 10. , 18. ],\n",
       "       [16. , 24. , 25. ],\n",
       "       [20. , 25. , 27.5]])"
      ]
     },
     "execution_count": 111,
     "metadata": {},
     "output_type": "execute_result"
    }
   ],
   "source": [
    "cost_efectT"
   ]
  },
  {
   "cell_type": "code",
   "execution_count": 112,
   "metadata": {},
   "outputs": [
    {
     "data": {
      "text/plain": [
       "array([[25.0*X_11 + 0.0, 30.0*X_21 + 0.0, 24.0*X_31 + 0.0],\n",
       "       [15.0*X_12 + 0.0, 10.0*X_22 + 0.0, 18.0*X_32 + 0.0],\n",
       "       [16.0*X_13 + 0.0, 24.0*X_23 + 0.0, 25.0*X_33 + 0.0],\n",
       "       [20.0*X_14 + 0.0, 25.0*X_24 + 0.0, 27.5*X_34 + 0.0]], dtype=object)"
      ]
     },
     "execution_count": 112,
     "metadata": {},
     "output_type": "execute_result"
    }
   ],
   "source": [
    "allocationT*cost_efectT"
   ]
  },
  {
   "cell_type": "code",
   "execution_count": 114,
   "metadata": {},
   "outputs": [
    {
     "data": {
      "text/plain": [
       "array([[5500.0*X_11 + 0.0, 6600.0*X_21 + 0.0, 5280.0*X_31 + 0.0],\n",
       "       [1350.0*X_12 + 0.0, 900.0*X_22 + 0.0, 1620.0*X_32 + 0.0],\n",
       "       [2336.0*X_13 + 0.0, 3504.0*X_23 + 0.0, 3650.0*X_33 + 0.0],\n",
       "       [4400.0*X_14 + 0.0, 5500.0*X_24 + 0.0, 6050.0*X_34 + 0.0]],\n",
       "      dtype=object)"
      ]
     },
     "execution_count": 114,
     "metadata": {},
     "output_type": "execute_result"
    }
   ],
   "source": [
    "(allocationT*cost_efectT)*cust_demands.reshape(4,1)"
   ]
  },
  {
   "cell_type": "code",
   "execution_count": 117,
   "metadata": {},
   "outputs": [
    {
     "name": "stdout",
     "output_type": "stream",
     "text": [
      "5500\n",
      "6600\n",
      "5280\n"
     ]
    }
   ],
   "source": [
    "print(220*25)\n",
    "print(220*30)\n",
    "print(220*24)"
   ]
  },
  {
   "cell_type": "code",
   "execution_count": 118,
   "metadata": {},
   "outputs": [
    {
     "name": "stdout",
     "output_type": "stream",
     "text": [
      "1350\n",
      "900\n",
      "1620\n"
     ]
    }
   ],
   "source": [
    "print(90*15)\n",
    "print(90*10)\n",
    "print(90*18)"
   ]
  },
  {
   "cell_type": "markdown",
   "metadata": {},
   "source": [
    "<span style=\"font-size: 110%;color:black;background:#fff2cc\"> ZASADA: jaka zasada?"
   ]
  },
  {
   "cell_type": "code",
   "execution_count": 119,
   "metadata": {},
   "outputs": [
    {
     "name": "stdout",
     "output_type": "stream",
     "text": [
      "allocationT: (4, 3)\n",
      "cust_demands.reshape(4,1): (4, 1)\n",
      "cost_efectT: (4, 3)\n"
     ]
    }
   ],
   "source": [
    "print(\"allocationT:\",allocationT.shape)\n",
    "print(\"cust_demands.reshape(4,1):\",cust_demands.reshape(4,1).shape)\n",
    "print(\"cost_efectT:\",cost_efectT.shape)"
   ]
  },
  {
   "cell_type": "code",
   "execution_count": null,
   "metadata": {},
   "outputs": [],
   "source": []
  },
  {
   "cell_type": "code",
   "execution_count": null,
   "metadata": {},
   "outputs": [],
   "source": []
  }
 ],
 "metadata": {
  "kernelspec": {
   "display_name": "Python 3",
   "language": "python",
   "name": "python3"
  },
  "language_info": {
   "codemirror_mode": {
    "name": "ipython",
    "version": 3
   },
   "file_extension": ".py",
   "mimetype": "text/x-python",
   "name": "python",
   "nbconvert_exporter": "python",
   "pygments_lexer": "ipython3",
   "version": "3.7.4"
  }
 },
 "nbformat": 4,
 "nbformat_minor": 2
}
