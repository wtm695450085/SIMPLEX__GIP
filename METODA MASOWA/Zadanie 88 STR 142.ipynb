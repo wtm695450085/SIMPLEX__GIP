{
 "cells": [
  {
   "cell_type": "markdown",
   "metadata": {},
   "source": [
    "# Zadanie 88 STR 142"
   ]
  },
  {
   "cell_type": "code",
   "execution_count": 1,
   "metadata": {},
   "outputs": [
    {
     "name": "stdout",
     "output_type": "stream",
     "text": [
      "+---------------+----------+---------+----------+--------+----------+----------+\n",
      "| Koparka typu: | wykop 1  | wykop 2 | wykop  3 | wykop  | ilość ko | koszt ko |\n",
      "|               |          |         |          |   4    |  parek   |  parki   |\n",
      "+---------------+----------+---------+----------+--------+----------+----------+\n",
      "|   Koparka A   | 25 m3/d  | 15 m3/d | 16 m3/d  | 20 m3/ | 10 sztuk |  190 zł  |\n",
      "|               |          |         |          |   d    |          |          |\n",
      "+---------------+----------+---------+----------+--------+----------+----------+\n",
      "|   Koparka B   | 30 m3/d  | 10 m3/d | 24 m3/d  | 25 m3/ | 8 sztuk  |  130 zł  |\n",
      "|               |          |         |          |   d    |          |          |\n",
      "+---------------+----------+---------+----------+--------+----------+----------+\n",
      "|   Koparka C   | 24 m3/d  | 18 m3/d | 25 m3/d  | 27,5 m | 15 sztuk |  280 zł  |\n",
      "|               |          |         |          |  3/d   |          |          |\n",
      "+---------------+----------+---------+----------+--------+----------+----------+\n",
      "| Minimalne zad | >=220 m3 | >=90 m3 | >=146 m3 | >=220  |          |          |\n",
      "|     anie      |          |         |          |   m3   |          |          |\n",
      "+---------------+----------+---------+----------+--------+----------+----------+\n"
     ]
    }
   ],
   "source": [
    "from beautifultable import BeautifulTable\n",
    "\n",
    "table = BeautifulTable()\n",
    "table.column_headers = [\"Koparka typu:\", \"wykop 1\",\"wykop 2\",\"wykop  3\", \"wykop 4\",\"ilość koparek\", \"koszt koparki\"]\n",
    "table.append_row([\"Koparka A\", \"25 m3/d\",    \"15 m3/d\",   \"16 m3/d\", \"20 m3/d\", \"10 sztuk\",\"190 zł\" ])\n",
    "table.append_row([\"Koparka B\", \"30 m3/d\",    \"10 m3/d\",   \"24 m3/d\", \"25 m3/d\", \"8 sztuk\", \"130 zł\" ])\n",
    "table.append_row([\"Koparka C\", \"24 m3/d\",    \"18 m3/d\",   \"25 m3/d\", \"27,5 m3/d\", \"15 sztuk\", \"280 zł\" ])\n",
    "table.append_row([\"Minimalne zadanie\",\">=220 m3\",\">=90 m3\",\">=146 m3\",\">=220 m3\",\"\",\"\"])\n",
    "print(table)"
   ]
  },
  {
   "cell_type": "markdown",
   "metadata": {},
   "source": [
    "<span style=\"font-size: 150%;color:#0000ff\">Krok 1: ZMIENNA DECYZYJNA Czym jest x? </span>\n",
    "\n",
    "Ilość koparek  - dlaczego? bo jest to zmienna decyzyjna, nie można sterować wydajnością koparek. Ilość koparek jest punktem wyjścia do obliczenia ilości m3 oraz kosztów używania koparek \n",
    "\n",
    "\n",
    "<span style=\"font-size: 150%;color:#0000ff\"> Krok 2: Co jest w tabeli?</span>\n",
    "\n",
    "wydajność koparek na poszczególnych wykopach\n",
    "\n",
    "<span style=\"font-size: 150%;color:#0000ff\"> Krok 3: ograniczenie zmiennych decyzyjnych</span>\n",
    "\n",
    "zmiennymi decyzyjnymi jest tutaj ilość koparek na różnych wykopach. Powiedzmy że chodzi o jeden dzień pracy wszystkich koparek.\n",
    "\n",
    "#### $\n",
    "\\left\\{\n",
    "\\begin{align} \n",
    "{x_{11}+x_{12}+x_{13}+x_{14}} & = 10 & (1)\\\\\n",
    "{x_{21}+x_{22}+x_{23}+x_{24}} & = 8 & (2)\\\\\n",
    "{x_{31}+x_{32}+x_{33}+x_{34}} & = 15 & (3)\\\\\n",
    "\\end{align}\n",
    "\\right. \n",
    "$\n",
    "\n",
    "<span style=\"font-size: 150%;color:#0000ff\"> Krok 4: ograniczenie pośrednie - nie związane bezpośrednio ze zmiennymi decyzyjnymi jaką jest tutaj ilość koparek, to będzie: ilość metrów wykopanych na poszczególnych wykopach</span>\n",
    "\n",
    "#### $\n",
    "\\left\\{\n",
    "\\begin{align} \n",
    "{25x_{11}+30x_{21}+24x_{31}} & \\geqslant 220 & (1)\\\\\n",
    "{15x_{12}+10x_{22}+18x_{32}} & \\geqslant 90 & (2)\\\\\n",
    "{16x_{13}+24x_{23}+25x_{33}} & \\geqslant 146 & (3)\\\\\n",
    "{20x_{14}+25x_{24}+27.5x_{34}} & \\geqslant 220 & (3)\\\\\n",
    "\\end{align}\n",
    "\\right. \n",
    "$\n",
    "\n",
    "\n",
    "<span style=\"font-size: 150%;color:#0000ff\"> Krok 5: jaka jest funkcja celu?</span>\n",
    "\n",
    "przydzielić koparki tak aby zminimalizować koszty.\n",
    "\n",
    "$\\bbox[5px,border:1px solid red]\n",
    "{\n",
    "\\\\\n",
    "F(x_{i,j})=190*({x_{11}+x_{12}+x_{13}+x_{14}})+130*({x_{21}+x_{22}+x_{23}+x_{24}})+280*({x_{31}+x_{32}+x_{33}+x_{34}})  \\to  min \n",
    "\\qquad \n",
    "} $"
   ]
  },
  {
   "cell_type": "code",
   "execution_count": 2,
   "metadata": {},
   "outputs": [],
   "source": [
    "import pulp\n",
    "from pulp import *\n",
    "import pandas as pd\n",
    "import numpy as np"
   ]
  },
  {
   "cell_type": "markdown",
   "metadata": {},
   "source": [
    "### Definicja danych\n",
    "\n",
    "Zdefiniujmy dane i przypiszmy je do zmiennych, które można następnie wykorzystać do wprowadzenia do modelu, funkcji celu i ograniczeń."
   ]
  },
  {
   "cell_type": "code",
   "execution_count": 3,
   "metadata": {},
   "outputs": [
    {
     "data": {
      "text/plain": [
       "array([[25. , 15. , 16. , 20. ],\n",
       "       [30. , 10. , 24. , 25. ],\n",
       "       [24. , 18. , 25. , 27.5]])"
      ]
     },
     "execution_count": 3,
     "metadata": {},
     "output_type": "execute_result"
    }
   ],
   "source": [
    "n_warehouses = 3\n",
    "n_customers = 4\n",
    "cost_efect = np.array([[25,15,16,20],[30,10,24,25],[24,18,25,27.5]])\n",
    "\n",
    "cost_efect"
   ]
  },
  {
   "cell_type": "code",
   "execution_count": 4,
   "metadata": {},
   "outputs": [
    {
     "data": {
      "text/plain": [
       "array([[25., 15., 16., 20.]])"
      ]
     },
     "execution_count": 4,
     "metadata": {},
     "output_type": "execute_result"
    }
   ],
   "source": [
    "cost_efect [:1]"
   ]
  },
  {
   "cell_type": "code",
   "execution_count": 5,
   "metadata": {},
   "outputs": [],
   "source": [
    "cust_demands = np.array([220, 90, 146, 220])"
   ]
  },
  {
   "cell_type": "code",
   "execution_count": 6,
   "metadata": {},
   "outputs": [
    {
     "data": {
      "text/plain": [
       "array([[190],\n",
       "       [130],\n",
       "       [280]])"
      ]
     },
     "execution_count": 6,
     "metadata": {},
     "output_type": "execute_result"
    }
   ],
   "source": [
    "cost_array = np.array([190, 130, 280]).reshape((3, 1)) # zmiana krztałtu wektora pod funkcję celu\n",
    "cost_array"
   ]
  },
  {
   "cell_type": "code",
   "execution_count": 7,
   "metadata": {},
   "outputs": [],
   "source": [
    "warehouse_supply = np.array([10, 8, 15])"
   ]
  },
  {
   "cell_type": "markdown",
   "metadata": {},
   "source": [
    "<span style=\"font-size: 150%;color:black;background:#d9ead3\">Inicjacja modelu\n",
    "    \n",
    "    Tworzę końcówki nazw zmiennych w macierzy zmiennych decyzyjnych"
   ]
  },
  {
   "cell_type": "code",
   "execution_count": 8,
   "metadata": {},
   "outputs": [],
   "source": [
    "model = LpProblem(\"Zadanie_88_STR_142\", LpMinimize)"
   ]
  },
  {
   "cell_type": "markdown",
   "metadata": {},
   "source": [
    "<span style=\"font-size: 150%;color:black;background:#d9ead3\">Definiuje nazwy zmiennych (do macierzy)"
   ]
  },
  {
   "cell_type": "code",
   "execution_count": 9,
   "metadata": {},
   "outputs": [
    {
     "data": {
      "text/plain": [
       "['11', '12', '13', '14', '21', '22', '23', '24', '31', '32', '33', '34']"
      ]
     },
     "execution_count": 9,
     "metadata": {},
     "output_type": "execute_result"
    }
   ],
   "source": [
    "variable_names = [str(i)+str(j) for j in range(1, n_customers+1) for i in range(1,n_warehouses+1)]\n",
    "variable_names.sort()\n",
    "variable_names"
   ]
  },
  {
   "cell_type": "markdown",
   "metadata": {},
   "source": [
    "<span style=\"font-size: 150%;color:black;background:#d9ead3\">Zmienne decyzyjne\n",
    "    \n",
    "    Tworzę zmienne decyzyjne"
   ]
  },
  {
   "cell_type": "code",
   "execution_count": 10,
   "metadata": {},
   "outputs": [
    {
     "data": {
      "text/plain": [
       "[X_11, X_12, X_13, X_14, X_21, X_22, X_23, X_24, X_31, X_32, X_33, X_34]"
      ]
     },
     "execution_count": 10,
     "metadata": {},
     "output_type": "execute_result"
    }
   ],
   "source": [
    "DV_variables = LpVariable.matrix(\"X\", variable_names , cat = \"Integer\" , lowBound= 0 )\n",
    "DV_variables"
   ]
  },
  {
   "cell_type": "markdown",
   "metadata": {},
   "source": [
    "    Tworzę te zmienne decyzyjne w formacie macierzy"
   ]
  },
  {
   "cell_type": "code",
   "execution_count": 11,
   "metadata": {},
   "outputs": [
    {
     "data": {
      "text/plain": [
       "array([[X_11, X_12, X_13, X_14],\n",
       "       [X_21, X_22, X_23, X_24],\n",
       "       [X_31, X_32, X_33, X_34]], dtype=object)"
      ]
     },
     "execution_count": 11,
     "metadata": {},
     "output_type": "execute_result"
    }
   ],
   "source": [
    "allocation = np.array(DV_variables).reshape(n_warehouses,n_customers)\n",
    "allocation"
   ]
  },
  {
   "cell_type": "markdown",
   "metadata": {},
   "source": [
    "<span style=\"font-size: 150%;color:black;background:#d9ead3\">Definiuję funkcję celu"
   ]
  },
  {
   "cell_type": "markdown",
   "metadata": {},
   "source": [
    "$\n",
    "F(x_{i,j})=190*({x_{11}+x_{12}+x_{13}+x_{14}})+130*({x_{21}+x_{22}+x_{23}+x_{24}})+280*({x_{31}+x_{32}+x_{33}+x_{34}})  \\to  min \n",
    "$"
   ]
  },
  {
   "cell_type": "code",
   "execution_count": 12,
   "metadata": {},
   "outputs": [
    {
     "data": {
      "text/plain": [
       "190*X_11 + 190*X_12 + 190*X_13 + 190*X_14 + 130*X_21 + 130*X_22 + 130*X_23 + 130*X_24 + 280*X_31 + 280*X_32 + 280*X_33 + 280*X_34 + 0"
      ]
     },
     "execution_count": 12,
     "metadata": {},
     "output_type": "execute_result"
    }
   ],
   "source": [
    "obj_func = lpSum(allocation*cost_array)\n",
    "obj_func"
   ]
  },
  {
   "cell_type": "markdown",
   "metadata": {},
   "source": [
    "Dodaję funkcję celu do zadania"
   ]
  },
  {
   "cell_type": "code",
   "execution_count": 13,
   "metadata": {},
   "outputs": [],
   "source": [
    "model +=  obj_func"
   ]
  },
  {
   "cell_type": "code",
   "execution_count": 14,
   "metadata": {},
   "outputs": [
    {
     "data": {
      "text/plain": [
       "Zadanie_88_STR_142:\n",
       "MINIMIZE\n",
       "190*X_11 + 190*X_12 + 190*X_13 + 190*X_14 + 130*X_21 + 130*X_22 + 130*X_23 + 130*X_24 + 280*X_31 + 280*X_32 + 280*X_33 + 280*X_34 + 0\n",
       "VARIABLES\n",
       "0 <= X_11 Integer\n",
       "0 <= X_12 Integer\n",
       "0 <= X_13 Integer\n",
       "0 <= X_14 Integer\n",
       "0 <= X_21 Integer\n",
       "0 <= X_22 Integer\n",
       "0 <= X_23 Integer\n",
       "0 <= X_24 Integer\n",
       "0 <= X_31 Integer\n",
       "0 <= X_32 Integer\n",
       "0 <= X_33 Integer\n",
       "0 <= X_34 Integer"
      ]
     },
     "execution_count": 14,
     "metadata": {},
     "output_type": "execute_result"
    }
   ],
   "source": [
    "model"
   ]
  },
  {
   "cell_type": "markdown",
   "metadata": {},
   "source": [
    "<span style=\"font-size: 150%;color:black;background:#d9ead3\">Warunki ograniczające\n",
    "    \n",
    "    Ograniczenia hurtowni\n",
    "    \n",
    "#### $\n",
    "\\left\\{\n",
    "\\begin{align} \n",
    "{x_{11}+x_{12}+x_{13}+x_{14}} & = 10 & (1)\\\\\n",
    "{x_{21}+x_{22}+x_{23}+x_{24}} & = 8 & (2)\\\\\n",
    "{x_{31}+x_{32}+x_{33}+x_{34}} & = 15 & (3)\\\\\n",
    "\\end{align}\n",
    "\\right. \n",
    "$\n"
   ]
  },
  {
   "cell_type": "code",
   "execution_count": 15,
   "metadata": {},
   "outputs": [
    {
     "name": "stdout",
     "output_type": "stream",
     "text": [
      "X_11 + X_12 + X_13 + X_14 <= 10\n",
      "X_21 + X_22 + X_23 + X_24 <= 8\n",
      "X_31 + X_32 + X_33 + X_34 <= 15\n"
     ]
    }
   ],
   "source": [
    "# Dodaję ograniczenia do zadania w pętli\n",
    "# Warehouse Constraints\n",
    "for i in range(n_warehouses):\n",
    "    print(lpSum(allocation[i][j] for j in range(n_customers)) <= warehouse_supply[i])\n",
    "    model += lpSum(allocation[i][j] for j in range(n_customers)) <= warehouse_supply[i] , \"Supply Constraints \" + str(i)"
   ]
  },
  {
   "cell_type": "markdown",
   "metadata": {},
   "source": [
    "    Ograniczenia odbiorców\n",
    "\n",
    "#### $\n",
    "\\left\\{\n",
    "\\begin{align} \n",
    "{25x_{11}+30x_{21}+24x_{31}} & \\geqslant 220 & (1)\\\\\n",
    "{15x_{12}+10x_{22}+18x_{32}} & \\geqslant 90 & (2)\\\\\n",
    "{16x_{13}+24x_{23}+25x_{33}} & \\geqslant 146 & (3)\\\\\n",
    "{20x_{14}+25x_{24}+27.5x_{34}} & \\geqslant 220 & (3)\\\\\n",
    "\\end{align}\n",
    "\\right. \n",
    "$"
   ]
  },
  {
   "cell_type": "markdown",
   "metadata": {},
   "source": [
    "<span style=\"font-size: 150%;color:black;background:#d9ead3\"> Ustawiam ograniczenia pośrednie\n",
    "    \n",
    " #### $\n",
    "\\left\\{\n",
    "\\begin{align} \n",
    "{25x_{11}+30x_{21}+24x_{31}} & \\geqslant 220 & (1)\\\\\n",
    "{15x_{12}+10x_{22}+18x_{32}} & \\geqslant 90 & (2)\\\\\n",
    "{16x_{13}+24x_{23}+25x_{33}} & \\geqslant 146 & (3)\\\\\n",
    "{20x_{14}+25x_{24}+27.5x_{34}} & \\geqslant 220 & (3)\\\\\n",
    "\\end{align}\n",
    "\\right. \n",
    "$   \n",
    "    "
   ]
  },
  {
   "cell_type": "markdown",
   "metadata": {},
   "source": [
    "<span style=\"font-size: 110%;color:black;background:#d9ead3\">Transpozycja macierzy wyników pod ograniczenia odbiorców (po kolumnach)"
   ]
  },
  {
   "cell_type": "code",
   "execution_count": 16,
   "metadata": {},
   "outputs": [
    {
     "data": {
      "text/plain": [
       "array([[X_11, X_21, X_31],\n",
       "       [X_12, X_22, X_32],\n",
       "       [X_13, X_23, X_33],\n",
       "       [X_14, X_24, X_34]], dtype=object)"
      ]
     },
     "execution_count": 16,
     "metadata": {},
     "output_type": "execute_result"
    }
   ],
   "source": [
    "allocationT =allocation.transpose() \n",
    "allocationT\n"
   ]
  },
  {
   "cell_type": "code",
   "execution_count": 17,
   "metadata": {},
   "outputs": [
    {
     "data": {
      "text/plain": [
       "array([[25. , 30. , 24. ],\n",
       "       [15. , 10. , 18. ],\n",
       "       [16. , 24. , 25. ],\n",
       "       [20. , 25. , 27.5]])"
      ]
     },
     "execution_count": 17,
     "metadata": {},
     "output_type": "execute_result"
    }
   ],
   "source": [
    "cost_efectT=cost_efect.transpose() \n",
    "cost_efectT"
   ]
  },
  {
   "cell_type": "markdown",
   "metadata": {},
   "source": [
    "<span style=\"font-size: 110%;color:black;background:#d9ead3\">Mnożenie macierzy wg odbiorców (po kolumnach)"
   ]
  },
  {
   "cell_type": "code",
   "execution_count": 18,
   "metadata": {},
   "outputs": [
    {
     "data": {
      "text/plain": [
       "array([[25.0*X_11 + 0.0, 30.0*X_21 + 0.0, 24.0*X_31 + 0.0],\n",
       "       [15.0*X_12 + 0.0, 10.0*X_22 + 0.0, 18.0*X_32 + 0.0],\n",
       "       [16.0*X_13 + 0.0, 24.0*X_23 + 0.0, 25.0*X_33 + 0.0],\n",
       "       [20.0*X_14 + 0.0, 25.0*X_24 + 0.0, 27.5*X_34 + 0.0]], dtype=object)"
      ]
     },
     "execution_count": 18,
     "metadata": {},
     "output_type": "execute_result"
    }
   ],
   "source": [
    "KKOT = allocationT*cost_efectT\n",
    "KKOT"
   ]
  },
  {
   "cell_type": "code",
   "execution_count": 19,
   "metadata": {},
   "outputs": [
    {
     "name": "stdout",
     "output_type": "stream",
     "text": [
      "25.0*X_11 + 30.0*X_21 + 24.0*X_31 >= 220.0\n",
      "15.0*X_12 + 10.0*X_22 + 18.0*X_32 >= 90.0\n",
      "16.0*X_13 + 24.0*X_23 + 25.0*X_33 >= 146.0\n",
      "20.0*X_14 + 25.0*X_24 + 27.5*X_34 >= 220.0\n"
     ]
    }
   ],
   "source": [
    "for j in range(n_customers):\n",
    "    print(lpSum(KKOT[j]) >= cust_demands[j])\n",
    "    model += lpSum(KKOT[j]) >= cust_demands[j] , \"Demand Constraints \" + str(j)"
   ]
  },
  {
   "cell_type": "markdown",
   "metadata": {},
   "source": [
    "#### $\n",
    "\\left\\{\n",
    "\\begin{align} \n",
    "{25x_{11}+30x_{21}+24x_{31}} & \\geqslant 220 & (1)\\\\\n",
    "{15x_{12}+10x_{22}+18x_{32}} & \\geqslant 90 & (2)\\\\\n",
    "{16x_{13}+24x_{23}+25x_{33}} & \\geqslant 146 & (3)\\\\\n",
    "{20x_{14}+25x_{24}+27.5x_{34}} & \\geqslant 220 & (3)\\\\\n",
    "\\end{align}\n",
    "\\right. \n",
    "$"
   ]
  },
  {
   "cell_type": "code",
   "execution_count": 20,
   "metadata": {},
   "outputs": [
    {
     "data": {
      "text/plain": [
       "Zadanie_88_STR_142:\n",
       "MINIMIZE\n",
       "190*X_11 + 190*X_12 + 190*X_13 + 190*X_14 + 130*X_21 + 130*X_22 + 130*X_23 + 130*X_24 + 280*X_31 + 280*X_32 + 280*X_33 + 280*X_34 + 0\n",
       "SUBJECT TO\n",
       "Supply_Constraints_0: X_11 + X_12 + X_13 + X_14 <= 10\n",
       "\n",
       "Supply_Constraints_1: X_21 + X_22 + X_23 + X_24 <= 8\n",
       "\n",
       "Supply_Constraints_2: X_31 + X_32 + X_33 + X_34 <= 15\n",
       "\n",
       "Demand_Constraints_0: 25 X_11 + 30 X_21 + 24 X_31 >= 220\n",
       "\n",
       "Demand_Constraints_1: 15 X_12 + 10 X_22 + 18 X_32 >= 90\n",
       "\n",
       "Demand_Constraints_2: 16 X_13 + 24 X_23 + 25 X_33 >= 146\n",
       "\n",
       "Demand_Constraints_3: 20 X_14 + 25 X_24 + 27.5 X_34 >= 220\n",
       "\n",
       "VARIABLES\n",
       "0 <= X_11 Integer\n",
       "0 <= X_12 Integer\n",
       "0 <= X_13 Integer\n",
       "0 <= X_14 Integer\n",
       "0 <= X_21 Integer\n",
       "0 <= X_22 Integer\n",
       "0 <= X_23 Integer\n",
       "0 <= X_24 Integer\n",
       "0 <= X_31 Integer\n",
       "0 <= X_32 Integer\n",
       "0 <= X_33 Integer\n",
       "0 <= X_34 Integer"
      ]
     },
     "execution_count": 20,
     "metadata": {},
     "output_type": "execute_result"
    }
   ],
   "source": [
    "model"
   ]
  },
  {
   "cell_type": "markdown",
   "metadata": {},
   "source": [
    "<span style=\"font-size: 150%;color:black;background:#d9ead3\">Zapisuje problem"
   ]
  },
  {
   "cell_type": "code",
   "execution_count": 21,
   "metadata": {},
   "outputs": [
    {
     "data": {
      "text/plain": [
       "[X_11, X_12, X_13, X_14, X_21, X_22, X_23, X_24, X_31, X_32, X_33, X_34]"
      ]
     },
     "execution_count": 21,
     "metadata": {},
     "output_type": "execute_result"
    }
   ],
   "source": [
    "model.writeLP(\"Supply_demand_prob.lp\")"
   ]
  },
  {
   "cell_type": "markdown",
   "metadata": {},
   "source": [
    "<span style=\"font-size: 150%;color:black;background:#d9ead3\">Solve Problem and check Status"
   ]
  },
  {
   "cell_type": "code",
   "execution_count": 22,
   "metadata": {},
   "outputs": [
    {
     "name": "stdout",
     "output_type": "stream",
     "text": [
      "Optimal\n"
     ]
    }
   ],
   "source": [
    "model.solve()\n",
    "status =  LpStatus[model.status]\n",
    "print(status)"
   ]
  },
  {
   "cell_type": "markdown",
   "metadata": {},
   "source": [
    "<span style=\"font-size: 150%;color:black;background:#d9ead3\">Obliczenie wartości funkcji celu i zmiennych decyzyjnych"
   ]
  },
  {
   "cell_type": "code",
   "execution_count": 23,
   "metadata": {},
   "outputs": [
    {
     "name": "stdout",
     "output_type": "stream",
     "text": [
      "Total Cost: 5740.0\n"
     ]
    },
    {
     "data": {
      "text/plain": [
       "{X_11: 4.0,\n",
       " X_12: 6.0,\n",
       " X_13: 0.0,\n",
       " X_14: 0.0,\n",
       " X_21: 4.0,\n",
       " X_22: 0.0,\n",
       " X_23: 4.0,\n",
       " X_24: 0.0,\n",
       " X_31: 0.0,\n",
       " X_32: 0.0,\n",
       " X_33: 2.0,\n",
       " X_34: 8.0}"
      ]
     },
     "execution_count": 23,
     "metadata": {},
     "output_type": "execute_result"
    }
   ],
   "source": [
    "print(\"Total Cost:\", model.objective.value())\n",
    "# Decision Variables\n",
    "\n",
    "dicts = {}\n",
    "#keys = range(4)\n",
    "#values = [\"Hi\", \"I\", \"am\", \"John\"]\n",
    "for i in model.variables():\n",
    "    for x in (i.name,i.value()):\n",
    "        dicts[i] = x\n",
    "\n",
    "dicts     "
   ]
  },
  {
   "cell_type": "code",
   "execution_count": 24,
   "metadata": {},
   "outputs": [
    {
     "data": {
      "text/plain": [
       "array([[4., 6., 0., 0.],\n",
       "       [4., 0., 4., 0.],\n",
       "       [0., 0., 2., 8.]])"
      ]
     },
     "execution_count": 24,
     "metadata": {},
     "output_type": "execute_result"
    }
   ],
   "source": [
    "G = [*dicts.values()]       # Tworzę listę wartości słownika\n",
    "G = np.array(G).reshape(n_warehouses,n_customers)    # Tworzę macierz z tej listy\n",
    "G"
   ]
  },
  {
   "cell_type": "markdown",
   "metadata": {},
   "source": [
    "<span style=\"font-size: 150%;color:black;background:#d9ead3\"> Poziom wejść do odbiorców"
   ]
  },
  {
   "cell_type": "code",
   "execution_count": 25,
   "metadata": {},
   "outputs": [
    {
     "data": {
      "text/plain": [
       "array([220,  90, 146, 220])"
      ]
     },
     "execution_count": 25,
     "metadata": {},
     "output_type": "execute_result"
    }
   ],
   "source": [
    "cust_demands"
   ]
  },
  {
   "cell_type": "code",
   "execution_count": 26,
   "metadata": {},
   "outputs": [],
   "source": [
    "GT = G*cost_efect"
   ]
  },
  {
   "cell_type": "code",
   "execution_count": 27,
   "metadata": {},
   "outputs": [
    {
     "name": "stdout",
     "output_type": "stream",
     "text": [
      "Podsumowanie kolumn macierzy [220.  90. 146. 220.]\n"
     ]
    }
   ],
   "source": [
    "print('Podsumowanie kolumn macierzy',np.sum(GT, axis = 0))"
   ]
  },
  {
   "cell_type": "markdown",
   "metadata": {},
   "source": [
    "<span style=\"font-size: 150%;color:black;background:#d9ead3\"> Poziom wyjścia z hurtowni"
   ]
  },
  {
   "cell_type": "code",
   "execution_count": 28,
   "metadata": {},
   "outputs": [
    {
     "name": "stdout",
     "output_type": "stream",
     "text": [
      "Podsumowanie wierszy macierzy [10.  8. 10.]\n"
     ]
    }
   ],
   "source": [
    "print('Podsumowanie wierszy macierzy',np.sum(G, axis = 1))"
   ]
  },
  {
   "cell_type": "code",
   "execution_count": 29,
   "metadata": {},
   "outputs": [
    {
     "data": {
      "text/plain": [
       "array([10,  8, 15])"
      ]
     },
     "execution_count": 29,
     "metadata": {},
     "output_type": "execute_result"
    }
   ],
   "source": [
    "warehouse_supply"
   ]
  },
  {
   "cell_type": "markdown",
   "metadata": {},
   "source": [
    "<span style=\"font-size: 250%;color:#990000;background:#f4cccc\">Rozwinięcia  zadania 88 STR. 142 do 9 kolumn!"
   ]
  },
  {
   "cell_type": "markdown",
   "metadata": {},
   "source": [
    "<span style=\"font-size: 150%;color:#990000;background:#f4cccc\">Macierz kosztów transportowych"
   ]
  },
  {
   "cell_type": "code",
   "execution_count": 30,
   "metadata": {},
   "outputs": [
    {
     "name": "stdout",
     "output_type": "stream",
     "text": [
      "+---------------+----------+---------+----------+--------+----------+----------+\n",
      "| Koparka typu: | wykop 1  | wykop 2 | wykop  3 | wykop  | ilość ko | koszt ko |\n",
      "|               |          |         |          |   4    |  parek   |  parki   |\n",
      "+---------------+----------+---------+----------+--------+----------+----------+\n",
      "|   Koparka A   | 25 m3/d  | 15 m3/d | 16 m3/d  | 20 m3/ | 10 sztuk |  190 zł  |\n",
      "|               |          |         |          |   d    |          |          |\n",
      "+---------------+----------+---------+----------+--------+----------+----------+\n",
      "|   Koparka B   | 30 m3/d  | 10 m3/d | 24 m3/d  | 25 m3/ | 8 sztuk  |  130 zł  |\n",
      "|               |          |         |          |   d    |          |          |\n",
      "+---------------+----------+---------+----------+--------+----------+----------+\n",
      "|   Koparka C   | 24 m3/d  | 18 m3/d | 25 m3/d  | 27,5 m | 15 sztuk |  280 zł  |\n",
      "|               |          |         |          |  3/d   |          |          |\n",
      "+---------------+----------+---------+----------+--------+----------+----------+\n",
      "| Minimalne zad | >=220 m3 | >=90 m3 | >=146 m3 | >=220  |          |          |\n",
      "|     anie      |          |         |          |   m3   |          |          |\n",
      "+---------------+----------+---------+----------+--------+----------+----------+\n"
     ]
    }
   ],
   "source": [
    "from beautifultable import BeautifulTable\n",
    "\n",
    "table = BeautifulTable()\n",
    "table.column_headers = [\"Koparka typu:\", \"wykop 1\",\"wykop 2\",\"wykop  3\", \"wykop 4\",\"ilość koparek\", \"koszt koparki\"]\n",
    "table.append_row([\"Koparka A\", \"25 m3/d\",    \"15 m3/d\",   \"16 m3/d\", \"20 m3/d\", \"10 sztuk\",\"190 zł\" ])\n",
    "table.append_row([\"Koparka B\", \"30 m3/d\",    \"10 m3/d\",   \"24 m3/d\", \"25 m3/d\", \"8 sztuk\", \"130 zł\" ])\n",
    "table.append_row([\"Koparka C\", \"24 m3/d\",    \"18 m3/d\",   \"25 m3/d\", \"27,5 m3/d\", \"15 sztuk\", \"280 zł\" ])\n",
    "table.append_row([\"Minimalne zadanie\",\">=220 m3\",\">=90 m3\",\">=146 m3\",\">=220 m3\",\"\",\"\"])\n",
    "print(table)"
   ]
  },
  {
   "cell_type": "code",
   "execution_count": 31,
   "metadata": {},
   "outputs": [
    {
     "data": {
      "text/html": [
       "<div>\n",
       "<style scoped>\n",
       "    .dataframe tbody tr th:only-of-type {\n",
       "        vertical-align: middle;\n",
       "    }\n",
       "\n",
       "    .dataframe tbody tr th {\n",
       "        vertical-align: top;\n",
       "    }\n",
       "\n",
       "    .dataframe thead th {\n",
       "        text-align: right;\n",
       "    }\n",
       "</style>\n",
       "<table border=\"1\" class=\"dataframe\">\n",
       "  <thead>\n",
       "    <tr style=\"text-align: right;\">\n",
       "      <th></th>\n",
       "      <th>Projekt_1</th>\n",
       "      <th>Projekt_2</th>\n",
       "      <th>Projekt_3</th>\n",
       "      <th>Projekt_4</th>\n",
       "      <th>Projekt_5</th>\n",
       "      <th>Projekt_6</th>\n",
       "      <th>Projekt_7</th>\n",
       "      <th>Projekt_8</th>\n",
       "      <th>Projekt_9</th>\n",
       "    </tr>\n",
       "  </thead>\n",
       "  <tbody>\n",
       "    <tr>\n",
       "      <td>Koparka_1</td>\n",
       "      <td>30</td>\n",
       "      <td>45</td>\n",
       "      <td>23</td>\n",
       "      <td>30</td>\n",
       "      <td>45</td>\n",
       "      <td>23</td>\n",
       "      <td>14</td>\n",
       "      <td>23</td>\n",
       "      <td>23</td>\n",
       "    </tr>\n",
       "    <tr>\n",
       "      <td>Koparka_2</td>\n",
       "      <td>30</td>\n",
       "      <td>20</td>\n",
       "      <td>25</td>\n",
       "      <td>31</td>\n",
       "      <td>12</td>\n",
       "      <td>16</td>\n",
       "      <td>14</td>\n",
       "      <td>23</td>\n",
       "      <td>23</td>\n",
       "    </tr>\n",
       "    <tr>\n",
       "      <td>Koparka_3</td>\n",
       "      <td>10</td>\n",
       "      <td>42</td>\n",
       "      <td>28</td>\n",
       "      <td>31</td>\n",
       "      <td>25</td>\n",
       "      <td>31</td>\n",
       "      <td>14</td>\n",
       "      <td>23</td>\n",
       "      <td>23</td>\n",
       "    </tr>\n",
       "    <tr>\n",
       "      <td>Koparka_4</td>\n",
       "      <td>12</td>\n",
       "      <td>40</td>\n",
       "      <td>13</td>\n",
       "      <td>30</td>\n",
       "      <td>20</td>\n",
       "      <td>21</td>\n",
       "      <td>14</td>\n",
       "      <td>23</td>\n",
       "      <td>23</td>\n",
       "    </tr>\n",
       "    <tr>\n",
       "      <td>Koparka_5</td>\n",
       "      <td>35</td>\n",
       "      <td>41</td>\n",
       "      <td>13</td>\n",
       "      <td>39</td>\n",
       "      <td>23</td>\n",
       "      <td>30</td>\n",
       "      <td>14</td>\n",
       "      <td>23</td>\n",
       "      <td>23</td>\n",
       "    </tr>\n",
       "    <tr>\n",
       "      <td>Koparka_6</td>\n",
       "      <td>50</td>\n",
       "      <td>45</td>\n",
       "      <td>33</td>\n",
       "      <td>30</td>\n",
       "      <td>21</td>\n",
       "      <td>21</td>\n",
       "      <td>14</td>\n",
       "      <td>23</td>\n",
       "      <td>23</td>\n",
       "    </tr>\n",
       "  </tbody>\n",
       "</table>\n",
       "</div>"
      ],
      "text/plain": [
       "           Projekt_1  Projekt_2  Projekt_3  Projekt_4  Projekt_5  Projekt_6  \\\n",
       "Koparka_1         30         45         23         30         45         23   \n",
       "Koparka_2         30         20         25         31         12         16   \n",
       "Koparka_3         10         42         28         31         25         31   \n",
       "Koparka_4         12         40         13         30         20         21   \n",
       "Koparka_5         35         41         13         39         23         30   \n",
       "Koparka_6         50         45         33         30         21         21   \n",
       "\n",
       "           Projekt_7  Projekt_8  Projekt_9  \n",
       "Koparka_1         14         23         23  \n",
       "Koparka_2         14         23         23  \n",
       "Koparka_3         14         23         23  \n",
       "Koparka_4         14         23         23  \n",
       "Koparka_5         14         23         23  \n",
       "Koparka_6         14         23         23  "
      ]
     },
     "execution_count": 31,
     "metadata": {},
     "output_type": "execute_result"
    }
   ],
   "source": [
    "data = {'Koparka_1': [30, 45, 23, 30, 45, 23,14,23,23], 'Koparka_2': [30, 20, 25, 31,12,16,14,23,23],'Koparka_3': [10, 42, 28, 31, 25, 31,14,23,23], 'Koparka_4': [12, 40, 13, 30, 20, 21,14,23,23],'Koparka_5': [35, 41, 13, 39, 23, 30,14,23,23], 'Koparka_6': [50, 45, 33, 30, 21, 21,14,23,23]} \n",
    "df = pd.DataFrame.from_dict(data, orient='index',columns=['Projekt_1', 'Projekt_2', 'Projekt_3', 'Projekt_4','Projekt_5', 'Projekt_6', 'Projekt_7', 'Projekt_8', 'Projekt_9']) \n",
    "df"
   ]
  },
  {
   "cell_type": "markdown",
   "metadata": {},
   "source": [
    "#### $\n",
    "\\left\\{\n",
    "\\begin{align} \n",
    "{30x_{11}+30x_{21}+10x_{31}+12x_{41}+35x_{51}+50_{61}} & \\geqslant 220 & (1)\\\\\n",
    "{45x_{12}+20x_{22}+42x_{32}+40x_{42}+41x_{52}+45_{62}} & \\geqslant 90 & (2)\\\\\n",
    "{23x_{13}+25x_{23}+28x_{33}+13x_{43}+13x_{53}+33_{63}} & \\geqslant 146 & (3)\\\\\n",
    "\\end{align}\n",
    "\\right. \n",
    "$"
   ]
  },
  {
   "cell_type": "markdown",
   "metadata": {},
   "source": [
    "<span style=\"font-size: 150%;color:#0000ff\">Krok 1: ZMIENNA DECYZYJNA Czym jest x? </span>\n",
    "\n",
    "Ilość koparek  - dlaczego? bo jest to zmienna decyzyjna, nie można sterować wydajnością koparek. Ilość koparek jest punktem wyjścia do obliczenia ilości m3 oraz kosztów używania koparek \n",
    "\n",
    "\n",
    "<span style=\"font-size: 150%;color:#0000ff\"> Krok 2: Co jest w tabeli?</span>\n",
    "\n",
    "wydajność koparek na poszczególnych wykopach\n",
    "\n",
    "<span style=\"font-size: 150%;color:#0000ff\"> Krok 3: ograniczenie zmiennych decyzyjnych</span>\n",
    "\n",
    "zmiennymi decyzyjnymi jest tutaj ilość koparek na różnych wykopach. Powiedzmy że chodzi o jeden dzień pracy wszystkich koparek.\n",
    "\n",
    "#### $\n",
    "\\left\\{\n",
    "\\begin{align} \n",
    "{x_{11}+x_{12}+x_{13}+x_{14}+x_{15}+x_{16}+x_{17}+x_{18}+x_{19}} & = 10 & (1)\\\\\n",
    "{x_{21}+x_{22}+x_{23}+x_{24}+x_{25}+x_{26}+x_{27}+x_{28}+x_{29}} & = 8 & (2)\\\\\n",
    "{x_{31}+x_{32}+x_{33}+x_{34}+x_{35}+x_{36}+x_{37}+x_{38}+x_{39}} & = 15 & (3)\\\\\n",
    "\\end{align}\n",
    "\\right. \n",
    "$\n",
    "\n",
    "<span style=\"font-size: 150%;color:#0000ff\"> Krok 4: ograniczenie pośrednie - nie związane bezpośrednio ze zmiennymi decyzyjnymi jaką jest tutaj ilość koparek, to będzie: ilość metrów wykopanych na poszczególnych wykopach</span>\n",
    "\n",
    "#### $\n",
    "\\left\\{\n",
    "\\begin{align} \n",
    "{30x_{11}+30x_{21}+10x_{31}+12x_{41}+35x_{51}+50_{61}} & \\geqslant 220 & (1)\\\\\n",
    "{45x_{12}+20x_{22}+42x_{32}+40x_{42}+41x_{52}+45_{62}} & \\geqslant 90 & (2)\\\\\n",
    "{23x_{13}+25x_{23}+28x_{33}+13x_{43}+13x_{53}+33_{63}} & \\geqslant 146 & (3)\\\\\n",
    "\\end{align}\n",
    "\\right. \n",
    "$\n",
    "\n",
    "<span style=\"font-size: 150%;color:#0000ff\"> Krok 5: jaka jest funkcja celu?</span>\n",
    "\n",
    "przydzielić koparki tak aby zminimalizować koszty.\n",
    "\n",
    "$\\bbox[5px,border:1px solid red]\n",
    "{\n",
    "\\\\\n",
    "F(x_{i,j})=190*({x_{11}+x_{12}+x_{13}+x_{15}+x_{16}+x_{17}+x_{18}+x_{19}})+130*({x_{21}+x_{22}+x_{23}+x_{24}})+280*({x_{31}+x_{32}+x_{33}+x_{34}})  \\to  min \n",
    "\\qquad \n",
    "} $"
   ]
  },
  {
   "cell_type": "code",
   "execution_count": 32,
   "metadata": {},
   "outputs": [],
   "source": [
    "import pulp\n",
    "from pulp import *\n",
    "import pandas as pd\n",
    "import numpy as np"
   ]
  },
  {
   "cell_type": "markdown",
   "metadata": {},
   "source": [
    "### Definicja danych\n",
    "\n",
    "Zdefiniujmy dane i przypiszmy je do zmiennych, które można następnie wykorzystać do wprowadzenia do modelu, funkcji celu i ograniczeń."
   ]
  },
  {
   "cell_type": "code",
   "execution_count": 33,
   "metadata": {},
   "outputs": [
    {
     "data": {
      "text/plain": [
       "array([[30, 45, 23, 30, 45, 23, 14, 23, 23],\n",
       "       [30, 20, 25, 31, 12, 16, 14, 23, 23],\n",
       "       [10, 42, 28, 31, 25, 31, 14, 23, 23],\n",
       "       [12, 40, 13, 30, 20, 21, 14, 23, 23],\n",
       "       [35, 41, 13, 39, 23, 30, 14, 23, 23],\n",
       "       [50, 45, 33, 30, 21, 21, 14, 23, 23]])"
      ]
     },
     "execution_count": 33,
     "metadata": {},
     "output_type": "execute_result"
    }
   ],
   "source": [
    "columns = df.columns\n",
    "\n",
    "cost_efect = df[columns]\n",
    "\n",
    "cost_efect = np.array(cost_efect)  \n",
    "cost_efect"
   ]
  },
  {
   "cell_type": "code",
   "execution_count": 34,
   "metadata": {},
   "outputs": [
    {
     "name": "stdout",
     "output_type": "stream",
     "text": [
      "n_warehouses: 6\n",
      "n_customers: 9\n"
     ]
    }
   ],
   "source": [
    "n_warehouses, n_customers = df.shape\n",
    "\n",
    "print('n_warehouses:',n_warehouses)\n",
    "print('n_customers:',n_customers) "
   ]
  },
  {
   "cell_type": "markdown",
   "metadata": {},
   "source": [
    "<span style=\"font-size: 150%;color:#990000;background:#f4cccc\">Wymyślam ograniczenia dla projektów- to jest minimalna praca jaką muszą być wykonane w poszczególnych projektach"
   ]
  },
  {
   "cell_type": "code",
   "execution_count": 35,
   "metadata": {},
   "outputs": [
    {
     "data": {
      "text/plain": [
       "(9,)"
      ]
     },
     "execution_count": 35,
     "metadata": {},
     "output_type": "execute_result"
    }
   ],
   "source": [
    "cust_demands = np.array([220, 90, 146, 220,300,123,277,210,198])\n",
    "cust_demands.shape"
   ]
  },
  {
   "cell_type": "markdown",
   "metadata": {},
   "source": [
    "<span style=\"font-size: 150%;color:#990000;background:#f4cccc\"> Wymyślam koszty pracy koparek - koszt dzienny za dzierżawę maszyny"
   ]
  },
  {
   "cell_type": "code",
   "execution_count": 36,
   "metadata": {},
   "outputs": [
    {
     "name": "stdout",
     "output_type": "stream",
     "text": [
      "(6, 1)\n"
     ]
    },
    {
     "data": {
      "text/plain": [
       "array([[190],\n",
       "       [130],\n",
       "       [280],\n",
       "       [220],\n",
       "       [149],\n",
       "       [122]])"
      ]
     },
     "execution_count": 36,
     "metadata": {},
     "output_type": "execute_result"
    }
   ],
   "source": [
    "cost_array = np.array([190, 130, 280,220,149,122])\n",
    "\n",
    "\n",
    "\n",
    "cost_array = cost_array.reshape((6, 1)) # zmiana krztałtu wektora pod funkcję celu\n",
    "\n",
    "print(cost_array.shape)\n",
    "cost_array"
   ]
  },
  {
   "cell_type": "markdown",
   "metadata": {},
   "source": [
    "<span style=\"font-size: 150%;color:#990000;background:#f4cccc\">Wymyślam ograniczenie co do ilości koparek- to jest maksymalna liczba poszczególnych koparek, którą można użyć łącznie w projektach"
   ]
  },
  {
   "cell_type": "code",
   "execution_count": 37,
   "metadata": {},
   "outputs": [
    {
     "data": {
      "text/plain": [
       "(6,)"
      ]
     },
     "execution_count": 37,
     "metadata": {},
     "output_type": "execute_result"
    }
   ],
   "source": [
    "warehouse_supply = np.array([10, 8, 15,11,5,10])\n",
    "warehouse_supply.shape"
   ]
  },
  {
   "cell_type": "markdown",
   "metadata": {},
   "source": [
    "<span style=\"font-size: 150%;color:#990000;background:#f4cccc\">Inicjacja modelu\n",
    "    \n",
    "    Tworzę końcówki nazw zmiennych w macierzy zmiennych decyzyjnych"
   ]
  },
  {
   "cell_type": "code",
   "execution_count": 38,
   "metadata": {},
   "outputs": [],
   "source": [
    "model = LpProblem(\"Zadanie_88_STR_142BIS\", LpMinimize)"
   ]
  },
  {
   "cell_type": "markdown",
   "metadata": {},
   "source": [
    "<span style=\"font-size: 150%;color:#990000;background:#f4cccc\">Definiuje nazwy zmiennych (do macierzy)"
   ]
  },
  {
   "cell_type": "code",
   "execution_count": 39,
   "metadata": {},
   "outputs": [
    {
     "data": {
      "text/plain": [
       "['11',\n",
       " '12',\n",
       " '13',\n",
       " '14',\n",
       " '15',\n",
       " '16',\n",
       " '17',\n",
       " '18',\n",
       " '19',\n",
       " '21',\n",
       " '22',\n",
       " '23',\n",
       " '24',\n",
       " '25',\n",
       " '26',\n",
       " '27',\n",
       " '28',\n",
       " '29',\n",
       " '31',\n",
       " '32',\n",
       " '33',\n",
       " '34',\n",
       " '35',\n",
       " '36',\n",
       " '37',\n",
       " '38',\n",
       " '39',\n",
       " '41',\n",
       " '42',\n",
       " '43',\n",
       " '44',\n",
       " '45',\n",
       " '46',\n",
       " '47',\n",
       " '48',\n",
       " '49',\n",
       " '51',\n",
       " '52',\n",
       " '53',\n",
       " '54',\n",
       " '55',\n",
       " '56',\n",
       " '57',\n",
       " '58',\n",
       " '59',\n",
       " '61',\n",
       " '62',\n",
       " '63',\n",
       " '64',\n",
       " '65',\n",
       " '66',\n",
       " '67',\n",
       " '68',\n",
       " '69']"
      ]
     },
     "execution_count": 39,
     "metadata": {},
     "output_type": "execute_result"
    }
   ],
   "source": [
    "variable_names = [str(i)+str(j) for j in range(1, n_customers+1) for i in range(1,n_warehouses+1)]\n",
    "variable_names.sort()\n",
    "variable_names"
   ]
  },
  {
   "cell_type": "markdown",
   "metadata": {},
   "source": [
    "<span style=\"font-size: 150%;color:#990000;background:#f4cccc\">Zmienne decyzyjne\n",
    "    \n",
    "    Tworzę zmienne decyzyjne"
   ]
  },
  {
   "cell_type": "code",
   "execution_count": 40,
   "metadata": {},
   "outputs": [],
   "source": [
    "DV_variables = LpVariable.matrix(\"x\", variable_names , cat = \"Integer\" , lowBound= 0 )\n",
    "#DV_variables"
   ]
  },
  {
   "cell_type": "markdown",
   "metadata": {},
   "source": [
    "    Tworzę te zmienne decyzyjne w formacie macierzy"
   ]
  },
  {
   "cell_type": "code",
   "execution_count": 41,
   "metadata": {},
   "outputs": [
    {
     "data": {
      "text/plain": [
       "array([[x_11, x_12, x_13, x_14, x_15, x_16, x_17, x_18, x_19],\n",
       "       [x_21, x_22, x_23, x_24, x_25, x_26, x_27, x_28, x_29],\n",
       "       [x_31, x_32, x_33, x_34, x_35, x_36, x_37, x_38, x_39],\n",
       "       [x_41, x_42, x_43, x_44, x_45, x_46, x_47, x_48, x_49],\n",
       "       [x_51, x_52, x_53, x_54, x_55, x_56, x_57, x_58, x_59],\n",
       "       [x_61, x_62, x_63, x_64, x_65, x_66, x_67, x_68, x_69]],\n",
       "      dtype=object)"
      ]
     },
     "execution_count": 41,
     "metadata": {},
     "output_type": "execute_result"
    }
   ],
   "source": [
    "allocation = np.array(DV_variables).reshape(n_warehouses,n_customers)\n",
    "allocation"
   ]
  },
  {
   "cell_type": "markdown",
   "metadata": {},
   "source": [
    "<span style=\"font-size: 150%;color:#990000;background:#f4cccc\">Definiuję funkcję celu"
   ]
  },
  {
   "cell_type": "code",
   "execution_count": 42,
   "metadata": {},
   "outputs": [
    {
     "data": {
      "text/plain": [
       "array([[190],\n",
       "       [130],\n",
       "       [280],\n",
       "       [220],\n",
       "       [149],\n",
       "       [122]])"
      ]
     },
     "execution_count": 42,
     "metadata": {},
     "output_type": "execute_result"
    }
   ],
   "source": [
    "cost_array"
   ]
  },
  {
   "cell_type": "markdown",
   "metadata": {},
   "source": [
    "$\n",
    "F(x_{i,j})=190*({x_{11}+x_{12}+x_{13}+x_{15}+x_{16}+x_{17}+x_{18}+x_{19}})+130*({x_{21}+x_{22}+x_{23}+x_{24}})+280*({x_{31}+x_{32}+x_{33}+x_{34}})  \\to  min  \n",
    "$"
   ]
  },
  {
   "cell_type": "code",
   "execution_count": 43,
   "metadata": {},
   "outputs": [
    {
     "data": {
      "text/plain": [
       "190*x_11 + 190*x_12 + 190*x_13 + 190*x_14 + 190*x_15 + 190*x_16 + 190*x_17 + 190*x_18 + 190*x_19 + 130*x_21 + 130*x_22 + 130*x_23 + 130*x_24 + 130*x_25 + 130*x_26 + 130*x_27 + 130*x_28 + 130*x_29 + 280*x_31 + 280*x_32 + 280*x_33 + 280*x_34 + 280*x_35 + 280*x_36 + 280*x_37 + 280*x_38 + 280*x_39 + 220*x_41 + 220*x_42 + 220*x_43 + 220*x_44 + 220*x_45 + 220*x_46 + 220*x_47 + 220*x_48 + 220*x_49 + 149*x_51 + 149*x_52 + 149*x_53 + 149*x_54 + 149*x_55 + 149*x_56 + 149*x_57 + 149*x_58 + 149*x_59 + 122*x_61 + 122*x_62 + 122*x_63 + 122*x_64 + 122*x_65 + 122*x_66 + 122*x_67 + 122*x_68 + 122*x_69 + 0"
      ]
     },
     "execution_count": 43,
     "metadata": {},
     "output_type": "execute_result"
    }
   ],
   "source": [
    "obj_func = lpSum(allocation*cost_array)\n",
    "obj_func"
   ]
  },
  {
   "cell_type": "markdown",
   "metadata": {},
   "source": [
    " <span style=\"font-size: 150%;color:#990000;background:#f4cccc\"> funkcja celu jest OK\n",
    " \n",
    "     190*X_11 + 190*X_12 + 190*X_13 + 190*X_14 + 190*X_15 + 190*X_16 + 190*x_17 + 190*x_18 + 190*x_19\n",
    "     \n",
    "     130*X_21 + 130*X_22 + 130*X_23 + 130*X_24 + 130*X_25 + 130*X_26 + 130*x_27 + 130*x_28 + 130*x_29\n",
    "     \n",
    "     280*X_31 + 280*X_32 + 280*X_33 + 280*X_34 + 280*X_35 + 280*X_36 + 280*x_37 + 280*x_38 + 280*x_39\n",
    " "
   ]
  },
  {
   "cell_type": "markdown",
   "metadata": {},
   "source": [
    "Dodaję funkcję celu do zadania"
   ]
  },
  {
   "cell_type": "code",
   "execution_count": 44,
   "metadata": {},
   "outputs": [],
   "source": [
    "model +=  obj_func"
   ]
  },
  {
   "cell_type": "code",
   "execution_count": 45,
   "metadata": {},
   "outputs": [
    {
     "data": {
      "text/plain": [
       "Zadanie_88_STR_142BIS:\n",
       "MINIMIZE\n",
       "190*x_11 + 190*x_12 + 190*x_13 + 190*x_14 + 190*x_15 + 190*x_16 + 190*x_17 + 190*x_18 + 190*x_19 + 130*x_21 + 130*x_22 + 130*x_23 + 130*x_24 + 130*x_25 + 130*x_26 + 130*x_27 + 130*x_28 + 130*x_29 + 280*x_31 + 280*x_32 + 280*x_33 + 280*x_34 + 280*x_35 + 280*x_36 + 280*x_37 + 280*x_38 + 280*x_39 + 220*x_41 + 220*x_42 + 220*x_43 + 220*x_44 + 220*x_45 + 220*x_46 + 220*x_47 + 220*x_48 + 220*x_49 + 149*x_51 + 149*x_52 + 149*x_53 + 149*x_54 + 149*x_55 + 149*x_56 + 149*x_57 + 149*x_58 + 149*x_59 + 122*x_61 + 122*x_62 + 122*x_63 + 122*x_64 + 122*x_65 + 122*x_66 + 122*x_67 + 122*x_68 + 122*x_69 + 0\n",
       "VARIABLES\n",
       "0 <= x_11 Integer\n",
       "0 <= x_12 Integer\n",
       "0 <= x_13 Integer\n",
       "0 <= x_14 Integer\n",
       "0 <= x_15 Integer\n",
       "0 <= x_16 Integer\n",
       "0 <= x_17 Integer\n",
       "0 <= x_18 Integer\n",
       "0 <= x_19 Integer\n",
       "0 <= x_21 Integer\n",
       "0 <= x_22 Integer\n",
       "0 <= x_23 Integer\n",
       "0 <= x_24 Integer\n",
       "0 <= x_25 Integer\n",
       "0 <= x_26 Integer\n",
       "0 <= x_27 Integer\n",
       "0 <= x_28 Integer\n",
       "0 <= x_29 Integer\n",
       "0 <= x_31 Integer\n",
       "0 <= x_32 Integer\n",
       "0 <= x_33 Integer\n",
       "0 <= x_34 Integer\n",
       "0 <= x_35 Integer\n",
       "0 <= x_36 Integer\n",
       "0 <= x_37 Integer\n",
       "0 <= x_38 Integer\n",
       "0 <= x_39 Integer\n",
       "0 <= x_41 Integer\n",
       "0 <= x_42 Integer\n",
       "0 <= x_43 Integer\n",
       "0 <= x_44 Integer\n",
       "0 <= x_45 Integer\n",
       "0 <= x_46 Integer\n",
       "0 <= x_47 Integer\n",
       "0 <= x_48 Integer\n",
       "0 <= x_49 Integer\n",
       "0 <= x_51 Integer\n",
       "0 <= x_52 Integer\n",
       "0 <= x_53 Integer\n",
       "0 <= x_54 Integer\n",
       "0 <= x_55 Integer\n",
       "0 <= x_56 Integer\n",
       "0 <= x_57 Integer\n",
       "0 <= x_58 Integer\n",
       "0 <= x_59 Integer\n",
       "0 <= x_61 Integer\n",
       "0 <= x_62 Integer\n",
       "0 <= x_63 Integer\n",
       "0 <= x_64 Integer\n",
       "0 <= x_65 Integer\n",
       "0 <= x_66 Integer\n",
       "0 <= x_67 Integer\n",
       "0 <= x_68 Integer\n",
       "0 <= x_69 Integer"
      ]
     },
     "execution_count": 45,
     "metadata": {},
     "output_type": "execute_result"
    }
   ],
   "source": [
    "model"
   ]
  },
  {
   "cell_type": "markdown",
   "metadata": {},
   "source": [
    "<span style=\"font-size: 150%;color:#990000;background:#f4cccc\">Warunki ograniczające\n",
    "    \n",
    "    Ograniczona liczba koparek - czyli ograniczenie w wierszach wg. schematu\n",
    "    \n",
    "#### $\n",
    "\\left\\{\n",
    "\\begin{align} \n",
    "{x_{11}+x_{12}+x_{13}+x_{14}+x_{15}+x_{16}+x_{17}+x_{18}+x_{19}} & = 10 & (1)\\\\\n",
    "{x_{21}+x_{22}+x_{23}+x_{24}+x_{25}+x_{26}+x_{27}+x_{28}+x_{29}} & = 8 & (2)\\\\\n",
    "{x_{31}+x_{32}+x_{33}+x_{34}+x_{35}+x_{36}+x_{37}+x_{38}+x_{39}} & = 15 & (3)\\\\\n",
    "\\end{align}\n",
    "\\right. \n",
    "$\n"
   ]
  },
  {
   "cell_type": "markdown",
   "metadata": {},
   "source": [
    "<span style=\"font-size: 150%;color:#990000;background:#f4cccc\">Mnożenie macierzy wg odbiorców (po kolumnach)"
   ]
  },
  {
   "cell_type": "code",
   "execution_count": 46,
   "metadata": {},
   "outputs": [
    {
     "data": {
      "text/plain": [
       "array([[X_11, X_21, X_31],\n",
       "       [X_12, X_22, X_32],\n",
       "       [X_13, X_23, X_33],\n",
       "       [X_14, X_24, X_34]], dtype=object)"
      ]
     },
     "execution_count": 46,
     "metadata": {},
     "output_type": "execute_result"
    }
   ],
   "source": [
    "allocationT"
   ]
  },
  {
   "cell_type": "markdown",
   "metadata": {},
   "source": [
    "<span style=\"font-size: 150%;color:#990000;background:#f4cccc\"> Ograniczenia kolumnami = minimalna ilość pracy dla każdego projektu"
   ]
  },
  {
   "cell_type": "code",
   "execution_count": 47,
   "metadata": {},
   "outputs": [
    {
     "data": {
      "text/plain": [
       "array([10,  8, 15, 11,  5, 10])"
      ]
     },
     "execution_count": 47,
     "metadata": {},
     "output_type": "execute_result"
    }
   ],
   "source": [
    "warehouse_supply"
   ]
  },
  {
   "cell_type": "code",
   "execution_count": 48,
   "metadata": {},
   "outputs": [
    {
     "name": "stdout",
     "output_type": "stream",
     "text": [
      "x_11 + x_12 + x_13 + x_14 + x_15 + x_16 + x_17 + x_18 + x_19 <= 10\n",
      "x_21 + x_22 + x_23 + x_24 + x_25 + x_26 + x_27 + x_28 + x_29 <= 8\n",
      "x_31 + x_32 + x_33 + x_34 + x_35 + x_36 + x_37 + x_38 + x_39 <= 15\n",
      "x_41 + x_42 + x_43 + x_44 + x_45 + x_46 + x_47 + x_48 + x_49 <= 11\n",
      "x_51 + x_52 + x_53 + x_54 + x_55 + x_56 + x_57 + x_58 + x_59 <= 5\n",
      "x_61 + x_62 + x_63 + x_64 + x_65 + x_66 + x_67 + x_68 + x_69 <= 10\n"
     ]
    }
   ],
   "source": [
    "# n_warehouses\n",
    "# n_customers\n",
    "\n",
    "for j in range(n_warehouses):\n",
    "    print(lpSum(allocation[j]) <= warehouse_supply[j])\n",
    "    model += lpSum(allocation[j]) <= warehouse_supply[j] , \"max ilości koparek\" + str(j)"
   ]
  },
  {
   "cell_type": "markdown",
   "metadata": {},
   "source": [
    "#### $\n",
    "\\left\\{\n",
    "\\begin{align} \n",
    "{x_{11}+x_{12}+x_{13}+x_{14}+x_{15}+x_{16}+x_{17}+x_{18}+x_{19}} & = 10 & (1)\\\\\n",
    "{x_{21}+x_{22}+x_{23}+x_{24}+x_{25}+x_{26}+x_{27}+x_{28}+x_{29}} & = 8 & (2)\\\\\n",
    "{x_{31}+x_{32}+x_{33}+x_{34}+x_{35}+x_{36}+x_{37}+x_{38}+x_{39}} & = 15 & (3)\\\\\n",
    "\\end{align}\n",
    "\\right. \n",
    "$"
   ]
  },
  {
   "cell_type": "code",
   "execution_count": 49,
   "metadata": {},
   "outputs": [
    {
     "data": {
      "text/plain": [
       "array([10,  8, 15, 11,  5, 10])"
      ]
     },
     "execution_count": 49,
     "metadata": {},
     "output_type": "execute_result"
    }
   ],
   "source": [
    "warehouse_supply"
   ]
  },
  {
   "cell_type": "markdown",
   "metadata": {},
   "source": [
    "<span style=\"font-size: 150%;color:#990000;background:#f4cccc\"> Ustawiam ograniczenia pośrednie\n",
    "    \n",
    " #### $\n",
    "\\left\\{\n",
    "\\begin{align} \n",
    "{30x_{11}+30x_{21}+10x_{31}+12x_{41}+35x_{51}+50_{61}} & \\geqslant 220 & (1)\\\\\n",
    "{45x_{12}+20x_{22}+42x_{32}+40x_{42}+41x_{52}+45_{62}} & \\geqslant 90 & (2)\\\\\n",
    "{23x_{13}+25x_{23}+28x_{33}+13x_{43}+13x_{53}+33_{63}} & \\geqslant 146 & (3)\\\\\n",
    "\\end{align}\n",
    "\\right. \n",
    "$   \n",
    "    "
   ]
  },
  {
   "cell_type": "markdown",
   "metadata": {},
   "source": [
    "<span style=\"font-size: 150%;color:#990000;background:#f4cccc\">Transpozycja macierzy wyników pod ograniczenia odbiorców (po kolumnach)"
   ]
  },
  {
   "cell_type": "code",
   "execution_count": 50,
   "metadata": {},
   "outputs": [
    {
     "data": {
      "text/plain": [
       "array([[x_11, x_21, x_31, x_41, x_51, x_61],\n",
       "       [x_12, x_22, x_32, x_42, x_52, x_62],\n",
       "       [x_13, x_23, x_33, x_43, x_53, x_63],\n",
       "       [x_14, x_24, x_34, x_44, x_54, x_64],\n",
       "       [x_15, x_25, x_35, x_45, x_55, x_65],\n",
       "       [x_16, x_26, x_36, x_46, x_56, x_66],\n",
       "       [x_17, x_27, x_37, x_47, x_57, x_67],\n",
       "       [x_18, x_28, x_38, x_48, x_58, x_68],\n",
       "       [x_19, x_29, x_39, x_49, x_59, x_69]], dtype=object)"
      ]
     },
     "execution_count": 50,
     "metadata": {},
     "output_type": "execute_result"
    }
   ],
   "source": [
    "allocationT =allocation.transpose() \n",
    "allocationT"
   ]
  },
  {
   "cell_type": "code",
   "execution_count": 51,
   "metadata": {},
   "outputs": [
    {
     "data": {
      "text/plain": [
       "array([[30, 30, 10, 12, 35, 50],\n",
       "       [45, 20, 42, 40, 41, 45],\n",
       "       [23, 25, 28, 13, 13, 33],\n",
       "       [30, 31, 31, 30, 39, 30],\n",
       "       [45, 12, 25, 20, 23, 21],\n",
       "       [23, 16, 31, 21, 30, 21],\n",
       "       [14, 14, 14, 14, 14, 14],\n",
       "       [23, 23, 23, 23, 23, 23],\n",
       "       [23, 23, 23, 23, 23, 23]])"
      ]
     },
     "execution_count": 51,
     "metadata": {},
     "output_type": "execute_result"
    }
   ],
   "source": [
    "cost_efectT=cost_efect.transpose() \n",
    "cost_efectT"
   ]
  },
  {
   "cell_type": "markdown",
   "metadata": {},
   "source": [
    "<span style=\"font-size: 150%;color:#990000;background:#f4cccc\">Mnożenie macierzy wg odbiorców (po kolumnach)"
   ]
  },
  {
   "cell_type": "code",
   "execution_count": 52,
   "metadata": {},
   "outputs": [
    {
     "data": {
      "text/plain": [
       "array([[30*x_11 + 0, 30*x_21 + 0, 10*x_31 + 0, 12*x_41 + 0, 35*x_51 + 0,\n",
       "        50*x_61 + 0],\n",
       "       [45*x_12 + 0, 20*x_22 + 0, 42*x_32 + 0, 40*x_42 + 0, 41*x_52 + 0,\n",
       "        45*x_62 + 0],\n",
       "       [23*x_13 + 0, 25*x_23 + 0, 28*x_33 + 0, 13*x_43 + 0, 13*x_53 + 0,\n",
       "        33*x_63 + 0],\n",
       "       [30*x_14 + 0, 31*x_24 + 0, 31*x_34 + 0, 30*x_44 + 0, 39*x_54 + 0,\n",
       "        30*x_64 + 0],\n",
       "       [45*x_15 + 0, 12*x_25 + 0, 25*x_35 + 0, 20*x_45 + 0, 23*x_55 + 0,\n",
       "        21*x_65 + 0],\n",
       "       [23*x_16 + 0, 16*x_26 + 0, 31*x_36 + 0, 21*x_46 + 0, 30*x_56 + 0,\n",
       "        21*x_66 + 0],\n",
       "       [14*x_17 + 0, 14*x_27 + 0, 14*x_37 + 0, 14*x_47 + 0, 14*x_57 + 0,\n",
       "        14*x_67 + 0],\n",
       "       [23*x_18 + 0, 23*x_28 + 0, 23*x_38 + 0, 23*x_48 + 0, 23*x_58 + 0,\n",
       "        23*x_68 + 0],\n",
       "       [23*x_19 + 0, 23*x_29 + 0, 23*x_39 + 0, 23*x_49 + 0, 23*x_59 + 0,\n",
       "        23*x_69 + 0]], dtype=object)"
      ]
     },
     "execution_count": 52,
     "metadata": {},
     "output_type": "execute_result"
    }
   ],
   "source": [
    "KKOT = allocationT*cost_efectT\n",
    "KKOT"
   ]
  },
  {
   "cell_type": "markdown",
   "metadata": {},
   "source": [
    "<span style=\"font-size: 150%;color:#990000;background:#f4cccc\"> Ograniczenia kolumnami = minimalna ilość pracy dla każdego projektu"
   ]
  },
  {
   "cell_type": "code",
   "execution_count": 53,
   "metadata": {},
   "outputs": [
    {
     "data": {
      "text/plain": [
       "array([220,  90, 146, 220, 300, 123, 277, 210, 198])"
      ]
     },
     "execution_count": 53,
     "metadata": {},
     "output_type": "execute_result"
    }
   ],
   "source": [
    "cust_demands"
   ]
  },
  {
   "cell_type": "code",
   "execution_count": 54,
   "metadata": {},
   "outputs": [
    {
     "name": "stdout",
     "output_type": "stream",
     "text": [
      "30*x_11 + 30*x_21 + 10*x_31 + 12*x_41 + 35*x_51 + 50*x_61 >= 220\n",
      "45*x_12 + 20*x_22 + 42*x_32 + 40*x_42 + 41*x_52 + 45*x_62 >= 90\n",
      "23*x_13 + 25*x_23 + 28*x_33 + 13*x_43 + 13*x_53 + 33*x_63 >= 146\n",
      "30*x_14 + 31*x_24 + 31*x_34 + 30*x_44 + 39*x_54 + 30*x_64 >= 220\n",
      "45*x_15 + 12*x_25 + 25*x_35 + 20*x_45 + 23*x_55 + 21*x_65 >= 300\n",
      "23*x_16 + 16*x_26 + 31*x_36 + 21*x_46 + 30*x_56 + 21*x_66 >= 123\n",
      "14*x_17 + 14*x_27 + 14*x_37 + 14*x_47 + 14*x_57 + 14*x_67 >= 277\n",
      "23*x_18 + 23*x_28 + 23*x_38 + 23*x_48 + 23*x_58 + 23*x_68 >= 210\n",
      "23*x_19 + 23*x_29 + 23*x_39 + 23*x_49 + 23*x_59 + 23*x_69 >= 198\n"
     ]
    }
   ],
   "source": [
    "for j in range(n_customers):\n",
    "    print(lpSum(KKOT[j]) >= cust_demands[j])\n",
    "    model += lpSum(KKOT[j]) >= cust_demands[j] , \"Minimalny zakres prac \" + str(j)"
   ]
  },
  {
   "cell_type": "markdown",
   "metadata": {},
   "source": [
    "#### $\n",
    "\\left\\{\n",
    "\\begin{align} \n",
    "{30x_{11}+30x_{21}+10x_{31}+12x_{41}+35x_{51}+50_{61}} & \\geqslant 220 & (1)\\\\\n",
    "{45x_{12}+20x_{22}+42x_{32}+40x_{42}+41x_{52}+45_{62}} & \\geqslant 90 & (2)\\\\\n",
    "{23x_{13}+25x_{23}+28x_{33}+13x_{43}+13x_{53}+33_{63}} & \\geqslant 146 & (3)\\\\\n",
    "\\end{align}\n",
    "\\right. \n",
    "$"
   ]
  },
  {
   "cell_type": "code",
   "execution_count": 55,
   "metadata": {},
   "outputs": [
    {
     "data": {
      "text/plain": [
       "Zadanie_88_STR_142BIS:\n",
       "MINIMIZE\n",
       "190*x_11 + 190*x_12 + 190*x_13 + 190*x_14 + 190*x_15 + 190*x_16 + 190*x_17 + 190*x_18 + 190*x_19 + 130*x_21 + 130*x_22 + 130*x_23 + 130*x_24 + 130*x_25 + 130*x_26 + 130*x_27 + 130*x_28 + 130*x_29 + 280*x_31 + 280*x_32 + 280*x_33 + 280*x_34 + 280*x_35 + 280*x_36 + 280*x_37 + 280*x_38 + 280*x_39 + 220*x_41 + 220*x_42 + 220*x_43 + 220*x_44 + 220*x_45 + 220*x_46 + 220*x_47 + 220*x_48 + 220*x_49 + 149*x_51 + 149*x_52 + 149*x_53 + 149*x_54 + 149*x_55 + 149*x_56 + 149*x_57 + 149*x_58 + 149*x_59 + 122*x_61 + 122*x_62 + 122*x_63 + 122*x_64 + 122*x_65 + 122*x_66 + 122*x_67 + 122*x_68 + 122*x_69 + 0\n",
       "SUBJECT TO\n",
       "max_ilości_koparek0: x_11 + x_12 + x_13 + x_14 + x_15 + x_16 + x_17 + x_18\n",
       " + x_19 <= 10\n",
       "\n",
       "max_ilości_koparek1: x_21 + x_22 + x_23 + x_24 + x_25 + x_26 + x_27 + x_28\n",
       " + x_29 <= 8\n",
       "\n",
       "max_ilości_koparek2: x_31 + x_32 + x_33 + x_34 + x_35 + x_36 + x_37 + x_38\n",
       " + x_39 <= 15\n",
       "\n",
       "max_ilości_koparek3: x_41 + x_42 + x_43 + x_44 + x_45 + x_46 + x_47 + x_48\n",
       " + x_49 <= 11\n",
       "\n",
       "max_ilości_koparek4: x_51 + x_52 + x_53 + x_54 + x_55 + x_56 + x_57 + x_58\n",
       " + x_59 <= 5\n",
       "\n",
       "max_ilości_koparek5: x_61 + x_62 + x_63 + x_64 + x_65 + x_66 + x_67 + x_68\n",
       " + x_69 <= 10\n",
       "\n",
       "Minimalny_zakres_prac_0: 30 x_11 + 30 x_21 + 10 x_31 + 12 x_41 + 35 x_51\n",
       " + 50 x_61 >= 220\n",
       "\n",
       "Minimalny_zakres_prac_1: 45 x_12 + 20 x_22 + 42 x_32 + 40 x_42 + 41 x_52\n",
       " + 45 x_62 >= 90\n",
       "\n",
       "Minimalny_zakres_prac_2: 23 x_13 + 25 x_23 + 28 x_33 + 13 x_43 + 13 x_53\n",
       " + 33 x_63 >= 146\n",
       "\n",
       "Minimalny_zakres_prac_3: 30 x_14 + 31 x_24 + 31 x_34 + 30 x_44 + 39 x_54\n",
       " + 30 x_64 >= 220\n",
       "\n",
       "Minimalny_zakres_prac_4: 45 x_15 + 12 x_25 + 25 x_35 + 20 x_45 + 23 x_55\n",
       " + 21 x_65 >= 300\n",
       "\n",
       "Minimalny_zakres_prac_5: 23 x_16 + 16 x_26 + 31 x_36 + 21 x_46 + 30 x_56\n",
       " + 21 x_66 >= 123\n",
       "\n",
       "Minimalny_zakres_prac_6: 14 x_17 + 14 x_27 + 14 x_37 + 14 x_47 + 14 x_57\n",
       " + 14 x_67 >= 277\n",
       "\n",
       "Minimalny_zakres_prac_7: 23 x_18 + 23 x_28 + 23 x_38 + 23 x_48 + 23 x_58\n",
       " + 23 x_68 >= 210\n",
       "\n",
       "Minimalny_zakres_prac_8: 23 x_19 + 23 x_29 + 23 x_39 + 23 x_49 + 23 x_59\n",
       " + 23 x_69 >= 198\n",
       "\n",
       "VARIABLES\n",
       "0 <= x_11 Integer\n",
       "0 <= x_12 Integer\n",
       "0 <= x_13 Integer\n",
       "0 <= x_14 Integer\n",
       "0 <= x_15 Integer\n",
       "0 <= x_16 Integer\n",
       "0 <= x_17 Integer\n",
       "0 <= x_18 Integer\n",
       "0 <= x_19 Integer\n",
       "0 <= x_21 Integer\n",
       "0 <= x_22 Integer\n",
       "0 <= x_23 Integer\n",
       "0 <= x_24 Integer\n",
       "0 <= x_25 Integer\n",
       "0 <= x_26 Integer\n",
       "0 <= x_27 Integer\n",
       "0 <= x_28 Integer\n",
       "0 <= x_29 Integer\n",
       "0 <= x_31 Integer\n",
       "0 <= x_32 Integer\n",
       "0 <= x_33 Integer\n",
       "0 <= x_34 Integer\n",
       "0 <= x_35 Integer\n",
       "0 <= x_36 Integer\n",
       "0 <= x_37 Integer\n",
       "0 <= x_38 Integer\n",
       "0 <= x_39 Integer\n",
       "0 <= x_41 Integer\n",
       "0 <= x_42 Integer\n",
       "0 <= x_43 Integer\n",
       "0 <= x_44 Integer\n",
       "0 <= x_45 Integer\n",
       "0 <= x_46 Integer\n",
       "0 <= x_47 Integer\n",
       "0 <= x_48 Integer\n",
       "0 <= x_49 Integer\n",
       "0 <= x_51 Integer\n",
       "0 <= x_52 Integer\n",
       "0 <= x_53 Integer\n",
       "0 <= x_54 Integer\n",
       "0 <= x_55 Integer\n",
       "0 <= x_56 Integer\n",
       "0 <= x_57 Integer\n",
       "0 <= x_58 Integer\n",
       "0 <= x_59 Integer\n",
       "0 <= x_61 Integer\n",
       "0 <= x_62 Integer\n",
       "0 <= x_63 Integer\n",
       "0 <= x_64 Integer\n",
       "0 <= x_65 Integer\n",
       "0 <= x_66 Integer\n",
       "0 <= x_67 Integer\n",
       "0 <= x_68 Integer\n",
       "0 <= x_69 Integer"
      ]
     },
     "execution_count": 55,
     "metadata": {},
     "output_type": "execute_result"
    }
   ],
   "source": [
    "model"
   ]
  },
  {
   "cell_type": "markdown",
   "metadata": {},
   "source": [
    "<span style=\"font-size: 150%;color:#990000;background:#f4cccc\">Zapisuje problem"
   ]
  },
  {
   "cell_type": "code",
   "execution_count": 56,
   "metadata": {},
   "outputs": [
    {
     "data": {
      "text/plain": [
       "[x_11,\n",
       " x_12,\n",
       " x_13,\n",
       " x_14,\n",
       " x_15,\n",
       " x_16,\n",
       " x_17,\n",
       " x_18,\n",
       " x_19,\n",
       " x_21,\n",
       " x_22,\n",
       " x_23,\n",
       " x_24,\n",
       " x_25,\n",
       " x_26,\n",
       " x_27,\n",
       " x_28,\n",
       " x_29,\n",
       " x_31,\n",
       " x_32,\n",
       " x_33,\n",
       " x_34,\n",
       " x_35,\n",
       " x_36,\n",
       " x_37,\n",
       " x_38,\n",
       " x_39,\n",
       " x_41,\n",
       " x_42,\n",
       " x_43,\n",
       " x_44,\n",
       " x_45,\n",
       " x_46,\n",
       " x_47,\n",
       " x_48,\n",
       " x_49,\n",
       " x_51,\n",
       " x_52,\n",
       " x_53,\n",
       " x_54,\n",
       " x_55,\n",
       " x_56,\n",
       " x_57,\n",
       " x_58,\n",
       " x_59,\n",
       " x_61,\n",
       " x_62,\n",
       " x_63,\n",
       " x_64,\n",
       " x_65,\n",
       " x_66,\n",
       " x_67,\n",
       " x_68,\n",
       " x_69]"
      ]
     },
     "execution_count": 56,
     "metadata": {},
     "output_type": "execute_result"
    }
   ],
   "source": [
    "model.writeLP(\"Supply_demand_prob.lp\")"
   ]
  },
  {
   "cell_type": "markdown",
   "metadata": {},
   "source": [
    "<span style=\"font-size: 150%;color:#990000;background:#f4cccc\">Solve Problem and check Status"
   ]
  },
  {
   "cell_type": "code",
   "execution_count": 57,
   "metadata": {},
   "outputs": [
    {
     "name": "stdout",
     "output_type": "stream",
     "text": [
      "Infeasible\n"
     ]
    }
   ],
   "source": [
    "model.solve()\n",
    "status =  LpStatus[model.status]\n",
    "print(status)"
   ]
  },
  {
   "cell_type": "markdown",
   "metadata": {},
   "source": [
    "<span style=\"font-size: 150%;color:#990000;background:#f4cccc\">Obliczenie wartości funkcji celu i zmiennych decyzyjnych"
   ]
  },
  {
   "cell_type": "code",
   "execution_count": 58,
   "metadata": {},
   "outputs": [
    {
     "name": "stdout",
     "output_type": "stream",
     "text": [
      "Total Cost: 13146.185277399998\n"
     ]
    },
    {
     "data": {
      "text/plain": [
       "{x_11: 0.0,\n",
       " x_12: 2.0,\n",
       " x_13: 0.0,\n",
       " x_14: 0.0,\n",
       " x_15: 6.6666667,\n",
       " x_16: 0.0,\n",
       " x_17: 1.3333333,\n",
       " x_18: 0.0,\n",
       " x_19: 0.0,\n",
       " x_21: 0.0,\n",
       " x_22: 0.0,\n",
       " x_23: 0.0,\n",
       " x_24: 0.0,\n",
       " x_25: 0.0,\n",
       " x_26: 0.0,\n",
       " x_27: 0.0,\n",
       " x_28: 0.56706192,\n",
       " x_29: 7.4329381,\n",
       " x_31: 0.0,\n",
       " x_32: 0.0,\n",
       " x_33: 0.0,\n",
       " x_34: 0.80645161,\n",
       " x_35: 0.0,\n",
       " x_36: 3.9677419,\n",
       " x_37: 7.452381,\n",
       " x_38: 8.5633729,\n",
       " x_39: 0.0,\n",
       " x_41: 0.0,\n",
       " x_42: 0.0,\n",
       " x_43: 0.0,\n",
       " x_44: 0.0,\n",
       " x_45: 0.0,\n",
       " x_46: 0.0,\n",
       " x_47: 11.0,\n",
       " x_48: 0.0,\n",
       " x_49: 0.0,\n",
       " x_51: 0.0,\n",
       " x_52: 0.0,\n",
       " x_53: 0.0,\n",
       " x_54: 5.0,\n",
       " x_55: 0.0,\n",
       " x_56: 0.0,\n",
       " x_57: 0.0,\n",
       " x_58: 0.0,\n",
       " x_59: 0.0,\n",
       " x_61: 4.4,\n",
       " x_62: 0.0,\n",
       " x_63: 4.4242424,\n",
       " x_64: 0.0,\n",
       " x_65: 0.0,\n",
       " x_66: 0.0,\n",
       " x_67: 0.0,\n",
       " x_68: 0.0,\n",
       " x_69: 1.1757576}"
      ]
     },
     "execution_count": 58,
     "metadata": {},
     "output_type": "execute_result"
    }
   ],
   "source": [
    "print(\"Total Cost:\", model.objective.value())\n",
    "# Decision Variables\n",
    "\n",
    "dicts = {}\n",
    "#keys = range(4)\n",
    "#values = [\"Hi\", \"I\", \"am\", \"John\"]\n",
    "for i in model.variables():\n",
    "    for x in (i.name,i.value()):\n",
    "        dicts[i] = x\n",
    "\n",
    "dicts     "
   ]
  },
  {
   "cell_type": "code",
   "execution_count": 59,
   "metadata": {},
   "outputs": [
    {
     "data": {
      "text/plain": [
       "array([[ 0.        ,  2.        ,  0.        ,  0.        ,  6.6666667 ,\n",
       "         0.        ,  1.3333333 ,  0.        ,  0.        ],\n",
       "       [ 0.        ,  0.        ,  0.        ,  0.        ,  0.        ,\n",
       "         0.        ,  0.        ,  0.56706192,  7.4329381 ],\n",
       "       [ 0.        ,  0.        ,  0.        ,  0.80645161,  0.        ,\n",
       "         3.9677419 ,  7.452381  ,  8.5633729 ,  0.        ],\n",
       "       [ 0.        ,  0.        ,  0.        ,  0.        ,  0.        ,\n",
       "         0.        , 11.        ,  0.        ,  0.        ],\n",
       "       [ 0.        ,  0.        ,  0.        ,  5.        ,  0.        ,\n",
       "         0.        ,  0.        ,  0.        ,  0.        ],\n",
       "       [ 4.4       ,  0.        ,  4.4242424 ,  0.        ,  0.        ,\n",
       "         0.        ,  0.        ,  0.        ,  1.1757576 ]])"
      ]
     },
     "execution_count": 59,
     "metadata": {},
     "output_type": "execute_result"
    }
   ],
   "source": [
    "G = [*dicts.values()]       # Tworzę listę wartości słownika\n",
    "G = np.array(G).reshape(n_warehouses,n_customers)    # Tworzę macierz z tej listy\n",
    "G"
   ]
  },
  {
   "cell_type": "markdown",
   "metadata": {},
   "source": [
    "<span style=\"font-size: 150%;color:black;background:#d9ead3\"> Poziom wejść do odbiorców"
   ]
  },
  {
   "cell_type": "code",
   "execution_count": 60,
   "metadata": {},
   "outputs": [
    {
     "data": {
      "text/plain": [
       "array([220,  90, 146, 220, 300, 123, 277, 210, 198])"
      ]
     },
     "execution_count": 60,
     "metadata": {},
     "output_type": "execute_result"
    }
   ],
   "source": [
    "cust_demands"
   ]
  },
  {
   "cell_type": "code",
   "execution_count": 61,
   "metadata": {},
   "outputs": [],
   "source": [
    "GT = G*cost_efect"
   ]
  },
  {
   "cell_type": "code",
   "execution_count": 62,
   "metadata": {},
   "outputs": [
    {
     "name": "stdout",
     "output_type": "stream",
     "text": [
      "Podsumowanie kolumn macierzy [220.          90.         145.9999992  219.99999991 300.0000015\n",
      " 122.9999989  277.0000002  210.00000086 198.0000011 ]\n"
     ]
    }
   ],
   "source": [
    "print('Podsumowanie kolumn macierzy',np.sum(GT, axis = 0))"
   ]
  },
  {
   "cell_type": "markdown",
   "metadata": {},
   "source": [
    "<span style=\"font-size: 150%;color:black;background:#d9ead3\"> Poziom wyjścia z hurtowni"
   ]
  },
  {
   "cell_type": "code",
   "execution_count": 63,
   "metadata": {},
   "outputs": [
    {
     "name": "stdout",
     "output_type": "stream",
     "text": [
      "Podsumowanie wierszy macierzy [10.          8.00000002 20.78994741 11.          5.         10.        ]\n"
     ]
    }
   ],
   "source": [
    "print('Podsumowanie wierszy macierzy',np.sum(G, axis = 1))"
   ]
  },
  {
   "cell_type": "code",
   "execution_count": 64,
   "metadata": {},
   "outputs": [
    {
     "data": {
      "text/plain": [
       "array([10,  8, 15, 11,  5, 10])"
      ]
     },
     "execution_count": 64,
     "metadata": {},
     "output_type": "execute_result"
    }
   ],
   "source": [
    "warehouse_supply"
   ]
  },
  {
   "cell_type": "code",
   "execution_count": 65,
   "metadata": {},
   "outputs": [
    {
     "data": {
      "text/plain": [
       "Zadanie_88_STR_142BIS:\n",
       "MINIMIZE\n",
       "190*x_11 + 190*x_12 + 190*x_13 + 190*x_14 + 190*x_15 + 190*x_16 + 190*x_17 + 190*x_18 + 190*x_19 + 130*x_21 + 130*x_22 + 130*x_23 + 130*x_24 + 130*x_25 + 130*x_26 + 130*x_27 + 130*x_28 + 130*x_29 + 280*x_31 + 280*x_32 + 280*x_33 + 280*x_34 + 280*x_35 + 280*x_36 + 280*x_37 + 280*x_38 + 280*x_39 + 220*x_41 + 220*x_42 + 220*x_43 + 220*x_44 + 220*x_45 + 220*x_46 + 220*x_47 + 220*x_48 + 220*x_49 + 149*x_51 + 149*x_52 + 149*x_53 + 149*x_54 + 149*x_55 + 149*x_56 + 149*x_57 + 149*x_58 + 149*x_59 + 122*x_61 + 122*x_62 + 122*x_63 + 122*x_64 + 122*x_65 + 122*x_66 + 122*x_67 + 122*x_68 + 122*x_69 + 0\n",
       "SUBJECT TO\n",
       "max_ilości_koparek0: x_11 + x_12 + x_13 + x_14 + x_15 + x_16 + x_17 + x_18\n",
       " + x_19 <= 10\n",
       "\n",
       "max_ilości_koparek1: x_21 + x_22 + x_23 + x_24 + x_25 + x_26 + x_27 + x_28\n",
       " + x_29 <= 8\n",
       "\n",
       "max_ilości_koparek2: x_31 + x_32 + x_33 + x_34 + x_35 + x_36 + x_37 + x_38\n",
       " + x_39 <= 15\n",
       "\n",
       "max_ilości_koparek3: x_41 + x_42 + x_43 + x_44 + x_45 + x_46 + x_47 + x_48\n",
       " + x_49 <= 11\n",
       "\n",
       "max_ilości_koparek4: x_51 + x_52 + x_53 + x_54 + x_55 + x_56 + x_57 + x_58\n",
       " + x_59 <= 5\n",
       "\n",
       "max_ilości_koparek5: x_61 + x_62 + x_63 + x_64 + x_65 + x_66 + x_67 + x_68\n",
       " + x_69 <= 10\n",
       "\n",
       "Minimalny_zakres_prac_0: 30 x_11 + 30 x_21 + 10 x_31 + 12 x_41 + 35 x_51\n",
       " + 50 x_61 >= 220\n",
       "\n",
       "Minimalny_zakres_prac_1: 45 x_12 + 20 x_22 + 42 x_32 + 40 x_42 + 41 x_52\n",
       " + 45 x_62 >= 90\n",
       "\n",
       "Minimalny_zakres_prac_2: 23 x_13 + 25 x_23 + 28 x_33 + 13 x_43 + 13 x_53\n",
       " + 33 x_63 >= 146\n",
       "\n",
       "Minimalny_zakres_prac_3: 30 x_14 + 31 x_24 + 31 x_34 + 30 x_44 + 39 x_54\n",
       " + 30 x_64 >= 220\n",
       "\n",
       "Minimalny_zakres_prac_4: 45 x_15 + 12 x_25 + 25 x_35 + 20 x_45 + 23 x_55\n",
       " + 21 x_65 >= 300\n",
       "\n",
       "Minimalny_zakres_prac_5: 23 x_16 + 16 x_26 + 31 x_36 + 21 x_46 + 30 x_56\n",
       " + 21 x_66 >= 123\n",
       "\n",
       "Minimalny_zakres_prac_6: 14 x_17 + 14 x_27 + 14 x_37 + 14 x_47 + 14 x_57\n",
       " + 14 x_67 >= 277\n",
       "\n",
       "Minimalny_zakres_prac_7: 23 x_18 + 23 x_28 + 23 x_38 + 23 x_48 + 23 x_58\n",
       " + 23 x_68 >= 210\n",
       "\n",
       "Minimalny_zakres_prac_8: 23 x_19 + 23 x_29 + 23 x_39 + 23 x_49 + 23 x_59\n",
       " + 23 x_69 >= 198\n",
       "\n",
       "VARIABLES\n",
       "0 <= x_11 Integer\n",
       "0 <= x_12 Integer\n",
       "0 <= x_13 Integer\n",
       "0 <= x_14 Integer\n",
       "0 <= x_15 Integer\n",
       "0 <= x_16 Integer\n",
       "0 <= x_17 Integer\n",
       "0 <= x_18 Integer\n",
       "0 <= x_19 Integer\n",
       "0 <= x_21 Integer\n",
       "0 <= x_22 Integer\n",
       "0 <= x_23 Integer\n",
       "0 <= x_24 Integer\n",
       "0 <= x_25 Integer\n",
       "0 <= x_26 Integer\n",
       "0 <= x_27 Integer\n",
       "0 <= x_28 Integer\n",
       "0 <= x_29 Integer\n",
       "0 <= x_31 Integer\n",
       "0 <= x_32 Integer\n",
       "0 <= x_33 Integer\n",
       "0 <= x_34 Integer\n",
       "0 <= x_35 Integer\n",
       "0 <= x_36 Integer\n",
       "0 <= x_37 Integer\n",
       "0 <= x_38 Integer\n",
       "0 <= x_39 Integer\n",
       "0 <= x_41 Integer\n",
       "0 <= x_42 Integer\n",
       "0 <= x_43 Integer\n",
       "0 <= x_44 Integer\n",
       "0 <= x_45 Integer\n",
       "0 <= x_46 Integer\n",
       "0 <= x_47 Integer\n",
       "0 <= x_48 Integer\n",
       "0 <= x_49 Integer\n",
       "0 <= x_51 Integer\n",
       "0 <= x_52 Integer\n",
       "0 <= x_53 Integer\n",
       "0 <= x_54 Integer\n",
       "0 <= x_55 Integer\n",
       "0 <= x_56 Integer\n",
       "0 <= x_57 Integer\n",
       "0 <= x_58 Integer\n",
       "0 <= x_59 Integer\n",
       "0 <= x_61 Integer\n",
       "0 <= x_62 Integer\n",
       "0 <= x_63 Integer\n",
       "0 <= x_64 Integer\n",
       "0 <= x_65 Integer\n",
       "0 <= x_66 Integer\n",
       "0 <= x_67 Integer\n",
       "0 <= x_68 Integer\n",
       "0 <= x_69 Integer"
      ]
     },
     "execution_count": 65,
     "metadata": {},
     "output_type": "execute_result"
    }
   ],
   "source": [
    "model"
   ]
  },
  {
   "cell_type": "code",
   "execution_count": null,
   "metadata": {},
   "outputs": [],
   "source": []
  },
  {
   "cell_type": "code",
   "execution_count": null,
   "metadata": {},
   "outputs": [],
   "source": []
  },
  {
   "cell_type": "code",
   "execution_count": null,
   "metadata": {},
   "outputs": [],
   "source": []
  },
  {
   "cell_type": "code",
   "execution_count": null,
   "metadata": {},
   "outputs": [],
   "source": []
  },
  {
   "cell_type": "code",
   "execution_count": null,
   "metadata": {},
   "outputs": [],
   "source": []
  },
  {
   "cell_type": "code",
   "execution_count": null,
   "metadata": {},
   "outputs": [],
   "source": []
  },
  {
   "cell_type": "code",
   "execution_count": null,
   "metadata": {},
   "outputs": [],
   "source": []
  }
 ],
 "metadata": {
  "kernelspec": {
   "display_name": "Python 3",
   "language": "python",
   "name": "python3"
  },
  "language_info": {
   "codemirror_mode": {
    "name": "ipython",
    "version": 3
   },
   "file_extension": ".py",
   "mimetype": "text/x-python",
   "name": "python",
   "nbconvert_exporter": "python",
   "pygments_lexer": "ipython3",
   "version": "3.7.4"
  }
 },
 "nbformat": 4,
 "nbformat_minor": 2
}
