{
 "cells": [
  {
   "cell_type": "markdown",
   "metadata": {},
   "source": [
    "<span style=\"font-size: 250%;color:white;background:green\"> przykład ze internetu #1\n",
    "\n",
    "\n",
    "https://benalexkeen.com/linear-programming-with-python-and-pulp-part-4/\n",
    "\n",
    "<span style=\"font-size: 250%;color:green;background:grey\">Blending Problem"
   ]
  },
  {
   "cell_type": "code",
   "execution_count": 1,
   "metadata": {},
   "outputs": [
    {
     "name": "stdout",
     "output_type": "stream",
     "text": [
      "MACIERZ OGRANICZEŃ I KOSZTÓW SUROWCÓW\n",
      "+-------------+----------------+-----------------+\n",
      "|   środki:   | Koszt (€ / kg) | Dostępność (kg) |\n",
      "+-------------+----------------+-----------------+\n",
      "| Wieprzowina |       1        |        2        |\n",
      "+-------------+----------------+-----------------+\n",
      "|  Przenica   |       2        |        2        |\n",
      "+-------------+----------------+-----------------+\n",
      "|   Skrobia   |       4        |        6        |\n",
      "+-------------+----------------+-----------------+\n"
     ]
    }
   ],
   "source": [
    "from beautifultable import BeautifulTable\n",
    "print(\"MACIERZ OGRANICZEŃ I KOSZTÓW SUROWCÓW\")\n",
    "table = BeautifulTable()\n",
    "table.column_headers = [\"środki:\", \"Koszt (€ / kg)\",\"Dostępność (kg)\"]\n",
    "table.append_row([\"Wieprzowina\", 1, 2 ])\n",
    "table.append_row([\"Przenica\", 2, 2 ])\n",
    "table.append_row([\"Skrobia\",4, 6 ])\n",
    "print(table)"
   ]
  },
  {
   "cell_type": "markdown",
   "metadata": {},
   "source": [
    "Zrobimy 2 rodzaje kiełbas:\n",
    "\n",
    "        Economy (> 40% wieprzowiny)\n",
    "        Premium (> 60% wieprzowiny)\n",
    "        \n",
    "<span style=\"font-size: 110%;color:white;background:gray\">Jedna kiełbasa to 50 gramów (0,05 kg)\n",
    "\n",
    "<span style=\"font-size: 110%;color:white;background:gray\">Zgodnie z przepisami rządowymi najwięcej skrobi, jaką możemy użyć w naszych kiełbasach, to 25%\n",
    "\n",
    "<span style=\"font-size: 110%;color:white;background:gray\">Mamy kontrakt z rzeźnikiem, a już zakupiliśmy 23 kg wieprzowiny, która musi trafić do naszych kiełbas.\n",
    "\n",
    "<span style=\"font-size: 110%;color:white;background:gray\">Mamy zapotrzebowanie na 350 kiełbas ekonomicznych i 500 sztuk premium.\n",
    "    \n",
    "    \n",
    "<span style=\"font-size: 140%;color:green;background:white\">CEL: MINIMALIZACJA KOSZTÓW PRODUKCJI "
   ]
  },
  {
   "cell_type": "markdown",
   "metadata": {},
   "source": [
    "    x11= Kiełbasa wieprzowa ekonomiczna (kg)\n",
    "    x21= Pszenica w kiełbasach ekonomicznych (kg)\n",
    "    smi= Skrobia w kiełbasach ekonomicznych (kg)\n",
    "    pp= Wieprzowina w kiełbasach premium (kg)\n",
    "    wp= Pszenica w kiełbasach premium (kg)\n",
    "    sp= Skrobia w kiełbasach premium (kg)"
   ]
  },
  {
   "cell_type": "markdown",
   "metadata": {},
   "source": [
    "<span style=\"font-size: 200%;color:green;background:white\">Funkcja kosztu \n",
    "    \n",
    "<span style=\"font-size: 100%;color:green;background:white\">CEL: MINIMALIZACJA KOSZTÓW PRODUKCJI\n",
    "\n",
    "Chcemy zminimalizować koszty produkcji"
   ]
  },
  {
   "cell_type": "code",
   "execution_count": 2,
   "metadata": {},
   "outputs": [
    {
     "name": "stdout",
     "output_type": "stream",
     "text": [
      "MACIERZ OGRANICZEŃ I KOSZTÓW SUROWCÓW\n",
      "+-------------+-------------------+---------------+-------------+--------------+\n",
      "|   środki:   | Kiełbasa Ekonomic | Kiełbasa prem | Koszt (€ /  | Dostępność ( |\n",
      "|             |        zna        |      ium      |     kg)     |     kg)      |\n",
      "+-------------+-------------------+---------------+-------------+--------------+\n",
      "| Wieprzowina |        0.4        |      0.6      |    4.32     |      23      |\n",
      "+-------------+-------------------+---------------+-------------+--------------+\n",
      "|  Przenica   |       0.35        |     0.15      |    2.46     |      20      |\n",
      "+-------------+-------------------+---------------+-------------+--------------+\n",
      "|   Skrobia   |       0.25        |     0.25      |    1.86     |      17      |\n",
      "+-------------+-------------------+---------------+-------------+--------------+\n"
     ]
    }
   ],
   "source": [
    "from beautifultable import BeautifulTable\n",
    "print(\"MACIERZ OGRANICZEŃ I KOSZTÓW SUROWCÓW\")\n",
    "table = BeautifulTable()\n",
    "table.column_headers = [\"środki:\", \"Kiełbasa Ekonomiczna\", \"Kiełbasa premium\",\"Koszt (€ / kg)\",\"Dostępność (kg)\"]\n",
    "table.append_row([\"Wieprzowina\",0.40,0.60, 4.32, 23 ])\n",
    "table.append_row([\"Przenica\"   ,0.35,0.15, 2.46, 20 ])\n",
    "table.append_row([\"Skrobia\"    ,0.25,0.25, 1.86, 17 ])\n",
    "print(table)"
   ]
  },
  {
   "cell_type": "markdown",
   "metadata": {},
   "source": [
    "Ponieważ jedna kiełbasa to 0,05 kg"
   ]
  },
  {
   "cell_type": "code",
   "execution_count": 3,
   "metadata": {},
   "outputs": [
    {
     "name": "stdout",
     "output_type": "stream",
     "text": [
      "MACIERZ OGRANICZEŃ I KOSZTÓW SUROWCÓW\n",
      "+-------------+----------------+------------+--------------+-----------------+\n",
      "|   środki:   | K. Ekonomiczna | K. premium | Koszt (€/kg) | Dostępność (kg) |\n",
      "+-------------+----------------+------------+--------------+-----------------+\n",
      "| Wieprzowina |      0.02      |    0.03    |     4.32     |       23        |\n",
      "+-------------+----------------+------------+--------------+-----------------+\n",
      "|  Przenica   |     0.017      |   0.007    |     2.46     |       20        |\n",
      "+-------------+----------------+------------+--------------+-----------------+\n",
      "|   Skrobia   |     0.013      |   0.013    |     1.86     |       17        |\n",
      "+-------------+----------------+------------+--------------+-----------------+\n",
      "| Zamówienie  |      17.5      |    25.0    |              |                 |\n",
      "+-------------+----------------+------------+--------------+-----------------+\n"
     ]
    }
   ],
   "source": [
    "from beautifultable import BeautifulTable\n",
    "print(\"MACIERZ OGRANICZEŃ I KOSZTÓW SUROWCÓW\")\n",
    "table = BeautifulTable()\n",
    "table.column_headers = [\"środki:\", \"K. Ekonomiczna\", \"K. premium\",\"Koszt (€/kg)\",\"Dostępność (kg)\"]\n",
    "table.append_row([\"Wieprzowina\",0.40*0.05,0.60*0.05, 4.32, 23 ])\n",
    "table.append_row([\"Przenica\"   ,0.35*0.05,0.15*0.05, 2.46, 20 ])\n",
    "table.append_row([\"Skrobia\"    ,0.25*0.05,0.25*0.05, 1.86, 17 ])\n",
    "table.append_row([\"Zamówienie\" ,350*0.05 ,   500*0.05, \"\", \"\" ])\n",
    "\n",
    "print(table)"
   ]
  },
  {
   "cell_type": "markdown",
   "metadata": {},
   "source": [
    "<span style=\"font-size: 150%;color:#0000ff\">Krok 1: ZMIENNA DECYZYJNA Czym jest x? </span>\n",
    "\n",
    "wydaje się, że oni nie maja wyboru bo receptura to receptura - jednak mają bo jest co najmniej 40 i 60% wieprzowiny, maksymalnie 25% skrobji\n",
    "Zmiennymi decyzyjnymi jest ilości kg składników w poszczególnych kiełbasch.\n",
    "\n",
    "<span style=\"font-size: 130%;color:#0000ff\"> Krok 2: Co jest w tabeli?</span>\n",
    "\n",
    "ile kilogramów poszczególnych składników wchodzi do poszczegónych kiełbas\n",
    "\n",
    "<span style=\"font-size: 130%;color:#0000ff\"> Krok 3: ograniczenie zmiennych decyzyjnych</span>\n",
    "\n",
    "\n",
    "zmiennymi decyzyjnymi jest tutaj przydział, liczba 1 lub 0. Każda maszyna może produkować tylko jeden detal.\n",
    "\n",
    "#### $\n",
    "\\left\\{\n",
    "\\begin{align} \n",
    "{x_{11}+x_{21}+x_{31}} & = 17.5 & (K. Ekonomiczna)\\\\\n",
    "{x_{12}+x_{22}+x_{32}} & = 25 & (K. Premium)\\\\\n",
    "\\end{align}\n",
    "\\right. \n",
    "$\n",
    "\n",
    "<span style=\"font-size: 130%;color:#0000ff\"> Krok 4: ograniczenie pośrednie - każdy detal może być produkowany  tylko raz </span>\n",
    "\n",
    "#### $\n",
    "\\left\\{\n",
    "\\begin{align} \n",
    "0.4({x_{11}+x_{21}+x_{31}}) & \\geqslant x_{11} & (wieprzowina0.40w-ekonomicznej)\\\\\n",
    "0.6({x_{12}+x_{22}+x_{32}}) & \\geqslant x_{12} & (wieprzowina0.60w-premium)\\\\\n",
    "0.25({x_{11}+x_{21}+x_{31}}) & \\leqslant x_{31} & (skrobia0.25w-ekonomicznej)\\\\\n",
    "0.25({x_{12}+x_{22}+x_{32}}) & \\leqslant x_{32} & (skrobia0.25w-premium)\\\\\n",
    "{x_{11}+x_{12}} & \\leqslant 30 & (mięso)\\\\\n",
    "{x_{21}+x_{22}} & \\leqslant 20 & (przenica)\\\\\n",
    "{x_{31}+x_{32}} & \\leqslant 17 & (skrobia)\\\\\n",
    "\\end{align}\n",
    "\\right. \n",
    "$\n",
    "\n",
    "<span style=\"font-size: 130%;color:#0000ff\"> Krok 5: jaka jest funkcja celu?</span>\n",
    "\n",
    "Zmaksymalizować łaczną wielkość produkcji\n",
    "\n",
    "$\\bbox[5px,border:1px solid red]\n",
    "{\n",
    "\\\\\n",
    "F(x_{i,j})\\\\\n",
    "=4.32(x_{11}+ x_{12})+ 2,46(x_{21}+ x_{22})+ 1.86(x_{31}+ 6x_{32})\n",
    "\\to  max\n",
    "\\qquad \n",
    "} $"
   ]
  },
  {
   "cell_type": "markdown",
   "metadata": {},
   "source": [
    "<span style=\"font-size: 200%;color:white;background:orange\">METODA TRADYCYJNA"
   ]
  },
  {
   "cell_type": "markdown",
   "metadata": {},
   "source": [
    "<span style=\"font-size: 150%;color:black;background:#d9ead3\">Inicjacja modelu\n",
    "    \n",
    "    Tworzę końcówki nazw zmiennych w macierzy zmiennych decyzyjnych"
   ]
  },
  {
   "cell_type": "code",
   "execution_count": 4,
   "metadata": {},
   "outputs": [],
   "source": [
    "import pulp\n",
    "from pulp import *\n",
    "import pandas as pd\n",
    "import numpy as np"
   ]
  },
  {
   "cell_type": "code",
   "execution_count": 5,
   "metadata": {},
   "outputs": [],
   "source": [
    "model = LpProblem(\"Przyklad_z_Internetu_1\", LpMinimize)"
   ]
  },
  {
   "cell_type": "code",
   "execution_count": 6,
   "metadata": {},
   "outputs": [],
   "source": [
    "x11=LpVariable(\"x11\",lowBound=0,upBound=None, cat=\"Integer\")\n",
    "x12=LpVariable(\"x12\",lowBound=0,upBound=None, cat=\"Integer\")\n",
    "\n",
    "x21=LpVariable(\"x21\",lowBound=0,upBound=None, cat=\"Integer\")\n",
    "x22=LpVariable(\"x22\",lowBound=0,upBound=None, cat=\"Integer\")\n",
    "\n",
    "x31=LpVariable(\"x31\",lowBound=0,upBound=None, cat=\"Integer\")\n",
    "x32=LpVariable(\"x32\",lowBound=0,upBound=None, cat=\"Integer\")"
   ]
  },
  {
   "cell_type": "markdown",
   "metadata": {},
   "source": [
    "<span style=\"font-size: 150%;color:black;background:#d9ead3\">Funkcja celu"
   ]
  },
  {
   "cell_type": "markdown",
   "metadata": {},
   "source": [
    "$\n",
    "F(x_{i,j})=4.32(x_{11}+ x_{12})+ 2,46(x_{21}+ x_{22})+ 1.86(x_{31}+ 6x_{32})\n",
    "\\to  min\n",
    "$"
   ]
  },
  {
   "cell_type": "code",
   "execution_count": 7,
   "metadata": {},
   "outputs": [],
   "source": [
    "# objective function\n",
    "model += 4*(x11+x12)+2*(x21+x22)+1.86*(x31+x32), \"Maksymalizacja przychodów\""
   ]
  },
  {
   "cell_type": "markdown",
   "metadata": {},
   "source": [
    "#### $\n",
    "\\left\\{\n",
    "\\begin{align} \n",
    "{x_{11}+x_{21}+x_{31}} & = 17.5 & (K. Ekonomiczna)\\\\\n",
    "{x_{12}+x_{22}+x_{32}} & = 25 & (K. Premium)\\\\\n",
    "\\end{align}\n",
    "\\right. \n",
    "$\n",
    "\n",
    "<span style=\"font-size: 130%;color:#0000ff\"> Krok 4: ograniczenie pośrednie - każdy detal może być produkowany  tylko raz </span>\n",
    "\n",
    "#### $\n",
    "\\left\\{\n",
    "\\begin{align} \n",
    "0.4({x_{11}+x_{21}+x_{31}}) & \\geqslant x_{11} & (wieprzowina0.40w-ekonomicznej)\\\\\n",
    "0.6({x_{12}+x_{22}+x_{32}}) & \\geqslant x_{12} & (wieprzowina0.60w-premium)\\\\\n",
    "0.25({x_{11}+x_{21}+x_{31}}) & \\leqslant x_{31} & (skrobia0.25w-ekonomicznej)\\\\\n",
    "0.25({x_{12}+x_{22}+x_{32}}) & \\leqslant x_{32} & (skrobia0.25w-premium)\\\\\n",
    "{x_{11}+x_{12}} & \\leqslant 30 & (mięso)\\\\\n",
    "{x_{21}+x_{22}} & \\leqslant 20 & (przenica)\\\\\n",
    "{x_{31}+x_{32}} & \\leqslant 17 & (skrobia)\\\\\n",
    "\\end{align}\n",
    "\\right. \n",
    "$\n"
   ]
  },
  {
   "cell_type": "code",
   "execution_count": 11,
   "metadata": {},
   "outputs": [],
   "source": [
    "model += x11+x21+x31 == 17.5\n",
    "model += x12+x22+x32 == 25\n",
    "\n",
    "\n",
    "\n",
    "model += 0.4*(x11+x21+x31)>=x11\n",
    "model += 0.6*(x12+x22+x32)>=x12\n",
    "model += 0.25*(x11+x21+x31)>=x31\n",
    "model += 0.25*(x12+x22+x32)>=x32\n",
    "model += x11+x12<=30\n",
    "model += x21+x22<=20\n",
    "model += x31+x32<=17"
   ]
  },
  {
   "cell_type": "code",
   "execution_count": 12,
   "metadata": {},
   "outputs": [
    {
     "data": {
      "text/plain": [
       "Przyklad_z_Internetu_1:\n",
       "MINIMIZE\n",
       "4*x11 + 4*x12 + 2*x21 + 2*x22 + 1.86*x31 + 1.86*x32 + 0.0\n",
       "SUBJECT TO\n",
       "_C1: - 0.6 x11 + 0.4 x21 + 0.4 x31 >= 0\n",
       "\n",
       "_C2: x11 + x21 + x31 = 17.5\n",
       "\n",
       "_C3: x12 + x22 + x32 = 25\n",
       "\n",
       "_C4: - 0.6 x11 + 0.4 x21 + 0.4 x31 >= 0\n",
       "\n",
       "_C5: - 0.4 x12 + 0.6 x22 + 0.6 x32 >= 0\n",
       "\n",
       "_C6: 0.25 x11 + 0.25 x21 - 0.75 x31 >= 0\n",
       "\n",
       "_C7: 0.25 x12 + 0.25 x22 - 0.75 x32 >= 0\n",
       "\n",
       "_C8: x11 + x12 <= 30\n",
       "\n",
       "_C9: x21 + x22 <= 20\n",
       "\n",
       "_C10: x31 + x32 <= 17\n",
       "\n",
       "VARIABLES\n",
       "0 <= x11 Integer\n",
       "0 <= x12 Integer\n",
       "0 <= x21 Integer\n",
       "0 <= x22 Integer\n",
       "0 <= x31 Integer\n",
       "0 <= x32 Integer"
      ]
     },
     "execution_count": 12,
     "metadata": {},
     "output_type": "execute_result"
    }
   ],
   "source": [
    "model"
   ]
  },
  {
   "cell_type": "code",
   "execution_count": 14,
   "metadata": {},
   "outputs": [
    {
     "name": "stdout",
     "output_type": "stream",
     "text": [
      "prob.solve -1\n",
      "Status: Infeasible\n"
     ]
    }
   ],
   "source": [
    "print(\"prob.solve\",model.solve())\n",
    "# status of the solution\n",
    "print(f\"Status: {LpStatus[model.status]}\")"
   ]
  },
  {
   "cell_type": "code",
   "execution_count": 17,
   "metadata": {},
   "outputs": [
    {
     "name": "stdout",
     "output_type": "stream",
     "text": [
      "x11 = 7\n",
      "x12 = 39/8\n",
      "x21 = 49/8\n",
      "x22 = 111/8\n",
      "x31 = 35/8\n",
      "x32 = 25/4\n"
     ]
    }
   ],
   "source": [
    "from fractions import Fraction\n",
    "\n",
    "\n",
    "for v in model.variables():\n",
    "    print(f\"{v.name} = {str(Fraction(v.varValue).limit_denominator())}\")"
   ]
  },
  {
   "cell_type": "code",
   "execution_count": 19,
   "metadata": {},
   "outputs": [
    {
     "name": "stdout",
     "output_type": "stream",
     "text": [
      "min (xij) = 8581/80\n"
     ]
    }
   ],
   "source": [
    "# maximum value of the objective function\n",
    "print(f\"min (xij) = {str(Fraction(value(model.objective)).limit_denominator())}\")"
   ]
  },
  {
   "cell_type": "code",
   "execution_count": 30,
   "metadata": {},
   "outputs": [
    {
     "name": "stdout",
     "output_type": "stream",
     "text": [
      "odpowiedź:\n",
      "Ilość wieprzowiny w kiełbasie ekon. w kg: 7\n",
      "Ilość przenicy w kiełbasie ekon w kg:     4.875\n",
      "Ilość skrobi w kiełbasie ekon w kg:       6.125\n",
      "Ilość mięsa w kiełbasie premium w kg:     13.875\n",
      "Ilość przenicy w kiełbasie premium w kg:  4.375\n",
      "Ilość skrobi w kiełbasie premium w kg:    3.125\n",
      "------------------------------------------------------\n",
      "Minimalna cena produkcji kiełbas w EURO:  107.2625\n"
     ]
    }
   ],
   "source": [
    "print('odpowiedź:')\n",
    "print(\"Ilość wieprzowiny w kiełbasie ekon. w kg:\", 7)    \n",
    "print(\"Ilość przenicy w kiełbasie ekon w kg:    \",39/8)\n",
    "print(\"Ilość skrobi w kiełbasie ekon w kg:      \",49/8)\n",
    "print(\"Ilość mięsa w kiełbasie premium w kg:    \",111/8)\n",
    "print(\"Ilość przenicy w kiełbasie premium w kg: \",35/8)\n",
    "print(\"Ilość skrobi w kiełbasie premium w kg:   \",25/8)\n",
    "print(\"------------------------------------------------------\")\n",
    "print(\"Minimalna cena produkcji kiełbas w EURO: \",8581/80)"
   ]
  },
  {
   "cell_type": "code",
   "execution_count": 31,
   "metadata": {},
   "outputs": [
    {
     "name": "stdout",
     "output_type": "stream",
     "text": [
      "MACIERZ OGRANICZEŃ I KOSZTÓW SUROWCÓW\n",
      "+-------------+----------------+------------+--------------+-----------------+\n",
      "|   środki:   | K. Ekonomiczna | K. premium | Koszt (€/kg) | Dostępność (kg) |\n",
      "+-------------+----------------+------------+--------------+-----------------+\n",
      "| Wieprzowina |      0.02      |    0.03    |     4.32     |       23        |\n",
      "+-------------+----------------+------------+--------------+-----------------+\n",
      "|  Przenica   |     0.017      |   0.007    |     2.46     |       20        |\n",
      "+-------------+----------------+------------+--------------+-----------------+\n",
      "|   Skrobia   |     0.013      |   0.013    |     1.86     |       17        |\n",
      "+-------------+----------------+------------+--------------+-----------------+\n",
      "| Zamówienie  |      17.5      |    25.0    |              |                 |\n",
      "+-------------+----------------+------------+--------------+-----------------+\n"
     ]
    }
   ],
   "source": [
    "from beautifultable import BeautifulTable\n",
    "print(\"MACIERZ OGRANICZEŃ I KOSZTÓW SUROWCÓW\")\n",
    "table = BeautifulTable()\n",
    "table.column_headers = [\"środki:\", \"K. Ekonomiczna\", \"K. premium\",\"Koszt (€/kg)\",\"Dostępność (kg)\"]\n",
    "table.append_row([\"Wieprzowina\",0.40*0.05,0.60*0.05, 4.32, 23 ])\n",
    "table.append_row([\"Przenica\"   ,0.35*0.05,0.15*0.05, 2.46, 20 ])\n",
    "table.append_row([\"Skrobia\"    ,0.25*0.05,0.25*0.05, 1.86, 17 ])\n",
    "table.append_row([\"Zamówienie\" ,350*0.05 ,   500*0.05, \"\", \"\" ])\n",
    "\n",
    "print(table)"
   ]
  },
  {
   "cell_type": "code",
   "execution_count": 33,
   "metadata": {},
   "outputs": [
    {
     "name": "stdout",
     "output_type": "stream",
     "text": [
      "Ilość kiełbasy ekonomicznej w kg: 18.0\n",
      "Ilość kiełbasy premium w kg: 21.375\n"
     ]
    }
   ],
   "source": [
    "print(\"Ilość kiełbasy ekonomicznej w kg:\", 7+39/8+49/8)    \n",
    "print(\"Ilość kiełbasy premium w kg:\", 111/8+35/8+25/8) "
   ]
  },
  {
   "cell_type": "code",
   "execution_count": 34,
   "metadata": {},
   "outputs": [
    {
     "data": {
      "text/plain": [
       "Przyklad_z_Internetu_1:\n",
       "MINIMIZE\n",
       "4*x11 + 4*x12 + 2*x21 + 2*x22 + 1.86*x31 + 1.86*x32 + 0.0\n",
       "SUBJECT TO\n",
       "_C1: - 0.6 x11 + 0.4 x21 + 0.4 x31 >= 0\n",
       "\n",
       "_C2: x11 + x21 + x31 = 17.5\n",
       "\n",
       "_C3: x12 + x22 + x32 = 25\n",
       "\n",
       "_C4: - 0.6 x11 + 0.4 x21 + 0.4 x31 >= 0\n",
       "\n",
       "_C5: - 0.4 x12 + 0.6 x22 + 0.6 x32 >= 0\n",
       "\n",
       "_C6: 0.25 x11 + 0.25 x21 - 0.75 x31 >= 0\n",
       "\n",
       "_C7: 0.25 x12 + 0.25 x22 - 0.75 x32 >= 0\n",
       "\n",
       "_C8: x11 + x12 <= 30\n",
       "\n",
       "_C9: x21 + x22 <= 20\n",
       "\n",
       "_C10: x31 + x32 <= 17\n",
       "\n",
       "VARIABLES\n",
       "0 <= x11 Integer\n",
       "0 <= x12 Integer\n",
       "0 <= x21 Integer\n",
       "0 <= x22 Integer\n",
       "0 <= x31 Integer\n",
       "0 <= x32 Integer"
      ]
     },
     "execution_count": 34,
     "metadata": {},
     "output_type": "execute_result"
    }
   ],
   "source": [
    "model"
   ]
  },
  {
   "cell_type": "code",
   "execution_count": null,
   "metadata": {},
   "outputs": [],
   "source": []
  }
 ],
 "metadata": {
  "kernelspec": {
   "display_name": "Python 3",
   "language": "python",
   "name": "python3"
  },
  "language_info": {
   "codemirror_mode": {
    "name": "ipython",
    "version": 3
   },
   "file_extension": ".py",
   "mimetype": "text/x-python",
   "name": "python",
   "nbconvert_exporter": "python",
   "pygments_lexer": "ipython3",
   "version": "3.7.4"
  }
 },
 "nbformat": 4,
 "nbformat_minor": 2
}
