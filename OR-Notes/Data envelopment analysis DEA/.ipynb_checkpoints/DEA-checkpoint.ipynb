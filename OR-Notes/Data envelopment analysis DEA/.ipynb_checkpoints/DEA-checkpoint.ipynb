{
 "cells": [
  {
   "cell_type": "code",
   "execution_count": null,
   "metadata": {},
   "outputs": [],
   "source": [
    "http://people.brunel.ac.uk/~mastjjb/jeb/or/dea.html"
   ]
  },
  {
   "cell_type": "code",
   "execution_count": 4,
   "metadata": {},
   "outputs": [
    {
     "name": "stdout",
     "output_type": "stream",
     "text": [
      "+---------+---------------------+----------------------+----------+\n",
      "|  Bank   | Transakcje osobiste | Transakcje biznesowe | Personel |\n",
      "+---------+---------------------+----------------------+----------+\n",
      "| Croydon |         125         |          50          |    18    |\n",
      "+---------+---------------------+----------------------+----------+\n",
      "| Dorking |         44          |          20          |    16    |\n",
      "+---------+---------------------+----------------------+----------+\n",
      "| Redhill |         80          |          55          |    17    |\n",
      "+---------+---------------------+----------------------+----------+\n",
      "| Reigate |         23          |          12          |    11    |\n",
      "+---------+---------------------+----------------------+----------+\n"
     ]
    }
   ],
   "source": [
    "from beautifultable import BeautifulTable\n",
    "\n",
    "table = BeautifulTable()\n",
    "table.column_headers = [\"Bank\",\"Transakcje osobiste\" ,\"Transakcje biznesowe\"\n",
    ", \"Personel\"]\n",
    "table.append_row([\"Croydon\",    125,   50,     18 ])\n",
    "table.append_row([\"Dorking\",    44,    20,     16 ])\n",
    "table.append_row([\"Redhill\",    80,    55,     17 ])\n",
    "table.append_row([\"Reigate\",    23,    12,     11 ])\n",
    "print(table)"
   ]
  },
  {
   "cell_type": "markdown",
   "metadata": {},
   "source": []
  },
  {
   "cell_type": "code",
   "execution_count": null,
   "metadata": {},
   "outputs": [],
   "source": []
  },
  {
   "cell_type": "code",
   "execution_count": null,
   "metadata": {},
   "outputs": [],
   "source": []
  },
  {
   "cell_type": "code",
   "execution_count": null,
   "metadata": {},
   "outputs": [],
   "source": []
  },
  {
   "cell_type": "code",
   "execution_count": null,
   "metadata": {},
   "outputs": [],
   "source": []
  }
 ],
 "metadata": {
  "kernelspec": {
   "display_name": "Python 3",
   "language": "python",
   "name": "python3"
  },
  "language_info": {
   "codemirror_mode": {
    "name": "ipython",
    "version": 3
   },
   "file_extension": ".py",
   "mimetype": "text/x-python",
   "name": "python",
   "nbconvert_exporter": "python",
   "pygments_lexer": "ipython3",
   "version": "3.7.4"
  }
 },
 "nbformat": 4,
 "nbformat_minor": 2
}
