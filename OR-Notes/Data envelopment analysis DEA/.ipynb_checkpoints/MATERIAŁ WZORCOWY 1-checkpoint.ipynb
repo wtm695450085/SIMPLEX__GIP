{
 "cells": [
  {
   "cell_type": "markdown",
   "metadata": {},
   "source": [
    "<span style=\"font-size: 150%;color:white;background:red\"> MATERIAŁ WZORCOWY\n",
    "\n",
    "<span style=\"font-size: 160%;color:#0000ff\"> OCENA WYDAJNOŚCI PRACY PRACOWNIKÓW BANKU ZA POMOCĄ METODY DEA"
   ]
  },
  {
   "cell_type": "markdown",
   "metadata": {},
   "source": [
    "<span style=\"font-size: 150%;color:white;background:#1155cc\"> Data envelopment analysis (DEA)\n",
    "    \n",
    "Envelopment analiza danych (DEA), czasami nazywany analiza granica została po raz pierwszy przedstawiona przez Charnes, Cooper i Rodos w roku 1978. Jest to technika pomiaru wydajności, które, jak się przekonamy, może być stosowany do oceny względnej skuteczności w procesie decyzyjnym jednostek ( DMU ) w organizacjach. W tym przypadku DMU jest odrębną jednostką w organizacji, która ma elastyczność w odniesieniu do niektórych decyzji, które podejmuje, ale niekoniecznie pełną swobodę w odniesieniu do tych decyzji.\n",
    "\n",
    "Przykładami takich jednostek, do których zastosowano DEA, są: banki, posterunki policji, szpitale, urzędy skarbowe, więzienia, bazy obronne (wojsko, marynarka wojenna, siły powietrzne), szkoły i wydziały uniwersyteckie. Należy zauważyć, że jedną z zalet DEA jest to, że można go zastosować do organizacji non-profit.\n",
    "\n",
    "Od czasu pierwszego zaproponowania tej techniki wykonano wiele prac teoretycznych i empirycznych. Opublikowano wiele badań dotyczących stosowania DEA w rzeczywistych sytuacjach. Oczywiście niepublikowanych opracowań jest znacznie więcej, np. Wykonanych wewnętrznie przez firmy lub konsultantów zewnętrznych.\n",
    "\n",
    "Na początku zilustrujemy DEA na małym przykładzie. Więcej o DEA można znaleźć tutaj . Zwróć uwagę, że wiele z tego, co zobaczysz poniżej, to graficzne (obrazowe) podejście do DEA. Jest to bardzo przydatne, jeśli próbujesz wyjaśnić DEA osobom mniej wykwalifikowanym technicznie (takim jak wielu, których możesz spotkać w świecie zarządzania). Istnieje jednak matematyczne podejście do DEA, które można jednak przyjąć - zostanie to zilustrowane poniżej."
   ]
  },
  {
   "cell_type": "markdown",
   "metadata": {},
   "source": [
    "http://people.brunel.ac.uk/~mastjjb/jeb/or/dea.html\n",
    "\n",
    "Zadanie polega na tym, że analizuje się wydajność personelu pracującego w banku, wymyślono różne wskaźniki m.in. wskażnik ilości operacji bankowych na pracownika itp. \n",
    "\n",
    "<span style=\"font-size: 130%;color:#0000ff\"> Jednym z problemów związanych z porównaniem za pomocą współczynników jest to, że różne współczynniki mogą dać inny obraz i trudno jest połączyć cały zestaw współczynników w jedną ocenę liczbową.\n",
    "    \n",
    "Na przykład rozważmy Dorking i Reigate - Dorking jest (2,75 / 2,09) = 1,32 razy skuteczniejszy niż Reigate w transakcjach osobistych, ale tylko (1,25 / 1,09) = 1,15 razy skuteczniejszy w transakcjach biznesowych. Jak połączyć te liczby w jedą ocenę?\n",
    "Problem zacznie się gdy takich wskaźników dodamy jeszcze 5 czy 8. Jak wtedy ocenić? Przez średnią? \n",
    "\n",
    "<span style=\"font-size: 130%;color:#0000ff\"> Graficznie w artykule mu wyszedł taki ranking:\n",
    "\n",
    " 1. Croydon 100%\n",
    " 2. Dorking 43%\n",
    " 3. Redhill 100%\n",
    " 4. Reigate 36%"
   ]
  },
  {
   "cell_type": "code",
   "execution_count": 1,
   "metadata": {},
   "outputs": [
    {
     "name": "stdout",
     "output_type": "stream",
     "text": [
      "+---------+---------------------+----------------------+----------+\n",
      "|  Bank   | Transakcje osobiste | Transakcje biznesowe | Personel |\n",
      "+---------+---------------------+----------------------+----------+\n",
      "| Croydon |         125         |          50          |    18    |\n",
      "+---------+---------------------+----------------------+----------+\n",
      "| Dorking |         44          |          20          |    16    |\n",
      "+---------+---------------------+----------------------+----------+\n",
      "| Redhill |         80          |          55          |    17    |\n",
      "+---------+---------------------+----------------------+----------+\n",
      "| Reigate |         23          |          12          |    11    |\n",
      "+---------+---------------------+----------------------+----------+\n"
     ]
    }
   ],
   "source": [
    "from beautifultable import BeautifulTable\n",
    "\n",
    "table = BeautifulTable()\n",
    "table.column_headers = [\"Bank\",\"Transakcje osobiste\" ,\"Transakcje biznesowe\"\n",
    ", \"Personel\"]\n",
    "table.append_row([\"Croydon\",    125,   50,     18 ])\n",
    "table.append_row([\"Dorking\",    44,    20,     16 ])\n",
    "table.append_row([\"Redhill\",    80,    55,     17 ])\n",
    "table.append_row([\"Reigate\",    23,    12,     11 ])\n",
    "print(table)"
   ]
  },
  {
   "cell_type": "markdown",
   "metadata": {},
   "source": [
    "Obliczam dla każdego oddziału banku oddzielnie programowanie liniowe\n",
    "\n",
    "<span style=\"font-size: 230%;color:#0000ff\"> Croydon"
   ]
  },
  {
   "cell_type": "code",
   "execution_count": 2,
   "metadata": {},
   "outputs": [],
   "source": [
    "from pulp import *\n",
    "from fractions import Fraction\n",
    "\n",
    "# zdefiniowanie problemu- to jest taka platforma do wrzucania na nia wszystkiego\n",
    "\n",
    "prob = LpProblem(\"DEA_Croydon\",LpMaximize)"
   ]
  },
  {
   "cell_type": "code",
   "execution_count": 3,
   "metadata": {},
   "outputs": [],
   "source": [
    "# \"Continuous\"\n",
    "# \"Integer\"\n",
    "\n",
    "x1=LpVariable(\"x1\",lowBound=0,upBound=None, cat=\"Integer\")\n",
    "x2=LpVariable(\"x2\",lowBound=0,upBound=None, cat=\"Integer\")\n",
    "x3=LpVariable(\"x3\",lowBound=0,upBound=None, cat=\"Integer\")"
   ]
  },
  {
   "cell_type": "markdown",
   "metadata": {},
   "source": [
    "<span style=\"font-size: 130%;color:#0000ff\"> FUNKCJA CELU\n",
    "\n",
    "<span style=\"font-size: 130%;color:#0000ff\">$ {125x_{1}} + 50x_{2} \\to max$\n",
    "\n",
    "przy warunku, że dla Croydon:\n",
    "\n",
    "<span style=\"font-size: 130%;color:black\">$18x_{3}=1$"
   ]
  },
  {
   "cell_type": "code",
   "execution_count": 4,
   "metadata": {},
   "outputs": [],
   "source": [
    "# objective function\n",
    "prob += 125*x1 + 50*x2, \"Maksymalizacja zysków\""
   ]
  },
  {
   "cell_type": "code",
   "execution_count": 5,
   "metadata": {},
   "outputs": [
    {
     "name": "stdout",
     "output_type": "stream",
     "text": [
      "DEA_Croydon:\n",
      "MAXIMIZE\n",
      "125*x1 + 50*x2 + 0\n",
      "VARIABLES\n",
      "0 <= x1 Integer\n",
      "0 <= x2 Integer\n",
      "\n"
     ]
    }
   ],
   "source": [
    "print(prob)"
   ]
  },
  {
   "cell_type": "markdown",
   "metadata": {},
   "source": [
    "##### $\n",
    "\\left\\{\n",
    "\\begin{align} \n",
    "({125x_{1}} + 50x_{2})-18x_{3} & \\leqslant 0& (1)\\\\\n",
    "({44x_{1}} + 20x_{2})-16x_{3} & \\leqslant 0& (2)\\\\\n",
    "({80x_{1}} + 55x_{2})-17x_{3} & \\leqslant 0& (3)\\\\\n",
    "({23x_{1}} + 12x_{2})-11x_{3} & \\leqslant 0& (4)\\\\\n",
    "\\end{align}\n",
    "\\right. \n",
    "$\n",
    "Warunki znakowe:\n",
    "#### $\n",
    "\\left\\{\n",
    "\\begin{align} \n",
    "{x_{1}} & \\geqslant 0& (5)\\\\\n",
    "{x_{2}} & \\geqslant 0& (6)\\\\\n",
    "{x_{3}} & \\geqslant 0& (7)\\\\\n",
    "\\end{align}\n",
    "\\right. \n",
    "$\n",
    "\n",
    "$18x_{3}=1$              (8)"
   ]
  },
  {
   "cell_type": "code",
   "execution_count": 6,
   "metadata": {},
   "outputs": [],
   "source": [
    "# main constraints\n",
    "prob += (125*x1+50*x2)-18*x3 <= 0\n",
    "prob += (44*x1+20*x2)-16*x3 <= 0\n",
    "prob += (80*x1+55*x2)-17*x3 <= 0\n",
    "prob += (23*x1+12*x2)-11*x3 <= 0\n",
    "prob += 18*x3 == 1"
   ]
  },
  {
   "cell_type": "code",
   "execution_count": 7,
   "metadata": {},
   "outputs": [
    {
     "name": "stdout",
     "output_type": "stream",
     "text": [
      "DEA_Croydon:\n",
      "MAXIMIZE\n",
      "125*x1 + 50*x2 + 0\n",
      "SUBJECT TO\n",
      "_C1: 125 x1 + 50 x2 - 18 x3 <= 0\n",
      "\n",
      "_C2: 44 x1 + 20 x2 - 16 x3 <= 0\n",
      "\n",
      "_C3: 80 x1 + 55 x2 - 17 x3 <= 0\n",
      "\n",
      "_C4: 23 x1 + 12 x2 - 11 x3 <= 0\n",
      "\n",
      "_C5: 18 x3 = 1\n",
      "\n",
      "VARIABLES\n",
      "0 <= x1 Integer\n",
      "0 <= x2 Integer\n",
      "0 <= x3 Integer\n",
      "\n"
     ]
    }
   ],
   "source": [
    "print(prob)"
   ]
  },
  {
   "cell_type": "markdown",
   "metadata": {},
   "source": [
    "### Rozwiązanie problemu"
   ]
  },
  {
   "cell_type": "code",
   "execution_count": 8,
   "metadata": {},
   "outputs": [
    {
     "name": "stdout",
     "output_type": "stream",
     "text": [
      "prob.solve -1\n",
      "Status: Infeasible\n"
     ]
    }
   ],
   "source": [
    "print(\"prob.solve\",prob.solve())\n",
    "# status of the solution\n",
    "print(f\"Status: {LpStatus[prob.status]}\")"
   ]
  },
  {
   "cell_type": "code",
   "execution_count": 9,
   "metadata": {},
   "outputs": [
    {
     "name": "stdout",
     "output_type": "stream",
     "text": [
      "x1 = 1/125\n",
      "x2 = 0\n",
      "x3 = 1/18\n"
     ]
    }
   ],
   "source": [
    "for v in prob.variables():\n",
    "    print(f\"{v.name} = {str(Fraction(v.varValue).limit_denominator())}\")\n"
   ]
  },
  {
   "cell_type": "code",
   "execution_count": 10,
   "metadata": {},
   "outputs": [
    {
     "data": {
      "text/plain": [
       "0.008"
      ]
     },
     "execution_count": 10,
     "metadata": {},
     "output_type": "execute_result"
    }
   ],
   "source": [
    "1/125"
   ]
  },
  {
   "cell_type": "code",
   "execution_count": 11,
   "metadata": {},
   "outputs": [
    {
     "data": {
      "text/plain": [
       "0.05555555555555555"
      ]
     },
     "execution_count": 11,
     "metadata": {},
     "output_type": "execute_result"
    }
   ],
   "source": [
    "1/18"
   ]
  },
  {
   "cell_type": "code",
   "execution_count": 12,
   "metadata": {},
   "outputs": [
    {
     "data": {
      "text/plain": [
       "1.0"
      ]
     },
     "execution_count": 12,
     "metadata": {},
     "output_type": "execute_result"
    }
   ],
   "source": [
    "(125*(1/125)+50*(0))/(18*(1/18))"
   ]
  },
  {
   "cell_type": "markdown",
   "metadata": {},
   "source": [
    "Ocena Croydon jest bardzo dobra, 100%"
   ]
  },
  {
   "cell_type": "markdown",
   "metadata": {},
   "source": [
    "Graficznie w artykule mu wyszedł taki ranking:\n",
    "\n",
    " 1. Croydon 100%\n",
    " 2. Dorking 43%\n",
    " 3. Redhill 100%\n",
    " 4. Reigate 36%"
   ]
  },
  {
   "cell_type": "markdown",
   "metadata": {},
   "source": [
    "<span style=\"font-size: 230%;color:#0000ff\"> Dorking"
   ]
  },
  {
   "cell_type": "code",
   "execution_count": 13,
   "metadata": {},
   "outputs": [],
   "source": [
    "from pulp import *\n",
    "from fractions import Fraction\n",
    "\n",
    "# zdefiniowanie problemu- to jest taka platforma do wrzucania na nia wszystkiego\n",
    "\n",
    "prob = LpProblem(\"DEA_Dorking\",LpMaximize)"
   ]
  },
  {
   "cell_type": "code",
   "execution_count": 14,
   "metadata": {},
   "outputs": [],
   "source": [
    "# \"Continuous\"\n",
    "# \"Integer\"\n",
    "\n",
    "x1=LpVariable(\"x1\",lowBound=0,upBound=None, cat=\"Integer\")\n",
    "x2=LpVariable(\"x2\",lowBound=0,upBound=None, cat=\"Integer\")\n",
    "x3=LpVariable(\"x3\",lowBound=0,upBound=None, cat=\"Integer\")"
   ]
  },
  {
   "cell_type": "markdown",
   "metadata": {},
   "source": [
    "<span style=\"font-size: 130%;color:#0000ff\"> FUNKCJA CELU\n",
    "\n",
    "<span style=\"font-size: 130%;color:#0000ff\">$ {44x_{1}} + 20x_{2} \\to max$\n",
    "    \n",
    "gdzie dla Dorking:\n",
    "\n",
    "$17x_{3}=1$"
   ]
  },
  {
   "cell_type": "code",
   "execution_count": 15,
   "metadata": {},
   "outputs": [],
   "source": [
    "# objective function\n",
    "prob += 44*x1 + 20*x2, \"Maksymalizacja zysków\""
   ]
  },
  {
   "cell_type": "code",
   "execution_count": 16,
   "metadata": {},
   "outputs": [
    {
     "name": "stdout",
     "output_type": "stream",
     "text": [
      "DEA_Dorking:\n",
      "MAXIMIZE\n",
      "44*x1 + 20*x2 + 0\n",
      "VARIABLES\n",
      "0 <= x1 Integer\n",
      "0 <= x2 Integer\n",
      "\n"
     ]
    }
   ],
   "source": [
    "print(prob)"
   ]
  },
  {
   "cell_type": "markdown",
   "metadata": {},
   "source": [
    "#### $\n",
    "\\left\\{\n",
    "\\begin{align} \n",
    "({125x_{1}} + 50x_{2})-18x_{3} & \\leqslant 0& (1)\\\\\n",
    "({44x_{1}} + 20x_{2})-16x_{3} & \\leqslant 0& (1)\\\\\n",
    "({80x_{1}} + 55x_{2})-17x_{3} & \\leqslant 0& (1)\\\\\n",
    "({23x_{1}} + 12x_{2})-11x_{3} & \\leqslant 0& (1)\\\\\n",
    "\\end{align}\n",
    "\\right. \n",
    "$\n",
    "\n",
    "#### $\n",
    "\\left\\{\n",
    "\\begin{align} \n",
    "{x_{1}} & \\geqslant 0& (1)\\\\\n",
    "{x_{2}} & \\geqslant 0& (2)\\\\\n",
    "{x_{3}} & \\geqslant 0& (3)\\\\\n",
    "\\end{align}\n",
    "\\right. \n",
    "$\n",
    "\n",
    "$16x_{3}=1$"
   ]
  },
  {
   "cell_type": "code",
   "execution_count": 17,
   "metadata": {},
   "outputs": [],
   "source": [
    "# main constraints\n",
    "prob += (125*x1+50*x2)-18*x3 <= 0\n",
    "prob += (44*x1+20*x2)-16*x3 <= 0\n",
    "prob += (80*x1+55*x2)-17*x3 <= 0\n",
    "prob += (23*x1+12*x2)-11*x3 <= 0\n",
    "prob += 16*x3 == 1"
   ]
  },
  {
   "cell_type": "code",
   "execution_count": 18,
   "metadata": {},
   "outputs": [
    {
     "name": "stdout",
     "output_type": "stream",
     "text": [
      "DEA_Dorking:\n",
      "MAXIMIZE\n",
      "44*x1 + 20*x2 + 0\n",
      "SUBJECT TO\n",
      "_C1: 125 x1 + 50 x2 - 18 x3 <= 0\n",
      "\n",
      "_C2: 44 x1 + 20 x2 - 16 x3 <= 0\n",
      "\n",
      "_C3: 80 x1 + 55 x2 - 17 x3 <= 0\n",
      "\n",
      "_C4: 23 x1 + 12 x2 - 11 x3 <= 0\n",
      "\n",
      "_C5: 16 x3 = 1\n",
      "\n",
      "VARIABLES\n",
      "0 <= x1 Integer\n",
      "0 <= x2 Integer\n",
      "0 <= x3 Integer\n",
      "\n"
     ]
    }
   ],
   "source": [
    "print(prob)"
   ]
  },
  {
   "cell_type": "markdown",
   "metadata": {},
   "source": [
    "### Rozwiązanie problemu"
   ]
  },
  {
   "cell_type": "code",
   "execution_count": 19,
   "metadata": {},
   "outputs": [
    {
     "name": "stdout",
     "output_type": "stream",
     "text": [
      "prob.solve -1\n",
      "Status: Infeasible\n"
     ]
    }
   ],
   "source": [
    "print(\"prob.solve\",prob.solve())\n",
    "# status of the solution\n",
    "print(f\"Status: {LpStatus[prob.status]}\")"
   ]
  },
  {
   "cell_type": "code",
   "execution_count": 20,
   "metadata": {},
   "outputs": [
    {
     "name": "stdout",
     "output_type": "stream",
     "text": [
      "x1 = 7/2300\n",
      "x2 = 4671/313673\n",
      "x3 = 1/16\n"
     ]
    }
   ],
   "source": [
    "for v in prob.variables():\n",
    "    print(f\"{v.name} = {str(Fraction(v.varValue).limit_denominator())}\")\n"
   ]
  },
  {
   "cell_type": "code",
   "execution_count": 21,
   "metadata": {},
   "outputs": [],
   "source": [
    "x1 = 7/2300\n",
    "x2 = 4671/313673\n",
    "x3 = 1/16"
   ]
  },
  {
   "cell_type": "markdown",
   "metadata": {},
   "source": [
    "$({44x_{1}} + 20x_{2})/16x_{3}$"
   ]
  },
  {
   "cell_type": "code",
   "execution_count": 22,
   "metadata": {},
   "outputs": [
    {
     "data": {
      "text/plain": [
       "0.43173912350427524"
      ]
     },
     "execution_count": 22,
     "metadata": {},
     "output_type": "execute_result"
    }
   ],
   "source": [
    "(44*x1+20*x2)/(16*x3)"
   ]
  },
  {
   "cell_type": "markdown",
   "metadata": {},
   "source": [
    "Dorking jest słaby, 43%"
   ]
  },
  {
   "cell_type": "markdown",
   "metadata": {},
   "source": [
    "<span style=\"font-size: 130%;color:#0000ff\"> Graficznie w artykule mu wyszedł taki ranking:\n",
    "\n",
    " 1. Croydon 100%\n",
    " 2. Dorking 43%\n",
    " 3. Redhill 100%\n",
    " 4. Reigate 36%"
   ]
  },
  {
   "cell_type": "markdown",
   "metadata": {},
   "source": [
    "<span style=\"font-size: 230%;color:#0000ff\"> Redhill"
   ]
  },
  {
   "cell_type": "code",
   "execution_count": 23,
   "metadata": {},
   "outputs": [
    {
     "name": "stdout",
     "output_type": "stream",
     "text": [
      "+---------+---------------------+----------------------+----------+\n",
      "|  Bank   | Transakcje osobiste | Transakcje biznesowe | Personel |\n",
      "+---------+---------------------+----------------------+----------+\n",
      "| Croydon |         125         |          50          |    18    |\n",
      "+---------+---------------------+----------------------+----------+\n",
      "| Dorking |         44          |          20          |    16    |\n",
      "+---------+---------------------+----------------------+----------+\n",
      "| Redhill |         80          |          55          |    17    |\n",
      "+---------+---------------------+----------------------+----------+\n",
      "| Reigate |         23          |          12          |    11    |\n",
      "+---------+---------------------+----------------------+----------+\n"
     ]
    }
   ],
   "source": [
    "from beautifultable import BeautifulTable\n",
    "\n",
    "table = BeautifulTable()\n",
    "table.column_headers = [\"Bank\",\"Transakcje osobiste\" ,\"Transakcje biznesowe\"\n",
    ", \"Personel\"]\n",
    "table.append_row([\"Croydon\",    125,   50,     18 ])\n",
    "table.append_row([\"Dorking\",    44,    20,     16 ])\n",
    "table.append_row([\"Redhill\",    80,    55,     17 ])\n",
    "table.append_row([\"Reigate\",    23,    12,     11 ])\n",
    "print(table)"
   ]
  },
  {
   "cell_type": "code",
   "execution_count": 24,
   "metadata": {},
   "outputs": [],
   "source": [
    "from pulp import *\n",
    "from fractions import Fraction\n",
    "\n",
    "# zdefiniowanie problemu- to jest taka platforma do wrzucania na nia wszystkiego\n",
    "\n",
    "prob = LpProblem(\"DEA_Redhill\",LpMaximize)"
   ]
  },
  {
   "cell_type": "code",
   "execution_count": 25,
   "metadata": {},
   "outputs": [],
   "source": [
    "# \"Continuous\"\n",
    "# \"Integer\"\n",
    "\n",
    "x1=LpVariable(\"x1\",lowBound=0,upBound=None, cat=\"Integer\")\n",
    "x2=LpVariable(\"x2\",lowBound=0,upBound=None, cat=\"Integer\")\n",
    "x3=LpVariable(\"x3\",lowBound=0,upBound=None, cat=\"Integer\")"
   ]
  },
  {
   "cell_type": "markdown",
   "metadata": {},
   "source": [
    "<span style=\"font-size: 130%;color:#0000ff\"> FUNKCJA CELU\n",
    "\n",
    "<span style=\"font-size: 130%;color:#0000ff\">$ {80x_{1}} + 55x_{2} \\to max$"
   ]
  },
  {
   "cell_type": "code",
   "execution_count": 26,
   "metadata": {},
   "outputs": [],
   "source": [
    "# objective function\n",
    "prob += 80*x1 + 55*x2, \"Maksymalizacja zysków\""
   ]
  },
  {
   "cell_type": "code",
   "execution_count": 27,
   "metadata": {},
   "outputs": [
    {
     "name": "stdout",
     "output_type": "stream",
     "text": [
      "DEA_Redhill:\n",
      "MAXIMIZE\n",
      "80*x1 + 55*x2 + 0\n",
      "VARIABLES\n",
      "0 <= x1 Integer\n",
      "0 <= x2 Integer\n",
      "\n"
     ]
    }
   ],
   "source": [
    "print(prob)"
   ]
  },
  {
   "cell_type": "markdown",
   "metadata": {},
   "source": [
    "#### $\n",
    "\\left\\{\n",
    "\\begin{align} \n",
    "({125x_{1}} + 50x_{2})-18x_{3} & \\leqslant 0& (1)\\\\\n",
    "({44x_{1}} + 20x_{2})-16x_{3} & \\leqslant 0& (1)\\\\\n",
    "({80x_{1}} + 55x_{2})-17x_{3} & \\leqslant 0& (1)\\\\\n",
    "({23x_{1}} + 12x_{2})-11x_{3} & \\leqslant 0& (1)\\\\\n",
    "\\end{align}\n",
    "\\right. \n",
    "$\n",
    "\n",
    "#### $\n",
    "\\left\\{\n",
    "\\begin{align} \n",
    "{x_{1}} & \\geqslant 0& (1)\\\\\n",
    "{x_{2}} & \\geqslant 0& (2)\\\\\n",
    "{x_{3}} & \\geqslant 0& (3)\\\\\n",
    "\\end{align}\n",
    "\\right. \n",
    "$\n",
    "\n",
    "$17x_{3}=1$"
   ]
  },
  {
   "cell_type": "code",
   "execution_count": 28,
   "metadata": {},
   "outputs": [],
   "source": [
    "# main constraints\n",
    "prob += (125*x1+50*x2)-18*x3 <= 0\n",
    "prob += (44*x1+20*x2)-16*x3 <= 0\n",
    "prob += (80*x1+55*x2)-17*x3 <= 0\n",
    "prob += (23*x1+12*x2)-11*x3 <= 0\n",
    "prob += 17*x3 == 1"
   ]
  },
  {
   "cell_type": "code",
   "execution_count": 29,
   "metadata": {},
   "outputs": [
    {
     "name": "stdout",
     "output_type": "stream",
     "text": [
      "DEA_Redhill:\n",
      "MAXIMIZE\n",
      "80*x1 + 55*x2 + 0\n",
      "SUBJECT TO\n",
      "_C1: 125 x1 + 50 x2 - 18 x3 <= 0\n",
      "\n",
      "_C2: 44 x1 + 20 x2 - 16 x3 <= 0\n",
      "\n",
      "_C3: 80 x1 + 55 x2 - 17 x3 <= 0\n",
      "\n",
      "_C4: 23 x1 + 12 x2 - 11 x3 <= 0\n",
      "\n",
      "_C5: 17 x3 = 1\n",
      "\n",
      "VARIABLES\n",
      "0 <= x1 Integer\n",
      "0 <= x2 Integer\n",
      "0 <= x3 Integer\n",
      "\n"
     ]
    }
   ],
   "source": [
    "print(prob)"
   ]
  },
  {
   "cell_type": "markdown",
   "metadata": {},
   "source": [
    "### Rozwiązanie problemu"
   ]
  },
  {
   "cell_type": "code",
   "execution_count": 30,
   "metadata": {},
   "outputs": [
    {
     "name": "stdout",
     "output_type": "stream",
     "text": [
      "prob.solve -1\n",
      "Status: Infeasible\n"
     ]
    }
   ],
   "source": [
    "print(\"prob.solve\",prob.solve())\n",
    "# status of the solution\n",
    "print(f\"Status: {LpStatus[prob.status]}\")"
   ]
  },
  {
   "cell_type": "code",
   "execution_count": 31,
   "metadata": {},
   "outputs": [
    {
     "name": "stdout",
     "output_type": "stream",
     "text": [
      "x1 = 28/9775\n",
      "x2 = 5323/379798\n",
      "x3 = 1/17\n"
     ]
    }
   ],
   "source": [
    "for v in prob.variables():\n",
    "    print(f\"{v.name} = {str(Fraction(v.varValue).limit_denominator())}\")\n"
   ]
  },
  {
   "cell_type": "markdown",
   "metadata": {},
   "source": [
    "Kopiuje z góry"
   ]
  },
  {
   "cell_type": "code",
   "execution_count": 32,
   "metadata": {},
   "outputs": [],
   "source": [
    "x1 = 28/9775\n",
    "x2 = 5323/379798\n",
    "x3 = 1/17"
   ]
  },
  {
   "cell_type": "markdown",
   "metadata": {},
   "source": [
    "<span style=\"font-size: 130%;color:#0000ff\"> FUNKCJA CELU\n",
    "\n",
    "<span style=\"font-size: 130%;color:#0000ff\">$ {80x_{1}} + 55x_{2} \\to max$"
   ]
  },
  {
   "cell_type": "code",
   "execution_count": 33,
   "metadata": {},
   "outputs": [
    {
     "data": {
      "text/plain": [
       "0.9999999851852868"
      ]
     },
     "execution_count": 33,
     "metadata": {},
     "output_type": "execute_result"
    }
   ],
   "source": [
    "(80*x1+55*x2)/(17*x3)"
   ]
  },
  {
   "cell_type": "markdown",
   "metadata": {},
   "source": [
    "Redhill 100% jest bardzo dobry!"
   ]
  },
  {
   "cell_type": "markdown",
   "metadata": {},
   "source": [
    "<span style=\"font-size: 130%;color:#0000ff\"> Graficznie w artykule mu wyszedł taki ranking:\n",
    "\n",
    " 1. Croydon 100%\n",
    " 2. Dorking 43%\n",
    " 3. Redhill 100%\n",
    " 4. Reigate 36%"
   ]
  },
  {
   "cell_type": "markdown",
   "metadata": {},
   "source": [
    "<span style=\"font-size: 230%;color:#0000ff\"> Reigate"
   ]
  },
  {
   "cell_type": "code",
   "execution_count": 34,
   "metadata": {},
   "outputs": [
    {
     "name": "stdout",
     "output_type": "stream",
     "text": [
      "+---------+---------------------+----------------------+----------+\n",
      "|  Bank   | Transakcje osobiste | Transakcje biznesowe | Personel |\n",
      "+---------+---------------------+----------------------+----------+\n",
      "| Croydon |         125         |          50          |    18    |\n",
      "+---------+---------------------+----------------------+----------+\n",
      "| Dorking |         44          |          20          |    16    |\n",
      "+---------+---------------------+----------------------+----------+\n",
      "| Redhill |         80          |          55          |    17    |\n",
      "+---------+---------------------+----------------------+----------+\n",
      "| Reigate |         23          |          12          |    11    |\n",
      "+---------+---------------------+----------------------+----------+\n"
     ]
    }
   ],
   "source": [
    "from beautifultable import BeautifulTable\n",
    "\n",
    "table = BeautifulTable()\n",
    "table.column_headers = [\"Bank\",\"Transakcje osobiste\" ,\"Transakcje biznesowe\"\n",
    ", \"Personel\"]\n",
    "table.append_row([\"Croydon\",    125,   50,     18 ])\n",
    "table.append_row([\"Dorking\",    44,    20,     16 ])\n",
    "table.append_row([\"Redhill\",    80,    55,     17 ])\n",
    "table.append_row([\"Reigate\",    23,    12,     11 ])\n",
    "print(table)"
   ]
  },
  {
   "cell_type": "code",
   "execution_count": 35,
   "metadata": {},
   "outputs": [],
   "source": [
    "from pulp import *\n",
    "from fractions import Fraction\n",
    "\n",
    "# zdefiniowanie problemu- to jest taka platforma do wrzucania na nia wszystkiego\n",
    "\n",
    "prob = LpProblem(\"DEA_Reigate\",LpMaximize)"
   ]
  },
  {
   "cell_type": "code",
   "execution_count": 36,
   "metadata": {},
   "outputs": [],
   "source": [
    "# \"Continuous\"\n",
    "# \"Integer\"\n",
    "\n",
    "x1=LpVariable(\"x1\",lowBound=0,upBound=None, cat=\"Integer\")\n",
    "x2=LpVariable(\"x2\",lowBound=0,upBound=None, cat=\"Integer\")\n",
    "x3=LpVariable(\"x3\",lowBound=0,upBound=None, cat=\"Integer\")"
   ]
  },
  {
   "cell_type": "markdown",
   "metadata": {},
   "source": [
    "<span style=\"font-size: 130%;color:#0000ff\"> FUNKCJA CELU Reigate\n",
    "\n",
    "<span style=\"font-size: 130%;color:#0000ff\">$ {23x_{1}} + 12x_{2} \\to max$\n",
    "\n",
    "przy warunku że:\n",
    "\n",
    "$11x_{3}=1$"
   ]
  },
  {
   "cell_type": "code",
   "execution_count": 37,
   "metadata": {},
   "outputs": [],
   "source": [
    "# objective function\n",
    "prob += 23*x1 + 12*x2, \"Maksymalizacja zysków\""
   ]
  },
  {
   "cell_type": "code",
   "execution_count": 38,
   "metadata": {},
   "outputs": [
    {
     "name": "stdout",
     "output_type": "stream",
     "text": [
      "DEA_Reigate:\n",
      "MAXIMIZE\n",
      "23*x1 + 12*x2 + 0\n",
      "VARIABLES\n",
      "0 <= x1 Integer\n",
      "0 <= x2 Integer\n",
      "\n"
     ]
    }
   ],
   "source": [
    "print(prob)"
   ]
  },
  {
   "cell_type": "markdown",
   "metadata": {},
   "source": [
    "#### $\n",
    "\\left\\{\n",
    "\\begin{align} \n",
    "({125x_{1}} + 50x_{2})-18x_{3} & \\leqslant 0& (1)\\\\\n",
    "({44x_{1}} + 20x_{2})-16x_{3} & \\leqslant 0& (1)\\\\\n",
    "({80x_{1}} + 55x_{2})-17x_{3} & \\leqslant 0& (1)\\\\\n",
    "({23x_{1}} + 12x_{2})-11x_{3} & \\leqslant 0& (1)\\\\\n",
    "\\end{align}\n",
    "\\right. \n",
    "$\n",
    "\n",
    "#### $\n",
    "\\left\\{\n",
    "\\begin{align} \n",
    "{x_{1}} & \\geqslant 0& (1)\\\\\n",
    "{x_{2}} & \\geqslant 0& (2)\\\\\n",
    "{x_{3}} & \\geqslant 0& (3)\\\\\n",
    "\\end{align}\n",
    "\\right. \n",
    "$\n",
    "dla Reigate: \n",
    "$11x_{3}=1$"
   ]
  },
  {
   "cell_type": "code",
   "execution_count": 39,
   "metadata": {},
   "outputs": [],
   "source": [
    "# main constraints\n",
    "prob += (125*x1+50*x2)-18*x3 <= 0\n",
    "prob += (44*x1+20*x2)-16*x3 <= 0\n",
    "prob += (80*x1+55*x2)-17*x3 <= 0\n",
    "prob += (23*x1+12*x2)-11*x3 <= 0\n",
    "prob += 11*x3 == 1"
   ]
  },
  {
   "cell_type": "code",
   "execution_count": 40,
   "metadata": {},
   "outputs": [
    {
     "name": "stdout",
     "output_type": "stream",
     "text": [
      "DEA_Reigate:\n",
      "MAXIMIZE\n",
      "23*x1 + 12*x2 + 0\n",
      "SUBJECT TO\n",
      "_C1: 125 x1 + 50 x2 - 18 x3 <= 0\n",
      "\n",
      "_C2: 44 x1 + 20 x2 - 16 x3 <= 0\n",
      "\n",
      "_C3: 80 x1 + 55 x2 - 17 x3 <= 0\n",
      "\n",
      "_C4: 23 x1 + 12 x2 - 11 x3 <= 0\n",
      "\n",
      "_C5: 11 x3 = 1\n",
      "\n",
      "VARIABLES\n",
      "0 <= x1 Integer\n",
      "0 <= x2 Integer\n",
      "0 <= x3 Integer\n",
      "\n"
     ]
    }
   ],
   "source": [
    "print(prob)"
   ]
  },
  {
   "cell_type": "markdown",
   "metadata": {},
   "source": [
    "### Rozwiązanie problemu"
   ]
  },
  {
   "cell_type": "code",
   "execution_count": 41,
   "metadata": {},
   "outputs": [
    {
     "name": "stdout",
     "output_type": "stream",
     "text": [
      "prob.solve -1\n",
      "Status: Infeasible\n"
     ]
    }
   ],
   "source": [
    "print(\"prob.solve\",prob.solve())\n",
    "# status of the solution\n",
    "print(f\"Status: {LpStatus[prob.status]}\")"
   ]
  },
  {
   "cell_type": "code",
   "execution_count": 42,
   "metadata": {},
   "outputs": [
    {
     "name": "stdout",
     "output_type": "stream",
     "text": [
      "x1 = 28/6325\n",
      "x2 = 137/6325\n",
      "x3 = 1/11\n"
     ]
    }
   ],
   "source": [
    "for v in prob.variables():\n",
    "    print(f\"{v.name} = {str(Fraction(v.varValue).limit_denominator())}\")\n"
   ]
  },
  {
   "cell_type": "markdown",
   "metadata": {},
   "source": [
    "Kopiuje z góry"
   ]
  },
  {
   "cell_type": "code",
   "execution_count": 43,
   "metadata": {},
   "outputs": [],
   "source": [
    "x1 = 28/9775\n",
    "x2 = 5323/379798\n",
    "x3 = 1/17"
   ]
  },
  {
   "cell_type": "markdown",
   "metadata": {},
   "source": [
    "<span style=\"font-size: 130%;color:#0000ff\"> FUNKCJA CELU\n",
    "\n",
    "<span style=\"font-size: 130%;color:#0000ff\">$ {23x_{1}} + 12x_{2} \\to max$"
   ]
  },
  {
   "cell_type": "code",
   "execution_count": 44,
   "metadata": {},
   "outputs": [
    {
     "data": {
      "text/plain": [
       "0.3617391254394082"
      ]
     },
     "execution_count": 44,
     "metadata": {},
     "output_type": "execute_result"
    }
   ],
   "source": [
    "(23*x1+12*x2)/(11*x3)"
   ]
  },
  {
   "cell_type": "markdown",
   "metadata": {},
   "source": [
    "<span style=\"font-size: 130%;color:#0000ff\"> Graficznie w artykule mu wyszedł taki ranking:\n",
    "\n",
    " 1. Croydon 100%\n",
    " 2. Dorking 43%\n",
    " 3. Redhill 100%\n",
    " 4. Reigate 36%"
   ]
  },
  {
   "cell_type": "markdown",
   "metadata": {},
   "source": [
    "# ZMIANA WAG\n",
    "Ktoś z kierownictwa centrali banku uznał, że transakcie biznesowe są 12 razy ważniejsze niż transakcje zwykłe. \n",
    "To znaczy że jedna zawarta transakcja biznesowa liczy się tak jak 12 transakcji zwykłych.\n",
    "\n",
    "$x_{1}$ _ Transakcje zwykłe \n",
    "\n",
    "$x_{2}$ _ Transakcje biznesowe\n",
    "\n",
    "wtedy:\n",
    "\n",
    "<span style=\"font-size: 230%;color:black\">\n",
    "\n",
    "$ \\frac {x_{2}}{x_{1}} >= 12$"
   ]
  },
  {
   "cell_type": "markdown",
   "metadata": {},
   "source": [
    "więc:\n",
    "\n",
    "<span style=\"font-size: 230%;color:black\">\n",
    "\n",
    "$ {x_{2}}-12{x_{1}} >= 0$\n",
    "\n"
   ]
  },
  {
   "cell_type": "markdown",
   "metadata": {},
   "source": [
    "<span style=\"font-size: 130%;color:#0000ff\"> Dodajemy ten warunek do ogólnego zadania i obliczamy Croydon który ma stosunkowo mało transakcji biznesowych w stosunku do Redhill  "
   ]
  },
  {
   "cell_type": "code",
   "execution_count": 45,
   "metadata": {},
   "outputs": [],
   "source": [
    "from pulp import *\n",
    "from fractions import Fraction\n",
    "\n",
    "# zdefiniowanie problemu- to jest taka platforma do wrzucania na nia wszystkiego\n",
    "\n",
    "prob = LpProblem(\"DEA_Croydon2\",LpMaximize)"
   ]
  },
  {
   "cell_type": "code",
   "execution_count": 46,
   "metadata": {},
   "outputs": [],
   "source": [
    "# \"Continuous\"\n",
    "# \"Integer\"\n",
    "\n",
    "x1=LpVariable(\"x1\",lowBound=0,upBound=None, cat=\"Integer\")\n",
    "x2=LpVariable(\"x2\",lowBound=0,upBound=None, cat=\"Integer\")\n",
    "x3=LpVariable(\"x3\",lowBound=0,upBound=None, cat=\"Integer\")"
   ]
  },
  {
   "cell_type": "markdown",
   "metadata": {},
   "source": [
    "<span style=\"font-size: 130%;color:#0000ff\"> FUNKCJA CELU\n",
    "\n",
    "<span style=\"font-size: 130%;color:#0000ff\">$ {125x_{1}} + 50x_{2} \\to max$\n",
    "\n",
    "przy warunku, że dla Croydon:\n",
    "\n",
    "<span style=\"font-size: 130%;color:black\">$18x_{3}=1$"
   ]
  },
  {
   "cell_type": "code",
   "execution_count": 47,
   "metadata": {},
   "outputs": [],
   "source": [
    "# objective function\n",
    "prob += 125*x1 + 50*x2, \"Maksymalizacja zysków\""
   ]
  },
  {
   "cell_type": "code",
   "execution_count": 48,
   "metadata": {},
   "outputs": [
    {
     "name": "stdout",
     "output_type": "stream",
     "text": [
      "DEA_Croydon2:\n",
      "MAXIMIZE\n",
      "125*x1 + 50*x2 + 0\n",
      "VARIABLES\n",
      "0 <= x1 Integer\n",
      "0 <= x2 Integer\n",
      "\n"
     ]
    }
   ],
   "source": [
    "print(prob)"
   ]
  },
  {
   "cell_type": "markdown",
   "metadata": {},
   "source": [
    "##### $\n",
    "\\left\\{\n",
    "\\begin{align} \n",
    "({125x_{1}} + 50x_{2})-18x_{3} & \\leqslant 0& (1)\\\\\n",
    "({44x_{1}} + 20x_{2})-16x_{3} & \\leqslant 0& (2)\\\\\n",
    "({80x_{1}} + 55x_{2})-17x_{3} & \\leqslant 0& (3)\\\\\n",
    "({23x_{1}} + 12x_{2})-11x_{3} & \\leqslant 0& (4)\\\\\n",
    "\\end{align}\n",
    "\\right. \n",
    "$\n",
    "<span style=\"font-size: 230%;color:green\">\n",
    "\n",
    "$ {x_{2}}-12{x_{1}} >= 0$\n",
    "\n",
    "\n",
    "</span>\n",
    "\n",
    "\n",
    "Warunki znakowe:\n",
    "#### $\n",
    "\\left\\{\n",
    "\\begin{align} \n",
    "{x_{1}} & \\geqslant 0& (5)\\\\\n",
    "{x_{2}} & \\geqslant 0& (6)\\\\\n",
    "{x_{3}} & \\geqslant 0& (7)\\\\\n",
    "\\end{align}\n",
    "\\right. \n",
    "$\n",
    "\n",
    "$18x_{3}=1$              (8)"
   ]
  },
  {
   "cell_type": "code",
   "execution_count": 49,
   "metadata": {},
   "outputs": [],
   "source": [
    "# main constraints\n",
    "prob += (125*x1+50*x2)-18*x3 <= 0\n",
    "prob += (44*x1+20*x2)-16*x3 <= 0\n",
    "prob += (80*x1+55*x2)-17*x3 <= 0\n",
    "prob += (23*x1+12*x2)-11*x3 <= 0\n",
    "prob += x2-(12*x1)>= 0\n",
    "prob += 18*x3 == 1"
   ]
  },
  {
   "cell_type": "code",
   "execution_count": 50,
   "metadata": {},
   "outputs": [
    {
     "name": "stdout",
     "output_type": "stream",
     "text": [
      "DEA_Croydon2:\n",
      "MAXIMIZE\n",
      "125*x1 + 50*x2 + 0\n",
      "SUBJECT TO\n",
      "_C1: 125 x1 + 50 x2 - 18 x3 <= 0\n",
      "\n",
      "_C2: 44 x1 + 20 x2 - 16 x3 <= 0\n",
      "\n",
      "_C3: 80 x1 + 55 x2 - 17 x3 <= 0\n",
      "\n",
      "_C4: 23 x1 + 12 x2 - 11 x3 <= 0\n",
      "\n",
      "_C5: - 12 x1 + x2 >= 0\n",
      "\n",
      "_C6: 18 x3 = 1\n",
      "\n",
      "VARIABLES\n",
      "0 <= x1 Integer\n",
      "0 <= x2 Integer\n",
      "0 <= x3 Integer\n",
      "\n"
     ]
    }
   ],
   "source": [
    "print(prob)"
   ]
  },
  {
   "cell_type": "markdown",
   "metadata": {},
   "source": [
    "### Rozwiązanie problemu"
   ]
  },
  {
   "cell_type": "code",
   "execution_count": 51,
   "metadata": {},
   "outputs": [
    {
     "name": "stdout",
     "output_type": "stream",
     "text": [
      "prob.solve -1\n",
      "Status: Infeasible\n"
     ]
    }
   ],
   "source": [
    "print(\"prob.solve\",prob.solve())\n",
    "# status of the solution\n",
    "print(f\"Status: {LpStatus[prob.status]}\")"
   ]
  },
  {
   "cell_type": "code",
   "execution_count": 52,
   "metadata": {},
   "outputs": [
    {
     "name": "stdout",
     "output_type": "stream",
     "text": [
      "x1 = 17/13320\n",
      "x2 = 17/1110\n",
      "x3 = 1/18\n"
     ]
    }
   ],
   "source": [
    "for v in prob.variables():\n",
    "    print(f\"{v.name} = {str(Fraction(v.varValue).limit_denominator())}\")\n"
   ]
  },
  {
   "cell_type": "code",
   "execution_count": 53,
   "metadata": {},
   "outputs": [],
   "source": [
    "x1 = 1/125\n",
    "x2 = 0\n",
    "x3 = 1/18"
   ]
  },
  {
   "cell_type": "code",
   "execution_count": 54,
   "metadata": {},
   "outputs": [
    {
     "data": {
      "text/plain": [
       "1.0"
      ]
     },
     "execution_count": 54,
     "metadata": {},
     "output_type": "execute_result"
    }
   ],
   "source": [
    "(125*x1+50*x2)/(18*x3)"
   ]
  },
  {
   "cell_type": "markdown",
   "metadata": {},
   "source": [
    "Ocena Croydon jest bardzo dobra, 100%"
   ]
  },
  {
   "cell_type": "markdown",
   "metadata": {},
   "source": [
    "Graficznie w artykule mu wyszedł taki ranking:\n",
    "\n",
    " 1. Croydon 100%\n",
    " 2. Dorking 43%\n",
    " 3. Redhill 100%\n",
    " 4. Reigate 36%"
   ]
  },
  {
   "cell_type": "markdown",
   "metadata": {},
   "source": [
    "<span style=\"font-size: 230%;color:#0000ff\"> Reigate"
   ]
  },
  {
   "cell_type": "code",
   "execution_count": 55,
   "metadata": {},
   "outputs": [
    {
     "name": "stdout",
     "output_type": "stream",
     "text": [
      "+---------+---------------------+----------------------+----------+\n",
      "|  Bank   | Transakcje osobiste | Transakcje biznesowe | Personel |\n",
      "+---------+---------------------+----------------------+----------+\n",
      "| Croydon |         125         |          50          |    18    |\n",
      "+---------+---------------------+----------------------+----------+\n",
      "| Dorking |         44          |          20          |    16    |\n",
      "+---------+---------------------+----------------------+----------+\n",
      "| Redhill |         80          |          55          |    17    |\n",
      "+---------+---------------------+----------------------+----------+\n",
      "| Reigate |         23          |          12          |    11    |\n",
      "+---------+---------------------+----------------------+----------+\n"
     ]
    }
   ],
   "source": [
    "from beautifultable import BeautifulTable\n",
    "\n",
    "table = BeautifulTable()\n",
    "table.column_headers = [\"Bank\",\"Transakcje osobiste\" ,\"Transakcje biznesowe\"\n",
    ", \"Personel\"]\n",
    "table.append_row([\"Croydon\",    125,   50,     18 ])\n",
    "table.append_row([\"Dorking\",    44,    20,     16 ])\n",
    "table.append_row([\"Redhill\",    80,    55,     17 ])\n",
    "table.append_row([\"Reigate\",    23,    12,     11 ])\n",
    "print(table)"
   ]
  },
  {
   "cell_type": "code",
   "execution_count": 56,
   "metadata": {},
   "outputs": [],
   "source": [
    "from pulp import *\n",
    "from fractions import Fraction\n",
    "\n",
    "# zdefiniowanie problemu- to jest taka platforma do wrzucania na nia wszystkiego\n",
    "\n",
    "prob = LpProblem(\"DEA_Reigate2\",LpMaximize)"
   ]
  },
  {
   "cell_type": "code",
   "execution_count": 57,
   "metadata": {},
   "outputs": [],
   "source": [
    "# \"Continuous\"\n",
    "# \"Integer\"\n",
    "\n",
    "x1=LpVariable(\"x1\",lowBound=0,upBound=None, cat=\"Integer\")\n",
    "x2=LpVariable(\"x2\",lowBound=0,upBound=None, cat=\"Integer\")\n",
    "x3=LpVariable(\"x3\",lowBound=0,upBound=None, cat=\"Integer\")"
   ]
  },
  {
   "cell_type": "markdown",
   "metadata": {},
   "source": [
    "<span style=\"font-size: 130%;color:#0000ff\"> FUNKCJA CELU Reigate\n",
    "\n",
    "<span style=\"font-size: 130%;color:#0000ff\">$ {23x_{1}} + 12x_{2} \\to max$\n",
    "\n",
    "przy warunku że:\n",
    "\n",
    "$11x_{3}=1$"
   ]
  },
  {
   "cell_type": "code",
   "execution_count": 58,
   "metadata": {},
   "outputs": [],
   "source": [
    "# objective function\n",
    "prob += 23*x1 + 12*x2, \"Maksymalizacja zysków\""
   ]
  },
  {
   "cell_type": "code",
   "execution_count": 59,
   "metadata": {},
   "outputs": [
    {
     "name": "stdout",
     "output_type": "stream",
     "text": [
      "DEA_Reigate2:\n",
      "MAXIMIZE\n",
      "23*x1 + 12*x2 + 0\n",
      "VARIABLES\n",
      "0 <= x1 Integer\n",
      "0 <= x2 Integer\n",
      "\n"
     ]
    }
   ],
   "source": [
    "print(prob)"
   ]
  },
  {
   "cell_type": "markdown",
   "metadata": {},
   "source": [
    "##### $\n",
    "\\left\\{\n",
    "\\begin{align} \n",
    "({125x_{1}} + 50x_{2})-18x_{3} & \\leqslant 0& (1)\\\\\n",
    "({44x_{1}} + 20x_{2})-16x_{3} & \\leqslant 0& (2)\\\\\n",
    "({80x_{1}} + 55x_{2})-17x_{3} & \\leqslant 0& (3)\\\\\n",
    "({23x_{1}} + 12x_{2})-11x_{3} & \\leqslant 0& (4)\\\\\n",
    "\\end{align}\n",
    "\\right. \n",
    "$\n",
    "<span style=\"font-size: 230%;color:green\">\n",
    "\n",
    "$ {x_{2}}-12{x_{1}} >= 0$\n",
    "\n",
    "\n",
    "</span>\n",
    "\n",
    "\n",
    "Warunki znakowe:\n",
    "#### $\n",
    "\\left\\{\n",
    "\\begin{align} \n",
    "{x_{1}} & \\geqslant 0& (5)\\\\\n",
    "{x_{2}} & \\geqslant 0& (6)\\\\\n",
    "{x_{3}} & \\geqslant 0& (7)\\\\\n",
    "\\end{align}\n",
    "\\right. \n",
    "$\n",
    "\n",
    "dla Reigate: \n",
    "\n",
    "$11x_{3}=1$"
   ]
  },
  {
   "cell_type": "code",
   "execution_count": 60,
   "metadata": {},
   "outputs": [],
   "source": [
    "# main constraints\n",
    "prob += (125*x1+50*x2)-18*x3 <= 0\n",
    "prob += (44*x1+20*x2)-16*x3 <= 0\n",
    "prob += (80*x1+55*x2)-17*x3 <= 0\n",
    "prob += (23*x1+12*x2)-11*x3 <= 0\n",
    "prob += x2-(12*x1)>= 0\n",
    "prob += 11*x3 == 1"
   ]
  },
  {
   "cell_type": "code",
   "execution_count": 61,
   "metadata": {},
   "outputs": [
    {
     "name": "stdout",
     "output_type": "stream",
     "text": [
      "DEA_Reigate2:\n",
      "MAXIMIZE\n",
      "23*x1 + 12*x2 + 0\n",
      "SUBJECT TO\n",
      "_C1: 125 x1 + 50 x2 - 18 x3 <= 0\n",
      "\n",
      "_C2: 44 x1 + 20 x2 - 16 x3 <= 0\n",
      "\n",
      "_C3: 80 x1 + 55 x2 - 17 x3 <= 0\n",
      "\n",
      "_C4: 23 x1 + 12 x2 - 11 x3 <= 0\n",
      "\n",
      "_C5: - 12 x1 + x2 >= 0\n",
      "\n",
      "_C6: 11 x3 = 1\n",
      "\n",
      "VARIABLES\n",
      "0 <= x1 Integer\n",
      "0 <= x2 Integer\n",
      "0 <= x3 Integer\n",
      "\n"
     ]
    }
   ],
   "source": [
    "print(prob)"
   ]
  },
  {
   "cell_type": "markdown",
   "metadata": {},
   "source": [
    "### Rozwiązanie problemu"
   ]
  },
  {
   "cell_type": "code",
   "execution_count": 62,
   "metadata": {},
   "outputs": [
    {
     "name": "stdout",
     "output_type": "stream",
     "text": [
      "prob.solve -1\n",
      "Status: Infeasible\n"
     ]
    }
   ],
   "source": [
    "print(\"prob.solve\",prob.solve())\n",
    "# status of the solution\n",
    "print(f\"Status: {LpStatus[prob.status]}\")"
   ]
  },
  {
   "cell_type": "code",
   "execution_count": 63,
   "metadata": {},
   "outputs": [
    {
     "name": "stdout",
     "output_type": "stream",
     "text": [
      "x1 = 17/8140\n",
      "x2 = 51/2035\n",
      "x3 = 1/11\n"
     ]
    }
   ],
   "source": [
    "for v in prob.variables():\n",
    "    print(f\"{v.name} = {str(Fraction(v.varValue).limit_denominator())}\")\n"
   ]
  },
  {
   "cell_type": "markdown",
   "metadata": {},
   "source": [
    "Kopiuje z góry"
   ]
  },
  {
   "cell_type": "code",
   "execution_count": 66,
   "metadata": {},
   "outputs": [],
   "source": [
    "x1 = 17/8140\n",
    "x2 = 51/2035\n",
    "x3 = 1/11"
   ]
  },
  {
   "cell_type": "markdown",
   "metadata": {},
   "source": [
    "<span style=\"font-size: 130%;color:#0000ff\"> FUNKCJA CELU\n",
    "\n",
    "<span style=\"font-size: 130%;color:#0000ff\">$ {23x_{1}} + 12x_{2} \\to max$"
   ]
  },
  {
   "cell_type": "code",
   "execution_count": 67,
   "metadata": {},
   "outputs": [
    {
     "data": {
      "text/plain": [
       "0.34877149877149877"
      ]
     },
     "execution_count": 67,
     "metadata": {},
     "output_type": "execute_result"
    }
   ],
   "source": [
    "(23*x1+12*x2)/(11*x3)"
   ]
  },
  {
   "cell_type": "markdown",
   "metadata": {},
   "source": [
    "0.3617391254394082"
   ]
  }
 ],
 "metadata": {
  "kernelspec": {
   "display_name": "Python 3",
   "language": "python",
   "name": "python3"
  },
  "language_info": {
   "codemirror_mode": {
    "name": "ipython",
    "version": 3
   },
   "file_extension": ".py",
   "mimetype": "text/x-python",
   "name": "python",
   "nbconvert_exporter": "python",
   "pygments_lexer": "ipython3",
   "version": "3.7.4"
  }
 },
 "nbformat": 4,
 "nbformat_minor": 2
}
