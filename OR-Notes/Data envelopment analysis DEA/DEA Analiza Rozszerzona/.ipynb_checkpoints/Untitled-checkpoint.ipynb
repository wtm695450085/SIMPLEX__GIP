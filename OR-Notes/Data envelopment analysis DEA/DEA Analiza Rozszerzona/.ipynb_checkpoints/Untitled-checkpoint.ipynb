{
 "cells": [
  {
   "cell_type": "markdown",
   "metadata": {},
   "source": [
    "                        Imperial    Southampton\n",
    "                        College     (S)\n",
    "                        (IC)\n",
    "Student numbers\n",
    "Undergraduates          161         105\n",
    "\n",
    "Taught postgraduates    111         12\n",
    "\n",
    "Research postgraduates  32          2\n",
    "\n",
    "Total number            304         119\n",
    "\n",
    "Expenditure (£'000)\n",
    "General expenditure     970         177\n",
    "\n",
    "Equipment expenditure   64          10\n",
    "\n",
    "Total expenditure       1034        187\n",
    "\n",
    "Other data\n",
    "\n",
    "Academic staff          35          7\n",
    "\n",
    "Research income         220         22\n",
    "\n",
    "Research rating         3           3\n"
   ]
  },
  {
   "cell_type": "code",
   "execution_count": 6,
   "metadata": {},
   "outputs": [
    {
     "name": "stdout",
     "output_type": "stream",
     "text": [
      "+-----------------------+----------+-------------+\n",
      "|   liczba studentów:   | Imperial | Southampton |\n",
      "+-----------------------+----------+-------------+\n",
      "|       Studenci        |   161    |     105     |\n",
      "+-----------------------+----------+-------------+\n",
      "| Nauczanie podyplomowi |   111    |     12      |\n",
      "+-----------------------+----------+-------------+\n",
      "|  Studia podyplomowe   |    32    |      2      |\n",
      "+-----------------------+----------+-------------+\n",
      "|     Łączna liczba     |   304    |     119     |\n",
      "+-----------------------+----------+-------------+\n"
     ]
    }
   ],
   "source": [
    "from beautifultable import BeautifulTable\n",
    "\n",
    "table = BeautifulTable()\n",
    "table.column_headers = [\"liczba studentów:\", \"Imperial\", \"Southampton\"]\n",
    "table.append_row([\"Studenci\", 161, 105])\n",
    "table.append_row([\"Nauczanie podyplomowi\", 111,12])\n",
    "table.append_row([\"Studia podyplomowe\",32,2 ])\n",
    "table.append_row([\"Łączna liczba\",161+111+32,105+12+2 ])\n",
    "print(table)"
   ]
  },
  {
   "cell_type": "code",
   "execution_count": 5,
   "metadata": {},
   "outputs": [
    {
     "name": "stdout",
     "output_type": "stream",
     "text": [
      "+-------------------+----------+-------------+\n",
      "| liczba studentów: | Imperial | Southampton |\n",
      "+-------------------+----------+-------------+\n",
      "|  Wydatki ogólne   |   970    |     177     |\n",
      "+-------------------+----------+-------------+\n",
      "| Wydatki na sprzęt |    64    |     10      |\n",
      "+-------------------+----------+-------------+\n",
      "|   Łączna liczba   |   1034   |     187     |\n",
      "+-------------------+----------+-------------+\n"
     ]
    }
   ],
   "source": [
    "from beautifultable import BeautifulTable\n",
    "\n",
    "table = BeautifulTable()\n",
    "table.column_headers = [\"wydatki:\", \"Imperial\", \"Southampton\"]\n",
    "table.append_row([\"Wydatki ogólne\", 970, 177])\n",
    "table.append_row([\"Wydatki na sprzęt\", 64,10])\n",
    "table.append_row([\"Łączna liczba\",970+64,177+10 ])\n",
    "print(table)"
   ]
  },
  {
   "cell_type": "code",
   "execution_count": 8,
   "metadata": {},
   "outputs": [
    {
     "name": "stdout",
     "output_type": "stream",
     "text": [
      "+-------------------+----------+-------------+\n",
      "|    Inne dane:     | Imperial | Southampton |\n",
      "+-------------------+----------+-------------+\n",
      "| Kadra akademicka  |    35    |      7      |\n",
      "+-------------------+----------+-------------+\n",
      "| Przychody z badań |   220    |     22      |\n",
      "+-------------------+----------+-------------+\n",
      "|   Stopień badań   |    3     |      3      |\n",
      "+-------------------+----------+-------------+\n"
     ]
    }
   ],
   "source": [
    "from beautifultable import BeautifulTable\n",
    "\n",
    "table = BeautifulTable()\n",
    "table.column_headers = [\"Inne dane:\", \"Imperial\", \"Southampton\"]\n",
    "table.append_row([\"Kadra akademicka\", 35, 7])\n",
    "table.append_row([\"Przychody z badań\", 220,22])\n",
    "table.append_row([\"Stopień badań\",3,3 ])\n",
    "print(table)"
   ]
  },
  {
   "cell_type": "markdown",
   "metadata": {},
   "source": [
    "Należy porównać dwie uczelnie - Należy ocenić efektywność wydatków na sprzęt i ogółem w odniesieniu do innych czynników"
   ]
  },
  {
   "cell_type": "code",
   "execution_count": 10,
   "metadata": {},
   "outputs": [
    {
     "name": "stdout",
     "output_type": "stream",
     "text": [
      "+-----------------------+----------+-------------+\n",
      "|   liczba studentów:   | Imperial | Southampton |\n",
      "+-----------------------+----------+-------------+\n",
      "|       Studenci        |   161    |     105     |\n",
      "+-----------------------+----------+-------------+\n",
      "| Nauczanie podyplomowi |   111    |     12      |\n",
      "+-----------------------+----------+-------------+\n",
      "|  Studia podyplomowe   |    32    |      2      |\n",
      "+-----------------------+----------+-------------+\n",
      "|     Łączna liczba     |   304    |     119     |\n",
      "+-----------------------+----------+-------------+\n"
     ]
    }
   ],
   "source": [
    "from beautifultable import BeautifulTable\n",
    "\n",
    "table = BeautifulTable()\n",
    "table.column_headers = [\"liczba studentów:\", \"Imperial\", \"Southampton\"]\n",
    "table.append_row([\"Studenci\", 161, 105])\n",
    "table.append_row([\"Nauczanie podyplomowi\", 111,12])\n",
    "table.append_row([\"Studia podyplomowe\",32,2 ])\n",
    "table.append_row([\"Łączna liczba\",161+111+32,105+12+2 ])\n",
    "print(table)"
   ]
  },
  {
   "cell_type": "markdown",
   "metadata": {},
   "source": [
    "##### $\n",
    "\\left\\{\n",
    "\\begin{align} \n",
    "y_{Imperial} = \\frac{{161x_{1}} + 111x_{2}+32x_{3}+220x_{4}}{970x_{5}+64x_{6}}&&(1)\\\\\n",
    "y_{Southampton} = \\frac{{105x_{1}} + 12x_{2}+2x_{3}+22x_{4}}{177x_{5}+10x_{6}}&&(2)\\\\\n",
    "\\end{align}\n",
    "\\right. \n",
    "$"
   ]
  },
  {
   "cell_type": "markdown",
   "metadata": {},
   "source": [
    "$x_{1}$ to waga przypisywana studentom\n",
    "\n",
    "$x_{2}$  to waga przypisywana nauczanym absolwentom\n",
    "\n",
    "$x_{3}$ to waga przypisywana absolwentom studiów podyplomowych\n",
    "\n",
    "$x_{4}$  to waga przypisywana dochodom z badań\n",
    "\n",
    "$x_{5}$  to waga przypisana wydatkom ogólnym\n",
    "\n",
    "$x_{6}$  wyposażeniu to ciężar związany z wydatkami na sprzęt\n",
    "\n",
    "$y_{Imperial}$ to wydajność Imperial College (wyrażona jako ułamek)\n",
    "\n",
    "$y_{Southampton}$ to wydajność Southampton (wyrażona jako ułamek)"
   ]
  },
  {
   "cell_type": "markdown",
   "metadata": {},
   "source": [
    "Warunki znakowe:\n",
    "#### $\n",
    "\\left\\{\n",
    "\\begin{align} \n",
    "0&\\leqslant y_{Imperial}\\leqslant 1& (11)\\\\\n",
    "0&\\leqslant y_{Southampton} \\leqslant 1& (12)\\\\\n",
    "\\end{align}\n",
    "\\right. \n",
    "$\n",
    "\n",
    "\n",
    "Warunki znakowe:\n",
    "#### $\n",
    "\\left\\{\n",
    "\\begin{align} \n",
    "{x_{1}} & \\geqslant 0& (11)\\\\\n",
    "{x_{2}} & \\geqslant 0& (12)\\\\\n",
    "{x_{3}} & \\geqslant 0& (13)\\\\\n",
    "{x_{4}} & \\geqslant 0& (14)\\\\\n",
    "{x_{5}} & \\geqslant 0& (15)\\\\\n",
    "{x_{6}} & \\geqslant 0& (15)\\\\\n",
    "\\end{align}\n",
    "\\right. \n",
    "$"
   ]
  },
  {
   "cell_type": "code",
   "execution_count": null,
   "metadata": {},
   "outputs": [],
   "source": []
  },
  {
   "cell_type": "code",
   "execution_count": null,
   "metadata": {},
   "outputs": [],
   "source": []
  },
  {
   "cell_type": "code",
   "execution_count": null,
   "metadata": {},
   "outputs": [],
   "source": []
  },
  {
   "cell_type": "code",
   "execution_count": null,
   "metadata": {},
   "outputs": [],
   "source": []
  },
  {
   "cell_type": "code",
   "execution_count": null,
   "metadata": {},
   "outputs": [],
   "source": []
  },
  {
   "cell_type": "code",
   "execution_count": null,
   "metadata": {},
   "outputs": [],
   "source": []
  },
  {
   "cell_type": "code",
   "execution_count": null,
   "metadata": {},
   "outputs": [],
   "source": []
  },
  {
   "cell_type": "code",
   "execution_count": null,
   "metadata": {},
   "outputs": [],
   "source": []
  }
 ],
 "metadata": {
  "kernelspec": {
   "display_name": "Python 3",
   "language": "python",
   "name": "python3"
  },
  "language_info": {
   "codemirror_mode": {
    "name": "ipython",
    "version": 3
   },
   "file_extension": ".py",
   "mimetype": "text/x-python",
   "name": "python",
   "nbconvert_exporter": "python",
   "pygments_lexer": "ipython3",
   "version": "3.7.4"
  }
 },
 "nbformat": 4,
 "nbformat_minor": 2
}
