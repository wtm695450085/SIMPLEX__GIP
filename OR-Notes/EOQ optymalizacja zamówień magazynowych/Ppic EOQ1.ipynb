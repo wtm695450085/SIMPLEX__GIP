{
 "cells": [
  {
   "cell_type": "markdown",
   "metadata": {},
   "source": [
    "<span style=\"font-size: 150%;color:white;background:#1155cc\"> OR-Notes\n",
    "    \n",
    "<span style=\"font-size: 240%;color:#1155cc\"> PPiC Optymalizacja stanów magazynowych\n",
    "\n",
    "\n",
    "http://people.brunel.ac.uk/~mastjjb/jeb/or/invent.html"
   ]
  },
  {
   "attachments": {
    "obraz.png": {
     "image/png": "[encoded data removed]"
    }
   },
   "cell_type": "markdown",
   "metadata": {},
   "source": [
    "Model podstawowy\n",
    "W tym podstawowym modelu mamy sytuację, w której:\n",
    "\n",
    "nasza firma zamawia u zewnętrznego dostawcy;\n",
    "zewnętrzny dostawca dostarcza nam dokładnie taką ilość, o jaką prosimy; \n",
    "i przekazujemy te zapasy naszym klientom (klientom zewnętrznym lub klientowi wewnętrznemu w tej samej firmie (np. w przypadku zamawiania surowców do wykorzystania w procesie produkcyjnym)).\n",
    "\n",
    "\n",
    "Założyć:\n",
    "\n",
    "1. Zapasy zużywane w stałym tempie (R jednostek rocznie)\n",
    "2. Stały koszt konfiguracji co dla każdego zamówienia - często nazywany kosztem zamówienia\n",
    "3. Brak czasu między złożeniem zamówienia a nadejściem zamówienia\n",
    "4. Zmienny koszt magazynowania ch na jednostkę rocznie\n",
    "5. Następnie musimy za każdym razem zdecydować Q, ilość do zamówienia, często nazywana wielkością partii (lub partii ).\n",
    "\n",
    "Przy takich założeniach wykres stanu zapasów w czasie przyjmuje postać pokazaną poniżej.\n",
    "\n",
    "![obraz.png](attachment:obraz.png)"
   ]
  },
  {
   "cell_type": "markdown",
   "metadata": {},
   "source": [
    "Koszt przygotowania zamówienia:\n",
    "$\n",
    "c_{o} \n",
    "$\n",
    "\n",
    "Zmienny koszt magazynowania:\n",
    "$\n",
    "c_{h} \n",
    "$\n",
    "\n",
    "Wielkość do zamówienia (wielkość partii wchodzącej do magazynu):\n",
    "$\n",
    "Q \n",
    "$\n",
    "\n",
    "Wielkość wyjść zapasów z magazynu w ciągu roku:\n",
    "$\n",
    "R \n",
    "$"
   ]
  },
  {
   "cell_type": "markdown",
   "metadata": {},
   "source": [
    "<span style=\"font-size: 140%;color:#1155cc\">1. Średni poziom zapasów w magazynie, </span>\n",
    "\n",
    "nalezy go obliczyć ponieważ wykres zmiany stanów magazynowych jest zbyt dynamiczny. W tym specyficznym przykładzie (patząc na wykres powyżej) średni stan magazynowy bedzie wynosił:\n",
    "\n",
    "<span style=\"font-size: 140%;color:#1155cc\">\n",
    "$\\frac{Q}{2}$ </span>\n",
    "\n",
    "Poprostu linia ciągła horyzontalna przeprowadzona dokładnie przez środek wykresu."
   ]
  },
  {
   "cell_type": "markdown",
   "metadata": {},
   "source": [
    "<span style=\"font-size: 140%;color:#1155cc\">2. Roczny koszt utrzymania magazynu, </span>\n",
    "jest definiowany jako iloczyn zmiennego kosztu magazynowania i średnich rocznych stanów magazynowych. Zakładamy, że zmienny koszt magazynowania zależy od wielkości stanów magazynowych.\n",
    "\n",
    "Zmienny koszt magazynowania:\n",
    "$\n",
    "c_{h} \n",
    "$\n",
    "\n",
    "<span style=\"font-size: 200%;color:#1155cc\">\n",
    "$c_{h}\\frac{Q}{2}$  </span>\n",
    "  "
   ]
  },
  {
   "cell_type": "markdown",
   "metadata": {},
   "source": [
    "<span style=\"font-size: 140%;color:#1155cc\"> 3. Średnia roczna wielkość zamówień w roku w stosunku do stanów magazynowych</span>\n",
    "\n",
    "<span style=\"font-size: 200%;color:#1155cc\">\n",
    "$\\frac{R}{Q}$  </span>\n"
   ]
  },
  {
   "cell_type": "markdown",
   "metadata": {},
   "source": [
    "<span style=\"font-size: 140%;color:#1155cc\"> 3. Roczny koszt przygotowania zamówienia</span>\n",
    "\n",
    "Jak w magazynie jest dużo towaru to koszt zarządzania nim, również koszt przygotowania zamówienia jest tani. Gdy w magazynie nie ma towaru trzeba kombinować, zamawiac, pożyczać, koszt przygotowania przesyłki jest drogi. Wszystko wiec zalezy od proporcji <span style=\"font-size: 200%;color:#1155cc\">\n",
    "$\\frac{R}{Q}$  </span>\n",
    "\n",
    "Dla pojedynczej transakcji ilość w magazynie q1 jest ważna w porównaniu do wielkości tego zamówienia r1. Gdy r1>g1 stosunek r1/g1 przybiera wartość >1, co oznacz, że średni koszt przygotowania zamówienia co jest mnożony oprzez wartość większą niż 1.\n",
    "\n",
    "<span style=\"font-size: 120%;color:#1155cc\"> Roczny koszt przygotowania zamówienia:\n",
    "<span style=\"font-size: 200%;color:#1155cc\">\n",
    "$c_{o}\\frac{R}{Q}$  </span>\n",
    " \n",
    "Gdzie R/Q to stosunek wielkości zamówień do wielkości dostaw do magazynu. Jeżeli R>Q kompletowanie zamówień jest kłopotliwe przez co koszt realizacji zamówień jest wyższy.\n"
   ]
  },
  {
   "cell_type": "markdown",
   "metadata": {},
   "source": [
    "<span style=\"font-size: 140%;color:#1155cc\"> 4. Średnioroczny koszt zamówienia\n",
    "    \n",
    "<span style=\"font-size: 200%;color:#1155cc\">\n",
    "$c_{o}\\frac{R}{Q}$  </span>  \n",
    "\n",
    "Jednorazowy koszt przygotowania zamówienia 'co' razy stosunek wielkości zamówienia i stanu magazynowego: 'R/Q'.\n",
    "'Co' jest standardowym stałym kosztem kompletacji zamówienia.\n",
    "\n"
   ]
  },
  {
   "cell_type": "markdown",
   "metadata": {},
   "source": [
    "<span style=\"font-size: 140%;color:#1155cc\"> 5. Całkowity koszt średnioroczny </span> \n",
    "\n",
    "\n",
    "\n",
    "<span style=\"font-size: 200%;color:#1155cc\">\n",
    "$\n",
    "c_{h}\\frac{Q}{2} + c_{o}\\frac{R}{Q} \n",
    "$\n",
    " </span>    \n",
    "    \n",
    " Suma średnieorocznego kosztu zmiennego magazynowania i średniorocznego kosztu przygotowania zamówienia.\n",
    " Całkowity koszt roczny to funkcja, którą chcemy zminimalizować , wybierając odpowiednią wartość Q."
   ]
  },
  {
   "cell_type": "code",
   "execution_count": 3,
   "metadata": {},
   "outputs": [
    {
     "data": {
      "text/plain": [
       "7680.0"
      ]
     },
     "execution_count": 3,
     "metadata": {},
     "output_type": "execute_result"
    }
   ],
   "source": [
    "192000/25\n"
   ]
  },
  {
   "cell_type": "markdown",
   "metadata": {},
   "source": [
    "<span style=\"font-size: 240%;color:#3700cc\"> Przykład 1  </span>\n",
    "\n",
    "Detalista spodziewa się sprzedawać około 200 sztuk produktu rocznie. \n",
    "\n",
    "Przestrzeń magazynowa zajmowana w jego siedzibie przez jedną sztukę tego produktu kosztuje 20 £ rocznie.\n",
    "\n",
    "Jeśli koszt związany z zamówieniem wynosi 35 GBP za zamówienie, jaka jest ekonomiczna wielkość zamówienia, biorąc pod uwagę, że stopy procentowe mają pozostać bliskie 10% rocznie, a całkowity koszt jednej jednostki wynosi 100 GBP.\n",
    "\n",
    "<span style=\"font-size: 140%;color:#3700cc\">Ekonomiczna wielkość zamówienia (EOQ)</span>\n",
    "\n",
    "\n",
    "<span style=\"font-size: 180%;color:black\">\n",
    "\n",
    "\n",
    "\n",
    "$\n",
    "EOQ = \\sqrt{\\frac{2Rc_{o}}{c_{h}}}\n",
    "$    \n",
    "    "
   ]
  },
  {
   "cell_type": "code",
   "execution_count": null,
   "metadata": {},
   "outputs": [],
   "source": []
  },
  {
   "cell_type": "code",
   "execution_count": null,
   "metadata": {},
   "outputs": [],
   "source": []
  },
  {
   "cell_type": "markdown",
   "metadata": {},
   "source": [
    "\n",
    "\n",
    "\n",
    "<span style=\"font-size: 280%;color:black\">\n",
    "$\n",
    "EOQ = \\sqrt{\\frac{2Rc_{o}}{c_{h}}}\n",
    "$\n",
    "\n"
   ]
  },
  {
   "cell_type": "code",
   "execution_count": null,
   "metadata": {},
   "outputs": [],
   "source": []
  },
  {
   "cell_type": "markdown",
   "metadata": {},
   "source": [
    "Detalista spodziewa się sprzedawać około 200 sztuk produktu rocznie.\n",
    "R=200\n",
    "\n",
    "Stały koszt obsługi jednego zamówienia to 35 GBP czyli $c_{o}=35$\n",
    "\n",
    "Jednostkowy roczny koszt trzymania jednej sztuki produktu w magazynie wynosi 20 GBP \n",
    "Ponadto jedna sztuka produktu kosztuje 100 GBP a stopy procentowe w banku to 10%.\n",
    "W takim przez trzymanie sztuki produktu w magazynie przez rok, zamrażamy pieniądze na jej zakup 100 GBP co nas kosztuje utracone korzyści wysokości $100 \\times 0.1=10$ \n",
    "\n",
    "Więc $c_{h}=20+10$\n",
    "\n",
    "czyli $c_{h}=30$ rocznie na jedną sztukę magazynowanego produktu.\n",
    "\n",
    "Podstawiamy do wzoru na EOQ"
   ]
  },
  {
   "cell_type": "code",
   "execution_count": 1,
   "metadata": {},
   "outputs": [],
   "source": [
    "R  = 200\n",
    "co = 35\n",
    "ch = 30"
   ]
  },
  {
   "cell_type": "markdown",
   "metadata": {},
   "source": [
    "<span style=\"font-size: 180%;color:black\">\n",
    "$\n",
    "EOQ = \\sqrt{\\frac{2Rc_{o}}{c_{h}}}\n",
    "$  "
   ]
  },
  {
   "cell_type": "code",
   "execution_count": 2,
   "metadata": {},
   "outputs": [
    {
     "name": "stdout",
     "output_type": "stream",
     "text": [
      "EOQ: 22.0\n"
     ]
    }
   ],
   "source": [
    "EOQ = ((2*R*co)/(ch))**0.5\n",
    "print(\"EOQ:\", round(EOQ, 0))"
   ]
  },
  {
   "cell_type": "markdown",
   "metadata": {},
   "source": [
    "Ale ponieważ musimy zamówić całą liczbę jednostek, mamy to:\n",
    "$\n",
    "EOQ = 22\n",
    "$\n",
    "\n",
    "Optymalna wielkośc jednorazowego zamówienia wynosi 22 sztuki produktu.\n",
    "$ Q=22  $"
   ]
  },
  {
   "cell_type": "code",
   "execution_count": 3,
   "metadata": {},
   "outputs": [],
   "source": [
    "Q=22"
   ]
  },
  {
   "cell_type": "markdown",
   "metadata": {},
   "source": [
    "<span style=\"font-size: 140%;color:#3700cc\">\n",
    "Całkowity roczny koszt pracy magazynu\n",
    "\n",
    "</span>\n",
    "\n",
    "\n",
    "\n",
    "\n",
    "\n",
    "<span style=\"font-size: 200%;color:#1155cc\">\n",
    "$\n",
    "KR = c_{h}\\frac{Q}{2} + c_{o}\\frac{R}{Q} \n",
    "$\n",
    " </span>  \n"
   ]
  },
  {
   "cell_type": "code",
   "execution_count": 4,
   "metadata": {},
   "outputs": [
    {
     "name": "stdout",
     "output_type": "stream",
     "text": [
      "Koszty roczne: 648.0\n"
     ]
    }
   ],
   "source": [
    "KR = (ch*(Q/2))+(co*(R/Q))\n",
    "print(\"Koszty roczne:\", round(KR, 0))"
   ]
  },
  {
   "cell_type": "markdown",
   "metadata": {},
   "source": [
    "Co by się stało gdybyśmy zaczeli zamawiac po 20 sztuk produktów zamiast optymalnego 22 sztuki?"
   ]
  },
  {
   "cell_type": "code",
   "execution_count": 5,
   "metadata": {},
   "outputs": [],
   "source": [
    "Q=15"
   ]
  },
  {
   "cell_type": "code",
   "execution_count": 6,
   "metadata": {},
   "outputs": [
    {
     "name": "stdout",
     "output_type": "stream",
     "text": [
      "Koszty roczne dla zamówień 15 sztuk: 692.0\n"
     ]
    }
   ],
   "source": [
    "KR2 = (ch*(Q/2))+(co*(R/Q))\n",
    "print(\"Koszty roczne dla zamówień 15 sztuk:\", round(KR2, 0))"
   ]
  },
  {
   "cell_type": "code",
   "execution_count": 7,
   "metadata": {},
   "outputs": [
    {
     "name": "stdout",
     "output_type": "stream",
     "text": [
      "Koszt roczny za odejście od wielkości zamówień EOQ: 43.0\n"
     ]
    }
   ],
   "source": [
    "print(\"Koszt roczny za odejście od wielkości zamówień EOQ:\", round(KR2-KR, 0))"
   ]
  },
  {
   "cell_type": "markdown",
   "metadata": {},
   "source": [
    "EOQ daje nam przybliżone pojęcie, ile powinniśmy zamawiać za każdym razem. Przecież wszystkie nasze dane liczbowe dotyczące kosztów (takie jak koszt zamówienia) prawdopodobnie będą niedokładne. Jest również wysoce nieprawdopodobne, że będziemy używać przedmiotów w stałym tempie (zgodnie z założeniem formuły EOQ). Niemniej jednak model EOQ zapewnia systematyczny i ilościowy sposób na uzyskanie pojęcia, ile należy zamawiać za każdym razem. Jeśli odejdziemy daleko od tej wartości, najprawdopodobniej zapłacimy dużą karę kosztową."
   ]
  },
  {
   "cell_type": "markdown",
   "metadata": {},
   "source": [
    "<span style=\"font-size: 180%;color:black\">\n",
    "$\n",
    "c_{h} =k_{j}\\times{0.075} + k_{j}\\times{0.12} + k_{j}\\times{0.02}\n",
    "$"
   ]
  },
  {
   "cell_type": "code",
   "execution_count": 4,
   "metadata": {},
   "outputs": [
    {
     "data": {
      "text/plain": [
       "0.215"
      ]
     },
     "execution_count": 4,
     "metadata": {},
     "output_type": "execute_result"
    }
   ],
   "source": [
    "0.075+0.02+0.12"
   ]
  },
  {
   "cell_type": "code",
   "execution_count": 2,
   "metadata": {},
   "outputs": [],
   "source": [
    "k=40"
   ]
  },
  {
   "cell_type": "code",
   "execution_count": 3,
   "metadata": {},
   "outputs": [
    {
     "data": {
      "text/plain": [
       "8.6"
      ]
     },
     "execution_count": 3,
     "metadata": {},
     "output_type": "execute_result"
    }
   ],
   "source": [
    "k*0.075+k*0.12+k*0.02"
   ]
  },
  {
   "cell_type": "markdown",
   "metadata": {},
   "source": [
    "# <span style=\"font-size: 240%;color:#3700cc\"> Przykład 2 </span>\n",
    "\n",
    "Firma zużywa 12 000 komponentów rocznie, po 5 pensów każdy. Oszacowano, że koszty zamówienia wynoszą 5 GBP na zamówienie, a koszt magazynowania szacuje się na 20% kosztu komponentu rocznie.\n",
    "\n",
    "Zauważ tutaj, że jest to rodzaj taniego przedmiotu, który jest typowym przedmiotem nieobjętym JIT.\n",
    "\n",
    "$R = 12000$\n",
    "\n",
    "Koszt realizacji zamówienia\n",
    "$c_{o}=5$\n",
    "\n",
    "Koszt magazynowania szacuje się na 20% kosztu komponentu rocznie:\n",
    "\n",
    "${5}\\times{0.20}=1.00$\n",
    "\n",
    "Koszt roczny zamrożenia pieniedzy na zakup sztuki przy stopach procentowych rocznych 10%\n",
    "\n",
    "${5}\\times{0.10}=0.5$"
   ]
  },
  {
   "cell_type": "code",
   "execution_count": 7,
   "metadata": {},
   "outputs": [
    {
     "data": {
      "text/plain": [
       "0.5"
      ]
     },
     "execution_count": 7,
     "metadata": {},
     "output_type": "execute_result"
    }
   ],
   "source": [
    "5*0.1"
   ]
  },
  {
   "cell_type": "markdown",
   "metadata": {},
   "source": [
    "<span style=\"font-size: 240%;color:red\"> Tu jest do poprawienia wartość ch"
   ]
  },
  {
   "cell_type": "code",
   "execution_count": 8,
   "metadata": {},
   "outputs": [
    {
     "data": {
      "text/plain": [
       "0.010000000000000002"
      ]
     },
     "execution_count": 8,
     "metadata": {},
     "output_type": "execute_result"
    }
   ],
   "source": [
    "0.05*0.2"
   ]
  },
  {
   "cell_type": "code",
   "execution_count": 22,
   "metadata": {},
   "outputs": [],
   "source": [
    "R  = 6240\n",
    "co = 7.2\n",
    "ch = 8.6"
   ]
  },
  {
   "cell_type": "markdown",
   "metadata": {},
   "source": [
    "<span style=\"font-size: 180%;color:black\">\n",
    "$\n",
    "Q = \\sqrt{\\frac{2Rc_{o}}{c_{h}}}\n",
    "$  "
   ]
  },
  {
   "cell_type": "code",
   "execution_count": 23,
   "metadata": {},
   "outputs": [
    {
     "name": "stdout",
     "output_type": "stream",
     "text": [
      "EOQ: 102.0\n"
     ]
    }
   ],
   "source": [
    "EOQ = ((2*R*co)/(ch))**0.5\n",
    "print(\"EOQ:\", round(EOQ, 0))"
   ]
  },
  {
   "cell_type": "markdown",
   "metadata": {},
   "source": [
    "Ale ponieważ musimy zamówić całą liczbę jednostek, mamy to:\n",
    "$\n",
    "EOQ = 3464\n",
    "$\n",
    "\n",
    "Optymalna wielkośc jednorazowego zamówienia wynosi 3464 sztuki produktu.\n",
    "$ Q=3464  $"
   ]
  },
  {
   "cell_type": "code",
   "execution_count": 24,
   "metadata": {},
   "outputs": [],
   "source": [
    "Q=EOQ"
   ]
  },
  {
   "cell_type": "markdown",
   "metadata": {},
   "source": [
    "<span style=\"font-size: 140%;color:#3700cc\">\n",
    "Całkowity roczny koszt pracy magazynu\n",
    "\n",
    "</span>\n",
    "\n",
    "\n",
    "\n",
    "\n",
    "\n",
    "<span style=\"font-size: 200%;color:#1155cc\">\n",
    "$\n",
    "KR = c_{h}\\frac{Q}{2} + c_{o}\\frac{R}{Q} \n",
    "$\n",
    " </span>  \n"
   ]
  },
  {
   "cell_type": "markdown",
   "metadata": {},
   "source": [
    "<span style=\"font-size: 180%;color:black\">\n",
    "$\n",
    "KR = c_{h}\\frac{Q}{2} + c_{o}\\frac{R}{Q} \n",
    "$\n",
    " </span>  "
   ]
  },
  {
   "cell_type": "code",
   "execution_count": 26,
   "metadata": {},
   "outputs": [
    {
     "name": "stdout",
     "output_type": "stream",
     "text": [
      "Koszty roczne: 879.0\n"
     ]
    }
   ],
   "source": [
    "KR = (ch*(Q/2))+(co*(R/Q))\n",
    "print(\"Koszty roczne:\", round(KR, 0))"
   ]
  },
  {
   "cell_type": "markdown",
   "metadata": {},
   "source": [
    "Co by się stało gdybyśmy zaczeli zamawiac po 1500 sztuk produktów zamiast optymalnego 3464 sztuki?"
   ]
  },
  {
   "cell_type": "code",
   "execution_count": 27,
   "metadata": {},
   "outputs": [],
   "source": [
    "Q=520"
   ]
  },
  {
   "cell_type": "code",
   "execution_count": 30,
   "metadata": {},
   "outputs": [
    {
     "name": "stdout",
     "output_type": "stream",
     "text": [
      "Koszty roczne: 2322.0\n"
     ]
    }
   ],
   "source": [
    "KR2 = (ch*(Q/2))+(co*(R/Q))\n",
    "print(\"Koszty roczne:\", round(KR2, 0))"
   ]
  },
  {
   "cell_type": "code",
   "execution_count": 29,
   "metadata": {},
   "outputs": [
    {
     "name": "stdout",
     "output_type": "stream",
     "text": [
      "Koszt roczny za odejście od wielkości zamówień EOQ: 1443.0\n"
     ]
    }
   ],
   "source": [
    "print(\"Koszt roczny za odejście od wielkości zamówień EOQ:\", round(KR2-KR, 0))"
   ]
  },
  {
   "cell_type": "markdown",
   "metadata": {},
   "source": [
    "<span style=\"font-size: 140%;color:#3700cc\"> Jeśli zamówienia muszą być składane na 1, 2, 3, 4, 6 lub 12 miesięcznych partii, jaki rozmiar zamówienia byś polecił i kiedy?\n",
    "    \n",
    "Tutaj nie mamy nieograniczonego wyboru ilości zamówienia jak zakłada formuła EOQ.\n",
    "Powstaje obowiązek zamawiania detali raz w miesiącu.\n",
    "Musimy przejść od podstawy ilościowej do podstawy czasu."
   ]
  },
  {
   "cell_type": "markdown",
   "metadata": {},
   "source": [
    "Oczywiście, gdy zamawiamy partię, potrzebujemy tylko zamówienia wystarczającego na pokrycie liczby komponentów, których będziemy używać do następnej partii - jeśli zamówimy mniej niż ta, zabraknie nam komponentów, a jeśli zamówimy więcej, to będziemy niepotrzebnie ponosić koszty przechowywania zapasów. \n",
    "\n",
    "W poprzednim przykładzie zużywaliśmy 12000 detali rocznie więc miesięcznie zużywamy 1000 detali.\n",
    "\n",
    "Znając wielkość zamówienia Q, możemy obliczyć całkowity roczny koszt każdej z różnych opcji i wybrać najtańszą opcję.\n",
    "Zamówienia miesięczne:"
   ]
  },
  {
   "cell_type": "code",
   "execution_count": 30,
   "metadata": {},
   "outputs": [],
   "source": [
    "Qm1=1000\n",
    "Qm2=2000\n",
    "Qm3=3000\n",
    "Qm4=4000\n",
    "Qm6=6000\n",
    "Qm12=12000"
   ]
  },
  {
   "cell_type": "code",
   "execution_count": 32,
   "metadata": {},
   "outputs": [
    {
     "name": "stdout",
     "output_type": "stream",
     "text": [
      "Koszty roczne przy zamówieniach 1 m-c: 65.0\n",
      "Koszty roczne przy zamówieniach 2 m-c: 40.0\n",
      "Koszty roczne przy zamówieniach 3 m-c: 35.0\n",
      "Koszty roczne przy zamówieniach 4 m-c: 35.0\n",
      "Koszty roczne przy zamówieniach 5 m-c: 40.0\n",
      "Koszty roczne przy zamówieniach 12 m-c: 65.0\n"
     ]
    }
   ],
   "source": [
    "KRm1 = (ch*(Qm1/2))+(co*(R/Qm1))\n",
    "KRm2 = (ch*(Qm2/2))+(co*(R/Qm2))\n",
    "KRm3 = (ch*(Qm3/2))+(co*(R/Qm3))\n",
    "KRm4 = (ch*(Qm4/2))+(co*(R/Qm4))\n",
    "KRm6 = (ch*(Qm6/2))+(co*(R/Qm6))\n",
    "KRm12 = (ch*(Qm12/2))+(co*(R/Qm12))\n",
    "print(\"Koszty roczne przy zamówieniach 1 m-c:\", round(KRm1, 0))\n",
    "print(\"Koszty roczne przy zamówieniach 2 m-c:\", round(KRm2, 0))\n",
    "print(\"Koszty roczne przy zamówieniach 3 m-c:\", round(KRm3, 0))\n",
    "print(\"Koszty roczne przy zamówieniach 4 m-c:\", round(KRm4, 0))\n",
    "print(\"Koszty roczne przy zamówieniach 5 m-c:\", round(KRm6, 0))\n",
    "print(\"Koszty roczne przy zamówieniach 12 m-c:\", round(KRm12, 0))\n"
   ]
  },
  {
   "cell_type": "markdown",
   "metadata": {},
   "source": [
    "Dlatego też najtańszą opcją jest wybór 3-miesięcznej lub 4-miesięcznej partii. Ilości zamówień znajdujące co 3 i co 4 miesiące są wartościami najbliższymi ilości optymalnych zamówień tzn. 3464.0. W ten sposób możemy wskazać gdzie jest obszar optymalny. "
   ]
  },
  {
   "cell_type": "markdown",
   "metadata": {},
   "source": [
    "<span style=\"font-size: 140%;color:#3700cc\"> Jeśli dostawca oferuje następującą strukturę rabatów ilościowych, jaki wpływ będzie to miało na wielkość zamówienia?"
   ]
  },
  {
   "cell_type": "code",
   "execution_count": 40,
   "metadata": {},
   "outputs": [
    {
     "name": "stdout",
     "output_type": "stream",
     "text": [
      "+----------------------+--------------------+\n",
      "| Wielkość zamówienia: | Rabat na jednostkę |\n",
      "+----------------------+--------------------+\n",
      "|       0-4999 £       |        0.05        |\n",
      "+----------------------+--------------------+\n",
      "|     5000-9 999 £     |     0.05 - 5%      |\n",
      "+----------------------+--------------------+\n",
      "|   10 000-19 999 £    |     0.05 - 10%     |\n",
      "+----------------------+--------------------+\n",
      "|    20000 i więcej    |     0.05 - 15%     |\n",
      "+----------------------+--------------------+\n"
     ]
    }
   ],
   "source": [
    "from beautifultable import BeautifulTable\n",
    "\n",
    "table = BeautifulTable()\n",
    "table.column_headers = [\"Wielkość zamówienia:\", \"Rabat na jednostkę\"]\n",
    "table.append_row([\"0-4999 £\", 0.05])\n",
    "table.append_row([\"5000-9 999 £\", \"0.05 - 5%\"])\n",
    "table.append_row([\"10 000-19 999 £\",\"0.05 - 10%\" ])\n",
    "table.append_row([\"20000 i więcej\",\"0.05 - 15%\" ])\n",
    "print(table)"
   ]
  },
  {
   "cell_type": "markdown",
   "metadata": {},
   "source": [
    "Na przykład, gdybyśmy zamówili 6000 sztuk, zapłacilibyśmy tylko 0,95 (0,05) za każdą z 6000 sztuk, czyli rabat byłby udzielony na całe zamówienie.\n",
    "\n",
    "6000 sztuk razy 5 = 30000 a z rabatem 0.05 na sztuce to już tylko 29700"
   ]
  },
  {
   "cell_type": "code",
   "execution_count": 48,
   "metadata": {},
   "outputs": [
    {
     "data": {
      "text/plain": [
       "29700.0"
      ]
     },
     "execution_count": 48,
     "metadata": {},
     "output_type": "execute_result"
    }
   ],
   "source": [
    "6000*5 - (6000*0.05)"
   ]
  },
  {
   "cell_type": "markdown",
   "metadata": {},
   "source": [
    "### Trzeba ponownie obliczyć wszystkie możliwości\n",
    "R i $c_{o}$ pozostają niezmienione\n",
    "\n",
    "zmienia sie Q i $c_{h}$"
   ]
  },
  {
   "cell_type": "code",
   "execution_count": 50,
   "metadata": {},
   "outputs": [
    {
     "data": {
      "text/plain": [
       "4500.0"
      ]
     },
     "execution_count": 50,
     "metadata": {},
     "output_type": "execute_result"
    }
   ],
   "source": [
    "Qm1=1000\n",
    "fQ = 1000*4.5\n",
    "fQ\n"
   ]
  },
  {
   "cell_type": "markdown",
   "metadata": {},
   "source": [
    "Koszt magazynowania szacuje się na 20% kosztu komponentu rocznie:\n",
    "\n",
    "${4.5}\\times{0.20}=0.9$\n",
    "\n",
    "Koszt roczny zamrożenia pieniedzy na zakup sztuki przy stopach procentowych rocznych 10%\n",
    "\n",
    "${4.5}\\times{0.10}=0.45$"
   ]
  },
  {
   "cell_type": "markdown",
   "metadata": {},
   "source": [
    "http://people.brunel.ac.uk/~mastjjb/jeb/or/invent.html"
   ]
  },
  {
   "cell_type": "code",
   "execution_count": 5,
   "metadata": {},
   "outputs": [
    {
     "data": {
      "text/plain": [
       "0.45"
      ]
     },
     "execution_count": 5,
     "metadata": {},
     "output_type": "execute_result"
    }
   ],
   "source": [
    "4.5*0.1"
   ]
  },
  {
   "cell_type": "code",
   "execution_count": null,
   "metadata": {},
   "outputs": [],
   "source": [
    "Qm2=2000\n",
    "Qm3=3000\n",
    "Qm4=4000\n",
    "Qm6=6000\n",
    "Qm12=12000"
   ]
  },
  {
   "cell_type": "code",
   "execution_count": 32,
   "metadata": {},
   "outputs": [
    {
     "name": "stdout",
     "output_type": "stream",
     "text": [
      "Koszty roczne przy zamówieniach 1 m-c: 65.0\n",
      "Koszty roczne przy zamówieniach 2 m-c: 40.0\n",
      "Koszty roczne przy zamówieniach 3 m-c: 35.0\n",
      "Koszty roczne przy zamówieniach 4 m-c: 35.0\n",
      "Koszty roczne przy zamówieniach 5 m-c: 40.0\n",
      "Koszty roczne przy zamówieniach 12 m-c: 65.0\n"
     ]
    }
   ],
   "source": [
    "KRm1 = (ch*(Qm1/2))+(co*(R/Qm1))\n",
    "KRm2 = (ch*(Qm2/2))+(co*(R/Qm2))\n",
    "KRm3 = (ch*(Qm3/2))+(co*(R/Qm3))\n",
    "KRm4 = (ch*(Qm4/2))+(co*(R/Qm4))\n",
    "KRm6 = (ch*(Qm6/2))+(co*(R/Qm6))\n",
    "KRm12 = (ch*(Qm12/2))+(co*(R/Qm12))\n",
    "print(\"Koszty roczne przy zamówieniach 1 m-c:\", round(KRm1, 0))\n",
    "print(\"Koszty roczne przy zamówieniach 2 m-c:\", round(KRm2, 0))\n",
    "print(\"Koszty roczne przy zamówieniach 3 m-c:\", round(KRm3, 0))\n",
    "print(\"Koszty roczne przy zamówieniach 4 m-c:\", round(KRm4, 0))\n",
    "print(\"Koszty roczne przy zamówieniach 5 m-c:\", round(KRm6, 0))\n",
    "print(\"Koszty roczne przy zamówieniach 12 m-c:\", round(KRm12, 0))\n"
   ]
  },
  {
   "cell_type": "markdown",
   "metadata": {},
   "source": [
    "Dlatego też najtańszą opcją jest wybór 3-miesięcznej lub 4-miesięcznej partii. Ilości zamówień znajdujące co 3 i co 4 miesiące są wartościami najbliższymi ilości optymalnych zamówień tzn. 3464.0. W ten sposób możemy wskazać gdzie jest obszar optymalny. "
   ]
  },
  {
   "cell_type": "code",
   "execution_count": null,
   "metadata": {},
   "outputs": [],
   "source": []
  }
 ],
 "metadata": {
  "kernelspec": {
   "display_name": "Python 3",
   "language": "python",
   "name": "python3"
  },
  "language_info": {
   "codemirror_mode": {
    "name": "ipython",
    "version": 3
   },
   "file_extension": ".py",
   "mimetype": "text/x-python",
   "name": "python",
   "nbconvert_exporter": "python",
   "pygments_lexer": "ipython3",
   "version": "3.7.4"
  }
 },
 "nbformat": 4,
 "nbformat_minor": 2
}
